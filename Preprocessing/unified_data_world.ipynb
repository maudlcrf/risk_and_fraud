{
 "cells": [
  {
   "cell_type": "code",
   "execution_count": 5,
   "metadata": {},
   "outputs": [
    {
     "name": "stdout",
     "output_type": "stream",
     "text": [
      "Dataset with the least rows: unemployment\n",
      "Merged dataset saved successfully as 'world_data.csv'\n"
     ]
    }
   ],
   "source": [
    "import pandas as pd\n",
    "\n",
    "# Define file paths (excluding unemployment_cost_index)\n",
    "filepaths = {\n",
    "    'unemployment': '../World_Datasets/Unemployment.csv',\n",
    "    'current_account_balance': '../World_Datasets/Current_Account_Balance.csv',\n",
    "    'exchange_rate_usd': '../World_Datasets/Exchange_Rate_USD.csv',\n",
    "    'gdp': '../World_Datasets/GDP.csv',\n",
    "    'government_debt': '../World_Datasets/Government_Debt.csv',\n",
    "    'inflation': '../World_Datasets/Inflation.csv',\n",
    "    'total_reserves': '../World_Datasets/Total_Reserves.csv'}\n",
    "\n",
    "# Load all datasets into a dictionary of DataFrames\n",
    "dataframes = {}\n",
    "for name, filepath in filepaths.items():\n",
    "    df = pd.read_csv(filepath)\n",
    "    \n",
    "    # Remove 'Series Name' and 'Series Code' columns if they exist\n",
    "    df = df.drop(columns=['Series Name', 'Series Code'], errors='ignore')\n",
    "    \n",
    "    # Rename columns to include the dataset name and year\n",
    "    df.columns = [\n",
    "        col if col == 'Country Name' else f\"{name}_{col.split(' ')[0]}\" if '[' in col else f\"{name}_{col}\" \n",
    "        for col in df.columns]\n",
    "    # Store the processed DataFrame\n",
    "    dataframes[name] = df\n",
    "\n",
    "# Identify the dataset with the least rows\n",
    "least_rows_key = min(dataframes, key=lambda k: len(dataframes[k]))\n",
    "print(f\"Dataset with the least rows: {least_rows_key}\")\n",
    "\n",
    "# Use the dataset with the least rows as the base\n",
    "merged_df = dataframes[least_rows_key]\n",
    "\n",
    "# Perform inner joins with all other datasets on the 'Country Name' column\n",
    "for name, df in dataframes.items():\n",
    "    if name != least_rows_key:\n",
    "        merged_df = pd.merge(merged_df, df, on=f'Country Name', how='inner')\n",
    "\n",
    "# Keep only one 'Country Code' column\n",
    "country_code_columns = [col for col in merged_df.columns if 'Country Code' in col]\n",
    "if country_code_columns:\n",
    "    merged_df = merged_df.drop(columns=country_code_columns[1:], errors='ignore')  # Drop duplicates, keep the first\n",
    "\n",
    "# Save the merged dataset to a new CSV file\n",
    "merged_df.to_csv('../World_Datasets/world_data.csv', index=False)\n",
    "\n",
    "print(\"Merged dataset saved successfully as 'world_data.csv'\")\n"
   ]
  }
 ],
 "metadata": {
  "kernelspec": {
   "display_name": "base",
   "language": "python",
   "name": "python3"
  },
  "language_info": {
   "codemirror_mode": {
    "name": "ipython",
    "version": 3
   },
   "file_extension": ".py",
   "mimetype": "text/x-python",
   "name": "python",
   "nbconvert_exporter": "python",
   "pygments_lexer": "ipython3",
   "version": "3.11.7"
  },
  "orig_nbformat": 4
 },
 "nbformat": 4,
 "nbformat_minor": 2
}
