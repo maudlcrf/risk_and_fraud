{
 "cells": [
  {
   "cell_type": "code",
   "execution_count": 62,
   "metadata": {},
   "outputs": [
    {
     "name": "stdout",
     "output_type": "stream",
     "text": [
      "Dataset with the least rows: fed_fund_rate\n",
      "Merged dataset saved successfully as 'all_data.csv'!\n"
     ]
    }
   ],
   "source": [
    "import pandas as pd\n",
    "\n",
    "# Define file paths (excluding unemployment_cost_index)\n",
    "filepaths = {\n",
    "    'unemployment_rate': '../sources/unemployment_rate_quarterly.csv',\n",
    "    'producer_price_index': '../sources/producer_price_index_quarterly.csv',\n",
    "    'PCECTPI': '../sources/PCECTPI_quarterly.csv',\n",
    "    'gdp_qoq_change': '../sources/gdp_qoq_change_quarterly.csv',\n",
    "    'fed_fund_rate': '../sources/fed_fund_rate_quarterly.csv'\n",
    "}\n",
    "\n",
    "# Load all datasets into a dictionary of DataFrames\n",
    "dataframes = {name: pd.read_csv(filepath) for name, filepath in filepaths.items()}\n",
    "\n",
    "# Identify the dataset with the least rows\n",
    "least_rows_key = min(dataframes, key=lambda k: len(dataframes[k]))\n",
    "print(f\"Dataset with the least rows: {least_rows_key}\")\n",
    "\n",
    "# Use the dataset with the least rows as the base\n",
    "merged_df = dataframes[least_rows_key]\n",
    "\n",
    "# Perform inner joins with all other datasets on the 'quarter' column\n",
    "for name, df in dataframes.items():\n",
    "    if name != least_rows_key:\n",
    "        merged_df = pd.merge(merged_df, df, on='quarter', how='inner')\n",
    "\n",
    "# Save the merged dataset to a new CSV file\n",
    "merged_df.to_csv('../sources/all_data.csv', index=False)\n",
    "\n",
    "print(\"Merged dataset saved successfully as 'all_data.csv'!\")\n"
   ]
  }
 ],
 "metadata": {
  "kernelspec": {
   "display_name": "base",
   "language": "python",
   "name": "python3"
  },
  "language_info": {
   "codemirror_mode": {
    "name": "ipython",
    "version": 3
   },
   "file_extension": ".py",
   "mimetype": "text/x-python",
   "name": "python",
   "nbconvert_exporter": "python",
   "pygments_lexer": "ipython3",
   "version": "3.11.7"
  },
  "orig_nbformat": 4
 },
 "nbformat": 4,
 "nbformat_minor": 2
}
