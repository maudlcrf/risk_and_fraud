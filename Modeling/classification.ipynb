{
 "cells": [
  {
   "cell_type": "markdown",
   "metadata": {},
   "source": [
    "# Imports and Cleaning"
   ]
  },
  {
   "cell_type": "code",
   "execution_count": 68,
   "metadata": {},
   "outputs": [],
   "source": [
    "import pandas as pd\n",
    "import numpy as np\n",
    "import plotly.express as px\n",
    "import re\n",
    "import matplotlib.pyplot as plt\n",
    "import seaborn as sns"
   ]
  },
  {
   "cell_type": "code",
   "execution_count": 69,
   "metadata": {},
   "outputs": [],
   "source": [
    "import warnings\n",
    "from sklearn.exceptions import DataConversionWarning, ConvergenceWarning, UndefinedMetricWarning\n",
    "\n",
    "# Suppress specific warnings\n",
    "warnings.filterwarnings(\"ignore\", category=DataConversionWarning)\n",
    "warnings.filterwarnings(\"ignore\", category=FutureWarning)\n",
    "warnings.filterwarnings(\"ignore\", category=ConvergenceWarning)\n",
    "warnings.filterwarnings(\"ignore\", category=UndefinedMetricWarning)"
   ]
  },
  {
   "cell_type": "code",
   "execution_count": 70,
   "metadata": {},
   "outputs": [],
   "source": [
    "from sklearn.model_selection import train_test_split\n",
    "from sklearn.linear_model import LogisticRegression  \n",
    "from sklearn.linear_model import RidgeClassifier  \n",
    "from sklearn.naive_bayes import GaussianNB  \n",
    "from sklearn.svm import SVC  \n",
    "from sklearn.metrics import classification_report"
   ]
  },
  {
   "cell_type": "code",
   "execution_count": 71,
   "metadata": {},
   "outputs": [],
   "source": [
    "from termcolor import colored as cl  # text customization\n",
    "from sklearn.metrics import roc_auc_score  # AUC metric\n",
    "from sklearn.linear_model import LogisticRegression  # Logistic Regression for classification\n",
    "from sklearn.linear_model import RidgeClassifier  # Ridge Classifier for classification\n",
    "from sklearn.naive_bayes import GaussianNB  # Naive Bayes for classification\n",
    "from sklearn.svm import SVC  # Support Vector Classifier\n",
    "from sklearn.preprocessing import label_binarize #as we have multi-class classification"
   ]
  },
  {
   "cell_type": "code",
   "execution_count": 72,
   "metadata": {},
   "outputs": [],
   "source": [
    "#for random state (to have it consistent throughout the model)\n",
    "seed = 9"
   ]
  },
  {
   "cell_type": "code",
   "execution_count": 73,
   "metadata": {},
   "outputs": [],
   "source": [
    "data = pd.read_csv(\"../World_Datasets/final_dataset_world.csv\")"
   ]
  },
  {
   "cell_type": "code",
   "execution_count": 74,
   "metadata": {},
   "outputs": [
    {
     "data": {
      "text/html": [
       "<div>\n",
       "<style scoped>\n",
       "    .dataframe tbody tr th:only-of-type {\n",
       "        vertical-align: middle;\n",
       "    }\n",
       "\n",
       "    .dataframe tbody tr th {\n",
       "        vertical-align: top;\n",
       "    }\n",
       "\n",
       "    .dataframe thead th {\n",
       "        text-align: right;\n",
       "    }\n",
       "</style>\n",
       "<table border=\"1\" class=\"dataframe\">\n",
       "  <thead>\n",
       "    <tr style=\"text-align: right;\">\n",
       "      <th></th>\n",
       "      <th>Country</th>\n",
       "      <th>S&amp;P Rating</th>\n",
       "      <th>Country Name</th>\n",
       "      <th>country_code</th>\n",
       "      <th>unemployment_2000</th>\n",
       "      <th>unemployment_2014</th>\n",
       "      <th>unemployment_2015</th>\n",
       "      <th>unemployment_2016</th>\n",
       "      <th>unemployment_2017</th>\n",
       "      <th>unemployment_2018</th>\n",
       "      <th>unemployment_2019</th>\n",
       "      <th>unemployment_2020</th>\n",
       "      <th>unemployment_2021</th>\n",
       "      <th>unemployment_2022</th>\n",
       "      <th>unemployment_2023</th>\n",
       "      <th>current_account_balance_1990</th>\n",
       "      <th>current_account_balance_2000</th>\n",
       "      <th>current_account_balance_2014</th>\n",
       "      <th>current_account_balance_2015</th>\n",
       "      <th>current_account_balance_2016</th>\n",
       "      <th>current_account_balance_2017</th>\n",
       "      <th>current_account_balance_2018</th>\n",
       "      <th>current_account_balance_2019</th>\n",
       "      <th>current_account_balance_2020</th>\n",
       "      <th>current_account_balance_2021</th>\n",
       "      <th>current_account_balance_2022</th>\n",
       "      <th>current_account_balance_2023</th>\n",
       "      <th>exchange_rate_usd_1990</th>\n",
       "      <th>exchange_rate_usd_2000</th>\n",
       "      <th>exchange_rate_usd_2014</th>\n",
       "      <th>exchange_rate_usd_2015</th>\n",
       "      <th>exchange_rate_usd_2016</th>\n",
       "      <th>exchange_rate_usd_2017</th>\n",
       "      <th>exchange_rate_usd_2018</th>\n",
       "      <th>exchange_rate_usd_2019</th>\n",
       "      <th>exchange_rate_usd_2020</th>\n",
       "      <th>exchange_rate_usd_2021</th>\n",
       "      <th>exchange_rate_usd_2022</th>\n",
       "      <th>exchange_rate_usd_2023</th>\n",
       "      <th>gdp_1990</th>\n",
       "      <th>gdp_2000</th>\n",
       "      <th>gdp_2014</th>\n",
       "      <th>gdp_2015</th>\n",
       "      <th>gdp_2016</th>\n",
       "      <th>gdp_2017</th>\n",
       "      <th>gdp_2018</th>\n",
       "      <th>gdp_2019</th>\n",
       "      <th>gdp_2020</th>\n",
       "      <th>gdp_2021</th>\n",
       "      <th>gdp_2022</th>\n",
       "      <th>gdp_2023</th>\n",
       "      <th>inflation_1990</th>\n",
       "      <th>inflation_2000</th>\n",
       "      <th>inflation_2014</th>\n",
       "      <th>inflation_2015</th>\n",
       "      <th>inflation_2016</th>\n",
       "      <th>inflation_2017</th>\n",
       "      <th>inflation_2018</th>\n",
       "      <th>inflation_2019</th>\n",
       "      <th>inflation_2020</th>\n",
       "      <th>inflation_2021</th>\n",
       "      <th>inflation_2022</th>\n",
       "      <th>inflation_2023</th>\n",
       "      <th>total_reserves_1990</th>\n",
       "      <th>total_reserves_2000</th>\n",
       "      <th>total_reserves_2014</th>\n",
       "      <th>total_reserves_2015</th>\n",
       "      <th>total_reserves_2016</th>\n",
       "      <th>total_reserves_2017</th>\n",
       "      <th>total_reserves_2018</th>\n",
       "      <th>total_reserves_2019</th>\n",
       "      <th>total_reserves_2020</th>\n",
       "      <th>total_reserves_2021</th>\n",
       "      <th>total_reserves_2022</th>\n",
       "      <th>total_reserves_2023</th>\n",
       "      <th>Unnamed: 73</th>\n",
       "      <th>value_counts</th>\n",
       "    </tr>\n",
       "  </thead>\n",
       "  <tbody>\n",
       "    <tr>\n",
       "      <th>0</th>\n",
       "      <td>Australia</td>\n",
       "      <td>AAA</td>\n",
       "      <td>Australia</td>\n",
       "      <td>AUS</td>\n",
       "      <td>6.288000</td>\n",
       "      <td>6.078000</td>\n",
       "      <td>6.055000</td>\n",
       "      <td>5.711000</td>\n",
       "      <td>5.592000</td>\n",
       "      <td>5.300000</td>\n",
       "      <td>5.159000</td>\n",
       "      <td>6.456000</td>\n",
       "      <td>5.116000</td>\n",
       "      <td>3.701000</td>\n",
       "      <td>3.667000</td>\n",
       "      <td>-4.987491e+00</td>\n",
       "      <td>-3.721401e+00</td>\n",
       "      <td>-3.054734e+00</td>\n",
       "      <td>-4.229028e+00</td>\n",
       "      <td>-3.440490e+00</td>\n",
       "      <td>-2.722911e+00</td>\n",
       "      <td>-2.233402e+00</td>\n",
       "      <td>3.501218e-01</td>\n",
       "      <td>2.330931e+00</td>\n",
       "      <td>3.137209e+00</td>\n",
       "      <td>8.453239e-01</td>\n",
       "      <td>2.547373e-01</td>\n",
       "      <td>1.281057e+00</td>\n",
       "      <td>1.724827e+00</td>\n",
       "      <td>1.109363e+00</td>\n",
       "      <td>1.331090e+00</td>\n",
       "      <td>1.345214e+00</td>\n",
       "      <td>1.304758e+00</td>\n",
       "      <td>1.338412e+00</td>\n",
       "      <td>1.438507e+00</td>\n",
       "      <td>1.453085e+00</td>\n",
       "      <td>1.331224e+00</td>\n",
       "      <td>1.441664e+00</td>\n",
       "      <td>1.505191e+00</td>\n",
       "      <td>3.114267e+11</td>\n",
       "      <td>4.161678e+11</td>\n",
       "      <td>1.468265e+12</td>\n",
       "      <td>1.351296e+12</td>\n",
       "      <td>1.206837e+12</td>\n",
       "      <td>1.325583e+12</td>\n",
       "      <td>1.427809e+12</td>\n",
       "      <td>1.392724e+12</td>\n",
       "      <td>1.328414e+12</td>\n",
       "      <td>1.556736e+12</td>\n",
       "      <td>1.690858e+12</td>\n",
       "      <td>1.728057e+12</td>\n",
       "      <td>7.333022e+00</td>\n",
       "      <td>4.457435e+00</td>\n",
       "      <td>2.487923e+00</td>\n",
       "      <td>1.508367e+00</td>\n",
       "      <td>1.276991e+00</td>\n",
       "      <td>1.948647e+00</td>\n",
       "      <td>1.911401e+00</td>\n",
       "      <td>1.610768e+00</td>\n",
       "      <td>8.469055e-01</td>\n",
       "      <td>2.863910e+00</td>\n",
       "      <td>6.594097e+00</td>\n",
       "      <td>5.597015e+00</td>\n",
       "      <td>1.931874e+10</td>\n",
       "      <td>1.882155e+10</td>\n",
       "      <td>5.391033e+10</td>\n",
       "      <td>4.540604e+10</td>\n",
       "      <td>5.248079e+10</td>\n",
       "      <td>6.565372e+10</td>\n",
       "      <td>5.390953e+10</td>\n",
       "      <td>5.799469e+10</td>\n",
       "      <td>4.254463e+10</td>\n",
       "      <td>5.787750e+10</td>\n",
       "      <td>5.670190e+10</td>\n",
       "      <td>6.170335e+10</td>\n",
       "      <td>3.085167e+10</td>\n",
       "      <td>73.0</td>\n",
       "    </tr>\n",
       "    <tr>\n",
       "      <th>1</th>\n",
       "      <td>Canada</td>\n",
       "      <td>AAA</td>\n",
       "      <td>Canada</td>\n",
       "      <td>CAN</td>\n",
       "      <td>6.829000</td>\n",
       "      <td>7.023000</td>\n",
       "      <td>6.945000</td>\n",
       "      <td>7.038000</td>\n",
       "      <td>6.426000</td>\n",
       "      <td>5.837000</td>\n",
       "      <td>5.690000</td>\n",
       "      <td>9.657000</td>\n",
       "      <td>7.527000</td>\n",
       "      <td>5.280000</td>\n",
       "      <td>5.366000</td>\n",
       "      <td>-3.398803e+00</td>\n",
       "      <td>2.483228e+00</td>\n",
       "      <td>-2.318921e+00</td>\n",
       "      <td>-3.513987e+00</td>\n",
       "      <td>-3.093111e+00</td>\n",
       "      <td>-2.803427e+00</td>\n",
       "      <td>-2.385072e+00</td>\n",
       "      <td>-1.951703e+00</td>\n",
       "      <td>-2.010494e+00</td>\n",
       "      <td>1.277747e-02</td>\n",
       "      <td>-3.526320e-01</td>\n",
       "      <td>-7.295740e-01</td>\n",
       "      <td>1.166774e+00</td>\n",
       "      <td>1.485394e+00</td>\n",
       "      <td>1.104747e+00</td>\n",
       "      <td>1.278786e+00</td>\n",
       "      <td>1.325615e+00</td>\n",
       "      <td>1.297936e+00</td>\n",
       "      <td>1.295818e+00</td>\n",
       "      <td>1.326793e+00</td>\n",
       "      <td>1.341153e+00</td>\n",
       "      <td>1.253877e+00</td>\n",
       "      <td>1.301555e+00</td>\n",
       "      <td>1.349909e+00</td>\n",
       "      <td>5.960756e+11</td>\n",
       "      <td>7.447734e+11</td>\n",
       "      <td>1.805750e+12</td>\n",
       "      <td>1.556509e+12</td>\n",
       "      <td>1.527995e+12</td>\n",
       "      <td>1.649266e+12</td>\n",
       "      <td>1.725329e+12</td>\n",
       "      <td>1.743725e+12</td>\n",
       "      <td>1.655685e+12</td>\n",
       "      <td>2.007472e+12</td>\n",
       "      <td>2.161483e+12</td>\n",
       "      <td>2.142471e+12</td>\n",
       "      <td>4.780477e+00</td>\n",
       "      <td>2.719440e+00</td>\n",
       "      <td>1.906636e+00</td>\n",
       "      <td>1.125241e+00</td>\n",
       "      <td>1.428760e+00</td>\n",
       "      <td>1.596884e+00</td>\n",
       "      <td>2.268226e+00</td>\n",
       "      <td>1.949269e+00</td>\n",
       "      <td>7.169996e-01</td>\n",
       "      <td>3.395193e+00</td>\n",
       "      <td>6.802801e+00</td>\n",
       "      <td>3.879002e+00</td>\n",
       "      <td>2.352952e+10</td>\n",
       "      <td>3.242727e+10</td>\n",
       "      <td>7.469996e+10</td>\n",
       "      <td>7.975352e+10</td>\n",
       "      <td>8.271811e+10</td>\n",
       "      <td>8.667771e+10</td>\n",
       "      <td>8.392560e+10</td>\n",
       "      <td>8.529711e+10</td>\n",
       "      <td>9.042814e+10</td>\n",
       "      <td>1.066151e+11</td>\n",
       "      <td>1.069524e+11</td>\n",
       "      <td>1.175509e+11</td>\n",
       "      <td>5.877545e+10</td>\n",
       "      <td>73.0</td>\n",
       "    </tr>\n",
       "    <tr>\n",
       "      <th>2</th>\n",
       "      <td>Denmark</td>\n",
       "      <td>AAA</td>\n",
       "      <td>Denmark</td>\n",
       "      <td>DNK</td>\n",
       "      <td>4.476000</td>\n",
       "      <td>6.925000</td>\n",
       "      <td>6.278000</td>\n",
       "      <td>5.989000</td>\n",
       "      <td>5.833000</td>\n",
       "      <td>5.131000</td>\n",
       "      <td>5.018000</td>\n",
       "      <td>5.637000</td>\n",
       "      <td>5.043000</td>\n",
       "      <td>4.434000</td>\n",
       "      <td>5.142000</td>\n",
       "      <td>9.923083e-01</td>\n",
       "      <td>1.378800e+00</td>\n",
       "      <td>8.886178e+00</td>\n",
       "      <td>7.953938e+00</td>\n",
       "      <td>7.078509e+00</td>\n",
       "      <td>7.360245e+00</td>\n",
       "      <td>6.244573e+00</td>\n",
       "      <td>7.425270e+00</td>\n",
       "      <td>7.231130e+00</td>\n",
       "      <td>8.659145e+00</td>\n",
       "      <td>1.156562e+01</td>\n",
       "      <td>9.840846e+00</td>\n",
       "      <td>6.188558e+00</td>\n",
       "      <td>8.083144e+00</td>\n",
       "      <td>5.612467e+00</td>\n",
       "      <td>6.727907e+00</td>\n",
       "      <td>6.731718e+00</td>\n",
       "      <td>6.602893e+00</td>\n",
       "      <td>6.314619e+00</td>\n",
       "      <td>6.669447e+00</td>\n",
       "      <td>6.542152e+00</td>\n",
       "      <td>6.287113e+00</td>\n",
       "      <td>7.076152e+00</td>\n",
       "      <td>6.889703e+00</td>\n",
       "      <td>1.382177e+11</td>\n",
       "      <td>1.640438e+11</td>\n",
       "      <td>3.528326e+11</td>\n",
       "      <td>3.017589e+11</td>\n",
       "      <td>3.121818e+11</td>\n",
       "      <td>3.316106e+11</td>\n",
       "      <td>3.552934e+11</td>\n",
       "      <td>3.454015e+11</td>\n",
       "      <td>3.556310e+11</td>\n",
       "      <td>4.083782e+11</td>\n",
       "      <td>4.019456e+11</td>\n",
       "      <td>4.070919e+11</td>\n",
       "      <td>2.641603e+00</td>\n",
       "      <td>2.903282e+00</td>\n",
       "      <td>5.640205e-01</td>\n",
       "      <td>4.520342e-01</td>\n",
       "      <td>2.500000e-01</td>\n",
       "      <td>1.147132e+00</td>\n",
       "      <td>8.136095e-01</td>\n",
       "      <td>7.581316e-01</td>\n",
       "      <td>4.207120e-01</td>\n",
       "      <td>1.853045e+00</td>\n",
       "      <td>7.696567e+00</td>\n",
       "      <td>3.305178e+00</td>\n",
       "      <td>1.122584e+10</td>\n",
       "      <td>1.569595e+10</td>\n",
       "      <td>7.539189e+10</td>\n",
       "      <td>6.518509e+10</td>\n",
       "      <td>6.421581e+10</td>\n",
       "      <td>7.524445e+10</td>\n",
       "      <td>7.094208e+10</td>\n",
       "      <td>6.683555e+10</td>\n",
       "      <td>7.282335e+10</td>\n",
       "      <td>8.223584e+10</td>\n",
       "      <td>9.607255e+10</td>\n",
       "      <td>1.093708e+11</td>\n",
       "      <td>5.468542e+10</td>\n",
       "      <td>73.0</td>\n",
       "    </tr>\n",
       "    <tr>\n",
       "      <th>3</th>\n",
       "      <td>Germany</td>\n",
       "      <td>AAA</td>\n",
       "      <td>Germany</td>\n",
       "      <td>DEU</td>\n",
       "      <td>7.917000</td>\n",
       "      <td>4.981000</td>\n",
       "      <td>4.624000</td>\n",
       "      <td>4.122000</td>\n",
       "      <td>3.746000</td>\n",
       "      <td>3.384000</td>\n",
       "      <td>3.136000</td>\n",
       "      <td>3.856000</td>\n",
       "      <td>3.638000</td>\n",
       "      <td>3.135000</td>\n",
       "      <td>3.045000</td>\n",
       "      <td>2.612583e+00</td>\n",
       "      <td>-1.513131e+00</td>\n",
       "      <td>7.192490e+00</td>\n",
       "      <td>8.100335e+00</td>\n",
       "      <td>8.899854e+00</td>\n",
       "      <td>8.083586e+00</td>\n",
       "      <td>8.444744e+00</td>\n",
       "      <td>7.880059e+00</td>\n",
       "      <td>6.349851e+00</td>\n",
       "      <td>6.931968e+00</td>\n",
       "      <td>4.437915e+00</td>\n",
       "      <td>5.936536e+00</td>\n",
       "      <td>1.615733e+00</td>\n",
       "      <td>1.481802e+11</td>\n",
       "      <td>2.963604e+11</td>\n",
       "      <td>4.445405e+11</td>\n",
       "      <td>5.927207e+11</td>\n",
       "      <td>7.409009e+11</td>\n",
       "      <td>8.890811e+11</td>\n",
       "      <td>1.037261e+12</td>\n",
       "      <td>1.185441e+12</td>\n",
       "      <td>1.333622e+12</td>\n",
       "      <td>1.481802e+12</td>\n",
       "      <td>1.629982e+12</td>\n",
       "      <td>1.778162e+12</td>\n",
       "      <td>1.966981e+12</td>\n",
       "      <td>3.965801e+12</td>\n",
       "      <td>3.423568e+12</td>\n",
       "      <td>3.537784e+12</td>\n",
       "      <td>3.763092e+12</td>\n",
       "      <td>4.052008e+12</td>\n",
       "      <td>3.957208e+12</td>\n",
       "      <td>3.940143e+12</td>\n",
       "      <td>4.348297e+12</td>\n",
       "      <td>4.163596e+12</td>\n",
       "      <td>4.525704e+12</td>\n",
       "      <td>2.696468e+00</td>\n",
       "      <td>1.440268e+00</td>\n",
       "      <td>9.067940e-01</td>\n",
       "      <td>5.144261e-01</td>\n",
       "      <td>4.917470e-01</td>\n",
       "      <td>1.509495e+00</td>\n",
       "      <td>1.732169e+00</td>\n",
       "      <td>1.445660e+00</td>\n",
       "      <td>1.448779e-01</td>\n",
       "      <td>3.066667e+00</td>\n",
       "      <td>6.872574e+00</td>\n",
       "      <td>5.946437e+00</td>\n",
       "      <td>1.045473e+11</td>\n",
       "      <td>8.749687e+10</td>\n",
       "      <td>1.934848e+11</td>\n",
       "      <td>1.737309e+11</td>\n",
       "      <td>1.840313e+11</td>\n",
       "      <td>1.999831e+11</td>\n",
       "      <td>1.980271e+11</td>\n",
       "      <td>2.240280e+11</td>\n",
       "      <td>2.684086e+11</td>\n",
       "      <td>2.957362e+11</td>\n",
       "      <td>2.939137e+11</td>\n",
       "      <td>3.227001e+11</td>\n",
       "      <td>1.613500e+11</td>\n",
       "      <td>62.0</td>\n",
       "    </tr>\n",
       "    <tr>\n",
       "      <th>4</th>\n",
       "      <td>Liechtenstein</td>\n",
       "      <td>AAA</td>\n",
       "      <td>Liechtenstein</td>\n",
       "      <td>LIE</td>\n",
       "      <td>9.640537</td>\n",
       "      <td>9.136085</td>\n",
       "      <td>9.052059</td>\n",
       "      <td>8.903803</td>\n",
       "      <td>8.664479</td>\n",
       "      <td>8.383856</td>\n",
       "      <td>8.244777</td>\n",
       "      <td>9.305229</td>\n",
       "      <td>9.015766</td>\n",
       "      <td>8.230760</td>\n",
       "      <td>7.967091</td>\n",
       "      <td>1.516652e+07</td>\n",
       "      <td>3.017828e+07</td>\n",
       "      <td>4.306998e+07</td>\n",
       "      <td>5.742663e+07</td>\n",
       "      <td>7.143651e+07</td>\n",
       "      <td>8.531168e+07</td>\n",
       "      <td>9.953030e+07</td>\n",
       "      <td>1.134059e+08</td>\n",
       "      <td>1.277577e+08</td>\n",
       "      <td>1.421095e+08</td>\n",
       "      <td>1.564863e+08</td>\n",
       "      <td>1.708664e+08</td>\n",
       "      <td>1.840786e+08</td>\n",
       "      <td>2.451328e+09</td>\n",
       "      <td>4.784157e+09</td>\n",
       "      <td>7.121938e+09</td>\n",
       "      <td>9.459720e+09</td>\n",
       "      <td>1.179867e+10</td>\n",
       "      <td>1.417107e+10</td>\n",
       "      <td>1.654347e+10</td>\n",
       "      <td>1.891586e+10</td>\n",
       "      <td>2.129617e+10</td>\n",
       "      <td>2.368620e+10</td>\n",
       "      <td>2.638014e+10</td>\n",
       "      <td>1.421509e+09</td>\n",
       "      <td>2.483890e+09</td>\n",
       "      <td>6.657527e+09</td>\n",
       "      <td>6.268515e+09</td>\n",
       "      <td>6.237302e+09</td>\n",
       "      <td>6.474309e+09</td>\n",
       "      <td>6.692621e+09</td>\n",
       "      <td>6.436467e+09</td>\n",
       "      <td>6.405870e+09</td>\n",
       "      <td>7.710380e+09</td>\n",
       "      <td>7.361504e+09</td>\n",
       "      <td>7.088856e+09</td>\n",
       "      <td>6.816208e+09</td>\n",
       "      <td>6.543559e+09</td>\n",
       "      <td>6.270911e+09</td>\n",
       "      <td>5.998263e+09</td>\n",
       "      <td>5.725615e+09</td>\n",
       "      <td>5.452966e+09</td>\n",
       "      <td>5.180318e+09</td>\n",
       "      <td>4.907670e+09</td>\n",
       "      <td>4.635021e+09</td>\n",
       "      <td>4.362373e+09</td>\n",
       "      <td>4.089725e+09</td>\n",
       "      <td>3.817076e+09</td>\n",
       "      <td>3.544428e+09</td>\n",
       "      <td>3.271780e+09</td>\n",
       "      <td>2.999131e+09</td>\n",
       "      <td>2.726483e+09</td>\n",
       "      <td>2.453835e+09</td>\n",
       "      <td>2.181187e+09</td>\n",
       "      <td>1.908538e+09</td>\n",
       "      <td>1.635890e+09</td>\n",
       "      <td>1.363242e+09</td>\n",
       "      <td>1.090593e+09</td>\n",
       "      <td>8.179449e+08</td>\n",
       "      <td>5.452966e+08</td>\n",
       "      <td>2.726483e+08</td>\n",
       "      <td>13.0</td>\n",
       "    </tr>\n",
       "    <tr>\n",
       "      <th>...</th>\n",
       "      <td>...</td>\n",
       "      <td>...</td>\n",
       "      <td>...</td>\n",
       "      <td>...</td>\n",
       "      <td>...</td>\n",
       "      <td>...</td>\n",
       "      <td>...</td>\n",
       "      <td>...</td>\n",
       "      <td>...</td>\n",
       "      <td>...</td>\n",
       "      <td>...</td>\n",
       "      <td>...</td>\n",
       "      <td>...</td>\n",
       "      <td>...</td>\n",
       "      <td>...</td>\n",
       "      <td>...</td>\n",
       "      <td>...</td>\n",
       "      <td>...</td>\n",
       "      <td>...</td>\n",
       "      <td>...</td>\n",
       "      <td>...</td>\n",
       "      <td>...</td>\n",
       "      <td>...</td>\n",
       "      <td>...</td>\n",
       "      <td>...</td>\n",
       "      <td>...</td>\n",
       "      <td>...</td>\n",
       "      <td>...</td>\n",
       "      <td>...</td>\n",
       "      <td>...</td>\n",
       "      <td>...</td>\n",
       "      <td>...</td>\n",
       "      <td>...</td>\n",
       "      <td>...</td>\n",
       "      <td>...</td>\n",
       "      <td>...</td>\n",
       "      <td>...</td>\n",
       "      <td>...</td>\n",
       "      <td>...</td>\n",
       "      <td>...</td>\n",
       "      <td>...</td>\n",
       "      <td>...</td>\n",
       "      <td>...</td>\n",
       "      <td>...</td>\n",
       "      <td>...</td>\n",
       "      <td>...</td>\n",
       "      <td>...</td>\n",
       "      <td>...</td>\n",
       "      <td>...</td>\n",
       "      <td>...</td>\n",
       "      <td>...</td>\n",
       "      <td>...</td>\n",
       "      <td>...</td>\n",
       "      <td>...</td>\n",
       "      <td>...</td>\n",
       "      <td>...</td>\n",
       "      <td>...</td>\n",
       "      <td>...</td>\n",
       "      <td>...</td>\n",
       "      <td>...</td>\n",
       "      <td>...</td>\n",
       "      <td>...</td>\n",
       "      <td>...</td>\n",
       "      <td>...</td>\n",
       "      <td>...</td>\n",
       "      <td>...</td>\n",
       "      <td>...</td>\n",
       "      <td>...</td>\n",
       "      <td>...</td>\n",
       "      <td>...</td>\n",
       "      <td>...</td>\n",
       "      <td>...</td>\n",
       "      <td>...</td>\n",
       "      <td>...</td>\n",
       "      <td>...</td>\n",
       "      <td>...</td>\n",
       "      <td>...</td>\n",
       "    </tr>\n",
       "    <tr>\n",
       "      <th>126</th>\n",
       "      <td>Sri Lanka</td>\n",
       "      <td>SD</td>\n",
       "      <td>Sri Lanka</td>\n",
       "      <td>LKA</td>\n",
       "      <td>7.740000</td>\n",
       "      <td>4.157000</td>\n",
       "      <td>4.519000</td>\n",
       "      <td>4.243000</td>\n",
       "      <td>4.046000</td>\n",
       "      <td>4.318000</td>\n",
       "      <td>4.670000</td>\n",
       "      <td>5.365000</td>\n",
       "      <td>5.258000</td>\n",
       "      <td>6.330000</td>\n",
       "      <td>6.360000</td>\n",
       "      <td>-3.713648e+00</td>\n",
       "      <td>-6.390297e+00</td>\n",
       "      <td>-2.408481e+00</td>\n",
       "      <td>-2.211361e+00</td>\n",
       "      <td>-1.979723e+00</td>\n",
       "      <td>-2.446586e+00</td>\n",
       "      <td>-2.962153e+00</td>\n",
       "      <td>-2.070888e+00</td>\n",
       "      <td>-1.408137e+00</td>\n",
       "      <td>-3.706463e+00</td>\n",
       "      <td>-1.953545e+00</td>\n",
       "      <td>1.847993e+00</td>\n",
       "      <td>4.006292e+01</td>\n",
       "      <td>7.700512e+01</td>\n",
       "      <td>1.305647e+02</td>\n",
       "      <td>1.358569e+02</td>\n",
       "      <td>1.455817e+02</td>\n",
       "      <td>1.524464e+02</td>\n",
       "      <td>1.624649e+02</td>\n",
       "      <td>1.787449e+02</td>\n",
       "      <td>1.855926e+02</td>\n",
       "      <td>1.987643e+02</td>\n",
       "      <td>3.226327e+02</td>\n",
       "      <td>3.275065e+02</td>\n",
       "      <td>8.032551e+09</td>\n",
       "      <td>1.633081e+10</td>\n",
       "      <td>8.252854e+10</td>\n",
       "      <td>8.514096e+10</td>\n",
       "      <td>8.801228e+10</td>\n",
       "      <td>9.437624e+10</td>\n",
       "      <td>9.449387e+10</td>\n",
       "      <td>8.901498e+10</td>\n",
       "      <td>8.430430e+10</td>\n",
       "      <td>8.860932e+10</td>\n",
       "      <td>7.414487e+10</td>\n",
       "      <td>8.435686e+10</td>\n",
       "      <td>2.149525e+01</td>\n",
       "      <td>6.176276e+00</td>\n",
       "      <td>3.179002e+00</td>\n",
       "      <td>3.768368e+00</td>\n",
       "      <td>3.958888e+00</td>\n",
       "      <td>7.704138e+00</td>\n",
       "      <td>2.135038e+00</td>\n",
       "      <td>3.528394e+00</td>\n",
       "      <td>6.153945e+00</td>\n",
       "      <td>7.014781e+00</td>\n",
       "      <td>4.972110e+01</td>\n",
       "      <td>1.654117e+01</td>\n",
       "      <td>4.470305e+08</td>\n",
       "      <td>1.131355e+09</td>\n",
       "      <td>8.210750e+09</td>\n",
       "      <td>7.302097e+09</td>\n",
       "      <td>6.008199e+09</td>\n",
       "      <td>7.959048e+09</td>\n",
       "      <td>6.920826e+09</td>\n",
       "      <td>7.648305e+09</td>\n",
       "      <td>5.663994e+09</td>\n",
       "      <td>3.136992e+09</td>\n",
       "      <td>2.352744e+09</td>\n",
       "      <td>1.568496e+09</td>\n",
       "      <td>7.842479e+08</td>\n",
       "      <td>71.0</td>\n",
       "    </tr>\n",
       "    <tr>\n",
       "      <th>127</th>\n",
       "      <td>Ukraine</td>\n",
       "      <td>SD</td>\n",
       "      <td>Ukraine</td>\n",
       "      <td>UKR</td>\n",
       "      <td>11.707000</td>\n",
       "      <td>9.270000</td>\n",
       "      <td>9.140000</td>\n",
       "      <td>9.350000</td>\n",
       "      <td>9.500000</td>\n",
       "      <td>8.799000</td>\n",
       "      <td>8.194000</td>\n",
       "      <td>9.475000</td>\n",
       "      <td>9.834000</td>\n",
       "      <td>8.411791</td>\n",
       "      <td>6.989581</td>\n",
       "      <td>5.567372e+00</td>\n",
       "      <td>4.145163e+00</td>\n",
       "      <td>-3.442597e+00</td>\n",
       "      <td>5.531085e+00</td>\n",
       "      <td>-1.998803e+00</td>\n",
       "      <td>-3.098389e+00</td>\n",
       "      <td>-4.914009e+00</td>\n",
       "      <td>-2.679957e+00</td>\n",
       "      <td>3.362966e+00</td>\n",
       "      <td>-1.943275e+00</td>\n",
       "      <td>4.923775e+00</td>\n",
       "      <td>-5.401186e+00</td>\n",
       "      <td>1.952346e-02</td>\n",
       "      <td>5.440233e+00</td>\n",
       "      <td>1.188666e+01</td>\n",
       "      <td>2.184470e+01</td>\n",
       "      <td>2.555133e+01</td>\n",
       "      <td>2.659661e+01</td>\n",
       "      <td>2.720049e+01</td>\n",
       "      <td>2.584559e+01</td>\n",
       "      <td>2.695752e+01</td>\n",
       "      <td>2.728619e+01</td>\n",
       "      <td>3.234230e+01</td>\n",
       "      <td>3.657381e+01</td>\n",
       "      <td>8.139356e+10</td>\n",
       "      <td>3.237508e+10</td>\n",
       "      <td>1.335039e+11</td>\n",
       "      <td>9.103097e+10</td>\n",
       "      <td>9.335587e+10</td>\n",
       "      <td>1.120905e+11</td>\n",
       "      <td>1.308911e+11</td>\n",
       "      <td>1.538830e+11</td>\n",
       "      <td>1.566177e+11</td>\n",
       "      <td>1.997659e+11</td>\n",
       "      <td>1.619895e+11</td>\n",
       "      <td>1.787570e+11</td>\n",
       "      <td>8.937851e+10</td>\n",
       "      <td>2.820310e+01</td>\n",
       "      <td>1.207186e+01</td>\n",
       "      <td>4.869986e+01</td>\n",
       "      <td>1.391271e+01</td>\n",
       "      <td>1.443832e+01</td>\n",
       "      <td>1.095186e+01</td>\n",
       "      <td>7.886717e+00</td>\n",
       "      <td>2.732492e+00</td>\n",
       "      <td>9.363139e+00</td>\n",
       "      <td>2.018364e+01</td>\n",
       "      <td>1.284902e+01</td>\n",
       "      <td>7.386012e+08</td>\n",
       "      <td>1.477202e+09</td>\n",
       "      <td>7.538805e+09</td>\n",
       "      <td>1.330088e+10</td>\n",
       "      <td>1.553726e+10</td>\n",
       "      <td>1.881093e+10</td>\n",
       "      <td>2.081790e+10</td>\n",
       "      <td>2.531700e+10</td>\n",
       "      <td>2.913754e+10</td>\n",
       "      <td>3.096667e+10</td>\n",
       "      <td>2.850593e+10</td>\n",
       "      <td>4.051011e+10</td>\n",
       "      <td>2.025505e+10</td>\n",
       "      <td>67.0</td>\n",
       "    </tr>\n",
       "    <tr>\n",
       "      <th>128</th>\n",
       "      <td>Lebanon</td>\n",
       "      <td>D</td>\n",
       "      <td>Lebanon</td>\n",
       "      <td>LBN</td>\n",
       "      <td>8.594000</td>\n",
       "      <td>8.796000</td>\n",
       "      <td>9.270000</td>\n",
       "      <td>9.760000</td>\n",
       "      <td>10.236000</td>\n",
       "      <td>10.741000</td>\n",
       "      <td>11.301000</td>\n",
       "      <td>13.235000</td>\n",
       "      <td>12.621000</td>\n",
       "      <td>11.599000</td>\n",
       "      <td>11.565000</td>\n",
       "      <td>-1.033289e+00</td>\n",
       "      <td>-1.363158e+01</td>\n",
       "      <td>-2.622987e+01</td>\n",
       "      <td>-1.710774e+01</td>\n",
       "      <td>-2.047802e+01</td>\n",
       "      <td>-2.288220e+01</td>\n",
       "      <td>-2.434704e+01</td>\n",
       "      <td>-2.182809e+01</td>\n",
       "      <td>-8.761842e+00</td>\n",
       "      <td>-1.969781e+01</td>\n",
       "      <td>-3.460623e+01</td>\n",
       "      <td>-2.810367e+01</td>\n",
       "      <td>6.950892e+02</td>\n",
       "      <td>1.507500e+03</td>\n",
       "      <td>1.507500e+03</td>\n",
       "      <td>1.507500e+03</td>\n",
       "      <td>1.507500e+03</td>\n",
       "      <td>1.507500e+03</td>\n",
       "      <td>1.507500e+03</td>\n",
       "      <td>1.507500e+03</td>\n",
       "      <td>1.507500e+03</td>\n",
       "      <td>1.507500e+03</td>\n",
       "      <td>1.507500e+03</td>\n",
       "      <td>1.419243e+09</td>\n",
       "      <td>2.838485e+09</td>\n",
       "      <td>1.726036e+10</td>\n",
       "      <td>4.809521e+10</td>\n",
       "      <td>4.992934e+10</td>\n",
       "      <td>5.114731e+10</td>\n",
       "      <td>5.302768e+10</td>\n",
       "      <td>5.490152e+10</td>\n",
       "      <td>5.160596e+10</td>\n",
       "      <td>3.171213e+10</td>\n",
       "      <td>2.313194e+10</td>\n",
       "      <td>2.099242e+10</td>\n",
       "      <td>1.574432e+10</td>\n",
       "      <td>1.049621e+10</td>\n",
       "      <td>5.248105e+09</td>\n",
       "      <td>1.854604e+00</td>\n",
       "      <td>-3.749145e+00</td>\n",
       "      <td>-7.833596e-01</td>\n",
       "      <td>4.321352e+00</td>\n",
       "      <td>6.076989e+00</td>\n",
       "      <td>3.005389e+00</td>\n",
       "      <td>8.486433e+01</td>\n",
       "      <td>1.547561e+02</td>\n",
       "      <td>1.712055e+02</td>\n",
       "      <td>2.213416e+02</td>\n",
       "      <td>4.210389e+09</td>\n",
       "      <td>8.474638e+09</td>\n",
       "      <td>5.066886e+10</td>\n",
       "      <td>4.853139e+10</td>\n",
       "      <td>5.390551e+10</td>\n",
       "      <td>5.541153e+10</td>\n",
       "      <td>5.238061e+10</td>\n",
       "      <td>5.221348e+10</td>\n",
       "      <td>4.244040e+10</td>\n",
       "      <td>3.523922e+10</td>\n",
       "      <td>3.251288e+10</td>\n",
       "      <td>2.167525e+10</td>\n",
       "      <td>1.083763e+10</td>\n",
       "      <td>66.0</td>\n",
       "    </tr>\n",
       "    <tr>\n",
       "      <th>129</th>\n",
       "      <td>Puerto Rico</td>\n",
       "      <td>D</td>\n",
       "      <td>Puerto Rico</td>\n",
       "      <td>PRI</td>\n",
       "      <td>10.080000</td>\n",
       "      <td>13.900000</td>\n",
       "      <td>12.000000</td>\n",
       "      <td>11.800000</td>\n",
       "      <td>10.800000</td>\n",
       "      <td>9.200000</td>\n",
       "      <td>8.300000</td>\n",
       "      <td>8.890000</td>\n",
       "      <td>7.900000</td>\n",
       "      <td>6.000000</td>\n",
       "      <td>5.962000</td>\n",
       "      <td>1.224157e+09</td>\n",
       "      <td>2.448314e+09</td>\n",
       "      <td>3.672470e+09</td>\n",
       "      <td>4.896627e+09</td>\n",
       "      <td>6.120784e+09</td>\n",
       "      <td>7.344941e+09</td>\n",
       "      <td>8.569097e+09</td>\n",
       "      <td>9.793254e+09</td>\n",
       "      <td>1.101741e+10</td>\n",
       "      <td>1.224157e+10</td>\n",
       "      <td>1.346572e+10</td>\n",
       "      <td>1.468988e+10</td>\n",
       "      <td>1.591404e+10</td>\n",
       "      <td>1.713819e+10</td>\n",
       "      <td>1.836235e+10</td>\n",
       "      <td>1.958651e+10</td>\n",
       "      <td>2.081066e+10</td>\n",
       "      <td>2.203482e+10</td>\n",
       "      <td>2.325898e+10</td>\n",
       "      <td>2.448314e+10</td>\n",
       "      <td>2.570729e+10</td>\n",
       "      <td>2.693145e+10</td>\n",
       "      <td>2.815561e+10</td>\n",
       "      <td>2.937976e+10</td>\n",
       "      <td>3.060392e+10</td>\n",
       "      <td>6.170180e+10</td>\n",
       "      <td>1.020000e+11</td>\n",
       "      <td>1.030000e+11</td>\n",
       "      <td>1.040000e+11</td>\n",
       "      <td>1.030000e+11</td>\n",
       "      <td>1.010000e+11</td>\n",
       "      <td>1.050000e+11</td>\n",
       "      <td>1.030000e+11</td>\n",
       "      <td>1.060000e+11</td>\n",
       "      <td>1.140000e+11</td>\n",
       "      <td>1.180000e+11</td>\n",
       "      <td>1.134615e+11</td>\n",
       "      <td>1.089231e+11</td>\n",
       "      <td>1.043846e+11</td>\n",
       "      <td>9.984615e+10</td>\n",
       "      <td>9.530769e+10</td>\n",
       "      <td>9.076923e+10</td>\n",
       "      <td>8.623077e+10</td>\n",
       "      <td>8.169231e+10</td>\n",
       "      <td>7.715385e+10</td>\n",
       "      <td>7.261538e+10</td>\n",
       "      <td>6.807692e+10</td>\n",
       "      <td>6.353846e+10</td>\n",
       "      <td>5.900000e+10</td>\n",
       "      <td>5.446154e+10</td>\n",
       "      <td>4.992308e+10</td>\n",
       "      <td>4.538462e+10</td>\n",
       "      <td>4.084615e+10</td>\n",
       "      <td>3.630769e+10</td>\n",
       "      <td>3.176923e+10</td>\n",
       "      <td>2.723077e+10</td>\n",
       "      <td>2.269231e+10</td>\n",
       "      <td>1.815385e+10</td>\n",
       "      <td>1.361538e+10</td>\n",
       "      <td>9.076923e+09</td>\n",
       "      <td>4.538462e+09</td>\n",
       "      <td>39.0</td>\n",
       "    </tr>\n",
       "    <tr>\n",
       "      <th>130</th>\n",
       "      <td>Grenada</td>\n",
       "      <td>SD</td>\n",
       "      <td>Grenada</td>\n",
       "      <td>GRD</td>\n",
       "      <td>9.640537</td>\n",
       "      <td>9.136085</td>\n",
       "      <td>9.052059</td>\n",
       "      <td>8.903803</td>\n",
       "      <td>8.664479</td>\n",
       "      <td>8.383856</td>\n",
       "      <td>8.244777</td>\n",
       "      <td>9.305229</td>\n",
       "      <td>9.015766</td>\n",
       "      <td>8.230760</td>\n",
       "      <td>7.967091</td>\n",
       "      <td>-1.662612e+01</td>\n",
       "      <td>-2.199663e+01</td>\n",
       "      <td>-9.082369e+00</td>\n",
       "      <td>-1.061651e+01</td>\n",
       "      <td>-8.849575e+00</td>\n",
       "      <td>-1.146353e+01</td>\n",
       "      <td>-1.275789e+01</td>\n",
       "      <td>-1.035870e+01</td>\n",
       "      <td>-1.612843e+01</td>\n",
       "      <td>-1.445885e+01</td>\n",
       "      <td>-1.108356e+01</td>\n",
       "      <td>-1.399198e+01</td>\n",
       "      <td>2.700000e+00</td>\n",
       "      <td>2.700000e+00</td>\n",
       "      <td>2.700000e+00</td>\n",
       "      <td>2.700000e+00</td>\n",
       "      <td>2.700000e+00</td>\n",
       "      <td>2.700000e+00</td>\n",
       "      <td>2.700000e+00</td>\n",
       "      <td>2.700000e+00</td>\n",
       "      <td>2.700000e+00</td>\n",
       "      <td>2.700000e+00</td>\n",
       "      <td>2.700000e+00</td>\n",
       "      <td>2.700000e+00</td>\n",
       "      <td>2.780988e+08</td>\n",
       "      <td>5.200444e+08</td>\n",
       "      <td>9.114963e+08</td>\n",
       "      <td>9.970074e+08</td>\n",
       "      <td>1.061641e+09</td>\n",
       "      <td>1.125685e+09</td>\n",
       "      <td>1.166515e+09</td>\n",
       "      <td>1.213485e+09</td>\n",
       "      <td>1.043411e+09</td>\n",
       "      <td>1.122800e+09</td>\n",
       "      <td>1.224578e+09</td>\n",
       "      <td>1.316733e+09</td>\n",
       "      <td>2.724237e+00</td>\n",
       "      <td>2.181818e+00</td>\n",
       "      <td>-9.836031e-01</td>\n",
       "      <td>-5.154480e-01</td>\n",
       "      <td>1.650390e+00</td>\n",
       "      <td>9.084583e-01</td>\n",
       "      <td>8.041023e-01</td>\n",
       "      <td>5.981498e-01</td>\n",
       "      <td>-7.407326e-01</td>\n",
       "      <td>1.219512e+00</td>\n",
       "      <td>2.580539e+00</td>\n",
       "      <td>2.696123e+00</td>\n",
       "      <td>1.757889e+07</td>\n",
       "      <td>5.766000e+07</td>\n",
       "      <td>1.699494e+08</td>\n",
       "      <td>1.979735e+08</td>\n",
       "      <td>2.076893e+08</td>\n",
       "      <td>1.991259e+08</td>\n",
       "      <td>2.338159e+08</td>\n",
       "      <td>2.363253e+08</td>\n",
       "      <td>2.933204e+08</td>\n",
       "      <td>3.482592e+08</td>\n",
       "      <td>3.717673e+08</td>\n",
       "      <td>4.041299e+08</td>\n",
       "      <td>2.020650e+08</td>\n",
       "      <td>64.0</td>\n",
       "    </tr>\n",
       "  </tbody>\n",
       "</table>\n",
       "<p>131 rows × 77 columns</p>\n",
       "</div>"
      ],
      "text/plain": [
       "           Country S&P Rating   Country Name country_code  unemployment_2000  \\\n",
       "0        Australia        AAA      Australia          AUS           6.288000   \n",
       "1           Canada        AAA         Canada          CAN           6.829000   \n",
       "2          Denmark        AAA        Denmark          DNK           4.476000   \n",
       "3          Germany        AAA        Germany          DEU           7.917000   \n",
       "4    Liechtenstein        AAA  Liechtenstein          LIE           9.640537   \n",
       "..             ...        ...            ...          ...                ...   \n",
       "126      Sri Lanka         SD      Sri Lanka          LKA           7.740000   \n",
       "127        Ukraine         SD        Ukraine          UKR          11.707000   \n",
       "128        Lebanon          D        Lebanon          LBN           8.594000   \n",
       "129    Puerto Rico         D     Puerto Rico          PRI          10.080000   \n",
       "130        Grenada        SD         Grenada          GRD           9.640537   \n",
       "\n",
       "     unemployment_2014  unemployment_2015  unemployment_2016  \\\n",
       "0             6.078000           6.055000           5.711000   \n",
       "1             7.023000           6.945000           7.038000   \n",
       "2             6.925000           6.278000           5.989000   \n",
       "3             4.981000           4.624000           4.122000   \n",
       "4             9.136085           9.052059           8.903803   \n",
       "..                 ...                ...                ...   \n",
       "126           4.157000           4.519000           4.243000   \n",
       "127           9.270000           9.140000           9.350000   \n",
       "128           8.796000           9.270000           9.760000   \n",
       "129          13.900000          12.000000          11.800000   \n",
       "130           9.136085           9.052059           8.903803   \n",
       "\n",
       "     unemployment_2017  unemployment_2018  unemployment_2019  \\\n",
       "0             5.592000           5.300000           5.159000   \n",
       "1             6.426000           5.837000           5.690000   \n",
       "2             5.833000           5.131000           5.018000   \n",
       "3             3.746000           3.384000           3.136000   \n",
       "4             8.664479           8.383856           8.244777   \n",
       "..                 ...                ...                ...   \n",
       "126           4.046000           4.318000           4.670000   \n",
       "127           9.500000           8.799000           8.194000   \n",
       "128          10.236000          10.741000          11.301000   \n",
       "129          10.800000           9.200000           8.300000   \n",
       "130           8.664479           8.383856           8.244777   \n",
       "\n",
       "     unemployment_2020  unemployment_2021  unemployment_2022  \\\n",
       "0             6.456000           5.116000           3.701000   \n",
       "1             9.657000           7.527000           5.280000   \n",
       "2             5.637000           5.043000           4.434000   \n",
       "3             3.856000           3.638000           3.135000   \n",
       "4             9.305229           9.015766           8.230760   \n",
       "..                 ...                ...                ...   \n",
       "126           5.365000           5.258000           6.330000   \n",
       "127           9.475000           9.834000           8.411791   \n",
       "128          13.235000          12.621000          11.599000   \n",
       "129           8.890000           7.900000           6.000000   \n",
       "130           9.305229           9.015766           8.230760   \n",
       "\n",
       "     unemployment_2023  current_account_balance_1990  \\\n",
       "0             3.667000                 -4.987491e+00   \n",
       "1             5.366000                 -3.398803e+00   \n",
       "2             5.142000                  9.923083e-01   \n",
       "3             3.045000                  2.612583e+00   \n",
       "4             7.967091                  1.516652e+07   \n",
       "..                 ...                           ...   \n",
       "126           6.360000                 -3.713648e+00   \n",
       "127           6.989581                  5.567372e+00   \n",
       "128          11.565000                 -1.033289e+00   \n",
       "129           5.962000                  1.224157e+09   \n",
       "130           7.967091                 -1.662612e+01   \n",
       "\n",
       "     current_account_balance_2000  current_account_balance_2014  \\\n",
       "0                   -3.721401e+00                 -3.054734e+00   \n",
       "1                    2.483228e+00                 -2.318921e+00   \n",
       "2                    1.378800e+00                  8.886178e+00   \n",
       "3                   -1.513131e+00                  7.192490e+00   \n",
       "4                    3.017828e+07                  4.306998e+07   \n",
       "..                            ...                           ...   \n",
       "126                 -6.390297e+00                 -2.408481e+00   \n",
       "127                  4.145163e+00                 -3.442597e+00   \n",
       "128                 -1.363158e+01                 -2.622987e+01   \n",
       "129                  2.448314e+09                  3.672470e+09   \n",
       "130                 -2.199663e+01                 -9.082369e+00   \n",
       "\n",
       "     current_account_balance_2015  current_account_balance_2016  \\\n",
       "0                   -4.229028e+00                 -3.440490e+00   \n",
       "1                   -3.513987e+00                 -3.093111e+00   \n",
       "2                    7.953938e+00                  7.078509e+00   \n",
       "3                    8.100335e+00                  8.899854e+00   \n",
       "4                    5.742663e+07                  7.143651e+07   \n",
       "..                            ...                           ...   \n",
       "126                 -2.211361e+00                 -1.979723e+00   \n",
       "127                  5.531085e+00                 -1.998803e+00   \n",
       "128                 -1.710774e+01                 -2.047802e+01   \n",
       "129                  4.896627e+09                  6.120784e+09   \n",
       "130                 -1.061651e+01                 -8.849575e+00   \n",
       "\n",
       "     current_account_balance_2017  current_account_balance_2018  \\\n",
       "0                   -2.722911e+00                 -2.233402e+00   \n",
       "1                   -2.803427e+00                 -2.385072e+00   \n",
       "2                    7.360245e+00                  6.244573e+00   \n",
       "3                    8.083586e+00                  8.444744e+00   \n",
       "4                    8.531168e+07                  9.953030e+07   \n",
       "..                            ...                           ...   \n",
       "126                 -2.446586e+00                 -2.962153e+00   \n",
       "127                 -3.098389e+00                 -4.914009e+00   \n",
       "128                 -2.288220e+01                 -2.434704e+01   \n",
       "129                  7.344941e+09                  8.569097e+09   \n",
       "130                 -1.146353e+01                 -1.275789e+01   \n",
       "\n",
       "     current_account_balance_2019  current_account_balance_2020  \\\n",
       "0                    3.501218e-01                  2.330931e+00   \n",
       "1                   -1.951703e+00                 -2.010494e+00   \n",
       "2                    7.425270e+00                  7.231130e+00   \n",
       "3                    7.880059e+00                  6.349851e+00   \n",
       "4                    1.134059e+08                  1.277577e+08   \n",
       "..                            ...                           ...   \n",
       "126                 -2.070888e+00                 -1.408137e+00   \n",
       "127                 -2.679957e+00                  3.362966e+00   \n",
       "128                 -2.182809e+01                 -8.761842e+00   \n",
       "129                  9.793254e+09                  1.101741e+10   \n",
       "130                 -1.035870e+01                 -1.612843e+01   \n",
       "\n",
       "     current_account_balance_2021  current_account_balance_2022  \\\n",
       "0                    3.137209e+00                  8.453239e-01   \n",
       "1                    1.277747e-02                 -3.526320e-01   \n",
       "2                    8.659145e+00                  1.156562e+01   \n",
       "3                    6.931968e+00                  4.437915e+00   \n",
       "4                    1.421095e+08                  1.564863e+08   \n",
       "..                            ...                           ...   \n",
       "126                 -3.706463e+00                 -1.953545e+00   \n",
       "127                 -1.943275e+00                  4.923775e+00   \n",
       "128                 -1.969781e+01                 -3.460623e+01   \n",
       "129                  1.224157e+10                  1.346572e+10   \n",
       "130                 -1.445885e+01                 -1.108356e+01   \n",
       "\n",
       "     current_account_balance_2023  exchange_rate_usd_1990  \\\n",
       "0                    2.547373e-01            1.281057e+00   \n",
       "1                   -7.295740e-01            1.166774e+00   \n",
       "2                    9.840846e+00            6.188558e+00   \n",
       "3                    5.936536e+00            1.615733e+00   \n",
       "4                    1.708664e+08            1.840786e+08   \n",
       "..                            ...                     ...   \n",
       "126                  1.847993e+00            4.006292e+01   \n",
       "127                 -5.401186e+00            1.952346e-02   \n",
       "128                 -2.810367e+01            6.950892e+02   \n",
       "129                  1.468988e+10            1.591404e+10   \n",
       "130                 -1.399198e+01            2.700000e+00   \n",
       "\n",
       "     exchange_rate_usd_2000  exchange_rate_usd_2014  exchange_rate_usd_2015  \\\n",
       "0              1.724827e+00            1.109363e+00            1.331090e+00   \n",
       "1              1.485394e+00            1.104747e+00            1.278786e+00   \n",
       "2              8.083144e+00            5.612467e+00            6.727907e+00   \n",
       "3              1.481802e+11            2.963604e+11            4.445405e+11   \n",
       "4              2.451328e+09            4.784157e+09            7.121938e+09   \n",
       "..                      ...                     ...                     ...   \n",
       "126            7.700512e+01            1.305647e+02            1.358569e+02   \n",
       "127            5.440233e+00            1.188666e+01            2.184470e+01   \n",
       "128            1.507500e+03            1.507500e+03            1.507500e+03   \n",
       "129            1.713819e+10            1.836235e+10            1.958651e+10   \n",
       "130            2.700000e+00            2.700000e+00            2.700000e+00   \n",
       "\n",
       "     exchange_rate_usd_2016  exchange_rate_usd_2017  exchange_rate_usd_2018  \\\n",
       "0              1.345214e+00            1.304758e+00            1.338412e+00   \n",
       "1              1.325615e+00            1.297936e+00            1.295818e+00   \n",
       "2              6.731718e+00            6.602893e+00            6.314619e+00   \n",
       "3              5.927207e+11            7.409009e+11            8.890811e+11   \n",
       "4              9.459720e+09            1.179867e+10            1.417107e+10   \n",
       "..                      ...                     ...                     ...   \n",
       "126            1.455817e+02            1.524464e+02            1.624649e+02   \n",
       "127            2.555133e+01            2.659661e+01            2.720049e+01   \n",
       "128            1.507500e+03            1.507500e+03            1.507500e+03   \n",
       "129            2.081066e+10            2.203482e+10            2.325898e+10   \n",
       "130            2.700000e+00            2.700000e+00            2.700000e+00   \n",
       "\n",
       "     exchange_rate_usd_2019  exchange_rate_usd_2020  exchange_rate_usd_2021  \\\n",
       "0              1.438507e+00            1.453085e+00            1.331224e+00   \n",
       "1              1.326793e+00            1.341153e+00            1.253877e+00   \n",
       "2              6.669447e+00            6.542152e+00            6.287113e+00   \n",
       "3              1.037261e+12            1.185441e+12            1.333622e+12   \n",
       "4              1.654347e+10            1.891586e+10            2.129617e+10   \n",
       "..                      ...                     ...                     ...   \n",
       "126            1.787449e+02            1.855926e+02            1.987643e+02   \n",
       "127            2.584559e+01            2.695752e+01            2.728619e+01   \n",
       "128            1.507500e+03            1.507500e+03            1.507500e+03   \n",
       "129            2.448314e+10            2.570729e+10            2.693145e+10   \n",
       "130            2.700000e+00            2.700000e+00            2.700000e+00   \n",
       "\n",
       "     exchange_rate_usd_2022  exchange_rate_usd_2023      gdp_1990  \\\n",
       "0              1.441664e+00            1.505191e+00  3.114267e+11   \n",
       "1              1.301555e+00            1.349909e+00  5.960756e+11   \n",
       "2              7.076152e+00            6.889703e+00  1.382177e+11   \n",
       "3              1.481802e+12            1.629982e+12  1.778162e+12   \n",
       "4              2.368620e+10            2.638014e+10  1.421509e+09   \n",
       "..                      ...                     ...           ...   \n",
       "126            3.226327e+02            3.275065e+02  8.032551e+09   \n",
       "127            3.234230e+01            3.657381e+01  8.139356e+10   \n",
       "128            1.507500e+03            1.419243e+09  2.838485e+09   \n",
       "129            2.815561e+10            2.937976e+10  3.060392e+10   \n",
       "130            2.700000e+00            2.700000e+00  2.780988e+08   \n",
       "\n",
       "         gdp_2000      gdp_2014      gdp_2015      gdp_2016      gdp_2017  \\\n",
       "0    4.161678e+11  1.468265e+12  1.351296e+12  1.206837e+12  1.325583e+12   \n",
       "1    7.447734e+11  1.805750e+12  1.556509e+12  1.527995e+12  1.649266e+12   \n",
       "2    1.640438e+11  3.528326e+11  3.017589e+11  3.121818e+11  3.316106e+11   \n",
       "3    1.966981e+12  3.965801e+12  3.423568e+12  3.537784e+12  3.763092e+12   \n",
       "4    2.483890e+09  6.657527e+09  6.268515e+09  6.237302e+09  6.474309e+09   \n",
       "..            ...           ...           ...           ...           ...   \n",
       "126  1.633081e+10  8.252854e+10  8.514096e+10  8.801228e+10  9.437624e+10   \n",
       "127  3.237508e+10  1.335039e+11  9.103097e+10  9.335587e+10  1.120905e+11   \n",
       "128  1.726036e+10  4.809521e+10  4.992934e+10  5.114731e+10  5.302768e+10   \n",
       "129  6.170180e+10  1.020000e+11  1.030000e+11  1.040000e+11  1.030000e+11   \n",
       "130  5.200444e+08  9.114963e+08  9.970074e+08  1.061641e+09  1.125685e+09   \n",
       "\n",
       "         gdp_2018      gdp_2019      gdp_2020      gdp_2021      gdp_2022  \\\n",
       "0    1.427809e+12  1.392724e+12  1.328414e+12  1.556736e+12  1.690858e+12   \n",
       "1    1.725329e+12  1.743725e+12  1.655685e+12  2.007472e+12  2.161483e+12   \n",
       "2    3.552934e+11  3.454015e+11  3.556310e+11  4.083782e+11  4.019456e+11   \n",
       "3    4.052008e+12  3.957208e+12  3.940143e+12  4.348297e+12  4.163596e+12   \n",
       "4    6.692621e+09  6.436467e+09  6.405870e+09  7.710380e+09  7.361504e+09   \n",
       "..            ...           ...           ...           ...           ...   \n",
       "126  9.449387e+10  8.901498e+10  8.430430e+10  8.860932e+10  7.414487e+10   \n",
       "127  1.308911e+11  1.538830e+11  1.566177e+11  1.997659e+11  1.619895e+11   \n",
       "128  5.490152e+10  5.160596e+10  3.171213e+10  2.313194e+10  2.099242e+10   \n",
       "129  1.010000e+11  1.050000e+11  1.030000e+11  1.060000e+11  1.140000e+11   \n",
       "130  1.166515e+09  1.213485e+09  1.043411e+09  1.122800e+09  1.224578e+09   \n",
       "\n",
       "         gdp_2023  inflation_1990  inflation_2000  inflation_2014  \\\n",
       "0    1.728057e+12    7.333022e+00    4.457435e+00    2.487923e+00   \n",
       "1    2.142471e+12    4.780477e+00    2.719440e+00    1.906636e+00   \n",
       "2    4.070919e+11    2.641603e+00    2.903282e+00    5.640205e-01   \n",
       "3    4.525704e+12    2.696468e+00    1.440268e+00    9.067940e-01   \n",
       "4    7.088856e+09    6.816208e+09    6.543559e+09    6.270911e+09   \n",
       "..            ...             ...             ...             ...   \n",
       "126  8.435686e+10    2.149525e+01    6.176276e+00    3.179002e+00   \n",
       "127  1.787570e+11    8.937851e+10    2.820310e+01    1.207186e+01   \n",
       "128  1.574432e+10    1.049621e+10    5.248105e+09    1.854604e+00   \n",
       "129  1.180000e+11    1.134615e+11    1.089231e+11    1.043846e+11   \n",
       "130  1.316733e+09    2.724237e+00    2.181818e+00   -9.836031e-01   \n",
       "\n",
       "     inflation_2015  inflation_2016  inflation_2017  inflation_2018  \\\n",
       "0      1.508367e+00    1.276991e+00    1.948647e+00    1.911401e+00   \n",
       "1      1.125241e+00    1.428760e+00    1.596884e+00    2.268226e+00   \n",
       "2      4.520342e-01    2.500000e-01    1.147132e+00    8.136095e-01   \n",
       "3      5.144261e-01    4.917470e-01    1.509495e+00    1.732169e+00   \n",
       "4      5.998263e+09    5.725615e+09    5.452966e+09    5.180318e+09   \n",
       "..              ...             ...             ...             ...   \n",
       "126    3.768368e+00    3.958888e+00    7.704138e+00    2.135038e+00   \n",
       "127    4.869986e+01    1.391271e+01    1.443832e+01    1.095186e+01   \n",
       "128   -3.749145e+00   -7.833596e-01    4.321352e+00    6.076989e+00   \n",
       "129    9.984615e+10    9.530769e+10    9.076923e+10    8.623077e+10   \n",
       "130   -5.154480e-01    1.650390e+00    9.084583e-01    8.041023e-01   \n",
       "\n",
       "     inflation_2019  inflation_2020  inflation_2021  inflation_2022  \\\n",
       "0      1.610768e+00    8.469055e-01    2.863910e+00    6.594097e+00   \n",
       "1      1.949269e+00    7.169996e-01    3.395193e+00    6.802801e+00   \n",
       "2      7.581316e-01    4.207120e-01    1.853045e+00    7.696567e+00   \n",
       "3      1.445660e+00    1.448779e-01    3.066667e+00    6.872574e+00   \n",
       "4      4.907670e+09    4.635021e+09    4.362373e+09    4.089725e+09   \n",
       "..              ...             ...             ...             ...   \n",
       "126    3.528394e+00    6.153945e+00    7.014781e+00    4.972110e+01   \n",
       "127    7.886717e+00    2.732492e+00    9.363139e+00    2.018364e+01   \n",
       "128    3.005389e+00    8.486433e+01    1.547561e+02    1.712055e+02   \n",
       "129    8.169231e+10    7.715385e+10    7.261538e+10    6.807692e+10   \n",
       "130    5.981498e-01   -7.407326e-01    1.219512e+00    2.580539e+00   \n",
       "\n",
       "     inflation_2023  total_reserves_1990  total_reserves_2000  \\\n",
       "0      5.597015e+00         1.931874e+10         1.882155e+10   \n",
       "1      3.879002e+00         2.352952e+10         3.242727e+10   \n",
       "2      3.305178e+00         1.122584e+10         1.569595e+10   \n",
       "3      5.946437e+00         1.045473e+11         8.749687e+10   \n",
       "4      3.817076e+09         3.544428e+09         3.271780e+09   \n",
       "..              ...                  ...                  ...   \n",
       "126    1.654117e+01         4.470305e+08         1.131355e+09   \n",
       "127    1.284902e+01         7.386012e+08         1.477202e+09   \n",
       "128    2.213416e+02         4.210389e+09         8.474638e+09   \n",
       "129    6.353846e+10         5.900000e+10         5.446154e+10   \n",
       "130    2.696123e+00         1.757889e+07         5.766000e+07   \n",
       "\n",
       "     total_reserves_2014  total_reserves_2015  total_reserves_2016  \\\n",
       "0           5.391033e+10         4.540604e+10         5.248079e+10   \n",
       "1           7.469996e+10         7.975352e+10         8.271811e+10   \n",
       "2           7.539189e+10         6.518509e+10         6.421581e+10   \n",
       "3           1.934848e+11         1.737309e+11         1.840313e+11   \n",
       "4           2.999131e+09         2.726483e+09         2.453835e+09   \n",
       "..                   ...                  ...                  ...   \n",
       "126         8.210750e+09         7.302097e+09         6.008199e+09   \n",
       "127         7.538805e+09         1.330088e+10         1.553726e+10   \n",
       "128         5.066886e+10         4.853139e+10         5.390551e+10   \n",
       "129         4.992308e+10         4.538462e+10         4.084615e+10   \n",
       "130         1.699494e+08         1.979735e+08         2.076893e+08   \n",
       "\n",
       "     total_reserves_2017  total_reserves_2018  total_reserves_2019  \\\n",
       "0           6.565372e+10         5.390953e+10         5.799469e+10   \n",
       "1           8.667771e+10         8.392560e+10         8.529711e+10   \n",
       "2           7.524445e+10         7.094208e+10         6.683555e+10   \n",
       "3           1.999831e+11         1.980271e+11         2.240280e+11   \n",
       "4           2.181187e+09         1.908538e+09         1.635890e+09   \n",
       "..                   ...                  ...                  ...   \n",
       "126         7.959048e+09         6.920826e+09         7.648305e+09   \n",
       "127         1.881093e+10         2.081790e+10         2.531700e+10   \n",
       "128         5.541153e+10         5.238061e+10         5.221348e+10   \n",
       "129         3.630769e+10         3.176923e+10         2.723077e+10   \n",
       "130         1.991259e+08         2.338159e+08         2.363253e+08   \n",
       "\n",
       "     total_reserves_2020  total_reserves_2021  total_reserves_2022  \\\n",
       "0           4.254463e+10         5.787750e+10         5.670190e+10   \n",
       "1           9.042814e+10         1.066151e+11         1.069524e+11   \n",
       "2           7.282335e+10         8.223584e+10         9.607255e+10   \n",
       "3           2.684086e+11         2.957362e+11         2.939137e+11   \n",
       "4           1.363242e+09         1.090593e+09         8.179449e+08   \n",
       "..                   ...                  ...                  ...   \n",
       "126         5.663994e+09         3.136992e+09         2.352744e+09   \n",
       "127         2.913754e+10         3.096667e+10         2.850593e+10   \n",
       "128         4.244040e+10         3.523922e+10         3.251288e+10   \n",
       "129         2.269231e+10         1.815385e+10         1.361538e+10   \n",
       "130         2.933204e+08         3.482592e+08         3.717673e+08   \n",
       "\n",
       "     total_reserves_2023   Unnamed: 73  value_counts  \n",
       "0           6.170335e+10  3.085167e+10          73.0  \n",
       "1           1.175509e+11  5.877545e+10          73.0  \n",
       "2           1.093708e+11  5.468542e+10          73.0  \n",
       "3           3.227001e+11  1.613500e+11          62.0  \n",
       "4           5.452966e+08  2.726483e+08          13.0  \n",
       "..                   ...           ...           ...  \n",
       "126         1.568496e+09  7.842479e+08          71.0  \n",
       "127         4.051011e+10  2.025505e+10          67.0  \n",
       "128         2.167525e+10  1.083763e+10          66.0  \n",
       "129         9.076923e+09  4.538462e+09          39.0  \n",
       "130         4.041299e+08  2.020650e+08          64.0  \n",
       "\n",
       "[131 rows x 77 columns]"
      ]
     },
     "execution_count": 74,
     "metadata": {},
     "output_type": "execute_result"
    }
   ],
   "source": [
    "data"
   ]
  },
  {
   "cell_type": "code",
   "execution_count": 75,
   "metadata": {},
   "outputs": [],
   "source": [
    "#dropping non-relevant columns\n",
    "data = data.drop(['Unnamed: 73', 'value_counts', 'Country Name', 'country_code'], axis = 1)"
   ]
  },
  {
   "cell_type": "code",
   "execution_count": 76,
   "metadata": {},
   "outputs": [
    {
     "name": "stdout",
     "output_type": "stream",
     "text": [
      "Number of unique values:  38\n",
      "['AAA' 'AA+' 'AA+\\xa0' 'AA-' 'AA' 'AA\\xa0' 'A+' 'NR' 'A\\xa0' 'A' 'AA-\\xa0'\n",
      " 'A-' 'A-\\xa0' 'BBB+' 'BBB' 'BBB\\xa0' 'BBB+\\xa0' 'BBB-' 'BBB-\\xa0'\n",
      " 'BB+\\xa0' 'BB+' 'BB\\xa0' 'BB' 'BB-\\xa0' 'BB-' 'B+' 'B+\\xa0' 'SD' 'B\\xa0'\n",
      " 'B-' 'B' 'B-\\xa0' 'CCC+\\xa0' 'CCC+' 'CCC' 'D' 'D\\xa0' 'SD\\xa0']\n"
     ]
    }
   ],
   "source": [
    "print('Number of unique values: ', data['S&P Rating'].nunique())\n",
    "print(data['S&P Rating'].unique())"
   ]
  },
  {
   "cell_type": "markdown",
   "metadata": {},
   "source": [
    "As 38 is too many values for a classification, we will regroup first, and drop the non-rated 'NR'."
   ]
  },
  {
   "cell_type": "code",
   "execution_count": 77,
   "metadata": {},
   "outputs": [],
   "source": [
    "data = data[data['S&P Rating'] != 'NR'] #dropping non-rated"
   ]
  },
  {
   "cell_type": "code",
   "execution_count": 78,
   "metadata": {},
   "outputs": [],
   "source": [
    "data['target'] = np.where(data['S&P Rating'].str.match(r'.*A.*', na=False), 0, \n",
    "                          np.where(data['S&P Rating'].str.match(r'.*B.*', na=False), 1, 2))"
   ]
  },
  {
   "cell_type": "markdown",
   "metadata": {},
   "source": [
    "We now have 3 classification possibilities. "
   ]
  },
  {
   "cell_type": "markdown",
   "metadata": {},
   "source": [
    "# Base Model"
   ]
  },
  {
   "cell_type": "code",
   "execution_count": 79,
   "metadata": {},
   "outputs": [
    {
     "data": {
      "text/html": [
       "<div>\n",
       "<style scoped>\n",
       "    .dataframe tbody tr th:only-of-type {\n",
       "        vertical-align: middle;\n",
       "    }\n",
       "\n",
       "    .dataframe tbody tr th {\n",
       "        vertical-align: top;\n",
       "    }\n",
       "\n",
       "    .dataframe thead th {\n",
       "        text-align: right;\n",
       "    }\n",
       "</style>\n",
       "<table border=\"1\" class=\"dataframe\">\n",
       "  <thead>\n",
       "    <tr style=\"text-align: right;\">\n",
       "      <th></th>\n",
       "      <th>Country</th>\n",
       "      <th>S&amp;P Rating</th>\n",
       "      <th>unemployment_2000</th>\n",
       "      <th>unemployment_2014</th>\n",
       "      <th>unemployment_2015</th>\n",
       "      <th>unemployment_2016</th>\n",
       "      <th>unemployment_2017</th>\n",
       "      <th>unemployment_2018</th>\n",
       "      <th>unemployment_2019</th>\n",
       "      <th>unemployment_2020</th>\n",
       "      <th>unemployment_2021</th>\n",
       "      <th>unemployment_2022</th>\n",
       "      <th>unemployment_2023</th>\n",
       "      <th>current_account_balance_1990</th>\n",
       "      <th>current_account_balance_2000</th>\n",
       "      <th>current_account_balance_2014</th>\n",
       "      <th>current_account_balance_2015</th>\n",
       "      <th>current_account_balance_2016</th>\n",
       "      <th>current_account_balance_2017</th>\n",
       "      <th>current_account_balance_2018</th>\n",
       "      <th>current_account_balance_2019</th>\n",
       "      <th>current_account_balance_2020</th>\n",
       "      <th>current_account_balance_2021</th>\n",
       "      <th>current_account_balance_2022</th>\n",
       "      <th>current_account_balance_2023</th>\n",
       "      <th>exchange_rate_usd_1990</th>\n",
       "      <th>exchange_rate_usd_2000</th>\n",
       "      <th>exchange_rate_usd_2014</th>\n",
       "      <th>exchange_rate_usd_2015</th>\n",
       "      <th>exchange_rate_usd_2016</th>\n",
       "      <th>exchange_rate_usd_2017</th>\n",
       "      <th>exchange_rate_usd_2018</th>\n",
       "      <th>exchange_rate_usd_2019</th>\n",
       "      <th>exchange_rate_usd_2020</th>\n",
       "      <th>exchange_rate_usd_2021</th>\n",
       "      <th>exchange_rate_usd_2022</th>\n",
       "      <th>exchange_rate_usd_2023</th>\n",
       "      <th>gdp_1990</th>\n",
       "      <th>gdp_2000</th>\n",
       "      <th>gdp_2014</th>\n",
       "      <th>gdp_2015</th>\n",
       "      <th>gdp_2016</th>\n",
       "      <th>gdp_2017</th>\n",
       "      <th>gdp_2018</th>\n",
       "      <th>gdp_2019</th>\n",
       "      <th>gdp_2020</th>\n",
       "      <th>gdp_2021</th>\n",
       "      <th>gdp_2022</th>\n",
       "      <th>gdp_2023</th>\n",
       "      <th>inflation_1990</th>\n",
       "      <th>inflation_2000</th>\n",
       "      <th>inflation_2014</th>\n",
       "      <th>inflation_2015</th>\n",
       "      <th>inflation_2016</th>\n",
       "      <th>inflation_2017</th>\n",
       "      <th>inflation_2018</th>\n",
       "      <th>inflation_2019</th>\n",
       "      <th>inflation_2020</th>\n",
       "      <th>inflation_2021</th>\n",
       "      <th>inflation_2022</th>\n",
       "      <th>inflation_2023</th>\n",
       "      <th>total_reserves_1990</th>\n",
       "      <th>total_reserves_2000</th>\n",
       "      <th>total_reserves_2014</th>\n",
       "      <th>total_reserves_2015</th>\n",
       "      <th>total_reserves_2016</th>\n",
       "      <th>total_reserves_2017</th>\n",
       "      <th>total_reserves_2018</th>\n",
       "      <th>total_reserves_2019</th>\n",
       "      <th>total_reserves_2020</th>\n",
       "      <th>total_reserves_2021</th>\n",
       "      <th>total_reserves_2022</th>\n",
       "      <th>total_reserves_2023</th>\n",
       "      <th>target</th>\n",
       "    </tr>\n",
       "  </thead>\n",
       "  <tbody>\n",
       "    <tr>\n",
       "      <th>0</th>\n",
       "      <td>Australia</td>\n",
       "      <td>AAA</td>\n",
       "      <td>6.288000</td>\n",
       "      <td>6.078000</td>\n",
       "      <td>6.055000</td>\n",
       "      <td>5.711000</td>\n",
       "      <td>5.592000</td>\n",
       "      <td>5.300000</td>\n",
       "      <td>5.159000</td>\n",
       "      <td>6.456000</td>\n",
       "      <td>5.116000</td>\n",
       "      <td>3.701000</td>\n",
       "      <td>3.667000</td>\n",
       "      <td>-4.987491e+00</td>\n",
       "      <td>-3.721401e+00</td>\n",
       "      <td>-3.054734e+00</td>\n",
       "      <td>-4.229028e+00</td>\n",
       "      <td>-3.440490e+00</td>\n",
       "      <td>-2.722911e+00</td>\n",
       "      <td>-2.233402e+00</td>\n",
       "      <td>3.501218e-01</td>\n",
       "      <td>2.330931e+00</td>\n",
       "      <td>3.137209e+00</td>\n",
       "      <td>8.453239e-01</td>\n",
       "      <td>2.547373e-01</td>\n",
       "      <td>1.281057e+00</td>\n",
       "      <td>1.724827e+00</td>\n",
       "      <td>1.109363e+00</td>\n",
       "      <td>1.331090e+00</td>\n",
       "      <td>1.345214e+00</td>\n",
       "      <td>1.304758e+00</td>\n",
       "      <td>1.338412e+00</td>\n",
       "      <td>1.438507e+00</td>\n",
       "      <td>1.453085e+00</td>\n",
       "      <td>1.331224e+00</td>\n",
       "      <td>1.441664e+00</td>\n",
       "      <td>1.505191e+00</td>\n",
       "      <td>3.114267e+11</td>\n",
       "      <td>4.161678e+11</td>\n",
       "      <td>1.468265e+12</td>\n",
       "      <td>1.351296e+12</td>\n",
       "      <td>1.206837e+12</td>\n",
       "      <td>1.325583e+12</td>\n",
       "      <td>1.427809e+12</td>\n",
       "      <td>1.392724e+12</td>\n",
       "      <td>1.328414e+12</td>\n",
       "      <td>1.556736e+12</td>\n",
       "      <td>1.690858e+12</td>\n",
       "      <td>1.728057e+12</td>\n",
       "      <td>7.333022e+00</td>\n",
       "      <td>4.457435e+00</td>\n",
       "      <td>2.487923e+00</td>\n",
       "      <td>1.508367e+00</td>\n",
       "      <td>1.276991e+00</td>\n",
       "      <td>1.948647e+00</td>\n",
       "      <td>1.911401e+00</td>\n",
       "      <td>1.610768e+00</td>\n",
       "      <td>8.469055e-01</td>\n",
       "      <td>2.863910e+00</td>\n",
       "      <td>6.594097e+00</td>\n",
       "      <td>5.597015e+00</td>\n",
       "      <td>1.931874e+10</td>\n",
       "      <td>1.882155e+10</td>\n",
       "      <td>5.391033e+10</td>\n",
       "      <td>4.540604e+10</td>\n",
       "      <td>5.248079e+10</td>\n",
       "      <td>6.565372e+10</td>\n",
       "      <td>5.390953e+10</td>\n",
       "      <td>5.799469e+10</td>\n",
       "      <td>4.254463e+10</td>\n",
       "      <td>5.787750e+10</td>\n",
       "      <td>5.670190e+10</td>\n",
       "      <td>6.170335e+10</td>\n",
       "      <td>0</td>\n",
       "    </tr>\n",
       "    <tr>\n",
       "      <th>1</th>\n",
       "      <td>Canada</td>\n",
       "      <td>AAA</td>\n",
       "      <td>6.829000</td>\n",
       "      <td>7.023000</td>\n",
       "      <td>6.945000</td>\n",
       "      <td>7.038000</td>\n",
       "      <td>6.426000</td>\n",
       "      <td>5.837000</td>\n",
       "      <td>5.690000</td>\n",
       "      <td>9.657000</td>\n",
       "      <td>7.527000</td>\n",
       "      <td>5.280000</td>\n",
       "      <td>5.366000</td>\n",
       "      <td>-3.398803e+00</td>\n",
       "      <td>2.483228e+00</td>\n",
       "      <td>-2.318921e+00</td>\n",
       "      <td>-3.513987e+00</td>\n",
       "      <td>-3.093111e+00</td>\n",
       "      <td>-2.803427e+00</td>\n",
       "      <td>-2.385072e+00</td>\n",
       "      <td>-1.951703e+00</td>\n",
       "      <td>-2.010494e+00</td>\n",
       "      <td>1.277747e-02</td>\n",
       "      <td>-3.526320e-01</td>\n",
       "      <td>-7.295740e-01</td>\n",
       "      <td>1.166774e+00</td>\n",
       "      <td>1.485394e+00</td>\n",
       "      <td>1.104747e+00</td>\n",
       "      <td>1.278786e+00</td>\n",
       "      <td>1.325615e+00</td>\n",
       "      <td>1.297936e+00</td>\n",
       "      <td>1.295818e+00</td>\n",
       "      <td>1.326793e+00</td>\n",
       "      <td>1.341153e+00</td>\n",
       "      <td>1.253877e+00</td>\n",
       "      <td>1.301555e+00</td>\n",
       "      <td>1.349909e+00</td>\n",
       "      <td>5.960756e+11</td>\n",
       "      <td>7.447734e+11</td>\n",
       "      <td>1.805750e+12</td>\n",
       "      <td>1.556509e+12</td>\n",
       "      <td>1.527995e+12</td>\n",
       "      <td>1.649266e+12</td>\n",
       "      <td>1.725329e+12</td>\n",
       "      <td>1.743725e+12</td>\n",
       "      <td>1.655685e+12</td>\n",
       "      <td>2.007472e+12</td>\n",
       "      <td>2.161483e+12</td>\n",
       "      <td>2.142471e+12</td>\n",
       "      <td>4.780477e+00</td>\n",
       "      <td>2.719440e+00</td>\n",
       "      <td>1.906636e+00</td>\n",
       "      <td>1.125241e+00</td>\n",
       "      <td>1.428760e+00</td>\n",
       "      <td>1.596884e+00</td>\n",
       "      <td>2.268226e+00</td>\n",
       "      <td>1.949269e+00</td>\n",
       "      <td>7.169996e-01</td>\n",
       "      <td>3.395193e+00</td>\n",
       "      <td>6.802801e+00</td>\n",
       "      <td>3.879002e+00</td>\n",
       "      <td>2.352952e+10</td>\n",
       "      <td>3.242727e+10</td>\n",
       "      <td>7.469996e+10</td>\n",
       "      <td>7.975352e+10</td>\n",
       "      <td>8.271811e+10</td>\n",
       "      <td>8.667771e+10</td>\n",
       "      <td>8.392560e+10</td>\n",
       "      <td>8.529711e+10</td>\n",
       "      <td>9.042814e+10</td>\n",
       "      <td>1.066151e+11</td>\n",
       "      <td>1.069524e+11</td>\n",
       "      <td>1.175509e+11</td>\n",
       "      <td>0</td>\n",
       "    </tr>\n",
       "    <tr>\n",
       "      <th>2</th>\n",
       "      <td>Denmark</td>\n",
       "      <td>AAA</td>\n",
       "      <td>4.476000</td>\n",
       "      <td>6.925000</td>\n",
       "      <td>6.278000</td>\n",
       "      <td>5.989000</td>\n",
       "      <td>5.833000</td>\n",
       "      <td>5.131000</td>\n",
       "      <td>5.018000</td>\n",
       "      <td>5.637000</td>\n",
       "      <td>5.043000</td>\n",
       "      <td>4.434000</td>\n",
       "      <td>5.142000</td>\n",
       "      <td>9.923083e-01</td>\n",
       "      <td>1.378800e+00</td>\n",
       "      <td>8.886178e+00</td>\n",
       "      <td>7.953938e+00</td>\n",
       "      <td>7.078509e+00</td>\n",
       "      <td>7.360245e+00</td>\n",
       "      <td>6.244573e+00</td>\n",
       "      <td>7.425270e+00</td>\n",
       "      <td>7.231130e+00</td>\n",
       "      <td>8.659145e+00</td>\n",
       "      <td>1.156562e+01</td>\n",
       "      <td>9.840846e+00</td>\n",
       "      <td>6.188558e+00</td>\n",
       "      <td>8.083144e+00</td>\n",
       "      <td>5.612467e+00</td>\n",
       "      <td>6.727907e+00</td>\n",
       "      <td>6.731718e+00</td>\n",
       "      <td>6.602893e+00</td>\n",
       "      <td>6.314619e+00</td>\n",
       "      <td>6.669447e+00</td>\n",
       "      <td>6.542152e+00</td>\n",
       "      <td>6.287113e+00</td>\n",
       "      <td>7.076152e+00</td>\n",
       "      <td>6.889703e+00</td>\n",
       "      <td>1.382177e+11</td>\n",
       "      <td>1.640438e+11</td>\n",
       "      <td>3.528326e+11</td>\n",
       "      <td>3.017589e+11</td>\n",
       "      <td>3.121818e+11</td>\n",
       "      <td>3.316106e+11</td>\n",
       "      <td>3.552934e+11</td>\n",
       "      <td>3.454015e+11</td>\n",
       "      <td>3.556310e+11</td>\n",
       "      <td>4.083782e+11</td>\n",
       "      <td>4.019456e+11</td>\n",
       "      <td>4.070919e+11</td>\n",
       "      <td>2.641603e+00</td>\n",
       "      <td>2.903282e+00</td>\n",
       "      <td>5.640205e-01</td>\n",
       "      <td>4.520342e-01</td>\n",
       "      <td>2.500000e-01</td>\n",
       "      <td>1.147132e+00</td>\n",
       "      <td>8.136095e-01</td>\n",
       "      <td>7.581316e-01</td>\n",
       "      <td>4.207120e-01</td>\n",
       "      <td>1.853045e+00</td>\n",
       "      <td>7.696567e+00</td>\n",
       "      <td>3.305178e+00</td>\n",
       "      <td>1.122584e+10</td>\n",
       "      <td>1.569595e+10</td>\n",
       "      <td>7.539189e+10</td>\n",
       "      <td>6.518509e+10</td>\n",
       "      <td>6.421581e+10</td>\n",
       "      <td>7.524445e+10</td>\n",
       "      <td>7.094208e+10</td>\n",
       "      <td>6.683555e+10</td>\n",
       "      <td>7.282335e+10</td>\n",
       "      <td>8.223584e+10</td>\n",
       "      <td>9.607255e+10</td>\n",
       "      <td>1.093708e+11</td>\n",
       "      <td>0</td>\n",
       "    </tr>\n",
       "    <tr>\n",
       "      <th>3</th>\n",
       "      <td>Germany</td>\n",
       "      <td>AAA</td>\n",
       "      <td>7.917000</td>\n",
       "      <td>4.981000</td>\n",
       "      <td>4.624000</td>\n",
       "      <td>4.122000</td>\n",
       "      <td>3.746000</td>\n",
       "      <td>3.384000</td>\n",
       "      <td>3.136000</td>\n",
       "      <td>3.856000</td>\n",
       "      <td>3.638000</td>\n",
       "      <td>3.135000</td>\n",
       "      <td>3.045000</td>\n",
       "      <td>2.612583e+00</td>\n",
       "      <td>-1.513131e+00</td>\n",
       "      <td>7.192490e+00</td>\n",
       "      <td>8.100335e+00</td>\n",
       "      <td>8.899854e+00</td>\n",
       "      <td>8.083586e+00</td>\n",
       "      <td>8.444744e+00</td>\n",
       "      <td>7.880059e+00</td>\n",
       "      <td>6.349851e+00</td>\n",
       "      <td>6.931968e+00</td>\n",
       "      <td>4.437915e+00</td>\n",
       "      <td>5.936536e+00</td>\n",
       "      <td>1.615733e+00</td>\n",
       "      <td>1.481802e+11</td>\n",
       "      <td>2.963604e+11</td>\n",
       "      <td>4.445405e+11</td>\n",
       "      <td>5.927207e+11</td>\n",
       "      <td>7.409009e+11</td>\n",
       "      <td>8.890811e+11</td>\n",
       "      <td>1.037261e+12</td>\n",
       "      <td>1.185441e+12</td>\n",
       "      <td>1.333622e+12</td>\n",
       "      <td>1.481802e+12</td>\n",
       "      <td>1.629982e+12</td>\n",
       "      <td>1.778162e+12</td>\n",
       "      <td>1.966981e+12</td>\n",
       "      <td>3.965801e+12</td>\n",
       "      <td>3.423568e+12</td>\n",
       "      <td>3.537784e+12</td>\n",
       "      <td>3.763092e+12</td>\n",
       "      <td>4.052008e+12</td>\n",
       "      <td>3.957208e+12</td>\n",
       "      <td>3.940143e+12</td>\n",
       "      <td>4.348297e+12</td>\n",
       "      <td>4.163596e+12</td>\n",
       "      <td>4.525704e+12</td>\n",
       "      <td>2.696468e+00</td>\n",
       "      <td>1.440268e+00</td>\n",
       "      <td>9.067940e-01</td>\n",
       "      <td>5.144261e-01</td>\n",
       "      <td>4.917470e-01</td>\n",
       "      <td>1.509495e+00</td>\n",
       "      <td>1.732169e+00</td>\n",
       "      <td>1.445660e+00</td>\n",
       "      <td>1.448779e-01</td>\n",
       "      <td>3.066667e+00</td>\n",
       "      <td>6.872574e+00</td>\n",
       "      <td>5.946437e+00</td>\n",
       "      <td>1.045473e+11</td>\n",
       "      <td>8.749687e+10</td>\n",
       "      <td>1.934848e+11</td>\n",
       "      <td>1.737309e+11</td>\n",
       "      <td>1.840313e+11</td>\n",
       "      <td>1.999831e+11</td>\n",
       "      <td>1.980271e+11</td>\n",
       "      <td>2.240280e+11</td>\n",
       "      <td>2.684086e+11</td>\n",
       "      <td>2.957362e+11</td>\n",
       "      <td>2.939137e+11</td>\n",
       "      <td>3.227001e+11</td>\n",
       "      <td>0</td>\n",
       "    </tr>\n",
       "    <tr>\n",
       "      <th>4</th>\n",
       "      <td>Liechtenstein</td>\n",
       "      <td>AAA</td>\n",
       "      <td>9.640537</td>\n",
       "      <td>9.136085</td>\n",
       "      <td>9.052059</td>\n",
       "      <td>8.903803</td>\n",
       "      <td>8.664479</td>\n",
       "      <td>8.383856</td>\n",
       "      <td>8.244777</td>\n",
       "      <td>9.305229</td>\n",
       "      <td>9.015766</td>\n",
       "      <td>8.230760</td>\n",
       "      <td>7.967091</td>\n",
       "      <td>1.516652e+07</td>\n",
       "      <td>3.017828e+07</td>\n",
       "      <td>4.306998e+07</td>\n",
       "      <td>5.742663e+07</td>\n",
       "      <td>7.143651e+07</td>\n",
       "      <td>8.531168e+07</td>\n",
       "      <td>9.953030e+07</td>\n",
       "      <td>1.134059e+08</td>\n",
       "      <td>1.277577e+08</td>\n",
       "      <td>1.421095e+08</td>\n",
       "      <td>1.564863e+08</td>\n",
       "      <td>1.708664e+08</td>\n",
       "      <td>1.840786e+08</td>\n",
       "      <td>2.451328e+09</td>\n",
       "      <td>4.784157e+09</td>\n",
       "      <td>7.121938e+09</td>\n",
       "      <td>9.459720e+09</td>\n",
       "      <td>1.179867e+10</td>\n",
       "      <td>1.417107e+10</td>\n",
       "      <td>1.654347e+10</td>\n",
       "      <td>1.891586e+10</td>\n",
       "      <td>2.129617e+10</td>\n",
       "      <td>2.368620e+10</td>\n",
       "      <td>2.638014e+10</td>\n",
       "      <td>1.421509e+09</td>\n",
       "      <td>2.483890e+09</td>\n",
       "      <td>6.657527e+09</td>\n",
       "      <td>6.268515e+09</td>\n",
       "      <td>6.237302e+09</td>\n",
       "      <td>6.474309e+09</td>\n",
       "      <td>6.692621e+09</td>\n",
       "      <td>6.436467e+09</td>\n",
       "      <td>6.405870e+09</td>\n",
       "      <td>7.710380e+09</td>\n",
       "      <td>7.361504e+09</td>\n",
       "      <td>7.088856e+09</td>\n",
       "      <td>6.816208e+09</td>\n",
       "      <td>6.543559e+09</td>\n",
       "      <td>6.270911e+09</td>\n",
       "      <td>5.998263e+09</td>\n",
       "      <td>5.725615e+09</td>\n",
       "      <td>5.452966e+09</td>\n",
       "      <td>5.180318e+09</td>\n",
       "      <td>4.907670e+09</td>\n",
       "      <td>4.635021e+09</td>\n",
       "      <td>4.362373e+09</td>\n",
       "      <td>4.089725e+09</td>\n",
       "      <td>3.817076e+09</td>\n",
       "      <td>3.544428e+09</td>\n",
       "      <td>3.271780e+09</td>\n",
       "      <td>2.999131e+09</td>\n",
       "      <td>2.726483e+09</td>\n",
       "      <td>2.453835e+09</td>\n",
       "      <td>2.181187e+09</td>\n",
       "      <td>1.908538e+09</td>\n",
       "      <td>1.635890e+09</td>\n",
       "      <td>1.363242e+09</td>\n",
       "      <td>1.090593e+09</td>\n",
       "      <td>8.179449e+08</td>\n",
       "      <td>5.452966e+08</td>\n",
       "      <td>0</td>\n",
       "    </tr>\n",
       "    <tr>\n",
       "      <th>...</th>\n",
       "      <td>...</td>\n",
       "      <td>...</td>\n",
       "      <td>...</td>\n",
       "      <td>...</td>\n",
       "      <td>...</td>\n",
       "      <td>...</td>\n",
       "      <td>...</td>\n",
       "      <td>...</td>\n",
       "      <td>...</td>\n",
       "      <td>...</td>\n",
       "      <td>...</td>\n",
       "      <td>...</td>\n",
       "      <td>...</td>\n",
       "      <td>...</td>\n",
       "      <td>...</td>\n",
       "      <td>...</td>\n",
       "      <td>...</td>\n",
       "      <td>...</td>\n",
       "      <td>...</td>\n",
       "      <td>...</td>\n",
       "      <td>...</td>\n",
       "      <td>...</td>\n",
       "      <td>...</td>\n",
       "      <td>...</td>\n",
       "      <td>...</td>\n",
       "      <td>...</td>\n",
       "      <td>...</td>\n",
       "      <td>...</td>\n",
       "      <td>...</td>\n",
       "      <td>...</td>\n",
       "      <td>...</td>\n",
       "      <td>...</td>\n",
       "      <td>...</td>\n",
       "      <td>...</td>\n",
       "      <td>...</td>\n",
       "      <td>...</td>\n",
       "      <td>...</td>\n",
       "      <td>...</td>\n",
       "      <td>...</td>\n",
       "      <td>...</td>\n",
       "      <td>...</td>\n",
       "      <td>...</td>\n",
       "      <td>...</td>\n",
       "      <td>...</td>\n",
       "      <td>...</td>\n",
       "      <td>...</td>\n",
       "      <td>...</td>\n",
       "      <td>...</td>\n",
       "      <td>...</td>\n",
       "      <td>...</td>\n",
       "      <td>...</td>\n",
       "      <td>...</td>\n",
       "      <td>...</td>\n",
       "      <td>...</td>\n",
       "      <td>...</td>\n",
       "      <td>...</td>\n",
       "      <td>...</td>\n",
       "      <td>...</td>\n",
       "      <td>...</td>\n",
       "      <td>...</td>\n",
       "      <td>...</td>\n",
       "      <td>...</td>\n",
       "      <td>...</td>\n",
       "      <td>...</td>\n",
       "      <td>...</td>\n",
       "      <td>...</td>\n",
       "      <td>...</td>\n",
       "      <td>...</td>\n",
       "      <td>...</td>\n",
       "      <td>...</td>\n",
       "      <td>...</td>\n",
       "      <td>...</td>\n",
       "      <td>...</td>\n",
       "      <td>...</td>\n",
       "    </tr>\n",
       "    <tr>\n",
       "      <th>126</th>\n",
       "      <td>Sri Lanka</td>\n",
       "      <td>SD</td>\n",
       "      <td>7.740000</td>\n",
       "      <td>4.157000</td>\n",
       "      <td>4.519000</td>\n",
       "      <td>4.243000</td>\n",
       "      <td>4.046000</td>\n",
       "      <td>4.318000</td>\n",
       "      <td>4.670000</td>\n",
       "      <td>5.365000</td>\n",
       "      <td>5.258000</td>\n",
       "      <td>6.330000</td>\n",
       "      <td>6.360000</td>\n",
       "      <td>-3.713648e+00</td>\n",
       "      <td>-6.390297e+00</td>\n",
       "      <td>-2.408481e+00</td>\n",
       "      <td>-2.211361e+00</td>\n",
       "      <td>-1.979723e+00</td>\n",
       "      <td>-2.446586e+00</td>\n",
       "      <td>-2.962153e+00</td>\n",
       "      <td>-2.070888e+00</td>\n",
       "      <td>-1.408137e+00</td>\n",
       "      <td>-3.706463e+00</td>\n",
       "      <td>-1.953545e+00</td>\n",
       "      <td>1.847993e+00</td>\n",
       "      <td>4.006292e+01</td>\n",
       "      <td>7.700512e+01</td>\n",
       "      <td>1.305647e+02</td>\n",
       "      <td>1.358569e+02</td>\n",
       "      <td>1.455817e+02</td>\n",
       "      <td>1.524464e+02</td>\n",
       "      <td>1.624649e+02</td>\n",
       "      <td>1.787449e+02</td>\n",
       "      <td>1.855926e+02</td>\n",
       "      <td>1.987643e+02</td>\n",
       "      <td>3.226327e+02</td>\n",
       "      <td>3.275065e+02</td>\n",
       "      <td>8.032551e+09</td>\n",
       "      <td>1.633081e+10</td>\n",
       "      <td>8.252854e+10</td>\n",
       "      <td>8.514096e+10</td>\n",
       "      <td>8.801228e+10</td>\n",
       "      <td>9.437624e+10</td>\n",
       "      <td>9.449387e+10</td>\n",
       "      <td>8.901498e+10</td>\n",
       "      <td>8.430430e+10</td>\n",
       "      <td>8.860932e+10</td>\n",
       "      <td>7.414487e+10</td>\n",
       "      <td>8.435686e+10</td>\n",
       "      <td>2.149525e+01</td>\n",
       "      <td>6.176276e+00</td>\n",
       "      <td>3.179002e+00</td>\n",
       "      <td>3.768368e+00</td>\n",
       "      <td>3.958888e+00</td>\n",
       "      <td>7.704138e+00</td>\n",
       "      <td>2.135038e+00</td>\n",
       "      <td>3.528394e+00</td>\n",
       "      <td>6.153945e+00</td>\n",
       "      <td>7.014781e+00</td>\n",
       "      <td>4.972110e+01</td>\n",
       "      <td>1.654117e+01</td>\n",
       "      <td>4.470305e+08</td>\n",
       "      <td>1.131355e+09</td>\n",
       "      <td>8.210750e+09</td>\n",
       "      <td>7.302097e+09</td>\n",
       "      <td>6.008199e+09</td>\n",
       "      <td>7.959048e+09</td>\n",
       "      <td>6.920826e+09</td>\n",
       "      <td>7.648305e+09</td>\n",
       "      <td>5.663994e+09</td>\n",
       "      <td>3.136992e+09</td>\n",
       "      <td>2.352744e+09</td>\n",
       "      <td>1.568496e+09</td>\n",
       "      <td>2</td>\n",
       "    </tr>\n",
       "    <tr>\n",
       "      <th>127</th>\n",
       "      <td>Ukraine</td>\n",
       "      <td>SD</td>\n",
       "      <td>11.707000</td>\n",
       "      <td>9.270000</td>\n",
       "      <td>9.140000</td>\n",
       "      <td>9.350000</td>\n",
       "      <td>9.500000</td>\n",
       "      <td>8.799000</td>\n",
       "      <td>8.194000</td>\n",
       "      <td>9.475000</td>\n",
       "      <td>9.834000</td>\n",
       "      <td>8.411791</td>\n",
       "      <td>6.989581</td>\n",
       "      <td>5.567372e+00</td>\n",
       "      <td>4.145163e+00</td>\n",
       "      <td>-3.442597e+00</td>\n",
       "      <td>5.531085e+00</td>\n",
       "      <td>-1.998803e+00</td>\n",
       "      <td>-3.098389e+00</td>\n",
       "      <td>-4.914009e+00</td>\n",
       "      <td>-2.679957e+00</td>\n",
       "      <td>3.362966e+00</td>\n",
       "      <td>-1.943275e+00</td>\n",
       "      <td>4.923775e+00</td>\n",
       "      <td>-5.401186e+00</td>\n",
       "      <td>1.952346e-02</td>\n",
       "      <td>5.440233e+00</td>\n",
       "      <td>1.188666e+01</td>\n",
       "      <td>2.184470e+01</td>\n",
       "      <td>2.555133e+01</td>\n",
       "      <td>2.659661e+01</td>\n",
       "      <td>2.720049e+01</td>\n",
       "      <td>2.584559e+01</td>\n",
       "      <td>2.695752e+01</td>\n",
       "      <td>2.728619e+01</td>\n",
       "      <td>3.234230e+01</td>\n",
       "      <td>3.657381e+01</td>\n",
       "      <td>8.139356e+10</td>\n",
       "      <td>3.237508e+10</td>\n",
       "      <td>1.335039e+11</td>\n",
       "      <td>9.103097e+10</td>\n",
       "      <td>9.335587e+10</td>\n",
       "      <td>1.120905e+11</td>\n",
       "      <td>1.308911e+11</td>\n",
       "      <td>1.538830e+11</td>\n",
       "      <td>1.566177e+11</td>\n",
       "      <td>1.997659e+11</td>\n",
       "      <td>1.619895e+11</td>\n",
       "      <td>1.787570e+11</td>\n",
       "      <td>8.937851e+10</td>\n",
       "      <td>2.820310e+01</td>\n",
       "      <td>1.207186e+01</td>\n",
       "      <td>4.869986e+01</td>\n",
       "      <td>1.391271e+01</td>\n",
       "      <td>1.443832e+01</td>\n",
       "      <td>1.095186e+01</td>\n",
       "      <td>7.886717e+00</td>\n",
       "      <td>2.732492e+00</td>\n",
       "      <td>9.363139e+00</td>\n",
       "      <td>2.018364e+01</td>\n",
       "      <td>1.284902e+01</td>\n",
       "      <td>7.386012e+08</td>\n",
       "      <td>1.477202e+09</td>\n",
       "      <td>7.538805e+09</td>\n",
       "      <td>1.330088e+10</td>\n",
       "      <td>1.553726e+10</td>\n",
       "      <td>1.881093e+10</td>\n",
       "      <td>2.081790e+10</td>\n",
       "      <td>2.531700e+10</td>\n",
       "      <td>2.913754e+10</td>\n",
       "      <td>3.096667e+10</td>\n",
       "      <td>2.850593e+10</td>\n",
       "      <td>4.051011e+10</td>\n",
       "      <td>2</td>\n",
       "    </tr>\n",
       "    <tr>\n",
       "      <th>128</th>\n",
       "      <td>Lebanon</td>\n",
       "      <td>D</td>\n",
       "      <td>8.594000</td>\n",
       "      <td>8.796000</td>\n",
       "      <td>9.270000</td>\n",
       "      <td>9.760000</td>\n",
       "      <td>10.236000</td>\n",
       "      <td>10.741000</td>\n",
       "      <td>11.301000</td>\n",
       "      <td>13.235000</td>\n",
       "      <td>12.621000</td>\n",
       "      <td>11.599000</td>\n",
       "      <td>11.565000</td>\n",
       "      <td>-1.033289e+00</td>\n",
       "      <td>-1.363158e+01</td>\n",
       "      <td>-2.622987e+01</td>\n",
       "      <td>-1.710774e+01</td>\n",
       "      <td>-2.047802e+01</td>\n",
       "      <td>-2.288220e+01</td>\n",
       "      <td>-2.434704e+01</td>\n",
       "      <td>-2.182809e+01</td>\n",
       "      <td>-8.761842e+00</td>\n",
       "      <td>-1.969781e+01</td>\n",
       "      <td>-3.460623e+01</td>\n",
       "      <td>-2.810367e+01</td>\n",
       "      <td>6.950892e+02</td>\n",
       "      <td>1.507500e+03</td>\n",
       "      <td>1.507500e+03</td>\n",
       "      <td>1.507500e+03</td>\n",
       "      <td>1.507500e+03</td>\n",
       "      <td>1.507500e+03</td>\n",
       "      <td>1.507500e+03</td>\n",
       "      <td>1.507500e+03</td>\n",
       "      <td>1.507500e+03</td>\n",
       "      <td>1.507500e+03</td>\n",
       "      <td>1.507500e+03</td>\n",
       "      <td>1.419243e+09</td>\n",
       "      <td>2.838485e+09</td>\n",
       "      <td>1.726036e+10</td>\n",
       "      <td>4.809521e+10</td>\n",
       "      <td>4.992934e+10</td>\n",
       "      <td>5.114731e+10</td>\n",
       "      <td>5.302768e+10</td>\n",
       "      <td>5.490152e+10</td>\n",
       "      <td>5.160596e+10</td>\n",
       "      <td>3.171213e+10</td>\n",
       "      <td>2.313194e+10</td>\n",
       "      <td>2.099242e+10</td>\n",
       "      <td>1.574432e+10</td>\n",
       "      <td>1.049621e+10</td>\n",
       "      <td>5.248105e+09</td>\n",
       "      <td>1.854604e+00</td>\n",
       "      <td>-3.749145e+00</td>\n",
       "      <td>-7.833596e-01</td>\n",
       "      <td>4.321352e+00</td>\n",
       "      <td>6.076989e+00</td>\n",
       "      <td>3.005389e+00</td>\n",
       "      <td>8.486433e+01</td>\n",
       "      <td>1.547561e+02</td>\n",
       "      <td>1.712055e+02</td>\n",
       "      <td>2.213416e+02</td>\n",
       "      <td>4.210389e+09</td>\n",
       "      <td>8.474638e+09</td>\n",
       "      <td>5.066886e+10</td>\n",
       "      <td>4.853139e+10</td>\n",
       "      <td>5.390551e+10</td>\n",
       "      <td>5.541153e+10</td>\n",
       "      <td>5.238061e+10</td>\n",
       "      <td>5.221348e+10</td>\n",
       "      <td>4.244040e+10</td>\n",
       "      <td>3.523922e+10</td>\n",
       "      <td>3.251288e+10</td>\n",
       "      <td>2.167525e+10</td>\n",
       "      <td>2</td>\n",
       "    </tr>\n",
       "    <tr>\n",
       "      <th>129</th>\n",
       "      <td>Puerto Rico</td>\n",
       "      <td>D</td>\n",
       "      <td>10.080000</td>\n",
       "      <td>13.900000</td>\n",
       "      <td>12.000000</td>\n",
       "      <td>11.800000</td>\n",
       "      <td>10.800000</td>\n",
       "      <td>9.200000</td>\n",
       "      <td>8.300000</td>\n",
       "      <td>8.890000</td>\n",
       "      <td>7.900000</td>\n",
       "      <td>6.000000</td>\n",
       "      <td>5.962000</td>\n",
       "      <td>1.224157e+09</td>\n",
       "      <td>2.448314e+09</td>\n",
       "      <td>3.672470e+09</td>\n",
       "      <td>4.896627e+09</td>\n",
       "      <td>6.120784e+09</td>\n",
       "      <td>7.344941e+09</td>\n",
       "      <td>8.569097e+09</td>\n",
       "      <td>9.793254e+09</td>\n",
       "      <td>1.101741e+10</td>\n",
       "      <td>1.224157e+10</td>\n",
       "      <td>1.346572e+10</td>\n",
       "      <td>1.468988e+10</td>\n",
       "      <td>1.591404e+10</td>\n",
       "      <td>1.713819e+10</td>\n",
       "      <td>1.836235e+10</td>\n",
       "      <td>1.958651e+10</td>\n",
       "      <td>2.081066e+10</td>\n",
       "      <td>2.203482e+10</td>\n",
       "      <td>2.325898e+10</td>\n",
       "      <td>2.448314e+10</td>\n",
       "      <td>2.570729e+10</td>\n",
       "      <td>2.693145e+10</td>\n",
       "      <td>2.815561e+10</td>\n",
       "      <td>2.937976e+10</td>\n",
       "      <td>3.060392e+10</td>\n",
       "      <td>6.170180e+10</td>\n",
       "      <td>1.020000e+11</td>\n",
       "      <td>1.030000e+11</td>\n",
       "      <td>1.040000e+11</td>\n",
       "      <td>1.030000e+11</td>\n",
       "      <td>1.010000e+11</td>\n",
       "      <td>1.050000e+11</td>\n",
       "      <td>1.030000e+11</td>\n",
       "      <td>1.060000e+11</td>\n",
       "      <td>1.140000e+11</td>\n",
       "      <td>1.180000e+11</td>\n",
       "      <td>1.134615e+11</td>\n",
       "      <td>1.089231e+11</td>\n",
       "      <td>1.043846e+11</td>\n",
       "      <td>9.984615e+10</td>\n",
       "      <td>9.530769e+10</td>\n",
       "      <td>9.076923e+10</td>\n",
       "      <td>8.623077e+10</td>\n",
       "      <td>8.169231e+10</td>\n",
       "      <td>7.715385e+10</td>\n",
       "      <td>7.261538e+10</td>\n",
       "      <td>6.807692e+10</td>\n",
       "      <td>6.353846e+10</td>\n",
       "      <td>5.900000e+10</td>\n",
       "      <td>5.446154e+10</td>\n",
       "      <td>4.992308e+10</td>\n",
       "      <td>4.538462e+10</td>\n",
       "      <td>4.084615e+10</td>\n",
       "      <td>3.630769e+10</td>\n",
       "      <td>3.176923e+10</td>\n",
       "      <td>2.723077e+10</td>\n",
       "      <td>2.269231e+10</td>\n",
       "      <td>1.815385e+10</td>\n",
       "      <td>1.361538e+10</td>\n",
       "      <td>9.076923e+09</td>\n",
       "      <td>2</td>\n",
       "    </tr>\n",
       "    <tr>\n",
       "      <th>130</th>\n",
       "      <td>Grenada</td>\n",
       "      <td>SD</td>\n",
       "      <td>9.640537</td>\n",
       "      <td>9.136085</td>\n",
       "      <td>9.052059</td>\n",
       "      <td>8.903803</td>\n",
       "      <td>8.664479</td>\n",
       "      <td>8.383856</td>\n",
       "      <td>8.244777</td>\n",
       "      <td>9.305229</td>\n",
       "      <td>9.015766</td>\n",
       "      <td>8.230760</td>\n",
       "      <td>7.967091</td>\n",
       "      <td>-1.662612e+01</td>\n",
       "      <td>-2.199663e+01</td>\n",
       "      <td>-9.082369e+00</td>\n",
       "      <td>-1.061651e+01</td>\n",
       "      <td>-8.849575e+00</td>\n",
       "      <td>-1.146353e+01</td>\n",
       "      <td>-1.275789e+01</td>\n",
       "      <td>-1.035870e+01</td>\n",
       "      <td>-1.612843e+01</td>\n",
       "      <td>-1.445885e+01</td>\n",
       "      <td>-1.108356e+01</td>\n",
       "      <td>-1.399198e+01</td>\n",
       "      <td>2.700000e+00</td>\n",
       "      <td>2.700000e+00</td>\n",
       "      <td>2.700000e+00</td>\n",
       "      <td>2.700000e+00</td>\n",
       "      <td>2.700000e+00</td>\n",
       "      <td>2.700000e+00</td>\n",
       "      <td>2.700000e+00</td>\n",
       "      <td>2.700000e+00</td>\n",
       "      <td>2.700000e+00</td>\n",
       "      <td>2.700000e+00</td>\n",
       "      <td>2.700000e+00</td>\n",
       "      <td>2.700000e+00</td>\n",
       "      <td>2.780988e+08</td>\n",
       "      <td>5.200444e+08</td>\n",
       "      <td>9.114963e+08</td>\n",
       "      <td>9.970074e+08</td>\n",
       "      <td>1.061641e+09</td>\n",
       "      <td>1.125685e+09</td>\n",
       "      <td>1.166515e+09</td>\n",
       "      <td>1.213485e+09</td>\n",
       "      <td>1.043411e+09</td>\n",
       "      <td>1.122800e+09</td>\n",
       "      <td>1.224578e+09</td>\n",
       "      <td>1.316733e+09</td>\n",
       "      <td>2.724237e+00</td>\n",
       "      <td>2.181818e+00</td>\n",
       "      <td>-9.836031e-01</td>\n",
       "      <td>-5.154480e-01</td>\n",
       "      <td>1.650390e+00</td>\n",
       "      <td>9.084583e-01</td>\n",
       "      <td>8.041023e-01</td>\n",
       "      <td>5.981498e-01</td>\n",
       "      <td>-7.407326e-01</td>\n",
       "      <td>1.219512e+00</td>\n",
       "      <td>2.580539e+00</td>\n",
       "      <td>2.696123e+00</td>\n",
       "      <td>1.757889e+07</td>\n",
       "      <td>5.766000e+07</td>\n",
       "      <td>1.699494e+08</td>\n",
       "      <td>1.979735e+08</td>\n",
       "      <td>2.076893e+08</td>\n",
       "      <td>1.991259e+08</td>\n",
       "      <td>2.338159e+08</td>\n",
       "      <td>2.363253e+08</td>\n",
       "      <td>2.933204e+08</td>\n",
       "      <td>3.482592e+08</td>\n",
       "      <td>3.717673e+08</td>\n",
       "      <td>4.041299e+08</td>\n",
       "      <td>2</td>\n",
       "    </tr>\n",
       "  </tbody>\n",
       "</table>\n",
       "<p>127 rows × 74 columns</p>\n",
       "</div>"
      ],
      "text/plain": [
       "           Country S&P Rating  unemployment_2000  unemployment_2014  \\\n",
       "0        Australia        AAA           6.288000           6.078000   \n",
       "1           Canada        AAA           6.829000           7.023000   \n",
       "2          Denmark        AAA           4.476000           6.925000   \n",
       "3          Germany        AAA           7.917000           4.981000   \n",
       "4    Liechtenstein        AAA           9.640537           9.136085   \n",
       "..             ...        ...                ...                ...   \n",
       "126      Sri Lanka         SD           7.740000           4.157000   \n",
       "127        Ukraine         SD          11.707000           9.270000   \n",
       "128        Lebanon          D           8.594000           8.796000   \n",
       "129    Puerto Rico         D           10.080000          13.900000   \n",
       "130        Grenada        SD            9.640537           9.136085   \n",
       "\n",
       "     unemployment_2015  unemployment_2016  unemployment_2017  \\\n",
       "0             6.055000           5.711000           5.592000   \n",
       "1             6.945000           7.038000           6.426000   \n",
       "2             6.278000           5.989000           5.833000   \n",
       "3             4.624000           4.122000           3.746000   \n",
       "4             9.052059           8.903803           8.664479   \n",
       "..                 ...                ...                ...   \n",
       "126           4.519000           4.243000           4.046000   \n",
       "127           9.140000           9.350000           9.500000   \n",
       "128           9.270000           9.760000          10.236000   \n",
       "129          12.000000          11.800000          10.800000   \n",
       "130           9.052059           8.903803           8.664479   \n",
       "\n",
       "     unemployment_2018  unemployment_2019  unemployment_2020  \\\n",
       "0             5.300000           5.159000           6.456000   \n",
       "1             5.837000           5.690000           9.657000   \n",
       "2             5.131000           5.018000           5.637000   \n",
       "3             3.384000           3.136000           3.856000   \n",
       "4             8.383856           8.244777           9.305229   \n",
       "..                 ...                ...                ...   \n",
       "126           4.318000           4.670000           5.365000   \n",
       "127           8.799000           8.194000           9.475000   \n",
       "128          10.741000          11.301000          13.235000   \n",
       "129           9.200000           8.300000           8.890000   \n",
       "130           8.383856           8.244777           9.305229   \n",
       "\n",
       "     unemployment_2021  unemployment_2022  unemployment_2023  \\\n",
       "0             5.116000           3.701000           3.667000   \n",
       "1             7.527000           5.280000           5.366000   \n",
       "2             5.043000           4.434000           5.142000   \n",
       "3             3.638000           3.135000           3.045000   \n",
       "4             9.015766           8.230760           7.967091   \n",
       "..                 ...                ...                ...   \n",
       "126           5.258000           6.330000           6.360000   \n",
       "127           9.834000           8.411791           6.989581   \n",
       "128          12.621000          11.599000          11.565000   \n",
       "129           7.900000           6.000000           5.962000   \n",
       "130           9.015766           8.230760           7.967091   \n",
       "\n",
       "     current_account_balance_1990  current_account_balance_2000  \\\n",
       "0                   -4.987491e+00                 -3.721401e+00   \n",
       "1                   -3.398803e+00                  2.483228e+00   \n",
       "2                    9.923083e-01                  1.378800e+00   \n",
       "3                    2.612583e+00                 -1.513131e+00   \n",
       "4                    1.516652e+07                  3.017828e+07   \n",
       "..                            ...                           ...   \n",
       "126                 -3.713648e+00                 -6.390297e+00   \n",
       "127                  5.567372e+00                  4.145163e+00   \n",
       "128                 -1.033289e+00                 -1.363158e+01   \n",
       "129                  1.224157e+09                  2.448314e+09   \n",
       "130                 -1.662612e+01                 -2.199663e+01   \n",
       "\n",
       "     current_account_balance_2014  current_account_balance_2015  \\\n",
       "0                   -3.054734e+00                 -4.229028e+00   \n",
       "1                   -2.318921e+00                 -3.513987e+00   \n",
       "2                    8.886178e+00                  7.953938e+00   \n",
       "3                    7.192490e+00                  8.100335e+00   \n",
       "4                    4.306998e+07                  5.742663e+07   \n",
       "..                            ...                           ...   \n",
       "126                 -2.408481e+00                 -2.211361e+00   \n",
       "127                 -3.442597e+00                  5.531085e+00   \n",
       "128                 -2.622987e+01                 -1.710774e+01   \n",
       "129                  3.672470e+09                  4.896627e+09   \n",
       "130                 -9.082369e+00                 -1.061651e+01   \n",
       "\n",
       "     current_account_balance_2016  current_account_balance_2017  \\\n",
       "0                   -3.440490e+00                 -2.722911e+00   \n",
       "1                   -3.093111e+00                 -2.803427e+00   \n",
       "2                    7.078509e+00                  7.360245e+00   \n",
       "3                    8.899854e+00                  8.083586e+00   \n",
       "4                    7.143651e+07                  8.531168e+07   \n",
       "..                            ...                           ...   \n",
       "126                 -1.979723e+00                 -2.446586e+00   \n",
       "127                 -1.998803e+00                 -3.098389e+00   \n",
       "128                 -2.047802e+01                 -2.288220e+01   \n",
       "129                  6.120784e+09                  7.344941e+09   \n",
       "130                 -8.849575e+00                 -1.146353e+01   \n",
       "\n",
       "     current_account_balance_2018  current_account_balance_2019  \\\n",
       "0                   -2.233402e+00                  3.501218e-01   \n",
       "1                   -2.385072e+00                 -1.951703e+00   \n",
       "2                    6.244573e+00                  7.425270e+00   \n",
       "3                    8.444744e+00                  7.880059e+00   \n",
       "4                    9.953030e+07                  1.134059e+08   \n",
       "..                            ...                           ...   \n",
       "126                 -2.962153e+00                 -2.070888e+00   \n",
       "127                 -4.914009e+00                 -2.679957e+00   \n",
       "128                 -2.434704e+01                 -2.182809e+01   \n",
       "129                  8.569097e+09                  9.793254e+09   \n",
       "130                 -1.275789e+01                 -1.035870e+01   \n",
       "\n",
       "     current_account_balance_2020  current_account_balance_2021  \\\n",
       "0                    2.330931e+00                  3.137209e+00   \n",
       "1                   -2.010494e+00                  1.277747e-02   \n",
       "2                    7.231130e+00                  8.659145e+00   \n",
       "3                    6.349851e+00                  6.931968e+00   \n",
       "4                    1.277577e+08                  1.421095e+08   \n",
       "..                            ...                           ...   \n",
       "126                 -1.408137e+00                 -3.706463e+00   \n",
       "127                  3.362966e+00                 -1.943275e+00   \n",
       "128                 -8.761842e+00                 -1.969781e+01   \n",
       "129                  1.101741e+10                  1.224157e+10   \n",
       "130                 -1.612843e+01                 -1.445885e+01   \n",
       "\n",
       "     current_account_balance_2022  current_account_balance_2023  \\\n",
       "0                    8.453239e-01                  2.547373e-01   \n",
       "1                   -3.526320e-01                 -7.295740e-01   \n",
       "2                    1.156562e+01                  9.840846e+00   \n",
       "3                    4.437915e+00                  5.936536e+00   \n",
       "4                    1.564863e+08                  1.708664e+08   \n",
       "..                            ...                           ...   \n",
       "126                 -1.953545e+00                  1.847993e+00   \n",
       "127                  4.923775e+00                 -5.401186e+00   \n",
       "128                 -3.460623e+01                 -2.810367e+01   \n",
       "129                  1.346572e+10                  1.468988e+10   \n",
       "130                 -1.108356e+01                 -1.399198e+01   \n",
       "\n",
       "     exchange_rate_usd_1990  exchange_rate_usd_2000  exchange_rate_usd_2014  \\\n",
       "0              1.281057e+00            1.724827e+00            1.109363e+00   \n",
       "1              1.166774e+00            1.485394e+00            1.104747e+00   \n",
       "2              6.188558e+00            8.083144e+00            5.612467e+00   \n",
       "3              1.615733e+00            1.481802e+11            2.963604e+11   \n",
       "4              1.840786e+08            2.451328e+09            4.784157e+09   \n",
       "..                      ...                     ...                     ...   \n",
       "126            4.006292e+01            7.700512e+01            1.305647e+02   \n",
       "127            1.952346e-02            5.440233e+00            1.188666e+01   \n",
       "128            6.950892e+02            1.507500e+03            1.507500e+03   \n",
       "129            1.591404e+10            1.713819e+10            1.836235e+10   \n",
       "130            2.700000e+00            2.700000e+00            2.700000e+00   \n",
       "\n",
       "     exchange_rate_usd_2015  exchange_rate_usd_2016  exchange_rate_usd_2017  \\\n",
       "0              1.331090e+00            1.345214e+00            1.304758e+00   \n",
       "1              1.278786e+00            1.325615e+00            1.297936e+00   \n",
       "2              6.727907e+00            6.731718e+00            6.602893e+00   \n",
       "3              4.445405e+11            5.927207e+11            7.409009e+11   \n",
       "4              7.121938e+09            9.459720e+09            1.179867e+10   \n",
       "..                      ...                     ...                     ...   \n",
       "126            1.358569e+02            1.455817e+02            1.524464e+02   \n",
       "127            2.184470e+01            2.555133e+01            2.659661e+01   \n",
       "128            1.507500e+03            1.507500e+03            1.507500e+03   \n",
       "129            1.958651e+10            2.081066e+10            2.203482e+10   \n",
       "130            2.700000e+00            2.700000e+00            2.700000e+00   \n",
       "\n",
       "     exchange_rate_usd_2018  exchange_rate_usd_2019  exchange_rate_usd_2020  \\\n",
       "0              1.338412e+00            1.438507e+00            1.453085e+00   \n",
       "1              1.295818e+00            1.326793e+00            1.341153e+00   \n",
       "2              6.314619e+00            6.669447e+00            6.542152e+00   \n",
       "3              8.890811e+11            1.037261e+12            1.185441e+12   \n",
       "4              1.417107e+10            1.654347e+10            1.891586e+10   \n",
       "..                      ...                     ...                     ...   \n",
       "126            1.624649e+02            1.787449e+02            1.855926e+02   \n",
       "127            2.720049e+01            2.584559e+01            2.695752e+01   \n",
       "128            1.507500e+03            1.507500e+03            1.507500e+03   \n",
       "129            2.325898e+10            2.448314e+10            2.570729e+10   \n",
       "130            2.700000e+00            2.700000e+00            2.700000e+00   \n",
       "\n",
       "     exchange_rate_usd_2021  exchange_rate_usd_2022  exchange_rate_usd_2023  \\\n",
       "0              1.331224e+00            1.441664e+00            1.505191e+00   \n",
       "1              1.253877e+00            1.301555e+00            1.349909e+00   \n",
       "2              6.287113e+00            7.076152e+00            6.889703e+00   \n",
       "3              1.333622e+12            1.481802e+12            1.629982e+12   \n",
       "4              2.129617e+10            2.368620e+10            2.638014e+10   \n",
       "..                      ...                     ...                     ...   \n",
       "126            1.987643e+02            3.226327e+02            3.275065e+02   \n",
       "127            2.728619e+01            3.234230e+01            3.657381e+01   \n",
       "128            1.507500e+03            1.507500e+03            1.419243e+09   \n",
       "129            2.693145e+10            2.815561e+10            2.937976e+10   \n",
       "130            2.700000e+00            2.700000e+00            2.700000e+00   \n",
       "\n",
       "         gdp_1990      gdp_2000      gdp_2014      gdp_2015      gdp_2016  \\\n",
       "0    3.114267e+11  4.161678e+11  1.468265e+12  1.351296e+12  1.206837e+12   \n",
       "1    5.960756e+11  7.447734e+11  1.805750e+12  1.556509e+12  1.527995e+12   \n",
       "2    1.382177e+11  1.640438e+11  3.528326e+11  3.017589e+11  3.121818e+11   \n",
       "3    1.778162e+12  1.966981e+12  3.965801e+12  3.423568e+12  3.537784e+12   \n",
       "4    1.421509e+09  2.483890e+09  6.657527e+09  6.268515e+09  6.237302e+09   \n",
       "..            ...           ...           ...           ...           ...   \n",
       "126  8.032551e+09  1.633081e+10  8.252854e+10  8.514096e+10  8.801228e+10   \n",
       "127  8.139356e+10  3.237508e+10  1.335039e+11  9.103097e+10  9.335587e+10   \n",
       "128  2.838485e+09  1.726036e+10  4.809521e+10  4.992934e+10  5.114731e+10   \n",
       "129  3.060392e+10  6.170180e+10  1.020000e+11  1.030000e+11  1.040000e+11   \n",
       "130  2.780988e+08  5.200444e+08  9.114963e+08  9.970074e+08  1.061641e+09   \n",
       "\n",
       "         gdp_2017      gdp_2018      gdp_2019      gdp_2020      gdp_2021  \\\n",
       "0    1.325583e+12  1.427809e+12  1.392724e+12  1.328414e+12  1.556736e+12   \n",
       "1    1.649266e+12  1.725329e+12  1.743725e+12  1.655685e+12  2.007472e+12   \n",
       "2    3.316106e+11  3.552934e+11  3.454015e+11  3.556310e+11  4.083782e+11   \n",
       "3    3.763092e+12  4.052008e+12  3.957208e+12  3.940143e+12  4.348297e+12   \n",
       "4    6.474309e+09  6.692621e+09  6.436467e+09  6.405870e+09  7.710380e+09   \n",
       "..            ...           ...           ...           ...           ...   \n",
       "126  9.437624e+10  9.449387e+10  8.901498e+10  8.430430e+10  8.860932e+10   \n",
       "127  1.120905e+11  1.308911e+11  1.538830e+11  1.566177e+11  1.997659e+11   \n",
       "128  5.302768e+10  5.490152e+10  5.160596e+10  3.171213e+10  2.313194e+10   \n",
       "129  1.030000e+11  1.010000e+11  1.050000e+11  1.030000e+11  1.060000e+11   \n",
       "130  1.125685e+09  1.166515e+09  1.213485e+09  1.043411e+09  1.122800e+09   \n",
       "\n",
       "         gdp_2022      gdp_2023  inflation_1990  inflation_2000  \\\n",
       "0    1.690858e+12  1.728057e+12    7.333022e+00    4.457435e+00   \n",
       "1    2.161483e+12  2.142471e+12    4.780477e+00    2.719440e+00   \n",
       "2    4.019456e+11  4.070919e+11    2.641603e+00    2.903282e+00   \n",
       "3    4.163596e+12  4.525704e+12    2.696468e+00    1.440268e+00   \n",
       "4    7.361504e+09  7.088856e+09    6.816208e+09    6.543559e+09   \n",
       "..            ...           ...             ...             ...   \n",
       "126  7.414487e+10  8.435686e+10    2.149525e+01    6.176276e+00   \n",
       "127  1.619895e+11  1.787570e+11    8.937851e+10    2.820310e+01   \n",
       "128  2.099242e+10  1.574432e+10    1.049621e+10    5.248105e+09   \n",
       "129  1.140000e+11  1.180000e+11    1.134615e+11    1.089231e+11   \n",
       "130  1.224578e+09  1.316733e+09    2.724237e+00    2.181818e+00   \n",
       "\n",
       "     inflation_2014  inflation_2015  inflation_2016  inflation_2017  \\\n",
       "0      2.487923e+00    1.508367e+00    1.276991e+00    1.948647e+00   \n",
       "1      1.906636e+00    1.125241e+00    1.428760e+00    1.596884e+00   \n",
       "2      5.640205e-01    4.520342e-01    2.500000e-01    1.147132e+00   \n",
       "3      9.067940e-01    5.144261e-01    4.917470e-01    1.509495e+00   \n",
       "4      6.270911e+09    5.998263e+09    5.725615e+09    5.452966e+09   \n",
       "..              ...             ...             ...             ...   \n",
       "126    3.179002e+00    3.768368e+00    3.958888e+00    7.704138e+00   \n",
       "127    1.207186e+01    4.869986e+01    1.391271e+01    1.443832e+01   \n",
       "128    1.854604e+00   -3.749145e+00   -7.833596e-01    4.321352e+00   \n",
       "129    1.043846e+11    9.984615e+10    9.530769e+10    9.076923e+10   \n",
       "130   -9.836031e-01   -5.154480e-01    1.650390e+00    9.084583e-01   \n",
       "\n",
       "     inflation_2018  inflation_2019  inflation_2020  inflation_2021  \\\n",
       "0      1.911401e+00    1.610768e+00    8.469055e-01    2.863910e+00   \n",
       "1      2.268226e+00    1.949269e+00    7.169996e-01    3.395193e+00   \n",
       "2      8.136095e-01    7.581316e-01    4.207120e-01    1.853045e+00   \n",
       "3      1.732169e+00    1.445660e+00    1.448779e-01    3.066667e+00   \n",
       "4      5.180318e+09    4.907670e+09    4.635021e+09    4.362373e+09   \n",
       "..              ...             ...             ...             ...   \n",
       "126    2.135038e+00    3.528394e+00    6.153945e+00    7.014781e+00   \n",
       "127    1.095186e+01    7.886717e+00    2.732492e+00    9.363139e+00   \n",
       "128    6.076989e+00    3.005389e+00    8.486433e+01    1.547561e+02   \n",
       "129    8.623077e+10    8.169231e+10    7.715385e+10    7.261538e+10   \n",
       "130    8.041023e-01    5.981498e-01   -7.407326e-01    1.219512e+00   \n",
       "\n",
       "     inflation_2022  inflation_2023  total_reserves_1990  total_reserves_2000  \\\n",
       "0      6.594097e+00    5.597015e+00         1.931874e+10         1.882155e+10   \n",
       "1      6.802801e+00    3.879002e+00         2.352952e+10         3.242727e+10   \n",
       "2      7.696567e+00    3.305178e+00         1.122584e+10         1.569595e+10   \n",
       "3      6.872574e+00    5.946437e+00         1.045473e+11         8.749687e+10   \n",
       "4      4.089725e+09    3.817076e+09         3.544428e+09         3.271780e+09   \n",
       "..              ...             ...                  ...                  ...   \n",
       "126    4.972110e+01    1.654117e+01         4.470305e+08         1.131355e+09   \n",
       "127    2.018364e+01    1.284902e+01         7.386012e+08         1.477202e+09   \n",
       "128    1.712055e+02    2.213416e+02         4.210389e+09         8.474638e+09   \n",
       "129    6.807692e+10    6.353846e+10         5.900000e+10         5.446154e+10   \n",
       "130    2.580539e+00    2.696123e+00         1.757889e+07         5.766000e+07   \n",
       "\n",
       "     total_reserves_2014  total_reserves_2015  total_reserves_2016  \\\n",
       "0           5.391033e+10         4.540604e+10         5.248079e+10   \n",
       "1           7.469996e+10         7.975352e+10         8.271811e+10   \n",
       "2           7.539189e+10         6.518509e+10         6.421581e+10   \n",
       "3           1.934848e+11         1.737309e+11         1.840313e+11   \n",
       "4           2.999131e+09         2.726483e+09         2.453835e+09   \n",
       "..                   ...                  ...                  ...   \n",
       "126         8.210750e+09         7.302097e+09         6.008199e+09   \n",
       "127         7.538805e+09         1.330088e+10         1.553726e+10   \n",
       "128         5.066886e+10         4.853139e+10         5.390551e+10   \n",
       "129         4.992308e+10         4.538462e+10         4.084615e+10   \n",
       "130         1.699494e+08         1.979735e+08         2.076893e+08   \n",
       "\n",
       "     total_reserves_2017  total_reserves_2018  total_reserves_2019  \\\n",
       "0           6.565372e+10         5.390953e+10         5.799469e+10   \n",
       "1           8.667771e+10         8.392560e+10         8.529711e+10   \n",
       "2           7.524445e+10         7.094208e+10         6.683555e+10   \n",
       "3           1.999831e+11         1.980271e+11         2.240280e+11   \n",
       "4           2.181187e+09         1.908538e+09         1.635890e+09   \n",
       "..                   ...                  ...                  ...   \n",
       "126         7.959048e+09         6.920826e+09         7.648305e+09   \n",
       "127         1.881093e+10         2.081790e+10         2.531700e+10   \n",
       "128         5.541153e+10         5.238061e+10         5.221348e+10   \n",
       "129         3.630769e+10         3.176923e+10         2.723077e+10   \n",
       "130         1.991259e+08         2.338159e+08         2.363253e+08   \n",
       "\n",
       "     total_reserves_2020  total_reserves_2021  total_reserves_2022  \\\n",
       "0           4.254463e+10         5.787750e+10         5.670190e+10   \n",
       "1           9.042814e+10         1.066151e+11         1.069524e+11   \n",
       "2           7.282335e+10         8.223584e+10         9.607255e+10   \n",
       "3           2.684086e+11         2.957362e+11         2.939137e+11   \n",
       "4           1.363242e+09         1.090593e+09         8.179449e+08   \n",
       "..                   ...                  ...                  ...   \n",
       "126         5.663994e+09         3.136992e+09         2.352744e+09   \n",
       "127         2.913754e+10         3.096667e+10         2.850593e+10   \n",
       "128         4.244040e+10         3.523922e+10         3.251288e+10   \n",
       "129         2.269231e+10         1.815385e+10         1.361538e+10   \n",
       "130         2.933204e+08         3.482592e+08         3.717673e+08   \n",
       "\n",
       "     total_reserves_2023  target  \n",
       "0           6.170335e+10       0  \n",
       "1           1.175509e+11       0  \n",
       "2           1.093708e+11       0  \n",
       "3           3.227001e+11       0  \n",
       "4           5.452966e+08       0  \n",
       "..                   ...     ...  \n",
       "126         1.568496e+09       2  \n",
       "127         4.051011e+10       2  \n",
       "128         2.167525e+10       2  \n",
       "129         9.076923e+09       2  \n",
       "130         4.041299e+08       2  \n",
       "\n",
       "[127 rows x 74 columns]"
      ]
     },
     "execution_count": 79,
     "metadata": {},
     "output_type": "execute_result"
    }
   ],
   "source": [
    "data"
   ]
  },
  {
   "cell_type": "code",
   "execution_count": 80,
   "metadata": {},
   "outputs": [],
   "source": [
    "data = data.set_index(data['Country'])\n",
    "data = data.drop('Country', axis = 1)"
   ]
  },
  {
   "cell_type": "code",
   "execution_count": 81,
   "metadata": {},
   "outputs": [
    {
     "data": {
      "text/html": [
       "<div>\n",
       "<style scoped>\n",
       "    .dataframe tbody tr th:only-of-type {\n",
       "        vertical-align: middle;\n",
       "    }\n",
       "\n",
       "    .dataframe tbody tr th {\n",
       "        vertical-align: top;\n",
       "    }\n",
       "\n",
       "    .dataframe thead th {\n",
       "        text-align: right;\n",
       "    }\n",
       "</style>\n",
       "<table border=\"1\" class=\"dataframe\">\n",
       "  <thead>\n",
       "    <tr style=\"text-align: right;\">\n",
       "      <th></th>\n",
       "      <th>S&amp;P Rating</th>\n",
       "      <th>unemployment_2000</th>\n",
       "      <th>unemployment_2014</th>\n",
       "      <th>unemployment_2015</th>\n",
       "      <th>unemployment_2016</th>\n",
       "      <th>unemployment_2017</th>\n",
       "      <th>unemployment_2018</th>\n",
       "      <th>unemployment_2019</th>\n",
       "      <th>unemployment_2020</th>\n",
       "      <th>unemployment_2021</th>\n",
       "      <th>unemployment_2022</th>\n",
       "      <th>unemployment_2023</th>\n",
       "      <th>current_account_balance_1990</th>\n",
       "      <th>current_account_balance_2000</th>\n",
       "      <th>current_account_balance_2014</th>\n",
       "      <th>current_account_balance_2015</th>\n",
       "      <th>current_account_balance_2016</th>\n",
       "      <th>current_account_balance_2017</th>\n",
       "      <th>current_account_balance_2018</th>\n",
       "      <th>current_account_balance_2019</th>\n",
       "      <th>current_account_balance_2020</th>\n",
       "      <th>current_account_balance_2021</th>\n",
       "      <th>current_account_balance_2022</th>\n",
       "      <th>current_account_balance_2023</th>\n",
       "      <th>exchange_rate_usd_1990</th>\n",
       "      <th>exchange_rate_usd_2000</th>\n",
       "      <th>exchange_rate_usd_2014</th>\n",
       "      <th>exchange_rate_usd_2015</th>\n",
       "      <th>exchange_rate_usd_2016</th>\n",
       "      <th>exchange_rate_usd_2017</th>\n",
       "      <th>exchange_rate_usd_2018</th>\n",
       "      <th>exchange_rate_usd_2019</th>\n",
       "      <th>exchange_rate_usd_2020</th>\n",
       "      <th>exchange_rate_usd_2021</th>\n",
       "      <th>exchange_rate_usd_2022</th>\n",
       "      <th>exchange_rate_usd_2023</th>\n",
       "      <th>gdp_1990</th>\n",
       "      <th>gdp_2000</th>\n",
       "      <th>gdp_2014</th>\n",
       "      <th>gdp_2015</th>\n",
       "      <th>gdp_2016</th>\n",
       "      <th>gdp_2017</th>\n",
       "      <th>gdp_2018</th>\n",
       "      <th>gdp_2019</th>\n",
       "      <th>gdp_2020</th>\n",
       "      <th>gdp_2021</th>\n",
       "      <th>gdp_2022</th>\n",
       "      <th>gdp_2023</th>\n",
       "      <th>inflation_1990</th>\n",
       "      <th>inflation_2000</th>\n",
       "      <th>inflation_2014</th>\n",
       "      <th>inflation_2015</th>\n",
       "      <th>inflation_2016</th>\n",
       "      <th>inflation_2017</th>\n",
       "      <th>inflation_2018</th>\n",
       "      <th>inflation_2019</th>\n",
       "      <th>inflation_2020</th>\n",
       "      <th>inflation_2021</th>\n",
       "      <th>inflation_2022</th>\n",
       "      <th>inflation_2023</th>\n",
       "      <th>total_reserves_1990</th>\n",
       "      <th>total_reserves_2000</th>\n",
       "      <th>total_reserves_2014</th>\n",
       "      <th>total_reserves_2015</th>\n",
       "      <th>total_reserves_2016</th>\n",
       "      <th>total_reserves_2017</th>\n",
       "      <th>total_reserves_2018</th>\n",
       "      <th>total_reserves_2019</th>\n",
       "      <th>total_reserves_2020</th>\n",
       "      <th>total_reserves_2021</th>\n",
       "      <th>total_reserves_2022</th>\n",
       "      <th>total_reserves_2023</th>\n",
       "      <th>target</th>\n",
       "    </tr>\n",
       "    <tr>\n",
       "      <th>Country</th>\n",
       "      <th></th>\n",
       "      <th></th>\n",
       "      <th></th>\n",
       "      <th></th>\n",
       "      <th></th>\n",
       "      <th></th>\n",
       "      <th></th>\n",
       "      <th></th>\n",
       "      <th></th>\n",
       "      <th></th>\n",
       "      <th></th>\n",
       "      <th></th>\n",
       "      <th></th>\n",
       "      <th></th>\n",
       "      <th></th>\n",
       "      <th></th>\n",
       "      <th></th>\n",
       "      <th></th>\n",
       "      <th></th>\n",
       "      <th></th>\n",
       "      <th></th>\n",
       "      <th></th>\n",
       "      <th></th>\n",
       "      <th></th>\n",
       "      <th></th>\n",
       "      <th></th>\n",
       "      <th></th>\n",
       "      <th></th>\n",
       "      <th></th>\n",
       "      <th></th>\n",
       "      <th></th>\n",
       "      <th></th>\n",
       "      <th></th>\n",
       "      <th></th>\n",
       "      <th></th>\n",
       "      <th></th>\n",
       "      <th></th>\n",
       "      <th></th>\n",
       "      <th></th>\n",
       "      <th></th>\n",
       "      <th></th>\n",
       "      <th></th>\n",
       "      <th></th>\n",
       "      <th></th>\n",
       "      <th></th>\n",
       "      <th></th>\n",
       "      <th></th>\n",
       "      <th></th>\n",
       "      <th></th>\n",
       "      <th></th>\n",
       "      <th></th>\n",
       "      <th></th>\n",
       "      <th></th>\n",
       "      <th></th>\n",
       "      <th></th>\n",
       "      <th></th>\n",
       "      <th></th>\n",
       "      <th></th>\n",
       "      <th></th>\n",
       "      <th></th>\n",
       "      <th></th>\n",
       "      <th></th>\n",
       "      <th></th>\n",
       "      <th></th>\n",
       "      <th></th>\n",
       "      <th></th>\n",
       "      <th></th>\n",
       "      <th></th>\n",
       "      <th></th>\n",
       "      <th></th>\n",
       "      <th></th>\n",
       "      <th></th>\n",
       "      <th></th>\n",
       "    </tr>\n",
       "  </thead>\n",
       "  <tbody>\n",
       "    <tr>\n",
       "      <th>Australia</th>\n",
       "      <td>AAA</td>\n",
       "      <td>6.288000</td>\n",
       "      <td>6.078000</td>\n",
       "      <td>6.055000</td>\n",
       "      <td>5.711000</td>\n",
       "      <td>5.592000</td>\n",
       "      <td>5.300000</td>\n",
       "      <td>5.159000</td>\n",
       "      <td>6.456000</td>\n",
       "      <td>5.116000</td>\n",
       "      <td>3.70100</td>\n",
       "      <td>3.667000</td>\n",
       "      <td>-4.987491e+00</td>\n",
       "      <td>-3.721401e+00</td>\n",
       "      <td>-3.054734e+00</td>\n",
       "      <td>-4.229028e+00</td>\n",
       "      <td>-3.440490e+00</td>\n",
       "      <td>-2.722911e+00</td>\n",
       "      <td>-2.233402e+00</td>\n",
       "      <td>3.501218e-01</td>\n",
       "      <td>2.330931e+00</td>\n",
       "      <td>3.137209e+00</td>\n",
       "      <td>8.453239e-01</td>\n",
       "      <td>2.547373e-01</td>\n",
       "      <td>1.281057e+00</td>\n",
       "      <td>1.724827e+00</td>\n",
       "      <td>1.109363e+00</td>\n",
       "      <td>1.331090e+00</td>\n",
       "      <td>1.345214e+00</td>\n",
       "      <td>1.304758e+00</td>\n",
       "      <td>1.338412e+00</td>\n",
       "      <td>1.438507e+00</td>\n",
       "      <td>1.453085e+00</td>\n",
       "      <td>1.331224e+00</td>\n",
       "      <td>1.441664e+00</td>\n",
       "      <td>1.505191e+00</td>\n",
       "      <td>3.114267e+11</td>\n",
       "      <td>4.161678e+11</td>\n",
       "      <td>1.468265e+12</td>\n",
       "      <td>1.351296e+12</td>\n",
       "      <td>1.206837e+12</td>\n",
       "      <td>1.325583e+12</td>\n",
       "      <td>1.427809e+12</td>\n",
       "      <td>1.392724e+12</td>\n",
       "      <td>1.328414e+12</td>\n",
       "      <td>1.556736e+12</td>\n",
       "      <td>1.690858e+12</td>\n",
       "      <td>1.728057e+12</td>\n",
       "      <td>7.333022e+00</td>\n",
       "      <td>4.457435e+00</td>\n",
       "      <td>2.487923e+00</td>\n",
       "      <td>1.508367e+00</td>\n",
       "      <td>1.276991e+00</td>\n",
       "      <td>1.948647e+00</td>\n",
       "      <td>1.911401e+00</td>\n",
       "      <td>1.610768e+00</td>\n",
       "      <td>8.469055e-01</td>\n",
       "      <td>2.863910e+00</td>\n",
       "      <td>6.594097e+00</td>\n",
       "      <td>5.597015e+00</td>\n",
       "      <td>1.931874e+10</td>\n",
       "      <td>1.882155e+10</td>\n",
       "      <td>5.391033e+10</td>\n",
       "      <td>4.540604e+10</td>\n",
       "      <td>5.248079e+10</td>\n",
       "      <td>6.565372e+10</td>\n",
       "      <td>5.390953e+10</td>\n",
       "      <td>5.799469e+10</td>\n",
       "      <td>4.254463e+10</td>\n",
       "      <td>5.787750e+10</td>\n",
       "      <td>5.670190e+10</td>\n",
       "      <td>6.170335e+10</td>\n",
       "      <td>0</td>\n",
       "    </tr>\n",
       "    <tr>\n",
       "      <th>Canada</th>\n",
       "      <td>AAA</td>\n",
       "      <td>6.829000</td>\n",
       "      <td>7.023000</td>\n",
       "      <td>6.945000</td>\n",
       "      <td>7.038000</td>\n",
       "      <td>6.426000</td>\n",
       "      <td>5.837000</td>\n",
       "      <td>5.690000</td>\n",
       "      <td>9.657000</td>\n",
       "      <td>7.527000</td>\n",
       "      <td>5.28000</td>\n",
       "      <td>5.366000</td>\n",
       "      <td>-3.398803e+00</td>\n",
       "      <td>2.483228e+00</td>\n",
       "      <td>-2.318921e+00</td>\n",
       "      <td>-3.513987e+00</td>\n",
       "      <td>-3.093111e+00</td>\n",
       "      <td>-2.803427e+00</td>\n",
       "      <td>-2.385072e+00</td>\n",
       "      <td>-1.951703e+00</td>\n",
       "      <td>-2.010494e+00</td>\n",
       "      <td>1.277747e-02</td>\n",
       "      <td>-3.526320e-01</td>\n",
       "      <td>-7.295740e-01</td>\n",
       "      <td>1.166774e+00</td>\n",
       "      <td>1.485394e+00</td>\n",
       "      <td>1.104747e+00</td>\n",
       "      <td>1.278786e+00</td>\n",
       "      <td>1.325615e+00</td>\n",
       "      <td>1.297936e+00</td>\n",
       "      <td>1.295818e+00</td>\n",
       "      <td>1.326793e+00</td>\n",
       "      <td>1.341153e+00</td>\n",
       "      <td>1.253877e+00</td>\n",
       "      <td>1.301555e+00</td>\n",
       "      <td>1.349909e+00</td>\n",
       "      <td>5.960756e+11</td>\n",
       "      <td>7.447734e+11</td>\n",
       "      <td>1.805750e+12</td>\n",
       "      <td>1.556509e+12</td>\n",
       "      <td>1.527995e+12</td>\n",
       "      <td>1.649266e+12</td>\n",
       "      <td>1.725329e+12</td>\n",
       "      <td>1.743725e+12</td>\n",
       "      <td>1.655685e+12</td>\n",
       "      <td>2.007472e+12</td>\n",
       "      <td>2.161483e+12</td>\n",
       "      <td>2.142471e+12</td>\n",
       "      <td>4.780477e+00</td>\n",
       "      <td>2.719440e+00</td>\n",
       "      <td>1.906636e+00</td>\n",
       "      <td>1.125241e+00</td>\n",
       "      <td>1.428760e+00</td>\n",
       "      <td>1.596884e+00</td>\n",
       "      <td>2.268226e+00</td>\n",
       "      <td>1.949269e+00</td>\n",
       "      <td>7.169996e-01</td>\n",
       "      <td>3.395193e+00</td>\n",
       "      <td>6.802801e+00</td>\n",
       "      <td>3.879002e+00</td>\n",
       "      <td>2.352952e+10</td>\n",
       "      <td>3.242727e+10</td>\n",
       "      <td>7.469996e+10</td>\n",
       "      <td>7.975352e+10</td>\n",
       "      <td>8.271811e+10</td>\n",
       "      <td>8.667771e+10</td>\n",
       "      <td>8.392560e+10</td>\n",
       "      <td>8.529711e+10</td>\n",
       "      <td>9.042814e+10</td>\n",
       "      <td>1.066151e+11</td>\n",
       "      <td>1.069524e+11</td>\n",
       "      <td>1.175509e+11</td>\n",
       "      <td>0</td>\n",
       "    </tr>\n",
       "    <tr>\n",
       "      <th>Denmark</th>\n",
       "      <td>AAA</td>\n",
       "      <td>4.476000</td>\n",
       "      <td>6.925000</td>\n",
       "      <td>6.278000</td>\n",
       "      <td>5.989000</td>\n",
       "      <td>5.833000</td>\n",
       "      <td>5.131000</td>\n",
       "      <td>5.018000</td>\n",
       "      <td>5.637000</td>\n",
       "      <td>5.043000</td>\n",
       "      <td>4.43400</td>\n",
       "      <td>5.142000</td>\n",
       "      <td>9.923083e-01</td>\n",
       "      <td>1.378800e+00</td>\n",
       "      <td>8.886178e+00</td>\n",
       "      <td>7.953938e+00</td>\n",
       "      <td>7.078509e+00</td>\n",
       "      <td>7.360245e+00</td>\n",
       "      <td>6.244573e+00</td>\n",
       "      <td>7.425270e+00</td>\n",
       "      <td>7.231130e+00</td>\n",
       "      <td>8.659145e+00</td>\n",
       "      <td>1.156562e+01</td>\n",
       "      <td>9.840846e+00</td>\n",
       "      <td>6.188558e+00</td>\n",
       "      <td>8.083144e+00</td>\n",
       "      <td>5.612467e+00</td>\n",
       "      <td>6.727907e+00</td>\n",
       "      <td>6.731718e+00</td>\n",
       "      <td>6.602893e+00</td>\n",
       "      <td>6.314619e+00</td>\n",
       "      <td>6.669447e+00</td>\n",
       "      <td>6.542152e+00</td>\n",
       "      <td>6.287113e+00</td>\n",
       "      <td>7.076152e+00</td>\n",
       "      <td>6.889703e+00</td>\n",
       "      <td>1.382177e+11</td>\n",
       "      <td>1.640438e+11</td>\n",
       "      <td>3.528326e+11</td>\n",
       "      <td>3.017589e+11</td>\n",
       "      <td>3.121818e+11</td>\n",
       "      <td>3.316106e+11</td>\n",
       "      <td>3.552934e+11</td>\n",
       "      <td>3.454015e+11</td>\n",
       "      <td>3.556310e+11</td>\n",
       "      <td>4.083782e+11</td>\n",
       "      <td>4.019456e+11</td>\n",
       "      <td>4.070919e+11</td>\n",
       "      <td>2.641603e+00</td>\n",
       "      <td>2.903282e+00</td>\n",
       "      <td>5.640205e-01</td>\n",
       "      <td>4.520342e-01</td>\n",
       "      <td>2.500000e-01</td>\n",
       "      <td>1.147132e+00</td>\n",
       "      <td>8.136095e-01</td>\n",
       "      <td>7.581316e-01</td>\n",
       "      <td>4.207120e-01</td>\n",
       "      <td>1.853045e+00</td>\n",
       "      <td>7.696567e+00</td>\n",
       "      <td>3.305178e+00</td>\n",
       "      <td>1.122584e+10</td>\n",
       "      <td>1.569595e+10</td>\n",
       "      <td>7.539189e+10</td>\n",
       "      <td>6.518509e+10</td>\n",
       "      <td>6.421581e+10</td>\n",
       "      <td>7.524445e+10</td>\n",
       "      <td>7.094208e+10</td>\n",
       "      <td>6.683555e+10</td>\n",
       "      <td>7.282335e+10</td>\n",
       "      <td>8.223584e+10</td>\n",
       "      <td>9.607255e+10</td>\n",
       "      <td>1.093708e+11</td>\n",
       "      <td>0</td>\n",
       "    </tr>\n",
       "    <tr>\n",
       "      <th>Germany</th>\n",
       "      <td>AAA</td>\n",
       "      <td>7.917000</td>\n",
       "      <td>4.981000</td>\n",
       "      <td>4.624000</td>\n",
       "      <td>4.122000</td>\n",
       "      <td>3.746000</td>\n",
       "      <td>3.384000</td>\n",
       "      <td>3.136000</td>\n",
       "      <td>3.856000</td>\n",
       "      <td>3.638000</td>\n",
       "      <td>3.13500</td>\n",
       "      <td>3.045000</td>\n",
       "      <td>2.612583e+00</td>\n",
       "      <td>-1.513131e+00</td>\n",
       "      <td>7.192490e+00</td>\n",
       "      <td>8.100335e+00</td>\n",
       "      <td>8.899854e+00</td>\n",
       "      <td>8.083586e+00</td>\n",
       "      <td>8.444744e+00</td>\n",
       "      <td>7.880059e+00</td>\n",
       "      <td>6.349851e+00</td>\n",
       "      <td>6.931968e+00</td>\n",
       "      <td>4.437915e+00</td>\n",
       "      <td>5.936536e+00</td>\n",
       "      <td>1.615733e+00</td>\n",
       "      <td>1.481802e+11</td>\n",
       "      <td>2.963604e+11</td>\n",
       "      <td>4.445405e+11</td>\n",
       "      <td>5.927207e+11</td>\n",
       "      <td>7.409009e+11</td>\n",
       "      <td>8.890811e+11</td>\n",
       "      <td>1.037261e+12</td>\n",
       "      <td>1.185441e+12</td>\n",
       "      <td>1.333622e+12</td>\n",
       "      <td>1.481802e+12</td>\n",
       "      <td>1.629982e+12</td>\n",
       "      <td>1.778162e+12</td>\n",
       "      <td>1.966981e+12</td>\n",
       "      <td>3.965801e+12</td>\n",
       "      <td>3.423568e+12</td>\n",
       "      <td>3.537784e+12</td>\n",
       "      <td>3.763092e+12</td>\n",
       "      <td>4.052008e+12</td>\n",
       "      <td>3.957208e+12</td>\n",
       "      <td>3.940143e+12</td>\n",
       "      <td>4.348297e+12</td>\n",
       "      <td>4.163596e+12</td>\n",
       "      <td>4.525704e+12</td>\n",
       "      <td>2.696468e+00</td>\n",
       "      <td>1.440268e+00</td>\n",
       "      <td>9.067940e-01</td>\n",
       "      <td>5.144261e-01</td>\n",
       "      <td>4.917470e-01</td>\n",
       "      <td>1.509495e+00</td>\n",
       "      <td>1.732169e+00</td>\n",
       "      <td>1.445660e+00</td>\n",
       "      <td>1.448779e-01</td>\n",
       "      <td>3.066667e+00</td>\n",
       "      <td>6.872574e+00</td>\n",
       "      <td>5.946437e+00</td>\n",
       "      <td>1.045473e+11</td>\n",
       "      <td>8.749687e+10</td>\n",
       "      <td>1.934848e+11</td>\n",
       "      <td>1.737309e+11</td>\n",
       "      <td>1.840313e+11</td>\n",
       "      <td>1.999831e+11</td>\n",
       "      <td>1.980271e+11</td>\n",
       "      <td>2.240280e+11</td>\n",
       "      <td>2.684086e+11</td>\n",
       "      <td>2.957362e+11</td>\n",
       "      <td>2.939137e+11</td>\n",
       "      <td>3.227001e+11</td>\n",
       "      <td>0</td>\n",
       "    </tr>\n",
       "    <tr>\n",
       "      <th>Liechtenstein</th>\n",
       "      <td>AAA</td>\n",
       "      <td>9.640537</td>\n",
       "      <td>9.136085</td>\n",
       "      <td>9.052059</td>\n",
       "      <td>8.903803</td>\n",
       "      <td>8.664479</td>\n",
       "      <td>8.383856</td>\n",
       "      <td>8.244777</td>\n",
       "      <td>9.305229</td>\n",
       "      <td>9.015766</td>\n",
       "      <td>8.23076</td>\n",
       "      <td>7.967091</td>\n",
       "      <td>1.516652e+07</td>\n",
       "      <td>3.017828e+07</td>\n",
       "      <td>4.306998e+07</td>\n",
       "      <td>5.742663e+07</td>\n",
       "      <td>7.143651e+07</td>\n",
       "      <td>8.531168e+07</td>\n",
       "      <td>9.953030e+07</td>\n",
       "      <td>1.134059e+08</td>\n",
       "      <td>1.277577e+08</td>\n",
       "      <td>1.421095e+08</td>\n",
       "      <td>1.564863e+08</td>\n",
       "      <td>1.708664e+08</td>\n",
       "      <td>1.840786e+08</td>\n",
       "      <td>2.451328e+09</td>\n",
       "      <td>4.784157e+09</td>\n",
       "      <td>7.121938e+09</td>\n",
       "      <td>9.459720e+09</td>\n",
       "      <td>1.179867e+10</td>\n",
       "      <td>1.417107e+10</td>\n",
       "      <td>1.654347e+10</td>\n",
       "      <td>1.891586e+10</td>\n",
       "      <td>2.129617e+10</td>\n",
       "      <td>2.368620e+10</td>\n",
       "      <td>2.638014e+10</td>\n",
       "      <td>1.421509e+09</td>\n",
       "      <td>2.483890e+09</td>\n",
       "      <td>6.657527e+09</td>\n",
       "      <td>6.268515e+09</td>\n",
       "      <td>6.237302e+09</td>\n",
       "      <td>6.474309e+09</td>\n",
       "      <td>6.692621e+09</td>\n",
       "      <td>6.436467e+09</td>\n",
       "      <td>6.405870e+09</td>\n",
       "      <td>7.710380e+09</td>\n",
       "      <td>7.361504e+09</td>\n",
       "      <td>7.088856e+09</td>\n",
       "      <td>6.816208e+09</td>\n",
       "      <td>6.543559e+09</td>\n",
       "      <td>6.270911e+09</td>\n",
       "      <td>5.998263e+09</td>\n",
       "      <td>5.725615e+09</td>\n",
       "      <td>5.452966e+09</td>\n",
       "      <td>5.180318e+09</td>\n",
       "      <td>4.907670e+09</td>\n",
       "      <td>4.635021e+09</td>\n",
       "      <td>4.362373e+09</td>\n",
       "      <td>4.089725e+09</td>\n",
       "      <td>3.817076e+09</td>\n",
       "      <td>3.544428e+09</td>\n",
       "      <td>3.271780e+09</td>\n",
       "      <td>2.999131e+09</td>\n",
       "      <td>2.726483e+09</td>\n",
       "      <td>2.453835e+09</td>\n",
       "      <td>2.181187e+09</td>\n",
       "      <td>1.908538e+09</td>\n",
       "      <td>1.635890e+09</td>\n",
       "      <td>1.363242e+09</td>\n",
       "      <td>1.090593e+09</td>\n",
       "      <td>8.179449e+08</td>\n",
       "      <td>5.452966e+08</td>\n",
       "      <td>0</td>\n",
       "    </tr>\n",
       "  </tbody>\n",
       "</table>\n",
       "</div>"
      ],
      "text/plain": [
       "              S&P Rating  unemployment_2000  unemployment_2014  \\\n",
       "Country                                                          \n",
       "Australia            AAA           6.288000           6.078000   \n",
       "Canada               AAA           6.829000           7.023000   \n",
       "Denmark              AAA           4.476000           6.925000   \n",
       "Germany              AAA           7.917000           4.981000   \n",
       "Liechtenstein        AAA           9.640537           9.136085   \n",
       "\n",
       "               unemployment_2015  unemployment_2016  unemployment_2017  \\\n",
       "Country                                                                  \n",
       "Australia               6.055000           5.711000           5.592000   \n",
       "Canada                  6.945000           7.038000           6.426000   \n",
       "Denmark                 6.278000           5.989000           5.833000   \n",
       "Germany                 4.624000           4.122000           3.746000   \n",
       "Liechtenstein           9.052059           8.903803           8.664479   \n",
       "\n",
       "               unemployment_2018  unemployment_2019  unemployment_2020  \\\n",
       "Country                                                                  \n",
       "Australia               5.300000           5.159000           6.456000   \n",
       "Canada                  5.837000           5.690000           9.657000   \n",
       "Denmark                 5.131000           5.018000           5.637000   \n",
       "Germany                 3.384000           3.136000           3.856000   \n",
       "Liechtenstein           8.383856           8.244777           9.305229   \n",
       "\n",
       "               unemployment_2021  unemployment_2022  unemployment_2023  \\\n",
       "Country                                                                  \n",
       "Australia               5.116000            3.70100           3.667000   \n",
       "Canada                  7.527000            5.28000           5.366000   \n",
       "Denmark                 5.043000            4.43400           5.142000   \n",
       "Germany                 3.638000            3.13500           3.045000   \n",
       "Liechtenstein           9.015766            8.23076           7.967091   \n",
       "\n",
       "               current_account_balance_1990  current_account_balance_2000  \\\n",
       "Country                                                                     \n",
       "Australia                     -4.987491e+00                 -3.721401e+00   \n",
       "Canada                        -3.398803e+00                  2.483228e+00   \n",
       "Denmark                        9.923083e-01                  1.378800e+00   \n",
       "Germany                        2.612583e+00                 -1.513131e+00   \n",
       "Liechtenstein                  1.516652e+07                  3.017828e+07   \n",
       "\n",
       "               current_account_balance_2014  current_account_balance_2015  \\\n",
       "Country                                                                     \n",
       "Australia                     -3.054734e+00                 -4.229028e+00   \n",
       "Canada                        -2.318921e+00                 -3.513987e+00   \n",
       "Denmark                        8.886178e+00                  7.953938e+00   \n",
       "Germany                        7.192490e+00                  8.100335e+00   \n",
       "Liechtenstein                  4.306998e+07                  5.742663e+07   \n",
       "\n",
       "               current_account_balance_2016  current_account_balance_2017  \\\n",
       "Country                                                                     \n",
       "Australia                     -3.440490e+00                 -2.722911e+00   \n",
       "Canada                        -3.093111e+00                 -2.803427e+00   \n",
       "Denmark                        7.078509e+00                  7.360245e+00   \n",
       "Germany                        8.899854e+00                  8.083586e+00   \n",
       "Liechtenstein                  7.143651e+07                  8.531168e+07   \n",
       "\n",
       "               current_account_balance_2018  current_account_balance_2019  \\\n",
       "Country                                                                     \n",
       "Australia                     -2.233402e+00                  3.501218e-01   \n",
       "Canada                        -2.385072e+00                 -1.951703e+00   \n",
       "Denmark                        6.244573e+00                  7.425270e+00   \n",
       "Germany                        8.444744e+00                  7.880059e+00   \n",
       "Liechtenstein                  9.953030e+07                  1.134059e+08   \n",
       "\n",
       "               current_account_balance_2020  current_account_balance_2021  \\\n",
       "Country                                                                     \n",
       "Australia                      2.330931e+00                  3.137209e+00   \n",
       "Canada                        -2.010494e+00                  1.277747e-02   \n",
       "Denmark                        7.231130e+00                  8.659145e+00   \n",
       "Germany                        6.349851e+00                  6.931968e+00   \n",
       "Liechtenstein                  1.277577e+08                  1.421095e+08   \n",
       "\n",
       "               current_account_balance_2022  current_account_balance_2023  \\\n",
       "Country                                                                     \n",
       "Australia                      8.453239e-01                  2.547373e-01   \n",
       "Canada                        -3.526320e-01                 -7.295740e-01   \n",
       "Denmark                        1.156562e+01                  9.840846e+00   \n",
       "Germany                        4.437915e+00                  5.936536e+00   \n",
       "Liechtenstein                  1.564863e+08                  1.708664e+08   \n",
       "\n",
       "               exchange_rate_usd_1990  exchange_rate_usd_2000  \\\n",
       "Country                                                         \n",
       "Australia                1.281057e+00            1.724827e+00   \n",
       "Canada                   1.166774e+00            1.485394e+00   \n",
       "Denmark                  6.188558e+00            8.083144e+00   \n",
       "Germany                  1.615733e+00            1.481802e+11   \n",
       "Liechtenstein            1.840786e+08            2.451328e+09   \n",
       "\n",
       "               exchange_rate_usd_2014  exchange_rate_usd_2015  \\\n",
       "Country                                                         \n",
       "Australia                1.109363e+00            1.331090e+00   \n",
       "Canada                   1.104747e+00            1.278786e+00   \n",
       "Denmark                  5.612467e+00            6.727907e+00   \n",
       "Germany                  2.963604e+11            4.445405e+11   \n",
       "Liechtenstein            4.784157e+09            7.121938e+09   \n",
       "\n",
       "               exchange_rate_usd_2016  exchange_rate_usd_2017  \\\n",
       "Country                                                         \n",
       "Australia                1.345214e+00            1.304758e+00   \n",
       "Canada                   1.325615e+00            1.297936e+00   \n",
       "Denmark                  6.731718e+00            6.602893e+00   \n",
       "Germany                  5.927207e+11            7.409009e+11   \n",
       "Liechtenstein            9.459720e+09            1.179867e+10   \n",
       "\n",
       "               exchange_rate_usd_2018  exchange_rate_usd_2019  \\\n",
       "Country                                                         \n",
       "Australia                1.338412e+00            1.438507e+00   \n",
       "Canada                   1.295818e+00            1.326793e+00   \n",
       "Denmark                  6.314619e+00            6.669447e+00   \n",
       "Germany                  8.890811e+11            1.037261e+12   \n",
       "Liechtenstein            1.417107e+10            1.654347e+10   \n",
       "\n",
       "               exchange_rate_usd_2020  exchange_rate_usd_2021  \\\n",
       "Country                                                         \n",
       "Australia                1.453085e+00            1.331224e+00   \n",
       "Canada                   1.341153e+00            1.253877e+00   \n",
       "Denmark                  6.542152e+00            6.287113e+00   \n",
       "Germany                  1.185441e+12            1.333622e+12   \n",
       "Liechtenstein            1.891586e+10            2.129617e+10   \n",
       "\n",
       "               exchange_rate_usd_2022  exchange_rate_usd_2023      gdp_1990  \\\n",
       "Country                                                                       \n",
       "Australia                1.441664e+00            1.505191e+00  3.114267e+11   \n",
       "Canada                   1.301555e+00            1.349909e+00  5.960756e+11   \n",
       "Denmark                  7.076152e+00            6.889703e+00  1.382177e+11   \n",
       "Germany                  1.481802e+12            1.629982e+12  1.778162e+12   \n",
       "Liechtenstein            2.368620e+10            2.638014e+10  1.421509e+09   \n",
       "\n",
       "                   gdp_2000      gdp_2014      gdp_2015      gdp_2016  \\\n",
       "Country                                                                 \n",
       "Australia      4.161678e+11  1.468265e+12  1.351296e+12  1.206837e+12   \n",
       "Canada         7.447734e+11  1.805750e+12  1.556509e+12  1.527995e+12   \n",
       "Denmark        1.640438e+11  3.528326e+11  3.017589e+11  3.121818e+11   \n",
       "Germany        1.966981e+12  3.965801e+12  3.423568e+12  3.537784e+12   \n",
       "Liechtenstein  2.483890e+09  6.657527e+09  6.268515e+09  6.237302e+09   \n",
       "\n",
       "                   gdp_2017      gdp_2018      gdp_2019      gdp_2020  \\\n",
       "Country                                                                 \n",
       "Australia      1.325583e+12  1.427809e+12  1.392724e+12  1.328414e+12   \n",
       "Canada         1.649266e+12  1.725329e+12  1.743725e+12  1.655685e+12   \n",
       "Denmark        3.316106e+11  3.552934e+11  3.454015e+11  3.556310e+11   \n",
       "Germany        3.763092e+12  4.052008e+12  3.957208e+12  3.940143e+12   \n",
       "Liechtenstein  6.474309e+09  6.692621e+09  6.436467e+09  6.405870e+09   \n",
       "\n",
       "                   gdp_2021      gdp_2022      gdp_2023  inflation_1990  \\\n",
       "Country                                                                   \n",
       "Australia      1.556736e+12  1.690858e+12  1.728057e+12    7.333022e+00   \n",
       "Canada         2.007472e+12  2.161483e+12  2.142471e+12    4.780477e+00   \n",
       "Denmark        4.083782e+11  4.019456e+11  4.070919e+11    2.641603e+00   \n",
       "Germany        4.348297e+12  4.163596e+12  4.525704e+12    2.696468e+00   \n",
       "Liechtenstein  7.710380e+09  7.361504e+09  7.088856e+09    6.816208e+09   \n",
       "\n",
       "               inflation_2000  inflation_2014  inflation_2015  inflation_2016  \\\n",
       "Country                                                                         \n",
       "Australia        4.457435e+00    2.487923e+00    1.508367e+00    1.276991e+00   \n",
       "Canada           2.719440e+00    1.906636e+00    1.125241e+00    1.428760e+00   \n",
       "Denmark          2.903282e+00    5.640205e-01    4.520342e-01    2.500000e-01   \n",
       "Germany          1.440268e+00    9.067940e-01    5.144261e-01    4.917470e-01   \n",
       "Liechtenstein    6.543559e+09    6.270911e+09    5.998263e+09    5.725615e+09   \n",
       "\n",
       "               inflation_2017  inflation_2018  inflation_2019  inflation_2020  \\\n",
       "Country                                                                         \n",
       "Australia        1.948647e+00    1.911401e+00    1.610768e+00    8.469055e-01   \n",
       "Canada           1.596884e+00    2.268226e+00    1.949269e+00    7.169996e-01   \n",
       "Denmark          1.147132e+00    8.136095e-01    7.581316e-01    4.207120e-01   \n",
       "Germany          1.509495e+00    1.732169e+00    1.445660e+00    1.448779e-01   \n",
       "Liechtenstein    5.452966e+09    5.180318e+09    4.907670e+09    4.635021e+09   \n",
       "\n",
       "               inflation_2021  inflation_2022  inflation_2023  \\\n",
       "Country                                                         \n",
       "Australia        2.863910e+00    6.594097e+00    5.597015e+00   \n",
       "Canada           3.395193e+00    6.802801e+00    3.879002e+00   \n",
       "Denmark          1.853045e+00    7.696567e+00    3.305178e+00   \n",
       "Germany          3.066667e+00    6.872574e+00    5.946437e+00   \n",
       "Liechtenstein    4.362373e+09    4.089725e+09    3.817076e+09   \n",
       "\n",
       "               total_reserves_1990  total_reserves_2000  total_reserves_2014  \\\n",
       "Country                                                                        \n",
       "Australia             1.931874e+10         1.882155e+10         5.391033e+10   \n",
       "Canada                2.352952e+10         3.242727e+10         7.469996e+10   \n",
       "Denmark               1.122584e+10         1.569595e+10         7.539189e+10   \n",
       "Germany               1.045473e+11         8.749687e+10         1.934848e+11   \n",
       "Liechtenstein         3.544428e+09         3.271780e+09         2.999131e+09   \n",
       "\n",
       "               total_reserves_2015  total_reserves_2016  total_reserves_2017  \\\n",
       "Country                                                                        \n",
       "Australia             4.540604e+10         5.248079e+10         6.565372e+10   \n",
       "Canada                7.975352e+10         8.271811e+10         8.667771e+10   \n",
       "Denmark               6.518509e+10         6.421581e+10         7.524445e+10   \n",
       "Germany               1.737309e+11         1.840313e+11         1.999831e+11   \n",
       "Liechtenstein         2.726483e+09         2.453835e+09         2.181187e+09   \n",
       "\n",
       "               total_reserves_2018  total_reserves_2019  total_reserves_2020  \\\n",
       "Country                                                                        \n",
       "Australia             5.390953e+10         5.799469e+10         4.254463e+10   \n",
       "Canada                8.392560e+10         8.529711e+10         9.042814e+10   \n",
       "Denmark               7.094208e+10         6.683555e+10         7.282335e+10   \n",
       "Germany               1.980271e+11         2.240280e+11         2.684086e+11   \n",
       "Liechtenstein         1.908538e+09         1.635890e+09         1.363242e+09   \n",
       "\n",
       "               total_reserves_2021  total_reserves_2022  total_reserves_2023  \\\n",
       "Country                                                                        \n",
       "Australia             5.787750e+10         5.670190e+10         6.170335e+10   \n",
       "Canada                1.066151e+11         1.069524e+11         1.175509e+11   \n",
       "Denmark               8.223584e+10         9.607255e+10         1.093708e+11   \n",
       "Germany               2.957362e+11         2.939137e+11         3.227001e+11   \n",
       "Liechtenstein         1.090593e+09         8.179449e+08         5.452966e+08   \n",
       "\n",
       "               target  \n",
       "Country                \n",
       "Australia           0  \n",
       "Canada              0  \n",
       "Denmark             0  \n",
       "Germany             0  \n",
       "Liechtenstein       0  "
      ]
     },
     "execution_count": 81,
     "metadata": {},
     "output_type": "execute_result"
    }
   ],
   "source": [
    "data.head()"
   ]
  },
  {
   "cell_type": "markdown",
   "metadata": {},
   "source": [
    "## Train Test Split "
   ]
  },
  {
   "cell_type": "code",
   "execution_count": 82,
   "metadata": {},
   "outputs": [],
   "source": [
    "X = data.drop(['target', 'S&P Rating'], axis = 1)\n",
    "y = data[['target']]"
   ]
  },
  {
   "cell_type": "code",
   "execution_count": 83,
   "metadata": {},
   "outputs": [],
   "source": [
    "X_train,X_test,y_train,y_test = train_test_split(X,y,test_size=0.4,random_state=seed)"
   ]
  },
  {
   "cell_type": "markdown",
   "metadata": {},
   "source": [
    "## Intial Modeling and Results "
   ]
  },
  {
   "cell_type": "code",
   "execution_count": 84,
   "metadata": {},
   "outputs": [],
   "source": [
    "# 1. Logistic Regression\n",
    "logistic = LogisticRegression(multi_class='multinomial', solver='lbfgs', random_state=seed)\n",
    "logistic.fit(X_train, y_train)\n",
    "logistic_test_yhat = logistic.predict(X_test)\n",
    "logistic_train_yhat = logistic.predict(X_train)\n",
    "\n",
    "\n",
    "# 2. Ridge Classifier\n",
    "ridge_classifier = RidgeClassifier(alpha = 0.5, random_state=seed)\n",
    "ridge_classifier.fit(X_train, y_train)\n",
    "ridge_classifier_test_yhat = ridge_classifier.predict(X_test)\n",
    "ridge_classifier_train_yhat = ridge_classifier.predict(X_train)\n",
    "\n",
    "# 3. Gaussian Naive Bayes\n",
    "naive_bayes = GaussianNB()\n",
    "naive_bayes.fit(X_train, y_train)\n",
    "naive_bayes_test_yhat = naive_bayes.predict(X_test)\n",
    "naive_bayes_train_yhat = naive_bayes.predict(X_train)\n",
    "\n",
    "# 4. Support Vector Classifier\n",
    "svc = SVC(probability = True, random_state=seed)\n",
    "svc.fit(X_train, y_train)\n",
    "svc_test_yhat = svc.predict(X_test)\n",
    "svc_train_yhat = svc.predict(X_train)"
   ]
  },
  {
   "cell_type": "code",
   "execution_count": 85,
   "metadata": {},
   "outputs": [
    {
     "name": "stdout",
     "output_type": "stream",
     "text": [
      "\u001b[1mAUC SCORE (Multi-Class):\u001b[0m\n",
      "-------------------------------------------------------------------------------\n",
      "\u001b[1mLogistic model:\u001b[0m\n",
      "\u001b[1mTrain - AUC score is 0.9148\u001b[0m\n",
      "\u001b[1mTest - AUC score is 0.8102\u001b[0m\n",
      "-------------------------------------------------------------------------------\n",
      "\u001b[1mRidge model:\u001b[0m\n",
      "\u001b[1mTrain - AUC score is 1.0000\u001b[0m\n",
      "\u001b[1mTest - AUC score is 0.4185\u001b[0m\n",
      "-------------------------------------------------------------------------------\n",
      "\u001b[1mNaive Bayes model:\u001b[0m\n",
      "\u001b[1mTrain - AUC score is 0.6967\u001b[0m\n",
      "\u001b[1mTest - AUC score is 0.7161\u001b[0m\n",
      "-------------------------------------------------------------------------------\n",
      "\u001b[1mSVC model:\u001b[0m\n",
      "\u001b[1mTrain - AUC score is 0.7028\u001b[0m\n",
      "\u001b[1mTest - AUC score is 0.5403\u001b[0m\n"
     ]
    }
   ],
   "source": [
    "# Binarize the output for multi-class AUC\n",
    "y_train_binarized = label_binarize(y_train, classes=[0, 1, 2])  # Adjust class labels as needed\n",
    "y_test_binarized = label_binarize(y_test, classes=[0, 1, 2])\n",
    "\n",
    "print(cl('AUC SCORE (Multi-Class):', attrs=['bold']))\n",
    "print('-------------------------------------------------------------------------------')\n",
    "\n",
    "# 1. Logistic Regression\n",
    "logistic.fit(X_train, y_train)\n",
    "logistic_train_auc = roc_auc_score(y_train_binarized, logistic.predict_proba(X_train), multi_class='ovr')\n",
    "logistic_test_auc = roc_auc_score(y_test_binarized, logistic.predict_proba(X_test), multi_class='ovr')\n",
    "print(cl('Logistic model:', attrs=['bold']))\n",
    "print(cl('Train - AUC score is {:.4f}'.format(logistic_train_auc), attrs=['bold']))\n",
    "print(cl('Test - AUC score is {:.4f}'.format(logistic_test_auc), attrs=['bold']))\n",
    "\n",
    "print('-------------------------------------------------------------------------------')\n",
    "\n",
    "# 2. Ridge Classifier\n",
    "ridge_classifier.fit(X_train, y_train)\n",
    "ridge_train_scores = ridge_classifier.decision_function(X_train)  # Multiclass decision scores\n",
    "ridge_test_scores = ridge_classifier.decision_function(X_test)\n",
    "ridge_classifier_train_auc = roc_auc_score(y_train_binarized, ridge_train_scores, multi_class='ovr')\n",
    "ridge_classifier_test_auc = roc_auc_score(y_test_binarized, ridge_test_scores, multi_class='ovr')\n",
    "print(cl('Ridge model:', attrs=['bold']))\n",
    "print(cl('Train - AUC score is {:.4f}'.format(ridge_classifier_train_auc), attrs=['bold']))\n",
    "print(cl('Test - AUC score is {:.4f}'.format(ridge_classifier_test_auc), attrs=['bold']))\n",
    "\n",
    "print('-------------------------------------------------------------------------------')\n",
    "\n",
    "# 3. Gaussian Naive Bayes\n",
    "naive_bayes.fit(X_train, y_train)\n",
    "naive_bayes_train_auc = roc_auc_score(y_train_binarized, naive_bayes.predict_proba(X_train), multi_class='ovr')\n",
    "naive_bayes_test_auc = roc_auc_score(y_test_binarized, naive_bayes.predict_proba(X_test), multi_class='ovr')\n",
    "print(cl('Naive Bayes model:', attrs=['bold']))\n",
    "print(cl('Train - AUC score is {:.4f}'.format(naive_bayes_train_auc), attrs=['bold']))\n",
    "print(cl('Test - AUC score is {:.4f}'.format(naive_bayes_test_auc), attrs=['bold']))\n",
    "\n",
    "print('-------------------------------------------------------------------------------')\n",
    "\n",
    "# 4. Support Vector Classifier\n",
    "svc.fit(X_train, y_train)\n",
    "svc_train_auc = roc_auc_score(y_train_binarized, svc.decision_function(X_train), multi_class='ovr')  # Use decision_function\n",
    "svc_test_auc = roc_auc_score(y_test_binarized, svc.decision_function(X_test), multi_class='ovr')\n",
    "print(cl('SVC model:', attrs=['bold']))\n",
    "print(cl('Train - AUC score is {:.4f}'.format(svc_train_auc), attrs=['bold']))\n",
    "print(cl('Test - AUC score is {:.4f}'.format(svc_test_auc), attrs=['bold']))\n",
    "\n"
   ]
  },
  {
   "cell_type": "code",
   "execution_count": 86,
   "metadata": {},
   "outputs": [
    {
     "name": "stdout",
     "output_type": "stream",
     "text": [
      "\u001b[1mLogistic Model: Other Metrics:\u001b[0m\n",
      "     \n",
      "Classification Report (Test):\u001b[0m\n",
      "              precision    recall  f1-score   support\n",
      "\n",
      "           0       0.70      0.61      0.65        23\n",
      "           1       0.75      0.67      0.71        27\n",
      "           2       0.14      1.00      0.25         1\n",
      "\n",
      "    accuracy                           0.65        51\n",
      "   macro avg       0.53      0.76      0.54        51\n",
      "weighted avg       0.72      0.65      0.67        51\n",
      "\n"
     ]
    }
   ],
   "source": [
    "print(cl('Logistic Model: Other Metrics:', attrs=['bold']))\n",
    "# 1. Logistic Regression\n",
    "logistic.fit(X_train, y_train)\n",
    "print('     ')\n",
    "print(cl('Classification Report (Test):'))\n",
    "print(classification_report(y_test, logistic_test_yhat))"
   ]
  },
  {
   "cell_type": "code",
   "execution_count": 87,
   "metadata": {},
   "outputs": [
    {
     "name": "stdout",
     "output_type": "stream",
     "text": [
      "\u001b[1mRidge Classifier: Other Metrics:\u001b[0m\n",
      "     \n",
      "Classification Report (Test):\u001b[0m\n",
      "              precision    recall  f1-score   support\n",
      "\n",
      "           0       0.62      0.35      0.44        23\n",
      "           1       0.63      0.44      0.52        27\n",
      "           2       0.00      0.00      0.00         1\n",
      "\n",
      "    accuracy                           0.39        51\n",
      "   macro avg       0.42      0.26      0.32        51\n",
      "weighted avg       0.61      0.39      0.48        51\n",
      "\n"
     ]
    }
   ],
   "source": [
    "print(cl('Ridge Classifier: Other Metrics:', attrs=['bold']))\n",
    "# 2. Ridge Classifier\n",
    "ridge_classifier.fit(X_train, y_train)\n",
    "print('     ')\n",
    "print(cl('Classification Report (Test):'))\n",
    "print(classification_report(y_test, ridge_classifier_test_yhat))"
   ]
  },
  {
   "cell_type": "code",
   "execution_count": 88,
   "metadata": {},
   "outputs": [
    {
     "name": "stdout",
     "output_type": "stream",
     "text": [
      "\u001b[1mGaussian Naive Bayes: Other Metrics:\u001b[0m\n",
      "     \n",
      "Classification Report (Test):\u001b[0m\n",
      "              precision    recall  f1-score   support\n",
      "\n",
      "           0       0.83      0.22      0.34        23\n",
      "           1       0.57      0.85      0.69        27\n",
      "           2       0.20      1.00      0.33         1\n",
      "\n",
      "    accuracy                           0.57        51\n",
      "   macro avg       0.54      0.69      0.45        51\n",
      "weighted avg       0.68      0.57      0.53        51\n",
      "\n"
     ]
    }
   ],
   "source": [
    "print(cl('Gaussian Naive Bayes: Other Metrics:', attrs=['bold']))\n",
    "# 3. Gaussian Naive Bayes\n",
    "naive_bayes.fit(X_train, y_train)\n",
    "print('     ')\n",
    "print(cl('Classification Report (Test):'))\n",
    "print(classification_report(y_test, naive_bayes_test_yhat))"
   ]
  },
  {
   "cell_type": "code",
   "execution_count": 89,
   "metadata": {},
   "outputs": [
    {
     "name": "stdout",
     "output_type": "stream",
     "text": [
      "\u001b[1mSupport Vector Classifier: Other Metrics:\u001b[0m\n",
      "     \n",
      "Classification Report (Test):\u001b[0m\n",
      "              precision    recall  f1-score   support\n",
      "\n",
      "           0       0.80      0.17      0.29        23\n",
      "           1       0.57      0.96      0.71        27\n",
      "           2       0.00      0.00      0.00         1\n",
      "\n",
      "    accuracy                           0.59        51\n",
      "   macro avg       0.46      0.38      0.33        51\n",
      "weighted avg       0.66      0.59      0.51        51\n",
      "\n"
     ]
    }
   ],
   "source": [
    "print(cl('Support Vector Classifier: Other Metrics:', attrs=['bold']))\n",
    "# 4. Support Vector Classifier\n",
    "svc.fit(X_train, y_train)\n",
    "print('     ')\n",
    "print(cl('Classification Report (Test):'))\n",
    "print(classification_report(y_test,svc_test_yhat))"
   ]
  },
  {
   "cell_type": "code",
   "execution_count": 90,
   "metadata": {},
   "outputs": [
    {
     "data": {
      "application/vnd.plotly.v1+json": {
       "config": {
        "plotlyServerURL": "https://plot.ly"
       },
       "data": [
        {
         "alignmentgroup": "True",
         "hovertemplate": "Dataset=Train<br>Classification Model=%{x}<br>AUC Score=%{y}<extra></extra>",
         "legendgroup": "Train",
         "marker": {
          "color": "#636efa",
          "pattern": {
           "shape": ""
          }
         },
         "name": "Train",
         "offsetgroup": "Train",
         "orientation": "v",
         "showlegend": true,
         "textposition": "auto",
         "type": "bar",
         "x": [
          "Logistic Regression",
          "Ridge Classifier",
          "Naive Bayes",
          "SVC"
         ],
         "xaxis": "x",
         "y": [
          0.9148301255986265,
          1,
          0.6966909882232463,
          0.7028071443631217
         ],
         "yaxis": "y"
        },
        {
         "alignmentgroup": "True",
         "hovertemplate": "Dataset=Test<br>Classification Model=%{x}<br>AUC Score=%{y}<extra></extra>",
         "legendgroup": "Test",
         "marker": {
          "color": "#EF553B",
          "pattern": {
           "shape": ""
          }
         },
         "name": "Test",
         "offsetgroup": "Test",
         "orientation": "v",
         "showlegend": true,
         "textposition": "auto",
         "type": "bar",
         "x": [
          "Logistic Regression",
          "Ridge Classifier",
          "Naive Bayes",
          "SVC"
         ],
         "xaxis": "x",
         "y": [
          0.8101514454413005,
          0.4184846509725737,
          0.7160969250824324,
          0.5403298571172966
         ],
         "yaxis": "y"
        }
       ],
       "layout": {
        "barmode": "group",
        "legend": {
         "title": {
          "text": "Dataset"
         },
         "tracegroupgap": 0
        },
        "template": {
         "data": {
          "bar": [
           {
            "error_x": {
             "color": "#f2f5fa"
            },
            "error_y": {
             "color": "#f2f5fa"
            },
            "marker": {
             "line": {
              "color": "rgb(17,17,17)",
              "width": 0.5
             },
             "pattern": {
              "fillmode": "overlay",
              "size": 10,
              "solidity": 0.2
             }
            },
            "type": "bar"
           }
          ],
          "barpolar": [
           {
            "marker": {
             "line": {
              "color": "rgb(17,17,17)",
              "width": 0.5
             },
             "pattern": {
              "fillmode": "overlay",
              "size": 10,
              "solidity": 0.2
             }
            },
            "type": "barpolar"
           }
          ],
          "carpet": [
           {
            "aaxis": {
             "endlinecolor": "#A2B1C6",
             "gridcolor": "#506784",
             "linecolor": "#506784",
             "minorgridcolor": "#506784",
             "startlinecolor": "#A2B1C6"
            },
            "baxis": {
             "endlinecolor": "#A2B1C6",
             "gridcolor": "#506784",
             "linecolor": "#506784",
             "minorgridcolor": "#506784",
             "startlinecolor": "#A2B1C6"
            },
            "type": "carpet"
           }
          ],
          "choropleth": [
           {
            "colorbar": {
             "outlinewidth": 0,
             "ticks": ""
            },
            "type": "choropleth"
           }
          ],
          "contour": [
           {
            "colorbar": {
             "outlinewidth": 0,
             "ticks": ""
            },
            "colorscale": [
             [
              0,
              "#0d0887"
             ],
             [
              0.1111111111111111,
              "#46039f"
             ],
             [
              0.2222222222222222,
              "#7201a8"
             ],
             [
              0.3333333333333333,
              "#9c179e"
             ],
             [
              0.4444444444444444,
              "#bd3786"
             ],
             [
              0.5555555555555556,
              "#d8576b"
             ],
             [
              0.6666666666666666,
              "#ed7953"
             ],
             [
              0.7777777777777778,
              "#fb9f3a"
             ],
             [
              0.8888888888888888,
              "#fdca26"
             ],
             [
              1,
              "#f0f921"
             ]
            ],
            "type": "contour"
           }
          ],
          "contourcarpet": [
           {
            "colorbar": {
             "outlinewidth": 0,
             "ticks": ""
            },
            "type": "contourcarpet"
           }
          ],
          "heatmap": [
           {
            "colorbar": {
             "outlinewidth": 0,
             "ticks": ""
            },
            "colorscale": [
             [
              0,
              "#0d0887"
             ],
             [
              0.1111111111111111,
              "#46039f"
             ],
             [
              0.2222222222222222,
              "#7201a8"
             ],
             [
              0.3333333333333333,
              "#9c179e"
             ],
             [
              0.4444444444444444,
              "#bd3786"
             ],
             [
              0.5555555555555556,
              "#d8576b"
             ],
             [
              0.6666666666666666,
              "#ed7953"
             ],
             [
              0.7777777777777778,
              "#fb9f3a"
             ],
             [
              0.8888888888888888,
              "#fdca26"
             ],
             [
              1,
              "#f0f921"
             ]
            ],
            "type": "heatmap"
           }
          ],
          "heatmapgl": [
           {
            "colorbar": {
             "outlinewidth": 0,
             "ticks": ""
            },
            "colorscale": [
             [
              0,
              "#0d0887"
             ],
             [
              0.1111111111111111,
              "#46039f"
             ],
             [
              0.2222222222222222,
              "#7201a8"
             ],
             [
              0.3333333333333333,
              "#9c179e"
             ],
             [
              0.4444444444444444,
              "#bd3786"
             ],
             [
              0.5555555555555556,
              "#d8576b"
             ],
             [
              0.6666666666666666,
              "#ed7953"
             ],
             [
              0.7777777777777778,
              "#fb9f3a"
             ],
             [
              0.8888888888888888,
              "#fdca26"
             ],
             [
              1,
              "#f0f921"
             ]
            ],
            "type": "heatmapgl"
           }
          ],
          "histogram": [
           {
            "marker": {
             "pattern": {
              "fillmode": "overlay",
              "size": 10,
              "solidity": 0.2
             }
            },
            "type": "histogram"
           }
          ],
          "histogram2d": [
           {
            "colorbar": {
             "outlinewidth": 0,
             "ticks": ""
            },
            "colorscale": [
             [
              0,
              "#0d0887"
             ],
             [
              0.1111111111111111,
              "#46039f"
             ],
             [
              0.2222222222222222,
              "#7201a8"
             ],
             [
              0.3333333333333333,
              "#9c179e"
             ],
             [
              0.4444444444444444,
              "#bd3786"
             ],
             [
              0.5555555555555556,
              "#d8576b"
             ],
             [
              0.6666666666666666,
              "#ed7953"
             ],
             [
              0.7777777777777778,
              "#fb9f3a"
             ],
             [
              0.8888888888888888,
              "#fdca26"
             ],
             [
              1,
              "#f0f921"
             ]
            ],
            "type": "histogram2d"
           }
          ],
          "histogram2dcontour": [
           {
            "colorbar": {
             "outlinewidth": 0,
             "ticks": ""
            },
            "colorscale": [
             [
              0,
              "#0d0887"
             ],
             [
              0.1111111111111111,
              "#46039f"
             ],
             [
              0.2222222222222222,
              "#7201a8"
             ],
             [
              0.3333333333333333,
              "#9c179e"
             ],
             [
              0.4444444444444444,
              "#bd3786"
             ],
             [
              0.5555555555555556,
              "#d8576b"
             ],
             [
              0.6666666666666666,
              "#ed7953"
             ],
             [
              0.7777777777777778,
              "#fb9f3a"
             ],
             [
              0.8888888888888888,
              "#fdca26"
             ],
             [
              1,
              "#f0f921"
             ]
            ],
            "type": "histogram2dcontour"
           }
          ],
          "mesh3d": [
           {
            "colorbar": {
             "outlinewidth": 0,
             "ticks": ""
            },
            "type": "mesh3d"
           }
          ],
          "parcoords": [
           {
            "line": {
             "colorbar": {
              "outlinewidth": 0,
              "ticks": ""
             }
            },
            "type": "parcoords"
           }
          ],
          "pie": [
           {
            "automargin": true,
            "type": "pie"
           }
          ],
          "scatter": [
           {
            "marker": {
             "line": {
              "color": "#283442"
             }
            },
            "type": "scatter"
           }
          ],
          "scatter3d": [
           {
            "line": {
             "colorbar": {
              "outlinewidth": 0,
              "ticks": ""
             }
            },
            "marker": {
             "colorbar": {
              "outlinewidth": 0,
              "ticks": ""
             }
            },
            "type": "scatter3d"
           }
          ],
          "scattercarpet": [
           {
            "marker": {
             "colorbar": {
              "outlinewidth": 0,
              "ticks": ""
             }
            },
            "type": "scattercarpet"
           }
          ],
          "scattergeo": [
           {
            "marker": {
             "colorbar": {
              "outlinewidth": 0,
              "ticks": ""
             }
            },
            "type": "scattergeo"
           }
          ],
          "scattergl": [
           {
            "marker": {
             "line": {
              "color": "#283442"
             }
            },
            "type": "scattergl"
           }
          ],
          "scattermapbox": [
           {
            "marker": {
             "colorbar": {
              "outlinewidth": 0,
              "ticks": ""
             }
            },
            "type": "scattermapbox"
           }
          ],
          "scatterpolar": [
           {
            "marker": {
             "colorbar": {
              "outlinewidth": 0,
              "ticks": ""
             }
            },
            "type": "scatterpolar"
           }
          ],
          "scatterpolargl": [
           {
            "marker": {
             "colorbar": {
              "outlinewidth": 0,
              "ticks": ""
             }
            },
            "type": "scatterpolargl"
           }
          ],
          "scatterternary": [
           {
            "marker": {
             "colorbar": {
              "outlinewidth": 0,
              "ticks": ""
             }
            },
            "type": "scatterternary"
           }
          ],
          "surface": [
           {
            "colorbar": {
             "outlinewidth": 0,
             "ticks": ""
            },
            "colorscale": [
             [
              0,
              "#0d0887"
             ],
             [
              0.1111111111111111,
              "#46039f"
             ],
             [
              0.2222222222222222,
              "#7201a8"
             ],
             [
              0.3333333333333333,
              "#9c179e"
             ],
             [
              0.4444444444444444,
              "#bd3786"
             ],
             [
              0.5555555555555556,
              "#d8576b"
             ],
             [
              0.6666666666666666,
              "#ed7953"
             ],
             [
              0.7777777777777778,
              "#fb9f3a"
             ],
             [
              0.8888888888888888,
              "#fdca26"
             ],
             [
              1,
              "#f0f921"
             ]
            ],
            "type": "surface"
           }
          ],
          "table": [
           {
            "cells": {
             "fill": {
              "color": "#506784"
             },
             "line": {
              "color": "rgb(17,17,17)"
             }
            },
            "header": {
             "fill": {
              "color": "#2a3f5f"
             },
             "line": {
              "color": "rgb(17,17,17)"
             }
            },
            "type": "table"
           }
          ]
         },
         "layout": {
          "annotationdefaults": {
           "arrowcolor": "#f2f5fa",
           "arrowhead": 0,
           "arrowwidth": 1
          },
          "autotypenumbers": "strict",
          "coloraxis": {
           "colorbar": {
            "outlinewidth": 0,
            "ticks": ""
           }
          },
          "colorscale": {
           "diverging": [
            [
             0,
             "#8e0152"
            ],
            [
             0.1,
             "#c51b7d"
            ],
            [
             0.2,
             "#de77ae"
            ],
            [
             0.3,
             "#f1b6da"
            ],
            [
             0.4,
             "#fde0ef"
            ],
            [
             0.5,
             "#f7f7f7"
            ],
            [
             0.6,
             "#e6f5d0"
            ],
            [
             0.7,
             "#b8e186"
            ],
            [
             0.8,
             "#7fbc41"
            ],
            [
             0.9,
             "#4d9221"
            ],
            [
             1,
             "#276419"
            ]
           ],
           "sequential": [
            [
             0,
             "#0d0887"
            ],
            [
             0.1111111111111111,
             "#46039f"
            ],
            [
             0.2222222222222222,
             "#7201a8"
            ],
            [
             0.3333333333333333,
             "#9c179e"
            ],
            [
             0.4444444444444444,
             "#bd3786"
            ],
            [
             0.5555555555555556,
             "#d8576b"
            ],
            [
             0.6666666666666666,
             "#ed7953"
            ],
            [
             0.7777777777777778,
             "#fb9f3a"
            ],
            [
             0.8888888888888888,
             "#fdca26"
            ],
            [
             1,
             "#f0f921"
            ]
           ],
           "sequentialminus": [
            [
             0,
             "#0d0887"
            ],
            [
             0.1111111111111111,
             "#46039f"
            ],
            [
             0.2222222222222222,
             "#7201a8"
            ],
            [
             0.3333333333333333,
             "#9c179e"
            ],
            [
             0.4444444444444444,
             "#bd3786"
            ],
            [
             0.5555555555555556,
             "#d8576b"
            ],
            [
             0.6666666666666666,
             "#ed7953"
            ],
            [
             0.7777777777777778,
             "#fb9f3a"
            ],
            [
             0.8888888888888888,
             "#fdca26"
            ],
            [
             1,
             "#f0f921"
            ]
           ]
          },
          "colorway": [
           "#636efa",
           "#EF553B",
           "#00cc96",
           "#ab63fa",
           "#FFA15A",
           "#19d3f3",
           "#FF6692",
           "#B6E880",
           "#FF97FF",
           "#FECB52"
          ],
          "font": {
           "color": "#f2f5fa"
          },
          "geo": {
           "bgcolor": "rgb(17,17,17)",
           "lakecolor": "rgb(17,17,17)",
           "landcolor": "rgb(17,17,17)",
           "showlakes": true,
           "showland": true,
           "subunitcolor": "#506784"
          },
          "hoverlabel": {
           "align": "left"
          },
          "hovermode": "closest",
          "mapbox": {
           "style": "dark"
          },
          "paper_bgcolor": "rgb(17,17,17)",
          "plot_bgcolor": "rgb(17,17,17)",
          "polar": {
           "angularaxis": {
            "gridcolor": "#506784",
            "linecolor": "#506784",
            "ticks": ""
           },
           "bgcolor": "rgb(17,17,17)",
           "radialaxis": {
            "gridcolor": "#506784",
            "linecolor": "#506784",
            "ticks": ""
           }
          },
          "scene": {
           "xaxis": {
            "backgroundcolor": "rgb(17,17,17)",
            "gridcolor": "#506784",
            "gridwidth": 2,
            "linecolor": "#506784",
            "showbackground": true,
            "ticks": "",
            "zerolinecolor": "#C8D4E3"
           },
           "yaxis": {
            "backgroundcolor": "rgb(17,17,17)",
            "gridcolor": "#506784",
            "gridwidth": 2,
            "linecolor": "#506784",
            "showbackground": true,
            "ticks": "",
            "zerolinecolor": "#C8D4E3"
           },
           "zaxis": {
            "backgroundcolor": "rgb(17,17,17)",
            "gridcolor": "#506784",
            "gridwidth": 2,
            "linecolor": "#506784",
            "showbackground": true,
            "ticks": "",
            "zerolinecolor": "#C8D4E3"
           }
          },
          "shapedefaults": {
           "line": {
            "color": "#f2f5fa"
           }
          },
          "sliderdefaults": {
           "bgcolor": "#C8D4E3",
           "bordercolor": "rgb(17,17,17)",
           "borderwidth": 1,
           "tickwidth": 0
          },
          "ternary": {
           "aaxis": {
            "gridcolor": "#506784",
            "linecolor": "#506784",
            "ticks": ""
           },
           "baxis": {
            "gridcolor": "#506784",
            "linecolor": "#506784",
            "ticks": ""
           },
           "bgcolor": "rgb(17,17,17)",
           "caxis": {
            "gridcolor": "#506784",
            "linecolor": "#506784",
            "ticks": ""
           }
          },
          "title": {
           "x": 0.05
          },
          "updatemenudefaults": {
           "bgcolor": "#506784",
           "borderwidth": 0
          },
          "xaxis": {
           "automargin": true,
           "gridcolor": "#283442",
           "linecolor": "#506784",
           "ticks": "",
           "title": {
            "standoff": 15
           },
           "zerolinecolor": "#283442",
           "zerolinewidth": 2
          },
          "yaxis": {
           "automargin": true,
           "gridcolor": "#283442",
           "linecolor": "#506784",
           "ticks": "",
           "title": {
            "standoff": 15
           },
           "zerolinecolor": "#283442",
           "zerolinewidth": 2
          }
         }
        },
        "title": {
         "font": {
          "size": 20
         },
         "text": "Comparison of AUC Scores Across Models"
        },
        "xaxis": {
         "anchor": "y",
         "domain": [
          0,
          1
         ],
         "title": {
          "text": "Model"
         }
        },
        "yaxis": {
         "anchor": "x",
         "domain": [
          0,
          1
         ],
         "title": {
          "text": "AUC Score"
         }
        }
       }
      }
     },
     "metadata": {},
     "output_type": "display_data"
    }
   ],
   "source": [
    "# AUC scores from all models\n",
    "model_names = ['Logistic Regression', 'Ridge Classifier', 'Naive Bayes', 'SVC']\n",
    "train_auc_scores = [logistic_train_auc, ridge_classifier_train_auc, naive_bayes_train_auc, svc_train_auc]\n",
    "test_auc_scores = [logistic_test_auc, ridge_classifier_test_auc, naive_bayes_test_auc, svc_test_auc]\n",
    "\n",
    "# Create a DataFrame for visualization\n",
    "auc_data = pd.DataFrame({\n",
    "    'Model': model_names * 2,\n",
    "    'Dataset': ['Train'] * len(model_names) + ['Test'] * len(model_names),\n",
    "    'AUC Score': train_auc_scores + test_auc_scores})\n",
    "\n",
    "# Create the bar plot with the plotly_dark template\n",
    "fig = px.bar(\n",
    "    auc_data, \n",
    "    x='Model', \n",
    "    y='AUC Score', \n",
    "    color='Dataset', \n",
    "    barmode='group',\n",
    "    title='Comparison of AUC Scores Across Models',\n",
    "    labels={'AUC Score': 'AUC Score', 'Model': 'Classification Model'},\n",
    "    template='plotly_dark'\n",
    ")\n",
    "\n",
    "# Customize layout\n",
    "fig.update_layout(\n",
    "    title_font_size=20,\n",
    "    xaxis_title='Model',\n",
    "    yaxis_title='AUC Score',\n",
    "    legend_title='Dataset',\n",
    ")\n",
    "\n",
    "# Display the plot\n",
    "fig.show()\n"
   ]
  },
  {
   "cell_type": "markdown",
   "metadata": {},
   "source": [
    "# Improved Modeling"
   ]
  },
  {
   "cell_type": "markdown",
   "metadata": {},
   "source": [
    "## Feature Engineering "
   ]
  },
  {
   "cell_type": "markdown",
   "metadata": {},
   "source": [
    "Creation of relevant ratios recarding country ratings. "
   ]
  },
  {
   "cell_type": "code",
   "execution_count": 91,
   "metadata": {},
   "outputs": [],
   "source": [
    "df = data.copy()"
   ]
  },
  {
   "cell_type": "code",
   "execution_count": 92,
   "metadata": {},
   "outputs": [
    {
     "data": {
      "text/html": [
       "<div>\n",
       "<style scoped>\n",
       "    .dataframe tbody tr th:only-of-type {\n",
       "        vertical-align: middle;\n",
       "    }\n",
       "\n",
       "    .dataframe tbody tr th {\n",
       "        vertical-align: top;\n",
       "    }\n",
       "\n",
       "    .dataframe thead th {\n",
       "        text-align: right;\n",
       "    }\n",
       "</style>\n",
       "<table border=\"1\" class=\"dataframe\">\n",
       "  <thead>\n",
       "    <tr style=\"text-align: right;\">\n",
       "      <th></th>\n",
       "      <th>S&amp;P Rating</th>\n",
       "      <th>unemployment_2000</th>\n",
       "      <th>unemployment_2014</th>\n",
       "      <th>unemployment_2015</th>\n",
       "      <th>unemployment_2016</th>\n",
       "      <th>unemployment_2017</th>\n",
       "      <th>unemployment_2018</th>\n",
       "      <th>unemployment_2019</th>\n",
       "      <th>unemployment_2020</th>\n",
       "      <th>unemployment_2021</th>\n",
       "      <th>unemployment_2022</th>\n",
       "      <th>unemployment_2023</th>\n",
       "      <th>current_account_balance_1990</th>\n",
       "      <th>current_account_balance_2000</th>\n",
       "      <th>current_account_balance_2014</th>\n",
       "      <th>current_account_balance_2015</th>\n",
       "      <th>current_account_balance_2016</th>\n",
       "      <th>current_account_balance_2017</th>\n",
       "      <th>current_account_balance_2018</th>\n",
       "      <th>current_account_balance_2019</th>\n",
       "      <th>current_account_balance_2020</th>\n",
       "      <th>current_account_balance_2021</th>\n",
       "      <th>current_account_balance_2022</th>\n",
       "      <th>current_account_balance_2023</th>\n",
       "      <th>exchange_rate_usd_1990</th>\n",
       "      <th>exchange_rate_usd_2000</th>\n",
       "      <th>exchange_rate_usd_2014</th>\n",
       "      <th>exchange_rate_usd_2015</th>\n",
       "      <th>exchange_rate_usd_2016</th>\n",
       "      <th>exchange_rate_usd_2017</th>\n",
       "      <th>exchange_rate_usd_2018</th>\n",
       "      <th>exchange_rate_usd_2019</th>\n",
       "      <th>exchange_rate_usd_2020</th>\n",
       "      <th>exchange_rate_usd_2021</th>\n",
       "      <th>exchange_rate_usd_2022</th>\n",
       "      <th>exchange_rate_usd_2023</th>\n",
       "      <th>gdp_1990</th>\n",
       "      <th>gdp_2000</th>\n",
       "      <th>gdp_2014</th>\n",
       "      <th>gdp_2015</th>\n",
       "      <th>gdp_2016</th>\n",
       "      <th>gdp_2017</th>\n",
       "      <th>gdp_2018</th>\n",
       "      <th>gdp_2019</th>\n",
       "      <th>gdp_2020</th>\n",
       "      <th>gdp_2021</th>\n",
       "      <th>gdp_2022</th>\n",
       "      <th>gdp_2023</th>\n",
       "      <th>inflation_1990</th>\n",
       "      <th>inflation_2000</th>\n",
       "      <th>inflation_2014</th>\n",
       "      <th>inflation_2015</th>\n",
       "      <th>inflation_2016</th>\n",
       "      <th>inflation_2017</th>\n",
       "      <th>inflation_2018</th>\n",
       "      <th>inflation_2019</th>\n",
       "      <th>inflation_2020</th>\n",
       "      <th>inflation_2021</th>\n",
       "      <th>inflation_2022</th>\n",
       "      <th>inflation_2023</th>\n",
       "      <th>total_reserves_1990</th>\n",
       "      <th>total_reserves_2000</th>\n",
       "      <th>total_reserves_2014</th>\n",
       "      <th>total_reserves_2015</th>\n",
       "      <th>total_reserves_2016</th>\n",
       "      <th>total_reserves_2017</th>\n",
       "      <th>total_reserves_2018</th>\n",
       "      <th>total_reserves_2019</th>\n",
       "      <th>total_reserves_2020</th>\n",
       "      <th>total_reserves_2021</th>\n",
       "      <th>total_reserves_2022</th>\n",
       "      <th>total_reserves_2023</th>\n",
       "      <th>target</th>\n",
       "    </tr>\n",
       "    <tr>\n",
       "      <th>Country</th>\n",
       "      <th></th>\n",
       "      <th></th>\n",
       "      <th></th>\n",
       "      <th></th>\n",
       "      <th></th>\n",
       "      <th></th>\n",
       "      <th></th>\n",
       "      <th></th>\n",
       "      <th></th>\n",
       "      <th></th>\n",
       "      <th></th>\n",
       "      <th></th>\n",
       "      <th></th>\n",
       "      <th></th>\n",
       "      <th></th>\n",
       "      <th></th>\n",
       "      <th></th>\n",
       "      <th></th>\n",
       "      <th></th>\n",
       "      <th></th>\n",
       "      <th></th>\n",
       "      <th></th>\n",
       "      <th></th>\n",
       "      <th></th>\n",
       "      <th></th>\n",
       "      <th></th>\n",
       "      <th></th>\n",
       "      <th></th>\n",
       "      <th></th>\n",
       "      <th></th>\n",
       "      <th></th>\n",
       "      <th></th>\n",
       "      <th></th>\n",
       "      <th></th>\n",
       "      <th></th>\n",
       "      <th></th>\n",
       "      <th></th>\n",
       "      <th></th>\n",
       "      <th></th>\n",
       "      <th></th>\n",
       "      <th></th>\n",
       "      <th></th>\n",
       "      <th></th>\n",
       "      <th></th>\n",
       "      <th></th>\n",
       "      <th></th>\n",
       "      <th></th>\n",
       "      <th></th>\n",
       "      <th></th>\n",
       "      <th></th>\n",
       "      <th></th>\n",
       "      <th></th>\n",
       "      <th></th>\n",
       "      <th></th>\n",
       "      <th></th>\n",
       "      <th></th>\n",
       "      <th></th>\n",
       "      <th></th>\n",
       "      <th></th>\n",
       "      <th></th>\n",
       "      <th></th>\n",
       "      <th></th>\n",
       "      <th></th>\n",
       "      <th></th>\n",
       "      <th></th>\n",
       "      <th></th>\n",
       "      <th></th>\n",
       "      <th></th>\n",
       "      <th></th>\n",
       "      <th></th>\n",
       "      <th></th>\n",
       "      <th></th>\n",
       "      <th></th>\n",
       "    </tr>\n",
       "  </thead>\n",
       "  <tbody>\n",
       "    <tr>\n",
       "      <th>Australia</th>\n",
       "      <td>AAA</td>\n",
       "      <td>6.288000</td>\n",
       "      <td>6.078000</td>\n",
       "      <td>6.055000</td>\n",
       "      <td>5.711000</td>\n",
       "      <td>5.592000</td>\n",
       "      <td>5.300000</td>\n",
       "      <td>5.159000</td>\n",
       "      <td>6.456000</td>\n",
       "      <td>5.116000</td>\n",
       "      <td>3.70100</td>\n",
       "      <td>3.667000</td>\n",
       "      <td>-4.987491e+00</td>\n",
       "      <td>-3.721401e+00</td>\n",
       "      <td>-3.054734e+00</td>\n",
       "      <td>-4.229028e+00</td>\n",
       "      <td>-3.440490e+00</td>\n",
       "      <td>-2.722911e+00</td>\n",
       "      <td>-2.233402e+00</td>\n",
       "      <td>3.501218e-01</td>\n",
       "      <td>2.330931e+00</td>\n",
       "      <td>3.137209e+00</td>\n",
       "      <td>8.453239e-01</td>\n",
       "      <td>2.547373e-01</td>\n",
       "      <td>1.281057e+00</td>\n",
       "      <td>1.724827e+00</td>\n",
       "      <td>1.109363e+00</td>\n",
       "      <td>1.331090e+00</td>\n",
       "      <td>1.345214e+00</td>\n",
       "      <td>1.304758e+00</td>\n",
       "      <td>1.338412e+00</td>\n",
       "      <td>1.438507e+00</td>\n",
       "      <td>1.453085e+00</td>\n",
       "      <td>1.331224e+00</td>\n",
       "      <td>1.441664e+00</td>\n",
       "      <td>1.505191e+00</td>\n",
       "      <td>3.114267e+11</td>\n",
       "      <td>4.161678e+11</td>\n",
       "      <td>1.468265e+12</td>\n",
       "      <td>1.351296e+12</td>\n",
       "      <td>1.206837e+12</td>\n",
       "      <td>1.325583e+12</td>\n",
       "      <td>1.427809e+12</td>\n",
       "      <td>1.392724e+12</td>\n",
       "      <td>1.328414e+12</td>\n",
       "      <td>1.556736e+12</td>\n",
       "      <td>1.690858e+12</td>\n",
       "      <td>1.728057e+12</td>\n",
       "      <td>7.333022e+00</td>\n",
       "      <td>4.457435e+00</td>\n",
       "      <td>2.487923e+00</td>\n",
       "      <td>1.508367e+00</td>\n",
       "      <td>1.276991e+00</td>\n",
       "      <td>1.948647e+00</td>\n",
       "      <td>1.911401e+00</td>\n",
       "      <td>1.610768e+00</td>\n",
       "      <td>8.469055e-01</td>\n",
       "      <td>2.863910e+00</td>\n",
       "      <td>6.594097e+00</td>\n",
       "      <td>5.597015e+00</td>\n",
       "      <td>1.931874e+10</td>\n",
       "      <td>1.882155e+10</td>\n",
       "      <td>5.391033e+10</td>\n",
       "      <td>4.540604e+10</td>\n",
       "      <td>5.248079e+10</td>\n",
       "      <td>6.565372e+10</td>\n",
       "      <td>5.390953e+10</td>\n",
       "      <td>5.799469e+10</td>\n",
       "      <td>4.254463e+10</td>\n",
       "      <td>5.787750e+10</td>\n",
       "      <td>5.670190e+10</td>\n",
       "      <td>6.170335e+10</td>\n",
       "      <td>0</td>\n",
       "    </tr>\n",
       "    <tr>\n",
       "      <th>Canada</th>\n",
       "      <td>AAA</td>\n",
       "      <td>6.829000</td>\n",
       "      <td>7.023000</td>\n",
       "      <td>6.945000</td>\n",
       "      <td>7.038000</td>\n",
       "      <td>6.426000</td>\n",
       "      <td>5.837000</td>\n",
       "      <td>5.690000</td>\n",
       "      <td>9.657000</td>\n",
       "      <td>7.527000</td>\n",
       "      <td>5.28000</td>\n",
       "      <td>5.366000</td>\n",
       "      <td>-3.398803e+00</td>\n",
       "      <td>2.483228e+00</td>\n",
       "      <td>-2.318921e+00</td>\n",
       "      <td>-3.513987e+00</td>\n",
       "      <td>-3.093111e+00</td>\n",
       "      <td>-2.803427e+00</td>\n",
       "      <td>-2.385072e+00</td>\n",
       "      <td>-1.951703e+00</td>\n",
       "      <td>-2.010494e+00</td>\n",
       "      <td>1.277747e-02</td>\n",
       "      <td>-3.526320e-01</td>\n",
       "      <td>-7.295740e-01</td>\n",
       "      <td>1.166774e+00</td>\n",
       "      <td>1.485394e+00</td>\n",
       "      <td>1.104747e+00</td>\n",
       "      <td>1.278786e+00</td>\n",
       "      <td>1.325615e+00</td>\n",
       "      <td>1.297936e+00</td>\n",
       "      <td>1.295818e+00</td>\n",
       "      <td>1.326793e+00</td>\n",
       "      <td>1.341153e+00</td>\n",
       "      <td>1.253877e+00</td>\n",
       "      <td>1.301555e+00</td>\n",
       "      <td>1.349909e+00</td>\n",
       "      <td>5.960756e+11</td>\n",
       "      <td>7.447734e+11</td>\n",
       "      <td>1.805750e+12</td>\n",
       "      <td>1.556509e+12</td>\n",
       "      <td>1.527995e+12</td>\n",
       "      <td>1.649266e+12</td>\n",
       "      <td>1.725329e+12</td>\n",
       "      <td>1.743725e+12</td>\n",
       "      <td>1.655685e+12</td>\n",
       "      <td>2.007472e+12</td>\n",
       "      <td>2.161483e+12</td>\n",
       "      <td>2.142471e+12</td>\n",
       "      <td>4.780477e+00</td>\n",
       "      <td>2.719440e+00</td>\n",
       "      <td>1.906636e+00</td>\n",
       "      <td>1.125241e+00</td>\n",
       "      <td>1.428760e+00</td>\n",
       "      <td>1.596884e+00</td>\n",
       "      <td>2.268226e+00</td>\n",
       "      <td>1.949269e+00</td>\n",
       "      <td>7.169996e-01</td>\n",
       "      <td>3.395193e+00</td>\n",
       "      <td>6.802801e+00</td>\n",
       "      <td>3.879002e+00</td>\n",
       "      <td>2.352952e+10</td>\n",
       "      <td>3.242727e+10</td>\n",
       "      <td>7.469996e+10</td>\n",
       "      <td>7.975352e+10</td>\n",
       "      <td>8.271811e+10</td>\n",
       "      <td>8.667771e+10</td>\n",
       "      <td>8.392560e+10</td>\n",
       "      <td>8.529711e+10</td>\n",
       "      <td>9.042814e+10</td>\n",
       "      <td>1.066151e+11</td>\n",
       "      <td>1.069524e+11</td>\n",
       "      <td>1.175509e+11</td>\n",
       "      <td>0</td>\n",
       "    </tr>\n",
       "    <tr>\n",
       "      <th>Denmark</th>\n",
       "      <td>AAA</td>\n",
       "      <td>4.476000</td>\n",
       "      <td>6.925000</td>\n",
       "      <td>6.278000</td>\n",
       "      <td>5.989000</td>\n",
       "      <td>5.833000</td>\n",
       "      <td>5.131000</td>\n",
       "      <td>5.018000</td>\n",
       "      <td>5.637000</td>\n",
       "      <td>5.043000</td>\n",
       "      <td>4.43400</td>\n",
       "      <td>5.142000</td>\n",
       "      <td>9.923083e-01</td>\n",
       "      <td>1.378800e+00</td>\n",
       "      <td>8.886178e+00</td>\n",
       "      <td>7.953938e+00</td>\n",
       "      <td>7.078509e+00</td>\n",
       "      <td>7.360245e+00</td>\n",
       "      <td>6.244573e+00</td>\n",
       "      <td>7.425270e+00</td>\n",
       "      <td>7.231130e+00</td>\n",
       "      <td>8.659145e+00</td>\n",
       "      <td>1.156562e+01</td>\n",
       "      <td>9.840846e+00</td>\n",
       "      <td>6.188558e+00</td>\n",
       "      <td>8.083144e+00</td>\n",
       "      <td>5.612467e+00</td>\n",
       "      <td>6.727907e+00</td>\n",
       "      <td>6.731718e+00</td>\n",
       "      <td>6.602893e+00</td>\n",
       "      <td>6.314619e+00</td>\n",
       "      <td>6.669447e+00</td>\n",
       "      <td>6.542152e+00</td>\n",
       "      <td>6.287113e+00</td>\n",
       "      <td>7.076152e+00</td>\n",
       "      <td>6.889703e+00</td>\n",
       "      <td>1.382177e+11</td>\n",
       "      <td>1.640438e+11</td>\n",
       "      <td>3.528326e+11</td>\n",
       "      <td>3.017589e+11</td>\n",
       "      <td>3.121818e+11</td>\n",
       "      <td>3.316106e+11</td>\n",
       "      <td>3.552934e+11</td>\n",
       "      <td>3.454015e+11</td>\n",
       "      <td>3.556310e+11</td>\n",
       "      <td>4.083782e+11</td>\n",
       "      <td>4.019456e+11</td>\n",
       "      <td>4.070919e+11</td>\n",
       "      <td>2.641603e+00</td>\n",
       "      <td>2.903282e+00</td>\n",
       "      <td>5.640205e-01</td>\n",
       "      <td>4.520342e-01</td>\n",
       "      <td>2.500000e-01</td>\n",
       "      <td>1.147132e+00</td>\n",
       "      <td>8.136095e-01</td>\n",
       "      <td>7.581316e-01</td>\n",
       "      <td>4.207120e-01</td>\n",
       "      <td>1.853045e+00</td>\n",
       "      <td>7.696567e+00</td>\n",
       "      <td>3.305178e+00</td>\n",
       "      <td>1.122584e+10</td>\n",
       "      <td>1.569595e+10</td>\n",
       "      <td>7.539189e+10</td>\n",
       "      <td>6.518509e+10</td>\n",
       "      <td>6.421581e+10</td>\n",
       "      <td>7.524445e+10</td>\n",
       "      <td>7.094208e+10</td>\n",
       "      <td>6.683555e+10</td>\n",
       "      <td>7.282335e+10</td>\n",
       "      <td>8.223584e+10</td>\n",
       "      <td>9.607255e+10</td>\n",
       "      <td>1.093708e+11</td>\n",
       "      <td>0</td>\n",
       "    </tr>\n",
       "    <tr>\n",
       "      <th>Germany</th>\n",
       "      <td>AAA</td>\n",
       "      <td>7.917000</td>\n",
       "      <td>4.981000</td>\n",
       "      <td>4.624000</td>\n",
       "      <td>4.122000</td>\n",
       "      <td>3.746000</td>\n",
       "      <td>3.384000</td>\n",
       "      <td>3.136000</td>\n",
       "      <td>3.856000</td>\n",
       "      <td>3.638000</td>\n",
       "      <td>3.13500</td>\n",
       "      <td>3.045000</td>\n",
       "      <td>2.612583e+00</td>\n",
       "      <td>-1.513131e+00</td>\n",
       "      <td>7.192490e+00</td>\n",
       "      <td>8.100335e+00</td>\n",
       "      <td>8.899854e+00</td>\n",
       "      <td>8.083586e+00</td>\n",
       "      <td>8.444744e+00</td>\n",
       "      <td>7.880059e+00</td>\n",
       "      <td>6.349851e+00</td>\n",
       "      <td>6.931968e+00</td>\n",
       "      <td>4.437915e+00</td>\n",
       "      <td>5.936536e+00</td>\n",
       "      <td>1.615733e+00</td>\n",
       "      <td>1.481802e+11</td>\n",
       "      <td>2.963604e+11</td>\n",
       "      <td>4.445405e+11</td>\n",
       "      <td>5.927207e+11</td>\n",
       "      <td>7.409009e+11</td>\n",
       "      <td>8.890811e+11</td>\n",
       "      <td>1.037261e+12</td>\n",
       "      <td>1.185441e+12</td>\n",
       "      <td>1.333622e+12</td>\n",
       "      <td>1.481802e+12</td>\n",
       "      <td>1.629982e+12</td>\n",
       "      <td>1.778162e+12</td>\n",
       "      <td>1.966981e+12</td>\n",
       "      <td>3.965801e+12</td>\n",
       "      <td>3.423568e+12</td>\n",
       "      <td>3.537784e+12</td>\n",
       "      <td>3.763092e+12</td>\n",
       "      <td>4.052008e+12</td>\n",
       "      <td>3.957208e+12</td>\n",
       "      <td>3.940143e+12</td>\n",
       "      <td>4.348297e+12</td>\n",
       "      <td>4.163596e+12</td>\n",
       "      <td>4.525704e+12</td>\n",
       "      <td>2.696468e+00</td>\n",
       "      <td>1.440268e+00</td>\n",
       "      <td>9.067940e-01</td>\n",
       "      <td>5.144261e-01</td>\n",
       "      <td>4.917470e-01</td>\n",
       "      <td>1.509495e+00</td>\n",
       "      <td>1.732169e+00</td>\n",
       "      <td>1.445660e+00</td>\n",
       "      <td>1.448779e-01</td>\n",
       "      <td>3.066667e+00</td>\n",
       "      <td>6.872574e+00</td>\n",
       "      <td>5.946437e+00</td>\n",
       "      <td>1.045473e+11</td>\n",
       "      <td>8.749687e+10</td>\n",
       "      <td>1.934848e+11</td>\n",
       "      <td>1.737309e+11</td>\n",
       "      <td>1.840313e+11</td>\n",
       "      <td>1.999831e+11</td>\n",
       "      <td>1.980271e+11</td>\n",
       "      <td>2.240280e+11</td>\n",
       "      <td>2.684086e+11</td>\n",
       "      <td>2.957362e+11</td>\n",
       "      <td>2.939137e+11</td>\n",
       "      <td>3.227001e+11</td>\n",
       "      <td>0</td>\n",
       "    </tr>\n",
       "    <tr>\n",
       "      <th>Liechtenstein</th>\n",
       "      <td>AAA</td>\n",
       "      <td>9.640537</td>\n",
       "      <td>9.136085</td>\n",
       "      <td>9.052059</td>\n",
       "      <td>8.903803</td>\n",
       "      <td>8.664479</td>\n",
       "      <td>8.383856</td>\n",
       "      <td>8.244777</td>\n",
       "      <td>9.305229</td>\n",
       "      <td>9.015766</td>\n",
       "      <td>8.23076</td>\n",
       "      <td>7.967091</td>\n",
       "      <td>1.516652e+07</td>\n",
       "      <td>3.017828e+07</td>\n",
       "      <td>4.306998e+07</td>\n",
       "      <td>5.742663e+07</td>\n",
       "      <td>7.143651e+07</td>\n",
       "      <td>8.531168e+07</td>\n",
       "      <td>9.953030e+07</td>\n",
       "      <td>1.134059e+08</td>\n",
       "      <td>1.277577e+08</td>\n",
       "      <td>1.421095e+08</td>\n",
       "      <td>1.564863e+08</td>\n",
       "      <td>1.708664e+08</td>\n",
       "      <td>1.840786e+08</td>\n",
       "      <td>2.451328e+09</td>\n",
       "      <td>4.784157e+09</td>\n",
       "      <td>7.121938e+09</td>\n",
       "      <td>9.459720e+09</td>\n",
       "      <td>1.179867e+10</td>\n",
       "      <td>1.417107e+10</td>\n",
       "      <td>1.654347e+10</td>\n",
       "      <td>1.891586e+10</td>\n",
       "      <td>2.129617e+10</td>\n",
       "      <td>2.368620e+10</td>\n",
       "      <td>2.638014e+10</td>\n",
       "      <td>1.421509e+09</td>\n",
       "      <td>2.483890e+09</td>\n",
       "      <td>6.657527e+09</td>\n",
       "      <td>6.268515e+09</td>\n",
       "      <td>6.237302e+09</td>\n",
       "      <td>6.474309e+09</td>\n",
       "      <td>6.692621e+09</td>\n",
       "      <td>6.436467e+09</td>\n",
       "      <td>6.405870e+09</td>\n",
       "      <td>7.710380e+09</td>\n",
       "      <td>7.361504e+09</td>\n",
       "      <td>7.088856e+09</td>\n",
       "      <td>6.816208e+09</td>\n",
       "      <td>6.543559e+09</td>\n",
       "      <td>6.270911e+09</td>\n",
       "      <td>5.998263e+09</td>\n",
       "      <td>5.725615e+09</td>\n",
       "      <td>5.452966e+09</td>\n",
       "      <td>5.180318e+09</td>\n",
       "      <td>4.907670e+09</td>\n",
       "      <td>4.635021e+09</td>\n",
       "      <td>4.362373e+09</td>\n",
       "      <td>4.089725e+09</td>\n",
       "      <td>3.817076e+09</td>\n",
       "      <td>3.544428e+09</td>\n",
       "      <td>3.271780e+09</td>\n",
       "      <td>2.999131e+09</td>\n",
       "      <td>2.726483e+09</td>\n",
       "      <td>2.453835e+09</td>\n",
       "      <td>2.181187e+09</td>\n",
       "      <td>1.908538e+09</td>\n",
       "      <td>1.635890e+09</td>\n",
       "      <td>1.363242e+09</td>\n",
       "      <td>1.090593e+09</td>\n",
       "      <td>8.179449e+08</td>\n",
       "      <td>5.452966e+08</td>\n",
       "      <td>0</td>\n",
       "    </tr>\n",
       "  </tbody>\n",
       "</table>\n",
       "</div>"
      ],
      "text/plain": [
       "              S&P Rating  unemployment_2000  unemployment_2014  \\\n",
       "Country                                                          \n",
       "Australia            AAA           6.288000           6.078000   \n",
       "Canada               AAA           6.829000           7.023000   \n",
       "Denmark              AAA           4.476000           6.925000   \n",
       "Germany              AAA           7.917000           4.981000   \n",
       "Liechtenstein        AAA           9.640537           9.136085   \n",
       "\n",
       "               unemployment_2015  unemployment_2016  unemployment_2017  \\\n",
       "Country                                                                  \n",
       "Australia               6.055000           5.711000           5.592000   \n",
       "Canada                  6.945000           7.038000           6.426000   \n",
       "Denmark                 6.278000           5.989000           5.833000   \n",
       "Germany                 4.624000           4.122000           3.746000   \n",
       "Liechtenstein           9.052059           8.903803           8.664479   \n",
       "\n",
       "               unemployment_2018  unemployment_2019  unemployment_2020  \\\n",
       "Country                                                                  \n",
       "Australia               5.300000           5.159000           6.456000   \n",
       "Canada                  5.837000           5.690000           9.657000   \n",
       "Denmark                 5.131000           5.018000           5.637000   \n",
       "Germany                 3.384000           3.136000           3.856000   \n",
       "Liechtenstein           8.383856           8.244777           9.305229   \n",
       "\n",
       "               unemployment_2021  unemployment_2022  unemployment_2023  \\\n",
       "Country                                                                  \n",
       "Australia               5.116000            3.70100           3.667000   \n",
       "Canada                  7.527000            5.28000           5.366000   \n",
       "Denmark                 5.043000            4.43400           5.142000   \n",
       "Germany                 3.638000            3.13500           3.045000   \n",
       "Liechtenstein           9.015766            8.23076           7.967091   \n",
       "\n",
       "               current_account_balance_1990  current_account_balance_2000  \\\n",
       "Country                                                                     \n",
       "Australia                     -4.987491e+00                 -3.721401e+00   \n",
       "Canada                        -3.398803e+00                  2.483228e+00   \n",
       "Denmark                        9.923083e-01                  1.378800e+00   \n",
       "Germany                        2.612583e+00                 -1.513131e+00   \n",
       "Liechtenstein                  1.516652e+07                  3.017828e+07   \n",
       "\n",
       "               current_account_balance_2014  current_account_balance_2015  \\\n",
       "Country                                                                     \n",
       "Australia                     -3.054734e+00                 -4.229028e+00   \n",
       "Canada                        -2.318921e+00                 -3.513987e+00   \n",
       "Denmark                        8.886178e+00                  7.953938e+00   \n",
       "Germany                        7.192490e+00                  8.100335e+00   \n",
       "Liechtenstein                  4.306998e+07                  5.742663e+07   \n",
       "\n",
       "               current_account_balance_2016  current_account_balance_2017  \\\n",
       "Country                                                                     \n",
       "Australia                     -3.440490e+00                 -2.722911e+00   \n",
       "Canada                        -3.093111e+00                 -2.803427e+00   \n",
       "Denmark                        7.078509e+00                  7.360245e+00   \n",
       "Germany                        8.899854e+00                  8.083586e+00   \n",
       "Liechtenstein                  7.143651e+07                  8.531168e+07   \n",
       "\n",
       "               current_account_balance_2018  current_account_balance_2019  \\\n",
       "Country                                                                     \n",
       "Australia                     -2.233402e+00                  3.501218e-01   \n",
       "Canada                        -2.385072e+00                 -1.951703e+00   \n",
       "Denmark                        6.244573e+00                  7.425270e+00   \n",
       "Germany                        8.444744e+00                  7.880059e+00   \n",
       "Liechtenstein                  9.953030e+07                  1.134059e+08   \n",
       "\n",
       "               current_account_balance_2020  current_account_balance_2021  \\\n",
       "Country                                                                     \n",
       "Australia                      2.330931e+00                  3.137209e+00   \n",
       "Canada                        -2.010494e+00                  1.277747e-02   \n",
       "Denmark                        7.231130e+00                  8.659145e+00   \n",
       "Germany                        6.349851e+00                  6.931968e+00   \n",
       "Liechtenstein                  1.277577e+08                  1.421095e+08   \n",
       "\n",
       "               current_account_balance_2022  current_account_balance_2023  \\\n",
       "Country                                                                     \n",
       "Australia                      8.453239e-01                  2.547373e-01   \n",
       "Canada                        -3.526320e-01                 -7.295740e-01   \n",
       "Denmark                        1.156562e+01                  9.840846e+00   \n",
       "Germany                        4.437915e+00                  5.936536e+00   \n",
       "Liechtenstein                  1.564863e+08                  1.708664e+08   \n",
       "\n",
       "               exchange_rate_usd_1990  exchange_rate_usd_2000  \\\n",
       "Country                                                         \n",
       "Australia                1.281057e+00            1.724827e+00   \n",
       "Canada                   1.166774e+00            1.485394e+00   \n",
       "Denmark                  6.188558e+00            8.083144e+00   \n",
       "Germany                  1.615733e+00            1.481802e+11   \n",
       "Liechtenstein            1.840786e+08            2.451328e+09   \n",
       "\n",
       "               exchange_rate_usd_2014  exchange_rate_usd_2015  \\\n",
       "Country                                                         \n",
       "Australia                1.109363e+00            1.331090e+00   \n",
       "Canada                   1.104747e+00            1.278786e+00   \n",
       "Denmark                  5.612467e+00            6.727907e+00   \n",
       "Germany                  2.963604e+11            4.445405e+11   \n",
       "Liechtenstein            4.784157e+09            7.121938e+09   \n",
       "\n",
       "               exchange_rate_usd_2016  exchange_rate_usd_2017  \\\n",
       "Country                                                         \n",
       "Australia                1.345214e+00            1.304758e+00   \n",
       "Canada                   1.325615e+00            1.297936e+00   \n",
       "Denmark                  6.731718e+00            6.602893e+00   \n",
       "Germany                  5.927207e+11            7.409009e+11   \n",
       "Liechtenstein            9.459720e+09            1.179867e+10   \n",
       "\n",
       "               exchange_rate_usd_2018  exchange_rate_usd_2019  \\\n",
       "Country                                                         \n",
       "Australia                1.338412e+00            1.438507e+00   \n",
       "Canada                   1.295818e+00            1.326793e+00   \n",
       "Denmark                  6.314619e+00            6.669447e+00   \n",
       "Germany                  8.890811e+11            1.037261e+12   \n",
       "Liechtenstein            1.417107e+10            1.654347e+10   \n",
       "\n",
       "               exchange_rate_usd_2020  exchange_rate_usd_2021  \\\n",
       "Country                                                         \n",
       "Australia                1.453085e+00            1.331224e+00   \n",
       "Canada                   1.341153e+00            1.253877e+00   \n",
       "Denmark                  6.542152e+00            6.287113e+00   \n",
       "Germany                  1.185441e+12            1.333622e+12   \n",
       "Liechtenstein            1.891586e+10            2.129617e+10   \n",
       "\n",
       "               exchange_rate_usd_2022  exchange_rate_usd_2023      gdp_1990  \\\n",
       "Country                                                                       \n",
       "Australia                1.441664e+00            1.505191e+00  3.114267e+11   \n",
       "Canada                   1.301555e+00            1.349909e+00  5.960756e+11   \n",
       "Denmark                  7.076152e+00            6.889703e+00  1.382177e+11   \n",
       "Germany                  1.481802e+12            1.629982e+12  1.778162e+12   \n",
       "Liechtenstein            2.368620e+10            2.638014e+10  1.421509e+09   \n",
       "\n",
       "                   gdp_2000      gdp_2014      gdp_2015      gdp_2016  \\\n",
       "Country                                                                 \n",
       "Australia      4.161678e+11  1.468265e+12  1.351296e+12  1.206837e+12   \n",
       "Canada         7.447734e+11  1.805750e+12  1.556509e+12  1.527995e+12   \n",
       "Denmark        1.640438e+11  3.528326e+11  3.017589e+11  3.121818e+11   \n",
       "Germany        1.966981e+12  3.965801e+12  3.423568e+12  3.537784e+12   \n",
       "Liechtenstein  2.483890e+09  6.657527e+09  6.268515e+09  6.237302e+09   \n",
       "\n",
       "                   gdp_2017      gdp_2018      gdp_2019      gdp_2020  \\\n",
       "Country                                                                 \n",
       "Australia      1.325583e+12  1.427809e+12  1.392724e+12  1.328414e+12   \n",
       "Canada         1.649266e+12  1.725329e+12  1.743725e+12  1.655685e+12   \n",
       "Denmark        3.316106e+11  3.552934e+11  3.454015e+11  3.556310e+11   \n",
       "Germany        3.763092e+12  4.052008e+12  3.957208e+12  3.940143e+12   \n",
       "Liechtenstein  6.474309e+09  6.692621e+09  6.436467e+09  6.405870e+09   \n",
       "\n",
       "                   gdp_2021      gdp_2022      gdp_2023  inflation_1990  \\\n",
       "Country                                                                   \n",
       "Australia      1.556736e+12  1.690858e+12  1.728057e+12    7.333022e+00   \n",
       "Canada         2.007472e+12  2.161483e+12  2.142471e+12    4.780477e+00   \n",
       "Denmark        4.083782e+11  4.019456e+11  4.070919e+11    2.641603e+00   \n",
       "Germany        4.348297e+12  4.163596e+12  4.525704e+12    2.696468e+00   \n",
       "Liechtenstein  7.710380e+09  7.361504e+09  7.088856e+09    6.816208e+09   \n",
       "\n",
       "               inflation_2000  inflation_2014  inflation_2015  inflation_2016  \\\n",
       "Country                                                                         \n",
       "Australia        4.457435e+00    2.487923e+00    1.508367e+00    1.276991e+00   \n",
       "Canada           2.719440e+00    1.906636e+00    1.125241e+00    1.428760e+00   \n",
       "Denmark          2.903282e+00    5.640205e-01    4.520342e-01    2.500000e-01   \n",
       "Germany          1.440268e+00    9.067940e-01    5.144261e-01    4.917470e-01   \n",
       "Liechtenstein    6.543559e+09    6.270911e+09    5.998263e+09    5.725615e+09   \n",
       "\n",
       "               inflation_2017  inflation_2018  inflation_2019  inflation_2020  \\\n",
       "Country                                                                         \n",
       "Australia        1.948647e+00    1.911401e+00    1.610768e+00    8.469055e-01   \n",
       "Canada           1.596884e+00    2.268226e+00    1.949269e+00    7.169996e-01   \n",
       "Denmark          1.147132e+00    8.136095e-01    7.581316e-01    4.207120e-01   \n",
       "Germany          1.509495e+00    1.732169e+00    1.445660e+00    1.448779e-01   \n",
       "Liechtenstein    5.452966e+09    5.180318e+09    4.907670e+09    4.635021e+09   \n",
       "\n",
       "               inflation_2021  inflation_2022  inflation_2023  \\\n",
       "Country                                                         \n",
       "Australia        2.863910e+00    6.594097e+00    5.597015e+00   \n",
       "Canada           3.395193e+00    6.802801e+00    3.879002e+00   \n",
       "Denmark          1.853045e+00    7.696567e+00    3.305178e+00   \n",
       "Germany          3.066667e+00    6.872574e+00    5.946437e+00   \n",
       "Liechtenstein    4.362373e+09    4.089725e+09    3.817076e+09   \n",
       "\n",
       "               total_reserves_1990  total_reserves_2000  total_reserves_2014  \\\n",
       "Country                                                                        \n",
       "Australia             1.931874e+10         1.882155e+10         5.391033e+10   \n",
       "Canada                2.352952e+10         3.242727e+10         7.469996e+10   \n",
       "Denmark               1.122584e+10         1.569595e+10         7.539189e+10   \n",
       "Germany               1.045473e+11         8.749687e+10         1.934848e+11   \n",
       "Liechtenstein         3.544428e+09         3.271780e+09         2.999131e+09   \n",
       "\n",
       "               total_reserves_2015  total_reserves_2016  total_reserves_2017  \\\n",
       "Country                                                                        \n",
       "Australia             4.540604e+10         5.248079e+10         6.565372e+10   \n",
       "Canada                7.975352e+10         8.271811e+10         8.667771e+10   \n",
       "Denmark               6.518509e+10         6.421581e+10         7.524445e+10   \n",
       "Germany               1.737309e+11         1.840313e+11         1.999831e+11   \n",
       "Liechtenstein         2.726483e+09         2.453835e+09         2.181187e+09   \n",
       "\n",
       "               total_reserves_2018  total_reserves_2019  total_reserves_2020  \\\n",
       "Country                                                                        \n",
       "Australia             5.390953e+10         5.799469e+10         4.254463e+10   \n",
       "Canada                8.392560e+10         8.529711e+10         9.042814e+10   \n",
       "Denmark               7.094208e+10         6.683555e+10         7.282335e+10   \n",
       "Germany               1.980271e+11         2.240280e+11         2.684086e+11   \n",
       "Liechtenstein         1.908538e+09         1.635890e+09         1.363242e+09   \n",
       "\n",
       "               total_reserves_2021  total_reserves_2022  total_reserves_2023  \\\n",
       "Country                                                                        \n",
       "Australia             5.787750e+10         5.670190e+10         6.170335e+10   \n",
       "Canada                1.066151e+11         1.069524e+11         1.175509e+11   \n",
       "Denmark               8.223584e+10         9.607255e+10         1.093708e+11   \n",
       "Germany               2.957362e+11         2.939137e+11         3.227001e+11   \n",
       "Liechtenstein         1.090593e+09         8.179449e+08         5.452966e+08   \n",
       "\n",
       "               target  \n",
       "Country                \n",
       "Australia           0  \n",
       "Canada              0  \n",
       "Denmark             0  \n",
       "Germany             0  \n",
       "Liechtenstein       0  "
      ]
     },
     "execution_count": 92,
     "metadata": {},
     "output_type": "execute_result"
    }
   ],
   "source": [
    "df.head()"
   ]
  },
  {
   "cell_type": "code",
   "execution_count": 93,
   "metadata": {},
   "outputs": [
    {
     "data": {
      "text/plain": [
       "Index(['S&P Rating', 'unemployment_2000', 'unemployment_2014',\n",
       "       'unemployment_2015', 'unemployment_2016', 'unemployment_2017',\n",
       "       'unemployment_2018', 'unemployment_2019', 'unemployment_2020',\n",
       "       'unemployment_2021', 'unemployment_2022', 'unemployment_2023',\n",
       "       'current_account_balance_1990', 'current_account_balance_2000',\n",
       "       'current_account_balance_2014', 'current_account_balance_2015',\n",
       "       'current_account_balance_2016', 'current_account_balance_2017',\n",
       "       'current_account_balance_2018', 'current_account_balance_2019',\n",
       "       'current_account_balance_2020', 'current_account_balance_2021',\n",
       "       'current_account_balance_2022', 'current_account_balance_2023',\n",
       "       'exchange_rate_usd_1990', 'exchange_rate_usd_2000',\n",
       "       'exchange_rate_usd_2014', 'exchange_rate_usd_2015',\n",
       "       'exchange_rate_usd_2016', 'exchange_rate_usd_2017',\n",
       "       'exchange_rate_usd_2018', 'exchange_rate_usd_2019',\n",
       "       'exchange_rate_usd_2020', 'exchange_rate_usd_2021',\n",
       "       'exchange_rate_usd_2022', 'exchange_rate_usd_2023', 'gdp_1990',\n",
       "       'gdp_2000', 'gdp_2014', 'gdp_2015', 'gdp_2016', 'gdp_2017', 'gdp_2018',\n",
       "       'gdp_2019', 'gdp_2020', 'gdp_2021', 'gdp_2022', 'gdp_2023',\n",
       "       'inflation_1990', 'inflation_2000', 'inflation_2014', 'inflation_2015',\n",
       "       'inflation_2016', 'inflation_2017', 'inflation_2018', 'inflation_2019',\n",
       "       'inflation_2020', 'inflation_2021', 'inflation_2022', 'inflation_2023',\n",
       "       'total_reserves_1990', 'total_reserves_2000', 'total_reserves_2014',\n",
       "       'total_reserves_2015', 'total_reserves_2016', 'total_reserves_2017',\n",
       "       'total_reserves_2018', 'total_reserves_2019', 'total_reserves_2020',\n",
       "       'total_reserves_2021', 'total_reserves_2022', 'total_reserves_2023',\n",
       "       'target'],\n",
       "      dtype='object')"
      ]
     },
     "execution_count": 93,
     "metadata": {},
     "output_type": "execute_result"
    }
   ],
   "source": [
    "df.columns"
   ]
  },
  {
   "cell_type": "markdown",
   "metadata": {},
   "source": [
    "#### Current Account Balance to GDP Ratio"
   ]
  },
  {
   "cell_type": "code",
   "execution_count": 94,
   "metadata": {},
   "outputs": [],
   "source": [
    "# years for which we have data\n",
    "years = [1990, 2000, 2014, 2015, 2016, 2017, 2018, 2019, 2020, 2021, 2022, 2023]\n",
    "\n",
    "for year in years:\n",
    "    cab_col = f'current_account_balance_{year}'\n",
    "    gdp_col = f'gdp_{year}'\n",
    "    ratio_col = f'cab_to_gdp_{year}'\n",
    "    \n",
    "    # Ensure the columns exist before creating the ratio\n",
    "    if cab_col in df.columns and gdp_col in df.columns:\n",
    "        df[ratio_col] = df[cab_col] / df[gdp_col]"
   ]
  },
  {
   "cell_type": "markdown",
   "metadata": {},
   "source": [
    "#### Total reserves to GDP Ratio"
   ]
  },
  {
   "cell_type": "code",
   "execution_count": 95,
   "metadata": {},
   "outputs": [],
   "source": [
    "for year in years:\n",
    "    reserves_col = f'total_reserves_{year}'\n",
    "    gdp_col = f'gdp_{year}'\n",
    "    ratio_col = f'reserves_to_gdp_{year}'\n",
    "    \n",
    "    if reserves_col in df.columns and gdp_col in df.columns:\n",
    "        df[ratio_col] = df[reserves_col] / df[gdp_col]"
   ]
  },
  {
   "cell_type": "markdown",
   "metadata": {},
   "source": [
    "#### GDP Growth Rate "
   ]
  },
  {
   "cell_type": "code",
   "execution_count": 96,
   "metadata": {},
   "outputs": [],
   "source": [
    "#only the years for which we can calculate a contiguous change\n",
    "growth_years = [2014, 2015, 2016, 2017, 2018, 2019, 2020, 2021, 2022, 2023]\n",
    "\n",
    "for i in range(1, len(growth_years)):\n",
    "    previous = growth_years[i - 1]\n",
    "    current = growth_years[i]\n",
    "    gdp_prev = f'gdp_{previous}'\n",
    "    gdp_curr = f'gdp_{current}'\n",
    "    growth_col = f'gdp_growth_{previous}_{current}'\n",
    "    \n",
    "    if gdp_prev in df.columns and gdp_curr in df.columns:\n",
    "        df[growth_col] = (df[gdp_curr] - df[gdp_prev]) / df[gdp_prev]"
   ]
  },
  {
   "cell_type": "markdown",
   "metadata": {},
   "source": [
    "### Inflation to Unemployment Ratio"
   ]
  },
  {
   "cell_type": "code",
   "execution_count": 97,
   "metadata": {},
   "outputs": [],
   "source": [
    "for year in years:\n",
    "    inflation_col = f'inflation_{year}'\n",
    "    unemployment_col = f'unemployment_{year}'\n",
    "    ratio_col = f'inflation_to_unemployment_{year}'\n",
    "    \n",
    "    if inflation_col in df.columns and unemployment_col in df.columns:\n",
    "        df[ratio_col] = df[inflation_col] / df[unemployment_col]"
   ]
  },
  {
   "cell_type": "code",
   "execution_count": 98,
   "metadata": {},
   "outputs": [
    {
     "data": {
      "text/html": [
       "<div>\n",
       "<style scoped>\n",
       "    .dataframe tbody tr th:only-of-type {\n",
       "        vertical-align: middle;\n",
       "    }\n",
       "\n",
       "    .dataframe tbody tr th {\n",
       "        vertical-align: top;\n",
       "    }\n",
       "\n",
       "    .dataframe thead th {\n",
       "        text-align: right;\n",
       "    }\n",
       "</style>\n",
       "<table border=\"1\" class=\"dataframe\">\n",
       "  <thead>\n",
       "    <tr style=\"text-align: right;\">\n",
       "      <th></th>\n",
       "      <th>S&amp;P Rating</th>\n",
       "      <th>unemployment_2000</th>\n",
       "      <th>unemployment_2014</th>\n",
       "      <th>unemployment_2015</th>\n",
       "      <th>unemployment_2016</th>\n",
       "      <th>unemployment_2017</th>\n",
       "      <th>unemployment_2018</th>\n",
       "      <th>unemployment_2019</th>\n",
       "      <th>unemployment_2020</th>\n",
       "      <th>unemployment_2021</th>\n",
       "      <th>unemployment_2022</th>\n",
       "      <th>unemployment_2023</th>\n",
       "      <th>current_account_balance_1990</th>\n",
       "      <th>current_account_balance_2000</th>\n",
       "      <th>current_account_balance_2014</th>\n",
       "      <th>current_account_balance_2015</th>\n",
       "      <th>current_account_balance_2016</th>\n",
       "      <th>current_account_balance_2017</th>\n",
       "      <th>current_account_balance_2018</th>\n",
       "      <th>current_account_balance_2019</th>\n",
       "      <th>current_account_balance_2020</th>\n",
       "      <th>current_account_balance_2021</th>\n",
       "      <th>current_account_balance_2022</th>\n",
       "      <th>current_account_balance_2023</th>\n",
       "      <th>exchange_rate_usd_1990</th>\n",
       "      <th>exchange_rate_usd_2000</th>\n",
       "      <th>exchange_rate_usd_2014</th>\n",
       "      <th>exchange_rate_usd_2015</th>\n",
       "      <th>exchange_rate_usd_2016</th>\n",
       "      <th>exchange_rate_usd_2017</th>\n",
       "      <th>exchange_rate_usd_2018</th>\n",
       "      <th>exchange_rate_usd_2019</th>\n",
       "      <th>exchange_rate_usd_2020</th>\n",
       "      <th>exchange_rate_usd_2021</th>\n",
       "      <th>exchange_rate_usd_2022</th>\n",
       "      <th>exchange_rate_usd_2023</th>\n",
       "      <th>gdp_1990</th>\n",
       "      <th>gdp_2000</th>\n",
       "      <th>gdp_2014</th>\n",
       "      <th>gdp_2015</th>\n",
       "      <th>gdp_2016</th>\n",
       "      <th>gdp_2017</th>\n",
       "      <th>gdp_2018</th>\n",
       "      <th>gdp_2019</th>\n",
       "      <th>gdp_2020</th>\n",
       "      <th>gdp_2021</th>\n",
       "      <th>gdp_2022</th>\n",
       "      <th>gdp_2023</th>\n",
       "      <th>inflation_1990</th>\n",
       "      <th>inflation_2000</th>\n",
       "      <th>inflation_2014</th>\n",
       "      <th>inflation_2015</th>\n",
       "      <th>inflation_2016</th>\n",
       "      <th>inflation_2017</th>\n",
       "      <th>inflation_2018</th>\n",
       "      <th>inflation_2019</th>\n",
       "      <th>inflation_2020</th>\n",
       "      <th>inflation_2021</th>\n",
       "      <th>inflation_2022</th>\n",
       "      <th>inflation_2023</th>\n",
       "      <th>total_reserves_1990</th>\n",
       "      <th>total_reserves_2000</th>\n",
       "      <th>total_reserves_2014</th>\n",
       "      <th>total_reserves_2015</th>\n",
       "      <th>total_reserves_2016</th>\n",
       "      <th>total_reserves_2017</th>\n",
       "      <th>total_reserves_2018</th>\n",
       "      <th>total_reserves_2019</th>\n",
       "      <th>total_reserves_2020</th>\n",
       "      <th>total_reserves_2021</th>\n",
       "      <th>total_reserves_2022</th>\n",
       "      <th>total_reserves_2023</th>\n",
       "      <th>target</th>\n",
       "      <th>cab_to_gdp_1990</th>\n",
       "      <th>cab_to_gdp_2000</th>\n",
       "      <th>cab_to_gdp_2014</th>\n",
       "      <th>cab_to_gdp_2015</th>\n",
       "      <th>cab_to_gdp_2016</th>\n",
       "      <th>cab_to_gdp_2017</th>\n",
       "      <th>cab_to_gdp_2018</th>\n",
       "      <th>cab_to_gdp_2019</th>\n",
       "      <th>cab_to_gdp_2020</th>\n",
       "      <th>cab_to_gdp_2021</th>\n",
       "      <th>cab_to_gdp_2022</th>\n",
       "      <th>cab_to_gdp_2023</th>\n",
       "      <th>reserves_to_gdp_1990</th>\n",
       "      <th>reserves_to_gdp_2000</th>\n",
       "      <th>reserves_to_gdp_2014</th>\n",
       "      <th>reserves_to_gdp_2015</th>\n",
       "      <th>reserves_to_gdp_2016</th>\n",
       "      <th>reserves_to_gdp_2017</th>\n",
       "      <th>reserves_to_gdp_2018</th>\n",
       "      <th>reserves_to_gdp_2019</th>\n",
       "      <th>reserves_to_gdp_2020</th>\n",
       "      <th>reserves_to_gdp_2021</th>\n",
       "      <th>reserves_to_gdp_2022</th>\n",
       "      <th>reserves_to_gdp_2023</th>\n",
       "      <th>gdp_growth_2014_2015</th>\n",
       "      <th>gdp_growth_2015_2016</th>\n",
       "      <th>gdp_growth_2016_2017</th>\n",
       "      <th>gdp_growth_2017_2018</th>\n",
       "      <th>gdp_growth_2018_2019</th>\n",
       "      <th>gdp_growth_2019_2020</th>\n",
       "      <th>gdp_growth_2020_2021</th>\n",
       "      <th>gdp_growth_2021_2022</th>\n",
       "      <th>gdp_growth_2022_2023</th>\n",
       "      <th>inflation_to_unemployment_2000</th>\n",
       "      <th>inflation_to_unemployment_2014</th>\n",
       "      <th>inflation_to_unemployment_2015</th>\n",
       "      <th>inflation_to_unemployment_2016</th>\n",
       "      <th>inflation_to_unemployment_2017</th>\n",
       "      <th>inflation_to_unemployment_2018</th>\n",
       "      <th>inflation_to_unemployment_2019</th>\n",
       "      <th>inflation_to_unemployment_2020</th>\n",
       "      <th>inflation_to_unemployment_2021</th>\n",
       "      <th>inflation_to_unemployment_2022</th>\n",
       "      <th>inflation_to_unemployment_2023</th>\n",
       "    </tr>\n",
       "    <tr>\n",
       "      <th>Country</th>\n",
       "      <th></th>\n",
       "      <th></th>\n",
       "      <th></th>\n",
       "      <th></th>\n",
       "      <th></th>\n",
       "      <th></th>\n",
       "      <th></th>\n",
       "      <th></th>\n",
       "      <th></th>\n",
       "      <th></th>\n",
       "      <th></th>\n",
       "      <th></th>\n",
       "      <th></th>\n",
       "      <th></th>\n",
       "      <th></th>\n",
       "      <th></th>\n",
       "      <th></th>\n",
       "      <th></th>\n",
       "      <th></th>\n",
       "      <th></th>\n",
       "      <th></th>\n",
       "      <th></th>\n",
       "      <th></th>\n",
       "      <th></th>\n",
       "      <th></th>\n",
       "      <th></th>\n",
       "      <th></th>\n",
       "      <th></th>\n",
       "      <th></th>\n",
       "      <th></th>\n",
       "      <th></th>\n",
       "      <th></th>\n",
       "      <th></th>\n",
       "      <th></th>\n",
       "      <th></th>\n",
       "      <th></th>\n",
       "      <th></th>\n",
       "      <th></th>\n",
       "      <th></th>\n",
       "      <th></th>\n",
       "      <th></th>\n",
       "      <th></th>\n",
       "      <th></th>\n",
       "      <th></th>\n",
       "      <th></th>\n",
       "      <th></th>\n",
       "      <th></th>\n",
       "      <th></th>\n",
       "      <th></th>\n",
       "      <th></th>\n",
       "      <th></th>\n",
       "      <th></th>\n",
       "      <th></th>\n",
       "      <th></th>\n",
       "      <th></th>\n",
       "      <th></th>\n",
       "      <th></th>\n",
       "      <th></th>\n",
       "      <th></th>\n",
       "      <th></th>\n",
       "      <th></th>\n",
       "      <th></th>\n",
       "      <th></th>\n",
       "      <th></th>\n",
       "      <th></th>\n",
       "      <th></th>\n",
       "      <th></th>\n",
       "      <th></th>\n",
       "      <th></th>\n",
       "      <th></th>\n",
       "      <th></th>\n",
       "      <th></th>\n",
       "      <th></th>\n",
       "      <th></th>\n",
       "      <th></th>\n",
       "      <th></th>\n",
       "      <th></th>\n",
       "      <th></th>\n",
       "      <th></th>\n",
       "      <th></th>\n",
       "      <th></th>\n",
       "      <th></th>\n",
       "      <th></th>\n",
       "      <th></th>\n",
       "      <th></th>\n",
       "      <th></th>\n",
       "      <th></th>\n",
       "      <th></th>\n",
       "      <th></th>\n",
       "      <th></th>\n",
       "      <th></th>\n",
       "      <th></th>\n",
       "      <th></th>\n",
       "      <th></th>\n",
       "      <th></th>\n",
       "      <th></th>\n",
       "      <th></th>\n",
       "      <th></th>\n",
       "      <th></th>\n",
       "      <th></th>\n",
       "      <th></th>\n",
       "      <th></th>\n",
       "      <th></th>\n",
       "      <th></th>\n",
       "      <th></th>\n",
       "      <th></th>\n",
       "      <th></th>\n",
       "      <th></th>\n",
       "      <th></th>\n",
       "      <th></th>\n",
       "      <th></th>\n",
       "      <th></th>\n",
       "      <th></th>\n",
       "      <th></th>\n",
       "      <th></th>\n",
       "      <th></th>\n",
       "      <th></th>\n",
       "    </tr>\n",
       "  </thead>\n",
       "  <tbody>\n",
       "    <tr>\n",
       "      <th>Australia</th>\n",
       "      <td>AAA</td>\n",
       "      <td>6.288000</td>\n",
       "      <td>6.078000</td>\n",
       "      <td>6.055000</td>\n",
       "      <td>5.711000</td>\n",
       "      <td>5.592000</td>\n",
       "      <td>5.300000</td>\n",
       "      <td>5.159000</td>\n",
       "      <td>6.456000</td>\n",
       "      <td>5.116000</td>\n",
       "      <td>3.701000</td>\n",
       "      <td>3.667000</td>\n",
       "      <td>-4.987491e+00</td>\n",
       "      <td>-3.721401e+00</td>\n",
       "      <td>-3.054734e+00</td>\n",
       "      <td>-4.229028e+00</td>\n",
       "      <td>-3.440490e+00</td>\n",
       "      <td>-2.722911e+00</td>\n",
       "      <td>-2.233402e+00</td>\n",
       "      <td>3.501218e-01</td>\n",
       "      <td>2.330931e+00</td>\n",
       "      <td>3.137209e+00</td>\n",
       "      <td>8.453239e-01</td>\n",
       "      <td>2.547373e-01</td>\n",
       "      <td>1.281057e+00</td>\n",
       "      <td>1.724827e+00</td>\n",
       "      <td>1.109363e+00</td>\n",
       "      <td>1.331090e+00</td>\n",
       "      <td>1.345214e+00</td>\n",
       "      <td>1.304758e+00</td>\n",
       "      <td>1.338412e+00</td>\n",
       "      <td>1.438507e+00</td>\n",
       "      <td>1.453085e+00</td>\n",
       "      <td>1.331224e+00</td>\n",
       "      <td>1.441664e+00</td>\n",
       "      <td>1.505191e+00</td>\n",
       "      <td>3.114267e+11</td>\n",
       "      <td>4.161678e+11</td>\n",
       "      <td>1.468265e+12</td>\n",
       "      <td>1.351296e+12</td>\n",
       "      <td>1.206837e+12</td>\n",
       "      <td>1.325583e+12</td>\n",
       "      <td>1.427809e+12</td>\n",
       "      <td>1.392724e+12</td>\n",
       "      <td>1.328414e+12</td>\n",
       "      <td>1.556736e+12</td>\n",
       "      <td>1.690858e+12</td>\n",
       "      <td>1.728057e+12</td>\n",
       "      <td>7.333022e+00</td>\n",
       "      <td>4.457435e+00</td>\n",
       "      <td>2.487923e+00</td>\n",
       "      <td>1.508367e+00</td>\n",
       "      <td>1.276991e+00</td>\n",
       "      <td>1.948647e+00</td>\n",
       "      <td>1.911401e+00</td>\n",
       "      <td>1.610768e+00</td>\n",
       "      <td>8.469055e-01</td>\n",
       "      <td>2.863910e+00</td>\n",
       "      <td>6.594097e+00</td>\n",
       "      <td>5.597015e+00</td>\n",
       "      <td>1.931874e+10</td>\n",
       "      <td>1.882155e+10</td>\n",
       "      <td>5.391033e+10</td>\n",
       "      <td>4.540604e+10</td>\n",
       "      <td>5.248079e+10</td>\n",
       "      <td>6.565372e+10</td>\n",
       "      <td>5.390953e+10</td>\n",
       "      <td>5.799469e+10</td>\n",
       "      <td>4.254463e+10</td>\n",
       "      <td>5.787750e+10</td>\n",
       "      <td>5.670190e+10</td>\n",
       "      <td>6.170335e+10</td>\n",
       "      <td>0</td>\n",
       "      <td>-1.601498e-11</td>\n",
       "      <td>-8.942069e-12</td>\n",
       "      <td>-2.080506e-12</td>\n",
       "      <td>-3.129608e-12</td>\n",
       "      <td>-2.850832e-12</td>\n",
       "      <td>-2.054124e-12</td>\n",
       "      <td>-1.564216e-12</td>\n",
       "      <td>2.513936e-13</td>\n",
       "      <td>1.754672e-12</td>\n",
       "      <td>2.015248e-12</td>\n",
       "      <td>4.999378e-13</td>\n",
       "      <td>1.474125e-13</td>\n",
       "      <td>0.062033</td>\n",
       "      <td>0.045226</td>\n",
       "      <td>0.036717</td>\n",
       "      <td>0.033602</td>\n",
       "      <td>0.043486</td>\n",
       "      <td>0.049528</td>\n",
       "      <td>0.037757</td>\n",
       "      <td>0.041641</td>\n",
       "      <td>0.032027</td>\n",
       "      <td>0.037179</td>\n",
       "      <td>0.033534</td>\n",
       "      <td>0.035707</td>\n",
       "      <td>-0.079665</td>\n",
       "      <td>-0.106904</td>\n",
       "      <td>0.098394</td>\n",
       "      <td>0.077118</td>\n",
       "      <td>-0.024573</td>\n",
       "      <td>-0.046176</td>\n",
       "      <td>0.171875</td>\n",
       "      <td>0.086156</td>\n",
       "      <td>0.022000</td>\n",
       "      <td>7.088796e-01</td>\n",
       "      <td>4.093325e-01</td>\n",
       "      <td>2.491109e-01</td>\n",
       "      <td>2.236020e-01</td>\n",
       "      <td>3.484706e-01</td>\n",
       "      <td>3.606417e-01</td>\n",
       "      <td>3.122248e-01</td>\n",
       "      <td>1.311812e-01</td>\n",
       "      <td>5.597948e-01</td>\n",
       "      <td>1.781707e+00</td>\n",
       "      <td>1.526320e+00</td>\n",
       "    </tr>\n",
       "    <tr>\n",
       "      <th>Canada</th>\n",
       "      <td>AAA</td>\n",
       "      <td>6.829000</td>\n",
       "      <td>7.023000</td>\n",
       "      <td>6.945000</td>\n",
       "      <td>7.038000</td>\n",
       "      <td>6.426000</td>\n",
       "      <td>5.837000</td>\n",
       "      <td>5.690000</td>\n",
       "      <td>9.657000</td>\n",
       "      <td>7.527000</td>\n",
       "      <td>5.280000</td>\n",
       "      <td>5.366000</td>\n",
       "      <td>-3.398803e+00</td>\n",
       "      <td>2.483228e+00</td>\n",
       "      <td>-2.318921e+00</td>\n",
       "      <td>-3.513987e+00</td>\n",
       "      <td>-3.093111e+00</td>\n",
       "      <td>-2.803427e+00</td>\n",
       "      <td>-2.385072e+00</td>\n",
       "      <td>-1.951703e+00</td>\n",
       "      <td>-2.010494e+00</td>\n",
       "      <td>1.277747e-02</td>\n",
       "      <td>-3.526320e-01</td>\n",
       "      <td>-7.295740e-01</td>\n",
       "      <td>1.166774e+00</td>\n",
       "      <td>1.485394e+00</td>\n",
       "      <td>1.104747e+00</td>\n",
       "      <td>1.278786e+00</td>\n",
       "      <td>1.325615e+00</td>\n",
       "      <td>1.297936e+00</td>\n",
       "      <td>1.295818e+00</td>\n",
       "      <td>1.326793e+00</td>\n",
       "      <td>1.341153e+00</td>\n",
       "      <td>1.253877e+00</td>\n",
       "      <td>1.301555e+00</td>\n",
       "      <td>1.349909e+00</td>\n",
       "      <td>5.960756e+11</td>\n",
       "      <td>7.447734e+11</td>\n",
       "      <td>1.805750e+12</td>\n",
       "      <td>1.556509e+12</td>\n",
       "      <td>1.527995e+12</td>\n",
       "      <td>1.649266e+12</td>\n",
       "      <td>1.725329e+12</td>\n",
       "      <td>1.743725e+12</td>\n",
       "      <td>1.655685e+12</td>\n",
       "      <td>2.007472e+12</td>\n",
       "      <td>2.161483e+12</td>\n",
       "      <td>2.142471e+12</td>\n",
       "      <td>4.780477e+00</td>\n",
       "      <td>2.719440e+00</td>\n",
       "      <td>1.906636e+00</td>\n",
       "      <td>1.125241e+00</td>\n",
       "      <td>1.428760e+00</td>\n",
       "      <td>1.596884e+00</td>\n",
       "      <td>2.268226e+00</td>\n",
       "      <td>1.949269e+00</td>\n",
       "      <td>7.169996e-01</td>\n",
       "      <td>3.395193e+00</td>\n",
       "      <td>6.802801e+00</td>\n",
       "      <td>3.879002e+00</td>\n",
       "      <td>2.352952e+10</td>\n",
       "      <td>3.242727e+10</td>\n",
       "      <td>7.469996e+10</td>\n",
       "      <td>7.975352e+10</td>\n",
       "      <td>8.271811e+10</td>\n",
       "      <td>8.667771e+10</td>\n",
       "      <td>8.392560e+10</td>\n",
       "      <td>8.529711e+10</td>\n",
       "      <td>9.042814e+10</td>\n",
       "      <td>1.066151e+11</td>\n",
       "      <td>1.069524e+11</td>\n",
       "      <td>1.175509e+11</td>\n",
       "      <td>0</td>\n",
       "      <td>-5.701967e-12</td>\n",
       "      <td>3.334206e-12</td>\n",
       "      <td>-1.284187e-12</td>\n",
       "      <td>-2.257608e-12</td>\n",
       "      <td>-2.024295e-12</td>\n",
       "      <td>-1.699803e-12</td>\n",
       "      <td>-1.382386e-12</td>\n",
       "      <td>-1.119272e-12</td>\n",
       "      <td>-1.214297e-12</td>\n",
       "      <td>6.364954e-15</td>\n",
       "      <td>-1.631435e-13</td>\n",
       "      <td>-3.405293e-13</td>\n",
       "      <td>0.039474</td>\n",
       "      <td>0.043540</td>\n",
       "      <td>0.041368</td>\n",
       "      <td>0.051239</td>\n",
       "      <td>0.054135</td>\n",
       "      <td>0.052555</td>\n",
       "      <td>0.048643</td>\n",
       "      <td>0.048917</td>\n",
       "      <td>0.054617</td>\n",
       "      <td>0.053109</td>\n",
       "      <td>0.049481</td>\n",
       "      <td>0.054867</td>\n",
       "      <td>-0.138026</td>\n",
       "      <td>-0.018319</td>\n",
       "      <td>0.079366</td>\n",
       "      <td>0.046120</td>\n",
       "      <td>0.010662</td>\n",
       "      <td>-0.050490</td>\n",
       "      <td>0.212472</td>\n",
       "      <td>0.076719</td>\n",
       "      <td>-0.008796</td>\n",
       "      <td>3.982194e-01</td>\n",
       "      <td>2.714845e-01</td>\n",
       "      <td>1.620218e-01</td>\n",
       "      <td>2.030065e-01</td>\n",
       "      <td>2.485036e-01</td>\n",
       "      <td>3.885944e-01</td>\n",
       "      <td>3.425780e-01</td>\n",
       "      <td>7.424662e-02</td>\n",
       "      <td>4.510686e-01</td>\n",
       "      <td>1.288409e+00</td>\n",
       "      <td>7.228851e-01</td>\n",
       "    </tr>\n",
       "    <tr>\n",
       "      <th>Denmark</th>\n",
       "      <td>AAA</td>\n",
       "      <td>4.476000</td>\n",
       "      <td>6.925000</td>\n",
       "      <td>6.278000</td>\n",
       "      <td>5.989000</td>\n",
       "      <td>5.833000</td>\n",
       "      <td>5.131000</td>\n",
       "      <td>5.018000</td>\n",
       "      <td>5.637000</td>\n",
       "      <td>5.043000</td>\n",
       "      <td>4.434000</td>\n",
       "      <td>5.142000</td>\n",
       "      <td>9.923083e-01</td>\n",
       "      <td>1.378800e+00</td>\n",
       "      <td>8.886178e+00</td>\n",
       "      <td>7.953938e+00</td>\n",
       "      <td>7.078509e+00</td>\n",
       "      <td>7.360245e+00</td>\n",
       "      <td>6.244573e+00</td>\n",
       "      <td>7.425270e+00</td>\n",
       "      <td>7.231130e+00</td>\n",
       "      <td>8.659145e+00</td>\n",
       "      <td>1.156562e+01</td>\n",
       "      <td>9.840846e+00</td>\n",
       "      <td>6.188558e+00</td>\n",
       "      <td>8.083144e+00</td>\n",
       "      <td>5.612467e+00</td>\n",
       "      <td>6.727907e+00</td>\n",
       "      <td>6.731718e+00</td>\n",
       "      <td>6.602893e+00</td>\n",
       "      <td>6.314619e+00</td>\n",
       "      <td>6.669447e+00</td>\n",
       "      <td>6.542152e+00</td>\n",
       "      <td>6.287113e+00</td>\n",
       "      <td>7.076152e+00</td>\n",
       "      <td>6.889703e+00</td>\n",
       "      <td>1.382177e+11</td>\n",
       "      <td>1.640438e+11</td>\n",
       "      <td>3.528326e+11</td>\n",
       "      <td>3.017589e+11</td>\n",
       "      <td>3.121818e+11</td>\n",
       "      <td>3.316106e+11</td>\n",
       "      <td>3.552934e+11</td>\n",
       "      <td>3.454015e+11</td>\n",
       "      <td>3.556310e+11</td>\n",
       "      <td>4.083782e+11</td>\n",
       "      <td>4.019456e+11</td>\n",
       "      <td>4.070919e+11</td>\n",
       "      <td>2.641603e+00</td>\n",
       "      <td>2.903282e+00</td>\n",
       "      <td>5.640205e-01</td>\n",
       "      <td>4.520342e-01</td>\n",
       "      <td>2.500000e-01</td>\n",
       "      <td>1.147132e+00</td>\n",
       "      <td>8.136095e-01</td>\n",
       "      <td>7.581316e-01</td>\n",
       "      <td>4.207120e-01</td>\n",
       "      <td>1.853045e+00</td>\n",
       "      <td>7.696567e+00</td>\n",
       "      <td>3.305178e+00</td>\n",
       "      <td>1.122584e+10</td>\n",
       "      <td>1.569595e+10</td>\n",
       "      <td>7.539189e+10</td>\n",
       "      <td>6.518509e+10</td>\n",
       "      <td>6.421581e+10</td>\n",
       "      <td>7.524445e+10</td>\n",
       "      <td>7.094208e+10</td>\n",
       "      <td>6.683555e+10</td>\n",
       "      <td>7.282335e+10</td>\n",
       "      <td>8.223584e+10</td>\n",
       "      <td>9.607255e+10</td>\n",
       "      <td>1.093708e+11</td>\n",
       "      <td>0</td>\n",
       "      <td>7.179312e-12</td>\n",
       "      <td>8.405071e-12</td>\n",
       "      <td>2.518525e-11</td>\n",
       "      <td>2.635858e-11</td>\n",
       "      <td>2.267431e-11</td>\n",
       "      <td>2.219545e-11</td>\n",
       "      <td>1.757582e-11</td>\n",
       "      <td>2.149750e-11</td>\n",
       "      <td>2.033324e-11</td>\n",
       "      <td>2.120374e-11</td>\n",
       "      <td>2.877410e-11</td>\n",
       "      <td>2.417352e-11</td>\n",
       "      <td>0.081219</td>\n",
       "      <td>0.095681</td>\n",
       "      <td>0.213676</td>\n",
       "      <td>0.216017</td>\n",
       "      <td>0.205700</td>\n",
       "      <td>0.226906</td>\n",
       "      <td>0.199672</td>\n",
       "      <td>0.193501</td>\n",
       "      <td>0.204772</td>\n",
       "      <td>0.201372</td>\n",
       "      <td>0.239019</td>\n",
       "      <td>0.268664</td>\n",
       "      <td>-0.144753</td>\n",
       "      <td>0.034541</td>\n",
       "      <td>0.062235</td>\n",
       "      <td>0.071417</td>\n",
       "      <td>-0.027842</td>\n",
       "      <td>0.029616</td>\n",
       "      <td>0.148320</td>\n",
       "      <td>-0.015752</td>\n",
       "      <td>0.012804</td>\n",
       "      <td>6.486332e-01</td>\n",
       "      <td>8.144701e-02</td>\n",
       "      <td>7.200289e-02</td>\n",
       "      <td>4.174320e-02</td>\n",
       "      <td>1.966625e-01</td>\n",
       "      <td>1.585674e-01</td>\n",
       "      <td>1.510824e-01</td>\n",
       "      <td>7.463402e-02</td>\n",
       "      <td>3.674490e-01</td>\n",
       "      <td>1.735807e+00</td>\n",
       "      <td>6.427807e-01</td>\n",
       "    </tr>\n",
       "    <tr>\n",
       "      <th>Germany</th>\n",
       "      <td>AAA</td>\n",
       "      <td>7.917000</td>\n",
       "      <td>4.981000</td>\n",
       "      <td>4.624000</td>\n",
       "      <td>4.122000</td>\n",
       "      <td>3.746000</td>\n",
       "      <td>3.384000</td>\n",
       "      <td>3.136000</td>\n",
       "      <td>3.856000</td>\n",
       "      <td>3.638000</td>\n",
       "      <td>3.135000</td>\n",
       "      <td>3.045000</td>\n",
       "      <td>2.612583e+00</td>\n",
       "      <td>-1.513131e+00</td>\n",
       "      <td>7.192490e+00</td>\n",
       "      <td>8.100335e+00</td>\n",
       "      <td>8.899854e+00</td>\n",
       "      <td>8.083586e+00</td>\n",
       "      <td>8.444744e+00</td>\n",
       "      <td>7.880059e+00</td>\n",
       "      <td>6.349851e+00</td>\n",
       "      <td>6.931968e+00</td>\n",
       "      <td>4.437915e+00</td>\n",
       "      <td>5.936536e+00</td>\n",
       "      <td>1.615733e+00</td>\n",
       "      <td>1.481802e+11</td>\n",
       "      <td>2.963604e+11</td>\n",
       "      <td>4.445405e+11</td>\n",
       "      <td>5.927207e+11</td>\n",
       "      <td>7.409009e+11</td>\n",
       "      <td>8.890811e+11</td>\n",
       "      <td>1.037261e+12</td>\n",
       "      <td>1.185441e+12</td>\n",
       "      <td>1.333622e+12</td>\n",
       "      <td>1.481802e+12</td>\n",
       "      <td>1.629982e+12</td>\n",
       "      <td>1.778162e+12</td>\n",
       "      <td>1.966981e+12</td>\n",
       "      <td>3.965801e+12</td>\n",
       "      <td>3.423568e+12</td>\n",
       "      <td>3.537784e+12</td>\n",
       "      <td>3.763092e+12</td>\n",
       "      <td>4.052008e+12</td>\n",
       "      <td>3.957208e+12</td>\n",
       "      <td>3.940143e+12</td>\n",
       "      <td>4.348297e+12</td>\n",
       "      <td>4.163596e+12</td>\n",
       "      <td>4.525704e+12</td>\n",
       "      <td>2.696468e+00</td>\n",
       "      <td>1.440268e+00</td>\n",
       "      <td>9.067940e-01</td>\n",
       "      <td>5.144261e-01</td>\n",
       "      <td>4.917470e-01</td>\n",
       "      <td>1.509495e+00</td>\n",
       "      <td>1.732169e+00</td>\n",
       "      <td>1.445660e+00</td>\n",
       "      <td>1.448779e-01</td>\n",
       "      <td>3.066667e+00</td>\n",
       "      <td>6.872574e+00</td>\n",
       "      <td>5.946437e+00</td>\n",
       "      <td>1.045473e+11</td>\n",
       "      <td>8.749687e+10</td>\n",
       "      <td>1.934848e+11</td>\n",
       "      <td>1.737309e+11</td>\n",
       "      <td>1.840313e+11</td>\n",
       "      <td>1.999831e+11</td>\n",
       "      <td>1.980271e+11</td>\n",
       "      <td>2.240280e+11</td>\n",
       "      <td>2.684086e+11</td>\n",
       "      <td>2.957362e+11</td>\n",
       "      <td>2.939137e+11</td>\n",
       "      <td>3.227001e+11</td>\n",
       "      <td>0</td>\n",
       "      <td>1.469260e-12</td>\n",
       "      <td>-7.692658e-13</td>\n",
       "      <td>1.813629e-12</td>\n",
       "      <td>2.366050e-12</td>\n",
       "      <td>2.515658e-12</td>\n",
       "      <td>2.148123e-12</td>\n",
       "      <td>2.084088e-12</td>\n",
       "      <td>1.991318e-12</td>\n",
       "      <td>1.611579e-12</td>\n",
       "      <td>1.594180e-12</td>\n",
       "      <td>1.065885e-12</td>\n",
       "      <td>1.311738e-12</td>\n",
       "      <td>0.058795</td>\n",
       "      <td>0.044483</td>\n",
       "      <td>0.048788</td>\n",
       "      <td>0.050746</td>\n",
       "      <td>0.052019</td>\n",
       "      <td>0.053143</td>\n",
       "      <td>0.048871</td>\n",
       "      <td>0.056613</td>\n",
       "      <td>0.068122</td>\n",
       "      <td>0.068012</td>\n",
       "      <td>0.070591</td>\n",
       "      <td>0.071304</td>\n",
       "      <td>-0.136727</td>\n",
       "      <td>0.033362</td>\n",
       "      <td>0.063686</td>\n",
       "      <td>0.076776</td>\n",
       "      <td>-0.023396</td>\n",
       "      <td>-0.004313</td>\n",
       "      <td>0.103589</td>\n",
       "      <td>-0.042477</td>\n",
       "      <td>0.086970</td>\n",
       "      <td>1.819210e-01</td>\n",
       "      <td>1.820506e-01</td>\n",
       "      <td>1.112513e-01</td>\n",
       "      <td>1.192982e-01</td>\n",
       "      <td>4.029618e-01</td>\n",
       "      <td>5.118702e-01</td>\n",
       "      <td>4.609884e-01</td>\n",
       "      <td>3.757208e-02</td>\n",
       "      <td>8.429540e-01</td>\n",
       "      <td>2.192209e+00</td>\n",
       "      <td>1.952853e+00</td>\n",
       "    </tr>\n",
       "    <tr>\n",
       "      <th>Liechtenstein</th>\n",
       "      <td>AAA</td>\n",
       "      <td>9.640537</td>\n",
       "      <td>9.136085</td>\n",
       "      <td>9.052059</td>\n",
       "      <td>8.903803</td>\n",
       "      <td>8.664479</td>\n",
       "      <td>8.383856</td>\n",
       "      <td>8.244777</td>\n",
       "      <td>9.305229</td>\n",
       "      <td>9.015766</td>\n",
       "      <td>8.230760</td>\n",
       "      <td>7.967091</td>\n",
       "      <td>1.516652e+07</td>\n",
       "      <td>3.017828e+07</td>\n",
       "      <td>4.306998e+07</td>\n",
       "      <td>5.742663e+07</td>\n",
       "      <td>7.143651e+07</td>\n",
       "      <td>8.531168e+07</td>\n",
       "      <td>9.953030e+07</td>\n",
       "      <td>1.134059e+08</td>\n",
       "      <td>1.277577e+08</td>\n",
       "      <td>1.421095e+08</td>\n",
       "      <td>1.564863e+08</td>\n",
       "      <td>1.708664e+08</td>\n",
       "      <td>1.840786e+08</td>\n",
       "      <td>2.451328e+09</td>\n",
       "      <td>4.784157e+09</td>\n",
       "      <td>7.121938e+09</td>\n",
       "      <td>9.459720e+09</td>\n",
       "      <td>1.179867e+10</td>\n",
       "      <td>1.417107e+10</td>\n",
       "      <td>1.654347e+10</td>\n",
       "      <td>1.891586e+10</td>\n",
       "      <td>2.129617e+10</td>\n",
       "      <td>2.368620e+10</td>\n",
       "      <td>2.638014e+10</td>\n",
       "      <td>1.421509e+09</td>\n",
       "      <td>2.483890e+09</td>\n",
       "      <td>6.657527e+09</td>\n",
       "      <td>6.268515e+09</td>\n",
       "      <td>6.237302e+09</td>\n",
       "      <td>6.474309e+09</td>\n",
       "      <td>6.692621e+09</td>\n",
       "      <td>6.436467e+09</td>\n",
       "      <td>6.405870e+09</td>\n",
       "      <td>7.710380e+09</td>\n",
       "      <td>7.361504e+09</td>\n",
       "      <td>7.088856e+09</td>\n",
       "      <td>6.816208e+09</td>\n",
       "      <td>6.543559e+09</td>\n",
       "      <td>6.270911e+09</td>\n",
       "      <td>5.998263e+09</td>\n",
       "      <td>5.725615e+09</td>\n",
       "      <td>5.452966e+09</td>\n",
       "      <td>5.180318e+09</td>\n",
       "      <td>4.907670e+09</td>\n",
       "      <td>4.635021e+09</td>\n",
       "      <td>4.362373e+09</td>\n",
       "      <td>4.089725e+09</td>\n",
       "      <td>3.817076e+09</td>\n",
       "      <td>3.544428e+09</td>\n",
       "      <td>3.271780e+09</td>\n",
       "      <td>2.999131e+09</td>\n",
       "      <td>2.726483e+09</td>\n",
       "      <td>2.453835e+09</td>\n",
       "      <td>2.181187e+09</td>\n",
       "      <td>1.908538e+09</td>\n",
       "      <td>1.635890e+09</td>\n",
       "      <td>1.363242e+09</td>\n",
       "      <td>1.090593e+09</td>\n",
       "      <td>8.179449e+08</td>\n",
       "      <td>5.452966e+08</td>\n",
       "      <td>0</td>\n",
       "      <td>1.066931e-02</td>\n",
       "      <td>1.214961e-02</td>\n",
       "      <td>6.469366e-03</td>\n",
       "      <td>9.161122e-03</td>\n",
       "      <td>1.145311e-02</td>\n",
       "      <td>1.317696e-02</td>\n",
       "      <td>1.487165e-02</td>\n",
       "      <td>1.761927e-02</td>\n",
       "      <td>1.994384e-02</td>\n",
       "      <td>1.843093e-02</td>\n",
       "      <td>2.125738e-02</td>\n",
       "      <td>2.410352e-02</td>\n",
       "      <td>2.493426</td>\n",
       "      <td>1.317200</td>\n",
       "      <td>0.450487</td>\n",
       "      <td>0.434949</td>\n",
       "      <td>0.393413</td>\n",
       "      <td>0.336899</td>\n",
       "      <td>0.285171</td>\n",
       "      <td>0.254160</td>\n",
       "      <td>0.212811</td>\n",
       "      <td>0.141445</td>\n",
       "      <td>0.111111</td>\n",
       "      <td>0.076923</td>\n",
       "      <td>-0.058432</td>\n",
       "      <td>-0.004979</td>\n",
       "      <td>0.037998</td>\n",
       "      <td>0.033720</td>\n",
       "      <td>-0.038274</td>\n",
       "      <td>-0.004754</td>\n",
       "      <td>0.203643</td>\n",
       "      <td>-0.045248</td>\n",
       "      <td>-0.037037</td>\n",
       "      <td>6.787547e+08</td>\n",
       "      <td>6.863893e+08</td>\n",
       "      <td>6.626408e+08</td>\n",
       "      <td>6.430527e+08</td>\n",
       "      <td>6.293473e+08</td>\n",
       "      <td>6.178920e+08</td>\n",
       "      <td>5.952459e+08</td>\n",
       "      <td>4.981093e+08</td>\n",
       "      <td>4.838605e+08</td>\n",
       "      <td>4.968830e+08</td>\n",
       "      <td>4.791054e+08</td>\n",
       "    </tr>\n",
       "    <tr>\n",
       "      <th>...</th>\n",
       "      <td>...</td>\n",
       "      <td>...</td>\n",
       "      <td>...</td>\n",
       "      <td>...</td>\n",
       "      <td>...</td>\n",
       "      <td>...</td>\n",
       "      <td>...</td>\n",
       "      <td>...</td>\n",
       "      <td>...</td>\n",
       "      <td>...</td>\n",
       "      <td>...</td>\n",
       "      <td>...</td>\n",
       "      <td>...</td>\n",
       "      <td>...</td>\n",
       "      <td>...</td>\n",
       "      <td>...</td>\n",
       "      <td>...</td>\n",
       "      <td>...</td>\n",
       "      <td>...</td>\n",
       "      <td>...</td>\n",
       "      <td>...</td>\n",
       "      <td>...</td>\n",
       "      <td>...</td>\n",
       "      <td>...</td>\n",
       "      <td>...</td>\n",
       "      <td>...</td>\n",
       "      <td>...</td>\n",
       "      <td>...</td>\n",
       "      <td>...</td>\n",
       "      <td>...</td>\n",
       "      <td>...</td>\n",
       "      <td>...</td>\n",
       "      <td>...</td>\n",
       "      <td>...</td>\n",
       "      <td>...</td>\n",
       "      <td>...</td>\n",
       "      <td>...</td>\n",
       "      <td>...</td>\n",
       "      <td>...</td>\n",
       "      <td>...</td>\n",
       "      <td>...</td>\n",
       "      <td>...</td>\n",
       "      <td>...</td>\n",
       "      <td>...</td>\n",
       "      <td>...</td>\n",
       "      <td>...</td>\n",
       "      <td>...</td>\n",
       "      <td>...</td>\n",
       "      <td>...</td>\n",
       "      <td>...</td>\n",
       "      <td>...</td>\n",
       "      <td>...</td>\n",
       "      <td>...</td>\n",
       "      <td>...</td>\n",
       "      <td>...</td>\n",
       "      <td>...</td>\n",
       "      <td>...</td>\n",
       "      <td>...</td>\n",
       "      <td>...</td>\n",
       "      <td>...</td>\n",
       "      <td>...</td>\n",
       "      <td>...</td>\n",
       "      <td>...</td>\n",
       "      <td>...</td>\n",
       "      <td>...</td>\n",
       "      <td>...</td>\n",
       "      <td>...</td>\n",
       "      <td>...</td>\n",
       "      <td>...</td>\n",
       "      <td>...</td>\n",
       "      <td>...</td>\n",
       "      <td>...</td>\n",
       "      <td>...</td>\n",
       "      <td>...</td>\n",
       "      <td>...</td>\n",
       "      <td>...</td>\n",
       "      <td>...</td>\n",
       "      <td>...</td>\n",
       "      <td>...</td>\n",
       "      <td>...</td>\n",
       "      <td>...</td>\n",
       "      <td>...</td>\n",
       "      <td>...</td>\n",
       "      <td>...</td>\n",
       "      <td>...</td>\n",
       "      <td>...</td>\n",
       "      <td>...</td>\n",
       "      <td>...</td>\n",
       "      <td>...</td>\n",
       "      <td>...</td>\n",
       "      <td>...</td>\n",
       "      <td>...</td>\n",
       "      <td>...</td>\n",
       "      <td>...</td>\n",
       "      <td>...</td>\n",
       "      <td>...</td>\n",
       "      <td>...</td>\n",
       "      <td>...</td>\n",
       "      <td>...</td>\n",
       "      <td>...</td>\n",
       "      <td>...</td>\n",
       "      <td>...</td>\n",
       "      <td>...</td>\n",
       "      <td>...</td>\n",
       "      <td>...</td>\n",
       "      <td>...</td>\n",
       "      <td>...</td>\n",
       "      <td>...</td>\n",
       "      <td>...</td>\n",
       "      <td>...</td>\n",
       "      <td>...</td>\n",
       "      <td>...</td>\n",
       "      <td>...</td>\n",
       "      <td>...</td>\n",
       "      <td>...</td>\n",
       "      <td>...</td>\n",
       "      <td>...</td>\n",
       "    </tr>\n",
       "    <tr>\n",
       "      <th>Sri Lanka</th>\n",
       "      <td>SD</td>\n",
       "      <td>7.740000</td>\n",
       "      <td>4.157000</td>\n",
       "      <td>4.519000</td>\n",
       "      <td>4.243000</td>\n",
       "      <td>4.046000</td>\n",
       "      <td>4.318000</td>\n",
       "      <td>4.670000</td>\n",
       "      <td>5.365000</td>\n",
       "      <td>5.258000</td>\n",
       "      <td>6.330000</td>\n",
       "      <td>6.360000</td>\n",
       "      <td>-3.713648e+00</td>\n",
       "      <td>-6.390297e+00</td>\n",
       "      <td>-2.408481e+00</td>\n",
       "      <td>-2.211361e+00</td>\n",
       "      <td>-1.979723e+00</td>\n",
       "      <td>-2.446586e+00</td>\n",
       "      <td>-2.962153e+00</td>\n",
       "      <td>-2.070888e+00</td>\n",
       "      <td>-1.408137e+00</td>\n",
       "      <td>-3.706463e+00</td>\n",
       "      <td>-1.953545e+00</td>\n",
       "      <td>1.847993e+00</td>\n",
       "      <td>4.006292e+01</td>\n",
       "      <td>7.700512e+01</td>\n",
       "      <td>1.305647e+02</td>\n",
       "      <td>1.358569e+02</td>\n",
       "      <td>1.455817e+02</td>\n",
       "      <td>1.524464e+02</td>\n",
       "      <td>1.624649e+02</td>\n",
       "      <td>1.787449e+02</td>\n",
       "      <td>1.855926e+02</td>\n",
       "      <td>1.987643e+02</td>\n",
       "      <td>3.226327e+02</td>\n",
       "      <td>3.275065e+02</td>\n",
       "      <td>8.032551e+09</td>\n",
       "      <td>1.633081e+10</td>\n",
       "      <td>8.252854e+10</td>\n",
       "      <td>8.514096e+10</td>\n",
       "      <td>8.801228e+10</td>\n",
       "      <td>9.437624e+10</td>\n",
       "      <td>9.449387e+10</td>\n",
       "      <td>8.901498e+10</td>\n",
       "      <td>8.430430e+10</td>\n",
       "      <td>8.860932e+10</td>\n",
       "      <td>7.414487e+10</td>\n",
       "      <td>8.435686e+10</td>\n",
       "      <td>2.149525e+01</td>\n",
       "      <td>6.176276e+00</td>\n",
       "      <td>3.179002e+00</td>\n",
       "      <td>3.768368e+00</td>\n",
       "      <td>3.958888e+00</td>\n",
       "      <td>7.704138e+00</td>\n",
       "      <td>2.135038e+00</td>\n",
       "      <td>3.528394e+00</td>\n",
       "      <td>6.153945e+00</td>\n",
       "      <td>7.014781e+00</td>\n",
       "      <td>4.972110e+01</td>\n",
       "      <td>1.654117e+01</td>\n",
       "      <td>4.470305e+08</td>\n",
       "      <td>1.131355e+09</td>\n",
       "      <td>8.210750e+09</td>\n",
       "      <td>7.302097e+09</td>\n",
       "      <td>6.008199e+09</td>\n",
       "      <td>7.959048e+09</td>\n",
       "      <td>6.920826e+09</td>\n",
       "      <td>7.648305e+09</td>\n",
       "      <td>5.663994e+09</td>\n",
       "      <td>3.136992e+09</td>\n",
       "      <td>2.352744e+09</td>\n",
       "      <td>1.568496e+09</td>\n",
       "      <td>2</td>\n",
       "      <td>-4.623249e-10</td>\n",
       "      <td>-3.913030e-10</td>\n",
       "      <td>-2.918362e-11</td>\n",
       "      <td>-2.597294e-11</td>\n",
       "      <td>-2.249372e-11</td>\n",
       "      <td>-2.592375e-11</td>\n",
       "      <td>-3.134757e-11</td>\n",
       "      <td>-2.326449e-11</td>\n",
       "      <td>-1.670303e-11</td>\n",
       "      <td>-4.182927e-11</td>\n",
       "      <td>-2.634768e-11</td>\n",
       "      <td>2.190685e-11</td>\n",
       "      <td>0.055652</td>\n",
       "      <td>0.069277</td>\n",
       "      <td>0.099490</td>\n",
       "      <td>0.085765</td>\n",
       "      <td>0.068265</td>\n",
       "      <td>0.084333</td>\n",
       "      <td>0.073241</td>\n",
       "      <td>0.085922</td>\n",
       "      <td>0.067185</td>\n",
       "      <td>0.035402</td>\n",
       "      <td>0.031732</td>\n",
       "      <td>0.018594</td>\n",
       "      <td>0.031655</td>\n",
       "      <td>0.033724</td>\n",
       "      <td>0.072308</td>\n",
       "      <td>0.001246</td>\n",
       "      <td>-0.057981</td>\n",
       "      <td>-0.052920</td>\n",
       "      <td>0.051065</td>\n",
       "      <td>-0.163239</td>\n",
       "      <td>0.137730</td>\n",
       "      <td>7.979685e-01</td>\n",
       "      <td>7.647347e-01</td>\n",
       "      <td>8.338942e-01</td>\n",
       "      <td>9.330399e-01</td>\n",
       "      <td>1.904137e+00</td>\n",
       "      <td>4.944506e-01</td>\n",
       "      <td>7.555447e-01</td>\n",
       "      <td>1.147054e+00</td>\n",
       "      <td>1.334116e+00</td>\n",
       "      <td>7.854834e+00</td>\n",
       "      <td>2.600814e+00</td>\n",
       "    </tr>\n",
       "    <tr>\n",
       "      <th>Ukraine</th>\n",
       "      <td>SD</td>\n",
       "      <td>11.707000</td>\n",
       "      <td>9.270000</td>\n",
       "      <td>9.140000</td>\n",
       "      <td>9.350000</td>\n",
       "      <td>9.500000</td>\n",
       "      <td>8.799000</td>\n",
       "      <td>8.194000</td>\n",
       "      <td>9.475000</td>\n",
       "      <td>9.834000</td>\n",
       "      <td>8.411791</td>\n",
       "      <td>6.989581</td>\n",
       "      <td>5.567372e+00</td>\n",
       "      <td>4.145163e+00</td>\n",
       "      <td>-3.442597e+00</td>\n",
       "      <td>5.531085e+00</td>\n",
       "      <td>-1.998803e+00</td>\n",
       "      <td>-3.098389e+00</td>\n",
       "      <td>-4.914009e+00</td>\n",
       "      <td>-2.679957e+00</td>\n",
       "      <td>3.362966e+00</td>\n",
       "      <td>-1.943275e+00</td>\n",
       "      <td>4.923775e+00</td>\n",
       "      <td>-5.401186e+00</td>\n",
       "      <td>1.952346e-02</td>\n",
       "      <td>5.440233e+00</td>\n",
       "      <td>1.188666e+01</td>\n",
       "      <td>2.184470e+01</td>\n",
       "      <td>2.555133e+01</td>\n",
       "      <td>2.659661e+01</td>\n",
       "      <td>2.720049e+01</td>\n",
       "      <td>2.584559e+01</td>\n",
       "      <td>2.695752e+01</td>\n",
       "      <td>2.728619e+01</td>\n",
       "      <td>3.234230e+01</td>\n",
       "      <td>3.657381e+01</td>\n",
       "      <td>8.139356e+10</td>\n",
       "      <td>3.237508e+10</td>\n",
       "      <td>1.335039e+11</td>\n",
       "      <td>9.103097e+10</td>\n",
       "      <td>9.335587e+10</td>\n",
       "      <td>1.120905e+11</td>\n",
       "      <td>1.308911e+11</td>\n",
       "      <td>1.538830e+11</td>\n",
       "      <td>1.566177e+11</td>\n",
       "      <td>1.997659e+11</td>\n",
       "      <td>1.619895e+11</td>\n",
       "      <td>1.787570e+11</td>\n",
       "      <td>8.937851e+10</td>\n",
       "      <td>2.820310e+01</td>\n",
       "      <td>1.207186e+01</td>\n",
       "      <td>4.869986e+01</td>\n",
       "      <td>1.391271e+01</td>\n",
       "      <td>1.443832e+01</td>\n",
       "      <td>1.095186e+01</td>\n",
       "      <td>7.886717e+00</td>\n",
       "      <td>2.732492e+00</td>\n",
       "      <td>9.363139e+00</td>\n",
       "      <td>2.018364e+01</td>\n",
       "      <td>1.284902e+01</td>\n",
       "      <td>7.386012e+08</td>\n",
       "      <td>1.477202e+09</td>\n",
       "      <td>7.538805e+09</td>\n",
       "      <td>1.330088e+10</td>\n",
       "      <td>1.553726e+10</td>\n",
       "      <td>1.881093e+10</td>\n",
       "      <td>2.081790e+10</td>\n",
       "      <td>2.531700e+10</td>\n",
       "      <td>2.913754e+10</td>\n",
       "      <td>3.096667e+10</td>\n",
       "      <td>2.850593e+10</td>\n",
       "      <td>4.051011e+10</td>\n",
       "      <td>2</td>\n",
       "      <td>6.840065e-11</td>\n",
       "      <td>1.280356e-10</td>\n",
       "      <td>-2.578649e-11</td>\n",
       "      <td>6.076047e-11</td>\n",
       "      <td>-2.141058e-11</td>\n",
       "      <td>-2.764185e-11</td>\n",
       "      <td>-3.754273e-11</td>\n",
       "      <td>-1.741555e-11</td>\n",
       "      <td>2.147245e-11</td>\n",
       "      <td>-9.727763e-12</td>\n",
       "      <td>3.039564e-11</td>\n",
       "      <td>-3.021524e-11</td>\n",
       "      <td>0.009074</td>\n",
       "      <td>0.045628</td>\n",
       "      <td>0.056469</td>\n",
       "      <td>0.146114</td>\n",
       "      <td>0.166430</td>\n",
       "      <td>0.167819</td>\n",
       "      <td>0.159047</td>\n",
       "      <td>0.164521</td>\n",
       "      <td>0.186042</td>\n",
       "      <td>0.155015</td>\n",
       "      <td>0.175974</td>\n",
       "      <td>0.226621</td>\n",
       "      <td>-0.318140</td>\n",
       "      <td>0.025540</td>\n",
       "      <td>0.200680</td>\n",
       "      <td>0.167727</td>\n",
       "      <td>0.175657</td>\n",
       "      <td>0.017771</td>\n",
       "      <td>0.275500</td>\n",
       "      <td>-0.189103</td>\n",
       "      <td>0.103510</td>\n",
       "      <td>2.409080e+00</td>\n",
       "      <td>1.302250e+00</td>\n",
       "      <td>5.328213e+00</td>\n",
       "      <td>1.487990e+00</td>\n",
       "      <td>1.519823e+00</td>\n",
       "      <td>1.244671e+00</td>\n",
       "      <td>9.624991e-01</td>\n",
       "      <td>2.883897e-01</td>\n",
       "      <td>9.521191e-01</td>\n",
       "      <td>2.399446e+00</td>\n",
       "      <td>1.838311e+00</td>\n",
       "    </tr>\n",
       "    <tr>\n",
       "      <th>Lebanon</th>\n",
       "      <td>D</td>\n",
       "      <td>8.594000</td>\n",
       "      <td>8.796000</td>\n",
       "      <td>9.270000</td>\n",
       "      <td>9.760000</td>\n",
       "      <td>10.236000</td>\n",
       "      <td>10.741000</td>\n",
       "      <td>11.301000</td>\n",
       "      <td>13.235000</td>\n",
       "      <td>12.621000</td>\n",
       "      <td>11.599000</td>\n",
       "      <td>11.565000</td>\n",
       "      <td>-1.033289e+00</td>\n",
       "      <td>-1.363158e+01</td>\n",
       "      <td>-2.622987e+01</td>\n",
       "      <td>-1.710774e+01</td>\n",
       "      <td>-2.047802e+01</td>\n",
       "      <td>-2.288220e+01</td>\n",
       "      <td>-2.434704e+01</td>\n",
       "      <td>-2.182809e+01</td>\n",
       "      <td>-8.761842e+00</td>\n",
       "      <td>-1.969781e+01</td>\n",
       "      <td>-3.460623e+01</td>\n",
       "      <td>-2.810367e+01</td>\n",
       "      <td>6.950892e+02</td>\n",
       "      <td>1.507500e+03</td>\n",
       "      <td>1.507500e+03</td>\n",
       "      <td>1.507500e+03</td>\n",
       "      <td>1.507500e+03</td>\n",
       "      <td>1.507500e+03</td>\n",
       "      <td>1.507500e+03</td>\n",
       "      <td>1.507500e+03</td>\n",
       "      <td>1.507500e+03</td>\n",
       "      <td>1.507500e+03</td>\n",
       "      <td>1.507500e+03</td>\n",
       "      <td>1.419243e+09</td>\n",
       "      <td>2.838485e+09</td>\n",
       "      <td>1.726036e+10</td>\n",
       "      <td>4.809521e+10</td>\n",
       "      <td>4.992934e+10</td>\n",
       "      <td>5.114731e+10</td>\n",
       "      <td>5.302768e+10</td>\n",
       "      <td>5.490152e+10</td>\n",
       "      <td>5.160596e+10</td>\n",
       "      <td>3.171213e+10</td>\n",
       "      <td>2.313194e+10</td>\n",
       "      <td>2.099242e+10</td>\n",
       "      <td>1.574432e+10</td>\n",
       "      <td>1.049621e+10</td>\n",
       "      <td>5.248105e+09</td>\n",
       "      <td>1.854604e+00</td>\n",
       "      <td>-3.749145e+00</td>\n",
       "      <td>-7.833596e-01</td>\n",
       "      <td>4.321352e+00</td>\n",
       "      <td>6.076989e+00</td>\n",
       "      <td>3.005389e+00</td>\n",
       "      <td>8.486433e+01</td>\n",
       "      <td>1.547561e+02</td>\n",
       "      <td>1.712055e+02</td>\n",
       "      <td>2.213416e+02</td>\n",
       "      <td>4.210389e+09</td>\n",
       "      <td>8.474638e+09</td>\n",
       "      <td>5.066886e+10</td>\n",
       "      <td>4.853139e+10</td>\n",
       "      <td>5.390551e+10</td>\n",
       "      <td>5.541153e+10</td>\n",
       "      <td>5.238061e+10</td>\n",
       "      <td>5.221348e+10</td>\n",
       "      <td>4.244040e+10</td>\n",
       "      <td>3.523922e+10</td>\n",
       "      <td>3.251288e+10</td>\n",
       "      <td>2.167525e+10</td>\n",
       "      <td>2</td>\n",
       "      <td>-3.640281e-10</td>\n",
       "      <td>-7.897618e-10</td>\n",
       "      <td>-5.453737e-10</td>\n",
       "      <td>-3.426390e-10</td>\n",
       "      <td>-4.003734e-10</td>\n",
       "      <td>-4.315143e-10</td>\n",
       "      <td>-4.434675e-10</td>\n",
       "      <td>-4.229762e-10</td>\n",
       "      <td>-2.762931e-10</td>\n",
       "      <td>-8.515417e-10</td>\n",
       "      <td>-1.648510e-09</td>\n",
       "      <td>-1.785004e-09</td>\n",
       "      <td>1.483323</td>\n",
       "      <td>0.490988</td>\n",
       "      <td>1.053512</td>\n",
       "      <td>0.972001</td>\n",
       "      <td>1.053927</td>\n",
       "      <td>1.044955</td>\n",
       "      <td>0.954083</td>\n",
       "      <td>1.011772</td>\n",
       "      <td>1.338302</td>\n",
       "      <td>1.523401</td>\n",
       "      <td>1.548791</td>\n",
       "      <td>1.376703</td>\n",
       "      <td>0.038135</td>\n",
       "      <td>0.024394</td>\n",
       "      <td>0.036764</td>\n",
       "      <td>0.035337</td>\n",
       "      <td>-0.060027</td>\n",
       "      <td>-0.385495</td>\n",
       "      <td>-0.270565</td>\n",
       "      <td>-0.092492</td>\n",
       "      <td>-0.250000</td>\n",
       "      <td>6.106709e+08</td>\n",
       "      <td>2.108463e-01</td>\n",
       "      <td>-4.044385e-01</td>\n",
       "      <td>-8.026226e-02</td>\n",
       "      <td>4.221720e-01</td>\n",
       "      <td>5.657750e-01</td>\n",
       "      <td>2.659401e-01</td>\n",
       "      <td>6.412114e+00</td>\n",
       "      <td>1.226179e+01</td>\n",
       "      <td>1.476037e+01</td>\n",
       "      <td>1.913892e+01</td>\n",
       "    </tr>\n",
       "    <tr>\n",
       "      <th>Puerto Rico</th>\n",
       "      <td>D</td>\n",
       "      <td>10.080000</td>\n",
       "      <td>13.900000</td>\n",
       "      <td>12.000000</td>\n",
       "      <td>11.800000</td>\n",
       "      <td>10.800000</td>\n",
       "      <td>9.200000</td>\n",
       "      <td>8.300000</td>\n",
       "      <td>8.890000</td>\n",
       "      <td>7.900000</td>\n",
       "      <td>6.000000</td>\n",
       "      <td>5.962000</td>\n",
       "      <td>1.224157e+09</td>\n",
       "      <td>2.448314e+09</td>\n",
       "      <td>3.672470e+09</td>\n",
       "      <td>4.896627e+09</td>\n",
       "      <td>6.120784e+09</td>\n",
       "      <td>7.344941e+09</td>\n",
       "      <td>8.569097e+09</td>\n",
       "      <td>9.793254e+09</td>\n",
       "      <td>1.101741e+10</td>\n",
       "      <td>1.224157e+10</td>\n",
       "      <td>1.346572e+10</td>\n",
       "      <td>1.468988e+10</td>\n",
       "      <td>1.591404e+10</td>\n",
       "      <td>1.713819e+10</td>\n",
       "      <td>1.836235e+10</td>\n",
       "      <td>1.958651e+10</td>\n",
       "      <td>2.081066e+10</td>\n",
       "      <td>2.203482e+10</td>\n",
       "      <td>2.325898e+10</td>\n",
       "      <td>2.448314e+10</td>\n",
       "      <td>2.570729e+10</td>\n",
       "      <td>2.693145e+10</td>\n",
       "      <td>2.815561e+10</td>\n",
       "      <td>2.937976e+10</td>\n",
       "      <td>3.060392e+10</td>\n",
       "      <td>6.170180e+10</td>\n",
       "      <td>1.020000e+11</td>\n",
       "      <td>1.030000e+11</td>\n",
       "      <td>1.040000e+11</td>\n",
       "      <td>1.030000e+11</td>\n",
       "      <td>1.010000e+11</td>\n",
       "      <td>1.050000e+11</td>\n",
       "      <td>1.030000e+11</td>\n",
       "      <td>1.060000e+11</td>\n",
       "      <td>1.140000e+11</td>\n",
       "      <td>1.180000e+11</td>\n",
       "      <td>1.134615e+11</td>\n",
       "      <td>1.089231e+11</td>\n",
       "      <td>1.043846e+11</td>\n",
       "      <td>9.984615e+10</td>\n",
       "      <td>9.530769e+10</td>\n",
       "      <td>9.076923e+10</td>\n",
       "      <td>8.623077e+10</td>\n",
       "      <td>8.169231e+10</td>\n",
       "      <td>7.715385e+10</td>\n",
       "      <td>7.261538e+10</td>\n",
       "      <td>6.807692e+10</td>\n",
       "      <td>6.353846e+10</td>\n",
       "      <td>5.900000e+10</td>\n",
       "      <td>5.446154e+10</td>\n",
       "      <td>4.992308e+10</td>\n",
       "      <td>4.538462e+10</td>\n",
       "      <td>4.084615e+10</td>\n",
       "      <td>3.630769e+10</td>\n",
       "      <td>3.176923e+10</td>\n",
       "      <td>2.723077e+10</td>\n",
       "      <td>2.269231e+10</td>\n",
       "      <td>1.815385e+10</td>\n",
       "      <td>1.361538e+10</td>\n",
       "      <td>9.076923e+09</td>\n",
       "      <td>2</td>\n",
       "      <td>4.000000e-02</td>\n",
       "      <td>3.967977e-02</td>\n",
       "      <td>3.600461e-02</td>\n",
       "      <td>4.754007e-02</td>\n",
       "      <td>5.885369e-02</td>\n",
       "      <td>7.131010e-02</td>\n",
       "      <td>8.484255e-02</td>\n",
       "      <td>9.326909e-02</td>\n",
       "      <td>1.069652e-01</td>\n",
       "      <td>1.154865e-01</td>\n",
       "      <td>1.181204e-01</td>\n",
       "      <td>1.244905e-01</td>\n",
       "      <td>1.927858</td>\n",
       "      <td>0.882657</td>\n",
       "      <td>0.489442</td>\n",
       "      <td>0.440627</td>\n",
       "      <td>0.392751</td>\n",
       "      <td>0.352502</td>\n",
       "      <td>0.314547</td>\n",
       "      <td>0.259341</td>\n",
       "      <td>0.220314</td>\n",
       "      <td>0.171263</td>\n",
       "      <td>0.119433</td>\n",
       "      <td>0.076923</td>\n",
       "      <td>0.009804</td>\n",
       "      <td>0.009709</td>\n",
       "      <td>-0.009615</td>\n",
       "      <td>-0.019417</td>\n",
       "      <td>0.039604</td>\n",
       "      <td>-0.019048</td>\n",
       "      <td>0.029126</td>\n",
       "      <td>0.075472</td>\n",
       "      <td>0.035088</td>\n",
       "      <td>1.080586e+10</td>\n",
       "      <td>7.509685e+09</td>\n",
       "      <td>8.320513e+09</td>\n",
       "      <td>8.076923e+09</td>\n",
       "      <td>8.404558e+09</td>\n",
       "      <td>9.372910e+09</td>\n",
       "      <td>9.842447e+09</td>\n",
       "      <td>8.678723e+09</td>\n",
       "      <td>9.191821e+09</td>\n",
       "      <td>1.134615e+10</td>\n",
       "      <td>1.065724e+10</td>\n",
       "    </tr>\n",
       "    <tr>\n",
       "      <th>Grenada</th>\n",
       "      <td>SD</td>\n",
       "      <td>9.640537</td>\n",
       "      <td>9.136085</td>\n",
       "      <td>9.052059</td>\n",
       "      <td>8.903803</td>\n",
       "      <td>8.664479</td>\n",
       "      <td>8.383856</td>\n",
       "      <td>8.244777</td>\n",
       "      <td>9.305229</td>\n",
       "      <td>9.015766</td>\n",
       "      <td>8.230760</td>\n",
       "      <td>7.967091</td>\n",
       "      <td>-1.662612e+01</td>\n",
       "      <td>-2.199663e+01</td>\n",
       "      <td>-9.082369e+00</td>\n",
       "      <td>-1.061651e+01</td>\n",
       "      <td>-8.849575e+00</td>\n",
       "      <td>-1.146353e+01</td>\n",
       "      <td>-1.275789e+01</td>\n",
       "      <td>-1.035870e+01</td>\n",
       "      <td>-1.612843e+01</td>\n",
       "      <td>-1.445885e+01</td>\n",
       "      <td>-1.108356e+01</td>\n",
       "      <td>-1.399198e+01</td>\n",
       "      <td>2.700000e+00</td>\n",
       "      <td>2.700000e+00</td>\n",
       "      <td>2.700000e+00</td>\n",
       "      <td>2.700000e+00</td>\n",
       "      <td>2.700000e+00</td>\n",
       "      <td>2.700000e+00</td>\n",
       "      <td>2.700000e+00</td>\n",
       "      <td>2.700000e+00</td>\n",
       "      <td>2.700000e+00</td>\n",
       "      <td>2.700000e+00</td>\n",
       "      <td>2.700000e+00</td>\n",
       "      <td>2.700000e+00</td>\n",
       "      <td>2.780988e+08</td>\n",
       "      <td>5.200444e+08</td>\n",
       "      <td>9.114963e+08</td>\n",
       "      <td>9.970074e+08</td>\n",
       "      <td>1.061641e+09</td>\n",
       "      <td>1.125685e+09</td>\n",
       "      <td>1.166515e+09</td>\n",
       "      <td>1.213485e+09</td>\n",
       "      <td>1.043411e+09</td>\n",
       "      <td>1.122800e+09</td>\n",
       "      <td>1.224578e+09</td>\n",
       "      <td>1.316733e+09</td>\n",
       "      <td>2.724237e+00</td>\n",
       "      <td>2.181818e+00</td>\n",
       "      <td>-9.836031e-01</td>\n",
       "      <td>-5.154480e-01</td>\n",
       "      <td>1.650390e+00</td>\n",
       "      <td>9.084583e-01</td>\n",
       "      <td>8.041023e-01</td>\n",
       "      <td>5.981498e-01</td>\n",
       "      <td>-7.407326e-01</td>\n",
       "      <td>1.219512e+00</td>\n",
       "      <td>2.580539e+00</td>\n",
       "      <td>2.696123e+00</td>\n",
       "      <td>1.757889e+07</td>\n",
       "      <td>5.766000e+07</td>\n",
       "      <td>1.699494e+08</td>\n",
       "      <td>1.979735e+08</td>\n",
       "      <td>2.076893e+08</td>\n",
       "      <td>1.991259e+08</td>\n",
       "      <td>2.338159e+08</td>\n",
       "      <td>2.363253e+08</td>\n",
       "      <td>2.933204e+08</td>\n",
       "      <td>3.482592e+08</td>\n",
       "      <td>3.717673e+08</td>\n",
       "      <td>4.041299e+08</td>\n",
       "      <td>2</td>\n",
       "      <td>-5.978495e-08</td>\n",
       "      <td>-4.229760e-08</td>\n",
       "      <td>-9.964241e-09</td>\n",
       "      <td>-1.064838e-08</td>\n",
       "      <td>-8.335753e-09</td>\n",
       "      <td>-1.018360e-08</td>\n",
       "      <td>-1.093676e-08</td>\n",
       "      <td>-8.536324e-09</td>\n",
       "      <td>-1.545741e-08</td>\n",
       "      <td>-1.287750e-08</td>\n",
       "      <td>-9.050924e-09</td>\n",
       "      <td>-1.062628e-08</td>\n",
       "      <td>0.063211</td>\n",
       "      <td>0.110875</td>\n",
       "      <td>0.186451</td>\n",
       "      <td>0.198568</td>\n",
       "      <td>0.195630</td>\n",
       "      <td>0.176893</td>\n",
       "      <td>0.200440</td>\n",
       "      <td>0.194749</td>\n",
       "      <td>0.281117</td>\n",
       "      <td>0.310170</td>\n",
       "      <td>0.303588</td>\n",
       "      <td>0.306919</td>\n",
       "      <td>0.093814</td>\n",
       "      <td>0.064827</td>\n",
       "      <td>0.060326</td>\n",
       "      <td>0.036271</td>\n",
       "      <td>0.040266</td>\n",
       "      <td>-0.140153</td>\n",
       "      <td>0.076086</td>\n",
       "      <td>0.090646</td>\n",
       "      <td>0.075255</td>\n",
       "      <td>2.263171e-01</td>\n",
       "      <td>-1.076613e-01</td>\n",
       "      <td>-5.694263e-02</td>\n",
       "      <td>1.853579e-01</td>\n",
       "      <td>1.048486e-01</td>\n",
       "      <td>9.591079e-02</td>\n",
       "      <td>7.254894e-02</td>\n",
       "      <td>-7.960391e-02</td>\n",
       "      <td>1.352644e-01</td>\n",
       "      <td>3.135238e-01</td>\n",
       "      <td>3.384074e-01</td>\n",
       "    </tr>\n",
       "  </tbody>\n",
       "</table>\n",
       "<p>127 rows × 117 columns</p>\n",
       "</div>"
      ],
      "text/plain": [
       "              S&P Rating  unemployment_2000  unemployment_2014  \\\n",
       "Country                                                          \n",
       "Australia            AAA           6.288000           6.078000   \n",
       "Canada               AAA           6.829000           7.023000   \n",
       "Denmark              AAA           4.476000           6.925000   \n",
       "Germany              AAA           7.917000           4.981000   \n",
       "Liechtenstein        AAA           9.640537           9.136085   \n",
       "...                  ...                ...                ...   \n",
       "Sri Lanka             SD           7.740000           4.157000   \n",
       "Ukraine               SD          11.707000           9.270000   \n",
       "Lebanon                D           8.594000           8.796000   \n",
       "Puerto Rico           D           10.080000          13.900000   \n",
       "Grenada              SD            9.640537           9.136085   \n",
       "\n",
       "               unemployment_2015  unemployment_2016  unemployment_2017  \\\n",
       "Country                                                                  \n",
       "Australia               6.055000           5.711000           5.592000   \n",
       "Canada                  6.945000           7.038000           6.426000   \n",
       "Denmark                 6.278000           5.989000           5.833000   \n",
       "Germany                 4.624000           4.122000           3.746000   \n",
       "Liechtenstein           9.052059           8.903803           8.664479   \n",
       "...                          ...                ...                ...   \n",
       "Sri Lanka               4.519000           4.243000           4.046000   \n",
       "Ukraine                 9.140000           9.350000           9.500000   \n",
       "Lebanon                 9.270000           9.760000          10.236000   \n",
       "Puerto Rico            12.000000          11.800000          10.800000   \n",
       "Grenada                 9.052059           8.903803           8.664479   \n",
       "\n",
       "               unemployment_2018  unemployment_2019  unemployment_2020  \\\n",
       "Country                                                                  \n",
       "Australia               5.300000           5.159000           6.456000   \n",
       "Canada                  5.837000           5.690000           9.657000   \n",
       "Denmark                 5.131000           5.018000           5.637000   \n",
       "Germany                 3.384000           3.136000           3.856000   \n",
       "Liechtenstein           8.383856           8.244777           9.305229   \n",
       "...                          ...                ...                ...   \n",
       "Sri Lanka               4.318000           4.670000           5.365000   \n",
       "Ukraine                 8.799000           8.194000           9.475000   \n",
       "Lebanon                10.741000          11.301000          13.235000   \n",
       "Puerto Rico             9.200000           8.300000           8.890000   \n",
       "Grenada                 8.383856           8.244777           9.305229   \n",
       "\n",
       "               unemployment_2021  unemployment_2022  unemployment_2023  \\\n",
       "Country                                                                  \n",
       "Australia               5.116000           3.701000           3.667000   \n",
       "Canada                  7.527000           5.280000           5.366000   \n",
       "Denmark                 5.043000           4.434000           5.142000   \n",
       "Germany                 3.638000           3.135000           3.045000   \n",
       "Liechtenstein           9.015766           8.230760           7.967091   \n",
       "...                          ...                ...                ...   \n",
       "Sri Lanka               5.258000           6.330000           6.360000   \n",
       "Ukraine                 9.834000           8.411791           6.989581   \n",
       "Lebanon                12.621000          11.599000          11.565000   \n",
       "Puerto Rico             7.900000           6.000000           5.962000   \n",
       "Grenada                 9.015766           8.230760           7.967091   \n",
       "\n",
       "               current_account_balance_1990  current_account_balance_2000  \\\n",
       "Country                                                                     \n",
       "Australia                     -4.987491e+00                 -3.721401e+00   \n",
       "Canada                        -3.398803e+00                  2.483228e+00   \n",
       "Denmark                        9.923083e-01                  1.378800e+00   \n",
       "Germany                        2.612583e+00                 -1.513131e+00   \n",
       "Liechtenstein                  1.516652e+07                  3.017828e+07   \n",
       "...                                     ...                           ...   \n",
       "Sri Lanka                     -3.713648e+00                 -6.390297e+00   \n",
       "Ukraine                        5.567372e+00                  4.145163e+00   \n",
       "Lebanon                       -1.033289e+00                 -1.363158e+01   \n",
       "Puerto Rico                    1.224157e+09                  2.448314e+09   \n",
       "Grenada                       -1.662612e+01                 -2.199663e+01   \n",
       "\n",
       "               current_account_balance_2014  current_account_balance_2015  \\\n",
       "Country                                                                     \n",
       "Australia                     -3.054734e+00                 -4.229028e+00   \n",
       "Canada                        -2.318921e+00                 -3.513987e+00   \n",
       "Denmark                        8.886178e+00                  7.953938e+00   \n",
       "Germany                        7.192490e+00                  8.100335e+00   \n",
       "Liechtenstein                  4.306998e+07                  5.742663e+07   \n",
       "...                                     ...                           ...   \n",
       "Sri Lanka                     -2.408481e+00                 -2.211361e+00   \n",
       "Ukraine                       -3.442597e+00                  5.531085e+00   \n",
       "Lebanon                       -2.622987e+01                 -1.710774e+01   \n",
       "Puerto Rico                    3.672470e+09                  4.896627e+09   \n",
       "Grenada                       -9.082369e+00                 -1.061651e+01   \n",
       "\n",
       "               current_account_balance_2016  current_account_balance_2017  \\\n",
       "Country                                                                     \n",
       "Australia                     -3.440490e+00                 -2.722911e+00   \n",
       "Canada                        -3.093111e+00                 -2.803427e+00   \n",
       "Denmark                        7.078509e+00                  7.360245e+00   \n",
       "Germany                        8.899854e+00                  8.083586e+00   \n",
       "Liechtenstein                  7.143651e+07                  8.531168e+07   \n",
       "...                                     ...                           ...   \n",
       "Sri Lanka                     -1.979723e+00                 -2.446586e+00   \n",
       "Ukraine                       -1.998803e+00                 -3.098389e+00   \n",
       "Lebanon                       -2.047802e+01                 -2.288220e+01   \n",
       "Puerto Rico                    6.120784e+09                  7.344941e+09   \n",
       "Grenada                       -8.849575e+00                 -1.146353e+01   \n",
       "\n",
       "               current_account_balance_2018  current_account_balance_2019  \\\n",
       "Country                                                                     \n",
       "Australia                     -2.233402e+00                  3.501218e-01   \n",
       "Canada                        -2.385072e+00                 -1.951703e+00   \n",
       "Denmark                        6.244573e+00                  7.425270e+00   \n",
       "Germany                        8.444744e+00                  7.880059e+00   \n",
       "Liechtenstein                  9.953030e+07                  1.134059e+08   \n",
       "...                                     ...                           ...   \n",
       "Sri Lanka                     -2.962153e+00                 -2.070888e+00   \n",
       "Ukraine                       -4.914009e+00                 -2.679957e+00   \n",
       "Lebanon                       -2.434704e+01                 -2.182809e+01   \n",
       "Puerto Rico                    8.569097e+09                  9.793254e+09   \n",
       "Grenada                       -1.275789e+01                 -1.035870e+01   \n",
       "\n",
       "               current_account_balance_2020  current_account_balance_2021  \\\n",
       "Country                                                                     \n",
       "Australia                      2.330931e+00                  3.137209e+00   \n",
       "Canada                        -2.010494e+00                  1.277747e-02   \n",
       "Denmark                        7.231130e+00                  8.659145e+00   \n",
       "Germany                        6.349851e+00                  6.931968e+00   \n",
       "Liechtenstein                  1.277577e+08                  1.421095e+08   \n",
       "...                                     ...                           ...   \n",
       "Sri Lanka                     -1.408137e+00                 -3.706463e+00   \n",
       "Ukraine                        3.362966e+00                 -1.943275e+00   \n",
       "Lebanon                       -8.761842e+00                 -1.969781e+01   \n",
       "Puerto Rico                    1.101741e+10                  1.224157e+10   \n",
       "Grenada                       -1.612843e+01                 -1.445885e+01   \n",
       "\n",
       "               current_account_balance_2022  current_account_balance_2023  \\\n",
       "Country                                                                     \n",
       "Australia                      8.453239e-01                  2.547373e-01   \n",
       "Canada                        -3.526320e-01                 -7.295740e-01   \n",
       "Denmark                        1.156562e+01                  9.840846e+00   \n",
       "Germany                        4.437915e+00                  5.936536e+00   \n",
       "Liechtenstein                  1.564863e+08                  1.708664e+08   \n",
       "...                                     ...                           ...   \n",
       "Sri Lanka                     -1.953545e+00                  1.847993e+00   \n",
       "Ukraine                        4.923775e+00                 -5.401186e+00   \n",
       "Lebanon                       -3.460623e+01                 -2.810367e+01   \n",
       "Puerto Rico                    1.346572e+10                  1.468988e+10   \n",
       "Grenada                       -1.108356e+01                 -1.399198e+01   \n",
       "\n",
       "               exchange_rate_usd_1990  exchange_rate_usd_2000  \\\n",
       "Country                                                         \n",
       "Australia                1.281057e+00            1.724827e+00   \n",
       "Canada                   1.166774e+00            1.485394e+00   \n",
       "Denmark                  6.188558e+00            8.083144e+00   \n",
       "Germany                  1.615733e+00            1.481802e+11   \n",
       "Liechtenstein            1.840786e+08            2.451328e+09   \n",
       "...                               ...                     ...   \n",
       "Sri Lanka                4.006292e+01            7.700512e+01   \n",
       "Ukraine                  1.952346e-02            5.440233e+00   \n",
       "Lebanon                  6.950892e+02            1.507500e+03   \n",
       "Puerto Rico              1.591404e+10            1.713819e+10   \n",
       "Grenada                  2.700000e+00            2.700000e+00   \n",
       "\n",
       "               exchange_rate_usd_2014  exchange_rate_usd_2015  \\\n",
       "Country                                                         \n",
       "Australia                1.109363e+00            1.331090e+00   \n",
       "Canada                   1.104747e+00            1.278786e+00   \n",
       "Denmark                  5.612467e+00            6.727907e+00   \n",
       "Germany                  2.963604e+11            4.445405e+11   \n",
       "Liechtenstein            4.784157e+09            7.121938e+09   \n",
       "...                               ...                     ...   \n",
       "Sri Lanka                1.305647e+02            1.358569e+02   \n",
       "Ukraine                  1.188666e+01            2.184470e+01   \n",
       "Lebanon                  1.507500e+03            1.507500e+03   \n",
       "Puerto Rico              1.836235e+10            1.958651e+10   \n",
       "Grenada                  2.700000e+00            2.700000e+00   \n",
       "\n",
       "               exchange_rate_usd_2016  exchange_rate_usd_2017  \\\n",
       "Country                                                         \n",
       "Australia                1.345214e+00            1.304758e+00   \n",
       "Canada                   1.325615e+00            1.297936e+00   \n",
       "Denmark                  6.731718e+00            6.602893e+00   \n",
       "Germany                  5.927207e+11            7.409009e+11   \n",
       "Liechtenstein            9.459720e+09            1.179867e+10   \n",
       "...                               ...                     ...   \n",
       "Sri Lanka                1.455817e+02            1.524464e+02   \n",
       "Ukraine                  2.555133e+01            2.659661e+01   \n",
       "Lebanon                  1.507500e+03            1.507500e+03   \n",
       "Puerto Rico              2.081066e+10            2.203482e+10   \n",
       "Grenada                  2.700000e+00            2.700000e+00   \n",
       "\n",
       "               exchange_rate_usd_2018  exchange_rate_usd_2019  \\\n",
       "Country                                                         \n",
       "Australia                1.338412e+00            1.438507e+00   \n",
       "Canada                   1.295818e+00            1.326793e+00   \n",
       "Denmark                  6.314619e+00            6.669447e+00   \n",
       "Germany                  8.890811e+11            1.037261e+12   \n",
       "Liechtenstein            1.417107e+10            1.654347e+10   \n",
       "...                               ...                     ...   \n",
       "Sri Lanka                1.624649e+02            1.787449e+02   \n",
       "Ukraine                  2.720049e+01            2.584559e+01   \n",
       "Lebanon                  1.507500e+03            1.507500e+03   \n",
       "Puerto Rico              2.325898e+10            2.448314e+10   \n",
       "Grenada                  2.700000e+00            2.700000e+00   \n",
       "\n",
       "               exchange_rate_usd_2020  exchange_rate_usd_2021  \\\n",
       "Country                                                         \n",
       "Australia                1.453085e+00            1.331224e+00   \n",
       "Canada                   1.341153e+00            1.253877e+00   \n",
       "Denmark                  6.542152e+00            6.287113e+00   \n",
       "Germany                  1.185441e+12            1.333622e+12   \n",
       "Liechtenstein            1.891586e+10            2.129617e+10   \n",
       "...                               ...                     ...   \n",
       "Sri Lanka                1.855926e+02            1.987643e+02   \n",
       "Ukraine                  2.695752e+01            2.728619e+01   \n",
       "Lebanon                  1.507500e+03            1.507500e+03   \n",
       "Puerto Rico              2.570729e+10            2.693145e+10   \n",
       "Grenada                  2.700000e+00            2.700000e+00   \n",
       "\n",
       "               exchange_rate_usd_2022  exchange_rate_usd_2023      gdp_1990  \\\n",
       "Country                                                                       \n",
       "Australia                1.441664e+00            1.505191e+00  3.114267e+11   \n",
       "Canada                   1.301555e+00            1.349909e+00  5.960756e+11   \n",
       "Denmark                  7.076152e+00            6.889703e+00  1.382177e+11   \n",
       "Germany                  1.481802e+12            1.629982e+12  1.778162e+12   \n",
       "Liechtenstein            2.368620e+10            2.638014e+10  1.421509e+09   \n",
       "...                               ...                     ...           ...   \n",
       "Sri Lanka                3.226327e+02            3.275065e+02  8.032551e+09   \n",
       "Ukraine                  3.234230e+01            3.657381e+01  8.139356e+10   \n",
       "Lebanon                  1.507500e+03            1.419243e+09  2.838485e+09   \n",
       "Puerto Rico              2.815561e+10            2.937976e+10  3.060392e+10   \n",
       "Grenada                  2.700000e+00            2.700000e+00  2.780988e+08   \n",
       "\n",
       "                   gdp_2000      gdp_2014      gdp_2015      gdp_2016  \\\n",
       "Country                                                                 \n",
       "Australia      4.161678e+11  1.468265e+12  1.351296e+12  1.206837e+12   \n",
       "Canada         7.447734e+11  1.805750e+12  1.556509e+12  1.527995e+12   \n",
       "Denmark        1.640438e+11  3.528326e+11  3.017589e+11  3.121818e+11   \n",
       "Germany        1.966981e+12  3.965801e+12  3.423568e+12  3.537784e+12   \n",
       "Liechtenstein  2.483890e+09  6.657527e+09  6.268515e+09  6.237302e+09   \n",
       "...                     ...           ...           ...           ...   \n",
       "Sri Lanka      1.633081e+10  8.252854e+10  8.514096e+10  8.801228e+10   \n",
       "Ukraine        3.237508e+10  1.335039e+11  9.103097e+10  9.335587e+10   \n",
       "Lebanon        1.726036e+10  4.809521e+10  4.992934e+10  5.114731e+10   \n",
       "Puerto Rico    6.170180e+10  1.020000e+11  1.030000e+11  1.040000e+11   \n",
       "Grenada        5.200444e+08  9.114963e+08  9.970074e+08  1.061641e+09   \n",
       "\n",
       "                   gdp_2017      gdp_2018      gdp_2019      gdp_2020  \\\n",
       "Country                                                                 \n",
       "Australia      1.325583e+12  1.427809e+12  1.392724e+12  1.328414e+12   \n",
       "Canada         1.649266e+12  1.725329e+12  1.743725e+12  1.655685e+12   \n",
       "Denmark        3.316106e+11  3.552934e+11  3.454015e+11  3.556310e+11   \n",
       "Germany        3.763092e+12  4.052008e+12  3.957208e+12  3.940143e+12   \n",
       "Liechtenstein  6.474309e+09  6.692621e+09  6.436467e+09  6.405870e+09   \n",
       "...                     ...           ...           ...           ...   \n",
       "Sri Lanka      9.437624e+10  9.449387e+10  8.901498e+10  8.430430e+10   \n",
       "Ukraine        1.120905e+11  1.308911e+11  1.538830e+11  1.566177e+11   \n",
       "Lebanon        5.302768e+10  5.490152e+10  5.160596e+10  3.171213e+10   \n",
       "Puerto Rico    1.030000e+11  1.010000e+11  1.050000e+11  1.030000e+11   \n",
       "Grenada        1.125685e+09  1.166515e+09  1.213485e+09  1.043411e+09   \n",
       "\n",
       "                   gdp_2021      gdp_2022      gdp_2023  inflation_1990  \\\n",
       "Country                                                                   \n",
       "Australia      1.556736e+12  1.690858e+12  1.728057e+12    7.333022e+00   \n",
       "Canada         2.007472e+12  2.161483e+12  2.142471e+12    4.780477e+00   \n",
       "Denmark        4.083782e+11  4.019456e+11  4.070919e+11    2.641603e+00   \n",
       "Germany        4.348297e+12  4.163596e+12  4.525704e+12    2.696468e+00   \n",
       "Liechtenstein  7.710380e+09  7.361504e+09  7.088856e+09    6.816208e+09   \n",
       "...                     ...           ...           ...             ...   \n",
       "Sri Lanka      8.860932e+10  7.414487e+10  8.435686e+10    2.149525e+01   \n",
       "Ukraine        1.997659e+11  1.619895e+11  1.787570e+11    8.937851e+10   \n",
       "Lebanon        2.313194e+10  2.099242e+10  1.574432e+10    1.049621e+10   \n",
       "Puerto Rico    1.060000e+11  1.140000e+11  1.180000e+11    1.134615e+11   \n",
       "Grenada        1.122800e+09  1.224578e+09  1.316733e+09    2.724237e+00   \n",
       "\n",
       "               inflation_2000  inflation_2014  inflation_2015  inflation_2016  \\\n",
       "Country                                                                         \n",
       "Australia        4.457435e+00    2.487923e+00    1.508367e+00    1.276991e+00   \n",
       "Canada           2.719440e+00    1.906636e+00    1.125241e+00    1.428760e+00   \n",
       "Denmark          2.903282e+00    5.640205e-01    4.520342e-01    2.500000e-01   \n",
       "Germany          1.440268e+00    9.067940e-01    5.144261e-01    4.917470e-01   \n",
       "Liechtenstein    6.543559e+09    6.270911e+09    5.998263e+09    5.725615e+09   \n",
       "...                       ...             ...             ...             ...   \n",
       "Sri Lanka        6.176276e+00    3.179002e+00    3.768368e+00    3.958888e+00   \n",
       "Ukraine          2.820310e+01    1.207186e+01    4.869986e+01    1.391271e+01   \n",
       "Lebanon          5.248105e+09    1.854604e+00   -3.749145e+00   -7.833596e-01   \n",
       "Puerto Rico      1.089231e+11    1.043846e+11    9.984615e+10    9.530769e+10   \n",
       "Grenada          2.181818e+00   -9.836031e-01   -5.154480e-01    1.650390e+00   \n",
       "\n",
       "               inflation_2017  inflation_2018  inflation_2019  inflation_2020  \\\n",
       "Country                                                                         \n",
       "Australia        1.948647e+00    1.911401e+00    1.610768e+00    8.469055e-01   \n",
       "Canada           1.596884e+00    2.268226e+00    1.949269e+00    7.169996e-01   \n",
       "Denmark          1.147132e+00    8.136095e-01    7.581316e-01    4.207120e-01   \n",
       "Germany          1.509495e+00    1.732169e+00    1.445660e+00    1.448779e-01   \n",
       "Liechtenstein    5.452966e+09    5.180318e+09    4.907670e+09    4.635021e+09   \n",
       "...                       ...             ...             ...             ...   \n",
       "Sri Lanka        7.704138e+00    2.135038e+00    3.528394e+00    6.153945e+00   \n",
       "Ukraine          1.443832e+01    1.095186e+01    7.886717e+00    2.732492e+00   \n",
       "Lebanon          4.321352e+00    6.076989e+00    3.005389e+00    8.486433e+01   \n",
       "Puerto Rico      9.076923e+10    8.623077e+10    8.169231e+10    7.715385e+10   \n",
       "Grenada          9.084583e-01    8.041023e-01    5.981498e-01   -7.407326e-01   \n",
       "\n",
       "               inflation_2021  inflation_2022  inflation_2023  \\\n",
       "Country                                                         \n",
       "Australia        2.863910e+00    6.594097e+00    5.597015e+00   \n",
       "Canada           3.395193e+00    6.802801e+00    3.879002e+00   \n",
       "Denmark          1.853045e+00    7.696567e+00    3.305178e+00   \n",
       "Germany          3.066667e+00    6.872574e+00    5.946437e+00   \n",
       "Liechtenstein    4.362373e+09    4.089725e+09    3.817076e+09   \n",
       "...                       ...             ...             ...   \n",
       "Sri Lanka        7.014781e+00    4.972110e+01    1.654117e+01   \n",
       "Ukraine          9.363139e+00    2.018364e+01    1.284902e+01   \n",
       "Lebanon          1.547561e+02    1.712055e+02    2.213416e+02   \n",
       "Puerto Rico      7.261538e+10    6.807692e+10    6.353846e+10   \n",
       "Grenada          1.219512e+00    2.580539e+00    2.696123e+00   \n",
       "\n",
       "               total_reserves_1990  total_reserves_2000  total_reserves_2014  \\\n",
       "Country                                                                        \n",
       "Australia             1.931874e+10         1.882155e+10         5.391033e+10   \n",
       "Canada                2.352952e+10         3.242727e+10         7.469996e+10   \n",
       "Denmark               1.122584e+10         1.569595e+10         7.539189e+10   \n",
       "Germany               1.045473e+11         8.749687e+10         1.934848e+11   \n",
       "Liechtenstein         3.544428e+09         3.271780e+09         2.999131e+09   \n",
       "...                            ...                  ...                  ...   \n",
       "Sri Lanka             4.470305e+08         1.131355e+09         8.210750e+09   \n",
       "Ukraine               7.386012e+08         1.477202e+09         7.538805e+09   \n",
       "Lebanon               4.210389e+09         8.474638e+09         5.066886e+10   \n",
       "Puerto Rico           5.900000e+10         5.446154e+10         4.992308e+10   \n",
       "Grenada               1.757889e+07         5.766000e+07         1.699494e+08   \n",
       "\n",
       "               total_reserves_2015  total_reserves_2016  total_reserves_2017  \\\n",
       "Country                                                                        \n",
       "Australia             4.540604e+10         5.248079e+10         6.565372e+10   \n",
       "Canada                7.975352e+10         8.271811e+10         8.667771e+10   \n",
       "Denmark               6.518509e+10         6.421581e+10         7.524445e+10   \n",
       "Germany               1.737309e+11         1.840313e+11         1.999831e+11   \n",
       "Liechtenstein         2.726483e+09         2.453835e+09         2.181187e+09   \n",
       "...                            ...                  ...                  ...   \n",
       "Sri Lanka             7.302097e+09         6.008199e+09         7.959048e+09   \n",
       "Ukraine               1.330088e+10         1.553726e+10         1.881093e+10   \n",
       "Lebanon               4.853139e+10         5.390551e+10         5.541153e+10   \n",
       "Puerto Rico           4.538462e+10         4.084615e+10         3.630769e+10   \n",
       "Grenada               1.979735e+08         2.076893e+08         1.991259e+08   \n",
       "\n",
       "               total_reserves_2018  total_reserves_2019  total_reserves_2020  \\\n",
       "Country                                                                        \n",
       "Australia             5.390953e+10         5.799469e+10         4.254463e+10   \n",
       "Canada                8.392560e+10         8.529711e+10         9.042814e+10   \n",
       "Denmark               7.094208e+10         6.683555e+10         7.282335e+10   \n",
       "Germany               1.980271e+11         2.240280e+11         2.684086e+11   \n",
       "Liechtenstein         1.908538e+09         1.635890e+09         1.363242e+09   \n",
       "...                            ...                  ...                  ...   \n",
       "Sri Lanka             6.920826e+09         7.648305e+09         5.663994e+09   \n",
       "Ukraine               2.081790e+10         2.531700e+10         2.913754e+10   \n",
       "Lebanon               5.238061e+10         5.221348e+10         4.244040e+10   \n",
       "Puerto Rico           3.176923e+10         2.723077e+10         2.269231e+10   \n",
       "Grenada               2.338159e+08         2.363253e+08         2.933204e+08   \n",
       "\n",
       "               total_reserves_2021  total_reserves_2022  total_reserves_2023  \\\n",
       "Country                                                                        \n",
       "Australia             5.787750e+10         5.670190e+10         6.170335e+10   \n",
       "Canada                1.066151e+11         1.069524e+11         1.175509e+11   \n",
       "Denmark               8.223584e+10         9.607255e+10         1.093708e+11   \n",
       "Germany               2.957362e+11         2.939137e+11         3.227001e+11   \n",
       "Liechtenstein         1.090593e+09         8.179449e+08         5.452966e+08   \n",
       "...                            ...                  ...                  ...   \n",
       "Sri Lanka             3.136992e+09         2.352744e+09         1.568496e+09   \n",
       "Ukraine               3.096667e+10         2.850593e+10         4.051011e+10   \n",
       "Lebanon               3.523922e+10         3.251288e+10         2.167525e+10   \n",
       "Puerto Rico           1.815385e+10         1.361538e+10         9.076923e+09   \n",
       "Grenada               3.482592e+08         3.717673e+08         4.041299e+08   \n",
       "\n",
       "               target  cab_to_gdp_1990  cab_to_gdp_2000  cab_to_gdp_2014  \\\n",
       "Country                                                                    \n",
       "Australia           0    -1.601498e-11    -8.942069e-12    -2.080506e-12   \n",
       "Canada              0    -5.701967e-12     3.334206e-12    -1.284187e-12   \n",
       "Denmark             0     7.179312e-12     8.405071e-12     2.518525e-11   \n",
       "Germany             0     1.469260e-12    -7.692658e-13     1.813629e-12   \n",
       "Liechtenstein       0     1.066931e-02     1.214961e-02     6.469366e-03   \n",
       "...               ...              ...              ...              ...   \n",
       "Sri Lanka           2    -4.623249e-10    -3.913030e-10    -2.918362e-11   \n",
       "Ukraine             2     6.840065e-11     1.280356e-10    -2.578649e-11   \n",
       "Lebanon             2    -3.640281e-10    -7.897618e-10    -5.453737e-10   \n",
       "Puerto Rico         2     4.000000e-02     3.967977e-02     3.600461e-02   \n",
       "Grenada             2    -5.978495e-08    -4.229760e-08    -9.964241e-09   \n",
       "\n",
       "               cab_to_gdp_2015  cab_to_gdp_2016  cab_to_gdp_2017  \\\n",
       "Country                                                            \n",
       "Australia        -3.129608e-12    -2.850832e-12    -2.054124e-12   \n",
       "Canada           -2.257608e-12    -2.024295e-12    -1.699803e-12   \n",
       "Denmark           2.635858e-11     2.267431e-11     2.219545e-11   \n",
       "Germany           2.366050e-12     2.515658e-12     2.148123e-12   \n",
       "Liechtenstein     9.161122e-03     1.145311e-02     1.317696e-02   \n",
       "...                        ...              ...              ...   \n",
       "Sri Lanka        -2.597294e-11    -2.249372e-11    -2.592375e-11   \n",
       "Ukraine           6.076047e-11    -2.141058e-11    -2.764185e-11   \n",
       "Lebanon          -3.426390e-10    -4.003734e-10    -4.315143e-10   \n",
       "Puerto Rico       4.754007e-02     5.885369e-02     7.131010e-02   \n",
       "Grenada          -1.064838e-08    -8.335753e-09    -1.018360e-08   \n",
       "\n",
       "               cab_to_gdp_2018  cab_to_gdp_2019  cab_to_gdp_2020  \\\n",
       "Country                                                            \n",
       "Australia        -1.564216e-12     2.513936e-13     1.754672e-12   \n",
       "Canada           -1.382386e-12    -1.119272e-12    -1.214297e-12   \n",
       "Denmark           1.757582e-11     2.149750e-11     2.033324e-11   \n",
       "Germany           2.084088e-12     1.991318e-12     1.611579e-12   \n",
       "Liechtenstein     1.487165e-02     1.761927e-02     1.994384e-02   \n",
       "...                        ...              ...              ...   \n",
       "Sri Lanka        -3.134757e-11    -2.326449e-11    -1.670303e-11   \n",
       "Ukraine          -3.754273e-11    -1.741555e-11     2.147245e-11   \n",
       "Lebanon          -4.434675e-10    -4.229762e-10    -2.762931e-10   \n",
       "Puerto Rico       8.484255e-02     9.326909e-02     1.069652e-01   \n",
       "Grenada          -1.093676e-08    -8.536324e-09    -1.545741e-08   \n",
       "\n",
       "               cab_to_gdp_2021  cab_to_gdp_2022  cab_to_gdp_2023  \\\n",
       "Country                                                            \n",
       "Australia         2.015248e-12     4.999378e-13     1.474125e-13   \n",
       "Canada            6.364954e-15    -1.631435e-13    -3.405293e-13   \n",
       "Denmark           2.120374e-11     2.877410e-11     2.417352e-11   \n",
       "Germany           1.594180e-12     1.065885e-12     1.311738e-12   \n",
       "Liechtenstein     1.843093e-02     2.125738e-02     2.410352e-02   \n",
       "...                        ...              ...              ...   \n",
       "Sri Lanka        -4.182927e-11    -2.634768e-11     2.190685e-11   \n",
       "Ukraine          -9.727763e-12     3.039564e-11    -3.021524e-11   \n",
       "Lebanon          -8.515417e-10    -1.648510e-09    -1.785004e-09   \n",
       "Puerto Rico       1.154865e-01     1.181204e-01     1.244905e-01   \n",
       "Grenada          -1.287750e-08    -9.050924e-09    -1.062628e-08   \n",
       "\n",
       "               reserves_to_gdp_1990  reserves_to_gdp_2000  \\\n",
       "Country                                                     \n",
       "Australia                  0.062033              0.045226   \n",
       "Canada                     0.039474              0.043540   \n",
       "Denmark                    0.081219              0.095681   \n",
       "Germany                    0.058795              0.044483   \n",
       "Liechtenstein              2.493426              1.317200   \n",
       "...                             ...                   ...   \n",
       "Sri Lanka                  0.055652              0.069277   \n",
       "Ukraine                    0.009074              0.045628   \n",
       "Lebanon                    1.483323              0.490988   \n",
       "Puerto Rico                1.927858              0.882657   \n",
       "Grenada                    0.063211              0.110875   \n",
       "\n",
       "               reserves_to_gdp_2014  reserves_to_gdp_2015  \\\n",
       "Country                                                     \n",
       "Australia                  0.036717              0.033602   \n",
       "Canada                     0.041368              0.051239   \n",
       "Denmark                    0.213676              0.216017   \n",
       "Germany                    0.048788              0.050746   \n",
       "Liechtenstein              0.450487              0.434949   \n",
       "...                             ...                   ...   \n",
       "Sri Lanka                  0.099490              0.085765   \n",
       "Ukraine                    0.056469              0.146114   \n",
       "Lebanon                    1.053512              0.972001   \n",
       "Puerto Rico                0.489442              0.440627   \n",
       "Grenada                    0.186451              0.198568   \n",
       "\n",
       "               reserves_to_gdp_2016  reserves_to_gdp_2017  \\\n",
       "Country                                                     \n",
       "Australia                  0.043486              0.049528   \n",
       "Canada                     0.054135              0.052555   \n",
       "Denmark                    0.205700              0.226906   \n",
       "Germany                    0.052019              0.053143   \n",
       "Liechtenstein              0.393413              0.336899   \n",
       "...                             ...                   ...   \n",
       "Sri Lanka                  0.068265              0.084333   \n",
       "Ukraine                    0.166430              0.167819   \n",
       "Lebanon                    1.053927              1.044955   \n",
       "Puerto Rico                0.392751              0.352502   \n",
       "Grenada                    0.195630              0.176893   \n",
       "\n",
       "               reserves_to_gdp_2018  reserves_to_gdp_2019  \\\n",
       "Country                                                     \n",
       "Australia                  0.037757              0.041641   \n",
       "Canada                     0.048643              0.048917   \n",
       "Denmark                    0.199672              0.193501   \n",
       "Germany                    0.048871              0.056613   \n",
       "Liechtenstein              0.285171              0.254160   \n",
       "...                             ...                   ...   \n",
       "Sri Lanka                  0.073241              0.085922   \n",
       "Ukraine                    0.159047              0.164521   \n",
       "Lebanon                    0.954083              1.011772   \n",
       "Puerto Rico                0.314547              0.259341   \n",
       "Grenada                    0.200440              0.194749   \n",
       "\n",
       "               reserves_to_gdp_2020  reserves_to_gdp_2021  \\\n",
       "Country                                                     \n",
       "Australia                  0.032027              0.037179   \n",
       "Canada                     0.054617              0.053109   \n",
       "Denmark                    0.204772              0.201372   \n",
       "Germany                    0.068122              0.068012   \n",
       "Liechtenstein              0.212811              0.141445   \n",
       "...                             ...                   ...   \n",
       "Sri Lanka                  0.067185              0.035402   \n",
       "Ukraine                    0.186042              0.155015   \n",
       "Lebanon                    1.338302              1.523401   \n",
       "Puerto Rico                0.220314              0.171263   \n",
       "Grenada                    0.281117              0.310170   \n",
       "\n",
       "               reserves_to_gdp_2022  reserves_to_gdp_2023  \\\n",
       "Country                                                     \n",
       "Australia                  0.033534              0.035707   \n",
       "Canada                     0.049481              0.054867   \n",
       "Denmark                    0.239019              0.268664   \n",
       "Germany                    0.070591              0.071304   \n",
       "Liechtenstein              0.111111              0.076923   \n",
       "...                             ...                   ...   \n",
       "Sri Lanka                  0.031732              0.018594   \n",
       "Ukraine                    0.175974              0.226621   \n",
       "Lebanon                    1.548791              1.376703   \n",
       "Puerto Rico                0.119433              0.076923   \n",
       "Grenada                    0.303588              0.306919   \n",
       "\n",
       "               gdp_growth_2014_2015  gdp_growth_2015_2016  \\\n",
       "Country                                                     \n",
       "Australia                 -0.079665             -0.106904   \n",
       "Canada                    -0.138026             -0.018319   \n",
       "Denmark                   -0.144753              0.034541   \n",
       "Germany                   -0.136727              0.033362   \n",
       "Liechtenstein             -0.058432             -0.004979   \n",
       "...                             ...                   ...   \n",
       "Sri Lanka                  0.031655              0.033724   \n",
       "Ukraine                   -0.318140              0.025540   \n",
       "Lebanon                    0.038135              0.024394   \n",
       "Puerto Rico                0.009804              0.009709   \n",
       "Grenada                    0.093814              0.064827   \n",
       "\n",
       "               gdp_growth_2016_2017  gdp_growth_2017_2018  \\\n",
       "Country                                                     \n",
       "Australia                  0.098394              0.077118   \n",
       "Canada                     0.079366              0.046120   \n",
       "Denmark                    0.062235              0.071417   \n",
       "Germany                    0.063686              0.076776   \n",
       "Liechtenstein              0.037998              0.033720   \n",
       "...                             ...                   ...   \n",
       "Sri Lanka                  0.072308              0.001246   \n",
       "Ukraine                    0.200680              0.167727   \n",
       "Lebanon                    0.036764              0.035337   \n",
       "Puerto Rico               -0.009615             -0.019417   \n",
       "Grenada                    0.060326              0.036271   \n",
       "\n",
       "               gdp_growth_2018_2019  gdp_growth_2019_2020  \\\n",
       "Country                                                     \n",
       "Australia                 -0.024573             -0.046176   \n",
       "Canada                     0.010662             -0.050490   \n",
       "Denmark                   -0.027842              0.029616   \n",
       "Germany                   -0.023396             -0.004313   \n",
       "Liechtenstein             -0.038274             -0.004754   \n",
       "...                             ...                   ...   \n",
       "Sri Lanka                 -0.057981             -0.052920   \n",
       "Ukraine                    0.175657              0.017771   \n",
       "Lebanon                   -0.060027             -0.385495   \n",
       "Puerto Rico                0.039604             -0.019048   \n",
       "Grenada                    0.040266             -0.140153   \n",
       "\n",
       "               gdp_growth_2020_2021  gdp_growth_2021_2022  \\\n",
       "Country                                                     \n",
       "Australia                  0.171875              0.086156   \n",
       "Canada                     0.212472              0.076719   \n",
       "Denmark                    0.148320             -0.015752   \n",
       "Germany                    0.103589             -0.042477   \n",
       "Liechtenstein              0.203643             -0.045248   \n",
       "...                             ...                   ...   \n",
       "Sri Lanka                  0.051065             -0.163239   \n",
       "Ukraine                    0.275500             -0.189103   \n",
       "Lebanon                   -0.270565             -0.092492   \n",
       "Puerto Rico                0.029126              0.075472   \n",
       "Grenada                    0.076086              0.090646   \n",
       "\n",
       "               gdp_growth_2022_2023  inflation_to_unemployment_2000  \\\n",
       "Country                                                               \n",
       "Australia                  0.022000                    7.088796e-01   \n",
       "Canada                    -0.008796                    3.982194e-01   \n",
       "Denmark                    0.012804                    6.486332e-01   \n",
       "Germany                    0.086970                    1.819210e-01   \n",
       "Liechtenstein             -0.037037                    6.787547e+08   \n",
       "...                             ...                             ...   \n",
       "Sri Lanka                  0.137730                    7.979685e-01   \n",
       "Ukraine                    0.103510                    2.409080e+00   \n",
       "Lebanon                   -0.250000                    6.106709e+08   \n",
       "Puerto Rico                0.035088                    1.080586e+10   \n",
       "Grenada                    0.075255                    2.263171e-01   \n",
       "\n",
       "               inflation_to_unemployment_2014  inflation_to_unemployment_2015  \\\n",
       "Country                                                                         \n",
       "Australia                        4.093325e-01                    2.491109e-01   \n",
       "Canada                           2.714845e-01                    1.620218e-01   \n",
       "Denmark                          8.144701e-02                    7.200289e-02   \n",
       "Germany                          1.820506e-01                    1.112513e-01   \n",
       "Liechtenstein                    6.863893e+08                    6.626408e+08   \n",
       "...                                       ...                             ...   \n",
       "Sri Lanka                        7.647347e-01                    8.338942e-01   \n",
       "Ukraine                          1.302250e+00                    5.328213e+00   \n",
       "Lebanon                          2.108463e-01                   -4.044385e-01   \n",
       "Puerto Rico                      7.509685e+09                    8.320513e+09   \n",
       "Grenada                         -1.076613e-01                   -5.694263e-02   \n",
       "\n",
       "               inflation_to_unemployment_2016  inflation_to_unemployment_2017  \\\n",
       "Country                                                                         \n",
       "Australia                        2.236020e-01                    3.484706e-01   \n",
       "Canada                           2.030065e-01                    2.485036e-01   \n",
       "Denmark                          4.174320e-02                    1.966625e-01   \n",
       "Germany                          1.192982e-01                    4.029618e-01   \n",
       "Liechtenstein                    6.430527e+08                    6.293473e+08   \n",
       "...                                       ...                             ...   \n",
       "Sri Lanka                        9.330399e-01                    1.904137e+00   \n",
       "Ukraine                          1.487990e+00                    1.519823e+00   \n",
       "Lebanon                         -8.026226e-02                    4.221720e-01   \n",
       "Puerto Rico                      8.076923e+09                    8.404558e+09   \n",
       "Grenada                          1.853579e-01                    1.048486e-01   \n",
       "\n",
       "               inflation_to_unemployment_2018  inflation_to_unemployment_2019  \\\n",
       "Country                                                                         \n",
       "Australia                        3.606417e-01                    3.122248e-01   \n",
       "Canada                           3.885944e-01                    3.425780e-01   \n",
       "Denmark                          1.585674e-01                    1.510824e-01   \n",
       "Germany                          5.118702e-01                    4.609884e-01   \n",
       "Liechtenstein                    6.178920e+08                    5.952459e+08   \n",
       "...                                       ...                             ...   \n",
       "Sri Lanka                        4.944506e-01                    7.555447e-01   \n",
       "Ukraine                          1.244671e+00                    9.624991e-01   \n",
       "Lebanon                          5.657750e-01                    2.659401e-01   \n",
       "Puerto Rico                      9.372910e+09                    9.842447e+09   \n",
       "Grenada                          9.591079e-02                    7.254894e-02   \n",
       "\n",
       "               inflation_to_unemployment_2020  inflation_to_unemployment_2021  \\\n",
       "Country                                                                         \n",
       "Australia                        1.311812e-01                    5.597948e-01   \n",
       "Canada                           7.424662e-02                    4.510686e-01   \n",
       "Denmark                          7.463402e-02                    3.674490e-01   \n",
       "Germany                          3.757208e-02                    8.429540e-01   \n",
       "Liechtenstein                    4.981093e+08                    4.838605e+08   \n",
       "...                                       ...                             ...   \n",
       "Sri Lanka                        1.147054e+00                    1.334116e+00   \n",
       "Ukraine                          2.883897e-01                    9.521191e-01   \n",
       "Lebanon                          6.412114e+00                    1.226179e+01   \n",
       "Puerto Rico                      8.678723e+09                    9.191821e+09   \n",
       "Grenada                         -7.960391e-02                    1.352644e-01   \n",
       "\n",
       "               inflation_to_unemployment_2022  inflation_to_unemployment_2023  \n",
       "Country                                                                        \n",
       "Australia                        1.781707e+00                    1.526320e+00  \n",
       "Canada                           1.288409e+00                    7.228851e-01  \n",
       "Denmark                          1.735807e+00                    6.427807e-01  \n",
       "Germany                          2.192209e+00                    1.952853e+00  \n",
       "Liechtenstein                    4.968830e+08                    4.791054e+08  \n",
       "...                                       ...                             ...  \n",
       "Sri Lanka                        7.854834e+00                    2.600814e+00  \n",
       "Ukraine                          2.399446e+00                    1.838311e+00  \n",
       "Lebanon                          1.476037e+01                    1.913892e+01  \n",
       "Puerto Rico                      1.134615e+10                    1.065724e+10  \n",
       "Grenada                          3.135238e-01                    3.384074e-01  \n",
       "\n",
       "[127 rows x 117 columns]"
      ]
     },
     "execution_count": 98,
     "metadata": {},
     "output_type": "execute_result"
    }
   ],
   "source": [
    "df"
   ]
  },
  {
   "cell_type": "markdown",
   "metadata": {},
   "source": [
    "## Correlations maps"
   ]
  },
  {
   "cell_type": "code",
   "execution_count": 99,
   "metadata": {},
   "outputs": [],
   "source": [
    "df = df.drop('S&P Rating', axis = 1)"
   ]
  },
  {
   "cell_type": "code",
   "execution_count": 100,
   "metadata": {},
   "outputs": [
    {
     "data": {
      "application/vnd.plotly.v1+json": {
       "config": {
        "plotlyServerURL": "https://plot.ly"
       },
       "data": [
        {
         "coloraxis": "coloraxis",
         "hovertemplate": "x: %{x}<br>y: %{y}<br>color: %{z}<extra></extra>",
         "name": "0",
         "type": "heatmap",
         "x": [
          "target",
          "unemployment_2000",
          "unemployment_2014",
          "unemployment_2015",
          "unemployment_2016",
          "unemployment_2017",
          "unemployment_2018",
          "unemployment_2019",
          "unemployment_2020",
          "unemployment_2021",
          "unemployment_2022",
          "unemployment_2023"
         ],
         "xaxis": "x",
         "y": [
          "target",
          "unemployment_2000",
          "unemployment_2014",
          "unemployment_2015",
          "unemployment_2016",
          "unemployment_2017",
          "unemployment_2018",
          "unemployment_2019",
          "unemployment_2020",
          "unemployment_2021",
          "unemployment_2022",
          "unemployment_2023"
         ],
         "yaxis": "y",
         "z": [
          [
           1,
           0.13562479751525952,
           0.006735729725906136,
           0.038356123243829705,
           0.08264214463514463,
           0.12843923688164793,
           0.17111726028842184,
           0.20510165311417994,
           0.2007613887390651,
           0.18887699864652233,
           0.20614107663415082,
           0.18786885510108994
          ],
          [
           0.13562479751525952,
           1,
           0.7089500120339044,
           0.7240721663089018,
           0.7308963839610727,
           0.7235413774487626,
           0.7077447985527645,
           0.6800418683722572,
           0.658966649639498,
           0.6600870296851923,
           0.6566341521426748,
           0.6553980368056868
          ],
          [
           0.006735729725906136,
           0.7089500120339044,
           1,
           0.9907016424794509,
           0.9669187234131189,
           0.9225089916176897,
           0.8755426476607773,
           0.816728195951191,
           0.7482780534232532,
           0.7627398718040955,
           0.7538399581443979,
           0.7410450475154121
          ],
          [
           0.038356123243829705,
           0.7240721663089018,
           0.9907016424794509,
           1,
           0.9856773810829307,
           0.9505174707442293,
           0.9105944451032849,
           0.8562277595501239,
           0.7851257373950465,
           0.8016853453166612,
           0.794106461620896,
           0.781298696935168
          ],
          [
           0.08264214463514463,
           0.7308963839610727,
           0.9669187234131189,
           0.9856773810829307,
           1,
           0.9825729854346573,
           0.9535165984374607,
           0.9124194826920542,
           0.8451145804040293,
           0.8602073455066276,
           0.8507078151840667,
           0.8374471363302972
          ],
          [
           0.12843923688164793,
           0.7235413774487626,
           0.9225089916176897,
           0.9505174707442293,
           0.9825729854346573,
           1,
           0.9860429894223657,
           0.9558712067575493,
           0.8944226191708369,
           0.9123022559862186,
           0.906149088523802,
           0.8949276151643346
          ],
          [
           0.17111726028842184,
           0.7077447985527645,
           0.8755426476607773,
           0.9105944451032849,
           0.9535165984374607,
           0.9860429894223657,
           1,
           0.9839654825606963,
           0.9321148373982087,
           0.9486238625882293,
           0.9404884096964333,
           0.9285628870162997
          ],
          [
           0.20510165311417994,
           0.6800418683722572,
           0.816728195951191,
           0.8562277595501239,
           0.9124194826920542,
           0.9558712067575493,
           0.9839654825606963,
           1,
           0.9550438304638029,
           0.9733632605738215,
           0.964255101909301,
           0.9517092223672831
          ],
          [
           0.2007613887390651,
           0.658966649639498,
           0.7482780534232532,
           0.7851257373950465,
           0.8451145804040293,
           0.8944226191708369,
           0.9321148373982087,
           0.9550438304638029,
           1,
           0.9739447002182733,
           0.9449179254864382,
           0.9251857323341877
          ],
          [
           0.18887699864652233,
           0.6600870296851923,
           0.7627398718040955,
           0.8016853453166612,
           0.8602073455066276,
           0.9123022559862186,
           0.9486238625882293,
           0.9733632605738215,
           0.9739447002182733,
           1,
           0.9864359831982451,
           0.9720515415283469
          ],
          [
           0.20614107663415082,
           0.6566341521426748,
           0.7538399581443979,
           0.794106461620896,
           0.8507078151840667,
           0.906149088523802,
           0.9404884096964333,
           0.964255101909301,
           0.9449179254864382,
           0.9864359831982451,
           1,
           0.9932961215366156
          ],
          [
           0.18786885510108994,
           0.6553980368056868,
           0.7410450475154121,
           0.781298696935168,
           0.8374471363302972,
           0.8949276151643346,
           0.9285628870162997,
           0.9517092223672831,
           0.9251857323341877,
           0.9720515415283469,
           0.9932961215366156,
           1
          ]
         ]
        }
       ],
       "layout": {
        "coloraxis": {
         "colorscale": [
          [
           0,
           "rgb(5,48,97)"
          ],
          [
           0.1,
           "rgb(33,102,172)"
          ],
          [
           0.2,
           "rgb(67,147,195)"
          ],
          [
           0.3,
           "rgb(146,197,222)"
          ],
          [
           0.4,
           "rgb(209,229,240)"
          ],
          [
           0.5,
           "rgb(247,247,247)"
          ],
          [
           0.6,
           "rgb(253,219,199)"
          ],
          [
           0.7,
           "rgb(244,165,130)"
          ],
          [
           0.8,
           "rgb(214,96,77)"
          ],
          [
           0.9,
           "rgb(178,24,43)"
          ],
          [
           1,
           "rgb(103,0,31)"
          ]
         ]
        },
        "height": 600,
        "template": {
         "data": {
          "bar": [
           {
            "error_x": {
             "color": "#f2f5fa"
            },
            "error_y": {
             "color": "#f2f5fa"
            },
            "marker": {
             "line": {
              "color": "rgb(17,17,17)",
              "width": 0.5
             },
             "pattern": {
              "fillmode": "overlay",
              "size": 10,
              "solidity": 0.2
             }
            },
            "type": "bar"
           }
          ],
          "barpolar": [
           {
            "marker": {
             "line": {
              "color": "rgb(17,17,17)",
              "width": 0.5
             },
             "pattern": {
              "fillmode": "overlay",
              "size": 10,
              "solidity": 0.2
             }
            },
            "type": "barpolar"
           }
          ],
          "carpet": [
           {
            "aaxis": {
             "endlinecolor": "#A2B1C6",
             "gridcolor": "#506784",
             "linecolor": "#506784",
             "minorgridcolor": "#506784",
             "startlinecolor": "#A2B1C6"
            },
            "baxis": {
             "endlinecolor": "#A2B1C6",
             "gridcolor": "#506784",
             "linecolor": "#506784",
             "minorgridcolor": "#506784",
             "startlinecolor": "#A2B1C6"
            },
            "type": "carpet"
           }
          ],
          "choropleth": [
           {
            "colorbar": {
             "outlinewidth": 0,
             "ticks": ""
            },
            "type": "choropleth"
           }
          ],
          "contour": [
           {
            "colorbar": {
             "outlinewidth": 0,
             "ticks": ""
            },
            "colorscale": [
             [
              0,
              "#0d0887"
             ],
             [
              0.1111111111111111,
              "#46039f"
             ],
             [
              0.2222222222222222,
              "#7201a8"
             ],
             [
              0.3333333333333333,
              "#9c179e"
             ],
             [
              0.4444444444444444,
              "#bd3786"
             ],
             [
              0.5555555555555556,
              "#d8576b"
             ],
             [
              0.6666666666666666,
              "#ed7953"
             ],
             [
              0.7777777777777778,
              "#fb9f3a"
             ],
             [
              0.8888888888888888,
              "#fdca26"
             ],
             [
              1,
              "#f0f921"
             ]
            ],
            "type": "contour"
           }
          ],
          "contourcarpet": [
           {
            "colorbar": {
             "outlinewidth": 0,
             "ticks": ""
            },
            "type": "contourcarpet"
           }
          ],
          "heatmap": [
           {
            "colorbar": {
             "outlinewidth": 0,
             "ticks": ""
            },
            "colorscale": [
             [
              0,
              "#0d0887"
             ],
             [
              0.1111111111111111,
              "#46039f"
             ],
             [
              0.2222222222222222,
              "#7201a8"
             ],
             [
              0.3333333333333333,
              "#9c179e"
             ],
             [
              0.4444444444444444,
              "#bd3786"
             ],
             [
              0.5555555555555556,
              "#d8576b"
             ],
             [
              0.6666666666666666,
              "#ed7953"
             ],
             [
              0.7777777777777778,
              "#fb9f3a"
             ],
             [
              0.8888888888888888,
              "#fdca26"
             ],
             [
              1,
              "#f0f921"
             ]
            ],
            "type": "heatmap"
           }
          ],
          "heatmapgl": [
           {
            "colorbar": {
             "outlinewidth": 0,
             "ticks": ""
            },
            "colorscale": [
             [
              0,
              "#0d0887"
             ],
             [
              0.1111111111111111,
              "#46039f"
             ],
             [
              0.2222222222222222,
              "#7201a8"
             ],
             [
              0.3333333333333333,
              "#9c179e"
             ],
             [
              0.4444444444444444,
              "#bd3786"
             ],
             [
              0.5555555555555556,
              "#d8576b"
             ],
             [
              0.6666666666666666,
              "#ed7953"
             ],
             [
              0.7777777777777778,
              "#fb9f3a"
             ],
             [
              0.8888888888888888,
              "#fdca26"
             ],
             [
              1,
              "#f0f921"
             ]
            ],
            "type": "heatmapgl"
           }
          ],
          "histogram": [
           {
            "marker": {
             "pattern": {
              "fillmode": "overlay",
              "size": 10,
              "solidity": 0.2
             }
            },
            "type": "histogram"
           }
          ],
          "histogram2d": [
           {
            "colorbar": {
             "outlinewidth": 0,
             "ticks": ""
            },
            "colorscale": [
             [
              0,
              "#0d0887"
             ],
             [
              0.1111111111111111,
              "#46039f"
             ],
             [
              0.2222222222222222,
              "#7201a8"
             ],
             [
              0.3333333333333333,
              "#9c179e"
             ],
             [
              0.4444444444444444,
              "#bd3786"
             ],
             [
              0.5555555555555556,
              "#d8576b"
             ],
             [
              0.6666666666666666,
              "#ed7953"
             ],
             [
              0.7777777777777778,
              "#fb9f3a"
             ],
             [
              0.8888888888888888,
              "#fdca26"
             ],
             [
              1,
              "#f0f921"
             ]
            ],
            "type": "histogram2d"
           }
          ],
          "histogram2dcontour": [
           {
            "colorbar": {
             "outlinewidth": 0,
             "ticks": ""
            },
            "colorscale": [
             [
              0,
              "#0d0887"
             ],
             [
              0.1111111111111111,
              "#46039f"
             ],
             [
              0.2222222222222222,
              "#7201a8"
             ],
             [
              0.3333333333333333,
              "#9c179e"
             ],
             [
              0.4444444444444444,
              "#bd3786"
             ],
             [
              0.5555555555555556,
              "#d8576b"
             ],
             [
              0.6666666666666666,
              "#ed7953"
             ],
             [
              0.7777777777777778,
              "#fb9f3a"
             ],
             [
              0.8888888888888888,
              "#fdca26"
             ],
             [
              1,
              "#f0f921"
             ]
            ],
            "type": "histogram2dcontour"
           }
          ],
          "mesh3d": [
           {
            "colorbar": {
             "outlinewidth": 0,
             "ticks": ""
            },
            "type": "mesh3d"
           }
          ],
          "parcoords": [
           {
            "line": {
             "colorbar": {
              "outlinewidth": 0,
              "ticks": ""
             }
            },
            "type": "parcoords"
           }
          ],
          "pie": [
           {
            "automargin": true,
            "type": "pie"
           }
          ],
          "scatter": [
           {
            "marker": {
             "line": {
              "color": "#283442"
             }
            },
            "type": "scatter"
           }
          ],
          "scatter3d": [
           {
            "line": {
             "colorbar": {
              "outlinewidth": 0,
              "ticks": ""
             }
            },
            "marker": {
             "colorbar": {
              "outlinewidth": 0,
              "ticks": ""
             }
            },
            "type": "scatter3d"
           }
          ],
          "scattercarpet": [
           {
            "marker": {
             "colorbar": {
              "outlinewidth": 0,
              "ticks": ""
             }
            },
            "type": "scattercarpet"
           }
          ],
          "scattergeo": [
           {
            "marker": {
             "colorbar": {
              "outlinewidth": 0,
              "ticks": ""
             }
            },
            "type": "scattergeo"
           }
          ],
          "scattergl": [
           {
            "marker": {
             "line": {
              "color": "#283442"
             }
            },
            "type": "scattergl"
           }
          ],
          "scattermapbox": [
           {
            "marker": {
             "colorbar": {
              "outlinewidth": 0,
              "ticks": ""
             }
            },
            "type": "scattermapbox"
           }
          ],
          "scatterpolar": [
           {
            "marker": {
             "colorbar": {
              "outlinewidth": 0,
              "ticks": ""
             }
            },
            "type": "scatterpolar"
           }
          ],
          "scatterpolargl": [
           {
            "marker": {
             "colorbar": {
              "outlinewidth": 0,
              "ticks": ""
             }
            },
            "type": "scatterpolargl"
           }
          ],
          "scatterternary": [
           {
            "marker": {
             "colorbar": {
              "outlinewidth": 0,
              "ticks": ""
             }
            },
            "type": "scatterternary"
           }
          ],
          "surface": [
           {
            "colorbar": {
             "outlinewidth": 0,
             "ticks": ""
            },
            "colorscale": [
             [
              0,
              "#0d0887"
             ],
             [
              0.1111111111111111,
              "#46039f"
             ],
             [
              0.2222222222222222,
              "#7201a8"
             ],
             [
              0.3333333333333333,
              "#9c179e"
             ],
             [
              0.4444444444444444,
              "#bd3786"
             ],
             [
              0.5555555555555556,
              "#d8576b"
             ],
             [
              0.6666666666666666,
              "#ed7953"
             ],
             [
              0.7777777777777778,
              "#fb9f3a"
             ],
             [
              0.8888888888888888,
              "#fdca26"
             ],
             [
              1,
              "#f0f921"
             ]
            ],
            "type": "surface"
           }
          ],
          "table": [
           {
            "cells": {
             "fill": {
              "color": "#506784"
             },
             "line": {
              "color": "rgb(17,17,17)"
             }
            },
            "header": {
             "fill": {
              "color": "#2a3f5f"
             },
             "line": {
              "color": "rgb(17,17,17)"
             }
            },
            "type": "table"
           }
          ]
         },
         "layout": {
          "annotationdefaults": {
           "arrowcolor": "#f2f5fa",
           "arrowhead": 0,
           "arrowwidth": 1
          },
          "autotypenumbers": "strict",
          "coloraxis": {
           "colorbar": {
            "outlinewidth": 0,
            "ticks": ""
           }
          },
          "colorscale": {
           "diverging": [
            [
             0,
             "#8e0152"
            ],
            [
             0.1,
             "#c51b7d"
            ],
            [
             0.2,
             "#de77ae"
            ],
            [
             0.3,
             "#f1b6da"
            ],
            [
             0.4,
             "#fde0ef"
            ],
            [
             0.5,
             "#f7f7f7"
            ],
            [
             0.6,
             "#e6f5d0"
            ],
            [
             0.7,
             "#b8e186"
            ],
            [
             0.8,
             "#7fbc41"
            ],
            [
             0.9,
             "#4d9221"
            ],
            [
             1,
             "#276419"
            ]
           ],
           "sequential": [
            [
             0,
             "#0d0887"
            ],
            [
             0.1111111111111111,
             "#46039f"
            ],
            [
             0.2222222222222222,
             "#7201a8"
            ],
            [
             0.3333333333333333,
             "#9c179e"
            ],
            [
             0.4444444444444444,
             "#bd3786"
            ],
            [
             0.5555555555555556,
             "#d8576b"
            ],
            [
             0.6666666666666666,
             "#ed7953"
            ],
            [
             0.7777777777777778,
             "#fb9f3a"
            ],
            [
             0.8888888888888888,
             "#fdca26"
            ],
            [
             1,
             "#f0f921"
            ]
           ],
           "sequentialminus": [
            [
             0,
             "#0d0887"
            ],
            [
             0.1111111111111111,
             "#46039f"
            ],
            [
             0.2222222222222222,
             "#7201a8"
            ],
            [
             0.3333333333333333,
             "#9c179e"
            ],
            [
             0.4444444444444444,
             "#bd3786"
            ],
            [
             0.5555555555555556,
             "#d8576b"
            ],
            [
             0.6666666666666666,
             "#ed7953"
            ],
            [
             0.7777777777777778,
             "#fb9f3a"
            ],
            [
             0.8888888888888888,
             "#fdca26"
            ],
            [
             1,
             "#f0f921"
            ]
           ]
          },
          "colorway": [
           "#636efa",
           "#EF553B",
           "#00cc96",
           "#ab63fa",
           "#FFA15A",
           "#19d3f3",
           "#FF6692",
           "#B6E880",
           "#FF97FF",
           "#FECB52"
          ],
          "font": {
           "color": "#f2f5fa"
          },
          "geo": {
           "bgcolor": "rgb(17,17,17)",
           "lakecolor": "rgb(17,17,17)",
           "landcolor": "rgb(17,17,17)",
           "showlakes": true,
           "showland": true,
           "subunitcolor": "#506784"
          },
          "hoverlabel": {
           "align": "left"
          },
          "hovermode": "closest",
          "mapbox": {
           "style": "dark"
          },
          "paper_bgcolor": "rgb(17,17,17)",
          "plot_bgcolor": "rgb(17,17,17)",
          "polar": {
           "angularaxis": {
            "gridcolor": "#506784",
            "linecolor": "#506784",
            "ticks": ""
           },
           "bgcolor": "rgb(17,17,17)",
           "radialaxis": {
            "gridcolor": "#506784",
            "linecolor": "#506784",
            "ticks": ""
           }
          },
          "scene": {
           "xaxis": {
            "backgroundcolor": "rgb(17,17,17)",
            "gridcolor": "#506784",
            "gridwidth": 2,
            "linecolor": "#506784",
            "showbackground": true,
            "ticks": "",
            "zerolinecolor": "#C8D4E3"
           },
           "yaxis": {
            "backgroundcolor": "rgb(17,17,17)",
            "gridcolor": "#506784",
            "gridwidth": 2,
            "linecolor": "#506784",
            "showbackground": true,
            "ticks": "",
            "zerolinecolor": "#C8D4E3"
           },
           "zaxis": {
            "backgroundcolor": "rgb(17,17,17)",
            "gridcolor": "#506784",
            "gridwidth": 2,
            "linecolor": "#506784",
            "showbackground": true,
            "ticks": "",
            "zerolinecolor": "#C8D4E3"
           }
          },
          "shapedefaults": {
           "line": {
            "color": "#f2f5fa"
           }
          },
          "sliderdefaults": {
           "bgcolor": "#C8D4E3",
           "bordercolor": "rgb(17,17,17)",
           "borderwidth": 1,
           "tickwidth": 0
          },
          "ternary": {
           "aaxis": {
            "gridcolor": "#506784",
            "linecolor": "#506784",
            "ticks": ""
           },
           "baxis": {
            "gridcolor": "#506784",
            "linecolor": "#506784",
            "ticks": ""
           },
           "bgcolor": "rgb(17,17,17)",
           "caxis": {
            "gridcolor": "#506784",
            "linecolor": "#506784",
            "ticks": ""
           }
          },
          "title": {
           "x": 0.05
          },
          "updatemenudefaults": {
           "bgcolor": "#506784",
           "borderwidth": 0
          },
          "xaxis": {
           "automargin": true,
           "gridcolor": "#283442",
           "linecolor": "#506784",
           "ticks": "",
           "title": {
            "standoff": 15
           },
           "zerolinecolor": "#283442",
           "zerolinewidth": 2
          },
          "yaxis": {
           "automargin": true,
           "gridcolor": "#283442",
           "linecolor": "#506784",
           "ticks": "",
           "title": {
            "standoff": 15
           },
           "zerolinecolor": "#283442",
           "zerolinewidth": 2
          }
         }
        },
        "title": {
         "text": "Correlation Heatmap: Target vs Unemployment Variables"
        },
        "width": 1000,
        "xaxis": {
         "anchor": "y",
         "constrain": "domain",
         "domain": [
          0,
          1
         ],
         "scaleanchor": "y"
        },
        "yaxis": {
         "anchor": "x",
         "autorange": "reversed",
         "constrain": "domain",
         "domain": [
          0,
          1
         ]
        }
       }
      }
     },
     "metadata": {},
     "output_type": "display_data"
    }
   ],
   "source": [
    "# Variables to compare\n",
    "variables_to_compare = [\n",
    "    'unemployment_2000', 'unemployment_2014', 'unemployment_2015', 'unemployment_2016',\n",
    "    'unemployment_2017', 'unemployment_2018', 'unemployment_2019', 'unemployment_2020',\n",
    "    'unemployment_2021', 'unemployment_2022', 'unemployment_2023'\n",
    "]\n",
    "\n",
    "# Compute the correlation matrix for 'target' and the selected variables\n",
    "columns_to_use = ['target'] + variables_to_compare\n",
    "df_corr_matrix = df[columns_to_use].corr()\n",
    "\n",
    "# Take the absolute values of the correlation matrix\n",
    "df_corr_matrix_abs = df_corr_matrix.abs()\n",
    "\n",
    "fig = px.imshow(df_corr_matrix_abs, \n",
    "                color_continuous_scale='RdBu_r', \n",
    "                title=\"Correlation Heatmap: Target vs Unemployment Variables\", \n",
    "                template='plotly_dark', \n",
    "                width=1000, \n",
    "                height=600)  \n",
    "\n",
    "fig.show()\n"
   ]
  },
  {
   "cell_type": "code",
   "execution_count": null,
   "metadata": {},
   "outputs": [
    {
     "data": {
      "application/vnd.plotly.v1+json": {
       "config": {
        "plotlyServerURL": "https://plot.ly"
       },
       "data": [
        {
         "coloraxis": "coloraxis",
         "hovertemplate": "x: %{x}<br>y: %{y}<br>color: %{z}<extra></extra>",
         "name": "0",
         "type": "heatmap",
         "x": [
          "target",
          "current_account_balance_1990",
          "current_account_balance_2000",
          "current_account_balance_2014",
          "current_account_balance_2015",
          "current_account_balance_2016",
          "current_account_balance_2017",
          "current_account_balance_2018",
          "current_account_balance_2019",
          "current_account_balance_2020",
          "current_account_balance_2021",
          "current_account_balance_2022",
          "current_account_balance_2023"
         ],
         "xaxis": "x",
         "y": [
          "target",
          "current_account_balance_1990",
          "current_account_balance_2000",
          "current_account_balance_2014",
          "current_account_balance_2015",
          "current_account_balance_2016",
          "current_account_balance_2017",
          "current_account_balance_2018",
          "current_account_balance_2019",
          "current_account_balance_2020",
          "current_account_balance_2021",
          "current_account_balance_2022",
          "current_account_balance_2023"
         ],
         "yaxis": "y",
         "z": [
          [
           1,
           0.16655905940480747,
           0.16657791265033348,
           0.16802662164473814,
           0.1680266242182003,
           0.1680373062777461,
           0.16768622872406808,
           0.1676862292729666,
           0.16894843903095502,
           0.1689466928425791,
           0.1689452950441703,
           0.16894394968768225,
           0.16894280875068304
          ],
          [
           0.16655905940480747,
           1,
           0.9999999921979452,
           0.9999227879931594,
           0.9999227879872263,
           0.9999226892138331,
           0.9998474105854164,
           0.9998474105787387,
           0.9997732969608193,
           0.9997733050668217,
           0.9997733113658342,
           0.9997733172865991,
           0.9997733226687676
          ],
          [
           0.16657791265033348,
           0.9999999921979452,
           1,
           0.9999236672538484,
           0.9999236672479489,
           0.9999235789643564,
           0.9998490274771382,
           0.9998490274704884,
           0.9997756327306225,
           0.999775639850375,
           0.9997756453603984,
           0.9997756505208735,
           0.9997756552534165
          ],
          [
           0.16802662164473814,
           0.9999227879931594,
           0.9999236672538484,
           1,
           0.9999999999999999,
           0.9999999952610227,
           0.9999312294106049,
           0.9999312294085404,
           0.9998635545792403,
           0.9998635538453381,
           0.999863553074258,
           0.999863552186653,
           0.9998635517569144
          ],
          [
           0.1680266242182003,
           0.9999227879872263,
           0.9999236672479489,
           0.9999999999999999,
           1,
           0.999999995261026,
           0.999931229410825,
           0.9999312294087609,
           0.9998635545796754,
           0.9998635538457729,
           0.9998635530746925,
           0.9998635521870873,
           0.9998635517573486
          ],
          [
           0.1680373062777461,
           0.9999226892138331,
           0.9999235789643564,
           0.9999999952610227,
           0.999999995261026,
           1,
           0.9999318912092531,
           0.9999318912071932,
           0.9998648659705711,
           0.9998648643455474,
           0.9998648628615722,
           0.9998648612869813,
           0.9998648602702245
          ],
          [
           0.16768622872406808,
           0.9998474105854164,
           0.9998490274771382,
           0.9999312294106049,
           0.999931229410825,
           0.9999318912092531,
           1,
           1,
           0.9999325434532764,
           0.999932542412795,
           0.9999325413960902,
           0.9999325402658874,
           0.9999325391712992
          ],
          [
           0.1676862292729666,
           0.9998474105787387,
           0.9998490274704884,
           0.9999312294085404,
           0.9999312294087609,
           0.9999318912071932,
           1,
           1,
           0.9999325434527088,
           0.999932542412228,
           0.9999325413955238,
           0.9999325402653216,
           0.9999325391707341
          ],
          [
           0.16894843903095502,
           0.9997732969608193,
           0.9997756327306225,
           0.9998635545792403,
           0.9998635545796754,
           0.9998648659705711,
           0.9999325434532764,
           0.9999325434527088,
           1,
           0.9999999998723107,
           0.9999999995862868,
           0.9999999991560543,
           0.9999999986701792
          ],
          [
           0.1689466928425791,
           0.9997733050668217,
           0.999775639850375,
           0.9998635538453381,
           0.9998635538457729,
           0.9998648643455474,
           0.999932542412795,
           0.999932542412228,
           0.9999999998723107,
           1,
           0.9999999999182793,
           0.9999999996849102,
           0.9999999993666354
          ],
          [
           0.1689452950441703,
           0.9997733113658342,
           0.9997756453603984,
           0.999863553074258,
           0.9998635530746925,
           0.9998648628615722,
           0.9999325413960902,
           0.9999325413955238,
           0.9999999995862868,
           0.9999999999182793,
           1,
           0.999999999924122,
           0.9999999997399269
          ],
          [
           0.16894394968768225,
           0.9997733172865991,
           0.9997756505208735,
           0.999863552186653,
           0.9998635521870873,
           0.9998648612869813,
           0.9999325402658874,
           0.9999325402653216,
           0.9999999991560543,
           0.9999999996849102,
           0.999999999924122,
           1,
           0.9999999999450027
          ],
          [
           0.16894280875068304,
           0.9997733226687676,
           0.9997756552534165,
           0.9998635517569144,
           0.9998635517573486,
           0.9998648602702245,
           0.9999325391712992,
           0.9999325391707341,
           0.9999999986701792,
           0.9999999993666354,
           0.9999999997399269,
           0.9999999999450027,
           1
          ]
         ]
        }
       ],
       "layout": {
        "coloraxis": {
         "colorscale": [
          [
           0,
           "rgb(5,48,97)"
          ],
          [
           0.1,
           "rgb(33,102,172)"
          ],
          [
           0.2,
           "rgb(67,147,195)"
          ],
          [
           0.3,
           "rgb(146,197,222)"
          ],
          [
           0.4,
           "rgb(209,229,240)"
          ],
          [
           0.5,
           "rgb(247,247,247)"
          ],
          [
           0.6,
           "rgb(253,219,199)"
          ],
          [
           0.7,
           "rgb(244,165,130)"
          ],
          [
           0.8,
           "rgb(214,96,77)"
          ],
          [
           0.9,
           "rgb(178,24,43)"
          ],
          [
           1,
           "rgb(103,0,31)"
          ]
         ]
        },
        "height": 600,
        "template": {
         "data": {
          "bar": [
           {
            "error_x": {
             "color": "#f2f5fa"
            },
            "error_y": {
             "color": "#f2f5fa"
            },
            "marker": {
             "line": {
              "color": "rgb(17,17,17)",
              "width": 0.5
             },
             "pattern": {
              "fillmode": "overlay",
              "size": 10,
              "solidity": 0.2
             }
            },
            "type": "bar"
           }
          ],
          "barpolar": [
           {
            "marker": {
             "line": {
              "color": "rgb(17,17,17)",
              "width": 0.5
             },
             "pattern": {
              "fillmode": "overlay",
              "size": 10,
              "solidity": 0.2
             }
            },
            "type": "barpolar"
           }
          ],
          "carpet": [
           {
            "aaxis": {
             "endlinecolor": "#A2B1C6",
             "gridcolor": "#506784",
             "linecolor": "#506784",
             "minorgridcolor": "#506784",
             "startlinecolor": "#A2B1C6"
            },
            "baxis": {
             "endlinecolor": "#A2B1C6",
             "gridcolor": "#506784",
             "linecolor": "#506784",
             "minorgridcolor": "#506784",
             "startlinecolor": "#A2B1C6"
            },
            "type": "carpet"
           }
          ],
          "choropleth": [
           {
            "colorbar": {
             "outlinewidth": 0,
             "ticks": ""
            },
            "type": "choropleth"
           }
          ],
          "contour": [
           {
            "colorbar": {
             "outlinewidth": 0,
             "ticks": ""
            },
            "colorscale": [
             [
              0,
              "#0d0887"
             ],
             [
              0.1111111111111111,
              "#46039f"
             ],
             [
              0.2222222222222222,
              "#7201a8"
             ],
             [
              0.3333333333333333,
              "#9c179e"
             ],
             [
              0.4444444444444444,
              "#bd3786"
             ],
             [
              0.5555555555555556,
              "#d8576b"
             ],
             [
              0.6666666666666666,
              "#ed7953"
             ],
             [
              0.7777777777777778,
              "#fb9f3a"
             ],
             [
              0.8888888888888888,
              "#fdca26"
             ],
             [
              1,
              "#f0f921"
             ]
            ],
            "type": "contour"
           }
          ],
          "contourcarpet": [
           {
            "colorbar": {
             "outlinewidth": 0,
             "ticks": ""
            },
            "type": "contourcarpet"
           }
          ],
          "heatmap": [
           {
            "colorbar": {
             "outlinewidth": 0,
             "ticks": ""
            },
            "colorscale": [
             [
              0,
              "#0d0887"
             ],
             [
              0.1111111111111111,
              "#46039f"
             ],
             [
              0.2222222222222222,
              "#7201a8"
             ],
             [
              0.3333333333333333,
              "#9c179e"
             ],
             [
              0.4444444444444444,
              "#bd3786"
             ],
             [
              0.5555555555555556,
              "#d8576b"
             ],
             [
              0.6666666666666666,
              "#ed7953"
             ],
             [
              0.7777777777777778,
              "#fb9f3a"
             ],
             [
              0.8888888888888888,
              "#fdca26"
             ],
             [
              1,
              "#f0f921"
             ]
            ],
            "type": "heatmap"
           }
          ],
          "heatmapgl": [
           {
            "colorbar": {
             "outlinewidth": 0,
             "ticks": ""
            },
            "colorscale": [
             [
              0,
              "#0d0887"
             ],
             [
              0.1111111111111111,
              "#46039f"
             ],
             [
              0.2222222222222222,
              "#7201a8"
             ],
             [
              0.3333333333333333,
              "#9c179e"
             ],
             [
              0.4444444444444444,
              "#bd3786"
             ],
             [
              0.5555555555555556,
              "#d8576b"
             ],
             [
              0.6666666666666666,
              "#ed7953"
             ],
             [
              0.7777777777777778,
              "#fb9f3a"
             ],
             [
              0.8888888888888888,
              "#fdca26"
             ],
             [
              1,
              "#f0f921"
             ]
            ],
            "type": "heatmapgl"
           }
          ],
          "histogram": [
           {
            "marker": {
             "pattern": {
              "fillmode": "overlay",
              "size": 10,
              "solidity": 0.2
             }
            },
            "type": "histogram"
           }
          ],
          "histogram2d": [
           {
            "colorbar": {
             "outlinewidth": 0,
             "ticks": ""
            },
            "colorscale": [
             [
              0,
              "#0d0887"
             ],
             [
              0.1111111111111111,
              "#46039f"
             ],
             [
              0.2222222222222222,
              "#7201a8"
             ],
             [
              0.3333333333333333,
              "#9c179e"
             ],
             [
              0.4444444444444444,
              "#bd3786"
             ],
             [
              0.5555555555555556,
              "#d8576b"
             ],
             [
              0.6666666666666666,
              "#ed7953"
             ],
             [
              0.7777777777777778,
              "#fb9f3a"
             ],
             [
              0.8888888888888888,
              "#fdca26"
             ],
             [
              1,
              "#f0f921"
             ]
            ],
            "type": "histogram2d"
           }
          ],
          "histogram2dcontour": [
           {
            "colorbar": {
             "outlinewidth": 0,
             "ticks": ""
            },
            "colorscale": [
             [
              0,
              "#0d0887"
             ],
             [
              0.1111111111111111,
              "#46039f"
             ],
             [
              0.2222222222222222,
              "#7201a8"
             ],
             [
              0.3333333333333333,
              "#9c179e"
             ],
             [
              0.4444444444444444,
              "#bd3786"
             ],
             [
              0.5555555555555556,
              "#d8576b"
             ],
             [
              0.6666666666666666,
              "#ed7953"
             ],
             [
              0.7777777777777778,
              "#fb9f3a"
             ],
             [
              0.8888888888888888,
              "#fdca26"
             ],
             [
              1,
              "#f0f921"
             ]
            ],
            "type": "histogram2dcontour"
           }
          ],
          "mesh3d": [
           {
            "colorbar": {
             "outlinewidth": 0,
             "ticks": ""
            },
            "type": "mesh3d"
           }
          ],
          "parcoords": [
           {
            "line": {
             "colorbar": {
              "outlinewidth": 0,
              "ticks": ""
             }
            },
            "type": "parcoords"
           }
          ],
          "pie": [
           {
            "automargin": true,
            "type": "pie"
           }
          ],
          "scatter": [
           {
            "marker": {
             "line": {
              "color": "#283442"
             }
            },
            "type": "scatter"
           }
          ],
          "scatter3d": [
           {
            "line": {
             "colorbar": {
              "outlinewidth": 0,
              "ticks": ""
             }
            },
            "marker": {
             "colorbar": {
              "outlinewidth": 0,
              "ticks": ""
             }
            },
            "type": "scatter3d"
           }
          ],
          "scattercarpet": [
           {
            "marker": {
             "colorbar": {
              "outlinewidth": 0,
              "ticks": ""
             }
            },
            "type": "scattercarpet"
           }
          ],
          "scattergeo": [
           {
            "marker": {
             "colorbar": {
              "outlinewidth": 0,
              "ticks": ""
             }
            },
            "type": "scattergeo"
           }
          ],
          "scattergl": [
           {
            "marker": {
             "line": {
              "color": "#283442"
             }
            },
            "type": "scattergl"
           }
          ],
          "scattermapbox": [
           {
            "marker": {
             "colorbar": {
              "outlinewidth": 0,
              "ticks": ""
             }
            },
            "type": "scattermapbox"
           }
          ],
          "scatterpolar": [
           {
            "marker": {
             "colorbar": {
              "outlinewidth": 0,
              "ticks": ""
             }
            },
            "type": "scatterpolar"
           }
          ],
          "scatterpolargl": [
           {
            "marker": {
             "colorbar": {
              "outlinewidth": 0,
              "ticks": ""
             }
            },
            "type": "scatterpolargl"
           }
          ],
          "scatterternary": [
           {
            "marker": {
             "colorbar": {
              "outlinewidth": 0,
              "ticks": ""
             }
            },
            "type": "scatterternary"
           }
          ],
          "surface": [
           {
            "colorbar": {
             "outlinewidth": 0,
             "ticks": ""
            },
            "colorscale": [
             [
              0,
              "#0d0887"
             ],
             [
              0.1111111111111111,
              "#46039f"
             ],
             [
              0.2222222222222222,
              "#7201a8"
             ],
             [
              0.3333333333333333,
              "#9c179e"
             ],
             [
              0.4444444444444444,
              "#bd3786"
             ],
             [
              0.5555555555555556,
              "#d8576b"
             ],
             [
              0.6666666666666666,
              "#ed7953"
             ],
             [
              0.7777777777777778,
              "#fb9f3a"
             ],
             [
              0.8888888888888888,
              "#fdca26"
             ],
             [
              1,
              "#f0f921"
             ]
            ],
            "type": "surface"
           }
          ],
          "table": [
           {
            "cells": {
             "fill": {
              "color": "#506784"
             },
             "line": {
              "color": "rgb(17,17,17)"
             }
            },
            "header": {
             "fill": {
              "color": "#2a3f5f"
             },
             "line": {
              "color": "rgb(17,17,17)"
             }
            },
            "type": "table"
           }
          ]
         },
         "layout": {
          "annotationdefaults": {
           "arrowcolor": "#f2f5fa",
           "arrowhead": 0,
           "arrowwidth": 1
          },
          "autotypenumbers": "strict",
          "coloraxis": {
           "colorbar": {
            "outlinewidth": 0,
            "ticks": ""
           }
          },
          "colorscale": {
           "diverging": [
            [
             0,
             "#8e0152"
            ],
            [
             0.1,
             "#c51b7d"
            ],
            [
             0.2,
             "#de77ae"
            ],
            [
             0.3,
             "#f1b6da"
            ],
            [
             0.4,
             "#fde0ef"
            ],
            [
             0.5,
             "#f7f7f7"
            ],
            [
             0.6,
             "#e6f5d0"
            ],
            [
             0.7,
             "#b8e186"
            ],
            [
             0.8,
             "#7fbc41"
            ],
            [
             0.9,
             "#4d9221"
            ],
            [
             1,
             "#276419"
            ]
           ],
           "sequential": [
            [
             0,
             "#0d0887"
            ],
            [
             0.1111111111111111,
             "#46039f"
            ],
            [
             0.2222222222222222,
             "#7201a8"
            ],
            [
             0.3333333333333333,
             "#9c179e"
            ],
            [
             0.4444444444444444,
             "#bd3786"
            ],
            [
             0.5555555555555556,
             "#d8576b"
            ],
            [
             0.6666666666666666,
             "#ed7953"
            ],
            [
             0.7777777777777778,
             "#fb9f3a"
            ],
            [
             0.8888888888888888,
             "#fdca26"
            ],
            [
             1,
             "#f0f921"
            ]
           ],
           "sequentialminus": [
            [
             0,
             "#0d0887"
            ],
            [
             0.1111111111111111,
             "#46039f"
            ],
            [
             0.2222222222222222,
             "#7201a8"
            ],
            [
             0.3333333333333333,
             "#9c179e"
            ],
            [
             0.4444444444444444,
             "#bd3786"
            ],
            [
             0.5555555555555556,
             "#d8576b"
            ],
            [
             0.6666666666666666,
             "#ed7953"
            ],
            [
             0.7777777777777778,
             "#fb9f3a"
            ],
            [
             0.8888888888888888,
             "#fdca26"
            ],
            [
             1,
             "#f0f921"
            ]
           ]
          },
          "colorway": [
           "#636efa",
           "#EF553B",
           "#00cc96",
           "#ab63fa",
           "#FFA15A",
           "#19d3f3",
           "#FF6692",
           "#B6E880",
           "#FF97FF",
           "#FECB52"
          ],
          "font": {
           "color": "#f2f5fa"
          },
          "geo": {
           "bgcolor": "rgb(17,17,17)",
           "lakecolor": "rgb(17,17,17)",
           "landcolor": "rgb(17,17,17)",
           "showlakes": true,
           "showland": true,
           "subunitcolor": "#506784"
          },
          "hoverlabel": {
           "align": "left"
          },
          "hovermode": "closest",
          "mapbox": {
           "style": "dark"
          },
          "paper_bgcolor": "rgb(17,17,17)",
          "plot_bgcolor": "rgb(17,17,17)",
          "polar": {
           "angularaxis": {
            "gridcolor": "#506784",
            "linecolor": "#506784",
            "ticks": ""
           },
           "bgcolor": "rgb(17,17,17)",
           "radialaxis": {
            "gridcolor": "#506784",
            "linecolor": "#506784",
            "ticks": ""
           }
          },
          "scene": {
           "xaxis": {
            "backgroundcolor": "rgb(17,17,17)",
            "gridcolor": "#506784",
            "gridwidth": 2,
            "linecolor": "#506784",
            "showbackground": true,
            "ticks": "",
            "zerolinecolor": "#C8D4E3"
           },
           "yaxis": {
            "backgroundcolor": "rgb(17,17,17)",
            "gridcolor": "#506784",
            "gridwidth": 2,
            "linecolor": "#506784",
            "showbackground": true,
            "ticks": "",
            "zerolinecolor": "#C8D4E3"
           },
           "zaxis": {
            "backgroundcolor": "rgb(17,17,17)",
            "gridcolor": "#506784",
            "gridwidth": 2,
            "linecolor": "#506784",
            "showbackground": true,
            "ticks": "",
            "zerolinecolor": "#C8D4E3"
           }
          },
          "shapedefaults": {
           "line": {
            "color": "#f2f5fa"
           }
          },
          "sliderdefaults": {
           "bgcolor": "#C8D4E3",
           "bordercolor": "rgb(17,17,17)",
           "borderwidth": 1,
           "tickwidth": 0
          },
          "ternary": {
           "aaxis": {
            "gridcolor": "#506784",
            "linecolor": "#506784",
            "ticks": ""
           },
           "baxis": {
            "gridcolor": "#506784",
            "linecolor": "#506784",
            "ticks": ""
           },
           "bgcolor": "rgb(17,17,17)",
           "caxis": {
            "gridcolor": "#506784",
            "linecolor": "#506784",
            "ticks": ""
           }
          },
          "title": {
           "x": 0.05
          },
          "updatemenudefaults": {
           "bgcolor": "#506784",
           "borderwidth": 0
          },
          "xaxis": {
           "automargin": true,
           "gridcolor": "#283442",
           "linecolor": "#506784",
           "ticks": "",
           "title": {
            "standoff": 15
           },
           "zerolinecolor": "#283442",
           "zerolinewidth": 2
          },
          "yaxis": {
           "automargin": true,
           "gridcolor": "#283442",
           "linecolor": "#506784",
           "ticks": "",
           "title": {
            "standoff": 15
           },
           "zerolinecolor": "#283442",
           "zerolinewidth": 2
          }
         }
        },
        "title": {
         "text": "Correlation Heatmap: Target vs Current Account Balance Variables"
        },
        "width": 1000,
        "xaxis": {
         "anchor": "y",
         "constrain": "domain",
         "domain": [
          0,
          1
         ],
         "scaleanchor": "y"
        },
        "yaxis": {
         "anchor": "x",
         "autorange": "reversed",
         "constrain": "domain",
         "domain": [
          0,
          1
         ]
        }
       }
      }
     },
     "metadata": {},
     "output_type": "display_data"
    }
   ],
   "source": [
    "# Variables to compare\n",
    "variables_to_compare = ['current_account_balance_1990', 'current_account_balance_2000',\n",
    "       'current_account_balance_2014', 'current_account_balance_2015',\n",
    "       'current_account_balance_2016', 'current_account_balance_2017',\n",
    "       'current_account_balance_2018', 'current_account_balance_2019',\n",
    "       'current_account_balance_2020', 'current_account_balance_2021',\n",
    "       'current_account_balance_2022', 'current_account_balance_2023'\n",
    "]\n",
    "\n",
    "# Compute the correlation matrix for 'target' and the selected variables\n",
    "columns_to_use = ['target'] + variables_to_compare\n",
    "df_corr_matrix = df[columns_to_use].corr()\n",
    "\n",
    "# Take the absolute values of the correlation matrix\n",
    "df_corr_matrix_abs = df_corr_matrix.abs()\n",
    "\n",
    "fig = px.imshow(df_corr_matrix_abs, \n",
    "                color_continuous_scale='RdBu_r', \n",
    "                title=\"Correlation Heatmap: Target vs Current Account Balance Variables\", \n",
    "                template='plotly_dark', \n",
    "                width=1000, \n",
    "                height=600) \n",
    "\n",
    "fig.show()\n"
   ]
  },
  {
   "cell_type": "code",
   "execution_count": 102,
   "metadata": {},
   "outputs": [
    {
     "data": {
      "application/vnd.plotly.v1+json": {
       "config": {
        "plotlyServerURL": "https://plot.ly"
       },
       "data": [
        {
         "coloraxis": "coloraxis",
         "hovertemplate": "x: %{x}<br>y: %{y}<br>color: %{z}<extra></extra>",
         "name": "0",
         "type": "heatmap",
         "x": [
          "target",
          "exchange_rate_usd_1990",
          "exchange_rate_usd_2000",
          "exchange_rate_usd_2014",
          "exchange_rate_usd_2015",
          "exchange_rate_usd_2016",
          "exchange_rate_usd_2017",
          "exchange_rate_usd_2018",
          "exchange_rate_usd_2019",
          "exchange_rate_usd_2020",
          "exchange_rate_usd_2021",
          "exchange_rate_usd_2022",
          "exchange_rate_usd_2023"
         ],
         "xaxis": "x",
         "y": [
          "target",
          "exchange_rate_usd_1990",
          "exchange_rate_usd_2000",
          "exchange_rate_usd_2014",
          "exchange_rate_usd_2015",
          "exchange_rate_usd_2016",
          "exchange_rate_usd_2017",
          "exchange_rate_usd_2018",
          "exchange_rate_usd_2019",
          "exchange_rate_usd_2020",
          "exchange_rate_usd_2021",
          "exchange_rate_usd_2022",
          "exchange_rate_usd_2023"
         ],
         "yaxis": "y",
         "z": [
          [
           1,
           0.16894989811635386,
           0.1676970890242263,
           0.17490119994839334,
           0.1774207206961722,
           0.17866669523532258,
           0.17940987233132327,
           0.17990631577886862,
           0.1802599726655109,
           0.18052469503241142,
           0.180730738503931,
           0.18089588430975334,
           0.1812289287830236
          ],
          [
           0.16894989811635386,
           1,
           0.06292246937117113,
           0.0251187065100314,
           0.012465529283471275,
           0.0061358094944462226,
           0.0023375633475689545,
           0.00019454400156301876,
           0.0020031692615430567,
           0.00335960941835206,
           0.004414579223109853,
           0.005258519844628023,
           0.006092708175758575
          ],
          [
           0.1676970890242263,
           0.06292246937117113,
           1,
           0.9990557291229033,
           0.9983183714183552,
           0.9978696072313824,
           0.9975747471947208,
           0.9973675255474517,
           0.9972142933285131,
           0.9970965177577364,
           0.9970032269276209,
           0.9969275320030373,
           0.9967812451941658
          ],
          [
           0.17490119994839334,
           0.0251187065100314,
           0.9990557291229033,
           1,
           0.9998932522408742,
           0.9997597731786496,
           0.9996540485055487,
           0.9995728896168559,
           0.9995096895998985,
           0.9994594304648534,
           0.9994186465543945,
           0.9993849528562258,
           0.9992739193217871
          ],
          [
           0.1774207206961722,
           0.012465529283471275,
           0.9983183714183552,
           0.9998932522408742,
           1,
           0.9999732961329436,
           0.9999316354151551,
           0.9998931809594392,
           0.9998604820650153,
           0.9998330973792571,
           0.9998101034256013,
           0.9997906406681247,
           0.9996913384908725
          ],
          [
           0.17866669523532258,
           0.0061358094944462226,
           0.9978696072313824,
           0.9997597731786496,
           0.9999732961329436,
           1,
           0.9999903853951169,
           0.999973293434045,
           0.9999558528610953,
           0.9999399114490145,
           0.9999258173140944,
           0.9999134739845691,
           0.9998200474180644
          ],
          [
           0.17940987233132327,
           0.0023375633475689545,
           0.9975747471947208,
           0.9996540485055487,
           0.9999316354151551,
           0.9999903853951169,
           1,
           0.9999957268667427,
           0.9999874423715276,
           0.9999783678106234,
           0.9999696143048502,
           0.9999615432548804,
           0.9998716446886858
          ],
          [
           0.17990631577886862,
           0.00019454400156301876,
           0.9973675255474517,
           0.9995728896168559,
           0.9998931809594392,
           0.999973293434045,
           0.9999957268667427,
           1,
           0.9999978198848586,
           0.9999933235014877,
           0.9999881307584185,
           0.999982908302487,
           0.9998953626271836
          ],
          [
           0.1802599726655109,
           0.0020031692615430567,
           0.9972142933285131,
           0.9995096895998985,
           0.9998604820650153,
           0.9999558528610953,
           0.9999874423715276,
           0.9999978198848586,
           1,
           0.9999987737275112,
           0.999996124382858,
           0.9999929366397304,
           0.9999070720387222
          ],
          [
           0.18052469503241142,
           0.00335960941835206,
           0.9970965177577364,
           0.9994594304648534,
           0.9998330973792571,
           0.9999399114490145,
           0.9999783678106234,
           0.9999933235014877,
           0.9999987737275112,
           1,
           0.9999992581793112,
           0.9999975964539676,
           0.9999129928832309
          ],
          [
           0.180730738503931,
           0.004414579223109853,
           0.9970032269276209,
           0.9994186465543945,
           0.9998101034256013,
           0.9999258173140944,
           0.9999696143048502,
           0.9999881307584185,
           0.999996124382858,
           0.9999992581793112,
           1,
           0.9999995252076584,
           0.9999159025518425
          ],
          [
           0.18089588430975334,
           0.005258519844628023,
           0.9969275320030373,
           0.9993849528562258,
           0.9997906406681247,
           0.9999134739845691,
           0.9999615432548804,
           0.999982908302487,
           0.9999929366397304,
           0.9999975964539676,
           0.9999995252076584,
           1,
           0.9999171621379954
          ],
          [
           0.1812289287830236,
           0.006092708175758575,
           0.9967812451941658,
           0.9992739193217871,
           0.9996913384908725,
           0.9998200474180644,
           0.9998716446886858,
           0.9998953626271836,
           0.9999070720387222,
           0.9999129928832309,
           0.9999159025518425,
           0.9999171621379954,
           1
          ]
         ]
        }
       ],
       "layout": {
        "coloraxis": {
         "colorscale": [
          [
           0,
           "rgb(5,48,97)"
          ],
          [
           0.1,
           "rgb(33,102,172)"
          ],
          [
           0.2,
           "rgb(67,147,195)"
          ],
          [
           0.3,
           "rgb(146,197,222)"
          ],
          [
           0.4,
           "rgb(209,229,240)"
          ],
          [
           0.5,
           "rgb(247,247,247)"
          ],
          [
           0.6,
           "rgb(253,219,199)"
          ],
          [
           0.7,
           "rgb(244,165,130)"
          ],
          [
           0.8,
           "rgb(214,96,77)"
          ],
          [
           0.9,
           "rgb(178,24,43)"
          ],
          [
           1,
           "rgb(103,0,31)"
          ]
         ]
        },
        "height": 600,
        "template": {
         "data": {
          "bar": [
           {
            "error_x": {
             "color": "#f2f5fa"
            },
            "error_y": {
             "color": "#f2f5fa"
            },
            "marker": {
             "line": {
              "color": "rgb(17,17,17)",
              "width": 0.5
             },
             "pattern": {
              "fillmode": "overlay",
              "size": 10,
              "solidity": 0.2
             }
            },
            "type": "bar"
           }
          ],
          "barpolar": [
           {
            "marker": {
             "line": {
              "color": "rgb(17,17,17)",
              "width": 0.5
             },
             "pattern": {
              "fillmode": "overlay",
              "size": 10,
              "solidity": 0.2
             }
            },
            "type": "barpolar"
           }
          ],
          "carpet": [
           {
            "aaxis": {
             "endlinecolor": "#A2B1C6",
             "gridcolor": "#506784",
             "linecolor": "#506784",
             "minorgridcolor": "#506784",
             "startlinecolor": "#A2B1C6"
            },
            "baxis": {
             "endlinecolor": "#A2B1C6",
             "gridcolor": "#506784",
             "linecolor": "#506784",
             "minorgridcolor": "#506784",
             "startlinecolor": "#A2B1C6"
            },
            "type": "carpet"
           }
          ],
          "choropleth": [
           {
            "colorbar": {
             "outlinewidth": 0,
             "ticks": ""
            },
            "type": "choropleth"
           }
          ],
          "contour": [
           {
            "colorbar": {
             "outlinewidth": 0,
             "ticks": ""
            },
            "colorscale": [
             [
              0,
              "#0d0887"
             ],
             [
              0.1111111111111111,
              "#46039f"
             ],
             [
              0.2222222222222222,
              "#7201a8"
             ],
             [
              0.3333333333333333,
              "#9c179e"
             ],
             [
              0.4444444444444444,
              "#bd3786"
             ],
             [
              0.5555555555555556,
              "#d8576b"
             ],
             [
              0.6666666666666666,
              "#ed7953"
             ],
             [
              0.7777777777777778,
              "#fb9f3a"
             ],
             [
              0.8888888888888888,
              "#fdca26"
             ],
             [
              1,
              "#f0f921"
             ]
            ],
            "type": "contour"
           }
          ],
          "contourcarpet": [
           {
            "colorbar": {
             "outlinewidth": 0,
             "ticks": ""
            },
            "type": "contourcarpet"
           }
          ],
          "heatmap": [
           {
            "colorbar": {
             "outlinewidth": 0,
             "ticks": ""
            },
            "colorscale": [
             [
              0,
              "#0d0887"
             ],
             [
              0.1111111111111111,
              "#46039f"
             ],
             [
              0.2222222222222222,
              "#7201a8"
             ],
             [
              0.3333333333333333,
              "#9c179e"
             ],
             [
              0.4444444444444444,
              "#bd3786"
             ],
             [
              0.5555555555555556,
              "#d8576b"
             ],
             [
              0.6666666666666666,
              "#ed7953"
             ],
             [
              0.7777777777777778,
              "#fb9f3a"
             ],
             [
              0.8888888888888888,
              "#fdca26"
             ],
             [
              1,
              "#f0f921"
             ]
            ],
            "type": "heatmap"
           }
          ],
          "heatmapgl": [
           {
            "colorbar": {
             "outlinewidth": 0,
             "ticks": ""
            },
            "colorscale": [
             [
              0,
              "#0d0887"
             ],
             [
              0.1111111111111111,
              "#46039f"
             ],
             [
              0.2222222222222222,
              "#7201a8"
             ],
             [
              0.3333333333333333,
              "#9c179e"
             ],
             [
              0.4444444444444444,
              "#bd3786"
             ],
             [
              0.5555555555555556,
              "#d8576b"
             ],
             [
              0.6666666666666666,
              "#ed7953"
             ],
             [
              0.7777777777777778,
              "#fb9f3a"
             ],
             [
              0.8888888888888888,
              "#fdca26"
             ],
             [
              1,
              "#f0f921"
             ]
            ],
            "type": "heatmapgl"
           }
          ],
          "histogram": [
           {
            "marker": {
             "pattern": {
              "fillmode": "overlay",
              "size": 10,
              "solidity": 0.2
             }
            },
            "type": "histogram"
           }
          ],
          "histogram2d": [
           {
            "colorbar": {
             "outlinewidth": 0,
             "ticks": ""
            },
            "colorscale": [
             [
              0,
              "#0d0887"
             ],
             [
              0.1111111111111111,
              "#46039f"
             ],
             [
              0.2222222222222222,
              "#7201a8"
             ],
             [
              0.3333333333333333,
              "#9c179e"
             ],
             [
              0.4444444444444444,
              "#bd3786"
             ],
             [
              0.5555555555555556,
              "#d8576b"
             ],
             [
              0.6666666666666666,
              "#ed7953"
             ],
             [
              0.7777777777777778,
              "#fb9f3a"
             ],
             [
              0.8888888888888888,
              "#fdca26"
             ],
             [
              1,
              "#f0f921"
             ]
            ],
            "type": "histogram2d"
           }
          ],
          "histogram2dcontour": [
           {
            "colorbar": {
             "outlinewidth": 0,
             "ticks": ""
            },
            "colorscale": [
             [
              0,
              "#0d0887"
             ],
             [
              0.1111111111111111,
              "#46039f"
             ],
             [
              0.2222222222222222,
              "#7201a8"
             ],
             [
              0.3333333333333333,
              "#9c179e"
             ],
             [
              0.4444444444444444,
              "#bd3786"
             ],
             [
              0.5555555555555556,
              "#d8576b"
             ],
             [
              0.6666666666666666,
              "#ed7953"
             ],
             [
              0.7777777777777778,
              "#fb9f3a"
             ],
             [
              0.8888888888888888,
              "#fdca26"
             ],
             [
              1,
              "#f0f921"
             ]
            ],
            "type": "histogram2dcontour"
           }
          ],
          "mesh3d": [
           {
            "colorbar": {
             "outlinewidth": 0,
             "ticks": ""
            },
            "type": "mesh3d"
           }
          ],
          "parcoords": [
           {
            "line": {
             "colorbar": {
              "outlinewidth": 0,
              "ticks": ""
             }
            },
            "type": "parcoords"
           }
          ],
          "pie": [
           {
            "automargin": true,
            "type": "pie"
           }
          ],
          "scatter": [
           {
            "marker": {
             "line": {
              "color": "#283442"
             }
            },
            "type": "scatter"
           }
          ],
          "scatter3d": [
           {
            "line": {
             "colorbar": {
              "outlinewidth": 0,
              "ticks": ""
             }
            },
            "marker": {
             "colorbar": {
              "outlinewidth": 0,
              "ticks": ""
             }
            },
            "type": "scatter3d"
           }
          ],
          "scattercarpet": [
           {
            "marker": {
             "colorbar": {
              "outlinewidth": 0,
              "ticks": ""
             }
            },
            "type": "scattercarpet"
           }
          ],
          "scattergeo": [
           {
            "marker": {
             "colorbar": {
              "outlinewidth": 0,
              "ticks": ""
             }
            },
            "type": "scattergeo"
           }
          ],
          "scattergl": [
           {
            "marker": {
             "line": {
              "color": "#283442"
             }
            },
            "type": "scattergl"
           }
          ],
          "scattermapbox": [
           {
            "marker": {
             "colorbar": {
              "outlinewidth": 0,
              "ticks": ""
             }
            },
            "type": "scattermapbox"
           }
          ],
          "scatterpolar": [
           {
            "marker": {
             "colorbar": {
              "outlinewidth": 0,
              "ticks": ""
             }
            },
            "type": "scatterpolar"
           }
          ],
          "scatterpolargl": [
           {
            "marker": {
             "colorbar": {
              "outlinewidth": 0,
              "ticks": ""
             }
            },
            "type": "scatterpolargl"
           }
          ],
          "scatterternary": [
           {
            "marker": {
             "colorbar": {
              "outlinewidth": 0,
              "ticks": ""
             }
            },
            "type": "scatterternary"
           }
          ],
          "surface": [
           {
            "colorbar": {
             "outlinewidth": 0,
             "ticks": ""
            },
            "colorscale": [
             [
              0,
              "#0d0887"
             ],
             [
              0.1111111111111111,
              "#46039f"
             ],
             [
              0.2222222222222222,
              "#7201a8"
             ],
             [
              0.3333333333333333,
              "#9c179e"
             ],
             [
              0.4444444444444444,
              "#bd3786"
             ],
             [
              0.5555555555555556,
              "#d8576b"
             ],
             [
              0.6666666666666666,
              "#ed7953"
             ],
             [
              0.7777777777777778,
              "#fb9f3a"
             ],
             [
              0.8888888888888888,
              "#fdca26"
             ],
             [
              1,
              "#f0f921"
             ]
            ],
            "type": "surface"
           }
          ],
          "table": [
           {
            "cells": {
             "fill": {
              "color": "#506784"
             },
             "line": {
              "color": "rgb(17,17,17)"
             }
            },
            "header": {
             "fill": {
              "color": "#2a3f5f"
             },
             "line": {
              "color": "rgb(17,17,17)"
             }
            },
            "type": "table"
           }
          ]
         },
         "layout": {
          "annotationdefaults": {
           "arrowcolor": "#f2f5fa",
           "arrowhead": 0,
           "arrowwidth": 1
          },
          "autotypenumbers": "strict",
          "coloraxis": {
           "colorbar": {
            "outlinewidth": 0,
            "ticks": ""
           }
          },
          "colorscale": {
           "diverging": [
            [
             0,
             "#8e0152"
            ],
            [
             0.1,
             "#c51b7d"
            ],
            [
             0.2,
             "#de77ae"
            ],
            [
             0.3,
             "#f1b6da"
            ],
            [
             0.4,
             "#fde0ef"
            ],
            [
             0.5,
             "#f7f7f7"
            ],
            [
             0.6,
             "#e6f5d0"
            ],
            [
             0.7,
             "#b8e186"
            ],
            [
             0.8,
             "#7fbc41"
            ],
            [
             0.9,
             "#4d9221"
            ],
            [
             1,
             "#276419"
            ]
           ],
           "sequential": [
            [
             0,
             "#0d0887"
            ],
            [
             0.1111111111111111,
             "#46039f"
            ],
            [
             0.2222222222222222,
             "#7201a8"
            ],
            [
             0.3333333333333333,
             "#9c179e"
            ],
            [
             0.4444444444444444,
             "#bd3786"
            ],
            [
             0.5555555555555556,
             "#d8576b"
            ],
            [
             0.6666666666666666,
             "#ed7953"
            ],
            [
             0.7777777777777778,
             "#fb9f3a"
            ],
            [
             0.8888888888888888,
             "#fdca26"
            ],
            [
             1,
             "#f0f921"
            ]
           ],
           "sequentialminus": [
            [
             0,
             "#0d0887"
            ],
            [
             0.1111111111111111,
             "#46039f"
            ],
            [
             0.2222222222222222,
             "#7201a8"
            ],
            [
             0.3333333333333333,
             "#9c179e"
            ],
            [
             0.4444444444444444,
             "#bd3786"
            ],
            [
             0.5555555555555556,
             "#d8576b"
            ],
            [
             0.6666666666666666,
             "#ed7953"
            ],
            [
             0.7777777777777778,
             "#fb9f3a"
            ],
            [
             0.8888888888888888,
             "#fdca26"
            ],
            [
             1,
             "#f0f921"
            ]
           ]
          },
          "colorway": [
           "#636efa",
           "#EF553B",
           "#00cc96",
           "#ab63fa",
           "#FFA15A",
           "#19d3f3",
           "#FF6692",
           "#B6E880",
           "#FF97FF",
           "#FECB52"
          ],
          "font": {
           "color": "#f2f5fa"
          },
          "geo": {
           "bgcolor": "rgb(17,17,17)",
           "lakecolor": "rgb(17,17,17)",
           "landcolor": "rgb(17,17,17)",
           "showlakes": true,
           "showland": true,
           "subunitcolor": "#506784"
          },
          "hoverlabel": {
           "align": "left"
          },
          "hovermode": "closest",
          "mapbox": {
           "style": "dark"
          },
          "paper_bgcolor": "rgb(17,17,17)",
          "plot_bgcolor": "rgb(17,17,17)",
          "polar": {
           "angularaxis": {
            "gridcolor": "#506784",
            "linecolor": "#506784",
            "ticks": ""
           },
           "bgcolor": "rgb(17,17,17)",
           "radialaxis": {
            "gridcolor": "#506784",
            "linecolor": "#506784",
            "ticks": ""
           }
          },
          "scene": {
           "xaxis": {
            "backgroundcolor": "rgb(17,17,17)",
            "gridcolor": "#506784",
            "gridwidth": 2,
            "linecolor": "#506784",
            "showbackground": true,
            "ticks": "",
            "zerolinecolor": "#C8D4E3"
           },
           "yaxis": {
            "backgroundcolor": "rgb(17,17,17)",
            "gridcolor": "#506784",
            "gridwidth": 2,
            "linecolor": "#506784",
            "showbackground": true,
            "ticks": "",
            "zerolinecolor": "#C8D4E3"
           },
           "zaxis": {
            "backgroundcolor": "rgb(17,17,17)",
            "gridcolor": "#506784",
            "gridwidth": 2,
            "linecolor": "#506784",
            "showbackground": true,
            "ticks": "",
            "zerolinecolor": "#C8D4E3"
           }
          },
          "shapedefaults": {
           "line": {
            "color": "#f2f5fa"
           }
          },
          "sliderdefaults": {
           "bgcolor": "#C8D4E3",
           "bordercolor": "rgb(17,17,17)",
           "borderwidth": 1,
           "tickwidth": 0
          },
          "ternary": {
           "aaxis": {
            "gridcolor": "#506784",
            "linecolor": "#506784",
            "ticks": ""
           },
           "baxis": {
            "gridcolor": "#506784",
            "linecolor": "#506784",
            "ticks": ""
           },
           "bgcolor": "rgb(17,17,17)",
           "caxis": {
            "gridcolor": "#506784",
            "linecolor": "#506784",
            "ticks": ""
           }
          },
          "title": {
           "x": 0.05
          },
          "updatemenudefaults": {
           "bgcolor": "#506784",
           "borderwidth": 0
          },
          "xaxis": {
           "automargin": true,
           "gridcolor": "#283442",
           "linecolor": "#506784",
           "ticks": "",
           "title": {
            "standoff": 15
           },
           "zerolinecolor": "#283442",
           "zerolinewidth": 2
          },
          "yaxis": {
           "automargin": true,
           "gridcolor": "#283442",
           "linecolor": "#506784",
           "ticks": "",
           "title": {
            "standoff": 15
           },
           "zerolinecolor": "#283442",
           "zerolinewidth": 2
          }
         }
        },
        "title": {
         "text": "Correlation Heatmap: Target vs Exchange Rate Variables"
        },
        "width": 1000,
        "xaxis": {
         "anchor": "y",
         "constrain": "domain",
         "domain": [
          0,
          1
         ],
         "scaleanchor": "y"
        },
        "yaxis": {
         "anchor": "x",
         "autorange": "reversed",
         "constrain": "domain",
         "domain": [
          0,
          1
         ]
        }
       }
      }
     },
     "metadata": {},
     "output_type": "display_data"
    }
   ],
   "source": [
    "# Variables to compare\n",
    "variables_to_compare = ['exchange_rate_usd_1990', 'exchange_rate_usd_2000',\n",
    "       'exchange_rate_usd_2014', 'exchange_rate_usd_2015',\n",
    "       'exchange_rate_usd_2016', 'exchange_rate_usd_2017',\n",
    "       'exchange_rate_usd_2018', 'exchange_rate_usd_2019',\n",
    "       'exchange_rate_usd_2020', 'exchange_rate_usd_2021',\n",
    "       'exchange_rate_usd_2022', 'exchange_rate_usd_2023',\n",
    "]\n",
    "\n",
    "# Compute the correlation matrix for 'target' and the selected variables\n",
    "columns_to_use = ['target'] + variables_to_compare\n",
    "df_corr_matrix = df[columns_to_use].corr()\n",
    "\n",
    "# Take the absolute values of the correlation matrix\n",
    "df_corr_matrix_abs = df_corr_matrix.abs()\n",
    "\n",
    "fig = px.imshow(df_corr_matrix_abs, \n",
    "                color_continuous_scale='RdBu_r', \n",
    "                title=\"Correlation Heatmap: Target vs Exchange Rate Variables\", \n",
    "                template='plotly_dark', \n",
    "                width=1000,  \n",
    "                height=600)  \n",
    "\n",
    "fig.show()\n"
   ]
  },
  {
   "cell_type": "code",
   "execution_count": null,
   "metadata": {},
   "outputs": [
    {
     "data": {
      "application/vnd.plotly.v1+json": {
       "config": {
        "plotlyServerURL": "https://plot.ly"
       },
       "data": [
        {
         "coloraxis": "coloraxis",
         "hovertemplate": "x: %{x}<br>y: %{y}<br>color: %{z}<extra></extra>",
         "name": "0",
         "type": "heatmap",
         "x": [
          "target",
          "inflation_1990",
          "inflation_2000",
          "inflation_2014",
          "inflation_2015",
          "inflation_2016",
          "inflation_2017",
          "inflation_2018",
          "inflation_2019",
          "inflation_2020",
          "inflation_2021",
          "inflation_2022",
          "inflation_2023"
         ],
         "xaxis": "x",
         "y": [
          "target",
          "inflation_1990",
          "inflation_2000",
          "inflation_2014",
          "inflation_2015",
          "inflation_2016",
          "inflation_2017",
          "inflation_2018",
          "inflation_2019",
          "inflation_2020",
          "inflation_2021",
          "inflation_2022",
          "inflation_2023"
         ],
         "yaxis": "y",
         "z": [
          [
           1,
           0.1280890516803111,
           0.16465274184117243,
           0.19822575970111733,
           0.19963629390581306,
           0.20134127144233488,
           0.20344308339669467,
           0.20608463224301066,
           0.20947788601101514,
           0.21393349963668956,
           0.219799780073664,
           0.2267715832097727,
           0.2296491499984343
          ],
          [
           0.1280890516803111,
           1,
           0.8503651573420611,
           0.7530100680966023,
           0.7525638222990869,
           0.7518517380343025,
           0.7506912782705996,
           0.7487383683700907,
           0.7452821479808692,
           0.7386904567934807,
           0.7246719448681491,
           0.6895727816142566,
           0.5824033650703472
          ],
          [
           0.16465274184117243,
           0.8503651573420611,
           1,
           0.9521164363907392,
           0.9518809161278236,
           0.9513876643338253,
           0.9504394334888807,
           0.948651157077609,
           0.9452097032775733,
           0.9382125403374317,
           0.9225519617823662,
           0.881674537031912,
           0.7503627583758277
          ],
          [
           0.19822575970111733,
           0.7530100680966023,
           0.9521164363907392,
           1,
           0.9999236613106758,
           0.9996174184802344,
           0.9988906968719887,
           0.9973653038869608,
           0.994231882662421,
           0.9875749451962155,
           0.9721951745503873,
           0.9310743535079887,
           0.7923744963131151
          ],
          [
           0.19963629390581306,
           0.7525638222990869,
           0.9518809161278236,
           0.9999236613106758,
           1,
           0.9998828637065681,
           0.9993962751665578,
           0.998185502658375,
           0.9954811824263159,
           0.989441271889851,
           0.9750143626659559,
           0.9355110614515066,
           0.7997991641696585
          ],
          [
           0.20134127144233488,
           0.7518517380343025,
           0.9513876643338253,
           0.9996174184802344,
           0.9998828637065681,
           1,
           0.999810969233932,
           0.9989901759602732,
           0.9968179590793663,
           0.9915436434016313,
           0.9783001054327018,
           0.9408088018032064,
           0.8088268444022729
          ],
          [
           0.20344308339669467,
           0.7506912782705996,
           0.9504394334888807,
           0.9988906968719887,
           0.9993962751665578,
           0.999810969233932,
           1,
           0.999674887733896,
           0.9981793534535783,
           0.9938793803490191,
           0.9821435925361884,
           0.9472208624720838,
           0.8200216892211242
          ],
          [
           0.20608463224301066,
           0.7487383683700907,
           0.948651157077609,
           0.9973653038869608,
           0.998185502658375,
           0.9989901759602732,
           0.999674887733896,
           1,
           0.9993927271935004,
           0.9963729750632052,
           0.9866211820119499,
           0.9550869014091041,
           0.8342327458456681
          ],
          [
           0.20947788601101514,
           0.7452821479808692,
           0.9452097032775733,
           0.994231882662421,
           0.9954811824263159,
           0.9968179590793663,
           0.9981793534535783,
           0.9993927271935004,
           1,
           0.9987329861606933,
           0.9917027949444385,
           0.964832363933957,
           0.8527764601917124
          ],
          [
           0.21393349963668956,
           0.7386904567934807,
           0.9382125403374317,
           0.9875749451962155,
           0.989441271889851,
           0.9915436434016313,
           0.9938793803490191,
           0.9963729750632052,
           0.9987329861606933,
           1,
           0.9969154292715922,
           0.9768381584326591,
           0.8777288997797995
          ],
          [
           0.219799780073664,
           0.7246719448681491,
           0.9225519617823662,
           0.9721951745503873,
           0.9750143626659559,
           0.9783001054327018,
           0.9821435925361884,
           0.9866211820119499,
           0.9917027949444385,
           0.9969154292715922,
           1,
           0.9906188446897604,
           0.9122025344376461
          ],
          [
           0.2267715832097727,
           0.6895727816142566,
           0.881674537031912,
           0.9310743535079887,
           0.9355110614515066,
           0.9408088018032064,
           0.9472208624720838,
           0.9550869014091041,
           0.964832363933957,
           0.9768381584326591,
           0.9906188446897604,
           1,
           0.9587707439431975
          ],
          [
           0.2296491499984343,
           0.5824033650703472,
           0.7503627583758277,
           0.7923744963131151,
           0.7997991641696585,
           0.8088268444022729,
           0.8200216892211242,
           0.8342327458456681,
           0.8527764601917124,
           0.8777288997797995,
           0.9122025344376461,
           0.9587707439431975,
           1
          ]
         ]
        }
       ],
       "layout": {
        "coloraxis": {
         "colorscale": [
          [
           0,
           "rgb(5,48,97)"
          ],
          [
           0.1,
           "rgb(33,102,172)"
          ],
          [
           0.2,
           "rgb(67,147,195)"
          ],
          [
           0.3,
           "rgb(146,197,222)"
          ],
          [
           0.4,
           "rgb(209,229,240)"
          ],
          [
           0.5,
           "rgb(247,247,247)"
          ],
          [
           0.6,
           "rgb(253,219,199)"
          ],
          [
           0.7,
           "rgb(244,165,130)"
          ],
          [
           0.8,
           "rgb(214,96,77)"
          ],
          [
           0.9,
           "rgb(178,24,43)"
          ],
          [
           1,
           "rgb(103,0,31)"
          ]
         ]
        },
        "height": 600,
        "template": {
         "data": {
          "bar": [
           {
            "error_x": {
             "color": "#f2f5fa"
            },
            "error_y": {
             "color": "#f2f5fa"
            },
            "marker": {
             "line": {
              "color": "rgb(17,17,17)",
              "width": 0.5
             },
             "pattern": {
              "fillmode": "overlay",
              "size": 10,
              "solidity": 0.2
             }
            },
            "type": "bar"
           }
          ],
          "barpolar": [
           {
            "marker": {
             "line": {
              "color": "rgb(17,17,17)",
              "width": 0.5
             },
             "pattern": {
              "fillmode": "overlay",
              "size": 10,
              "solidity": 0.2
             }
            },
            "type": "barpolar"
           }
          ],
          "carpet": [
           {
            "aaxis": {
             "endlinecolor": "#A2B1C6",
             "gridcolor": "#506784",
             "linecolor": "#506784",
             "minorgridcolor": "#506784",
             "startlinecolor": "#A2B1C6"
            },
            "baxis": {
             "endlinecolor": "#A2B1C6",
             "gridcolor": "#506784",
             "linecolor": "#506784",
             "minorgridcolor": "#506784",
             "startlinecolor": "#A2B1C6"
            },
            "type": "carpet"
           }
          ],
          "choropleth": [
           {
            "colorbar": {
             "outlinewidth": 0,
             "ticks": ""
            },
            "type": "choropleth"
           }
          ],
          "contour": [
           {
            "colorbar": {
             "outlinewidth": 0,
             "ticks": ""
            },
            "colorscale": [
             [
              0,
              "#0d0887"
             ],
             [
              0.1111111111111111,
              "#46039f"
             ],
             [
              0.2222222222222222,
              "#7201a8"
             ],
             [
              0.3333333333333333,
              "#9c179e"
             ],
             [
              0.4444444444444444,
              "#bd3786"
             ],
             [
              0.5555555555555556,
              "#d8576b"
             ],
             [
              0.6666666666666666,
              "#ed7953"
             ],
             [
              0.7777777777777778,
              "#fb9f3a"
             ],
             [
              0.8888888888888888,
              "#fdca26"
             ],
             [
              1,
              "#f0f921"
             ]
            ],
            "type": "contour"
           }
          ],
          "contourcarpet": [
           {
            "colorbar": {
             "outlinewidth": 0,
             "ticks": ""
            },
            "type": "contourcarpet"
           }
          ],
          "heatmap": [
           {
            "colorbar": {
             "outlinewidth": 0,
             "ticks": ""
            },
            "colorscale": [
             [
              0,
              "#0d0887"
             ],
             [
              0.1111111111111111,
              "#46039f"
             ],
             [
              0.2222222222222222,
              "#7201a8"
             ],
             [
              0.3333333333333333,
              "#9c179e"
             ],
             [
              0.4444444444444444,
              "#bd3786"
             ],
             [
              0.5555555555555556,
              "#d8576b"
             ],
             [
              0.6666666666666666,
              "#ed7953"
             ],
             [
              0.7777777777777778,
              "#fb9f3a"
             ],
             [
              0.8888888888888888,
              "#fdca26"
             ],
             [
              1,
              "#f0f921"
             ]
            ],
            "type": "heatmap"
           }
          ],
          "heatmapgl": [
           {
            "colorbar": {
             "outlinewidth": 0,
             "ticks": ""
            },
            "colorscale": [
             [
              0,
              "#0d0887"
             ],
             [
              0.1111111111111111,
              "#46039f"
             ],
             [
              0.2222222222222222,
              "#7201a8"
             ],
             [
              0.3333333333333333,
              "#9c179e"
             ],
             [
              0.4444444444444444,
              "#bd3786"
             ],
             [
              0.5555555555555556,
              "#d8576b"
             ],
             [
              0.6666666666666666,
              "#ed7953"
             ],
             [
              0.7777777777777778,
              "#fb9f3a"
             ],
             [
              0.8888888888888888,
              "#fdca26"
             ],
             [
              1,
              "#f0f921"
             ]
            ],
            "type": "heatmapgl"
           }
          ],
          "histogram": [
           {
            "marker": {
             "pattern": {
              "fillmode": "overlay",
              "size": 10,
              "solidity": 0.2
             }
            },
            "type": "histogram"
           }
          ],
          "histogram2d": [
           {
            "colorbar": {
             "outlinewidth": 0,
             "ticks": ""
            },
            "colorscale": [
             [
              0,
              "#0d0887"
             ],
             [
              0.1111111111111111,
              "#46039f"
             ],
             [
              0.2222222222222222,
              "#7201a8"
             ],
             [
              0.3333333333333333,
              "#9c179e"
             ],
             [
              0.4444444444444444,
              "#bd3786"
             ],
             [
              0.5555555555555556,
              "#d8576b"
             ],
             [
              0.6666666666666666,
              "#ed7953"
             ],
             [
              0.7777777777777778,
              "#fb9f3a"
             ],
             [
              0.8888888888888888,
              "#fdca26"
             ],
             [
              1,
              "#f0f921"
             ]
            ],
            "type": "histogram2d"
           }
          ],
          "histogram2dcontour": [
           {
            "colorbar": {
             "outlinewidth": 0,
             "ticks": ""
            },
            "colorscale": [
             [
              0,
              "#0d0887"
             ],
             [
              0.1111111111111111,
              "#46039f"
             ],
             [
              0.2222222222222222,
              "#7201a8"
             ],
             [
              0.3333333333333333,
              "#9c179e"
             ],
             [
              0.4444444444444444,
              "#bd3786"
             ],
             [
              0.5555555555555556,
              "#d8576b"
             ],
             [
              0.6666666666666666,
              "#ed7953"
             ],
             [
              0.7777777777777778,
              "#fb9f3a"
             ],
             [
              0.8888888888888888,
              "#fdca26"
             ],
             [
              1,
              "#f0f921"
             ]
            ],
            "type": "histogram2dcontour"
           }
          ],
          "mesh3d": [
           {
            "colorbar": {
             "outlinewidth": 0,
             "ticks": ""
            },
            "type": "mesh3d"
           }
          ],
          "parcoords": [
           {
            "line": {
             "colorbar": {
              "outlinewidth": 0,
              "ticks": ""
             }
            },
            "type": "parcoords"
           }
          ],
          "pie": [
           {
            "automargin": true,
            "type": "pie"
           }
          ],
          "scatter": [
           {
            "marker": {
             "line": {
              "color": "#283442"
             }
            },
            "type": "scatter"
           }
          ],
          "scatter3d": [
           {
            "line": {
             "colorbar": {
              "outlinewidth": 0,
              "ticks": ""
             }
            },
            "marker": {
             "colorbar": {
              "outlinewidth": 0,
              "ticks": ""
             }
            },
            "type": "scatter3d"
           }
          ],
          "scattercarpet": [
           {
            "marker": {
             "colorbar": {
              "outlinewidth": 0,
              "ticks": ""
             }
            },
            "type": "scattercarpet"
           }
          ],
          "scattergeo": [
           {
            "marker": {
             "colorbar": {
              "outlinewidth": 0,
              "ticks": ""
             }
            },
            "type": "scattergeo"
           }
          ],
          "scattergl": [
           {
            "marker": {
             "line": {
              "color": "#283442"
             }
            },
            "type": "scattergl"
           }
          ],
          "scattermapbox": [
           {
            "marker": {
             "colorbar": {
              "outlinewidth": 0,
              "ticks": ""
             }
            },
            "type": "scattermapbox"
           }
          ],
          "scatterpolar": [
           {
            "marker": {
             "colorbar": {
              "outlinewidth": 0,
              "ticks": ""
             }
            },
            "type": "scatterpolar"
           }
          ],
          "scatterpolargl": [
           {
            "marker": {
             "colorbar": {
              "outlinewidth": 0,
              "ticks": ""
             }
            },
            "type": "scatterpolargl"
           }
          ],
          "scatterternary": [
           {
            "marker": {
             "colorbar": {
              "outlinewidth": 0,
              "ticks": ""
             }
            },
            "type": "scatterternary"
           }
          ],
          "surface": [
           {
            "colorbar": {
             "outlinewidth": 0,
             "ticks": ""
            },
            "colorscale": [
             [
              0,
              "#0d0887"
             ],
             [
              0.1111111111111111,
              "#46039f"
             ],
             [
              0.2222222222222222,
              "#7201a8"
             ],
             [
              0.3333333333333333,
              "#9c179e"
             ],
             [
              0.4444444444444444,
              "#bd3786"
             ],
             [
              0.5555555555555556,
              "#d8576b"
             ],
             [
              0.6666666666666666,
              "#ed7953"
             ],
             [
              0.7777777777777778,
              "#fb9f3a"
             ],
             [
              0.8888888888888888,
              "#fdca26"
             ],
             [
              1,
              "#f0f921"
             ]
            ],
            "type": "surface"
           }
          ],
          "table": [
           {
            "cells": {
             "fill": {
              "color": "#506784"
             },
             "line": {
              "color": "rgb(17,17,17)"
             }
            },
            "header": {
             "fill": {
              "color": "#2a3f5f"
             },
             "line": {
              "color": "rgb(17,17,17)"
             }
            },
            "type": "table"
           }
          ]
         },
         "layout": {
          "annotationdefaults": {
           "arrowcolor": "#f2f5fa",
           "arrowhead": 0,
           "arrowwidth": 1
          },
          "autotypenumbers": "strict",
          "coloraxis": {
           "colorbar": {
            "outlinewidth": 0,
            "ticks": ""
           }
          },
          "colorscale": {
           "diverging": [
            [
             0,
             "#8e0152"
            ],
            [
             0.1,
             "#c51b7d"
            ],
            [
             0.2,
             "#de77ae"
            ],
            [
             0.3,
             "#f1b6da"
            ],
            [
             0.4,
             "#fde0ef"
            ],
            [
             0.5,
             "#f7f7f7"
            ],
            [
             0.6,
             "#e6f5d0"
            ],
            [
             0.7,
             "#b8e186"
            ],
            [
             0.8,
             "#7fbc41"
            ],
            [
             0.9,
             "#4d9221"
            ],
            [
             1,
             "#276419"
            ]
           ],
           "sequential": [
            [
             0,
             "#0d0887"
            ],
            [
             0.1111111111111111,
             "#46039f"
            ],
            [
             0.2222222222222222,
             "#7201a8"
            ],
            [
             0.3333333333333333,
             "#9c179e"
            ],
            [
             0.4444444444444444,
             "#bd3786"
            ],
            [
             0.5555555555555556,
             "#d8576b"
            ],
            [
             0.6666666666666666,
             "#ed7953"
            ],
            [
             0.7777777777777778,
             "#fb9f3a"
            ],
            [
             0.8888888888888888,
             "#fdca26"
            ],
            [
             1,
             "#f0f921"
            ]
           ],
           "sequentialminus": [
            [
             0,
             "#0d0887"
            ],
            [
             0.1111111111111111,
             "#46039f"
            ],
            [
             0.2222222222222222,
             "#7201a8"
            ],
            [
             0.3333333333333333,
             "#9c179e"
            ],
            [
             0.4444444444444444,
             "#bd3786"
            ],
            [
             0.5555555555555556,
             "#d8576b"
            ],
            [
             0.6666666666666666,
             "#ed7953"
            ],
            [
             0.7777777777777778,
             "#fb9f3a"
            ],
            [
             0.8888888888888888,
             "#fdca26"
            ],
            [
             1,
             "#f0f921"
            ]
           ]
          },
          "colorway": [
           "#636efa",
           "#EF553B",
           "#00cc96",
           "#ab63fa",
           "#FFA15A",
           "#19d3f3",
           "#FF6692",
           "#B6E880",
           "#FF97FF",
           "#FECB52"
          ],
          "font": {
           "color": "#f2f5fa"
          },
          "geo": {
           "bgcolor": "rgb(17,17,17)",
           "lakecolor": "rgb(17,17,17)",
           "landcolor": "rgb(17,17,17)",
           "showlakes": true,
           "showland": true,
           "subunitcolor": "#506784"
          },
          "hoverlabel": {
           "align": "left"
          },
          "hovermode": "closest",
          "mapbox": {
           "style": "dark"
          },
          "paper_bgcolor": "rgb(17,17,17)",
          "plot_bgcolor": "rgb(17,17,17)",
          "polar": {
           "angularaxis": {
            "gridcolor": "#506784",
            "linecolor": "#506784",
            "ticks": ""
           },
           "bgcolor": "rgb(17,17,17)",
           "radialaxis": {
            "gridcolor": "#506784",
            "linecolor": "#506784",
            "ticks": ""
           }
          },
          "scene": {
           "xaxis": {
            "backgroundcolor": "rgb(17,17,17)",
            "gridcolor": "#506784",
            "gridwidth": 2,
            "linecolor": "#506784",
            "showbackground": true,
            "ticks": "",
            "zerolinecolor": "#C8D4E3"
           },
           "yaxis": {
            "backgroundcolor": "rgb(17,17,17)",
            "gridcolor": "#506784",
            "gridwidth": 2,
            "linecolor": "#506784",
            "showbackground": true,
            "ticks": "",
            "zerolinecolor": "#C8D4E3"
           },
           "zaxis": {
            "backgroundcolor": "rgb(17,17,17)",
            "gridcolor": "#506784",
            "gridwidth": 2,
            "linecolor": "#506784",
            "showbackground": true,
            "ticks": "",
            "zerolinecolor": "#C8D4E3"
           }
          },
          "shapedefaults": {
           "line": {
            "color": "#f2f5fa"
           }
          },
          "sliderdefaults": {
           "bgcolor": "#C8D4E3",
           "bordercolor": "rgb(17,17,17)",
           "borderwidth": 1,
           "tickwidth": 0
          },
          "ternary": {
           "aaxis": {
            "gridcolor": "#506784",
            "linecolor": "#506784",
            "ticks": ""
           },
           "baxis": {
            "gridcolor": "#506784",
            "linecolor": "#506784",
            "ticks": ""
           },
           "bgcolor": "rgb(17,17,17)",
           "caxis": {
            "gridcolor": "#506784",
            "linecolor": "#506784",
            "ticks": ""
           }
          },
          "title": {
           "x": 0.05
          },
          "updatemenudefaults": {
           "bgcolor": "#506784",
           "borderwidth": 0
          },
          "xaxis": {
           "automargin": true,
           "gridcolor": "#283442",
           "linecolor": "#506784",
           "ticks": "",
           "title": {
            "standoff": 15
           },
           "zerolinecolor": "#283442",
           "zerolinewidth": 2
          },
          "yaxis": {
           "automargin": true,
           "gridcolor": "#283442",
           "linecolor": "#506784",
           "ticks": "",
           "title": {
            "standoff": 15
           },
           "zerolinecolor": "#283442",
           "zerolinewidth": 2
          }
         }
        },
        "title": {
         "text": "Correlation Heatmap: Target vs Inflation Variables"
        },
        "width": 1000,
        "xaxis": {
         "anchor": "y",
         "constrain": "domain",
         "domain": [
          0,
          1
         ],
         "scaleanchor": "y"
        },
        "yaxis": {
         "anchor": "x",
         "autorange": "reversed",
         "constrain": "domain",
         "domain": [
          0,
          1
         ]
        }
       }
      }
     },
     "metadata": {},
     "output_type": "display_data"
    }
   ],
   "source": [
    "# Variables to compare\n",
    "variables_to_compare = ['inflation_1990', 'inflation_2000', 'inflation_2014', 'inflation_2015',\n",
    "       'inflation_2016', 'inflation_2017', 'inflation_2018', 'inflation_2019',\n",
    "       'inflation_2020', 'inflation_2021', 'inflation_2022', 'inflation_2023'\n",
    "]\n",
    "\n",
    "# Compute the correlation matrix for 'target' and the selected variables\n",
    "columns_to_use = ['target'] + variables_to_compare\n",
    "df_corr_matrix = df[columns_to_use].corr()\n",
    "\n",
    "# Take the absolute values of the correlation matrix\n",
    "df_corr_matrix_abs = df_corr_matrix.abs()\n",
    "\n",
    "fig = px.imshow(df_corr_matrix_abs, \n",
    "                color_continuous_scale='RdBu_r', \n",
    "                title=\"Correlation Heatmap: Target vs Inflation Variables\", \n",
    "                template='plotly_dark', \n",
    "                width=1000,  \n",
    "                height=600)  \n",
    "\n",
    "fig.show()\n"
   ]
  },
  {
   "cell_type": "code",
   "execution_count": null,
   "metadata": {},
   "outputs": [
    {
     "data": {
      "application/vnd.plotly.v1+json": {
       "config": {
        "plotlyServerURL": "https://plot.ly"
       },
       "data": [
        {
         "coloraxis": "coloraxis",
         "hovertemplate": "x: %{x}<br>y: %{y}<br>color: %{z}<extra></extra>",
         "name": "0",
         "type": "heatmap",
         "x": [
          "target",
          "gdp_1990",
          "gdp_2000",
          "gdp_2014",
          "gdp_2015",
          "gdp_2016",
          "gdp_2017",
          "gdp_2018",
          "gdp_2019",
          "gdp_2020",
          "gdp_2021",
          "gdp_2022",
          "gdp_2023"
         ],
         "xaxis": "x",
         "y": [
          "target",
          "gdp_1990",
          "gdp_2000",
          "gdp_2014",
          "gdp_2015",
          "gdp_2016",
          "gdp_2017",
          "gdp_2018",
          "gdp_2019",
          "gdp_2020",
          "gdp_2021",
          "gdp_2022",
          "gdp_2023"
         ],
         "yaxis": "y",
         "z": [
          [
           1,
           0.2448150991435443,
           0.22929495644649875,
           0.25762606490047096,
           0.2442317434266826,
           0.24319645172448237,
           0.24229547853530478,
           0.24525315130950792,
           0.24144414380189314,
           0.24069036291555262,
           0.24054250335663158,
           0.23205141843618246,
           0.23062364823850612
          ],
          [
           0.2448150991435443,
           1,
           0.9885559742879798,
           0.8715934128510981,
           0.8551582910259024,
           0.8615815124223315,
           0.8483258812084618,
           0.8335770166152916,
           0.8319785026280097,
           0.8233299191793263,
           0.7966997142835087,
           0.7998200479523072,
           0.8121496958267332
          ],
          [
           0.22929495644649875,
           0.9885559742879798,
           1,
           0.9014651602603,
           0.8922659655817189,
           0.8981208686109661,
           0.8857322426159602,
           0.8720223942544169,
           0.8720859455821135,
           0.8646451133730125,
           0.8398019562703373,
           0.8456147695156484,
           0.8567119667116558
          ],
          [
           0.25762606490047096,
           0.8715934128510981,
           0.9014651602603,
           1,
           0.997978233547497,
           0.9977834996754613,
           0.997234654333931,
           0.9954813854250507,
           0.9946145421373235,
           0.9921896906088528,
           0.9874618811074006,
           0.9870086259709832,
           0.9887361883409291
          ],
          [
           0.2442317434266826,
           0.8551582910259024,
           0.8922659655817189,
           0.997978233547497,
           1,
           0.999598974195599,
           0.9994121916096571,
           0.9984773330864671,
           0.9983715811442819,
           0.9969762670821832,
           0.9932048288521036,
           0.9940199453475668,
           0.9952594399532297
          ],
          [
           0.24319645172448237,
           0.8615815124223315,
           0.8981208686109661,
           0.9977834996754613,
           0.999598974195599,
           1,
           0.9995404254228193,
           0.9982767589216209,
           0.9982377303074896,
           0.9968745996938964,
           0.9923868064934152,
           0.9927609138188825,
           0.9939533421000141
          ],
          [
           0.24229547853530478,
           0.8483258812084618,
           0.8857322426159602,
           0.997234654333931,
           0.9994121916096571,
           0.9995404254228193,
           1,
           0.9993838178310777,
           0.9992856820102367,
           0.9981446441716785,
           0.9949403304198617,
           0.9950267960199097,
           0.9956848661820248
          ],
          [
           0.24525315130950792,
           0.8335770166152916,
           0.8720223942544169,
           0.9954813854250507,
           0.9984773330864671,
           0.9982767589216209,
           0.9993838178310777,
           1,
           0.999861548933592,
           0.9994251776890554,
           0.9976593845246038,
           0.996798489456634,
           0.9965279691894015
          ],
          [
           0.24144414380189314,
           0.8319785026280097,
           0.8720859455821135,
           0.9946145421373235,
           0.9983715811442819,
           0.9982377303074896,
           0.9992856820102367,
           0.999861548933592,
           1,
           0.9996511558690244,
           0.9977890229123573,
           0.9974711828849855,
           0.9972542659369085
          ],
          [
           0.24069036291555262,
           0.8233299191793263,
           0.8646451133730125,
           0.9921896906088528,
           0.9969762670821832,
           0.9968745996938964,
           0.9981446441716785,
           0.9994251776890554,
           0.9996511558690244,
           1,
           0.9987849339219658,
           0.9978856465855217,
           0.9970552157885689
          ],
          [
           0.24054250335663158,
           0.7966997142835087,
           0.8398019562703373,
           0.9874618811074006,
           0.9932048288521036,
           0.9923868064934152,
           0.9949403304198617,
           0.9976593845246038,
           0.9977890229123573,
           0.9987849339219658,
           1,
           0.9982776077389002,
           0.9962880862728907
          ],
          [
           0.23205141843618246,
           0.7998200479523072,
           0.8456147695156484,
           0.9870086259709832,
           0.9940199453475668,
           0.9927609138188825,
           0.9950267960199097,
           0.996798489456634,
           0.9974711828849855,
           0.9978856465855217,
           0.9982776077389002,
           1,
           0.999356020914365
          ],
          [
           0.23062364823850612,
           0.8121496958267332,
           0.8567119667116558,
           0.9887361883409291,
           0.9952594399532297,
           0.9939533421000141,
           0.9956848661820248,
           0.9965279691894015,
           0.9972542659369085,
           0.9970552157885689,
           0.9962880862728907,
           0.999356020914365,
           1
          ]
         ]
        }
       ],
       "layout": {
        "coloraxis": {
         "colorscale": [
          [
           0,
           "rgb(5,48,97)"
          ],
          [
           0.1,
           "rgb(33,102,172)"
          ],
          [
           0.2,
           "rgb(67,147,195)"
          ],
          [
           0.3,
           "rgb(146,197,222)"
          ],
          [
           0.4,
           "rgb(209,229,240)"
          ],
          [
           0.5,
           "rgb(247,247,247)"
          ],
          [
           0.6,
           "rgb(253,219,199)"
          ],
          [
           0.7,
           "rgb(244,165,130)"
          ],
          [
           0.8,
           "rgb(214,96,77)"
          ],
          [
           0.9,
           "rgb(178,24,43)"
          ],
          [
           1,
           "rgb(103,0,31)"
          ]
         ]
        },
        "height": 600,
        "template": {
         "data": {
          "bar": [
           {
            "error_x": {
             "color": "#f2f5fa"
            },
            "error_y": {
             "color": "#f2f5fa"
            },
            "marker": {
             "line": {
              "color": "rgb(17,17,17)",
              "width": 0.5
             },
             "pattern": {
              "fillmode": "overlay",
              "size": 10,
              "solidity": 0.2
             }
            },
            "type": "bar"
           }
          ],
          "barpolar": [
           {
            "marker": {
             "line": {
              "color": "rgb(17,17,17)",
              "width": 0.5
             },
             "pattern": {
              "fillmode": "overlay",
              "size": 10,
              "solidity": 0.2
             }
            },
            "type": "barpolar"
           }
          ],
          "carpet": [
           {
            "aaxis": {
             "endlinecolor": "#A2B1C6",
             "gridcolor": "#506784",
             "linecolor": "#506784",
             "minorgridcolor": "#506784",
             "startlinecolor": "#A2B1C6"
            },
            "baxis": {
             "endlinecolor": "#A2B1C6",
             "gridcolor": "#506784",
             "linecolor": "#506784",
             "minorgridcolor": "#506784",
             "startlinecolor": "#A2B1C6"
            },
            "type": "carpet"
           }
          ],
          "choropleth": [
           {
            "colorbar": {
             "outlinewidth": 0,
             "ticks": ""
            },
            "type": "choropleth"
           }
          ],
          "contour": [
           {
            "colorbar": {
             "outlinewidth": 0,
             "ticks": ""
            },
            "colorscale": [
             [
              0,
              "#0d0887"
             ],
             [
              0.1111111111111111,
              "#46039f"
             ],
             [
              0.2222222222222222,
              "#7201a8"
             ],
             [
              0.3333333333333333,
              "#9c179e"
             ],
             [
              0.4444444444444444,
              "#bd3786"
             ],
             [
              0.5555555555555556,
              "#d8576b"
             ],
             [
              0.6666666666666666,
              "#ed7953"
             ],
             [
              0.7777777777777778,
              "#fb9f3a"
             ],
             [
              0.8888888888888888,
              "#fdca26"
             ],
             [
              1,
              "#f0f921"
             ]
            ],
            "type": "contour"
           }
          ],
          "contourcarpet": [
           {
            "colorbar": {
             "outlinewidth": 0,
             "ticks": ""
            },
            "type": "contourcarpet"
           }
          ],
          "heatmap": [
           {
            "colorbar": {
             "outlinewidth": 0,
             "ticks": ""
            },
            "colorscale": [
             [
              0,
              "#0d0887"
             ],
             [
              0.1111111111111111,
              "#46039f"
             ],
             [
              0.2222222222222222,
              "#7201a8"
             ],
             [
              0.3333333333333333,
              "#9c179e"
             ],
             [
              0.4444444444444444,
              "#bd3786"
             ],
             [
              0.5555555555555556,
              "#d8576b"
             ],
             [
              0.6666666666666666,
              "#ed7953"
             ],
             [
              0.7777777777777778,
              "#fb9f3a"
             ],
             [
              0.8888888888888888,
              "#fdca26"
             ],
             [
              1,
              "#f0f921"
             ]
            ],
            "type": "heatmap"
           }
          ],
          "heatmapgl": [
           {
            "colorbar": {
             "outlinewidth": 0,
             "ticks": ""
            },
            "colorscale": [
             [
              0,
              "#0d0887"
             ],
             [
              0.1111111111111111,
              "#46039f"
             ],
             [
              0.2222222222222222,
              "#7201a8"
             ],
             [
              0.3333333333333333,
              "#9c179e"
             ],
             [
              0.4444444444444444,
              "#bd3786"
             ],
             [
              0.5555555555555556,
              "#d8576b"
             ],
             [
              0.6666666666666666,
              "#ed7953"
             ],
             [
              0.7777777777777778,
              "#fb9f3a"
             ],
             [
              0.8888888888888888,
              "#fdca26"
             ],
             [
              1,
              "#f0f921"
             ]
            ],
            "type": "heatmapgl"
           }
          ],
          "histogram": [
           {
            "marker": {
             "pattern": {
              "fillmode": "overlay",
              "size": 10,
              "solidity": 0.2
             }
            },
            "type": "histogram"
           }
          ],
          "histogram2d": [
           {
            "colorbar": {
             "outlinewidth": 0,
             "ticks": ""
            },
            "colorscale": [
             [
              0,
              "#0d0887"
             ],
             [
              0.1111111111111111,
              "#46039f"
             ],
             [
              0.2222222222222222,
              "#7201a8"
             ],
             [
              0.3333333333333333,
              "#9c179e"
             ],
             [
              0.4444444444444444,
              "#bd3786"
             ],
             [
              0.5555555555555556,
              "#d8576b"
             ],
             [
              0.6666666666666666,
              "#ed7953"
             ],
             [
              0.7777777777777778,
              "#fb9f3a"
             ],
             [
              0.8888888888888888,
              "#fdca26"
             ],
             [
              1,
              "#f0f921"
             ]
            ],
            "type": "histogram2d"
           }
          ],
          "histogram2dcontour": [
           {
            "colorbar": {
             "outlinewidth": 0,
             "ticks": ""
            },
            "colorscale": [
             [
              0,
              "#0d0887"
             ],
             [
              0.1111111111111111,
              "#46039f"
             ],
             [
              0.2222222222222222,
              "#7201a8"
             ],
             [
              0.3333333333333333,
              "#9c179e"
             ],
             [
              0.4444444444444444,
              "#bd3786"
             ],
             [
              0.5555555555555556,
              "#d8576b"
             ],
             [
              0.6666666666666666,
              "#ed7953"
             ],
             [
              0.7777777777777778,
              "#fb9f3a"
             ],
             [
              0.8888888888888888,
              "#fdca26"
             ],
             [
              1,
              "#f0f921"
             ]
            ],
            "type": "histogram2dcontour"
           }
          ],
          "mesh3d": [
           {
            "colorbar": {
             "outlinewidth": 0,
             "ticks": ""
            },
            "type": "mesh3d"
           }
          ],
          "parcoords": [
           {
            "line": {
             "colorbar": {
              "outlinewidth": 0,
              "ticks": ""
             }
            },
            "type": "parcoords"
           }
          ],
          "pie": [
           {
            "automargin": true,
            "type": "pie"
           }
          ],
          "scatter": [
           {
            "marker": {
             "line": {
              "color": "#283442"
             }
            },
            "type": "scatter"
           }
          ],
          "scatter3d": [
           {
            "line": {
             "colorbar": {
              "outlinewidth": 0,
              "ticks": ""
             }
            },
            "marker": {
             "colorbar": {
              "outlinewidth": 0,
              "ticks": ""
             }
            },
            "type": "scatter3d"
           }
          ],
          "scattercarpet": [
           {
            "marker": {
             "colorbar": {
              "outlinewidth": 0,
              "ticks": ""
             }
            },
            "type": "scattercarpet"
           }
          ],
          "scattergeo": [
           {
            "marker": {
             "colorbar": {
              "outlinewidth": 0,
              "ticks": ""
             }
            },
            "type": "scattergeo"
           }
          ],
          "scattergl": [
           {
            "marker": {
             "line": {
              "color": "#283442"
             }
            },
            "type": "scattergl"
           }
          ],
          "scattermapbox": [
           {
            "marker": {
             "colorbar": {
              "outlinewidth": 0,
              "ticks": ""
             }
            },
            "type": "scattermapbox"
           }
          ],
          "scatterpolar": [
           {
            "marker": {
             "colorbar": {
              "outlinewidth": 0,
              "ticks": ""
             }
            },
            "type": "scatterpolar"
           }
          ],
          "scatterpolargl": [
           {
            "marker": {
             "colorbar": {
              "outlinewidth": 0,
              "ticks": ""
             }
            },
            "type": "scatterpolargl"
           }
          ],
          "scatterternary": [
           {
            "marker": {
             "colorbar": {
              "outlinewidth": 0,
              "ticks": ""
             }
            },
            "type": "scatterternary"
           }
          ],
          "surface": [
           {
            "colorbar": {
             "outlinewidth": 0,
             "ticks": ""
            },
            "colorscale": [
             [
              0,
              "#0d0887"
             ],
             [
              0.1111111111111111,
              "#46039f"
             ],
             [
              0.2222222222222222,
              "#7201a8"
             ],
             [
              0.3333333333333333,
              "#9c179e"
             ],
             [
              0.4444444444444444,
              "#bd3786"
             ],
             [
              0.5555555555555556,
              "#d8576b"
             ],
             [
              0.6666666666666666,
              "#ed7953"
             ],
             [
              0.7777777777777778,
              "#fb9f3a"
             ],
             [
              0.8888888888888888,
              "#fdca26"
             ],
             [
              1,
              "#f0f921"
             ]
            ],
            "type": "surface"
           }
          ],
          "table": [
           {
            "cells": {
             "fill": {
              "color": "#506784"
             },
             "line": {
              "color": "rgb(17,17,17)"
             }
            },
            "header": {
             "fill": {
              "color": "#2a3f5f"
             },
             "line": {
              "color": "rgb(17,17,17)"
             }
            },
            "type": "table"
           }
          ]
         },
         "layout": {
          "annotationdefaults": {
           "arrowcolor": "#f2f5fa",
           "arrowhead": 0,
           "arrowwidth": 1
          },
          "autotypenumbers": "strict",
          "coloraxis": {
           "colorbar": {
            "outlinewidth": 0,
            "ticks": ""
           }
          },
          "colorscale": {
           "diverging": [
            [
             0,
             "#8e0152"
            ],
            [
             0.1,
             "#c51b7d"
            ],
            [
             0.2,
             "#de77ae"
            ],
            [
             0.3,
             "#f1b6da"
            ],
            [
             0.4,
             "#fde0ef"
            ],
            [
             0.5,
             "#f7f7f7"
            ],
            [
             0.6,
             "#e6f5d0"
            ],
            [
             0.7,
             "#b8e186"
            ],
            [
             0.8,
             "#7fbc41"
            ],
            [
             0.9,
             "#4d9221"
            ],
            [
             1,
             "#276419"
            ]
           ],
           "sequential": [
            [
             0,
             "#0d0887"
            ],
            [
             0.1111111111111111,
             "#46039f"
            ],
            [
             0.2222222222222222,
             "#7201a8"
            ],
            [
             0.3333333333333333,
             "#9c179e"
            ],
            [
             0.4444444444444444,
             "#bd3786"
            ],
            [
             0.5555555555555556,
             "#d8576b"
            ],
            [
             0.6666666666666666,
             "#ed7953"
            ],
            [
             0.7777777777777778,
             "#fb9f3a"
            ],
            [
             0.8888888888888888,
             "#fdca26"
            ],
            [
             1,
             "#f0f921"
            ]
           ],
           "sequentialminus": [
            [
             0,
             "#0d0887"
            ],
            [
             0.1111111111111111,
             "#46039f"
            ],
            [
             0.2222222222222222,
             "#7201a8"
            ],
            [
             0.3333333333333333,
             "#9c179e"
            ],
            [
             0.4444444444444444,
             "#bd3786"
            ],
            [
             0.5555555555555556,
             "#d8576b"
            ],
            [
             0.6666666666666666,
             "#ed7953"
            ],
            [
             0.7777777777777778,
             "#fb9f3a"
            ],
            [
             0.8888888888888888,
             "#fdca26"
            ],
            [
             1,
             "#f0f921"
            ]
           ]
          },
          "colorway": [
           "#636efa",
           "#EF553B",
           "#00cc96",
           "#ab63fa",
           "#FFA15A",
           "#19d3f3",
           "#FF6692",
           "#B6E880",
           "#FF97FF",
           "#FECB52"
          ],
          "font": {
           "color": "#f2f5fa"
          },
          "geo": {
           "bgcolor": "rgb(17,17,17)",
           "lakecolor": "rgb(17,17,17)",
           "landcolor": "rgb(17,17,17)",
           "showlakes": true,
           "showland": true,
           "subunitcolor": "#506784"
          },
          "hoverlabel": {
           "align": "left"
          },
          "hovermode": "closest",
          "mapbox": {
           "style": "dark"
          },
          "paper_bgcolor": "rgb(17,17,17)",
          "plot_bgcolor": "rgb(17,17,17)",
          "polar": {
           "angularaxis": {
            "gridcolor": "#506784",
            "linecolor": "#506784",
            "ticks": ""
           },
           "bgcolor": "rgb(17,17,17)",
           "radialaxis": {
            "gridcolor": "#506784",
            "linecolor": "#506784",
            "ticks": ""
           }
          },
          "scene": {
           "xaxis": {
            "backgroundcolor": "rgb(17,17,17)",
            "gridcolor": "#506784",
            "gridwidth": 2,
            "linecolor": "#506784",
            "showbackground": true,
            "ticks": "",
            "zerolinecolor": "#C8D4E3"
           },
           "yaxis": {
            "backgroundcolor": "rgb(17,17,17)",
            "gridcolor": "#506784",
            "gridwidth": 2,
            "linecolor": "#506784",
            "showbackground": true,
            "ticks": "",
            "zerolinecolor": "#C8D4E3"
           },
           "zaxis": {
            "backgroundcolor": "rgb(17,17,17)",
            "gridcolor": "#506784",
            "gridwidth": 2,
            "linecolor": "#506784",
            "showbackground": true,
            "ticks": "",
            "zerolinecolor": "#C8D4E3"
           }
          },
          "shapedefaults": {
           "line": {
            "color": "#f2f5fa"
           }
          },
          "sliderdefaults": {
           "bgcolor": "#C8D4E3",
           "bordercolor": "rgb(17,17,17)",
           "borderwidth": 1,
           "tickwidth": 0
          },
          "ternary": {
           "aaxis": {
            "gridcolor": "#506784",
            "linecolor": "#506784",
            "ticks": ""
           },
           "baxis": {
            "gridcolor": "#506784",
            "linecolor": "#506784",
            "ticks": ""
           },
           "bgcolor": "rgb(17,17,17)",
           "caxis": {
            "gridcolor": "#506784",
            "linecolor": "#506784",
            "ticks": ""
           }
          },
          "title": {
           "x": 0.05
          },
          "updatemenudefaults": {
           "bgcolor": "#506784",
           "borderwidth": 0
          },
          "xaxis": {
           "automargin": true,
           "gridcolor": "#283442",
           "linecolor": "#506784",
           "ticks": "",
           "title": {
            "standoff": 15
           },
           "zerolinecolor": "#283442",
           "zerolinewidth": 2
          },
          "yaxis": {
           "automargin": true,
           "gridcolor": "#283442",
           "linecolor": "#506784",
           "ticks": "",
           "title": {
            "standoff": 15
           },
           "zerolinecolor": "#283442",
           "zerolinewidth": 2
          }
         }
        },
        "title": {
         "text": "Correlation Heatmap: Target vs GDP Variables"
        },
        "width": 1000,
        "xaxis": {
         "anchor": "y",
         "constrain": "domain",
         "domain": [
          0,
          1
         ],
         "scaleanchor": "y"
        },
        "yaxis": {
         "anchor": "x",
         "autorange": "reversed",
         "constrain": "domain",
         "domain": [
          0,
          1
         ]
        }
       }
      }
     },
     "metadata": {},
     "output_type": "display_data"
    }
   ],
   "source": [
    "# Variables to compare\n",
    "variables_to_compare = ['gdp_1990',\n",
    "       'gdp_2000', 'gdp_2014', 'gdp_2015', 'gdp_2016', 'gdp_2017', 'gdp_2018',\n",
    "       'gdp_2019', 'gdp_2020', 'gdp_2021', 'gdp_2022', 'gdp_2023'\n",
    "]\n",
    "\n",
    "# Compute the correlation matrix for 'target' and the selected variables\n",
    "columns_to_use = ['target'] + variables_to_compare\n",
    "df_corr_matrix = df[columns_to_use].corr()\n",
    "\n",
    "# Take the absolute values of the correlation matrix\n",
    "df_corr_matrix_abs = df_corr_matrix.abs()\n",
    "\n",
    "fig = px.imshow(df_corr_matrix_abs, \n",
    "                color_continuous_scale='RdBu_r', \n",
    "                title=\"Correlation Heatmap: Target vs GDP Variables\", \n",
    "                template='plotly_dark', \n",
    "                width=1000, \n",
    "                height=600) \n",
    "\n",
    "fig.show()\n"
   ]
  },
  {
   "cell_type": "code",
   "execution_count": 105,
   "metadata": {},
   "outputs": [
    {
     "data": {
      "application/vnd.plotly.v1+json": {
       "config": {
        "plotlyServerURL": "https://plot.ly"
       },
       "data": [
        {
         "coloraxis": "coloraxis",
         "hovertemplate": "x: %{x}<br>y: %{y}<br>color: %{z}<extra></extra>",
         "name": "0",
         "type": "heatmap",
         "x": [
          "target",
          "total_reserves_1990",
          "total_reserves_2000",
          "total_reserves_2014",
          "total_reserves_2015",
          "total_reserves_2016",
          "total_reserves_2017",
          "total_reserves_2018",
          "total_reserves_2019",
          "total_reserves_2020",
          "total_reserves_2021",
          "total_reserves_2022",
          "total_reserves_2023"
         ],
         "xaxis": "x",
         "y": [
          "target",
          "total_reserves_1990",
          "total_reserves_2000",
          "total_reserves_2014",
          "total_reserves_2015",
          "total_reserves_2016",
          "total_reserves_2017",
          "total_reserves_2018",
          "total_reserves_2019",
          "total_reserves_2020",
          "total_reserves_2021",
          "total_reserves_2022",
          "total_reserves_2023"
         ],
         "yaxis": "y",
         "z": [
          [
           1,
           0.321260993372172,
           0.29730650930069064,
           0.21081212759821183,
           0.2182896806969374,
           0.22734047606147784,
           0.23100053747581642,
           0.23425438318037656,
           0.23832433247975657,
           0.24635285955911426,
           0.2543310357391181,
           0.25120876693396826,
           0.2522180407892386
          ],
          [
           0.321260993372172,
           1,
           0.6775010778345223,
           0.3120079724587434,
           0.32809051192477234,
           0.35383693434411895,
           0.36382186536322725,
           0.3682378495321627,
           0.38431403733590863,
           0.4091461535407075,
           0.42317505253161763,
           0.41756258277377445,
           0.42195939472885924
          ],
          [
           0.29730650930069064,
           0.6775010778345223,
           1,
           0.6479974636437738,
           0.6741251119188479,
           0.6972447284343194,
           0.6992043554163496,
           0.7064032014184498,
           0.7136586112430279,
           0.7200839190796476,
           0.7235725200390587,
           0.7057083919000906,
           0.7114946906952068
          ],
          [
           0.21081212759821183,
           0.3120079724587434,
           0.6479974636437738,
           1,
           0.9985238289685663,
           0.9946778806031866,
           0.9911417048543801,
           0.9906335615525851,
           0.9876087151532232,
           0.9767861290365408,
           0.9740597584838778,
           0.9817557981418725,
           0.9812912694200574
          ],
          [
           0.2182896806969374,
           0.32809051192477234,
           0.6741251119188479,
           0.9985238289685663,
           1,
           0.998620319071803,
           0.996304193911884,
           0.9960942896087926,
           0.993922119570308,
           0.985353545691442,
           0.982766189126435,
           0.9878335203210279,
           0.9870301139575487
          ],
          [
           0.22734047606147784,
           0.35383693434411895,
           0.6972447284343194,
           0.9946778806031866,
           0.998620319071803,
           1,
           0.9991559967567192,
           0.9991239245990724,
           0.9979888365243644,
           0.9920824692068392,
           0.9898833108927242,
           0.992686297711542,
           0.9914912871191983
          ],
          [
           0.23100053747581642,
           0.36382186536322725,
           0.6992043554163496,
           0.9911417048543801,
           0.996304193911884,
           0.9991559967567192,
           1,
           0.9998481421964378,
           0.9993669526009902,
           0.9956559171675359,
           0.9938330338644219,
           0.9953247303963558,
           0.9938160761275925
          ],
          [
           0.23425438318037656,
           0.3682378495321627,
           0.7064032014184498,
           0.9906335615525851,
           0.9960942896087926,
           0.9991239245990724,
           0.9998481421964378,
           1,
           0.9995095179215496,
           0.9957332724799038,
           0.9939566476946401,
           0.9952513369619855,
           0.9938254883844407
          ],
          [
           0.23832433247975657,
           0.38431403733590863,
           0.7136586112430279,
           0.9876087151532232,
           0.993922119570308,
           0.9979888365243644,
           0.9993669526009902,
           0.9995095179215496,
           1,
           0.9977547816796088,
           0.9963996394166489,
           0.9971410103185664,
           0.9957454244703101
          ],
          [
           0.24635285955911426,
           0.4091461535407075,
           0.7200839190796476,
           0.9767861290365408,
           0.985353545691442,
           0.9920824692068392,
           0.9956559171675359,
           0.9957332724799038,
           0.9977547816796088,
           1,
           0.9995962707532086,
           0.9979006849452168,
           0.9961841315844595
          ],
          [
           0.2543310357391181,
           0.42317505253161763,
           0.7235725200390587,
           0.9740597584838778,
           0.982766189126435,
           0.9898833108927242,
           0.9938330338644219,
           0.9939566476946401,
           0.9963996394166489,
           0.9995962707532086,
           1,
           0.9982316216029987,
           0.9970347971898662
          ],
          [
           0.25120876693396826,
           0.41756258277377445,
           0.7057083919000906,
           0.9817557981418725,
           0.9878335203210279,
           0.992686297711542,
           0.9953247303963558,
           0.9952513369619855,
           0.9971410103185664,
           0.9979006849452168,
           0.9982316216029987,
           1,
           0.9992227918594467
          ],
          [
           0.2522180407892386,
           0.42195939472885924,
           0.7114946906952068,
           0.9812912694200574,
           0.9870301139575487,
           0.9914912871191983,
           0.9938160761275925,
           0.9938254883844407,
           0.9957454244703101,
           0.9961841315844595,
           0.9970347971898662,
           0.9992227918594467,
           1
          ]
         ]
        }
       ],
       "layout": {
        "coloraxis": {
         "colorscale": [
          [
           0,
           "rgb(5,48,97)"
          ],
          [
           0.1,
           "rgb(33,102,172)"
          ],
          [
           0.2,
           "rgb(67,147,195)"
          ],
          [
           0.3,
           "rgb(146,197,222)"
          ],
          [
           0.4,
           "rgb(209,229,240)"
          ],
          [
           0.5,
           "rgb(247,247,247)"
          ],
          [
           0.6,
           "rgb(253,219,199)"
          ],
          [
           0.7,
           "rgb(244,165,130)"
          ],
          [
           0.8,
           "rgb(214,96,77)"
          ],
          [
           0.9,
           "rgb(178,24,43)"
          ],
          [
           1,
           "rgb(103,0,31)"
          ]
         ]
        },
        "height": 600,
        "template": {
         "data": {
          "bar": [
           {
            "error_x": {
             "color": "#f2f5fa"
            },
            "error_y": {
             "color": "#f2f5fa"
            },
            "marker": {
             "line": {
              "color": "rgb(17,17,17)",
              "width": 0.5
             },
             "pattern": {
              "fillmode": "overlay",
              "size": 10,
              "solidity": 0.2
             }
            },
            "type": "bar"
           }
          ],
          "barpolar": [
           {
            "marker": {
             "line": {
              "color": "rgb(17,17,17)",
              "width": 0.5
             },
             "pattern": {
              "fillmode": "overlay",
              "size": 10,
              "solidity": 0.2
             }
            },
            "type": "barpolar"
           }
          ],
          "carpet": [
           {
            "aaxis": {
             "endlinecolor": "#A2B1C6",
             "gridcolor": "#506784",
             "linecolor": "#506784",
             "minorgridcolor": "#506784",
             "startlinecolor": "#A2B1C6"
            },
            "baxis": {
             "endlinecolor": "#A2B1C6",
             "gridcolor": "#506784",
             "linecolor": "#506784",
             "minorgridcolor": "#506784",
             "startlinecolor": "#A2B1C6"
            },
            "type": "carpet"
           }
          ],
          "choropleth": [
           {
            "colorbar": {
             "outlinewidth": 0,
             "ticks": ""
            },
            "type": "choropleth"
           }
          ],
          "contour": [
           {
            "colorbar": {
             "outlinewidth": 0,
             "ticks": ""
            },
            "colorscale": [
             [
              0,
              "#0d0887"
             ],
             [
              0.1111111111111111,
              "#46039f"
             ],
             [
              0.2222222222222222,
              "#7201a8"
             ],
             [
              0.3333333333333333,
              "#9c179e"
             ],
             [
              0.4444444444444444,
              "#bd3786"
             ],
             [
              0.5555555555555556,
              "#d8576b"
             ],
             [
              0.6666666666666666,
              "#ed7953"
             ],
             [
              0.7777777777777778,
              "#fb9f3a"
             ],
             [
              0.8888888888888888,
              "#fdca26"
             ],
             [
              1,
              "#f0f921"
             ]
            ],
            "type": "contour"
           }
          ],
          "contourcarpet": [
           {
            "colorbar": {
             "outlinewidth": 0,
             "ticks": ""
            },
            "type": "contourcarpet"
           }
          ],
          "heatmap": [
           {
            "colorbar": {
             "outlinewidth": 0,
             "ticks": ""
            },
            "colorscale": [
             [
              0,
              "#0d0887"
             ],
             [
              0.1111111111111111,
              "#46039f"
             ],
             [
              0.2222222222222222,
              "#7201a8"
             ],
             [
              0.3333333333333333,
              "#9c179e"
             ],
             [
              0.4444444444444444,
              "#bd3786"
             ],
             [
              0.5555555555555556,
              "#d8576b"
             ],
             [
              0.6666666666666666,
              "#ed7953"
             ],
             [
              0.7777777777777778,
              "#fb9f3a"
             ],
             [
              0.8888888888888888,
              "#fdca26"
             ],
             [
              1,
              "#f0f921"
             ]
            ],
            "type": "heatmap"
           }
          ],
          "heatmapgl": [
           {
            "colorbar": {
             "outlinewidth": 0,
             "ticks": ""
            },
            "colorscale": [
             [
              0,
              "#0d0887"
             ],
             [
              0.1111111111111111,
              "#46039f"
             ],
             [
              0.2222222222222222,
              "#7201a8"
             ],
             [
              0.3333333333333333,
              "#9c179e"
             ],
             [
              0.4444444444444444,
              "#bd3786"
             ],
             [
              0.5555555555555556,
              "#d8576b"
             ],
             [
              0.6666666666666666,
              "#ed7953"
             ],
             [
              0.7777777777777778,
              "#fb9f3a"
             ],
             [
              0.8888888888888888,
              "#fdca26"
             ],
             [
              1,
              "#f0f921"
             ]
            ],
            "type": "heatmapgl"
           }
          ],
          "histogram": [
           {
            "marker": {
             "pattern": {
              "fillmode": "overlay",
              "size": 10,
              "solidity": 0.2
             }
            },
            "type": "histogram"
           }
          ],
          "histogram2d": [
           {
            "colorbar": {
             "outlinewidth": 0,
             "ticks": ""
            },
            "colorscale": [
             [
              0,
              "#0d0887"
             ],
             [
              0.1111111111111111,
              "#46039f"
             ],
             [
              0.2222222222222222,
              "#7201a8"
             ],
             [
              0.3333333333333333,
              "#9c179e"
             ],
             [
              0.4444444444444444,
              "#bd3786"
             ],
             [
              0.5555555555555556,
              "#d8576b"
             ],
             [
              0.6666666666666666,
              "#ed7953"
             ],
             [
              0.7777777777777778,
              "#fb9f3a"
             ],
             [
              0.8888888888888888,
              "#fdca26"
             ],
             [
              1,
              "#f0f921"
             ]
            ],
            "type": "histogram2d"
           }
          ],
          "histogram2dcontour": [
           {
            "colorbar": {
             "outlinewidth": 0,
             "ticks": ""
            },
            "colorscale": [
             [
              0,
              "#0d0887"
             ],
             [
              0.1111111111111111,
              "#46039f"
             ],
             [
              0.2222222222222222,
              "#7201a8"
             ],
             [
              0.3333333333333333,
              "#9c179e"
             ],
             [
              0.4444444444444444,
              "#bd3786"
             ],
             [
              0.5555555555555556,
              "#d8576b"
             ],
             [
              0.6666666666666666,
              "#ed7953"
             ],
             [
              0.7777777777777778,
              "#fb9f3a"
             ],
             [
              0.8888888888888888,
              "#fdca26"
             ],
             [
              1,
              "#f0f921"
             ]
            ],
            "type": "histogram2dcontour"
           }
          ],
          "mesh3d": [
           {
            "colorbar": {
             "outlinewidth": 0,
             "ticks": ""
            },
            "type": "mesh3d"
           }
          ],
          "parcoords": [
           {
            "line": {
             "colorbar": {
              "outlinewidth": 0,
              "ticks": ""
             }
            },
            "type": "parcoords"
           }
          ],
          "pie": [
           {
            "automargin": true,
            "type": "pie"
           }
          ],
          "scatter": [
           {
            "marker": {
             "line": {
              "color": "#283442"
             }
            },
            "type": "scatter"
           }
          ],
          "scatter3d": [
           {
            "line": {
             "colorbar": {
              "outlinewidth": 0,
              "ticks": ""
             }
            },
            "marker": {
             "colorbar": {
              "outlinewidth": 0,
              "ticks": ""
             }
            },
            "type": "scatter3d"
           }
          ],
          "scattercarpet": [
           {
            "marker": {
             "colorbar": {
              "outlinewidth": 0,
              "ticks": ""
             }
            },
            "type": "scattercarpet"
           }
          ],
          "scattergeo": [
           {
            "marker": {
             "colorbar": {
              "outlinewidth": 0,
              "ticks": ""
             }
            },
            "type": "scattergeo"
           }
          ],
          "scattergl": [
           {
            "marker": {
             "line": {
              "color": "#283442"
             }
            },
            "type": "scattergl"
           }
          ],
          "scattermapbox": [
           {
            "marker": {
             "colorbar": {
              "outlinewidth": 0,
              "ticks": ""
             }
            },
            "type": "scattermapbox"
           }
          ],
          "scatterpolar": [
           {
            "marker": {
             "colorbar": {
              "outlinewidth": 0,
              "ticks": ""
             }
            },
            "type": "scatterpolar"
           }
          ],
          "scatterpolargl": [
           {
            "marker": {
             "colorbar": {
              "outlinewidth": 0,
              "ticks": ""
             }
            },
            "type": "scatterpolargl"
           }
          ],
          "scatterternary": [
           {
            "marker": {
             "colorbar": {
              "outlinewidth": 0,
              "ticks": ""
             }
            },
            "type": "scatterternary"
           }
          ],
          "surface": [
           {
            "colorbar": {
             "outlinewidth": 0,
             "ticks": ""
            },
            "colorscale": [
             [
              0,
              "#0d0887"
             ],
             [
              0.1111111111111111,
              "#46039f"
             ],
             [
              0.2222222222222222,
              "#7201a8"
             ],
             [
              0.3333333333333333,
              "#9c179e"
             ],
             [
              0.4444444444444444,
              "#bd3786"
             ],
             [
              0.5555555555555556,
              "#d8576b"
             ],
             [
              0.6666666666666666,
              "#ed7953"
             ],
             [
              0.7777777777777778,
              "#fb9f3a"
             ],
             [
              0.8888888888888888,
              "#fdca26"
             ],
             [
              1,
              "#f0f921"
             ]
            ],
            "type": "surface"
           }
          ],
          "table": [
           {
            "cells": {
             "fill": {
              "color": "#506784"
             },
             "line": {
              "color": "rgb(17,17,17)"
             }
            },
            "header": {
             "fill": {
              "color": "#2a3f5f"
             },
             "line": {
              "color": "rgb(17,17,17)"
             }
            },
            "type": "table"
           }
          ]
         },
         "layout": {
          "annotationdefaults": {
           "arrowcolor": "#f2f5fa",
           "arrowhead": 0,
           "arrowwidth": 1
          },
          "autotypenumbers": "strict",
          "coloraxis": {
           "colorbar": {
            "outlinewidth": 0,
            "ticks": ""
           }
          },
          "colorscale": {
           "diverging": [
            [
             0,
             "#8e0152"
            ],
            [
             0.1,
             "#c51b7d"
            ],
            [
             0.2,
             "#de77ae"
            ],
            [
             0.3,
             "#f1b6da"
            ],
            [
             0.4,
             "#fde0ef"
            ],
            [
             0.5,
             "#f7f7f7"
            ],
            [
             0.6,
             "#e6f5d0"
            ],
            [
             0.7,
             "#b8e186"
            ],
            [
             0.8,
             "#7fbc41"
            ],
            [
             0.9,
             "#4d9221"
            ],
            [
             1,
             "#276419"
            ]
           ],
           "sequential": [
            [
             0,
             "#0d0887"
            ],
            [
             0.1111111111111111,
             "#46039f"
            ],
            [
             0.2222222222222222,
             "#7201a8"
            ],
            [
             0.3333333333333333,
             "#9c179e"
            ],
            [
             0.4444444444444444,
             "#bd3786"
            ],
            [
             0.5555555555555556,
             "#d8576b"
            ],
            [
             0.6666666666666666,
             "#ed7953"
            ],
            [
             0.7777777777777778,
             "#fb9f3a"
            ],
            [
             0.8888888888888888,
             "#fdca26"
            ],
            [
             1,
             "#f0f921"
            ]
           ],
           "sequentialminus": [
            [
             0,
             "#0d0887"
            ],
            [
             0.1111111111111111,
             "#46039f"
            ],
            [
             0.2222222222222222,
             "#7201a8"
            ],
            [
             0.3333333333333333,
             "#9c179e"
            ],
            [
             0.4444444444444444,
             "#bd3786"
            ],
            [
             0.5555555555555556,
             "#d8576b"
            ],
            [
             0.6666666666666666,
             "#ed7953"
            ],
            [
             0.7777777777777778,
             "#fb9f3a"
            ],
            [
             0.8888888888888888,
             "#fdca26"
            ],
            [
             1,
             "#f0f921"
            ]
           ]
          },
          "colorway": [
           "#636efa",
           "#EF553B",
           "#00cc96",
           "#ab63fa",
           "#FFA15A",
           "#19d3f3",
           "#FF6692",
           "#B6E880",
           "#FF97FF",
           "#FECB52"
          ],
          "font": {
           "color": "#f2f5fa"
          },
          "geo": {
           "bgcolor": "rgb(17,17,17)",
           "lakecolor": "rgb(17,17,17)",
           "landcolor": "rgb(17,17,17)",
           "showlakes": true,
           "showland": true,
           "subunitcolor": "#506784"
          },
          "hoverlabel": {
           "align": "left"
          },
          "hovermode": "closest",
          "mapbox": {
           "style": "dark"
          },
          "paper_bgcolor": "rgb(17,17,17)",
          "plot_bgcolor": "rgb(17,17,17)",
          "polar": {
           "angularaxis": {
            "gridcolor": "#506784",
            "linecolor": "#506784",
            "ticks": ""
           },
           "bgcolor": "rgb(17,17,17)",
           "radialaxis": {
            "gridcolor": "#506784",
            "linecolor": "#506784",
            "ticks": ""
           }
          },
          "scene": {
           "xaxis": {
            "backgroundcolor": "rgb(17,17,17)",
            "gridcolor": "#506784",
            "gridwidth": 2,
            "linecolor": "#506784",
            "showbackground": true,
            "ticks": "",
            "zerolinecolor": "#C8D4E3"
           },
           "yaxis": {
            "backgroundcolor": "rgb(17,17,17)",
            "gridcolor": "#506784",
            "gridwidth": 2,
            "linecolor": "#506784",
            "showbackground": true,
            "ticks": "",
            "zerolinecolor": "#C8D4E3"
           },
           "zaxis": {
            "backgroundcolor": "rgb(17,17,17)",
            "gridcolor": "#506784",
            "gridwidth": 2,
            "linecolor": "#506784",
            "showbackground": true,
            "ticks": "",
            "zerolinecolor": "#C8D4E3"
           }
          },
          "shapedefaults": {
           "line": {
            "color": "#f2f5fa"
           }
          },
          "sliderdefaults": {
           "bgcolor": "#C8D4E3",
           "bordercolor": "rgb(17,17,17)",
           "borderwidth": 1,
           "tickwidth": 0
          },
          "ternary": {
           "aaxis": {
            "gridcolor": "#506784",
            "linecolor": "#506784",
            "ticks": ""
           },
           "baxis": {
            "gridcolor": "#506784",
            "linecolor": "#506784",
            "ticks": ""
           },
           "bgcolor": "rgb(17,17,17)",
           "caxis": {
            "gridcolor": "#506784",
            "linecolor": "#506784",
            "ticks": ""
           }
          },
          "title": {
           "x": 0.05
          },
          "updatemenudefaults": {
           "bgcolor": "#506784",
           "borderwidth": 0
          },
          "xaxis": {
           "automargin": true,
           "gridcolor": "#283442",
           "linecolor": "#506784",
           "ticks": "",
           "title": {
            "standoff": 15
           },
           "zerolinecolor": "#283442",
           "zerolinewidth": 2
          },
          "yaxis": {
           "automargin": true,
           "gridcolor": "#283442",
           "linecolor": "#506784",
           "ticks": "",
           "title": {
            "standoff": 15
           },
           "zerolinecolor": "#283442",
           "zerolinewidth": 2
          }
         }
        },
        "title": {
         "text": "Correlation Heatmap: Target vs Total Reserves Variables"
        },
        "width": 1000,
        "xaxis": {
         "anchor": "y",
         "constrain": "domain",
         "domain": [
          0,
          1
         ],
         "scaleanchor": "y"
        },
        "yaxis": {
         "anchor": "x",
         "autorange": "reversed",
         "constrain": "domain",
         "domain": [
          0,
          1
         ]
        }
       }
      }
     },
     "metadata": {},
     "output_type": "display_data"
    }
   ],
   "source": [
    "# Variables to compare\n",
    "variables_to_compare = ['total_reserves_1990', 'total_reserves_2000', 'total_reserves_2014',\n",
    "       'total_reserves_2015', 'total_reserves_2016', 'total_reserves_2017',\n",
    "       'total_reserves_2018', 'total_reserves_2019', 'total_reserves_2020',\n",
    "       'total_reserves_2021', 'total_reserves_2022', 'total_reserves_2023'\n",
    "]\n",
    "\n",
    "# Compute the correlation matrix for 'target' and the selected variables\n",
    "columns_to_use = ['target'] + variables_to_compare\n",
    "df_corr_matrix = df[columns_to_use].corr()\n",
    "\n",
    "# Take the absolute values of the correlation matrix\n",
    "df_corr_matrix_abs = df_corr_matrix.abs()\n",
    "\n",
    "fig = px.imshow(df_corr_matrix_abs, \n",
    "                color_continuous_scale='RdBu_r', \n",
    "                title=\"Correlation Heatmap: Target vs Total Reserves Variables\", \n",
    "                template='plotly_dark', \n",
    "                width=1000,  \n",
    "                height=600)  \n",
    "\n",
    "fig.show()\n"
   ]
  },
  {
   "cell_type": "code",
   "execution_count": 106,
   "metadata": {},
   "outputs": [
    {
     "data": {
      "application/vnd.plotly.v1+json": {
       "config": {
        "plotlyServerURL": "https://plot.ly"
       },
       "data": [
        {
         "coloraxis": "coloraxis",
         "hovertemplate": "x: %{x}<br>y: %{y}<br>color: %{z}<extra></extra>",
         "name": "0",
         "type": "heatmap",
         "x": [
          "target",
          "inflation_2023",
          "gdp_1990",
          "gdp_2023",
          "unemployment_2023",
          "current_account_balance_2023",
          "total_reserves_1990",
          "total_reserves_2023"
         ],
         "xaxis": "x",
         "y": [
          "target",
          "inflation_2023",
          "gdp_1990",
          "gdp_2023",
          "unemployment_2023",
          "current_account_balance_2023",
          "total_reserves_1990",
          "total_reserves_2023"
         ],
         "yaxis": "y",
         "z": [
          [
           1,
           0.2296491499984343,
           0.2448150991435443,
           0.23062364823850612,
           0.18786885510108994,
           0.16894280875068304,
           0.321260993372172,
           0.2522180407892386
          ],
          [
           0.2296491499984343,
           1,
           0.02225591107323926,
           0.02273405182348022,
           0.0024849796023325784,
           0.7478599295874475,
           0.12972696640904466,
           0.03740737832921267
          ],
          [
           0.2448150991435443,
           0.02225591107323926,
           1,
           0.8121496958267332,
           0.09015468352813827,
           0.019969088018148822,
           0.8816481463703058,
           0.36852145413905096
          ],
          [
           0.23062364823850612,
           0.02273405182348022,
           0.8121496958267332,
           1,
           0.09866788704806806,
           0.020550166344618617,
           0.7214245202952836,
           0.6804266241782169
          ],
          [
           0.18786885510108994,
           0.0024849796023325784,
           0.09015468352813827,
           0.09866788704806806,
           1,
           0.004699183704043873,
           0.09639896369757349,
           0.11577375273102954
          ],
          [
           0.16894280875068304,
           0.7478599295874475,
           0.019969088018148822,
           0.020550166344618617,
           0.004699183704043873,
           1,
           0.18730498750276053,
           0.02508445549127504
          ],
          [
           0.321260993372172,
           0.12972696640904466,
           0.8816481463703058,
           0.7214245202952836,
           0.09639896369757349,
           0.18730498750276053,
           1,
           0.42195939472885924
          ],
          [
           0.2522180407892386,
           0.03740737832921267,
           0.36852145413905096,
           0.6804266241782169,
           0.11577375273102954,
           0.02508445549127504,
           0.42195939472885924,
           1
          ]
         ]
        }
       ],
       "layout": {
        "coloraxis": {
         "colorscale": [
          [
           0,
           "rgb(5,48,97)"
          ],
          [
           0.1,
           "rgb(33,102,172)"
          ],
          [
           0.2,
           "rgb(67,147,195)"
          ],
          [
           0.3,
           "rgb(146,197,222)"
          ],
          [
           0.4,
           "rgb(209,229,240)"
          ],
          [
           0.5,
           "rgb(247,247,247)"
          ],
          [
           0.6,
           "rgb(253,219,199)"
          ],
          [
           0.7,
           "rgb(244,165,130)"
          ],
          [
           0.8,
           "rgb(214,96,77)"
          ],
          [
           0.9,
           "rgb(178,24,43)"
          ],
          [
           1,
           "rgb(103,0,31)"
          ]
         ]
        },
        "height": 600,
        "template": {
         "data": {
          "bar": [
           {
            "error_x": {
             "color": "#f2f5fa"
            },
            "error_y": {
             "color": "#f2f5fa"
            },
            "marker": {
             "line": {
              "color": "rgb(17,17,17)",
              "width": 0.5
             },
             "pattern": {
              "fillmode": "overlay",
              "size": 10,
              "solidity": 0.2
             }
            },
            "type": "bar"
           }
          ],
          "barpolar": [
           {
            "marker": {
             "line": {
              "color": "rgb(17,17,17)",
              "width": 0.5
             },
             "pattern": {
              "fillmode": "overlay",
              "size": 10,
              "solidity": 0.2
             }
            },
            "type": "barpolar"
           }
          ],
          "carpet": [
           {
            "aaxis": {
             "endlinecolor": "#A2B1C6",
             "gridcolor": "#506784",
             "linecolor": "#506784",
             "minorgridcolor": "#506784",
             "startlinecolor": "#A2B1C6"
            },
            "baxis": {
             "endlinecolor": "#A2B1C6",
             "gridcolor": "#506784",
             "linecolor": "#506784",
             "minorgridcolor": "#506784",
             "startlinecolor": "#A2B1C6"
            },
            "type": "carpet"
           }
          ],
          "choropleth": [
           {
            "colorbar": {
             "outlinewidth": 0,
             "ticks": ""
            },
            "type": "choropleth"
           }
          ],
          "contour": [
           {
            "colorbar": {
             "outlinewidth": 0,
             "ticks": ""
            },
            "colorscale": [
             [
              0,
              "#0d0887"
             ],
             [
              0.1111111111111111,
              "#46039f"
             ],
             [
              0.2222222222222222,
              "#7201a8"
             ],
             [
              0.3333333333333333,
              "#9c179e"
             ],
             [
              0.4444444444444444,
              "#bd3786"
             ],
             [
              0.5555555555555556,
              "#d8576b"
             ],
             [
              0.6666666666666666,
              "#ed7953"
             ],
             [
              0.7777777777777778,
              "#fb9f3a"
             ],
             [
              0.8888888888888888,
              "#fdca26"
             ],
             [
              1,
              "#f0f921"
             ]
            ],
            "type": "contour"
           }
          ],
          "contourcarpet": [
           {
            "colorbar": {
             "outlinewidth": 0,
             "ticks": ""
            },
            "type": "contourcarpet"
           }
          ],
          "heatmap": [
           {
            "colorbar": {
             "outlinewidth": 0,
             "ticks": ""
            },
            "colorscale": [
             [
              0,
              "#0d0887"
             ],
             [
              0.1111111111111111,
              "#46039f"
             ],
             [
              0.2222222222222222,
              "#7201a8"
             ],
             [
              0.3333333333333333,
              "#9c179e"
             ],
             [
              0.4444444444444444,
              "#bd3786"
             ],
             [
              0.5555555555555556,
              "#d8576b"
             ],
             [
              0.6666666666666666,
              "#ed7953"
             ],
             [
              0.7777777777777778,
              "#fb9f3a"
             ],
             [
              0.8888888888888888,
              "#fdca26"
             ],
             [
              1,
              "#f0f921"
             ]
            ],
            "type": "heatmap"
           }
          ],
          "heatmapgl": [
           {
            "colorbar": {
             "outlinewidth": 0,
             "ticks": ""
            },
            "colorscale": [
             [
              0,
              "#0d0887"
             ],
             [
              0.1111111111111111,
              "#46039f"
             ],
             [
              0.2222222222222222,
              "#7201a8"
             ],
             [
              0.3333333333333333,
              "#9c179e"
             ],
             [
              0.4444444444444444,
              "#bd3786"
             ],
             [
              0.5555555555555556,
              "#d8576b"
             ],
             [
              0.6666666666666666,
              "#ed7953"
             ],
             [
              0.7777777777777778,
              "#fb9f3a"
             ],
             [
              0.8888888888888888,
              "#fdca26"
             ],
             [
              1,
              "#f0f921"
             ]
            ],
            "type": "heatmapgl"
           }
          ],
          "histogram": [
           {
            "marker": {
             "pattern": {
              "fillmode": "overlay",
              "size": 10,
              "solidity": 0.2
             }
            },
            "type": "histogram"
           }
          ],
          "histogram2d": [
           {
            "colorbar": {
             "outlinewidth": 0,
             "ticks": ""
            },
            "colorscale": [
             [
              0,
              "#0d0887"
             ],
             [
              0.1111111111111111,
              "#46039f"
             ],
             [
              0.2222222222222222,
              "#7201a8"
             ],
             [
              0.3333333333333333,
              "#9c179e"
             ],
             [
              0.4444444444444444,
              "#bd3786"
             ],
             [
              0.5555555555555556,
              "#d8576b"
             ],
             [
              0.6666666666666666,
              "#ed7953"
             ],
             [
              0.7777777777777778,
              "#fb9f3a"
             ],
             [
              0.8888888888888888,
              "#fdca26"
             ],
             [
              1,
              "#f0f921"
             ]
            ],
            "type": "histogram2d"
           }
          ],
          "histogram2dcontour": [
           {
            "colorbar": {
             "outlinewidth": 0,
             "ticks": ""
            },
            "colorscale": [
             [
              0,
              "#0d0887"
             ],
             [
              0.1111111111111111,
              "#46039f"
             ],
             [
              0.2222222222222222,
              "#7201a8"
             ],
             [
              0.3333333333333333,
              "#9c179e"
             ],
             [
              0.4444444444444444,
              "#bd3786"
             ],
             [
              0.5555555555555556,
              "#d8576b"
             ],
             [
              0.6666666666666666,
              "#ed7953"
             ],
             [
              0.7777777777777778,
              "#fb9f3a"
             ],
             [
              0.8888888888888888,
              "#fdca26"
             ],
             [
              1,
              "#f0f921"
             ]
            ],
            "type": "histogram2dcontour"
           }
          ],
          "mesh3d": [
           {
            "colorbar": {
             "outlinewidth": 0,
             "ticks": ""
            },
            "type": "mesh3d"
           }
          ],
          "parcoords": [
           {
            "line": {
             "colorbar": {
              "outlinewidth": 0,
              "ticks": ""
             }
            },
            "type": "parcoords"
           }
          ],
          "pie": [
           {
            "automargin": true,
            "type": "pie"
           }
          ],
          "scatter": [
           {
            "marker": {
             "line": {
              "color": "#283442"
             }
            },
            "type": "scatter"
           }
          ],
          "scatter3d": [
           {
            "line": {
             "colorbar": {
              "outlinewidth": 0,
              "ticks": ""
             }
            },
            "marker": {
             "colorbar": {
              "outlinewidth": 0,
              "ticks": ""
             }
            },
            "type": "scatter3d"
           }
          ],
          "scattercarpet": [
           {
            "marker": {
             "colorbar": {
              "outlinewidth": 0,
              "ticks": ""
             }
            },
            "type": "scattercarpet"
           }
          ],
          "scattergeo": [
           {
            "marker": {
             "colorbar": {
              "outlinewidth": 0,
              "ticks": ""
             }
            },
            "type": "scattergeo"
           }
          ],
          "scattergl": [
           {
            "marker": {
             "line": {
              "color": "#283442"
             }
            },
            "type": "scattergl"
           }
          ],
          "scattermapbox": [
           {
            "marker": {
             "colorbar": {
              "outlinewidth": 0,
              "ticks": ""
             }
            },
            "type": "scattermapbox"
           }
          ],
          "scatterpolar": [
           {
            "marker": {
             "colorbar": {
              "outlinewidth": 0,
              "ticks": ""
             }
            },
            "type": "scatterpolar"
           }
          ],
          "scatterpolargl": [
           {
            "marker": {
             "colorbar": {
              "outlinewidth": 0,
              "ticks": ""
             }
            },
            "type": "scatterpolargl"
           }
          ],
          "scatterternary": [
           {
            "marker": {
             "colorbar": {
              "outlinewidth": 0,
              "ticks": ""
             }
            },
            "type": "scatterternary"
           }
          ],
          "surface": [
           {
            "colorbar": {
             "outlinewidth": 0,
             "ticks": ""
            },
            "colorscale": [
             [
              0,
              "#0d0887"
             ],
             [
              0.1111111111111111,
              "#46039f"
             ],
             [
              0.2222222222222222,
              "#7201a8"
             ],
             [
              0.3333333333333333,
              "#9c179e"
             ],
             [
              0.4444444444444444,
              "#bd3786"
             ],
             [
              0.5555555555555556,
              "#d8576b"
             ],
             [
              0.6666666666666666,
              "#ed7953"
             ],
             [
              0.7777777777777778,
              "#fb9f3a"
             ],
             [
              0.8888888888888888,
              "#fdca26"
             ],
             [
              1,
              "#f0f921"
             ]
            ],
            "type": "surface"
           }
          ],
          "table": [
           {
            "cells": {
             "fill": {
              "color": "#506784"
             },
             "line": {
              "color": "rgb(17,17,17)"
             }
            },
            "header": {
             "fill": {
              "color": "#2a3f5f"
             },
             "line": {
              "color": "rgb(17,17,17)"
             }
            },
            "type": "table"
           }
          ]
         },
         "layout": {
          "annotationdefaults": {
           "arrowcolor": "#f2f5fa",
           "arrowhead": 0,
           "arrowwidth": 1
          },
          "autotypenumbers": "strict",
          "coloraxis": {
           "colorbar": {
            "outlinewidth": 0,
            "ticks": ""
           }
          },
          "colorscale": {
           "diverging": [
            [
             0,
             "#8e0152"
            ],
            [
             0.1,
             "#c51b7d"
            ],
            [
             0.2,
             "#de77ae"
            ],
            [
             0.3,
             "#f1b6da"
            ],
            [
             0.4,
             "#fde0ef"
            ],
            [
             0.5,
             "#f7f7f7"
            ],
            [
             0.6,
             "#e6f5d0"
            ],
            [
             0.7,
             "#b8e186"
            ],
            [
             0.8,
             "#7fbc41"
            ],
            [
             0.9,
             "#4d9221"
            ],
            [
             1,
             "#276419"
            ]
           ],
           "sequential": [
            [
             0,
             "#0d0887"
            ],
            [
             0.1111111111111111,
             "#46039f"
            ],
            [
             0.2222222222222222,
             "#7201a8"
            ],
            [
             0.3333333333333333,
             "#9c179e"
            ],
            [
             0.4444444444444444,
             "#bd3786"
            ],
            [
             0.5555555555555556,
             "#d8576b"
            ],
            [
             0.6666666666666666,
             "#ed7953"
            ],
            [
             0.7777777777777778,
             "#fb9f3a"
            ],
            [
             0.8888888888888888,
             "#fdca26"
            ],
            [
             1,
             "#f0f921"
            ]
           ],
           "sequentialminus": [
            [
             0,
             "#0d0887"
            ],
            [
             0.1111111111111111,
             "#46039f"
            ],
            [
             0.2222222222222222,
             "#7201a8"
            ],
            [
             0.3333333333333333,
             "#9c179e"
            ],
            [
             0.4444444444444444,
             "#bd3786"
            ],
            [
             0.5555555555555556,
             "#d8576b"
            ],
            [
             0.6666666666666666,
             "#ed7953"
            ],
            [
             0.7777777777777778,
             "#fb9f3a"
            ],
            [
             0.8888888888888888,
             "#fdca26"
            ],
            [
             1,
             "#f0f921"
            ]
           ]
          },
          "colorway": [
           "#636efa",
           "#EF553B",
           "#00cc96",
           "#ab63fa",
           "#FFA15A",
           "#19d3f3",
           "#FF6692",
           "#B6E880",
           "#FF97FF",
           "#FECB52"
          ],
          "font": {
           "color": "#f2f5fa"
          },
          "geo": {
           "bgcolor": "rgb(17,17,17)",
           "lakecolor": "rgb(17,17,17)",
           "landcolor": "rgb(17,17,17)",
           "showlakes": true,
           "showland": true,
           "subunitcolor": "#506784"
          },
          "hoverlabel": {
           "align": "left"
          },
          "hovermode": "closest",
          "mapbox": {
           "style": "dark"
          },
          "paper_bgcolor": "rgb(17,17,17)",
          "plot_bgcolor": "rgb(17,17,17)",
          "polar": {
           "angularaxis": {
            "gridcolor": "#506784",
            "linecolor": "#506784",
            "ticks": ""
           },
           "bgcolor": "rgb(17,17,17)",
           "radialaxis": {
            "gridcolor": "#506784",
            "linecolor": "#506784",
            "ticks": ""
           }
          },
          "scene": {
           "xaxis": {
            "backgroundcolor": "rgb(17,17,17)",
            "gridcolor": "#506784",
            "gridwidth": 2,
            "linecolor": "#506784",
            "showbackground": true,
            "ticks": "",
            "zerolinecolor": "#C8D4E3"
           },
           "yaxis": {
            "backgroundcolor": "rgb(17,17,17)",
            "gridcolor": "#506784",
            "gridwidth": 2,
            "linecolor": "#506784",
            "showbackground": true,
            "ticks": "",
            "zerolinecolor": "#C8D4E3"
           },
           "zaxis": {
            "backgroundcolor": "rgb(17,17,17)",
            "gridcolor": "#506784",
            "gridwidth": 2,
            "linecolor": "#506784",
            "showbackground": true,
            "ticks": "",
            "zerolinecolor": "#C8D4E3"
           }
          },
          "shapedefaults": {
           "line": {
            "color": "#f2f5fa"
           }
          },
          "sliderdefaults": {
           "bgcolor": "#C8D4E3",
           "bordercolor": "rgb(17,17,17)",
           "borderwidth": 1,
           "tickwidth": 0
          },
          "ternary": {
           "aaxis": {
            "gridcolor": "#506784",
            "linecolor": "#506784",
            "ticks": ""
           },
           "baxis": {
            "gridcolor": "#506784",
            "linecolor": "#506784",
            "ticks": ""
           },
           "bgcolor": "rgb(17,17,17)",
           "caxis": {
            "gridcolor": "#506784",
            "linecolor": "#506784",
            "ticks": ""
           }
          },
          "title": {
           "x": 0.05
          },
          "updatemenudefaults": {
           "bgcolor": "#506784",
           "borderwidth": 0
          },
          "xaxis": {
           "automargin": true,
           "gridcolor": "#283442",
           "linecolor": "#506784",
           "ticks": "",
           "title": {
            "standoff": 15
           },
           "zerolinecolor": "#283442",
           "zerolinewidth": 2
          },
          "yaxis": {
           "automargin": true,
           "gridcolor": "#283442",
           "linecolor": "#506784",
           "ticks": "",
           "title": {
            "standoff": 15
           },
           "zerolinecolor": "#283442",
           "zerolinewidth": 2
          }
         }
        },
        "title": {
         "text": "Correlation Heatmap: Target vs 2023 (and 1990) Variables"
        },
        "width": 1000,
        "xaxis": {
         "anchor": "y",
         "constrain": "domain",
         "domain": [
          0,
          1
         ],
         "scaleanchor": "y"
        },
        "yaxis": {
         "anchor": "x",
         "autorange": "reversed",
         "constrain": "domain",
         "domain": [
          0,
          1
         ]
        }
       }
      }
     },
     "metadata": {},
     "output_type": "display_data"
    }
   ],
   "source": [
    "# Variables to compare\n",
    "variables_to_compare = [ 'inflation_2023', 'gdp_1990', 'gdp_2023', 'unemployment_2023', 'current_account_balance_2023',\n",
    "                        'total_reserves_1990', 'total_reserves_2023']\n",
    "\n",
    "# Compute the correlation matrix for 'target' and the selected variables\n",
    "columns_to_use = ['target'] + variables_to_compare\n",
    "df_corr_matrix = df[columns_to_use].corr()\n",
    "\n",
    "# Take the absolute values of the correlation matrix\n",
    "df_corr_matrix_abs = df_corr_matrix.abs()\n",
    "\n",
    "fig = px.imshow(df_corr_matrix_abs, \n",
    "                color_continuous_scale='RdBu_r', \n",
    "                title=\"Correlation Heatmap: Target vs 2023 (and 1990) Variables\", \n",
    "                template='plotly_dark', \n",
    "                width=1000,  \n",
    "                height=600)  \n",
    "\n",
    "fig.show()\n"
   ]
  },
  {
   "cell_type": "code",
   "execution_count": 107,
   "metadata": {},
   "outputs": [
    {
     "data": {
      "application/vnd.plotly.v1+json": {
       "config": {
        "plotlyServerURL": "https://plot.ly"
       },
       "data": [
        {
         "coloraxis": "coloraxis",
         "hovertemplate": "x: %{x}<br>y: %{y}<br>color: %{z}<extra></extra>",
         "name": "0",
         "type": "heatmap",
         "x": [
          "target",
          "cab_to_gdp_1990",
          "cab_to_gdp_2000",
          "cab_to_gdp_2014",
          "cab_to_gdp_2015",
          "cab_to_gdp_2016",
          "cab_to_gdp_2017",
          "cab_to_gdp_2018",
          "cab_to_gdp_2019",
          "cab_to_gdp_2020",
          "cab_to_gdp_2021",
          "cab_to_gdp_2022",
          "cab_to_gdp_2023"
         ],
         "xaxis": "x",
         "y": [
          "target",
          "cab_to_gdp_1990",
          "cab_to_gdp_2000",
          "cab_to_gdp_2014",
          "cab_to_gdp_2015",
          "cab_to_gdp_2016",
          "cab_to_gdp_2017",
          "cab_to_gdp_2018",
          "cab_to_gdp_2019",
          "cab_to_gdp_2020",
          "cab_to_gdp_2021",
          "cab_to_gdp_2022",
          "cab_to_gdp_2023"
         ],
         "yaxis": "y",
         "z": [
          [
           1,
           0.07355402157379302,
           0.056380704442825,
           0.10347525244377356,
           0.09273442343917043,
           0.09440467582964335,
           0.09817255855289524,
           0.10381488254441021,
           0.14727907021615308,
           0.14760493918995088,
           0.15113017786092675,
           0.1484630502497773,
           0.14665289315144509
          ],
          [
           0.07355402157379302,
           1,
           0.993302455847681,
           0.9818659647439459,
           0.9799309563164023,
           0.9809890705361285,
           0.8060335180565548,
           0.8060054309749167,
           0.7605288035193085,
           0.7604058824516611,
           0.7587718479816694,
           0.7600599480610287,
           0.7607540971459839
          ],
          [
           0.056380704442825,
           0.993302455847681,
           1,
           0.9780237293451983,
           0.9795122537871942,
           0.9799093047324728,
           0.8193107579211222,
           0.8159054425090968,
           0.7334049447142094,
           0.7332224074807653,
           0.7309435290869241,
           0.7327194971792854,
           0.733744744329231
          ],
          [
           0.10347525244377356,
           0.9818659647439459,
           0.9780237293451983,
           1,
           0.9962954533918166,
           0.9974640828779623,
           0.8304835051412527,
           0.8309245341405777,
           0.7821633714256373,
           0.7821907560078307,
           0.7821999809022057,
           0.7822418745564245,
           0.782100486701859
          ],
          [
           0.09273442343917043,
           0.9799309563164023,
           0.9795122537871942,
           0.9962954533918166,
           1,
           0.9998825717223507,
           0.7884071448189924,
           0.7874389593051507,
           0.7260939781356314,
           0.7260995965723069,
           0.7258905953567287,
           0.7260946651829706,
           0.7260738606412533
          ],
          [
           0.09440467582964335,
           0.9809890705361285,
           0.9799093047324728,
           0.9974640828779623,
           0.9998825717223507,
           1,
           0.7959018182380478,
           0.7951876839625365,
           0.7364757829645272,
           0.736477792197023,
           0.73622526769052,
           0.73646302858427,
           0.7364623801524762
          ],
          [
           0.09817255855289524,
           0.8060335180565548,
           0.8193107579211222,
           0.8304835051412527,
           0.7884071448189924,
           0.7959018182380478,
           1,
           0.9995367935217794,
           0.9303418473483753,
           0.9303536596161365,
           0.9301365827521181,
           0.93035951501595,
           0.9303044988339253
          ],
          [
           0.10381488254441021,
           0.8060054309749167,
           0.8159054425090968,
           0.8309245341405777,
           0.7874389593051507,
           0.7951876839625365,
           0.9995367935217794,
           1,
           0.940568785444253,
           0.9406009657342804,
           0.940603844834284,
           0.9406604261181403,
           0.9404922745604235
          ],
          [
           0.14727907021615308,
           0.7605288035193085,
           0.7334049447142094,
           0.7821633714256373,
           0.7260939781356314,
           0.7364757829645272,
           0.9303418473483753,
           0.940568785444253,
           1,
           0.9999971692517534,
           0.9995932121946378,
           0.999962378622606,
           0.9999896199329458
          ],
          [
           0.14760493918995088,
           0.7604058824516611,
           0.7332224074807653,
           0.7821907560078307,
           0.7260995965723069,
           0.736477792197023,
           0.9303536596161365,
           0.9406009657342804,
           0.9999971692517534,
           1,
           0.999658243574125,
           0.9999801872147345,
           0.999975947969649
          ],
          [
           0.15113017786092675,
           0.7587718479816694,
           0.7309435290869241,
           0.7821999809022057,
           0.7258905953567287,
           0.73622526769052,
           0.9301365827521181,
           0.940603844834284,
           0.9995932121946378,
           0.999658243574125,
           1,
           0.9998029966383474,
           0.9994528886452764
          ],
          [
           0.1484630502497773,
           0.7600599480610287,
           0.7327194971792854,
           0.7822418745564245,
           0.7260946651829706,
           0.73646302858427,
           0.93035951501595,
           0.9406604261181403,
           0.999962378622606,
           0.9999801872147345,
           0.9998029966383474,
           1,
           0.9999124766579017
          ],
          [
           0.14665289315144509,
           0.7607540971459839,
           0.733744744329231,
           0.782100486701859,
           0.7260738606412533,
           0.7364623801524762,
           0.9303044988339253,
           0.9404922745604235,
           0.9999896199329458,
           0.999975947969649,
           0.9994528886452764,
           0.9999124766579017,
           1
          ]
         ]
        }
       ],
       "layout": {
        "coloraxis": {
         "colorscale": [
          [
           0,
           "rgb(5,48,97)"
          ],
          [
           0.1,
           "rgb(33,102,172)"
          ],
          [
           0.2,
           "rgb(67,147,195)"
          ],
          [
           0.3,
           "rgb(146,197,222)"
          ],
          [
           0.4,
           "rgb(209,229,240)"
          ],
          [
           0.5,
           "rgb(247,247,247)"
          ],
          [
           0.6,
           "rgb(253,219,199)"
          ],
          [
           0.7,
           "rgb(244,165,130)"
          ],
          [
           0.8,
           "rgb(214,96,77)"
          ],
          [
           0.9,
           "rgb(178,24,43)"
          ],
          [
           1,
           "rgb(103,0,31)"
          ]
         ]
        },
        "height": 600,
        "template": {
         "data": {
          "bar": [
           {
            "error_x": {
             "color": "#f2f5fa"
            },
            "error_y": {
             "color": "#f2f5fa"
            },
            "marker": {
             "line": {
              "color": "rgb(17,17,17)",
              "width": 0.5
             },
             "pattern": {
              "fillmode": "overlay",
              "size": 10,
              "solidity": 0.2
             }
            },
            "type": "bar"
           }
          ],
          "barpolar": [
           {
            "marker": {
             "line": {
              "color": "rgb(17,17,17)",
              "width": 0.5
             },
             "pattern": {
              "fillmode": "overlay",
              "size": 10,
              "solidity": 0.2
             }
            },
            "type": "barpolar"
           }
          ],
          "carpet": [
           {
            "aaxis": {
             "endlinecolor": "#A2B1C6",
             "gridcolor": "#506784",
             "linecolor": "#506784",
             "minorgridcolor": "#506784",
             "startlinecolor": "#A2B1C6"
            },
            "baxis": {
             "endlinecolor": "#A2B1C6",
             "gridcolor": "#506784",
             "linecolor": "#506784",
             "minorgridcolor": "#506784",
             "startlinecolor": "#A2B1C6"
            },
            "type": "carpet"
           }
          ],
          "choropleth": [
           {
            "colorbar": {
             "outlinewidth": 0,
             "ticks": ""
            },
            "type": "choropleth"
           }
          ],
          "contour": [
           {
            "colorbar": {
             "outlinewidth": 0,
             "ticks": ""
            },
            "colorscale": [
             [
              0,
              "#0d0887"
             ],
             [
              0.1111111111111111,
              "#46039f"
             ],
             [
              0.2222222222222222,
              "#7201a8"
             ],
             [
              0.3333333333333333,
              "#9c179e"
             ],
             [
              0.4444444444444444,
              "#bd3786"
             ],
             [
              0.5555555555555556,
              "#d8576b"
             ],
             [
              0.6666666666666666,
              "#ed7953"
             ],
             [
              0.7777777777777778,
              "#fb9f3a"
             ],
             [
              0.8888888888888888,
              "#fdca26"
             ],
             [
              1,
              "#f0f921"
             ]
            ],
            "type": "contour"
           }
          ],
          "contourcarpet": [
           {
            "colorbar": {
             "outlinewidth": 0,
             "ticks": ""
            },
            "type": "contourcarpet"
           }
          ],
          "heatmap": [
           {
            "colorbar": {
             "outlinewidth": 0,
             "ticks": ""
            },
            "colorscale": [
             [
              0,
              "#0d0887"
             ],
             [
              0.1111111111111111,
              "#46039f"
             ],
             [
              0.2222222222222222,
              "#7201a8"
             ],
             [
              0.3333333333333333,
              "#9c179e"
             ],
             [
              0.4444444444444444,
              "#bd3786"
             ],
             [
              0.5555555555555556,
              "#d8576b"
             ],
             [
              0.6666666666666666,
              "#ed7953"
             ],
             [
              0.7777777777777778,
              "#fb9f3a"
             ],
             [
              0.8888888888888888,
              "#fdca26"
             ],
             [
              1,
              "#f0f921"
             ]
            ],
            "type": "heatmap"
           }
          ],
          "heatmapgl": [
           {
            "colorbar": {
             "outlinewidth": 0,
             "ticks": ""
            },
            "colorscale": [
             [
              0,
              "#0d0887"
             ],
             [
              0.1111111111111111,
              "#46039f"
             ],
             [
              0.2222222222222222,
              "#7201a8"
             ],
             [
              0.3333333333333333,
              "#9c179e"
             ],
             [
              0.4444444444444444,
              "#bd3786"
             ],
             [
              0.5555555555555556,
              "#d8576b"
             ],
             [
              0.6666666666666666,
              "#ed7953"
             ],
             [
              0.7777777777777778,
              "#fb9f3a"
             ],
             [
              0.8888888888888888,
              "#fdca26"
             ],
             [
              1,
              "#f0f921"
             ]
            ],
            "type": "heatmapgl"
           }
          ],
          "histogram": [
           {
            "marker": {
             "pattern": {
              "fillmode": "overlay",
              "size": 10,
              "solidity": 0.2
             }
            },
            "type": "histogram"
           }
          ],
          "histogram2d": [
           {
            "colorbar": {
             "outlinewidth": 0,
             "ticks": ""
            },
            "colorscale": [
             [
              0,
              "#0d0887"
             ],
             [
              0.1111111111111111,
              "#46039f"
             ],
             [
              0.2222222222222222,
              "#7201a8"
             ],
             [
              0.3333333333333333,
              "#9c179e"
             ],
             [
              0.4444444444444444,
              "#bd3786"
             ],
             [
              0.5555555555555556,
              "#d8576b"
             ],
             [
              0.6666666666666666,
              "#ed7953"
             ],
             [
              0.7777777777777778,
              "#fb9f3a"
             ],
             [
              0.8888888888888888,
              "#fdca26"
             ],
             [
              1,
              "#f0f921"
             ]
            ],
            "type": "histogram2d"
           }
          ],
          "histogram2dcontour": [
           {
            "colorbar": {
             "outlinewidth": 0,
             "ticks": ""
            },
            "colorscale": [
             [
              0,
              "#0d0887"
             ],
             [
              0.1111111111111111,
              "#46039f"
             ],
             [
              0.2222222222222222,
              "#7201a8"
             ],
             [
              0.3333333333333333,
              "#9c179e"
             ],
             [
              0.4444444444444444,
              "#bd3786"
             ],
             [
              0.5555555555555556,
              "#d8576b"
             ],
             [
              0.6666666666666666,
              "#ed7953"
             ],
             [
              0.7777777777777778,
              "#fb9f3a"
             ],
             [
              0.8888888888888888,
              "#fdca26"
             ],
             [
              1,
              "#f0f921"
             ]
            ],
            "type": "histogram2dcontour"
           }
          ],
          "mesh3d": [
           {
            "colorbar": {
             "outlinewidth": 0,
             "ticks": ""
            },
            "type": "mesh3d"
           }
          ],
          "parcoords": [
           {
            "line": {
             "colorbar": {
              "outlinewidth": 0,
              "ticks": ""
             }
            },
            "type": "parcoords"
           }
          ],
          "pie": [
           {
            "automargin": true,
            "type": "pie"
           }
          ],
          "scatter": [
           {
            "marker": {
             "line": {
              "color": "#283442"
             }
            },
            "type": "scatter"
           }
          ],
          "scatter3d": [
           {
            "line": {
             "colorbar": {
              "outlinewidth": 0,
              "ticks": ""
             }
            },
            "marker": {
             "colorbar": {
              "outlinewidth": 0,
              "ticks": ""
             }
            },
            "type": "scatter3d"
           }
          ],
          "scattercarpet": [
           {
            "marker": {
             "colorbar": {
              "outlinewidth": 0,
              "ticks": ""
             }
            },
            "type": "scattercarpet"
           }
          ],
          "scattergeo": [
           {
            "marker": {
             "colorbar": {
              "outlinewidth": 0,
              "ticks": ""
             }
            },
            "type": "scattergeo"
           }
          ],
          "scattergl": [
           {
            "marker": {
             "line": {
              "color": "#283442"
             }
            },
            "type": "scattergl"
           }
          ],
          "scattermapbox": [
           {
            "marker": {
             "colorbar": {
              "outlinewidth": 0,
              "ticks": ""
             }
            },
            "type": "scattermapbox"
           }
          ],
          "scatterpolar": [
           {
            "marker": {
             "colorbar": {
              "outlinewidth": 0,
              "ticks": ""
             }
            },
            "type": "scatterpolar"
           }
          ],
          "scatterpolargl": [
           {
            "marker": {
             "colorbar": {
              "outlinewidth": 0,
              "ticks": ""
             }
            },
            "type": "scatterpolargl"
           }
          ],
          "scatterternary": [
           {
            "marker": {
             "colorbar": {
              "outlinewidth": 0,
              "ticks": ""
             }
            },
            "type": "scatterternary"
           }
          ],
          "surface": [
           {
            "colorbar": {
             "outlinewidth": 0,
             "ticks": ""
            },
            "colorscale": [
             [
              0,
              "#0d0887"
             ],
             [
              0.1111111111111111,
              "#46039f"
             ],
             [
              0.2222222222222222,
              "#7201a8"
             ],
             [
              0.3333333333333333,
              "#9c179e"
             ],
             [
              0.4444444444444444,
              "#bd3786"
             ],
             [
              0.5555555555555556,
              "#d8576b"
             ],
             [
              0.6666666666666666,
              "#ed7953"
             ],
             [
              0.7777777777777778,
              "#fb9f3a"
             ],
             [
              0.8888888888888888,
              "#fdca26"
             ],
             [
              1,
              "#f0f921"
             ]
            ],
            "type": "surface"
           }
          ],
          "table": [
           {
            "cells": {
             "fill": {
              "color": "#506784"
             },
             "line": {
              "color": "rgb(17,17,17)"
             }
            },
            "header": {
             "fill": {
              "color": "#2a3f5f"
             },
             "line": {
              "color": "rgb(17,17,17)"
             }
            },
            "type": "table"
           }
          ]
         },
         "layout": {
          "annotationdefaults": {
           "arrowcolor": "#f2f5fa",
           "arrowhead": 0,
           "arrowwidth": 1
          },
          "autotypenumbers": "strict",
          "coloraxis": {
           "colorbar": {
            "outlinewidth": 0,
            "ticks": ""
           }
          },
          "colorscale": {
           "diverging": [
            [
             0,
             "#8e0152"
            ],
            [
             0.1,
             "#c51b7d"
            ],
            [
             0.2,
             "#de77ae"
            ],
            [
             0.3,
             "#f1b6da"
            ],
            [
             0.4,
             "#fde0ef"
            ],
            [
             0.5,
             "#f7f7f7"
            ],
            [
             0.6,
             "#e6f5d0"
            ],
            [
             0.7,
             "#b8e186"
            ],
            [
             0.8,
             "#7fbc41"
            ],
            [
             0.9,
             "#4d9221"
            ],
            [
             1,
             "#276419"
            ]
           ],
           "sequential": [
            [
             0,
             "#0d0887"
            ],
            [
             0.1111111111111111,
             "#46039f"
            ],
            [
             0.2222222222222222,
             "#7201a8"
            ],
            [
             0.3333333333333333,
             "#9c179e"
            ],
            [
             0.4444444444444444,
             "#bd3786"
            ],
            [
             0.5555555555555556,
             "#d8576b"
            ],
            [
             0.6666666666666666,
             "#ed7953"
            ],
            [
             0.7777777777777778,
             "#fb9f3a"
            ],
            [
             0.8888888888888888,
             "#fdca26"
            ],
            [
             1,
             "#f0f921"
            ]
           ],
           "sequentialminus": [
            [
             0,
             "#0d0887"
            ],
            [
             0.1111111111111111,
             "#46039f"
            ],
            [
             0.2222222222222222,
             "#7201a8"
            ],
            [
             0.3333333333333333,
             "#9c179e"
            ],
            [
             0.4444444444444444,
             "#bd3786"
            ],
            [
             0.5555555555555556,
             "#d8576b"
            ],
            [
             0.6666666666666666,
             "#ed7953"
            ],
            [
             0.7777777777777778,
             "#fb9f3a"
            ],
            [
             0.8888888888888888,
             "#fdca26"
            ],
            [
             1,
             "#f0f921"
            ]
           ]
          },
          "colorway": [
           "#636efa",
           "#EF553B",
           "#00cc96",
           "#ab63fa",
           "#FFA15A",
           "#19d3f3",
           "#FF6692",
           "#B6E880",
           "#FF97FF",
           "#FECB52"
          ],
          "font": {
           "color": "#f2f5fa"
          },
          "geo": {
           "bgcolor": "rgb(17,17,17)",
           "lakecolor": "rgb(17,17,17)",
           "landcolor": "rgb(17,17,17)",
           "showlakes": true,
           "showland": true,
           "subunitcolor": "#506784"
          },
          "hoverlabel": {
           "align": "left"
          },
          "hovermode": "closest",
          "mapbox": {
           "style": "dark"
          },
          "paper_bgcolor": "rgb(17,17,17)",
          "plot_bgcolor": "rgb(17,17,17)",
          "polar": {
           "angularaxis": {
            "gridcolor": "#506784",
            "linecolor": "#506784",
            "ticks": ""
           },
           "bgcolor": "rgb(17,17,17)",
           "radialaxis": {
            "gridcolor": "#506784",
            "linecolor": "#506784",
            "ticks": ""
           }
          },
          "scene": {
           "xaxis": {
            "backgroundcolor": "rgb(17,17,17)",
            "gridcolor": "#506784",
            "gridwidth": 2,
            "linecolor": "#506784",
            "showbackground": true,
            "ticks": "",
            "zerolinecolor": "#C8D4E3"
           },
           "yaxis": {
            "backgroundcolor": "rgb(17,17,17)",
            "gridcolor": "#506784",
            "gridwidth": 2,
            "linecolor": "#506784",
            "showbackground": true,
            "ticks": "",
            "zerolinecolor": "#C8D4E3"
           },
           "zaxis": {
            "backgroundcolor": "rgb(17,17,17)",
            "gridcolor": "#506784",
            "gridwidth": 2,
            "linecolor": "#506784",
            "showbackground": true,
            "ticks": "",
            "zerolinecolor": "#C8D4E3"
           }
          },
          "shapedefaults": {
           "line": {
            "color": "#f2f5fa"
           }
          },
          "sliderdefaults": {
           "bgcolor": "#C8D4E3",
           "bordercolor": "rgb(17,17,17)",
           "borderwidth": 1,
           "tickwidth": 0
          },
          "ternary": {
           "aaxis": {
            "gridcolor": "#506784",
            "linecolor": "#506784",
            "ticks": ""
           },
           "baxis": {
            "gridcolor": "#506784",
            "linecolor": "#506784",
            "ticks": ""
           },
           "bgcolor": "rgb(17,17,17)",
           "caxis": {
            "gridcolor": "#506784",
            "linecolor": "#506784",
            "ticks": ""
           }
          },
          "title": {
           "x": 0.05
          },
          "updatemenudefaults": {
           "bgcolor": "#506784",
           "borderwidth": 0
          },
          "xaxis": {
           "automargin": true,
           "gridcolor": "#283442",
           "linecolor": "#506784",
           "ticks": "",
           "title": {
            "standoff": 15
           },
           "zerolinecolor": "#283442",
           "zerolinewidth": 2
          },
          "yaxis": {
           "automargin": true,
           "gridcolor": "#283442",
           "linecolor": "#506784",
           "ticks": "",
           "title": {
            "standoff": 15
           },
           "zerolinecolor": "#283442",
           "zerolinewidth": 2
          }
         }
        },
        "title": {
         "text": "Correlation Heatmap: Target vs Current Account Balance to GDP Ratio"
        },
        "width": 1000,
        "xaxis": {
         "anchor": "y",
         "constrain": "domain",
         "domain": [
          0,
          1
         ],
         "scaleanchor": "y"
        },
        "yaxis": {
         "anchor": "x",
         "autorange": "reversed",
         "constrain": "domain",
         "domain": [
          0,
          1
         ]
        }
       }
      }
     },
     "metadata": {},
     "output_type": "display_data"
    }
   ],
   "source": [
    "# Variables to compare\n",
    "variables_to_compare = [ 'cab_to_gdp_1990', 'cab_to_gdp_2000', 'cab_to_gdp_2014', 'cab_to_gdp_2015', 'cab_to_gdp_2016', \n",
    "                        'cab_to_gdp_2017', 'cab_to_gdp_2018', 'cab_to_gdp_2019', 'cab_to_gdp_2020', 'cab_to_gdp_2021', \n",
    "                        'cab_to_gdp_2022', 'cab_to_gdp_2023']\n",
    "\n",
    "# Compute the correlation matrix for 'target' and the selected variables\n",
    "columns_to_use = ['target'] + variables_to_compare\n",
    "df_corr_matrix = df[columns_to_use].corr()\n",
    "\n",
    "# Take the absolute values of the correlation matrix\n",
    "df_corr_matrix_abs = df_corr_matrix.abs()\n",
    "\n",
    "fig = px.imshow(df_corr_matrix_abs, \n",
    "                color_continuous_scale='RdBu_r', \n",
    "                title=\"Correlation Heatmap: Target vs Current Account Balance to GDP Ratio\", \n",
    "                template='plotly_dark', \n",
    "                width=1000,  \n",
    "                height=600)  \n",
    "\n",
    "fig.show()\n"
   ]
  },
  {
   "cell_type": "code",
   "execution_count": 108,
   "metadata": {},
   "outputs": [
    {
     "data": {
      "application/vnd.plotly.v1+json": {
       "config": {
        "plotlyServerURL": "https://plot.ly"
       },
       "data": [
        {
         "coloraxis": "coloraxis",
         "hovertemplate": "x: %{x}<br>y: %{y}<br>color: %{z}<extra></extra>",
         "name": "0",
         "type": "heatmap",
         "x": [
          "target",
          "reserves_to_gdp_1990",
          "reserves_to_gdp_2000",
          "reserves_to_gdp_2014",
          "reserves_to_gdp_2015",
          "reserves_to_gdp_2016",
          "reserves_to_gdp_2017",
          "reserves_to_gdp_2018",
          "reserves_to_gdp_2019",
          "reserves_to_gdp_2020",
          "reserves_to_gdp_2021",
          "reserves_to_gdp_2022",
          "reserves_to_gdp_2023"
         ],
         "xaxis": "x",
         "y": [
          "target",
          "reserves_to_gdp_1990",
          "reserves_to_gdp_2000",
          "reserves_to_gdp_2014",
          "reserves_to_gdp_2015",
          "reserves_to_gdp_2016",
          "reserves_to_gdp_2017",
          "reserves_to_gdp_2018",
          "reserves_to_gdp_2019",
          "reserves_to_gdp_2020",
          "reserves_to_gdp_2021",
          "reserves_to_gdp_2022",
          "reserves_to_gdp_2023"
         ],
         "yaxis": "y",
         "z": [
          [
           1,
           0.08293922717978448,
           0.07847779335979342,
           0.01713160603237076,
           0.046958911141637416,
           0.05165152595698714,
           0.057819107943863766,
           0.050728381208116506,
           0.0479116241218144,
           0.02612100894285476,
           0.011108103210058807,
           0.03256002778424837,
           0.028307523185413096
          ],
          [
           0.08293922717978448,
           1,
           0.8762063380776608,
           0.5260918984963353,
           0.49176937320930736,
           0.44550065017352525,
           0.3951277228454324,
           0.379368003800171,
           0.32779439058817333,
           0.26281446504323497,
           0.23623437492318886,
           0.22595718825607658,
           0.19243595877414957
          ],
          [
           0.07847779335979342,
           0.8762063380776608,
           1,
           0.5361434643604525,
           0.5191840521678782,
           0.4687963738061281,
           0.4482543943325803,
           0.4459123662714561,
           0.3878776266783528,
           0.3212132783138205,
           0.2673528802660299,
           0.2366152178432943,
           0.21993991914999858
          ],
          [
           0.01713160603237076,
           0.5260918984963353,
           0.5361434643604525,
           1,
           0.9804898144717509,
           0.9422767249879326,
           0.8962757111817662,
           0.8795426370932486,
           0.8475979318052307,
           0.7944943754051056,
           0.7603110278533924,
           0.7242974772068144,
           0.7111875426757314
          ],
          [
           0.046958911141637416,
           0.49176937320930736,
           0.5191840521678782,
           0.9804898144717509,
           1,
           0.9777118234742098,
           0.9368963184904431,
           0.9208645286267625,
           0.8944747301457034,
           0.8441656341044556,
           0.8037113259417503,
           0.7628111788155947,
           0.7500147215854059
          ],
          [
           0.05165152595698714,
           0.44550065017352525,
           0.4687963738061281,
           0.9422767249879326,
           0.9777118234742098,
           1,
           0.9670123363332007,
           0.9544361566064539,
           0.9383368775394256,
           0.8996207222883762,
           0.8641965999449841,
           0.8237298561227175,
           0.8104321174387584
          ],
          [
           0.057819107943863766,
           0.3951277228454324,
           0.4482543943325803,
           0.8962757111817662,
           0.9368963184904431,
           0.9670123363332007,
           1,
           0.9931460857652958,
           0.9804369472532813,
           0.9426627752864283,
           0.9088354158402899,
           0.8677607198353123,
           0.839511503641322
          ],
          [
           0.050728381208116506,
           0.379368003800171,
           0.4459123662714561,
           0.8795426370932486,
           0.9208645286267625,
           0.9544361566064539,
           0.9931460857652958,
           1,
           0.9901529683907958,
           0.9594829634077113,
           0.9287019943867812,
           0.8894041500310814,
           0.8604066011934247
          ],
          [
           0.0479116241218144,
           0.32779439058817333,
           0.3878776266783528,
           0.8475979318052307,
           0.8944747301457034,
           0.9383368775394256,
           0.9804369472532813,
           0.9901529683907958,
           1,
           0.979410980192811,
           0.9547667710041524,
           0.9167584890200006,
           0.8911612865774372
          ],
          [
           0.02612100894285476,
           0.26281446504323497,
           0.3212132783138205,
           0.7944943754051056,
           0.8441656341044556,
           0.8996207222883762,
           0.9426627752864283,
           0.9594829634077113,
           0.979410980192811,
           1,
           0.9823215187184182,
           0.9456841411528656,
           0.9262888715289112
          ],
          [
           0.011108103210058807,
           0.23623437492318886,
           0.2673528802660299,
           0.7603110278533924,
           0.8037113259417503,
           0.8641965999449841,
           0.9088354158402899,
           0.9287019943867812,
           0.9547667710041524,
           0.9823215187184182,
           1,
           0.9780257398517656,
           0.9545560334405035
          ],
          [
           0.03256002778424837,
           0.22595718825607658,
           0.2366152178432943,
           0.7242974772068144,
           0.7628111788155947,
           0.8237298561227175,
           0.8677607198353123,
           0.8894041500310814,
           0.9167584890200006,
           0.9456841411528656,
           0.9780257398517656,
           1,
           0.9590145052971042
          ],
          [
           0.028307523185413096,
           0.19243595877414957,
           0.21993991914999858,
           0.7111875426757314,
           0.7500147215854059,
           0.8104321174387584,
           0.839511503641322,
           0.8604066011934247,
           0.8911612865774372,
           0.9262888715289112,
           0.9545560334405035,
           0.9590145052971042,
           1
          ]
         ]
        }
       ],
       "layout": {
        "coloraxis": {
         "colorscale": [
          [
           0,
           "rgb(5,48,97)"
          ],
          [
           0.1,
           "rgb(33,102,172)"
          ],
          [
           0.2,
           "rgb(67,147,195)"
          ],
          [
           0.3,
           "rgb(146,197,222)"
          ],
          [
           0.4,
           "rgb(209,229,240)"
          ],
          [
           0.5,
           "rgb(247,247,247)"
          ],
          [
           0.6,
           "rgb(253,219,199)"
          ],
          [
           0.7,
           "rgb(244,165,130)"
          ],
          [
           0.8,
           "rgb(214,96,77)"
          ],
          [
           0.9,
           "rgb(178,24,43)"
          ],
          [
           1,
           "rgb(103,0,31)"
          ]
         ]
        },
        "height": 600,
        "template": {
         "data": {
          "bar": [
           {
            "error_x": {
             "color": "#f2f5fa"
            },
            "error_y": {
             "color": "#f2f5fa"
            },
            "marker": {
             "line": {
              "color": "rgb(17,17,17)",
              "width": 0.5
             },
             "pattern": {
              "fillmode": "overlay",
              "size": 10,
              "solidity": 0.2
             }
            },
            "type": "bar"
           }
          ],
          "barpolar": [
           {
            "marker": {
             "line": {
              "color": "rgb(17,17,17)",
              "width": 0.5
             },
             "pattern": {
              "fillmode": "overlay",
              "size": 10,
              "solidity": 0.2
             }
            },
            "type": "barpolar"
           }
          ],
          "carpet": [
           {
            "aaxis": {
             "endlinecolor": "#A2B1C6",
             "gridcolor": "#506784",
             "linecolor": "#506784",
             "minorgridcolor": "#506784",
             "startlinecolor": "#A2B1C6"
            },
            "baxis": {
             "endlinecolor": "#A2B1C6",
             "gridcolor": "#506784",
             "linecolor": "#506784",
             "minorgridcolor": "#506784",
             "startlinecolor": "#A2B1C6"
            },
            "type": "carpet"
           }
          ],
          "choropleth": [
           {
            "colorbar": {
             "outlinewidth": 0,
             "ticks": ""
            },
            "type": "choropleth"
           }
          ],
          "contour": [
           {
            "colorbar": {
             "outlinewidth": 0,
             "ticks": ""
            },
            "colorscale": [
             [
              0,
              "#0d0887"
             ],
             [
              0.1111111111111111,
              "#46039f"
             ],
             [
              0.2222222222222222,
              "#7201a8"
             ],
             [
              0.3333333333333333,
              "#9c179e"
             ],
             [
              0.4444444444444444,
              "#bd3786"
             ],
             [
              0.5555555555555556,
              "#d8576b"
             ],
             [
              0.6666666666666666,
              "#ed7953"
             ],
             [
              0.7777777777777778,
              "#fb9f3a"
             ],
             [
              0.8888888888888888,
              "#fdca26"
             ],
             [
              1,
              "#f0f921"
             ]
            ],
            "type": "contour"
           }
          ],
          "contourcarpet": [
           {
            "colorbar": {
             "outlinewidth": 0,
             "ticks": ""
            },
            "type": "contourcarpet"
           }
          ],
          "heatmap": [
           {
            "colorbar": {
             "outlinewidth": 0,
             "ticks": ""
            },
            "colorscale": [
             [
              0,
              "#0d0887"
             ],
             [
              0.1111111111111111,
              "#46039f"
             ],
             [
              0.2222222222222222,
              "#7201a8"
             ],
             [
              0.3333333333333333,
              "#9c179e"
             ],
             [
              0.4444444444444444,
              "#bd3786"
             ],
             [
              0.5555555555555556,
              "#d8576b"
             ],
             [
              0.6666666666666666,
              "#ed7953"
             ],
             [
              0.7777777777777778,
              "#fb9f3a"
             ],
             [
              0.8888888888888888,
              "#fdca26"
             ],
             [
              1,
              "#f0f921"
             ]
            ],
            "type": "heatmap"
           }
          ],
          "heatmapgl": [
           {
            "colorbar": {
             "outlinewidth": 0,
             "ticks": ""
            },
            "colorscale": [
             [
              0,
              "#0d0887"
             ],
             [
              0.1111111111111111,
              "#46039f"
             ],
             [
              0.2222222222222222,
              "#7201a8"
             ],
             [
              0.3333333333333333,
              "#9c179e"
             ],
             [
              0.4444444444444444,
              "#bd3786"
             ],
             [
              0.5555555555555556,
              "#d8576b"
             ],
             [
              0.6666666666666666,
              "#ed7953"
             ],
             [
              0.7777777777777778,
              "#fb9f3a"
             ],
             [
              0.8888888888888888,
              "#fdca26"
             ],
             [
              1,
              "#f0f921"
             ]
            ],
            "type": "heatmapgl"
           }
          ],
          "histogram": [
           {
            "marker": {
             "pattern": {
              "fillmode": "overlay",
              "size": 10,
              "solidity": 0.2
             }
            },
            "type": "histogram"
           }
          ],
          "histogram2d": [
           {
            "colorbar": {
             "outlinewidth": 0,
             "ticks": ""
            },
            "colorscale": [
             [
              0,
              "#0d0887"
             ],
             [
              0.1111111111111111,
              "#46039f"
             ],
             [
              0.2222222222222222,
              "#7201a8"
             ],
             [
              0.3333333333333333,
              "#9c179e"
             ],
             [
              0.4444444444444444,
              "#bd3786"
             ],
             [
              0.5555555555555556,
              "#d8576b"
             ],
             [
              0.6666666666666666,
              "#ed7953"
             ],
             [
              0.7777777777777778,
              "#fb9f3a"
             ],
             [
              0.8888888888888888,
              "#fdca26"
             ],
             [
              1,
              "#f0f921"
             ]
            ],
            "type": "histogram2d"
           }
          ],
          "histogram2dcontour": [
           {
            "colorbar": {
             "outlinewidth": 0,
             "ticks": ""
            },
            "colorscale": [
             [
              0,
              "#0d0887"
             ],
             [
              0.1111111111111111,
              "#46039f"
             ],
             [
              0.2222222222222222,
              "#7201a8"
             ],
             [
              0.3333333333333333,
              "#9c179e"
             ],
             [
              0.4444444444444444,
              "#bd3786"
             ],
             [
              0.5555555555555556,
              "#d8576b"
             ],
             [
              0.6666666666666666,
              "#ed7953"
             ],
             [
              0.7777777777777778,
              "#fb9f3a"
             ],
             [
              0.8888888888888888,
              "#fdca26"
             ],
             [
              1,
              "#f0f921"
             ]
            ],
            "type": "histogram2dcontour"
           }
          ],
          "mesh3d": [
           {
            "colorbar": {
             "outlinewidth": 0,
             "ticks": ""
            },
            "type": "mesh3d"
           }
          ],
          "parcoords": [
           {
            "line": {
             "colorbar": {
              "outlinewidth": 0,
              "ticks": ""
             }
            },
            "type": "parcoords"
           }
          ],
          "pie": [
           {
            "automargin": true,
            "type": "pie"
           }
          ],
          "scatter": [
           {
            "marker": {
             "line": {
              "color": "#283442"
             }
            },
            "type": "scatter"
           }
          ],
          "scatter3d": [
           {
            "line": {
             "colorbar": {
              "outlinewidth": 0,
              "ticks": ""
             }
            },
            "marker": {
             "colorbar": {
              "outlinewidth": 0,
              "ticks": ""
             }
            },
            "type": "scatter3d"
           }
          ],
          "scattercarpet": [
           {
            "marker": {
             "colorbar": {
              "outlinewidth": 0,
              "ticks": ""
             }
            },
            "type": "scattercarpet"
           }
          ],
          "scattergeo": [
           {
            "marker": {
             "colorbar": {
              "outlinewidth": 0,
              "ticks": ""
             }
            },
            "type": "scattergeo"
           }
          ],
          "scattergl": [
           {
            "marker": {
             "line": {
              "color": "#283442"
             }
            },
            "type": "scattergl"
           }
          ],
          "scattermapbox": [
           {
            "marker": {
             "colorbar": {
              "outlinewidth": 0,
              "ticks": ""
             }
            },
            "type": "scattermapbox"
           }
          ],
          "scatterpolar": [
           {
            "marker": {
             "colorbar": {
              "outlinewidth": 0,
              "ticks": ""
             }
            },
            "type": "scatterpolar"
           }
          ],
          "scatterpolargl": [
           {
            "marker": {
             "colorbar": {
              "outlinewidth": 0,
              "ticks": ""
             }
            },
            "type": "scatterpolargl"
           }
          ],
          "scatterternary": [
           {
            "marker": {
             "colorbar": {
              "outlinewidth": 0,
              "ticks": ""
             }
            },
            "type": "scatterternary"
           }
          ],
          "surface": [
           {
            "colorbar": {
             "outlinewidth": 0,
             "ticks": ""
            },
            "colorscale": [
             [
              0,
              "#0d0887"
             ],
             [
              0.1111111111111111,
              "#46039f"
             ],
             [
              0.2222222222222222,
              "#7201a8"
             ],
             [
              0.3333333333333333,
              "#9c179e"
             ],
             [
              0.4444444444444444,
              "#bd3786"
             ],
             [
              0.5555555555555556,
              "#d8576b"
             ],
             [
              0.6666666666666666,
              "#ed7953"
             ],
             [
              0.7777777777777778,
              "#fb9f3a"
             ],
             [
              0.8888888888888888,
              "#fdca26"
             ],
             [
              1,
              "#f0f921"
             ]
            ],
            "type": "surface"
           }
          ],
          "table": [
           {
            "cells": {
             "fill": {
              "color": "#506784"
             },
             "line": {
              "color": "rgb(17,17,17)"
             }
            },
            "header": {
             "fill": {
              "color": "#2a3f5f"
             },
             "line": {
              "color": "rgb(17,17,17)"
             }
            },
            "type": "table"
           }
          ]
         },
         "layout": {
          "annotationdefaults": {
           "arrowcolor": "#f2f5fa",
           "arrowhead": 0,
           "arrowwidth": 1
          },
          "autotypenumbers": "strict",
          "coloraxis": {
           "colorbar": {
            "outlinewidth": 0,
            "ticks": ""
           }
          },
          "colorscale": {
           "diverging": [
            [
             0,
             "#8e0152"
            ],
            [
             0.1,
             "#c51b7d"
            ],
            [
             0.2,
             "#de77ae"
            ],
            [
             0.3,
             "#f1b6da"
            ],
            [
             0.4,
             "#fde0ef"
            ],
            [
             0.5,
             "#f7f7f7"
            ],
            [
             0.6,
             "#e6f5d0"
            ],
            [
             0.7,
             "#b8e186"
            ],
            [
             0.8,
             "#7fbc41"
            ],
            [
             0.9,
             "#4d9221"
            ],
            [
             1,
             "#276419"
            ]
           ],
           "sequential": [
            [
             0,
             "#0d0887"
            ],
            [
             0.1111111111111111,
             "#46039f"
            ],
            [
             0.2222222222222222,
             "#7201a8"
            ],
            [
             0.3333333333333333,
             "#9c179e"
            ],
            [
             0.4444444444444444,
             "#bd3786"
            ],
            [
             0.5555555555555556,
             "#d8576b"
            ],
            [
             0.6666666666666666,
             "#ed7953"
            ],
            [
             0.7777777777777778,
             "#fb9f3a"
            ],
            [
             0.8888888888888888,
             "#fdca26"
            ],
            [
             1,
             "#f0f921"
            ]
           ],
           "sequentialminus": [
            [
             0,
             "#0d0887"
            ],
            [
             0.1111111111111111,
             "#46039f"
            ],
            [
             0.2222222222222222,
             "#7201a8"
            ],
            [
             0.3333333333333333,
             "#9c179e"
            ],
            [
             0.4444444444444444,
             "#bd3786"
            ],
            [
             0.5555555555555556,
             "#d8576b"
            ],
            [
             0.6666666666666666,
             "#ed7953"
            ],
            [
             0.7777777777777778,
             "#fb9f3a"
            ],
            [
             0.8888888888888888,
             "#fdca26"
            ],
            [
             1,
             "#f0f921"
            ]
           ]
          },
          "colorway": [
           "#636efa",
           "#EF553B",
           "#00cc96",
           "#ab63fa",
           "#FFA15A",
           "#19d3f3",
           "#FF6692",
           "#B6E880",
           "#FF97FF",
           "#FECB52"
          ],
          "font": {
           "color": "#f2f5fa"
          },
          "geo": {
           "bgcolor": "rgb(17,17,17)",
           "lakecolor": "rgb(17,17,17)",
           "landcolor": "rgb(17,17,17)",
           "showlakes": true,
           "showland": true,
           "subunitcolor": "#506784"
          },
          "hoverlabel": {
           "align": "left"
          },
          "hovermode": "closest",
          "mapbox": {
           "style": "dark"
          },
          "paper_bgcolor": "rgb(17,17,17)",
          "plot_bgcolor": "rgb(17,17,17)",
          "polar": {
           "angularaxis": {
            "gridcolor": "#506784",
            "linecolor": "#506784",
            "ticks": ""
           },
           "bgcolor": "rgb(17,17,17)",
           "radialaxis": {
            "gridcolor": "#506784",
            "linecolor": "#506784",
            "ticks": ""
           }
          },
          "scene": {
           "xaxis": {
            "backgroundcolor": "rgb(17,17,17)",
            "gridcolor": "#506784",
            "gridwidth": 2,
            "linecolor": "#506784",
            "showbackground": true,
            "ticks": "",
            "zerolinecolor": "#C8D4E3"
           },
           "yaxis": {
            "backgroundcolor": "rgb(17,17,17)",
            "gridcolor": "#506784",
            "gridwidth": 2,
            "linecolor": "#506784",
            "showbackground": true,
            "ticks": "",
            "zerolinecolor": "#C8D4E3"
           },
           "zaxis": {
            "backgroundcolor": "rgb(17,17,17)",
            "gridcolor": "#506784",
            "gridwidth": 2,
            "linecolor": "#506784",
            "showbackground": true,
            "ticks": "",
            "zerolinecolor": "#C8D4E3"
           }
          },
          "shapedefaults": {
           "line": {
            "color": "#f2f5fa"
           }
          },
          "sliderdefaults": {
           "bgcolor": "#C8D4E3",
           "bordercolor": "rgb(17,17,17)",
           "borderwidth": 1,
           "tickwidth": 0
          },
          "ternary": {
           "aaxis": {
            "gridcolor": "#506784",
            "linecolor": "#506784",
            "ticks": ""
           },
           "baxis": {
            "gridcolor": "#506784",
            "linecolor": "#506784",
            "ticks": ""
           },
           "bgcolor": "rgb(17,17,17)",
           "caxis": {
            "gridcolor": "#506784",
            "linecolor": "#506784",
            "ticks": ""
           }
          },
          "title": {
           "x": 0.05
          },
          "updatemenudefaults": {
           "bgcolor": "#506784",
           "borderwidth": 0
          },
          "xaxis": {
           "automargin": true,
           "gridcolor": "#283442",
           "linecolor": "#506784",
           "ticks": "",
           "title": {
            "standoff": 15
           },
           "zerolinecolor": "#283442",
           "zerolinewidth": 2
          },
          "yaxis": {
           "automargin": true,
           "gridcolor": "#283442",
           "linecolor": "#506784",
           "ticks": "",
           "title": {
            "standoff": 15
           },
           "zerolinecolor": "#283442",
           "zerolinewidth": 2
          }
         }
        },
        "title": {
         "text": "Correlation Heatmap: Target vs Reserves to GDP Ratio"
        },
        "width": 1000,
        "xaxis": {
         "anchor": "y",
         "constrain": "domain",
         "domain": [
          0,
          1
         ],
         "scaleanchor": "y"
        },
        "yaxis": {
         "anchor": "x",
         "autorange": "reversed",
         "constrain": "domain",
         "domain": [
          0,
          1
         ]
        }
       }
      }
     },
     "metadata": {},
     "output_type": "display_data"
    }
   ],
   "source": [
    "# Variables to compare\n",
    "variables_to_compare = [ 'reserves_to_gdp_1990', 'reserves_to_gdp_2000', 'reserves_to_gdp_2014', 'reserves_to_gdp_2015', \n",
    "                        'reserves_to_gdp_2016', 'reserves_to_gdp_2017', 'reserves_to_gdp_2018', 'reserves_to_gdp_2019', \n",
    "                        'reserves_to_gdp_2020', 'reserves_to_gdp_2021', 'reserves_to_gdp_2022', 'reserves_to_gdp_2023']\n",
    "\n",
    "# Compute the correlation matrix for 'target' and the selected variables\n",
    "columns_to_use = ['target'] + variables_to_compare\n",
    "df_corr_matrix = df[columns_to_use].corr()\n",
    "\n",
    "# Take the absolute values of the correlation matrix\n",
    "df_corr_matrix_abs = df_corr_matrix.abs()\n",
    "\n",
    "fig = px.imshow(df_corr_matrix_abs, \n",
    "                color_continuous_scale='RdBu_r', \n",
    "                title=\"Correlation Heatmap: Target vs Reserves to GDP Ratio\", \n",
    "                template='plotly_dark', \n",
    "                width=1000,  \n",
    "                height=600)  \n",
    "\n",
    "fig.show()\n"
   ]
  },
  {
   "cell_type": "code",
   "execution_count": 109,
   "metadata": {},
   "outputs": [
    {
     "data": {
      "application/vnd.plotly.v1+json": {
       "config": {
        "plotlyServerURL": "https://plot.ly"
       },
       "data": [
        {
         "coloraxis": "coloraxis",
         "hovertemplate": "x: %{x}<br>y: %{y}<br>color: %{z}<extra></extra>",
         "name": "0",
         "type": "heatmap",
         "x": [
          "target",
          "gdp_growth_2014_2015",
          "gdp_growth_2015_2016",
          "gdp_growth_2016_2017",
          "gdp_growth_2017_2018",
          "gdp_growth_2018_2019",
          "gdp_growth_2019_2020",
          "gdp_growth_2020_2021",
          "gdp_growth_2021_2022",
          "gdp_growth_2022_2023"
         ],
         "xaxis": "x",
         "y": [
          "target",
          "gdp_growth_2014_2015",
          "gdp_growth_2015_2016",
          "gdp_growth_2016_2017",
          "gdp_growth_2017_2018",
          "gdp_growth_2018_2019",
          "gdp_growth_2019_2020",
          "gdp_growth_2020_2021",
          "gdp_growth_2021_2022",
          "gdp_growth_2022_2023"
         ],
         "yaxis": "y",
         "z": [
          [
           1,
           0.18796337084444273,
           0.11933295230265328,
           0.06819606948792081,
           0.15018483187367893,
           0.12525214988241815,
           0.22576617533190416,
           0.21668032657567546,
           0.19091088532461056,
           0.025724929930877292
          ],
          [
           0.18796337084444273,
           1,
           0.3620333952491159,
           0.3022342282678974,
           0.4218176016844768,
           0.30761163468744884,
           0.1779415708260215,
           0.4017857371778605,
           0.05939003556005327,
           0.10770561379903507
          ],
          [
           0.11933295230265328,
           0.3620333952491159,
           1,
           0.1372052478075703,
           0.08382227495911711,
           0.16312788594580177,
           0.37737503765810926,
           0.21546386774308549,
           0.4542452693313202,
           0.263649183546157
          ],
          [
           0.06819606948792081,
           0.3022342282678974,
           0.1372052478075703,
           1,
           0.20726705787963987,
           0.38499280629312593,
           0.25877518914815273,
           0.3536217860028705,
           0.18365577726747231,
           0.041069233219281825
          ],
          [
           0.15018483187367893,
           0.4218176016844768,
           0.08382227495911711,
           0.20726705787963987,
           1,
           0.13915013106924193,
           0.081411097683362,
           0.19497436362696696,
           0.056826929139198054,
           0.06397684051500158
          ],
          [
           0.12525214988241815,
           0.30761163468744884,
           0.16312788594580177,
           0.38499280629312593,
           0.13915013106924193,
           1,
           0.39618032461635916,
           0.2218795444685827,
           0.017749175305606126,
           0.14810172333647417
          ],
          [
           0.22576617533190416,
           0.1779415708260215,
           0.37737503765810926,
           0.25877518914815273,
           0.081411097683362,
           0.39618032461635916,
           1,
           0.05119794783720707,
           0.4824362148280353,
           0.2842415645002191
          ],
          [
           0.21668032657567546,
           0.4017857371778605,
           0.21546386774308549,
           0.3536217860028705,
           0.19497436362696696,
           0.2218795444685827,
           0.05119794783720707,
           1,
           0.266844241426231,
           0.09742186136720173
          ],
          [
           0.19091088532461056,
           0.05939003556005327,
           0.4542452693313202,
           0.18365577726747231,
           0.056826929139198054,
           0.017749175305606126,
           0.4824362148280353,
           0.266844241426231,
           1,
           0.21200385987962664
          ],
          [
           0.025724929930877292,
           0.10770561379903507,
           0.263649183546157,
           0.041069233219281825,
           0.06397684051500158,
           0.14810172333647417,
           0.2842415645002191,
           0.09742186136720173,
           0.21200385987962664,
           1
          ]
         ]
        }
       ],
       "layout": {
        "coloraxis": {
         "colorscale": [
          [
           0,
           "rgb(5,48,97)"
          ],
          [
           0.1,
           "rgb(33,102,172)"
          ],
          [
           0.2,
           "rgb(67,147,195)"
          ],
          [
           0.3,
           "rgb(146,197,222)"
          ],
          [
           0.4,
           "rgb(209,229,240)"
          ],
          [
           0.5,
           "rgb(247,247,247)"
          ],
          [
           0.6,
           "rgb(253,219,199)"
          ],
          [
           0.7,
           "rgb(244,165,130)"
          ],
          [
           0.8,
           "rgb(214,96,77)"
          ],
          [
           0.9,
           "rgb(178,24,43)"
          ],
          [
           1,
           "rgb(103,0,31)"
          ]
         ]
        },
        "height": 600,
        "template": {
         "data": {
          "bar": [
           {
            "error_x": {
             "color": "#f2f5fa"
            },
            "error_y": {
             "color": "#f2f5fa"
            },
            "marker": {
             "line": {
              "color": "rgb(17,17,17)",
              "width": 0.5
             },
             "pattern": {
              "fillmode": "overlay",
              "size": 10,
              "solidity": 0.2
             }
            },
            "type": "bar"
           }
          ],
          "barpolar": [
           {
            "marker": {
             "line": {
              "color": "rgb(17,17,17)",
              "width": 0.5
             },
             "pattern": {
              "fillmode": "overlay",
              "size": 10,
              "solidity": 0.2
             }
            },
            "type": "barpolar"
           }
          ],
          "carpet": [
           {
            "aaxis": {
             "endlinecolor": "#A2B1C6",
             "gridcolor": "#506784",
             "linecolor": "#506784",
             "minorgridcolor": "#506784",
             "startlinecolor": "#A2B1C6"
            },
            "baxis": {
             "endlinecolor": "#A2B1C6",
             "gridcolor": "#506784",
             "linecolor": "#506784",
             "minorgridcolor": "#506784",
             "startlinecolor": "#A2B1C6"
            },
            "type": "carpet"
           }
          ],
          "choropleth": [
           {
            "colorbar": {
             "outlinewidth": 0,
             "ticks": ""
            },
            "type": "choropleth"
           }
          ],
          "contour": [
           {
            "colorbar": {
             "outlinewidth": 0,
             "ticks": ""
            },
            "colorscale": [
             [
              0,
              "#0d0887"
             ],
             [
              0.1111111111111111,
              "#46039f"
             ],
             [
              0.2222222222222222,
              "#7201a8"
             ],
             [
              0.3333333333333333,
              "#9c179e"
             ],
             [
              0.4444444444444444,
              "#bd3786"
             ],
             [
              0.5555555555555556,
              "#d8576b"
             ],
             [
              0.6666666666666666,
              "#ed7953"
             ],
             [
              0.7777777777777778,
              "#fb9f3a"
             ],
             [
              0.8888888888888888,
              "#fdca26"
             ],
             [
              1,
              "#f0f921"
             ]
            ],
            "type": "contour"
           }
          ],
          "contourcarpet": [
           {
            "colorbar": {
             "outlinewidth": 0,
             "ticks": ""
            },
            "type": "contourcarpet"
           }
          ],
          "heatmap": [
           {
            "colorbar": {
             "outlinewidth": 0,
             "ticks": ""
            },
            "colorscale": [
             [
              0,
              "#0d0887"
             ],
             [
              0.1111111111111111,
              "#46039f"
             ],
             [
              0.2222222222222222,
              "#7201a8"
             ],
             [
              0.3333333333333333,
              "#9c179e"
             ],
             [
              0.4444444444444444,
              "#bd3786"
             ],
             [
              0.5555555555555556,
              "#d8576b"
             ],
             [
              0.6666666666666666,
              "#ed7953"
             ],
             [
              0.7777777777777778,
              "#fb9f3a"
             ],
             [
              0.8888888888888888,
              "#fdca26"
             ],
             [
              1,
              "#f0f921"
             ]
            ],
            "type": "heatmap"
           }
          ],
          "heatmapgl": [
           {
            "colorbar": {
             "outlinewidth": 0,
             "ticks": ""
            },
            "colorscale": [
             [
              0,
              "#0d0887"
             ],
             [
              0.1111111111111111,
              "#46039f"
             ],
             [
              0.2222222222222222,
              "#7201a8"
             ],
             [
              0.3333333333333333,
              "#9c179e"
             ],
             [
              0.4444444444444444,
              "#bd3786"
             ],
             [
              0.5555555555555556,
              "#d8576b"
             ],
             [
              0.6666666666666666,
              "#ed7953"
             ],
             [
              0.7777777777777778,
              "#fb9f3a"
             ],
             [
              0.8888888888888888,
              "#fdca26"
             ],
             [
              1,
              "#f0f921"
             ]
            ],
            "type": "heatmapgl"
           }
          ],
          "histogram": [
           {
            "marker": {
             "pattern": {
              "fillmode": "overlay",
              "size": 10,
              "solidity": 0.2
             }
            },
            "type": "histogram"
           }
          ],
          "histogram2d": [
           {
            "colorbar": {
             "outlinewidth": 0,
             "ticks": ""
            },
            "colorscale": [
             [
              0,
              "#0d0887"
             ],
             [
              0.1111111111111111,
              "#46039f"
             ],
             [
              0.2222222222222222,
              "#7201a8"
             ],
             [
              0.3333333333333333,
              "#9c179e"
             ],
             [
              0.4444444444444444,
              "#bd3786"
             ],
             [
              0.5555555555555556,
              "#d8576b"
             ],
             [
              0.6666666666666666,
              "#ed7953"
             ],
             [
              0.7777777777777778,
              "#fb9f3a"
             ],
             [
              0.8888888888888888,
              "#fdca26"
             ],
             [
              1,
              "#f0f921"
             ]
            ],
            "type": "histogram2d"
           }
          ],
          "histogram2dcontour": [
           {
            "colorbar": {
             "outlinewidth": 0,
             "ticks": ""
            },
            "colorscale": [
             [
              0,
              "#0d0887"
             ],
             [
              0.1111111111111111,
              "#46039f"
             ],
             [
              0.2222222222222222,
              "#7201a8"
             ],
             [
              0.3333333333333333,
              "#9c179e"
             ],
             [
              0.4444444444444444,
              "#bd3786"
             ],
             [
              0.5555555555555556,
              "#d8576b"
             ],
             [
              0.6666666666666666,
              "#ed7953"
             ],
             [
              0.7777777777777778,
              "#fb9f3a"
             ],
             [
              0.8888888888888888,
              "#fdca26"
             ],
             [
              1,
              "#f0f921"
             ]
            ],
            "type": "histogram2dcontour"
           }
          ],
          "mesh3d": [
           {
            "colorbar": {
             "outlinewidth": 0,
             "ticks": ""
            },
            "type": "mesh3d"
           }
          ],
          "parcoords": [
           {
            "line": {
             "colorbar": {
              "outlinewidth": 0,
              "ticks": ""
             }
            },
            "type": "parcoords"
           }
          ],
          "pie": [
           {
            "automargin": true,
            "type": "pie"
           }
          ],
          "scatter": [
           {
            "marker": {
             "line": {
              "color": "#283442"
             }
            },
            "type": "scatter"
           }
          ],
          "scatter3d": [
           {
            "line": {
             "colorbar": {
              "outlinewidth": 0,
              "ticks": ""
             }
            },
            "marker": {
             "colorbar": {
              "outlinewidth": 0,
              "ticks": ""
             }
            },
            "type": "scatter3d"
           }
          ],
          "scattercarpet": [
           {
            "marker": {
             "colorbar": {
              "outlinewidth": 0,
              "ticks": ""
             }
            },
            "type": "scattercarpet"
           }
          ],
          "scattergeo": [
           {
            "marker": {
             "colorbar": {
              "outlinewidth": 0,
              "ticks": ""
             }
            },
            "type": "scattergeo"
           }
          ],
          "scattergl": [
           {
            "marker": {
             "line": {
              "color": "#283442"
             }
            },
            "type": "scattergl"
           }
          ],
          "scattermapbox": [
           {
            "marker": {
             "colorbar": {
              "outlinewidth": 0,
              "ticks": ""
             }
            },
            "type": "scattermapbox"
           }
          ],
          "scatterpolar": [
           {
            "marker": {
             "colorbar": {
              "outlinewidth": 0,
              "ticks": ""
             }
            },
            "type": "scatterpolar"
           }
          ],
          "scatterpolargl": [
           {
            "marker": {
             "colorbar": {
              "outlinewidth": 0,
              "ticks": ""
             }
            },
            "type": "scatterpolargl"
           }
          ],
          "scatterternary": [
           {
            "marker": {
             "colorbar": {
              "outlinewidth": 0,
              "ticks": ""
             }
            },
            "type": "scatterternary"
           }
          ],
          "surface": [
           {
            "colorbar": {
             "outlinewidth": 0,
             "ticks": ""
            },
            "colorscale": [
             [
              0,
              "#0d0887"
             ],
             [
              0.1111111111111111,
              "#46039f"
             ],
             [
              0.2222222222222222,
              "#7201a8"
             ],
             [
              0.3333333333333333,
              "#9c179e"
             ],
             [
              0.4444444444444444,
              "#bd3786"
             ],
             [
              0.5555555555555556,
              "#d8576b"
             ],
             [
              0.6666666666666666,
              "#ed7953"
             ],
             [
              0.7777777777777778,
              "#fb9f3a"
             ],
             [
              0.8888888888888888,
              "#fdca26"
             ],
             [
              1,
              "#f0f921"
             ]
            ],
            "type": "surface"
           }
          ],
          "table": [
           {
            "cells": {
             "fill": {
              "color": "#506784"
             },
             "line": {
              "color": "rgb(17,17,17)"
             }
            },
            "header": {
             "fill": {
              "color": "#2a3f5f"
             },
             "line": {
              "color": "rgb(17,17,17)"
             }
            },
            "type": "table"
           }
          ]
         },
         "layout": {
          "annotationdefaults": {
           "arrowcolor": "#f2f5fa",
           "arrowhead": 0,
           "arrowwidth": 1
          },
          "autotypenumbers": "strict",
          "coloraxis": {
           "colorbar": {
            "outlinewidth": 0,
            "ticks": ""
           }
          },
          "colorscale": {
           "diverging": [
            [
             0,
             "#8e0152"
            ],
            [
             0.1,
             "#c51b7d"
            ],
            [
             0.2,
             "#de77ae"
            ],
            [
             0.3,
             "#f1b6da"
            ],
            [
             0.4,
             "#fde0ef"
            ],
            [
             0.5,
             "#f7f7f7"
            ],
            [
             0.6,
             "#e6f5d0"
            ],
            [
             0.7,
             "#b8e186"
            ],
            [
             0.8,
             "#7fbc41"
            ],
            [
             0.9,
             "#4d9221"
            ],
            [
             1,
             "#276419"
            ]
           ],
           "sequential": [
            [
             0,
             "#0d0887"
            ],
            [
             0.1111111111111111,
             "#46039f"
            ],
            [
             0.2222222222222222,
             "#7201a8"
            ],
            [
             0.3333333333333333,
             "#9c179e"
            ],
            [
             0.4444444444444444,
             "#bd3786"
            ],
            [
             0.5555555555555556,
             "#d8576b"
            ],
            [
             0.6666666666666666,
             "#ed7953"
            ],
            [
             0.7777777777777778,
             "#fb9f3a"
            ],
            [
             0.8888888888888888,
             "#fdca26"
            ],
            [
             1,
             "#f0f921"
            ]
           ],
           "sequentialminus": [
            [
             0,
             "#0d0887"
            ],
            [
             0.1111111111111111,
             "#46039f"
            ],
            [
             0.2222222222222222,
             "#7201a8"
            ],
            [
             0.3333333333333333,
             "#9c179e"
            ],
            [
             0.4444444444444444,
             "#bd3786"
            ],
            [
             0.5555555555555556,
             "#d8576b"
            ],
            [
             0.6666666666666666,
             "#ed7953"
            ],
            [
             0.7777777777777778,
             "#fb9f3a"
            ],
            [
             0.8888888888888888,
             "#fdca26"
            ],
            [
             1,
             "#f0f921"
            ]
           ]
          },
          "colorway": [
           "#636efa",
           "#EF553B",
           "#00cc96",
           "#ab63fa",
           "#FFA15A",
           "#19d3f3",
           "#FF6692",
           "#B6E880",
           "#FF97FF",
           "#FECB52"
          ],
          "font": {
           "color": "#f2f5fa"
          },
          "geo": {
           "bgcolor": "rgb(17,17,17)",
           "lakecolor": "rgb(17,17,17)",
           "landcolor": "rgb(17,17,17)",
           "showlakes": true,
           "showland": true,
           "subunitcolor": "#506784"
          },
          "hoverlabel": {
           "align": "left"
          },
          "hovermode": "closest",
          "mapbox": {
           "style": "dark"
          },
          "paper_bgcolor": "rgb(17,17,17)",
          "plot_bgcolor": "rgb(17,17,17)",
          "polar": {
           "angularaxis": {
            "gridcolor": "#506784",
            "linecolor": "#506784",
            "ticks": ""
           },
           "bgcolor": "rgb(17,17,17)",
           "radialaxis": {
            "gridcolor": "#506784",
            "linecolor": "#506784",
            "ticks": ""
           }
          },
          "scene": {
           "xaxis": {
            "backgroundcolor": "rgb(17,17,17)",
            "gridcolor": "#506784",
            "gridwidth": 2,
            "linecolor": "#506784",
            "showbackground": true,
            "ticks": "",
            "zerolinecolor": "#C8D4E3"
           },
           "yaxis": {
            "backgroundcolor": "rgb(17,17,17)",
            "gridcolor": "#506784",
            "gridwidth": 2,
            "linecolor": "#506784",
            "showbackground": true,
            "ticks": "",
            "zerolinecolor": "#C8D4E3"
           },
           "zaxis": {
            "backgroundcolor": "rgb(17,17,17)",
            "gridcolor": "#506784",
            "gridwidth": 2,
            "linecolor": "#506784",
            "showbackground": true,
            "ticks": "",
            "zerolinecolor": "#C8D4E3"
           }
          },
          "shapedefaults": {
           "line": {
            "color": "#f2f5fa"
           }
          },
          "sliderdefaults": {
           "bgcolor": "#C8D4E3",
           "bordercolor": "rgb(17,17,17)",
           "borderwidth": 1,
           "tickwidth": 0
          },
          "ternary": {
           "aaxis": {
            "gridcolor": "#506784",
            "linecolor": "#506784",
            "ticks": ""
           },
           "baxis": {
            "gridcolor": "#506784",
            "linecolor": "#506784",
            "ticks": ""
           },
           "bgcolor": "rgb(17,17,17)",
           "caxis": {
            "gridcolor": "#506784",
            "linecolor": "#506784",
            "ticks": ""
           }
          },
          "title": {
           "x": 0.05
          },
          "updatemenudefaults": {
           "bgcolor": "#506784",
           "borderwidth": 0
          },
          "xaxis": {
           "automargin": true,
           "gridcolor": "#283442",
           "linecolor": "#506784",
           "ticks": "",
           "title": {
            "standoff": 15
           },
           "zerolinecolor": "#283442",
           "zerolinewidth": 2
          },
          "yaxis": {
           "automargin": true,
           "gridcolor": "#283442",
           "linecolor": "#506784",
           "ticks": "",
           "title": {
            "standoff": 15
           },
           "zerolinecolor": "#283442",
           "zerolinewidth": 2
          }
         }
        },
        "title": {
         "text": "Correlation Heatmap: Target vs GDP Growth"
        },
        "width": 1000,
        "xaxis": {
         "anchor": "y",
         "constrain": "domain",
         "domain": [
          0,
          1
         ],
         "scaleanchor": "y"
        },
        "yaxis": {
         "anchor": "x",
         "autorange": "reversed",
         "constrain": "domain",
         "domain": [
          0,
          1
         ]
        }
       }
      }
     },
     "metadata": {},
     "output_type": "display_data"
    }
   ],
   "source": [
    "# Variables to compare\n",
    "variables_to_compare = [ 'gdp_growth_2014_2015', 'gdp_growth_2015_2016', 'gdp_growth_2016_2017', 'gdp_growth_2017_2018', \n",
    "                        'gdp_growth_2018_2019', 'gdp_growth_2019_2020', 'gdp_growth_2020_2021', 'gdp_growth_2021_2022', \n",
    "                        'gdp_growth_2022_2023']\n",
    "\n",
    "# Compute the correlation matrix for 'target' and the selected variables\n",
    "columns_to_use = ['target'] + variables_to_compare\n",
    "df_corr_matrix = df[columns_to_use].corr()\n",
    "\n",
    "# Take the absolute values of the correlation matrix\n",
    "df_corr_matrix_abs = df_corr_matrix.abs()\n",
    "\n",
    "\n",
    "fig = px.imshow(df_corr_matrix_abs, \n",
    "                color_continuous_scale='RdBu_r', \n",
    "                title=\"Correlation Heatmap: Target vs GDP Growth\", \n",
    "                template='plotly_dark', \n",
    "                width=1000,  \n",
    "                height=600)  \n",
    "\n",
    "fig.show()\n"
   ]
  },
  {
   "cell_type": "code",
   "execution_count": 111,
   "metadata": {},
   "outputs": [
    {
     "data": {
      "application/vnd.plotly.v1+json": {
       "config": {
        "plotlyServerURL": "https://plot.ly"
       },
       "data": [
        {
         "coloraxis": "coloraxis",
         "hovertemplate": "x: %{x}<br>y: %{y}<br>color: %{z}<extra></extra>",
         "name": "0",
         "type": "heatmap",
         "x": [
          "target",
          "inflation_to_unemployment_2000",
          "inflation_to_unemployment_2014",
          "inflation_to_unemployment_2015",
          "inflation_to_unemployment_2016",
          "inflation_to_unemployment_2017",
          "inflation_to_unemployment_2018",
          "inflation_to_unemployment_2019",
          "inflation_to_unemployment_2020",
          "inflation_to_unemployment_2021",
          "inflation_to_unemployment_2022",
          "inflation_to_unemployment_2023"
         ],
         "xaxis": "x",
         "y": [
          "target",
          "inflation_to_unemployment_2000",
          "inflation_to_unemployment_2014",
          "inflation_to_unemployment_2015",
          "inflation_to_unemployment_2016",
          "inflation_to_unemployment_2017",
          "inflation_to_unemployment_2018",
          "inflation_to_unemployment_2019",
          "inflation_to_unemployment_2020",
          "inflation_to_unemployment_2021",
          "inflation_to_unemployment_2022",
          "inflation_to_unemployment_2023"
         ],
         "yaxis": "y",
         "z": [
          [
           1,
           0.005414999358244536,
           0.1849966816030683,
           0.18921350918689234,
           0.1919203735962184,
           0.196319611505747,
           0.2056764262156626,
           0.2141836453517289,
           0.2210920303000165,
           0.22333376842603755,
           0.23140882184472877,
           0.23310515898043102
          ],
          [
           0.005414999358244536,
           1,
           0.42978797390574736,
           0.43176413612648734,
           0.43294195852777073,
           0.4343850177407032,
           0.43560813877673815,
           0.4336582835471567,
           0.42822919107374063,
           0.426081463872607,
           0.40692692790031526,
           0.359416410420503
          ],
          [
           0.1849966816030683,
           0.42978797390574736,
           1,
           0.9995344717345178,
           0.9985964271599423,
           0.996061269408604,
           0.9854228533488942,
           0.9666561066274733,
           0.9399107838570371,
           0.9308679873092237,
           0.8629673692496744,
           0.7165314917419464
          ],
          [
           0.18921350918689234,
           0.43176413612648734,
           0.9995344717345178,
           1,
           0.9997468165867285,
           0.9983017926653789,
           0.990153494231831,
           0.9740178817433588,
           0.9498885308428765,
           0.9415811371929244,
           0.8779806381156477,
           0.7372774420114254
          ],
          [
           0.1919203735962184,
           0.43294195852777073,
           0.9985964271599423,
           0.9997468165867285,
           1,
           0.9993593973524911,
           0.9930497429438944,
           0.9788611869074665,
           0.9566728645520993,
           0.9489075076779003,
           0.8885023558975165,
           0.7521063047182533
          ],
          [
           0.196319611505747,
           0.4343850177407032,
           0.996061269408604,
           0.9983017926653789,
           0.9993593973524911,
           1,
           0.9966254944706368,
           0.9855531852979221,
           0.9664794956461503,
           0.9595900437036738,
           0.9043465389889908,
           0.7749513952519942
          ],
          [
           0.2056764262156626,
           0.43560813877673815,
           0.9854228533488942,
           0.990153494231831,
           0.9930497429438944,
           0.9966254944706368,
           1,
           0.9961295178896576,
           0.9842923948065091,
           0.9794488729599097,
           0.9363197794803977,
           0.8236086728836125
          ],
          [
           0.2141836453517289,
           0.4336582835471567,
           0.9666561066274733,
           0.9740178817433588,
           0.9788611869074665,
           0.9855531852979221,
           0.9961295178896576,
           1,
           0.9960006450118216,
           0.9933846057442657,
           0.9635515804545469,
           0.8695496837729931
          ],
          [
           0.2210920303000165,
           0.42822919107374063,
           0.9399107838570371,
           0.9498885308428765,
           0.9566728645520993,
           0.9664794956461503,
           0.9842923948065091,
           0.9960006450118216,
           1,
           0.9996681620486142,
           0.9835853831068333,
           0.9093469110577974
          ],
          [
           0.22333376842603755,
           0.426081463872607,
           0.9308679873092237,
           0.9415811371929244,
           0.9489075076779003,
           0.9595900437036738,
           0.9794488729599097,
           0.9933846057442657,
           0.9996681620486142,
           1,
           0.9878969905634774,
           0.9194236082592347
          ],
          [
           0.23140882184472877,
           0.40692692790031526,
           0.8629673692496744,
           0.8779806381156477,
           0.8885023558975165,
           0.9043465389889908,
           0.9363197794803977,
           0.9635515804545469,
           0.9835853831068333,
           0.9878969905634774,
           1,
           0.9674306207301114
          ],
          [
           0.23310515898043102,
           0.359416410420503,
           0.7165314917419464,
           0.7372774420114254,
           0.7521063047182533,
           0.7749513952519942,
           0.8236086728836125,
           0.8695496837729931,
           0.9093469110577974,
           0.9194236082592347,
           0.9674306207301114,
           1
          ]
         ]
        }
       ],
       "layout": {
        "coloraxis": {
         "colorscale": [
          [
           0,
           "rgb(5,48,97)"
          ],
          [
           0.1,
           "rgb(33,102,172)"
          ],
          [
           0.2,
           "rgb(67,147,195)"
          ],
          [
           0.3,
           "rgb(146,197,222)"
          ],
          [
           0.4,
           "rgb(209,229,240)"
          ],
          [
           0.5,
           "rgb(247,247,247)"
          ],
          [
           0.6,
           "rgb(253,219,199)"
          ],
          [
           0.7,
           "rgb(244,165,130)"
          ],
          [
           0.8,
           "rgb(214,96,77)"
          ],
          [
           0.9,
           "rgb(178,24,43)"
          ],
          [
           1,
           "rgb(103,0,31)"
          ]
         ]
        },
        "height": 600,
        "template": {
         "data": {
          "bar": [
           {
            "error_x": {
             "color": "#f2f5fa"
            },
            "error_y": {
             "color": "#f2f5fa"
            },
            "marker": {
             "line": {
              "color": "rgb(17,17,17)",
              "width": 0.5
             },
             "pattern": {
              "fillmode": "overlay",
              "size": 10,
              "solidity": 0.2
             }
            },
            "type": "bar"
           }
          ],
          "barpolar": [
           {
            "marker": {
             "line": {
              "color": "rgb(17,17,17)",
              "width": 0.5
             },
             "pattern": {
              "fillmode": "overlay",
              "size": 10,
              "solidity": 0.2
             }
            },
            "type": "barpolar"
           }
          ],
          "carpet": [
           {
            "aaxis": {
             "endlinecolor": "#A2B1C6",
             "gridcolor": "#506784",
             "linecolor": "#506784",
             "minorgridcolor": "#506784",
             "startlinecolor": "#A2B1C6"
            },
            "baxis": {
             "endlinecolor": "#A2B1C6",
             "gridcolor": "#506784",
             "linecolor": "#506784",
             "minorgridcolor": "#506784",
             "startlinecolor": "#A2B1C6"
            },
            "type": "carpet"
           }
          ],
          "choropleth": [
           {
            "colorbar": {
             "outlinewidth": 0,
             "ticks": ""
            },
            "type": "choropleth"
           }
          ],
          "contour": [
           {
            "colorbar": {
             "outlinewidth": 0,
             "ticks": ""
            },
            "colorscale": [
             [
              0,
              "#0d0887"
             ],
             [
              0.1111111111111111,
              "#46039f"
             ],
             [
              0.2222222222222222,
              "#7201a8"
             ],
             [
              0.3333333333333333,
              "#9c179e"
             ],
             [
              0.4444444444444444,
              "#bd3786"
             ],
             [
              0.5555555555555556,
              "#d8576b"
             ],
             [
              0.6666666666666666,
              "#ed7953"
             ],
             [
              0.7777777777777778,
              "#fb9f3a"
             ],
             [
              0.8888888888888888,
              "#fdca26"
             ],
             [
              1,
              "#f0f921"
             ]
            ],
            "type": "contour"
           }
          ],
          "contourcarpet": [
           {
            "colorbar": {
             "outlinewidth": 0,
             "ticks": ""
            },
            "type": "contourcarpet"
           }
          ],
          "heatmap": [
           {
            "colorbar": {
             "outlinewidth": 0,
             "ticks": ""
            },
            "colorscale": [
             [
              0,
              "#0d0887"
             ],
             [
              0.1111111111111111,
              "#46039f"
             ],
             [
              0.2222222222222222,
              "#7201a8"
             ],
             [
              0.3333333333333333,
              "#9c179e"
             ],
             [
              0.4444444444444444,
              "#bd3786"
             ],
             [
              0.5555555555555556,
              "#d8576b"
             ],
             [
              0.6666666666666666,
              "#ed7953"
             ],
             [
              0.7777777777777778,
              "#fb9f3a"
             ],
             [
              0.8888888888888888,
              "#fdca26"
             ],
             [
              1,
              "#f0f921"
             ]
            ],
            "type": "heatmap"
           }
          ],
          "heatmapgl": [
           {
            "colorbar": {
             "outlinewidth": 0,
             "ticks": ""
            },
            "colorscale": [
             [
              0,
              "#0d0887"
             ],
             [
              0.1111111111111111,
              "#46039f"
             ],
             [
              0.2222222222222222,
              "#7201a8"
             ],
             [
              0.3333333333333333,
              "#9c179e"
             ],
             [
              0.4444444444444444,
              "#bd3786"
             ],
             [
              0.5555555555555556,
              "#d8576b"
             ],
             [
              0.6666666666666666,
              "#ed7953"
             ],
             [
              0.7777777777777778,
              "#fb9f3a"
             ],
             [
              0.8888888888888888,
              "#fdca26"
             ],
             [
              1,
              "#f0f921"
             ]
            ],
            "type": "heatmapgl"
           }
          ],
          "histogram": [
           {
            "marker": {
             "pattern": {
              "fillmode": "overlay",
              "size": 10,
              "solidity": 0.2
             }
            },
            "type": "histogram"
           }
          ],
          "histogram2d": [
           {
            "colorbar": {
             "outlinewidth": 0,
             "ticks": ""
            },
            "colorscale": [
             [
              0,
              "#0d0887"
             ],
             [
              0.1111111111111111,
              "#46039f"
             ],
             [
              0.2222222222222222,
              "#7201a8"
             ],
             [
              0.3333333333333333,
              "#9c179e"
             ],
             [
              0.4444444444444444,
              "#bd3786"
             ],
             [
              0.5555555555555556,
              "#d8576b"
             ],
             [
              0.6666666666666666,
              "#ed7953"
             ],
             [
              0.7777777777777778,
              "#fb9f3a"
             ],
             [
              0.8888888888888888,
              "#fdca26"
             ],
             [
              1,
              "#f0f921"
             ]
            ],
            "type": "histogram2d"
           }
          ],
          "histogram2dcontour": [
           {
            "colorbar": {
             "outlinewidth": 0,
             "ticks": ""
            },
            "colorscale": [
             [
              0,
              "#0d0887"
             ],
             [
              0.1111111111111111,
              "#46039f"
             ],
             [
              0.2222222222222222,
              "#7201a8"
             ],
             [
              0.3333333333333333,
              "#9c179e"
             ],
             [
              0.4444444444444444,
              "#bd3786"
             ],
             [
              0.5555555555555556,
              "#d8576b"
             ],
             [
              0.6666666666666666,
              "#ed7953"
             ],
             [
              0.7777777777777778,
              "#fb9f3a"
             ],
             [
              0.8888888888888888,
              "#fdca26"
             ],
             [
              1,
              "#f0f921"
             ]
            ],
            "type": "histogram2dcontour"
           }
          ],
          "mesh3d": [
           {
            "colorbar": {
             "outlinewidth": 0,
             "ticks": ""
            },
            "type": "mesh3d"
           }
          ],
          "parcoords": [
           {
            "line": {
             "colorbar": {
              "outlinewidth": 0,
              "ticks": ""
             }
            },
            "type": "parcoords"
           }
          ],
          "pie": [
           {
            "automargin": true,
            "type": "pie"
           }
          ],
          "scatter": [
           {
            "marker": {
             "line": {
              "color": "#283442"
             }
            },
            "type": "scatter"
           }
          ],
          "scatter3d": [
           {
            "line": {
             "colorbar": {
              "outlinewidth": 0,
              "ticks": ""
             }
            },
            "marker": {
             "colorbar": {
              "outlinewidth": 0,
              "ticks": ""
             }
            },
            "type": "scatter3d"
           }
          ],
          "scattercarpet": [
           {
            "marker": {
             "colorbar": {
              "outlinewidth": 0,
              "ticks": ""
             }
            },
            "type": "scattercarpet"
           }
          ],
          "scattergeo": [
           {
            "marker": {
             "colorbar": {
              "outlinewidth": 0,
              "ticks": ""
             }
            },
            "type": "scattergeo"
           }
          ],
          "scattergl": [
           {
            "marker": {
             "line": {
              "color": "#283442"
             }
            },
            "type": "scattergl"
           }
          ],
          "scattermapbox": [
           {
            "marker": {
             "colorbar": {
              "outlinewidth": 0,
              "ticks": ""
             }
            },
            "type": "scattermapbox"
           }
          ],
          "scatterpolar": [
           {
            "marker": {
             "colorbar": {
              "outlinewidth": 0,
              "ticks": ""
             }
            },
            "type": "scatterpolar"
           }
          ],
          "scatterpolargl": [
           {
            "marker": {
             "colorbar": {
              "outlinewidth": 0,
              "ticks": ""
             }
            },
            "type": "scatterpolargl"
           }
          ],
          "scatterternary": [
           {
            "marker": {
             "colorbar": {
              "outlinewidth": 0,
              "ticks": ""
             }
            },
            "type": "scatterternary"
           }
          ],
          "surface": [
           {
            "colorbar": {
             "outlinewidth": 0,
             "ticks": ""
            },
            "colorscale": [
             [
              0,
              "#0d0887"
             ],
             [
              0.1111111111111111,
              "#46039f"
             ],
             [
              0.2222222222222222,
              "#7201a8"
             ],
             [
              0.3333333333333333,
              "#9c179e"
             ],
             [
              0.4444444444444444,
              "#bd3786"
             ],
             [
              0.5555555555555556,
              "#d8576b"
             ],
             [
              0.6666666666666666,
              "#ed7953"
             ],
             [
              0.7777777777777778,
              "#fb9f3a"
             ],
             [
              0.8888888888888888,
              "#fdca26"
             ],
             [
              1,
              "#f0f921"
             ]
            ],
            "type": "surface"
           }
          ],
          "table": [
           {
            "cells": {
             "fill": {
              "color": "#506784"
             },
             "line": {
              "color": "rgb(17,17,17)"
             }
            },
            "header": {
             "fill": {
              "color": "#2a3f5f"
             },
             "line": {
              "color": "rgb(17,17,17)"
             }
            },
            "type": "table"
           }
          ]
         },
         "layout": {
          "annotationdefaults": {
           "arrowcolor": "#f2f5fa",
           "arrowhead": 0,
           "arrowwidth": 1
          },
          "autotypenumbers": "strict",
          "coloraxis": {
           "colorbar": {
            "outlinewidth": 0,
            "ticks": ""
           }
          },
          "colorscale": {
           "diverging": [
            [
             0,
             "#8e0152"
            ],
            [
             0.1,
             "#c51b7d"
            ],
            [
             0.2,
             "#de77ae"
            ],
            [
             0.3,
             "#f1b6da"
            ],
            [
             0.4,
             "#fde0ef"
            ],
            [
             0.5,
             "#f7f7f7"
            ],
            [
             0.6,
             "#e6f5d0"
            ],
            [
             0.7,
             "#b8e186"
            ],
            [
             0.8,
             "#7fbc41"
            ],
            [
             0.9,
             "#4d9221"
            ],
            [
             1,
             "#276419"
            ]
           ],
           "sequential": [
            [
             0,
             "#0d0887"
            ],
            [
             0.1111111111111111,
             "#46039f"
            ],
            [
             0.2222222222222222,
             "#7201a8"
            ],
            [
             0.3333333333333333,
             "#9c179e"
            ],
            [
             0.4444444444444444,
             "#bd3786"
            ],
            [
             0.5555555555555556,
             "#d8576b"
            ],
            [
             0.6666666666666666,
             "#ed7953"
            ],
            [
             0.7777777777777778,
             "#fb9f3a"
            ],
            [
             0.8888888888888888,
             "#fdca26"
            ],
            [
             1,
             "#f0f921"
            ]
           ],
           "sequentialminus": [
            [
             0,
             "#0d0887"
            ],
            [
             0.1111111111111111,
             "#46039f"
            ],
            [
             0.2222222222222222,
             "#7201a8"
            ],
            [
             0.3333333333333333,
             "#9c179e"
            ],
            [
             0.4444444444444444,
             "#bd3786"
            ],
            [
             0.5555555555555556,
             "#d8576b"
            ],
            [
             0.6666666666666666,
             "#ed7953"
            ],
            [
             0.7777777777777778,
             "#fb9f3a"
            ],
            [
             0.8888888888888888,
             "#fdca26"
            ],
            [
             1,
             "#f0f921"
            ]
           ]
          },
          "colorway": [
           "#636efa",
           "#EF553B",
           "#00cc96",
           "#ab63fa",
           "#FFA15A",
           "#19d3f3",
           "#FF6692",
           "#B6E880",
           "#FF97FF",
           "#FECB52"
          ],
          "font": {
           "color": "#f2f5fa"
          },
          "geo": {
           "bgcolor": "rgb(17,17,17)",
           "lakecolor": "rgb(17,17,17)",
           "landcolor": "rgb(17,17,17)",
           "showlakes": true,
           "showland": true,
           "subunitcolor": "#506784"
          },
          "hoverlabel": {
           "align": "left"
          },
          "hovermode": "closest",
          "mapbox": {
           "style": "dark"
          },
          "paper_bgcolor": "rgb(17,17,17)",
          "plot_bgcolor": "rgb(17,17,17)",
          "polar": {
           "angularaxis": {
            "gridcolor": "#506784",
            "linecolor": "#506784",
            "ticks": ""
           },
           "bgcolor": "rgb(17,17,17)",
           "radialaxis": {
            "gridcolor": "#506784",
            "linecolor": "#506784",
            "ticks": ""
           }
          },
          "scene": {
           "xaxis": {
            "backgroundcolor": "rgb(17,17,17)",
            "gridcolor": "#506784",
            "gridwidth": 2,
            "linecolor": "#506784",
            "showbackground": true,
            "ticks": "",
            "zerolinecolor": "#C8D4E3"
           },
           "yaxis": {
            "backgroundcolor": "rgb(17,17,17)",
            "gridcolor": "#506784",
            "gridwidth": 2,
            "linecolor": "#506784",
            "showbackground": true,
            "ticks": "",
            "zerolinecolor": "#C8D4E3"
           },
           "zaxis": {
            "backgroundcolor": "rgb(17,17,17)",
            "gridcolor": "#506784",
            "gridwidth": 2,
            "linecolor": "#506784",
            "showbackground": true,
            "ticks": "",
            "zerolinecolor": "#C8D4E3"
           }
          },
          "shapedefaults": {
           "line": {
            "color": "#f2f5fa"
           }
          },
          "sliderdefaults": {
           "bgcolor": "#C8D4E3",
           "bordercolor": "rgb(17,17,17)",
           "borderwidth": 1,
           "tickwidth": 0
          },
          "ternary": {
           "aaxis": {
            "gridcolor": "#506784",
            "linecolor": "#506784",
            "ticks": ""
           },
           "baxis": {
            "gridcolor": "#506784",
            "linecolor": "#506784",
            "ticks": ""
           },
           "bgcolor": "rgb(17,17,17)",
           "caxis": {
            "gridcolor": "#506784",
            "linecolor": "#506784",
            "ticks": ""
           }
          },
          "title": {
           "x": 0.05
          },
          "updatemenudefaults": {
           "bgcolor": "#506784",
           "borderwidth": 0
          },
          "xaxis": {
           "automargin": true,
           "gridcolor": "#283442",
           "linecolor": "#506784",
           "ticks": "",
           "title": {
            "standoff": 15
           },
           "zerolinecolor": "#283442",
           "zerolinewidth": 2
          },
          "yaxis": {
           "automargin": true,
           "gridcolor": "#283442",
           "linecolor": "#506784",
           "ticks": "",
           "title": {
            "standoff": 15
           },
           "zerolinecolor": "#283442",
           "zerolinewidth": 2
          }
         }
        },
        "title": {
         "text": "Correlation Heatmap: Target vs Inflation to Unemployment Ratio"
        },
        "width": 1000,
        "xaxis": {
         "anchor": "y",
         "constrain": "domain",
         "domain": [
          0,
          1
         ],
         "scaleanchor": "y"
        },
        "yaxis": {
         "anchor": "x",
         "autorange": "reversed",
         "constrain": "domain",
         "domain": [
          0,
          1
         ]
        }
       }
      }
     },
     "metadata": {},
     "output_type": "display_data"
    }
   ],
   "source": [
    "# Variables to compare\n",
    "variables_to_compare = [ 'inflation_to_unemployment_2000', 'inflation_to_unemployment_2014', 'inflation_to_unemployment_2015', \n",
    "                        'inflation_to_unemployment_2016', 'inflation_to_unemployment_2017', 'inflation_to_unemployment_2018', \n",
    "                        'inflation_to_unemployment_2019', 'inflation_to_unemployment_2020', 'inflation_to_unemployment_2021', \n",
    "                        'inflation_to_unemployment_2022', 'inflation_to_unemployment_2023']\n",
    "\n",
    "# Compute the correlation matrix for 'target' and the selected variables\n",
    "columns_to_use = ['target'] + variables_to_compare\n",
    "df_corr_matrix = df[columns_to_use].corr()\n",
    "\n",
    "# Take the absolute values of the correlation matrix\n",
    "df_corr_matrix_abs = df_corr_matrix.abs()\n",
    "\n",
    "fig = px.imshow(df_corr_matrix_abs, \n",
    "                color_continuous_scale='RdBu_r', \n",
    "                title=\"Correlation Heatmap: Target vs Inflation to Unemployment Ratio\", \n",
    "                template='plotly_dark', \n",
    "                width=1000, \n",
    "                height=600)  \n",
    "\n",
    "fig.show()\n"
   ]
  },
  {
   "cell_type": "code",
   "execution_count": 110,
   "metadata": {},
   "outputs": [
    {
     "name": "stdout",
     "output_type": "stream",
     "text": [
      "['unemployment_2000', 'unemployment_2014', 'unemployment_2015', 'unemployment_2016', 'unemployment_2017', 'unemployment_2018', 'unemployment_2019', 'unemployment_2020', 'unemployment_2021', 'unemployment_2022', 'unemployment_2023', 'current_account_balance_1990', 'current_account_balance_2000', 'current_account_balance_2014', 'current_account_balance_2015', 'current_account_balance_2016', 'current_account_balance_2017', 'current_account_balance_2018', 'current_account_balance_2019', 'current_account_balance_2020', 'current_account_balance_2021', 'current_account_balance_2022', 'current_account_balance_2023', 'exchange_rate_usd_1990', 'exchange_rate_usd_2000', 'exchange_rate_usd_2014', 'exchange_rate_usd_2015', 'exchange_rate_usd_2016', 'exchange_rate_usd_2017', 'exchange_rate_usd_2018', 'exchange_rate_usd_2019', 'exchange_rate_usd_2020', 'exchange_rate_usd_2021', 'exchange_rate_usd_2022', 'exchange_rate_usd_2023', 'gdp_1990', 'gdp_2000', 'gdp_2014', 'gdp_2015', 'gdp_2016', 'gdp_2017', 'gdp_2018', 'gdp_2019', 'gdp_2020', 'gdp_2021', 'gdp_2022', 'gdp_2023', 'inflation_1990', 'inflation_2000', 'inflation_2014', 'inflation_2015', 'inflation_2016', 'inflation_2017', 'inflation_2018', 'inflation_2019', 'inflation_2020', 'inflation_2021', 'inflation_2022', 'inflation_2023', 'total_reserves_1990', 'total_reserves_2000', 'total_reserves_2014', 'total_reserves_2015', 'total_reserves_2016', 'total_reserves_2017', 'total_reserves_2018', 'total_reserves_2019', 'total_reserves_2020', 'total_reserves_2021', 'total_reserves_2022', 'total_reserves_2023', 'target', 'cab_to_gdp_1990', 'cab_to_gdp_2000', 'cab_to_gdp_2014', 'cab_to_gdp_2015', 'cab_to_gdp_2016', 'cab_to_gdp_2017', 'cab_to_gdp_2018', 'cab_to_gdp_2019', 'cab_to_gdp_2020', 'cab_to_gdp_2021', 'cab_to_gdp_2022', 'cab_to_gdp_2023', 'reserves_to_gdp_1990', 'reserves_to_gdp_2000', 'reserves_to_gdp_2014', 'reserves_to_gdp_2015', 'reserves_to_gdp_2016', 'reserves_to_gdp_2017', 'reserves_to_gdp_2018', 'reserves_to_gdp_2019', 'reserves_to_gdp_2020', 'reserves_to_gdp_2021', 'reserves_to_gdp_2022', 'reserves_to_gdp_2023', 'gdp_growth_2014_2015', 'gdp_growth_2015_2016', 'gdp_growth_2016_2017', 'gdp_growth_2017_2018', 'gdp_growth_2018_2019', 'gdp_growth_2019_2020', 'gdp_growth_2020_2021', 'gdp_growth_2021_2022', 'gdp_growth_2022_2023', 'inflation_to_unemployment_2000', 'inflation_to_unemployment_2014', 'inflation_to_unemployment_2015', 'inflation_to_unemployment_2016', 'inflation_to_unemployment_2017', 'inflation_to_unemployment_2018', 'inflation_to_unemployment_2019', 'inflation_to_unemployment_2020', 'inflation_to_unemployment_2021', 'inflation_to_unemployment_2022', 'inflation_to_unemployment_2023']\n"
     ]
    }
   ],
   "source": [
    "column_list = df.columns.tolist()\n",
    "print(column_list)"
   ]
  },
  {
   "cell_type": "markdown",
   "metadata": {},
   "source": [
    "## Feature Selection "
   ]
  },
  {
   "cell_type": "markdown",
   "metadata": {},
   "source": [
    "Our goal is to remove redundant and irrelevant variables from our dataframe to avoid having too much noise and use too much computational power for nothing. \n",
    "As we have many values with a correlation with the target below 0.3, we will put a low threshold for irrelevance. "
   ]
  },
  {
   "cell_type": "code",
   "execution_count": 122,
   "metadata": {},
   "outputs": [],
   "source": [
    "irrelevance_threshold = 0.05\n",
    "redundancy_threshold = 0.95"
   ]
  },
  {
   "cell_type": "code",
   "execution_count": 123,
   "metadata": {},
   "outputs": [],
   "source": [
    "# Remove irrelevant variables\n",
    "correlations_with_target = df.corr()['target'].abs()  # Absolute correlations with the target\n",
    "relevant_vars = correlations_with_target[correlations_with_target >= irrelevance_threshold].index.tolist()\n",
    "\n",
    "# Filter the dataframe to include only relevant variables\n",
    "filtered_df = df[relevant_vars]"
   ]
  },
  {
   "cell_type": "code",
   "execution_count": 124,
   "metadata": {},
   "outputs": [],
   "source": [
    "# Remove redundant variables (highly correlated with each other, but not with the target)\n",
    "correlation_matrix = filtered_df.corr().abs()  # Compute absolute correlation matrix\n",
    "np.fill_diagonal(correlation_matrix.values, 0)  # Fill diagonal with 0 to ignore self-correlation\n",
    "\n",
    "# Keep track of variables to drop\n",
    "variables_to_drop = set()\n",
    "\n",
    "# Iterate through variables to find redundancies\n",
    "for col in correlation_matrix.columns:\n",
    "    if col not in variables_to_drop:\n",
    "        # Find variables highly correlated with the current variable\n",
    "        redundant_vars = correlation_matrix[col][correlation_matrix[col] > redundancy_threshold].index.tolist()\n",
    "        # For redundant variables, keep the one most correlated with the target\n",
    "        for redundant_var in redundant_vars:\n",
    "            if redundant_var != col:\n",
    "                # Compare correlation with target\n",
    "                if correlations_with_target[col] >= correlations_with_target[redundant_var]:\n",
    "                    variables_to_drop.add(redundant_var)  # Drop the redundant variable\n",
    "                else:\n",
    "                    variables_to_drop.add(col)\n",
    "\n",
    "# Final list of variables after removing irrelevant and redundant variables\n",
    "final_vars = [var for var in filtered_df.columns if var not in variables_to_drop]\n",
    "\n",
    "# Create the final dataframe\n",
    "final_df = df[final_vars]\n"
   ]
  },
  {
   "cell_type": "code",
   "execution_count": 125,
   "metadata": {},
   "outputs": [
    {
     "data": {
      "text/html": [
       "<div>\n",
       "<style scoped>\n",
       "    .dataframe tbody tr th:only-of-type {\n",
       "        vertical-align: middle;\n",
       "    }\n",
       "\n",
       "    .dataframe tbody tr th {\n",
       "        vertical-align: top;\n",
       "    }\n",
       "\n",
       "    .dataframe thead th {\n",
       "        text-align: right;\n",
       "    }\n",
       "</style>\n",
       "<table border=\"1\" class=\"dataframe\">\n",
       "  <thead>\n",
       "    <tr style=\"text-align: right;\">\n",
       "      <th></th>\n",
       "      <th>unemployment_2000</th>\n",
       "      <th>unemployment_2022</th>\n",
       "      <th>exchange_rate_usd_1990</th>\n",
       "      <th>exchange_rate_usd_2023</th>\n",
       "      <th>gdp_1990</th>\n",
       "      <th>gdp_2014</th>\n",
       "      <th>inflation_1990</th>\n",
       "      <th>total_reserves_1990</th>\n",
       "      <th>total_reserves_2000</th>\n",
       "      <th>total_reserves_2021</th>\n",
       "      <th>target</th>\n",
       "      <th>cab_to_gdp_2014</th>\n",
       "      <th>cab_to_gdp_2018</th>\n",
       "      <th>reserves_to_gdp_1990</th>\n",
       "      <th>reserves_to_gdp_2000</th>\n",
       "      <th>reserves_to_gdp_2017</th>\n",
       "      <th>gdp_growth_2014_2015</th>\n",
       "      <th>gdp_growth_2015_2016</th>\n",
       "      <th>gdp_growth_2016_2017</th>\n",
       "      <th>gdp_growth_2017_2018</th>\n",
       "      <th>gdp_growth_2018_2019</th>\n",
       "      <th>gdp_growth_2019_2020</th>\n",
       "      <th>gdp_growth_2020_2021</th>\n",
       "      <th>gdp_growth_2021_2022</th>\n",
       "      <th>inflation_to_unemployment_2023</th>\n",
       "    </tr>\n",
       "    <tr>\n",
       "      <th>Country</th>\n",
       "      <th></th>\n",
       "      <th></th>\n",
       "      <th></th>\n",
       "      <th></th>\n",
       "      <th></th>\n",
       "      <th></th>\n",
       "      <th></th>\n",
       "      <th></th>\n",
       "      <th></th>\n",
       "      <th></th>\n",
       "      <th></th>\n",
       "      <th></th>\n",
       "      <th></th>\n",
       "      <th></th>\n",
       "      <th></th>\n",
       "      <th></th>\n",
       "      <th></th>\n",
       "      <th></th>\n",
       "      <th></th>\n",
       "      <th></th>\n",
       "      <th></th>\n",
       "      <th></th>\n",
       "      <th></th>\n",
       "      <th></th>\n",
       "      <th></th>\n",
       "    </tr>\n",
       "  </thead>\n",
       "  <tbody>\n",
       "    <tr>\n",
       "      <th>Australia</th>\n",
       "      <td>6.288000</td>\n",
       "      <td>3.701000</td>\n",
       "      <td>1.281057e+00</td>\n",
       "      <td>1.505191e+00</td>\n",
       "      <td>3.114267e+11</td>\n",
       "      <td>1.468265e+12</td>\n",
       "      <td>7.333022e+00</td>\n",
       "      <td>1.931874e+10</td>\n",
       "      <td>1.882155e+10</td>\n",
       "      <td>5.787750e+10</td>\n",
       "      <td>0</td>\n",
       "      <td>-2.080506e-12</td>\n",
       "      <td>-1.564216e-12</td>\n",
       "      <td>0.062033</td>\n",
       "      <td>0.045226</td>\n",
       "      <td>0.049528</td>\n",
       "      <td>-0.079665</td>\n",
       "      <td>-0.106904</td>\n",
       "      <td>0.098394</td>\n",
       "      <td>0.077118</td>\n",
       "      <td>-0.024573</td>\n",
       "      <td>-0.046176</td>\n",
       "      <td>0.171875</td>\n",
       "      <td>0.086156</td>\n",
       "      <td>1.526320e+00</td>\n",
       "    </tr>\n",
       "    <tr>\n",
       "      <th>Canada</th>\n",
       "      <td>6.829000</td>\n",
       "      <td>5.280000</td>\n",
       "      <td>1.166774e+00</td>\n",
       "      <td>1.349909e+00</td>\n",
       "      <td>5.960756e+11</td>\n",
       "      <td>1.805750e+12</td>\n",
       "      <td>4.780477e+00</td>\n",
       "      <td>2.352952e+10</td>\n",
       "      <td>3.242727e+10</td>\n",
       "      <td>1.066151e+11</td>\n",
       "      <td>0</td>\n",
       "      <td>-1.284187e-12</td>\n",
       "      <td>-1.382386e-12</td>\n",
       "      <td>0.039474</td>\n",
       "      <td>0.043540</td>\n",
       "      <td>0.052555</td>\n",
       "      <td>-0.138026</td>\n",
       "      <td>-0.018319</td>\n",
       "      <td>0.079366</td>\n",
       "      <td>0.046120</td>\n",
       "      <td>0.010662</td>\n",
       "      <td>-0.050490</td>\n",
       "      <td>0.212472</td>\n",
       "      <td>0.076719</td>\n",
       "      <td>7.228851e-01</td>\n",
       "    </tr>\n",
       "    <tr>\n",
       "      <th>Denmark</th>\n",
       "      <td>4.476000</td>\n",
       "      <td>4.434000</td>\n",
       "      <td>6.188558e+00</td>\n",
       "      <td>6.889703e+00</td>\n",
       "      <td>1.382177e+11</td>\n",
       "      <td>3.528326e+11</td>\n",
       "      <td>2.641603e+00</td>\n",
       "      <td>1.122584e+10</td>\n",
       "      <td>1.569595e+10</td>\n",
       "      <td>8.223584e+10</td>\n",
       "      <td>0</td>\n",
       "      <td>2.518525e-11</td>\n",
       "      <td>1.757582e-11</td>\n",
       "      <td>0.081219</td>\n",
       "      <td>0.095681</td>\n",
       "      <td>0.226906</td>\n",
       "      <td>-0.144753</td>\n",
       "      <td>0.034541</td>\n",
       "      <td>0.062235</td>\n",
       "      <td>0.071417</td>\n",
       "      <td>-0.027842</td>\n",
       "      <td>0.029616</td>\n",
       "      <td>0.148320</td>\n",
       "      <td>-0.015752</td>\n",
       "      <td>6.427807e-01</td>\n",
       "    </tr>\n",
       "    <tr>\n",
       "      <th>Germany</th>\n",
       "      <td>7.917000</td>\n",
       "      <td>3.135000</td>\n",
       "      <td>1.615733e+00</td>\n",
       "      <td>1.629982e+12</td>\n",
       "      <td>1.778162e+12</td>\n",
       "      <td>3.965801e+12</td>\n",
       "      <td>2.696468e+00</td>\n",
       "      <td>1.045473e+11</td>\n",
       "      <td>8.749687e+10</td>\n",
       "      <td>2.957362e+11</td>\n",
       "      <td>0</td>\n",
       "      <td>1.813629e-12</td>\n",
       "      <td>2.084088e-12</td>\n",
       "      <td>0.058795</td>\n",
       "      <td>0.044483</td>\n",
       "      <td>0.053143</td>\n",
       "      <td>-0.136727</td>\n",
       "      <td>0.033362</td>\n",
       "      <td>0.063686</td>\n",
       "      <td>0.076776</td>\n",
       "      <td>-0.023396</td>\n",
       "      <td>-0.004313</td>\n",
       "      <td>0.103589</td>\n",
       "      <td>-0.042477</td>\n",
       "      <td>1.952853e+00</td>\n",
       "    </tr>\n",
       "    <tr>\n",
       "      <th>Liechtenstein</th>\n",
       "      <td>9.640537</td>\n",
       "      <td>8.230760</td>\n",
       "      <td>1.840786e+08</td>\n",
       "      <td>2.638014e+10</td>\n",
       "      <td>1.421509e+09</td>\n",
       "      <td>6.657527e+09</td>\n",
       "      <td>6.816208e+09</td>\n",
       "      <td>3.544428e+09</td>\n",
       "      <td>3.271780e+09</td>\n",
       "      <td>1.090593e+09</td>\n",
       "      <td>0</td>\n",
       "      <td>6.469366e-03</td>\n",
       "      <td>1.487165e-02</td>\n",
       "      <td>2.493426</td>\n",
       "      <td>1.317200</td>\n",
       "      <td>0.336899</td>\n",
       "      <td>-0.058432</td>\n",
       "      <td>-0.004979</td>\n",
       "      <td>0.037998</td>\n",
       "      <td>0.033720</td>\n",
       "      <td>-0.038274</td>\n",
       "      <td>-0.004754</td>\n",
       "      <td>0.203643</td>\n",
       "      <td>-0.045248</td>\n",
       "      <td>4.791054e+08</td>\n",
       "    </tr>\n",
       "    <tr>\n",
       "      <th>...</th>\n",
       "      <td>...</td>\n",
       "      <td>...</td>\n",
       "      <td>...</td>\n",
       "      <td>...</td>\n",
       "      <td>...</td>\n",
       "      <td>...</td>\n",
       "      <td>...</td>\n",
       "      <td>...</td>\n",
       "      <td>...</td>\n",
       "      <td>...</td>\n",
       "      <td>...</td>\n",
       "      <td>...</td>\n",
       "      <td>...</td>\n",
       "      <td>...</td>\n",
       "      <td>...</td>\n",
       "      <td>...</td>\n",
       "      <td>...</td>\n",
       "      <td>...</td>\n",
       "      <td>...</td>\n",
       "      <td>...</td>\n",
       "      <td>...</td>\n",
       "      <td>...</td>\n",
       "      <td>...</td>\n",
       "      <td>...</td>\n",
       "      <td>...</td>\n",
       "    </tr>\n",
       "    <tr>\n",
       "      <th>Sri Lanka</th>\n",
       "      <td>7.740000</td>\n",
       "      <td>6.330000</td>\n",
       "      <td>4.006292e+01</td>\n",
       "      <td>3.275065e+02</td>\n",
       "      <td>8.032551e+09</td>\n",
       "      <td>8.252854e+10</td>\n",
       "      <td>2.149525e+01</td>\n",
       "      <td>4.470305e+08</td>\n",
       "      <td>1.131355e+09</td>\n",
       "      <td>3.136992e+09</td>\n",
       "      <td>2</td>\n",
       "      <td>-2.918362e-11</td>\n",
       "      <td>-3.134757e-11</td>\n",
       "      <td>0.055652</td>\n",
       "      <td>0.069277</td>\n",
       "      <td>0.084333</td>\n",
       "      <td>0.031655</td>\n",
       "      <td>0.033724</td>\n",
       "      <td>0.072308</td>\n",
       "      <td>0.001246</td>\n",
       "      <td>-0.057981</td>\n",
       "      <td>-0.052920</td>\n",
       "      <td>0.051065</td>\n",
       "      <td>-0.163239</td>\n",
       "      <td>2.600814e+00</td>\n",
       "    </tr>\n",
       "    <tr>\n",
       "      <th>Ukraine</th>\n",
       "      <td>11.707000</td>\n",
       "      <td>8.411791</td>\n",
       "      <td>1.952346e-02</td>\n",
       "      <td>3.657381e+01</td>\n",
       "      <td>8.139356e+10</td>\n",
       "      <td>1.335039e+11</td>\n",
       "      <td>8.937851e+10</td>\n",
       "      <td>7.386012e+08</td>\n",
       "      <td>1.477202e+09</td>\n",
       "      <td>3.096667e+10</td>\n",
       "      <td>2</td>\n",
       "      <td>-2.578649e-11</td>\n",
       "      <td>-3.754273e-11</td>\n",
       "      <td>0.009074</td>\n",
       "      <td>0.045628</td>\n",
       "      <td>0.167819</td>\n",
       "      <td>-0.318140</td>\n",
       "      <td>0.025540</td>\n",
       "      <td>0.200680</td>\n",
       "      <td>0.167727</td>\n",
       "      <td>0.175657</td>\n",
       "      <td>0.017771</td>\n",
       "      <td>0.275500</td>\n",
       "      <td>-0.189103</td>\n",
       "      <td>1.838311e+00</td>\n",
       "    </tr>\n",
       "    <tr>\n",
       "      <th>Lebanon</th>\n",
       "      <td>8.594000</td>\n",
       "      <td>11.599000</td>\n",
       "      <td>6.950892e+02</td>\n",
       "      <td>1.419243e+09</td>\n",
       "      <td>2.838485e+09</td>\n",
       "      <td>4.809521e+10</td>\n",
       "      <td>1.049621e+10</td>\n",
       "      <td>4.210389e+09</td>\n",
       "      <td>8.474638e+09</td>\n",
       "      <td>3.523922e+10</td>\n",
       "      <td>2</td>\n",
       "      <td>-5.453737e-10</td>\n",
       "      <td>-4.434675e-10</td>\n",
       "      <td>1.483323</td>\n",
       "      <td>0.490988</td>\n",
       "      <td>1.044955</td>\n",
       "      <td>0.038135</td>\n",
       "      <td>0.024394</td>\n",
       "      <td>0.036764</td>\n",
       "      <td>0.035337</td>\n",
       "      <td>-0.060027</td>\n",
       "      <td>-0.385495</td>\n",
       "      <td>-0.270565</td>\n",
       "      <td>-0.092492</td>\n",
       "      <td>1.913892e+01</td>\n",
       "    </tr>\n",
       "    <tr>\n",
       "      <th>Puerto Rico</th>\n",
       "      <td>10.080000</td>\n",
       "      <td>6.000000</td>\n",
       "      <td>1.591404e+10</td>\n",
       "      <td>2.937976e+10</td>\n",
       "      <td>3.060392e+10</td>\n",
       "      <td>1.020000e+11</td>\n",
       "      <td>1.134615e+11</td>\n",
       "      <td>5.900000e+10</td>\n",
       "      <td>5.446154e+10</td>\n",
       "      <td>1.815385e+10</td>\n",
       "      <td>2</td>\n",
       "      <td>3.600461e-02</td>\n",
       "      <td>8.484255e-02</td>\n",
       "      <td>1.927858</td>\n",
       "      <td>0.882657</td>\n",
       "      <td>0.352502</td>\n",
       "      <td>0.009804</td>\n",
       "      <td>0.009709</td>\n",
       "      <td>-0.009615</td>\n",
       "      <td>-0.019417</td>\n",
       "      <td>0.039604</td>\n",
       "      <td>-0.019048</td>\n",
       "      <td>0.029126</td>\n",
       "      <td>0.075472</td>\n",
       "      <td>1.065724e+10</td>\n",
       "    </tr>\n",
       "    <tr>\n",
       "      <th>Grenada</th>\n",
       "      <td>9.640537</td>\n",
       "      <td>8.230760</td>\n",
       "      <td>2.700000e+00</td>\n",
       "      <td>2.700000e+00</td>\n",
       "      <td>2.780988e+08</td>\n",
       "      <td>9.114963e+08</td>\n",
       "      <td>2.724237e+00</td>\n",
       "      <td>1.757889e+07</td>\n",
       "      <td>5.766000e+07</td>\n",
       "      <td>3.482592e+08</td>\n",
       "      <td>2</td>\n",
       "      <td>-9.964241e-09</td>\n",
       "      <td>-1.093676e-08</td>\n",
       "      <td>0.063211</td>\n",
       "      <td>0.110875</td>\n",
       "      <td>0.176893</td>\n",
       "      <td>0.093814</td>\n",
       "      <td>0.064827</td>\n",
       "      <td>0.060326</td>\n",
       "      <td>0.036271</td>\n",
       "      <td>0.040266</td>\n",
       "      <td>-0.140153</td>\n",
       "      <td>0.076086</td>\n",
       "      <td>0.090646</td>\n",
       "      <td>3.384074e-01</td>\n",
       "    </tr>\n",
       "  </tbody>\n",
       "</table>\n",
       "<p>127 rows × 25 columns</p>\n",
       "</div>"
      ],
      "text/plain": [
       "               unemployment_2000  unemployment_2022  exchange_rate_usd_1990  \\\n",
       "Country                                                                       \n",
       "Australia               6.288000           3.701000            1.281057e+00   \n",
       "Canada                  6.829000           5.280000            1.166774e+00   \n",
       "Denmark                 4.476000           4.434000            6.188558e+00   \n",
       "Germany                 7.917000           3.135000            1.615733e+00   \n",
       "Liechtenstein           9.640537           8.230760            1.840786e+08   \n",
       "...                          ...                ...                     ...   \n",
       "Sri Lanka               7.740000           6.330000            4.006292e+01   \n",
       "Ukraine                11.707000           8.411791            1.952346e-02   \n",
       "Lebanon                 8.594000          11.599000            6.950892e+02   \n",
       "Puerto Rico            10.080000           6.000000            1.591404e+10   \n",
       "Grenada                 9.640537           8.230760            2.700000e+00   \n",
       "\n",
       "               exchange_rate_usd_2023      gdp_1990      gdp_2014  \\\n",
       "Country                                                             \n",
       "Australia                1.505191e+00  3.114267e+11  1.468265e+12   \n",
       "Canada                   1.349909e+00  5.960756e+11  1.805750e+12   \n",
       "Denmark                  6.889703e+00  1.382177e+11  3.528326e+11   \n",
       "Germany                  1.629982e+12  1.778162e+12  3.965801e+12   \n",
       "Liechtenstein            2.638014e+10  1.421509e+09  6.657527e+09   \n",
       "...                               ...           ...           ...   \n",
       "Sri Lanka                3.275065e+02  8.032551e+09  8.252854e+10   \n",
       "Ukraine                  3.657381e+01  8.139356e+10  1.335039e+11   \n",
       "Lebanon                  1.419243e+09  2.838485e+09  4.809521e+10   \n",
       "Puerto Rico              2.937976e+10  3.060392e+10  1.020000e+11   \n",
       "Grenada                  2.700000e+00  2.780988e+08  9.114963e+08   \n",
       "\n",
       "               inflation_1990  total_reserves_1990  total_reserves_2000  \\\n",
       "Country                                                                   \n",
       "Australia        7.333022e+00         1.931874e+10         1.882155e+10   \n",
       "Canada           4.780477e+00         2.352952e+10         3.242727e+10   \n",
       "Denmark          2.641603e+00         1.122584e+10         1.569595e+10   \n",
       "Germany          2.696468e+00         1.045473e+11         8.749687e+10   \n",
       "Liechtenstein    6.816208e+09         3.544428e+09         3.271780e+09   \n",
       "...                       ...                  ...                  ...   \n",
       "Sri Lanka        2.149525e+01         4.470305e+08         1.131355e+09   \n",
       "Ukraine          8.937851e+10         7.386012e+08         1.477202e+09   \n",
       "Lebanon          1.049621e+10         4.210389e+09         8.474638e+09   \n",
       "Puerto Rico      1.134615e+11         5.900000e+10         5.446154e+10   \n",
       "Grenada          2.724237e+00         1.757889e+07         5.766000e+07   \n",
       "\n",
       "               total_reserves_2021  target  cab_to_gdp_2014  cab_to_gdp_2018  \\\n",
       "Country                                                                        \n",
       "Australia             5.787750e+10       0    -2.080506e-12    -1.564216e-12   \n",
       "Canada                1.066151e+11       0    -1.284187e-12    -1.382386e-12   \n",
       "Denmark               8.223584e+10       0     2.518525e-11     1.757582e-11   \n",
       "Germany               2.957362e+11       0     1.813629e-12     2.084088e-12   \n",
       "Liechtenstein         1.090593e+09       0     6.469366e-03     1.487165e-02   \n",
       "...                            ...     ...              ...              ...   \n",
       "Sri Lanka             3.136992e+09       2    -2.918362e-11    -3.134757e-11   \n",
       "Ukraine               3.096667e+10       2    -2.578649e-11    -3.754273e-11   \n",
       "Lebanon               3.523922e+10       2    -5.453737e-10    -4.434675e-10   \n",
       "Puerto Rico           1.815385e+10       2     3.600461e-02     8.484255e-02   \n",
       "Grenada               3.482592e+08       2    -9.964241e-09    -1.093676e-08   \n",
       "\n",
       "               reserves_to_gdp_1990  reserves_to_gdp_2000  \\\n",
       "Country                                                     \n",
       "Australia                  0.062033              0.045226   \n",
       "Canada                     0.039474              0.043540   \n",
       "Denmark                    0.081219              0.095681   \n",
       "Germany                    0.058795              0.044483   \n",
       "Liechtenstein              2.493426              1.317200   \n",
       "...                             ...                   ...   \n",
       "Sri Lanka                  0.055652              0.069277   \n",
       "Ukraine                    0.009074              0.045628   \n",
       "Lebanon                    1.483323              0.490988   \n",
       "Puerto Rico                1.927858              0.882657   \n",
       "Grenada                    0.063211              0.110875   \n",
       "\n",
       "               reserves_to_gdp_2017  gdp_growth_2014_2015  \\\n",
       "Country                                                     \n",
       "Australia                  0.049528             -0.079665   \n",
       "Canada                     0.052555             -0.138026   \n",
       "Denmark                    0.226906             -0.144753   \n",
       "Germany                    0.053143             -0.136727   \n",
       "Liechtenstein              0.336899             -0.058432   \n",
       "...                             ...                   ...   \n",
       "Sri Lanka                  0.084333              0.031655   \n",
       "Ukraine                    0.167819             -0.318140   \n",
       "Lebanon                    1.044955              0.038135   \n",
       "Puerto Rico                0.352502              0.009804   \n",
       "Grenada                    0.176893              0.093814   \n",
       "\n",
       "               gdp_growth_2015_2016  gdp_growth_2016_2017  \\\n",
       "Country                                                     \n",
       "Australia                 -0.106904              0.098394   \n",
       "Canada                    -0.018319              0.079366   \n",
       "Denmark                    0.034541              0.062235   \n",
       "Germany                    0.033362              0.063686   \n",
       "Liechtenstein             -0.004979              0.037998   \n",
       "...                             ...                   ...   \n",
       "Sri Lanka                  0.033724              0.072308   \n",
       "Ukraine                    0.025540              0.200680   \n",
       "Lebanon                    0.024394              0.036764   \n",
       "Puerto Rico                0.009709             -0.009615   \n",
       "Grenada                    0.064827              0.060326   \n",
       "\n",
       "               gdp_growth_2017_2018  gdp_growth_2018_2019  \\\n",
       "Country                                                     \n",
       "Australia                  0.077118             -0.024573   \n",
       "Canada                     0.046120              0.010662   \n",
       "Denmark                    0.071417             -0.027842   \n",
       "Germany                    0.076776             -0.023396   \n",
       "Liechtenstein              0.033720             -0.038274   \n",
       "...                             ...                   ...   \n",
       "Sri Lanka                  0.001246             -0.057981   \n",
       "Ukraine                    0.167727              0.175657   \n",
       "Lebanon                    0.035337             -0.060027   \n",
       "Puerto Rico               -0.019417              0.039604   \n",
       "Grenada                    0.036271              0.040266   \n",
       "\n",
       "               gdp_growth_2019_2020  gdp_growth_2020_2021  \\\n",
       "Country                                                     \n",
       "Australia                 -0.046176              0.171875   \n",
       "Canada                    -0.050490              0.212472   \n",
       "Denmark                    0.029616              0.148320   \n",
       "Germany                   -0.004313              0.103589   \n",
       "Liechtenstein             -0.004754              0.203643   \n",
       "...                             ...                   ...   \n",
       "Sri Lanka                 -0.052920              0.051065   \n",
       "Ukraine                    0.017771              0.275500   \n",
       "Lebanon                   -0.385495             -0.270565   \n",
       "Puerto Rico               -0.019048              0.029126   \n",
       "Grenada                   -0.140153              0.076086   \n",
       "\n",
       "               gdp_growth_2021_2022  inflation_to_unemployment_2023  \n",
       "Country                                                              \n",
       "Australia                  0.086156                    1.526320e+00  \n",
       "Canada                     0.076719                    7.228851e-01  \n",
       "Denmark                   -0.015752                    6.427807e-01  \n",
       "Germany                   -0.042477                    1.952853e+00  \n",
       "Liechtenstein             -0.045248                    4.791054e+08  \n",
       "...                             ...                             ...  \n",
       "Sri Lanka                 -0.163239                    2.600814e+00  \n",
       "Ukraine                   -0.189103                    1.838311e+00  \n",
       "Lebanon                   -0.092492                    1.913892e+01  \n",
       "Puerto Rico                0.075472                    1.065724e+10  \n",
       "Grenada                    0.090646                    3.384074e-01  \n",
       "\n",
       "[127 rows x 25 columns]"
      ]
     },
     "execution_count": 125,
     "metadata": {},
     "output_type": "execute_result"
    }
   ],
   "source": [
    "final_df"
   ]
  }
 ],
 "metadata": {
  "kernelspec": {
   "display_name": "base",
   "language": "python",
   "name": "python3"
  },
  "language_info": {
   "codemirror_mode": {
    "name": "ipython",
    "version": 3
   },
   "file_extension": ".py",
   "mimetype": "text/x-python",
   "name": "python",
   "nbconvert_exporter": "python",
   "pygments_lexer": "ipython3",
   "version": "3.11.7"
  }
 },
 "nbformat": 4,
 "nbformat_minor": 2
}
