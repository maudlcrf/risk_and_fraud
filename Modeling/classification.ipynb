{
 "cells": [
  {
   "cell_type": "markdown",
   "metadata": {},
   "source": [
    "# Imports and Cleaning"
   ]
  },
  {
   "cell_type": "code",
   "execution_count": 304,
   "metadata": {},
   "outputs": [],
   "source": [
    "import pandas as pd\n",
    "import numpy as np\n",
    "import plotly.express as px\n",
    "import re\n",
    "import matplotlib.pyplot as plt\n",
    "import seaborn as sns"
   ]
  },
  {
   "cell_type": "code",
   "execution_count": 273,
   "metadata": {},
   "outputs": [],
   "source": [
    "import warnings\n",
    "from sklearn.exceptions import DataConversionWarning, ConvergenceWarning, UndefinedMetricWarning\n",
    "\n",
    "# Suppress specific warnings\n",
    "warnings.filterwarnings(\"ignore\", category=DataConversionWarning)\n",
    "warnings.filterwarnings(\"ignore\", category=FutureWarning)\n",
    "warnings.filterwarnings(\"ignore\", category=ConvergenceWarning)\n",
    "warnings.filterwarnings(\"ignore\", category=UndefinedMetricWarning)"
   ]
  },
  {
   "cell_type": "code",
   "execution_count": 274,
   "metadata": {},
   "outputs": [],
   "source": [
    "from sklearn.model_selection import train_test_split\n",
    "from sklearn.linear_model import LogisticRegression  \n",
    "from sklearn.linear_model import RidgeClassifier  \n",
    "from sklearn.naive_bayes import GaussianNB  \n",
    "from sklearn.svm import SVC  "
   ]
  },
  {
   "cell_type": "code",
   "execution_count": 275,
   "metadata": {},
   "outputs": [],
   "source": [
    "from termcolor import colored as cl  # text customization\n",
    "from sklearn.metrics import roc_auc_score  # AUC metric\n",
    "from sklearn.linear_model import LogisticRegression  # Logistic Regression for classification\n",
    "from sklearn.linear_model import RidgeClassifier  # Ridge Classifier for classification\n",
    "from sklearn.naive_bayes import GaussianNB  # Naive Bayes for classification\n",
    "from sklearn.svm import SVC  # Support Vector Classifier\n",
    "from sklearn.preprocessing import label_binarize #as we have multi-class classification"
   ]
  },
  {
   "cell_type": "code",
   "execution_count": 276,
   "metadata": {},
   "outputs": [],
   "source": [
    "#for random state (to have it consistent throughout the model)\n",
    "seed = 9"
   ]
  },
  {
   "cell_type": "code",
   "execution_count": 277,
   "metadata": {},
   "outputs": [],
   "source": [
    "data = pd.read_csv(\"../World_Datasets/final_dataset_world.csv\")"
   ]
  },
  {
   "cell_type": "code",
   "execution_count": 278,
   "metadata": {},
   "outputs": [
    {
     "data": {
      "text/html": [
       "<div>\n",
       "<style scoped>\n",
       "    .dataframe tbody tr th:only-of-type {\n",
       "        vertical-align: middle;\n",
       "    }\n",
       "\n",
       "    .dataframe tbody tr th {\n",
       "        vertical-align: top;\n",
       "    }\n",
       "\n",
       "    .dataframe thead th {\n",
       "        text-align: right;\n",
       "    }\n",
       "</style>\n",
       "<table border=\"1\" class=\"dataframe\">\n",
       "  <thead>\n",
       "    <tr style=\"text-align: right;\">\n",
       "      <th></th>\n",
       "      <th>Country</th>\n",
       "      <th>S&amp;P Rating</th>\n",
       "      <th>Country Name</th>\n",
       "      <th>country_code</th>\n",
       "      <th>unemployment_2000</th>\n",
       "      <th>unemployment_2014</th>\n",
       "      <th>unemployment_2015</th>\n",
       "      <th>unemployment_2016</th>\n",
       "      <th>unemployment_2017</th>\n",
       "      <th>unemployment_2018</th>\n",
       "      <th>...</th>\n",
       "      <th>total_reserves_2016</th>\n",
       "      <th>total_reserves_2017</th>\n",
       "      <th>total_reserves_2018</th>\n",
       "      <th>total_reserves_2019</th>\n",
       "      <th>total_reserves_2020</th>\n",
       "      <th>total_reserves_2021</th>\n",
       "      <th>total_reserves_2022</th>\n",
       "      <th>total_reserves_2023</th>\n",
       "      <th>Unnamed: 73</th>\n",
       "      <th>value_counts</th>\n",
       "    </tr>\n",
       "  </thead>\n",
       "  <tbody>\n",
       "    <tr>\n",
       "      <th>0</th>\n",
       "      <td>Australia</td>\n",
       "      <td>AAA</td>\n",
       "      <td>Australia</td>\n",
       "      <td>AUS</td>\n",
       "      <td>6.288000</td>\n",
       "      <td>6.078000</td>\n",
       "      <td>6.055000</td>\n",
       "      <td>5.711000</td>\n",
       "      <td>5.592000</td>\n",
       "      <td>5.300000</td>\n",
       "      <td>...</td>\n",
       "      <td>5.248079e+10</td>\n",
       "      <td>6.565372e+10</td>\n",
       "      <td>5.390953e+10</td>\n",
       "      <td>5.799469e+10</td>\n",
       "      <td>4.254463e+10</td>\n",
       "      <td>5.787750e+10</td>\n",
       "      <td>5.670190e+10</td>\n",
       "      <td>6.170335e+10</td>\n",
       "      <td>3.085167e+10</td>\n",
       "      <td>73.0</td>\n",
       "    </tr>\n",
       "    <tr>\n",
       "      <th>1</th>\n",
       "      <td>Canada</td>\n",
       "      <td>AAA</td>\n",
       "      <td>Canada</td>\n",
       "      <td>CAN</td>\n",
       "      <td>6.829000</td>\n",
       "      <td>7.023000</td>\n",
       "      <td>6.945000</td>\n",
       "      <td>7.038000</td>\n",
       "      <td>6.426000</td>\n",
       "      <td>5.837000</td>\n",
       "      <td>...</td>\n",
       "      <td>8.271811e+10</td>\n",
       "      <td>8.667771e+10</td>\n",
       "      <td>8.392560e+10</td>\n",
       "      <td>8.529711e+10</td>\n",
       "      <td>9.042814e+10</td>\n",
       "      <td>1.066151e+11</td>\n",
       "      <td>1.069524e+11</td>\n",
       "      <td>1.175509e+11</td>\n",
       "      <td>5.877545e+10</td>\n",
       "      <td>73.0</td>\n",
       "    </tr>\n",
       "    <tr>\n",
       "      <th>2</th>\n",
       "      <td>Denmark</td>\n",
       "      <td>AAA</td>\n",
       "      <td>Denmark</td>\n",
       "      <td>DNK</td>\n",
       "      <td>4.476000</td>\n",
       "      <td>6.925000</td>\n",
       "      <td>6.278000</td>\n",
       "      <td>5.989000</td>\n",
       "      <td>5.833000</td>\n",
       "      <td>5.131000</td>\n",
       "      <td>...</td>\n",
       "      <td>6.421581e+10</td>\n",
       "      <td>7.524445e+10</td>\n",
       "      <td>7.094208e+10</td>\n",
       "      <td>6.683555e+10</td>\n",
       "      <td>7.282335e+10</td>\n",
       "      <td>8.223584e+10</td>\n",
       "      <td>9.607255e+10</td>\n",
       "      <td>1.093708e+11</td>\n",
       "      <td>5.468542e+10</td>\n",
       "      <td>73.0</td>\n",
       "    </tr>\n",
       "    <tr>\n",
       "      <th>3</th>\n",
       "      <td>Germany</td>\n",
       "      <td>AAA</td>\n",
       "      <td>Germany</td>\n",
       "      <td>DEU</td>\n",
       "      <td>7.917000</td>\n",
       "      <td>4.981000</td>\n",
       "      <td>4.624000</td>\n",
       "      <td>4.122000</td>\n",
       "      <td>3.746000</td>\n",
       "      <td>3.384000</td>\n",
       "      <td>...</td>\n",
       "      <td>1.840313e+11</td>\n",
       "      <td>1.999831e+11</td>\n",
       "      <td>1.980271e+11</td>\n",
       "      <td>2.240280e+11</td>\n",
       "      <td>2.684086e+11</td>\n",
       "      <td>2.957362e+11</td>\n",
       "      <td>2.939137e+11</td>\n",
       "      <td>3.227001e+11</td>\n",
       "      <td>1.613500e+11</td>\n",
       "      <td>62.0</td>\n",
       "    </tr>\n",
       "    <tr>\n",
       "      <th>4</th>\n",
       "      <td>Liechtenstein</td>\n",
       "      <td>AAA</td>\n",
       "      <td>Liechtenstein</td>\n",
       "      <td>LIE</td>\n",
       "      <td>9.640537</td>\n",
       "      <td>9.136085</td>\n",
       "      <td>9.052059</td>\n",
       "      <td>8.903803</td>\n",
       "      <td>8.664479</td>\n",
       "      <td>8.383856</td>\n",
       "      <td>...</td>\n",
       "      <td>2.453835e+09</td>\n",
       "      <td>2.181187e+09</td>\n",
       "      <td>1.908538e+09</td>\n",
       "      <td>1.635890e+09</td>\n",
       "      <td>1.363242e+09</td>\n",
       "      <td>1.090593e+09</td>\n",
       "      <td>8.179449e+08</td>\n",
       "      <td>5.452966e+08</td>\n",
       "      <td>2.726483e+08</td>\n",
       "      <td>13.0</td>\n",
       "    </tr>\n",
       "    <tr>\n",
       "      <th>...</th>\n",
       "      <td>...</td>\n",
       "      <td>...</td>\n",
       "      <td>...</td>\n",
       "      <td>...</td>\n",
       "      <td>...</td>\n",
       "      <td>...</td>\n",
       "      <td>...</td>\n",
       "      <td>...</td>\n",
       "      <td>...</td>\n",
       "      <td>...</td>\n",
       "      <td>...</td>\n",
       "      <td>...</td>\n",
       "      <td>...</td>\n",
       "      <td>...</td>\n",
       "      <td>...</td>\n",
       "      <td>...</td>\n",
       "      <td>...</td>\n",
       "      <td>...</td>\n",
       "      <td>...</td>\n",
       "      <td>...</td>\n",
       "      <td>...</td>\n",
       "    </tr>\n",
       "    <tr>\n",
       "      <th>126</th>\n",
       "      <td>Sri Lanka</td>\n",
       "      <td>SD</td>\n",
       "      <td>Sri Lanka</td>\n",
       "      <td>LKA</td>\n",
       "      <td>7.740000</td>\n",
       "      <td>4.157000</td>\n",
       "      <td>4.519000</td>\n",
       "      <td>4.243000</td>\n",
       "      <td>4.046000</td>\n",
       "      <td>4.318000</td>\n",
       "      <td>...</td>\n",
       "      <td>6.008199e+09</td>\n",
       "      <td>7.959048e+09</td>\n",
       "      <td>6.920826e+09</td>\n",
       "      <td>7.648305e+09</td>\n",
       "      <td>5.663994e+09</td>\n",
       "      <td>3.136992e+09</td>\n",
       "      <td>2.352744e+09</td>\n",
       "      <td>1.568496e+09</td>\n",
       "      <td>7.842479e+08</td>\n",
       "      <td>71.0</td>\n",
       "    </tr>\n",
       "    <tr>\n",
       "      <th>127</th>\n",
       "      <td>Ukraine</td>\n",
       "      <td>SD</td>\n",
       "      <td>Ukraine</td>\n",
       "      <td>UKR</td>\n",
       "      <td>11.707000</td>\n",
       "      <td>9.270000</td>\n",
       "      <td>9.140000</td>\n",
       "      <td>9.350000</td>\n",
       "      <td>9.500000</td>\n",
       "      <td>8.799000</td>\n",
       "      <td>...</td>\n",
       "      <td>1.553726e+10</td>\n",
       "      <td>1.881093e+10</td>\n",
       "      <td>2.081790e+10</td>\n",
       "      <td>2.531700e+10</td>\n",
       "      <td>2.913754e+10</td>\n",
       "      <td>3.096667e+10</td>\n",
       "      <td>2.850593e+10</td>\n",
       "      <td>4.051011e+10</td>\n",
       "      <td>2.025505e+10</td>\n",
       "      <td>67.0</td>\n",
       "    </tr>\n",
       "    <tr>\n",
       "      <th>128</th>\n",
       "      <td>Lebanon</td>\n",
       "      <td>D</td>\n",
       "      <td>Lebanon</td>\n",
       "      <td>LBN</td>\n",
       "      <td>8.594000</td>\n",
       "      <td>8.796000</td>\n",
       "      <td>9.270000</td>\n",
       "      <td>9.760000</td>\n",
       "      <td>10.236000</td>\n",
       "      <td>10.741000</td>\n",
       "      <td>...</td>\n",
       "      <td>5.390551e+10</td>\n",
       "      <td>5.541153e+10</td>\n",
       "      <td>5.238061e+10</td>\n",
       "      <td>5.221348e+10</td>\n",
       "      <td>4.244040e+10</td>\n",
       "      <td>3.523922e+10</td>\n",
       "      <td>3.251288e+10</td>\n",
       "      <td>2.167525e+10</td>\n",
       "      <td>1.083763e+10</td>\n",
       "      <td>66.0</td>\n",
       "    </tr>\n",
       "    <tr>\n",
       "      <th>129</th>\n",
       "      <td>Puerto Rico</td>\n",
       "      <td>D</td>\n",
       "      <td>Puerto Rico</td>\n",
       "      <td>PRI</td>\n",
       "      <td>10.080000</td>\n",
       "      <td>13.900000</td>\n",
       "      <td>12.000000</td>\n",
       "      <td>11.800000</td>\n",
       "      <td>10.800000</td>\n",
       "      <td>9.200000</td>\n",
       "      <td>...</td>\n",
       "      <td>4.084615e+10</td>\n",
       "      <td>3.630769e+10</td>\n",
       "      <td>3.176923e+10</td>\n",
       "      <td>2.723077e+10</td>\n",
       "      <td>2.269231e+10</td>\n",
       "      <td>1.815385e+10</td>\n",
       "      <td>1.361538e+10</td>\n",
       "      <td>9.076923e+09</td>\n",
       "      <td>4.538462e+09</td>\n",
       "      <td>39.0</td>\n",
       "    </tr>\n",
       "    <tr>\n",
       "      <th>130</th>\n",
       "      <td>Grenada</td>\n",
       "      <td>SD</td>\n",
       "      <td>Grenada</td>\n",
       "      <td>GRD</td>\n",
       "      <td>9.640537</td>\n",
       "      <td>9.136085</td>\n",
       "      <td>9.052059</td>\n",
       "      <td>8.903803</td>\n",
       "      <td>8.664479</td>\n",
       "      <td>8.383856</td>\n",
       "      <td>...</td>\n",
       "      <td>2.076893e+08</td>\n",
       "      <td>1.991259e+08</td>\n",
       "      <td>2.338159e+08</td>\n",
       "      <td>2.363253e+08</td>\n",
       "      <td>2.933204e+08</td>\n",
       "      <td>3.482592e+08</td>\n",
       "      <td>3.717673e+08</td>\n",
       "      <td>4.041299e+08</td>\n",
       "      <td>2.020650e+08</td>\n",
       "      <td>64.0</td>\n",
       "    </tr>\n",
       "  </tbody>\n",
       "</table>\n",
       "<p>131 rows × 77 columns</p>\n",
       "</div>"
      ],
      "text/plain": [
       "           Country S&P Rating   Country Name country_code  unemployment_2000  \\\n",
       "0        Australia        AAA      Australia          AUS           6.288000   \n",
       "1           Canada        AAA         Canada          CAN           6.829000   \n",
       "2          Denmark        AAA        Denmark          DNK           4.476000   \n",
       "3          Germany        AAA        Germany          DEU           7.917000   \n",
       "4    Liechtenstein        AAA  Liechtenstein          LIE           9.640537   \n",
       "..             ...        ...            ...          ...                ...   \n",
       "126      Sri Lanka         SD      Sri Lanka          LKA           7.740000   \n",
       "127        Ukraine         SD        Ukraine          UKR          11.707000   \n",
       "128        Lebanon          D        Lebanon          LBN           8.594000   \n",
       "129    Puerto Rico         D     Puerto Rico          PRI          10.080000   \n",
       "130        Grenada        SD         Grenada          GRD           9.640537   \n",
       "\n",
       "     unemployment_2014  unemployment_2015  unemployment_2016  \\\n",
       "0             6.078000           6.055000           5.711000   \n",
       "1             7.023000           6.945000           7.038000   \n",
       "2             6.925000           6.278000           5.989000   \n",
       "3             4.981000           4.624000           4.122000   \n",
       "4             9.136085           9.052059           8.903803   \n",
       "..                 ...                ...                ...   \n",
       "126           4.157000           4.519000           4.243000   \n",
       "127           9.270000           9.140000           9.350000   \n",
       "128           8.796000           9.270000           9.760000   \n",
       "129          13.900000          12.000000          11.800000   \n",
       "130           9.136085           9.052059           8.903803   \n",
       "\n",
       "     unemployment_2017  unemployment_2018  ...  total_reserves_2016  \\\n",
       "0             5.592000           5.300000  ...         5.248079e+10   \n",
       "1             6.426000           5.837000  ...         8.271811e+10   \n",
       "2             5.833000           5.131000  ...         6.421581e+10   \n",
       "3             3.746000           3.384000  ...         1.840313e+11   \n",
       "4             8.664479           8.383856  ...         2.453835e+09   \n",
       "..                 ...                ...  ...                  ...   \n",
       "126           4.046000           4.318000  ...         6.008199e+09   \n",
       "127           9.500000           8.799000  ...         1.553726e+10   \n",
       "128          10.236000          10.741000  ...         5.390551e+10   \n",
       "129          10.800000           9.200000  ...         4.084615e+10   \n",
       "130           8.664479           8.383856  ...         2.076893e+08   \n",
       "\n",
       "     total_reserves_2017  total_reserves_2018  total_reserves_2019  \\\n",
       "0           6.565372e+10         5.390953e+10         5.799469e+10   \n",
       "1           8.667771e+10         8.392560e+10         8.529711e+10   \n",
       "2           7.524445e+10         7.094208e+10         6.683555e+10   \n",
       "3           1.999831e+11         1.980271e+11         2.240280e+11   \n",
       "4           2.181187e+09         1.908538e+09         1.635890e+09   \n",
       "..                   ...                  ...                  ...   \n",
       "126         7.959048e+09         6.920826e+09         7.648305e+09   \n",
       "127         1.881093e+10         2.081790e+10         2.531700e+10   \n",
       "128         5.541153e+10         5.238061e+10         5.221348e+10   \n",
       "129         3.630769e+10         3.176923e+10         2.723077e+10   \n",
       "130         1.991259e+08         2.338159e+08         2.363253e+08   \n",
       "\n",
       "     total_reserves_2020  total_reserves_2021  total_reserves_2022  \\\n",
       "0           4.254463e+10         5.787750e+10         5.670190e+10   \n",
       "1           9.042814e+10         1.066151e+11         1.069524e+11   \n",
       "2           7.282335e+10         8.223584e+10         9.607255e+10   \n",
       "3           2.684086e+11         2.957362e+11         2.939137e+11   \n",
       "4           1.363242e+09         1.090593e+09         8.179449e+08   \n",
       "..                   ...                  ...                  ...   \n",
       "126         5.663994e+09         3.136992e+09         2.352744e+09   \n",
       "127         2.913754e+10         3.096667e+10         2.850593e+10   \n",
       "128         4.244040e+10         3.523922e+10         3.251288e+10   \n",
       "129         2.269231e+10         1.815385e+10         1.361538e+10   \n",
       "130         2.933204e+08         3.482592e+08         3.717673e+08   \n",
       "\n",
       "     total_reserves_2023   Unnamed: 73  value_counts  \n",
       "0           6.170335e+10  3.085167e+10          73.0  \n",
       "1           1.175509e+11  5.877545e+10          73.0  \n",
       "2           1.093708e+11  5.468542e+10          73.0  \n",
       "3           3.227001e+11  1.613500e+11          62.0  \n",
       "4           5.452966e+08  2.726483e+08          13.0  \n",
       "..                   ...           ...           ...  \n",
       "126         1.568496e+09  7.842479e+08          71.0  \n",
       "127         4.051011e+10  2.025505e+10          67.0  \n",
       "128         2.167525e+10  1.083763e+10          66.0  \n",
       "129         9.076923e+09  4.538462e+09          39.0  \n",
       "130         4.041299e+08  2.020650e+08          64.0  \n",
       "\n",
       "[131 rows x 77 columns]"
      ]
     },
     "execution_count": 278,
     "metadata": {},
     "output_type": "execute_result"
    }
   ],
   "source": [
    "data"
   ]
  },
  {
   "cell_type": "code",
   "execution_count": 279,
   "metadata": {},
   "outputs": [],
   "source": [
    "#dropping non-relevant columns\n",
    "data = data.drop(['Unnamed: 73', 'value_counts', 'Country Name', 'country_code'], axis = 1)"
   ]
  },
  {
   "cell_type": "code",
   "execution_count": 280,
   "metadata": {},
   "outputs": [
    {
     "name": "stdout",
     "output_type": "stream",
     "text": [
      "Number of unique values:  38\n",
      "['AAA' 'AA+' 'AA+\\xa0' 'AA-' 'AA' 'AA\\xa0' 'A+' 'NR' 'A\\xa0' 'A' 'AA-\\xa0'\n",
      " 'A-' 'A-\\xa0' 'BBB+' 'BBB' 'BBB\\xa0' 'BBB+\\xa0' 'BBB-' 'BBB-\\xa0'\n",
      " 'BB+\\xa0' 'BB+' 'BB\\xa0' 'BB' 'BB-\\xa0' 'BB-' 'B+' 'B+\\xa0' 'SD' 'B\\xa0'\n",
      " 'B-' 'B' 'B-\\xa0' 'CCC+\\xa0' 'CCC+' 'CCC' 'D' 'D\\xa0' 'SD\\xa0']\n"
     ]
    }
   ],
   "source": [
    "print('Number of unique values: ', data['S&P Rating'].nunique())\n",
    "print(data['S&P Rating'].unique())"
   ]
  },
  {
   "cell_type": "markdown",
   "metadata": {},
   "source": [
    "As 38 is too many values for a classification, we will regroup first, and drop the non-rated 'NR'."
   ]
  },
  {
   "cell_type": "code",
   "execution_count": 281,
   "metadata": {},
   "outputs": [],
   "source": [
    "data = data[data['S&P Rating'] != 'NR'] #dropping non-rated"
   ]
  },
  {
   "cell_type": "code",
   "execution_count": 282,
   "metadata": {},
   "outputs": [],
   "source": [
    "data['target'] = np.where(data['S&P Rating'].str.match(r'.*A.*', na=False), 0, \n",
    "                          np.where(data['S&P Rating'].str.match(r'.*B.*', na=False), 1, 2))"
   ]
  },
  {
   "cell_type": "markdown",
   "metadata": {},
   "source": [
    "We now have 3 classification possibilities. "
   ]
  },
  {
   "cell_type": "markdown",
   "metadata": {},
   "source": [
    "# Base Model"
   ]
  },
  {
   "cell_type": "code",
   "execution_count": 283,
   "metadata": {},
   "outputs": [
    {
     "data": {
      "text/html": [
       "<div>\n",
       "<style scoped>\n",
       "    .dataframe tbody tr th:only-of-type {\n",
       "        vertical-align: middle;\n",
       "    }\n",
       "\n",
       "    .dataframe tbody tr th {\n",
       "        vertical-align: top;\n",
       "    }\n",
       "\n",
       "    .dataframe thead th {\n",
       "        text-align: right;\n",
       "    }\n",
       "</style>\n",
       "<table border=\"1\" class=\"dataframe\">\n",
       "  <thead>\n",
       "    <tr style=\"text-align: right;\">\n",
       "      <th></th>\n",
       "      <th>Country</th>\n",
       "      <th>S&amp;P Rating</th>\n",
       "      <th>unemployment_2000</th>\n",
       "      <th>unemployment_2014</th>\n",
       "      <th>unemployment_2015</th>\n",
       "      <th>unemployment_2016</th>\n",
       "      <th>unemployment_2017</th>\n",
       "      <th>unemployment_2018</th>\n",
       "      <th>unemployment_2019</th>\n",
       "      <th>unemployment_2020</th>\n",
       "      <th>...</th>\n",
       "      <th>total_reserves_2015</th>\n",
       "      <th>total_reserves_2016</th>\n",
       "      <th>total_reserves_2017</th>\n",
       "      <th>total_reserves_2018</th>\n",
       "      <th>total_reserves_2019</th>\n",
       "      <th>total_reserves_2020</th>\n",
       "      <th>total_reserves_2021</th>\n",
       "      <th>total_reserves_2022</th>\n",
       "      <th>total_reserves_2023</th>\n",
       "      <th>target</th>\n",
       "    </tr>\n",
       "  </thead>\n",
       "  <tbody>\n",
       "    <tr>\n",
       "      <th>0</th>\n",
       "      <td>Australia</td>\n",
       "      <td>AAA</td>\n",
       "      <td>6.288000</td>\n",
       "      <td>6.078000</td>\n",
       "      <td>6.055000</td>\n",
       "      <td>5.711000</td>\n",
       "      <td>5.592000</td>\n",
       "      <td>5.300000</td>\n",
       "      <td>5.159000</td>\n",
       "      <td>6.456000</td>\n",
       "      <td>...</td>\n",
       "      <td>4.540604e+10</td>\n",
       "      <td>5.248079e+10</td>\n",
       "      <td>6.565372e+10</td>\n",
       "      <td>5.390953e+10</td>\n",
       "      <td>5.799469e+10</td>\n",
       "      <td>4.254463e+10</td>\n",
       "      <td>5.787750e+10</td>\n",
       "      <td>5.670190e+10</td>\n",
       "      <td>6.170335e+10</td>\n",
       "      <td>0</td>\n",
       "    </tr>\n",
       "    <tr>\n",
       "      <th>1</th>\n",
       "      <td>Canada</td>\n",
       "      <td>AAA</td>\n",
       "      <td>6.829000</td>\n",
       "      <td>7.023000</td>\n",
       "      <td>6.945000</td>\n",
       "      <td>7.038000</td>\n",
       "      <td>6.426000</td>\n",
       "      <td>5.837000</td>\n",
       "      <td>5.690000</td>\n",
       "      <td>9.657000</td>\n",
       "      <td>...</td>\n",
       "      <td>7.975352e+10</td>\n",
       "      <td>8.271811e+10</td>\n",
       "      <td>8.667771e+10</td>\n",
       "      <td>8.392560e+10</td>\n",
       "      <td>8.529711e+10</td>\n",
       "      <td>9.042814e+10</td>\n",
       "      <td>1.066151e+11</td>\n",
       "      <td>1.069524e+11</td>\n",
       "      <td>1.175509e+11</td>\n",
       "      <td>0</td>\n",
       "    </tr>\n",
       "    <tr>\n",
       "      <th>2</th>\n",
       "      <td>Denmark</td>\n",
       "      <td>AAA</td>\n",
       "      <td>4.476000</td>\n",
       "      <td>6.925000</td>\n",
       "      <td>6.278000</td>\n",
       "      <td>5.989000</td>\n",
       "      <td>5.833000</td>\n",
       "      <td>5.131000</td>\n",
       "      <td>5.018000</td>\n",
       "      <td>5.637000</td>\n",
       "      <td>...</td>\n",
       "      <td>6.518509e+10</td>\n",
       "      <td>6.421581e+10</td>\n",
       "      <td>7.524445e+10</td>\n",
       "      <td>7.094208e+10</td>\n",
       "      <td>6.683555e+10</td>\n",
       "      <td>7.282335e+10</td>\n",
       "      <td>8.223584e+10</td>\n",
       "      <td>9.607255e+10</td>\n",
       "      <td>1.093708e+11</td>\n",
       "      <td>0</td>\n",
       "    </tr>\n",
       "    <tr>\n",
       "      <th>3</th>\n",
       "      <td>Germany</td>\n",
       "      <td>AAA</td>\n",
       "      <td>7.917000</td>\n",
       "      <td>4.981000</td>\n",
       "      <td>4.624000</td>\n",
       "      <td>4.122000</td>\n",
       "      <td>3.746000</td>\n",
       "      <td>3.384000</td>\n",
       "      <td>3.136000</td>\n",
       "      <td>3.856000</td>\n",
       "      <td>...</td>\n",
       "      <td>1.737309e+11</td>\n",
       "      <td>1.840313e+11</td>\n",
       "      <td>1.999831e+11</td>\n",
       "      <td>1.980271e+11</td>\n",
       "      <td>2.240280e+11</td>\n",
       "      <td>2.684086e+11</td>\n",
       "      <td>2.957362e+11</td>\n",
       "      <td>2.939137e+11</td>\n",
       "      <td>3.227001e+11</td>\n",
       "      <td>0</td>\n",
       "    </tr>\n",
       "    <tr>\n",
       "      <th>4</th>\n",
       "      <td>Liechtenstein</td>\n",
       "      <td>AAA</td>\n",
       "      <td>9.640537</td>\n",
       "      <td>9.136085</td>\n",
       "      <td>9.052059</td>\n",
       "      <td>8.903803</td>\n",
       "      <td>8.664479</td>\n",
       "      <td>8.383856</td>\n",
       "      <td>8.244777</td>\n",
       "      <td>9.305229</td>\n",
       "      <td>...</td>\n",
       "      <td>2.726483e+09</td>\n",
       "      <td>2.453835e+09</td>\n",
       "      <td>2.181187e+09</td>\n",
       "      <td>1.908538e+09</td>\n",
       "      <td>1.635890e+09</td>\n",
       "      <td>1.363242e+09</td>\n",
       "      <td>1.090593e+09</td>\n",
       "      <td>8.179449e+08</td>\n",
       "      <td>5.452966e+08</td>\n",
       "      <td>0</td>\n",
       "    </tr>\n",
       "    <tr>\n",
       "      <th>...</th>\n",
       "      <td>...</td>\n",
       "      <td>...</td>\n",
       "      <td>...</td>\n",
       "      <td>...</td>\n",
       "      <td>...</td>\n",
       "      <td>...</td>\n",
       "      <td>...</td>\n",
       "      <td>...</td>\n",
       "      <td>...</td>\n",
       "      <td>...</td>\n",
       "      <td>...</td>\n",
       "      <td>...</td>\n",
       "      <td>...</td>\n",
       "      <td>...</td>\n",
       "      <td>...</td>\n",
       "      <td>...</td>\n",
       "      <td>...</td>\n",
       "      <td>...</td>\n",
       "      <td>...</td>\n",
       "      <td>...</td>\n",
       "      <td>...</td>\n",
       "    </tr>\n",
       "    <tr>\n",
       "      <th>126</th>\n",
       "      <td>Sri Lanka</td>\n",
       "      <td>SD</td>\n",
       "      <td>7.740000</td>\n",
       "      <td>4.157000</td>\n",
       "      <td>4.519000</td>\n",
       "      <td>4.243000</td>\n",
       "      <td>4.046000</td>\n",
       "      <td>4.318000</td>\n",
       "      <td>4.670000</td>\n",
       "      <td>5.365000</td>\n",
       "      <td>...</td>\n",
       "      <td>7.302097e+09</td>\n",
       "      <td>6.008199e+09</td>\n",
       "      <td>7.959048e+09</td>\n",
       "      <td>6.920826e+09</td>\n",
       "      <td>7.648305e+09</td>\n",
       "      <td>5.663994e+09</td>\n",
       "      <td>3.136992e+09</td>\n",
       "      <td>2.352744e+09</td>\n",
       "      <td>1.568496e+09</td>\n",
       "      <td>2</td>\n",
       "    </tr>\n",
       "    <tr>\n",
       "      <th>127</th>\n",
       "      <td>Ukraine</td>\n",
       "      <td>SD</td>\n",
       "      <td>11.707000</td>\n",
       "      <td>9.270000</td>\n",
       "      <td>9.140000</td>\n",
       "      <td>9.350000</td>\n",
       "      <td>9.500000</td>\n",
       "      <td>8.799000</td>\n",
       "      <td>8.194000</td>\n",
       "      <td>9.475000</td>\n",
       "      <td>...</td>\n",
       "      <td>1.330088e+10</td>\n",
       "      <td>1.553726e+10</td>\n",
       "      <td>1.881093e+10</td>\n",
       "      <td>2.081790e+10</td>\n",
       "      <td>2.531700e+10</td>\n",
       "      <td>2.913754e+10</td>\n",
       "      <td>3.096667e+10</td>\n",
       "      <td>2.850593e+10</td>\n",
       "      <td>4.051011e+10</td>\n",
       "      <td>2</td>\n",
       "    </tr>\n",
       "    <tr>\n",
       "      <th>128</th>\n",
       "      <td>Lebanon</td>\n",
       "      <td>D</td>\n",
       "      <td>8.594000</td>\n",
       "      <td>8.796000</td>\n",
       "      <td>9.270000</td>\n",
       "      <td>9.760000</td>\n",
       "      <td>10.236000</td>\n",
       "      <td>10.741000</td>\n",
       "      <td>11.301000</td>\n",
       "      <td>13.235000</td>\n",
       "      <td>...</td>\n",
       "      <td>4.853139e+10</td>\n",
       "      <td>5.390551e+10</td>\n",
       "      <td>5.541153e+10</td>\n",
       "      <td>5.238061e+10</td>\n",
       "      <td>5.221348e+10</td>\n",
       "      <td>4.244040e+10</td>\n",
       "      <td>3.523922e+10</td>\n",
       "      <td>3.251288e+10</td>\n",
       "      <td>2.167525e+10</td>\n",
       "      <td>2</td>\n",
       "    </tr>\n",
       "    <tr>\n",
       "      <th>129</th>\n",
       "      <td>Puerto Rico</td>\n",
       "      <td>D</td>\n",
       "      <td>10.080000</td>\n",
       "      <td>13.900000</td>\n",
       "      <td>12.000000</td>\n",
       "      <td>11.800000</td>\n",
       "      <td>10.800000</td>\n",
       "      <td>9.200000</td>\n",
       "      <td>8.300000</td>\n",
       "      <td>8.890000</td>\n",
       "      <td>...</td>\n",
       "      <td>4.538462e+10</td>\n",
       "      <td>4.084615e+10</td>\n",
       "      <td>3.630769e+10</td>\n",
       "      <td>3.176923e+10</td>\n",
       "      <td>2.723077e+10</td>\n",
       "      <td>2.269231e+10</td>\n",
       "      <td>1.815385e+10</td>\n",
       "      <td>1.361538e+10</td>\n",
       "      <td>9.076923e+09</td>\n",
       "      <td>2</td>\n",
       "    </tr>\n",
       "    <tr>\n",
       "      <th>130</th>\n",
       "      <td>Grenada</td>\n",
       "      <td>SD</td>\n",
       "      <td>9.640537</td>\n",
       "      <td>9.136085</td>\n",
       "      <td>9.052059</td>\n",
       "      <td>8.903803</td>\n",
       "      <td>8.664479</td>\n",
       "      <td>8.383856</td>\n",
       "      <td>8.244777</td>\n",
       "      <td>9.305229</td>\n",
       "      <td>...</td>\n",
       "      <td>1.979735e+08</td>\n",
       "      <td>2.076893e+08</td>\n",
       "      <td>1.991259e+08</td>\n",
       "      <td>2.338159e+08</td>\n",
       "      <td>2.363253e+08</td>\n",
       "      <td>2.933204e+08</td>\n",
       "      <td>3.482592e+08</td>\n",
       "      <td>3.717673e+08</td>\n",
       "      <td>4.041299e+08</td>\n",
       "      <td>2</td>\n",
       "    </tr>\n",
       "  </tbody>\n",
       "</table>\n",
       "<p>127 rows × 74 columns</p>\n",
       "</div>"
      ],
      "text/plain": [
       "           Country S&P Rating  unemployment_2000  unemployment_2014  \\\n",
       "0        Australia        AAA           6.288000           6.078000   \n",
       "1           Canada        AAA           6.829000           7.023000   \n",
       "2          Denmark        AAA           4.476000           6.925000   \n",
       "3          Germany        AAA           7.917000           4.981000   \n",
       "4    Liechtenstein        AAA           9.640537           9.136085   \n",
       "..             ...        ...                ...                ...   \n",
       "126      Sri Lanka         SD           7.740000           4.157000   \n",
       "127        Ukraine         SD          11.707000           9.270000   \n",
       "128        Lebanon          D           8.594000           8.796000   \n",
       "129    Puerto Rico         D           10.080000          13.900000   \n",
       "130        Grenada        SD            9.640537           9.136085   \n",
       "\n",
       "     unemployment_2015  unemployment_2016  unemployment_2017  \\\n",
       "0             6.055000           5.711000           5.592000   \n",
       "1             6.945000           7.038000           6.426000   \n",
       "2             6.278000           5.989000           5.833000   \n",
       "3             4.624000           4.122000           3.746000   \n",
       "4             9.052059           8.903803           8.664479   \n",
       "..                 ...                ...                ...   \n",
       "126           4.519000           4.243000           4.046000   \n",
       "127           9.140000           9.350000           9.500000   \n",
       "128           9.270000           9.760000          10.236000   \n",
       "129          12.000000          11.800000          10.800000   \n",
       "130           9.052059           8.903803           8.664479   \n",
       "\n",
       "     unemployment_2018  unemployment_2019  unemployment_2020  ...  \\\n",
       "0             5.300000           5.159000           6.456000  ...   \n",
       "1             5.837000           5.690000           9.657000  ...   \n",
       "2             5.131000           5.018000           5.637000  ...   \n",
       "3             3.384000           3.136000           3.856000  ...   \n",
       "4             8.383856           8.244777           9.305229  ...   \n",
       "..                 ...                ...                ...  ...   \n",
       "126           4.318000           4.670000           5.365000  ...   \n",
       "127           8.799000           8.194000           9.475000  ...   \n",
       "128          10.741000          11.301000          13.235000  ...   \n",
       "129           9.200000           8.300000           8.890000  ...   \n",
       "130           8.383856           8.244777           9.305229  ...   \n",
       "\n",
       "     total_reserves_2015  total_reserves_2016  total_reserves_2017  \\\n",
       "0           4.540604e+10         5.248079e+10         6.565372e+10   \n",
       "1           7.975352e+10         8.271811e+10         8.667771e+10   \n",
       "2           6.518509e+10         6.421581e+10         7.524445e+10   \n",
       "3           1.737309e+11         1.840313e+11         1.999831e+11   \n",
       "4           2.726483e+09         2.453835e+09         2.181187e+09   \n",
       "..                   ...                  ...                  ...   \n",
       "126         7.302097e+09         6.008199e+09         7.959048e+09   \n",
       "127         1.330088e+10         1.553726e+10         1.881093e+10   \n",
       "128         4.853139e+10         5.390551e+10         5.541153e+10   \n",
       "129         4.538462e+10         4.084615e+10         3.630769e+10   \n",
       "130         1.979735e+08         2.076893e+08         1.991259e+08   \n",
       "\n",
       "     total_reserves_2018  total_reserves_2019  total_reserves_2020  \\\n",
       "0           5.390953e+10         5.799469e+10         4.254463e+10   \n",
       "1           8.392560e+10         8.529711e+10         9.042814e+10   \n",
       "2           7.094208e+10         6.683555e+10         7.282335e+10   \n",
       "3           1.980271e+11         2.240280e+11         2.684086e+11   \n",
       "4           1.908538e+09         1.635890e+09         1.363242e+09   \n",
       "..                   ...                  ...                  ...   \n",
       "126         6.920826e+09         7.648305e+09         5.663994e+09   \n",
       "127         2.081790e+10         2.531700e+10         2.913754e+10   \n",
       "128         5.238061e+10         5.221348e+10         4.244040e+10   \n",
       "129         3.176923e+10         2.723077e+10         2.269231e+10   \n",
       "130         2.338159e+08         2.363253e+08         2.933204e+08   \n",
       "\n",
       "     total_reserves_2021  total_reserves_2022  total_reserves_2023  target  \n",
       "0           5.787750e+10         5.670190e+10         6.170335e+10       0  \n",
       "1           1.066151e+11         1.069524e+11         1.175509e+11       0  \n",
       "2           8.223584e+10         9.607255e+10         1.093708e+11       0  \n",
       "3           2.957362e+11         2.939137e+11         3.227001e+11       0  \n",
       "4           1.090593e+09         8.179449e+08         5.452966e+08       0  \n",
       "..                   ...                  ...                  ...     ...  \n",
       "126         3.136992e+09         2.352744e+09         1.568496e+09       2  \n",
       "127         3.096667e+10         2.850593e+10         4.051011e+10       2  \n",
       "128         3.523922e+10         3.251288e+10         2.167525e+10       2  \n",
       "129         1.815385e+10         1.361538e+10         9.076923e+09       2  \n",
       "130         3.482592e+08         3.717673e+08         4.041299e+08       2  \n",
       "\n",
       "[127 rows x 74 columns]"
      ]
     },
     "execution_count": 283,
     "metadata": {},
     "output_type": "execute_result"
    }
   ],
   "source": [
    "data"
   ]
  },
  {
   "cell_type": "code",
   "execution_count": 284,
   "metadata": {},
   "outputs": [],
   "source": [
    "data = data.set_index(data['Country'])\n",
    "data = data.drop('Country', axis = 1)"
   ]
  },
  {
   "cell_type": "code",
   "execution_count": 285,
   "metadata": {},
   "outputs": [
    {
     "data": {
      "text/html": [
       "<div>\n",
       "<style scoped>\n",
       "    .dataframe tbody tr th:only-of-type {\n",
       "        vertical-align: middle;\n",
       "    }\n",
       "\n",
       "    .dataframe tbody tr th {\n",
       "        vertical-align: top;\n",
       "    }\n",
       "\n",
       "    .dataframe thead th {\n",
       "        text-align: right;\n",
       "    }\n",
       "</style>\n",
       "<table border=\"1\" class=\"dataframe\">\n",
       "  <thead>\n",
       "    <tr style=\"text-align: right;\">\n",
       "      <th></th>\n",
       "      <th>S&amp;P Rating</th>\n",
       "      <th>unemployment_2000</th>\n",
       "      <th>unemployment_2014</th>\n",
       "      <th>unemployment_2015</th>\n",
       "      <th>unemployment_2016</th>\n",
       "      <th>unemployment_2017</th>\n",
       "      <th>unemployment_2018</th>\n",
       "      <th>unemployment_2019</th>\n",
       "      <th>unemployment_2020</th>\n",
       "      <th>unemployment_2021</th>\n",
       "      <th>...</th>\n",
       "      <th>total_reserves_2015</th>\n",
       "      <th>total_reserves_2016</th>\n",
       "      <th>total_reserves_2017</th>\n",
       "      <th>total_reserves_2018</th>\n",
       "      <th>total_reserves_2019</th>\n",
       "      <th>total_reserves_2020</th>\n",
       "      <th>total_reserves_2021</th>\n",
       "      <th>total_reserves_2022</th>\n",
       "      <th>total_reserves_2023</th>\n",
       "      <th>target</th>\n",
       "    </tr>\n",
       "    <tr>\n",
       "      <th>Country</th>\n",
       "      <th></th>\n",
       "      <th></th>\n",
       "      <th></th>\n",
       "      <th></th>\n",
       "      <th></th>\n",
       "      <th></th>\n",
       "      <th></th>\n",
       "      <th></th>\n",
       "      <th></th>\n",
       "      <th></th>\n",
       "      <th></th>\n",
       "      <th></th>\n",
       "      <th></th>\n",
       "      <th></th>\n",
       "      <th></th>\n",
       "      <th></th>\n",
       "      <th></th>\n",
       "      <th></th>\n",
       "      <th></th>\n",
       "      <th></th>\n",
       "      <th></th>\n",
       "    </tr>\n",
       "  </thead>\n",
       "  <tbody>\n",
       "    <tr>\n",
       "      <th>Australia</th>\n",
       "      <td>AAA</td>\n",
       "      <td>6.288000</td>\n",
       "      <td>6.078000</td>\n",
       "      <td>6.055000</td>\n",
       "      <td>5.711000</td>\n",
       "      <td>5.592000</td>\n",
       "      <td>5.300000</td>\n",
       "      <td>5.159000</td>\n",
       "      <td>6.456000</td>\n",
       "      <td>5.116000</td>\n",
       "      <td>...</td>\n",
       "      <td>4.540604e+10</td>\n",
       "      <td>5.248079e+10</td>\n",
       "      <td>6.565372e+10</td>\n",
       "      <td>5.390953e+10</td>\n",
       "      <td>5.799469e+10</td>\n",
       "      <td>4.254463e+10</td>\n",
       "      <td>5.787750e+10</td>\n",
       "      <td>5.670190e+10</td>\n",
       "      <td>6.170335e+10</td>\n",
       "      <td>0</td>\n",
       "    </tr>\n",
       "    <tr>\n",
       "      <th>Canada</th>\n",
       "      <td>AAA</td>\n",
       "      <td>6.829000</td>\n",
       "      <td>7.023000</td>\n",
       "      <td>6.945000</td>\n",
       "      <td>7.038000</td>\n",
       "      <td>6.426000</td>\n",
       "      <td>5.837000</td>\n",
       "      <td>5.690000</td>\n",
       "      <td>9.657000</td>\n",
       "      <td>7.527000</td>\n",
       "      <td>...</td>\n",
       "      <td>7.975352e+10</td>\n",
       "      <td>8.271811e+10</td>\n",
       "      <td>8.667771e+10</td>\n",
       "      <td>8.392560e+10</td>\n",
       "      <td>8.529711e+10</td>\n",
       "      <td>9.042814e+10</td>\n",
       "      <td>1.066151e+11</td>\n",
       "      <td>1.069524e+11</td>\n",
       "      <td>1.175509e+11</td>\n",
       "      <td>0</td>\n",
       "    </tr>\n",
       "    <tr>\n",
       "      <th>Denmark</th>\n",
       "      <td>AAA</td>\n",
       "      <td>4.476000</td>\n",
       "      <td>6.925000</td>\n",
       "      <td>6.278000</td>\n",
       "      <td>5.989000</td>\n",
       "      <td>5.833000</td>\n",
       "      <td>5.131000</td>\n",
       "      <td>5.018000</td>\n",
       "      <td>5.637000</td>\n",
       "      <td>5.043000</td>\n",
       "      <td>...</td>\n",
       "      <td>6.518509e+10</td>\n",
       "      <td>6.421581e+10</td>\n",
       "      <td>7.524445e+10</td>\n",
       "      <td>7.094208e+10</td>\n",
       "      <td>6.683555e+10</td>\n",
       "      <td>7.282335e+10</td>\n",
       "      <td>8.223584e+10</td>\n",
       "      <td>9.607255e+10</td>\n",
       "      <td>1.093708e+11</td>\n",
       "      <td>0</td>\n",
       "    </tr>\n",
       "    <tr>\n",
       "      <th>Germany</th>\n",
       "      <td>AAA</td>\n",
       "      <td>7.917000</td>\n",
       "      <td>4.981000</td>\n",
       "      <td>4.624000</td>\n",
       "      <td>4.122000</td>\n",
       "      <td>3.746000</td>\n",
       "      <td>3.384000</td>\n",
       "      <td>3.136000</td>\n",
       "      <td>3.856000</td>\n",
       "      <td>3.638000</td>\n",
       "      <td>...</td>\n",
       "      <td>1.737309e+11</td>\n",
       "      <td>1.840313e+11</td>\n",
       "      <td>1.999831e+11</td>\n",
       "      <td>1.980271e+11</td>\n",
       "      <td>2.240280e+11</td>\n",
       "      <td>2.684086e+11</td>\n",
       "      <td>2.957362e+11</td>\n",
       "      <td>2.939137e+11</td>\n",
       "      <td>3.227001e+11</td>\n",
       "      <td>0</td>\n",
       "    </tr>\n",
       "    <tr>\n",
       "      <th>Liechtenstein</th>\n",
       "      <td>AAA</td>\n",
       "      <td>9.640537</td>\n",
       "      <td>9.136085</td>\n",
       "      <td>9.052059</td>\n",
       "      <td>8.903803</td>\n",
       "      <td>8.664479</td>\n",
       "      <td>8.383856</td>\n",
       "      <td>8.244777</td>\n",
       "      <td>9.305229</td>\n",
       "      <td>9.015766</td>\n",
       "      <td>...</td>\n",
       "      <td>2.726483e+09</td>\n",
       "      <td>2.453835e+09</td>\n",
       "      <td>2.181187e+09</td>\n",
       "      <td>1.908538e+09</td>\n",
       "      <td>1.635890e+09</td>\n",
       "      <td>1.363242e+09</td>\n",
       "      <td>1.090593e+09</td>\n",
       "      <td>8.179449e+08</td>\n",
       "      <td>5.452966e+08</td>\n",
       "      <td>0</td>\n",
       "    </tr>\n",
       "  </tbody>\n",
       "</table>\n",
       "<p>5 rows × 73 columns</p>\n",
       "</div>"
      ],
      "text/plain": [
       "              S&P Rating  unemployment_2000  unemployment_2014  \\\n",
       "Country                                                          \n",
       "Australia            AAA           6.288000           6.078000   \n",
       "Canada               AAA           6.829000           7.023000   \n",
       "Denmark              AAA           4.476000           6.925000   \n",
       "Germany              AAA           7.917000           4.981000   \n",
       "Liechtenstein        AAA           9.640537           9.136085   \n",
       "\n",
       "               unemployment_2015  unemployment_2016  unemployment_2017  \\\n",
       "Country                                                                  \n",
       "Australia               6.055000           5.711000           5.592000   \n",
       "Canada                  6.945000           7.038000           6.426000   \n",
       "Denmark                 6.278000           5.989000           5.833000   \n",
       "Germany                 4.624000           4.122000           3.746000   \n",
       "Liechtenstein           9.052059           8.903803           8.664479   \n",
       "\n",
       "               unemployment_2018  unemployment_2019  unemployment_2020  \\\n",
       "Country                                                                  \n",
       "Australia               5.300000           5.159000           6.456000   \n",
       "Canada                  5.837000           5.690000           9.657000   \n",
       "Denmark                 5.131000           5.018000           5.637000   \n",
       "Germany                 3.384000           3.136000           3.856000   \n",
       "Liechtenstein           8.383856           8.244777           9.305229   \n",
       "\n",
       "               unemployment_2021  ...  total_reserves_2015  \\\n",
       "Country                           ...                        \n",
       "Australia               5.116000  ...         4.540604e+10   \n",
       "Canada                  7.527000  ...         7.975352e+10   \n",
       "Denmark                 5.043000  ...         6.518509e+10   \n",
       "Germany                 3.638000  ...         1.737309e+11   \n",
       "Liechtenstein           9.015766  ...         2.726483e+09   \n",
       "\n",
       "               total_reserves_2016  total_reserves_2017  total_reserves_2018  \\\n",
       "Country                                                                        \n",
       "Australia             5.248079e+10         6.565372e+10         5.390953e+10   \n",
       "Canada                8.271811e+10         8.667771e+10         8.392560e+10   \n",
       "Denmark               6.421581e+10         7.524445e+10         7.094208e+10   \n",
       "Germany               1.840313e+11         1.999831e+11         1.980271e+11   \n",
       "Liechtenstein         2.453835e+09         2.181187e+09         1.908538e+09   \n",
       "\n",
       "               total_reserves_2019  total_reserves_2020  total_reserves_2021  \\\n",
       "Country                                                                        \n",
       "Australia             5.799469e+10         4.254463e+10         5.787750e+10   \n",
       "Canada                8.529711e+10         9.042814e+10         1.066151e+11   \n",
       "Denmark               6.683555e+10         7.282335e+10         8.223584e+10   \n",
       "Germany               2.240280e+11         2.684086e+11         2.957362e+11   \n",
       "Liechtenstein         1.635890e+09         1.363242e+09         1.090593e+09   \n",
       "\n",
       "               total_reserves_2022  total_reserves_2023  target  \n",
       "Country                                                          \n",
       "Australia             5.670190e+10         6.170335e+10       0  \n",
       "Canada                1.069524e+11         1.175509e+11       0  \n",
       "Denmark               9.607255e+10         1.093708e+11       0  \n",
       "Germany               2.939137e+11         3.227001e+11       0  \n",
       "Liechtenstein         8.179449e+08         5.452966e+08       0  \n",
       "\n",
       "[5 rows x 73 columns]"
      ]
     },
     "execution_count": 285,
     "metadata": {},
     "output_type": "execute_result"
    }
   ],
   "source": [
    "data.head()"
   ]
  },
  {
   "cell_type": "markdown",
   "metadata": {},
   "source": [
    "## Train Test Split "
   ]
  },
  {
   "cell_type": "code",
   "execution_count": 286,
   "metadata": {},
   "outputs": [],
   "source": [
    "X = data.drop(['target', 'S&P Rating'], axis = 1)\n",
    "y = data[['target']]"
   ]
  },
  {
   "cell_type": "code",
   "execution_count": 287,
   "metadata": {},
   "outputs": [],
   "source": [
    "X_train,X_test,y_train,y_test = train_test_split(X,y,test_size=0.4,random_state=seed)"
   ]
  },
  {
   "cell_type": "markdown",
   "metadata": {},
   "source": [
    "## Intial Modeling and Results "
   ]
  },
  {
   "cell_type": "code",
   "execution_count": 288,
   "metadata": {},
   "outputs": [],
   "source": [
    "# 1. Logistic Regression\n",
    "logistic = LogisticRegression(multi_class='multinomial', solver='lbfgs', random_state=seed)\n",
    "logistic.fit(X_train, y_train)\n",
    "logistic_test_yhat = logistic.predict(X_test)\n",
    "logistic_train_yhat = logistic.predict(X_train)\n",
    "\n",
    "\n",
    "# 2. Ridge Classifier\n",
    "ridge_classifier = RidgeClassifier(alpha = 0.5, random_state=seed)\n",
    "ridge_classifier.fit(X_train, y_train)\n",
    "ridge_classifier_test_yhat = ridge_classifier.predict(X_test)\n",
    "ridge_classifier_train_yhat = ridge_classifier.predict(X_train)\n",
    "\n",
    "# 3. Gaussian Naive Bayes\n",
    "naive_bayes = GaussianNB()\n",
    "naive_bayes.fit(X_train, y_train)\n",
    "naive_bayes_test_yhat = naive_bayes.predict(X_test)\n",
    "naive_bayes_train_yhat = naive_bayes.predict(X_train)\n",
    "\n",
    "# 4. Support Vector Classifier\n",
    "svc = SVC(probability = True, random_state=seed)\n",
    "svc.fit(X_train, y_train)\n",
    "svc_test_yhat = svc.predict(X_test)\n",
    "svc_train_yhat = svc.predict(X_train)"
   ]
  },
  {
   "cell_type": "code",
   "execution_count": 289,
   "metadata": {},
   "outputs": [
    {
     "name": "stdout",
     "output_type": "stream",
     "text": [
      "\u001b[1mAUC SCORE (Multi-Class):\u001b[0m\n",
      "-------------------------------------------------------------------------------\n",
      "\u001b[1mLogistic model:\u001b[0m\n",
      "\u001b[1mTrain - AUC score is 0.9148\u001b[0m\n",
      "\u001b[1mTest - AUC score is 0.8102\u001b[0m\n",
      "-------------------------------------------------------------------------------\n",
      "\u001b[1mRidge model:\u001b[0m\n",
      "\u001b[1mTrain - AUC score is 1.0000\u001b[0m\n",
      "\u001b[1mTest - AUC score is 0.4185\u001b[0m\n",
      "-------------------------------------------------------------------------------\n",
      "\u001b[1mNaive Bayes model:\u001b[0m\n",
      "\u001b[1mTrain - AUC score is 0.6967\u001b[0m\n",
      "\u001b[1mTest - AUC score is 0.7161\u001b[0m\n",
      "-------------------------------------------------------------------------------\n",
      "\u001b[1mSVC model:\u001b[0m\n",
      "\u001b[1mTrain - AUC score is 0.7028\u001b[0m\n",
      "\u001b[1mTest - AUC score is 0.5403\u001b[0m\n"
     ]
    }
   ],
   "source": [
    "# Binarize the output for multi-class AUC\n",
    "y_train_binarized = label_binarize(y_train, classes=[0, 1, 2])  # Adjust class labels as needed\n",
    "y_test_binarized = label_binarize(y_test, classes=[0, 1, 2])\n",
    "\n",
    "print(cl('AUC SCORE (Multi-Class):', attrs=['bold']))\n",
    "print('-------------------------------------------------------------------------------')\n",
    "\n",
    "# 1. Logistic Regression\n",
    "logistic.fit(X_train, y_train)\n",
    "logistic_train_auc = roc_auc_score(y_train_binarized, logistic.predict_proba(X_train), multi_class='ovr')\n",
    "logistic_test_auc = roc_auc_score(y_test_binarized, logistic.predict_proba(X_test), multi_class='ovr')\n",
    "print(cl('Logistic model:', attrs=['bold']))\n",
    "print(cl('Train - AUC score is {:.4f}'.format(logistic_train_auc), attrs=['bold']))\n",
    "print(cl('Test - AUC score is {:.4f}'.format(logistic_test_auc), attrs=['bold']))\n",
    "\n",
    "print('-------------------------------------------------------------------------------')\n",
    "\n",
    "# 2. Ridge Classifier\n",
    "ridge_classifier.fit(X_train, y_train)\n",
    "ridge_train_scores = ridge_classifier.decision_function(X_train)  # Multiclass decision scores\n",
    "ridge_test_scores = ridge_classifier.decision_function(X_test)\n",
    "ridge_classifier_train_auc = roc_auc_score(y_train_binarized, ridge_train_scores, multi_class='ovr')\n",
    "ridge_classifier_test_auc = roc_auc_score(y_test_binarized, ridge_test_scores, multi_class='ovr')\n",
    "print(cl('Ridge model:', attrs=['bold']))\n",
    "print(cl('Train - AUC score is {:.4f}'.format(ridge_classifier_train_auc), attrs=['bold']))\n",
    "print(cl('Test - AUC score is {:.4f}'.format(ridge_classifier_test_auc), attrs=['bold']))\n",
    "\n",
    "print('-------------------------------------------------------------------------------')\n",
    "\n",
    "# 3. Gaussian Naive Bayes\n",
    "naive_bayes.fit(X_train, y_train)\n",
    "naive_bayes_train_auc = roc_auc_score(y_train_binarized, naive_bayes.predict_proba(X_train), multi_class='ovr')\n",
    "naive_bayes_test_auc = roc_auc_score(y_test_binarized, naive_bayes.predict_proba(X_test), multi_class='ovr')\n",
    "print(cl('Naive Bayes model:', attrs=['bold']))\n",
    "print(cl('Train - AUC score is {:.4f}'.format(naive_bayes_train_auc), attrs=['bold']))\n",
    "print(cl('Test - AUC score is {:.4f}'.format(naive_bayes_test_auc), attrs=['bold']))\n",
    "\n",
    "print('-------------------------------------------------------------------------------')\n",
    "\n",
    "# 4. Support Vector Classifier\n",
    "svc.fit(X_train, y_train)\n",
    "svc_train_auc = roc_auc_score(y_train_binarized, svc.decision_function(X_train), multi_class='ovr')  # Use decision_function\n",
    "svc_test_auc = roc_auc_score(y_test_binarized, svc.decision_function(X_test), multi_class='ovr')\n",
    "print(cl('SVC model:', attrs=['bold']))\n",
    "print(cl('Train - AUC score is {:.4f}'.format(svc_train_auc), attrs=['bold']))\n",
    "print(cl('Test - AUC score is {:.4f}'.format(svc_test_auc), attrs=['bold']))\n",
    "\n"
   ]
  },
  {
   "cell_type": "code",
   "execution_count": 290,
   "metadata": {},
   "outputs": [
    {
     "name": "stdout",
     "output_type": "stream",
     "text": [
      "\u001b[1mLogistic Model: Other Metrics:\u001b[0m\n",
      "     \n",
      "Classification Report (Test):\u001b[0m\n",
      "              precision    recall  f1-score   support\n",
      "\n",
      "           0       0.70      0.61      0.65        23\n",
      "           1       0.75      0.67      0.71        27\n",
      "           2       0.14      1.00      0.25         1\n",
      "\n",
      "    accuracy                           0.65        51\n",
      "   macro avg       0.53      0.76      0.54        51\n",
      "weighted avg       0.72      0.65      0.67        51\n",
      "\n"
     ]
    }
   ],
   "source": [
    "print(cl('Logistic Model: Other Metrics:', attrs=['bold']))\n",
    "# 1. Logistic Regression\n",
    "logistic.fit(X_train, y_train)\n",
    "print('     ')\n",
    "print(cl('Classification Report (Test):'))\n",
    "print(classification_report(y_test, logistic_test_yhat))"
   ]
  },
  {
   "cell_type": "code",
   "execution_count": 291,
   "metadata": {},
   "outputs": [
    {
     "name": "stdout",
     "output_type": "stream",
     "text": [
      "\u001b[1mRidge Classifier: Other Metrics:\u001b[0m\n",
      "     \n",
      "Classification Report (Test):\u001b[0m\n",
      "              precision    recall  f1-score   support\n",
      "\n",
      "           0       0.62      0.35      0.44        23\n",
      "           1       0.63      0.44      0.52        27\n",
      "           2       0.00      0.00      0.00         1\n",
      "\n",
      "    accuracy                           0.39        51\n",
      "   macro avg       0.42      0.26      0.32        51\n",
      "weighted avg       0.61      0.39      0.48        51\n",
      "\n"
     ]
    }
   ],
   "source": [
    "print(cl('Ridge Classifier: Other Metrics:', attrs=['bold']))\n",
    "# 2. Ridge Classifier\n",
    "ridge_classifier.fit(X_train, y_train)\n",
    "print('     ')\n",
    "print(cl('Classification Report (Test):'))\n",
    "print(classification_report(y_test, ridge_classifier_test_yhat))"
   ]
  },
  {
   "cell_type": "code",
   "execution_count": 292,
   "metadata": {},
   "outputs": [
    {
     "name": "stdout",
     "output_type": "stream",
     "text": [
      "\u001b[1mGaussian Naive Bayes: Other Metrics:\u001b[0m\n",
      "     \n",
      "Classification Report (Test):\u001b[0m\n",
      "              precision    recall  f1-score   support\n",
      "\n",
      "           0       0.83      0.22      0.34        23\n",
      "           1       0.57      0.85      0.69        27\n",
      "           2       0.20      1.00      0.33         1\n",
      "\n",
      "    accuracy                           0.57        51\n",
      "   macro avg       0.54      0.69      0.45        51\n",
      "weighted avg       0.68      0.57      0.53        51\n",
      "\n"
     ]
    }
   ],
   "source": [
    "print(cl('Gaussian Naive Bayes: Other Metrics:', attrs=['bold']))\n",
    "# 3. Gaussian Naive Bayes\n",
    "naive_bayes.fit(X_train, y_train)\n",
    "print('     ')\n",
    "print(cl('Classification Report (Test):'))\n",
    "print(classification_report(y_test, naive_bayes_test_yhat))"
   ]
  },
  {
   "cell_type": "code",
   "execution_count": 293,
   "metadata": {},
   "outputs": [
    {
     "name": "stdout",
     "output_type": "stream",
     "text": [
      "\u001b[1mSupport Vector Classifier: Other Metrics:\u001b[0m\n",
      "     \n",
      "Classification Report (Test):\u001b[0m\n",
      "              precision    recall  f1-score   support\n",
      "\n",
      "           0       0.80      0.17      0.29        23\n",
      "           1       0.57      0.96      0.71        27\n",
      "           2       0.00      0.00      0.00         1\n",
      "\n",
      "    accuracy                           0.59        51\n",
      "   macro avg       0.46      0.38      0.33        51\n",
      "weighted avg       0.66      0.59      0.51        51\n",
      "\n"
     ]
    }
   ],
   "source": [
    "print(cl('Support Vector Classifier: Other Metrics:', attrs=['bold']))\n",
    "# 4. Support Vector Classifier\n",
    "svc.fit(X_train, y_train)\n",
    "print('     ')\n",
    "print(cl('Classification Report (Test):'))\n",
    "print(classification_report(y_test,svc_test_yhat))"
   ]
  },
  {
   "cell_type": "code",
   "execution_count": 294,
   "metadata": {},
   "outputs": [
    {
     "data": {
      "application/vnd.plotly.v1+json": {
       "config": {
        "plotlyServerURL": "https://plot.ly"
       },
       "data": [
        {
         "alignmentgroup": "True",
         "hovertemplate": "Dataset=Train<br>Classification Model=%{x}<br>AUC Score=%{y}<extra></extra>",
         "legendgroup": "Train",
         "marker": {
          "color": "#636efa",
          "pattern": {
           "shape": ""
          }
         },
         "name": "Train",
         "offsetgroup": "Train",
         "orientation": "v",
         "showlegend": true,
         "textposition": "auto",
         "type": "bar",
         "x": [
          "Logistic Regression",
          "Ridge Classifier",
          "Naive Bayes",
          "SVC"
         ],
         "xaxis": "x",
         "y": [
          0.9148301255986265,
          1,
          0.6966909882232463,
          0.7028071443631217
         ],
         "yaxis": "y"
        },
        {
         "alignmentgroup": "True",
         "hovertemplate": "Dataset=Test<br>Classification Model=%{x}<br>AUC Score=%{y}<extra></extra>",
         "legendgroup": "Test",
         "marker": {
          "color": "#EF553B",
          "pattern": {
           "shape": ""
          }
         },
         "name": "Test",
         "offsetgroup": "Test",
         "orientation": "v",
         "showlegend": true,
         "textposition": "auto",
         "type": "bar",
         "x": [
          "Logistic Regression",
          "Ridge Classifier",
          "Naive Bayes",
          "SVC"
         ],
         "xaxis": "x",
         "y": [
          0.8101514454413005,
          0.4184846509725737,
          0.7160969250824324,
          0.5403298571172966
         ],
         "yaxis": "y"
        }
       ],
       "layout": {
        "barmode": "group",
        "legend": {
         "title": {
          "text": "Dataset"
         },
         "tracegroupgap": 0
        },
        "template": {
         "data": {
          "bar": [
           {
            "error_x": {
             "color": "#f2f5fa"
            },
            "error_y": {
             "color": "#f2f5fa"
            },
            "marker": {
             "line": {
              "color": "rgb(17,17,17)",
              "width": 0.5
             },
             "pattern": {
              "fillmode": "overlay",
              "size": 10,
              "solidity": 0.2
             }
            },
            "type": "bar"
           }
          ],
          "barpolar": [
           {
            "marker": {
             "line": {
              "color": "rgb(17,17,17)",
              "width": 0.5
             },
             "pattern": {
              "fillmode": "overlay",
              "size": 10,
              "solidity": 0.2
             }
            },
            "type": "barpolar"
           }
          ],
          "carpet": [
           {
            "aaxis": {
             "endlinecolor": "#A2B1C6",
             "gridcolor": "#506784",
             "linecolor": "#506784",
             "minorgridcolor": "#506784",
             "startlinecolor": "#A2B1C6"
            },
            "baxis": {
             "endlinecolor": "#A2B1C6",
             "gridcolor": "#506784",
             "linecolor": "#506784",
             "minorgridcolor": "#506784",
             "startlinecolor": "#A2B1C6"
            },
            "type": "carpet"
           }
          ],
          "choropleth": [
           {
            "colorbar": {
             "outlinewidth": 0,
             "ticks": ""
            },
            "type": "choropleth"
           }
          ],
          "contour": [
           {
            "colorbar": {
             "outlinewidth": 0,
             "ticks": ""
            },
            "colorscale": [
             [
              0,
              "#0d0887"
             ],
             [
              0.1111111111111111,
              "#46039f"
             ],
             [
              0.2222222222222222,
              "#7201a8"
             ],
             [
              0.3333333333333333,
              "#9c179e"
             ],
             [
              0.4444444444444444,
              "#bd3786"
             ],
             [
              0.5555555555555556,
              "#d8576b"
             ],
             [
              0.6666666666666666,
              "#ed7953"
             ],
             [
              0.7777777777777778,
              "#fb9f3a"
             ],
             [
              0.8888888888888888,
              "#fdca26"
             ],
             [
              1,
              "#f0f921"
             ]
            ],
            "type": "contour"
           }
          ],
          "contourcarpet": [
           {
            "colorbar": {
             "outlinewidth": 0,
             "ticks": ""
            },
            "type": "contourcarpet"
           }
          ],
          "heatmap": [
           {
            "colorbar": {
             "outlinewidth": 0,
             "ticks": ""
            },
            "colorscale": [
             [
              0,
              "#0d0887"
             ],
             [
              0.1111111111111111,
              "#46039f"
             ],
             [
              0.2222222222222222,
              "#7201a8"
             ],
             [
              0.3333333333333333,
              "#9c179e"
             ],
             [
              0.4444444444444444,
              "#bd3786"
             ],
             [
              0.5555555555555556,
              "#d8576b"
             ],
             [
              0.6666666666666666,
              "#ed7953"
             ],
             [
              0.7777777777777778,
              "#fb9f3a"
             ],
             [
              0.8888888888888888,
              "#fdca26"
             ],
             [
              1,
              "#f0f921"
             ]
            ],
            "type": "heatmap"
           }
          ],
          "heatmapgl": [
           {
            "colorbar": {
             "outlinewidth": 0,
             "ticks": ""
            },
            "colorscale": [
             [
              0,
              "#0d0887"
             ],
             [
              0.1111111111111111,
              "#46039f"
             ],
             [
              0.2222222222222222,
              "#7201a8"
             ],
             [
              0.3333333333333333,
              "#9c179e"
             ],
             [
              0.4444444444444444,
              "#bd3786"
             ],
             [
              0.5555555555555556,
              "#d8576b"
             ],
             [
              0.6666666666666666,
              "#ed7953"
             ],
             [
              0.7777777777777778,
              "#fb9f3a"
             ],
             [
              0.8888888888888888,
              "#fdca26"
             ],
             [
              1,
              "#f0f921"
             ]
            ],
            "type": "heatmapgl"
           }
          ],
          "histogram": [
           {
            "marker": {
             "pattern": {
              "fillmode": "overlay",
              "size": 10,
              "solidity": 0.2
             }
            },
            "type": "histogram"
           }
          ],
          "histogram2d": [
           {
            "colorbar": {
             "outlinewidth": 0,
             "ticks": ""
            },
            "colorscale": [
             [
              0,
              "#0d0887"
             ],
             [
              0.1111111111111111,
              "#46039f"
             ],
             [
              0.2222222222222222,
              "#7201a8"
             ],
             [
              0.3333333333333333,
              "#9c179e"
             ],
             [
              0.4444444444444444,
              "#bd3786"
             ],
             [
              0.5555555555555556,
              "#d8576b"
             ],
             [
              0.6666666666666666,
              "#ed7953"
             ],
             [
              0.7777777777777778,
              "#fb9f3a"
             ],
             [
              0.8888888888888888,
              "#fdca26"
             ],
             [
              1,
              "#f0f921"
             ]
            ],
            "type": "histogram2d"
           }
          ],
          "histogram2dcontour": [
           {
            "colorbar": {
             "outlinewidth": 0,
             "ticks": ""
            },
            "colorscale": [
             [
              0,
              "#0d0887"
             ],
             [
              0.1111111111111111,
              "#46039f"
             ],
             [
              0.2222222222222222,
              "#7201a8"
             ],
             [
              0.3333333333333333,
              "#9c179e"
             ],
             [
              0.4444444444444444,
              "#bd3786"
             ],
             [
              0.5555555555555556,
              "#d8576b"
             ],
             [
              0.6666666666666666,
              "#ed7953"
             ],
             [
              0.7777777777777778,
              "#fb9f3a"
             ],
             [
              0.8888888888888888,
              "#fdca26"
             ],
             [
              1,
              "#f0f921"
             ]
            ],
            "type": "histogram2dcontour"
           }
          ],
          "mesh3d": [
           {
            "colorbar": {
             "outlinewidth": 0,
             "ticks": ""
            },
            "type": "mesh3d"
           }
          ],
          "parcoords": [
           {
            "line": {
             "colorbar": {
              "outlinewidth": 0,
              "ticks": ""
             }
            },
            "type": "parcoords"
           }
          ],
          "pie": [
           {
            "automargin": true,
            "type": "pie"
           }
          ],
          "scatter": [
           {
            "marker": {
             "line": {
              "color": "#283442"
             }
            },
            "type": "scatter"
           }
          ],
          "scatter3d": [
           {
            "line": {
             "colorbar": {
              "outlinewidth": 0,
              "ticks": ""
             }
            },
            "marker": {
             "colorbar": {
              "outlinewidth": 0,
              "ticks": ""
             }
            },
            "type": "scatter3d"
           }
          ],
          "scattercarpet": [
           {
            "marker": {
             "colorbar": {
              "outlinewidth": 0,
              "ticks": ""
             }
            },
            "type": "scattercarpet"
           }
          ],
          "scattergeo": [
           {
            "marker": {
             "colorbar": {
              "outlinewidth": 0,
              "ticks": ""
             }
            },
            "type": "scattergeo"
           }
          ],
          "scattergl": [
           {
            "marker": {
             "line": {
              "color": "#283442"
             }
            },
            "type": "scattergl"
           }
          ],
          "scattermapbox": [
           {
            "marker": {
             "colorbar": {
              "outlinewidth": 0,
              "ticks": ""
             }
            },
            "type": "scattermapbox"
           }
          ],
          "scatterpolar": [
           {
            "marker": {
             "colorbar": {
              "outlinewidth": 0,
              "ticks": ""
             }
            },
            "type": "scatterpolar"
           }
          ],
          "scatterpolargl": [
           {
            "marker": {
             "colorbar": {
              "outlinewidth": 0,
              "ticks": ""
             }
            },
            "type": "scatterpolargl"
           }
          ],
          "scatterternary": [
           {
            "marker": {
             "colorbar": {
              "outlinewidth": 0,
              "ticks": ""
             }
            },
            "type": "scatterternary"
           }
          ],
          "surface": [
           {
            "colorbar": {
             "outlinewidth": 0,
             "ticks": ""
            },
            "colorscale": [
             [
              0,
              "#0d0887"
             ],
             [
              0.1111111111111111,
              "#46039f"
             ],
             [
              0.2222222222222222,
              "#7201a8"
             ],
             [
              0.3333333333333333,
              "#9c179e"
             ],
             [
              0.4444444444444444,
              "#bd3786"
             ],
             [
              0.5555555555555556,
              "#d8576b"
             ],
             [
              0.6666666666666666,
              "#ed7953"
             ],
             [
              0.7777777777777778,
              "#fb9f3a"
             ],
             [
              0.8888888888888888,
              "#fdca26"
             ],
             [
              1,
              "#f0f921"
             ]
            ],
            "type": "surface"
           }
          ],
          "table": [
           {
            "cells": {
             "fill": {
              "color": "#506784"
             },
             "line": {
              "color": "rgb(17,17,17)"
             }
            },
            "header": {
             "fill": {
              "color": "#2a3f5f"
             },
             "line": {
              "color": "rgb(17,17,17)"
             }
            },
            "type": "table"
           }
          ]
         },
         "layout": {
          "annotationdefaults": {
           "arrowcolor": "#f2f5fa",
           "arrowhead": 0,
           "arrowwidth": 1
          },
          "autotypenumbers": "strict",
          "coloraxis": {
           "colorbar": {
            "outlinewidth": 0,
            "ticks": ""
           }
          },
          "colorscale": {
           "diverging": [
            [
             0,
             "#8e0152"
            ],
            [
             0.1,
             "#c51b7d"
            ],
            [
             0.2,
             "#de77ae"
            ],
            [
             0.3,
             "#f1b6da"
            ],
            [
             0.4,
             "#fde0ef"
            ],
            [
             0.5,
             "#f7f7f7"
            ],
            [
             0.6,
             "#e6f5d0"
            ],
            [
             0.7,
             "#b8e186"
            ],
            [
             0.8,
             "#7fbc41"
            ],
            [
             0.9,
             "#4d9221"
            ],
            [
             1,
             "#276419"
            ]
           ],
           "sequential": [
            [
             0,
             "#0d0887"
            ],
            [
             0.1111111111111111,
             "#46039f"
            ],
            [
             0.2222222222222222,
             "#7201a8"
            ],
            [
             0.3333333333333333,
             "#9c179e"
            ],
            [
             0.4444444444444444,
             "#bd3786"
            ],
            [
             0.5555555555555556,
             "#d8576b"
            ],
            [
             0.6666666666666666,
             "#ed7953"
            ],
            [
             0.7777777777777778,
             "#fb9f3a"
            ],
            [
             0.8888888888888888,
             "#fdca26"
            ],
            [
             1,
             "#f0f921"
            ]
           ],
           "sequentialminus": [
            [
             0,
             "#0d0887"
            ],
            [
             0.1111111111111111,
             "#46039f"
            ],
            [
             0.2222222222222222,
             "#7201a8"
            ],
            [
             0.3333333333333333,
             "#9c179e"
            ],
            [
             0.4444444444444444,
             "#bd3786"
            ],
            [
             0.5555555555555556,
             "#d8576b"
            ],
            [
             0.6666666666666666,
             "#ed7953"
            ],
            [
             0.7777777777777778,
             "#fb9f3a"
            ],
            [
             0.8888888888888888,
             "#fdca26"
            ],
            [
             1,
             "#f0f921"
            ]
           ]
          },
          "colorway": [
           "#636efa",
           "#EF553B",
           "#00cc96",
           "#ab63fa",
           "#FFA15A",
           "#19d3f3",
           "#FF6692",
           "#B6E880",
           "#FF97FF",
           "#FECB52"
          ],
          "font": {
           "color": "#f2f5fa"
          },
          "geo": {
           "bgcolor": "rgb(17,17,17)",
           "lakecolor": "rgb(17,17,17)",
           "landcolor": "rgb(17,17,17)",
           "showlakes": true,
           "showland": true,
           "subunitcolor": "#506784"
          },
          "hoverlabel": {
           "align": "left"
          },
          "hovermode": "closest",
          "mapbox": {
           "style": "dark"
          },
          "paper_bgcolor": "rgb(17,17,17)",
          "plot_bgcolor": "rgb(17,17,17)",
          "polar": {
           "angularaxis": {
            "gridcolor": "#506784",
            "linecolor": "#506784",
            "ticks": ""
           },
           "bgcolor": "rgb(17,17,17)",
           "radialaxis": {
            "gridcolor": "#506784",
            "linecolor": "#506784",
            "ticks": ""
           }
          },
          "scene": {
           "xaxis": {
            "backgroundcolor": "rgb(17,17,17)",
            "gridcolor": "#506784",
            "gridwidth": 2,
            "linecolor": "#506784",
            "showbackground": true,
            "ticks": "",
            "zerolinecolor": "#C8D4E3"
           },
           "yaxis": {
            "backgroundcolor": "rgb(17,17,17)",
            "gridcolor": "#506784",
            "gridwidth": 2,
            "linecolor": "#506784",
            "showbackground": true,
            "ticks": "",
            "zerolinecolor": "#C8D4E3"
           },
           "zaxis": {
            "backgroundcolor": "rgb(17,17,17)",
            "gridcolor": "#506784",
            "gridwidth": 2,
            "linecolor": "#506784",
            "showbackground": true,
            "ticks": "",
            "zerolinecolor": "#C8D4E3"
           }
          },
          "shapedefaults": {
           "line": {
            "color": "#f2f5fa"
           }
          },
          "sliderdefaults": {
           "bgcolor": "#C8D4E3",
           "bordercolor": "rgb(17,17,17)",
           "borderwidth": 1,
           "tickwidth": 0
          },
          "ternary": {
           "aaxis": {
            "gridcolor": "#506784",
            "linecolor": "#506784",
            "ticks": ""
           },
           "baxis": {
            "gridcolor": "#506784",
            "linecolor": "#506784",
            "ticks": ""
           },
           "bgcolor": "rgb(17,17,17)",
           "caxis": {
            "gridcolor": "#506784",
            "linecolor": "#506784",
            "ticks": ""
           }
          },
          "title": {
           "x": 0.05
          },
          "updatemenudefaults": {
           "bgcolor": "#506784",
           "borderwidth": 0
          },
          "xaxis": {
           "automargin": true,
           "gridcolor": "#283442",
           "linecolor": "#506784",
           "ticks": "",
           "title": {
            "standoff": 15
           },
           "zerolinecolor": "#283442",
           "zerolinewidth": 2
          },
          "yaxis": {
           "automargin": true,
           "gridcolor": "#283442",
           "linecolor": "#506784",
           "ticks": "",
           "title": {
            "standoff": 15
           },
           "zerolinecolor": "#283442",
           "zerolinewidth": 2
          }
         }
        },
        "title": {
         "font": {
          "size": 20
         },
         "text": "Comparison of AUC Scores Across Models"
        },
        "xaxis": {
         "anchor": "y",
         "domain": [
          0,
          1
         ],
         "title": {
          "text": "Model"
         }
        },
        "yaxis": {
         "anchor": "x",
         "domain": [
          0,
          1
         ],
         "title": {
          "text": "AUC Score"
         }
        }
       }
      }
     },
     "metadata": {},
     "output_type": "display_data"
    }
   ],
   "source": [
    "# AUC scores from all models\n",
    "model_names = ['Logistic Regression', 'Ridge Classifier', 'Naive Bayes', 'SVC']\n",
    "train_auc_scores = [logistic_train_auc, ridge_classifier_train_auc, naive_bayes_train_auc, svc_train_auc]\n",
    "test_auc_scores = [logistic_test_auc, ridge_classifier_test_auc, naive_bayes_test_auc, svc_test_auc]\n",
    "\n",
    "# Create a DataFrame for visualization\n",
    "auc_data = pd.DataFrame({\n",
    "    'Model': model_names * 2,\n",
    "    'Dataset': ['Train'] * len(model_names) + ['Test'] * len(model_names),\n",
    "    'AUC Score': train_auc_scores + test_auc_scores})\n",
    "\n",
    "# Create the bar plot with the plotly_dark template\n",
    "fig = px.bar(\n",
    "    auc_data, \n",
    "    x='Model', \n",
    "    y='AUC Score', \n",
    "    color='Dataset', \n",
    "    barmode='group',\n",
    "    title='Comparison of AUC Scores Across Models',\n",
    "    labels={'AUC Score': 'AUC Score', 'Model': 'Classification Model'},\n",
    "    template='plotly_dark'\n",
    ")\n",
    "\n",
    "# Customize layout\n",
    "fig.update_layout(\n",
    "    title_font_size=20,\n",
    "    xaxis_title='Model',\n",
    "    yaxis_title='AUC Score',\n",
    "    legend_title='Dataset',\n",
    ")\n",
    "\n",
    "# Display the plot\n",
    "fig.show()\n"
   ]
  },
  {
   "cell_type": "markdown",
   "metadata": {},
   "source": [
    "# Improved Modeling"
   ]
  },
  {
   "cell_type": "markdown",
   "metadata": {},
   "source": [
    "## Feature Engineering "
   ]
  },
  {
   "cell_type": "markdown",
   "metadata": {},
   "source": [
    "Creation of relevant ratios recarding country ratings. "
   ]
  },
  {
   "cell_type": "code",
   "execution_count": 295,
   "metadata": {},
   "outputs": [],
   "source": [
    "df = data.copy()"
   ]
  },
  {
   "cell_type": "code",
   "execution_count": 296,
   "metadata": {},
   "outputs": [
    {
     "data": {
      "text/html": [
       "<div>\n",
       "<style scoped>\n",
       "    .dataframe tbody tr th:only-of-type {\n",
       "        vertical-align: middle;\n",
       "    }\n",
       "\n",
       "    .dataframe tbody tr th {\n",
       "        vertical-align: top;\n",
       "    }\n",
       "\n",
       "    .dataframe thead th {\n",
       "        text-align: right;\n",
       "    }\n",
       "</style>\n",
       "<table border=\"1\" class=\"dataframe\">\n",
       "  <thead>\n",
       "    <tr style=\"text-align: right;\">\n",
       "      <th></th>\n",
       "      <th>S&amp;P Rating</th>\n",
       "      <th>unemployment_2000</th>\n",
       "      <th>unemployment_2014</th>\n",
       "      <th>unemployment_2015</th>\n",
       "      <th>unemployment_2016</th>\n",
       "      <th>unemployment_2017</th>\n",
       "      <th>unemployment_2018</th>\n",
       "      <th>unemployment_2019</th>\n",
       "      <th>unemployment_2020</th>\n",
       "      <th>unemployment_2021</th>\n",
       "      <th>...</th>\n",
       "      <th>total_reserves_2015</th>\n",
       "      <th>total_reserves_2016</th>\n",
       "      <th>total_reserves_2017</th>\n",
       "      <th>total_reserves_2018</th>\n",
       "      <th>total_reserves_2019</th>\n",
       "      <th>total_reserves_2020</th>\n",
       "      <th>total_reserves_2021</th>\n",
       "      <th>total_reserves_2022</th>\n",
       "      <th>total_reserves_2023</th>\n",
       "      <th>target</th>\n",
       "    </tr>\n",
       "    <tr>\n",
       "      <th>Country</th>\n",
       "      <th></th>\n",
       "      <th></th>\n",
       "      <th></th>\n",
       "      <th></th>\n",
       "      <th></th>\n",
       "      <th></th>\n",
       "      <th></th>\n",
       "      <th></th>\n",
       "      <th></th>\n",
       "      <th></th>\n",
       "      <th></th>\n",
       "      <th></th>\n",
       "      <th></th>\n",
       "      <th></th>\n",
       "      <th></th>\n",
       "      <th></th>\n",
       "      <th></th>\n",
       "      <th></th>\n",
       "      <th></th>\n",
       "      <th></th>\n",
       "      <th></th>\n",
       "    </tr>\n",
       "  </thead>\n",
       "  <tbody>\n",
       "    <tr>\n",
       "      <th>Australia</th>\n",
       "      <td>AAA</td>\n",
       "      <td>6.288000</td>\n",
       "      <td>6.078000</td>\n",
       "      <td>6.055000</td>\n",
       "      <td>5.711000</td>\n",
       "      <td>5.592000</td>\n",
       "      <td>5.300000</td>\n",
       "      <td>5.159000</td>\n",
       "      <td>6.456000</td>\n",
       "      <td>5.116000</td>\n",
       "      <td>...</td>\n",
       "      <td>4.540604e+10</td>\n",
       "      <td>5.248079e+10</td>\n",
       "      <td>6.565372e+10</td>\n",
       "      <td>5.390953e+10</td>\n",
       "      <td>5.799469e+10</td>\n",
       "      <td>4.254463e+10</td>\n",
       "      <td>5.787750e+10</td>\n",
       "      <td>5.670190e+10</td>\n",
       "      <td>6.170335e+10</td>\n",
       "      <td>0</td>\n",
       "    </tr>\n",
       "    <tr>\n",
       "      <th>Canada</th>\n",
       "      <td>AAA</td>\n",
       "      <td>6.829000</td>\n",
       "      <td>7.023000</td>\n",
       "      <td>6.945000</td>\n",
       "      <td>7.038000</td>\n",
       "      <td>6.426000</td>\n",
       "      <td>5.837000</td>\n",
       "      <td>5.690000</td>\n",
       "      <td>9.657000</td>\n",
       "      <td>7.527000</td>\n",
       "      <td>...</td>\n",
       "      <td>7.975352e+10</td>\n",
       "      <td>8.271811e+10</td>\n",
       "      <td>8.667771e+10</td>\n",
       "      <td>8.392560e+10</td>\n",
       "      <td>8.529711e+10</td>\n",
       "      <td>9.042814e+10</td>\n",
       "      <td>1.066151e+11</td>\n",
       "      <td>1.069524e+11</td>\n",
       "      <td>1.175509e+11</td>\n",
       "      <td>0</td>\n",
       "    </tr>\n",
       "    <tr>\n",
       "      <th>Denmark</th>\n",
       "      <td>AAA</td>\n",
       "      <td>4.476000</td>\n",
       "      <td>6.925000</td>\n",
       "      <td>6.278000</td>\n",
       "      <td>5.989000</td>\n",
       "      <td>5.833000</td>\n",
       "      <td>5.131000</td>\n",
       "      <td>5.018000</td>\n",
       "      <td>5.637000</td>\n",
       "      <td>5.043000</td>\n",
       "      <td>...</td>\n",
       "      <td>6.518509e+10</td>\n",
       "      <td>6.421581e+10</td>\n",
       "      <td>7.524445e+10</td>\n",
       "      <td>7.094208e+10</td>\n",
       "      <td>6.683555e+10</td>\n",
       "      <td>7.282335e+10</td>\n",
       "      <td>8.223584e+10</td>\n",
       "      <td>9.607255e+10</td>\n",
       "      <td>1.093708e+11</td>\n",
       "      <td>0</td>\n",
       "    </tr>\n",
       "    <tr>\n",
       "      <th>Germany</th>\n",
       "      <td>AAA</td>\n",
       "      <td>7.917000</td>\n",
       "      <td>4.981000</td>\n",
       "      <td>4.624000</td>\n",
       "      <td>4.122000</td>\n",
       "      <td>3.746000</td>\n",
       "      <td>3.384000</td>\n",
       "      <td>3.136000</td>\n",
       "      <td>3.856000</td>\n",
       "      <td>3.638000</td>\n",
       "      <td>...</td>\n",
       "      <td>1.737309e+11</td>\n",
       "      <td>1.840313e+11</td>\n",
       "      <td>1.999831e+11</td>\n",
       "      <td>1.980271e+11</td>\n",
       "      <td>2.240280e+11</td>\n",
       "      <td>2.684086e+11</td>\n",
       "      <td>2.957362e+11</td>\n",
       "      <td>2.939137e+11</td>\n",
       "      <td>3.227001e+11</td>\n",
       "      <td>0</td>\n",
       "    </tr>\n",
       "    <tr>\n",
       "      <th>Liechtenstein</th>\n",
       "      <td>AAA</td>\n",
       "      <td>9.640537</td>\n",
       "      <td>9.136085</td>\n",
       "      <td>9.052059</td>\n",
       "      <td>8.903803</td>\n",
       "      <td>8.664479</td>\n",
       "      <td>8.383856</td>\n",
       "      <td>8.244777</td>\n",
       "      <td>9.305229</td>\n",
       "      <td>9.015766</td>\n",
       "      <td>...</td>\n",
       "      <td>2.726483e+09</td>\n",
       "      <td>2.453835e+09</td>\n",
       "      <td>2.181187e+09</td>\n",
       "      <td>1.908538e+09</td>\n",
       "      <td>1.635890e+09</td>\n",
       "      <td>1.363242e+09</td>\n",
       "      <td>1.090593e+09</td>\n",
       "      <td>8.179449e+08</td>\n",
       "      <td>5.452966e+08</td>\n",
       "      <td>0</td>\n",
       "    </tr>\n",
       "  </tbody>\n",
       "</table>\n",
       "<p>5 rows × 73 columns</p>\n",
       "</div>"
      ],
      "text/plain": [
       "              S&P Rating  unemployment_2000  unemployment_2014  \\\n",
       "Country                                                          \n",
       "Australia            AAA           6.288000           6.078000   \n",
       "Canada               AAA           6.829000           7.023000   \n",
       "Denmark              AAA           4.476000           6.925000   \n",
       "Germany              AAA           7.917000           4.981000   \n",
       "Liechtenstein        AAA           9.640537           9.136085   \n",
       "\n",
       "               unemployment_2015  unemployment_2016  unemployment_2017  \\\n",
       "Country                                                                  \n",
       "Australia               6.055000           5.711000           5.592000   \n",
       "Canada                  6.945000           7.038000           6.426000   \n",
       "Denmark                 6.278000           5.989000           5.833000   \n",
       "Germany                 4.624000           4.122000           3.746000   \n",
       "Liechtenstein           9.052059           8.903803           8.664479   \n",
       "\n",
       "               unemployment_2018  unemployment_2019  unemployment_2020  \\\n",
       "Country                                                                  \n",
       "Australia               5.300000           5.159000           6.456000   \n",
       "Canada                  5.837000           5.690000           9.657000   \n",
       "Denmark                 5.131000           5.018000           5.637000   \n",
       "Germany                 3.384000           3.136000           3.856000   \n",
       "Liechtenstein           8.383856           8.244777           9.305229   \n",
       "\n",
       "               unemployment_2021  ...  total_reserves_2015  \\\n",
       "Country                           ...                        \n",
       "Australia               5.116000  ...         4.540604e+10   \n",
       "Canada                  7.527000  ...         7.975352e+10   \n",
       "Denmark                 5.043000  ...         6.518509e+10   \n",
       "Germany                 3.638000  ...         1.737309e+11   \n",
       "Liechtenstein           9.015766  ...         2.726483e+09   \n",
       "\n",
       "               total_reserves_2016  total_reserves_2017  total_reserves_2018  \\\n",
       "Country                                                                        \n",
       "Australia             5.248079e+10         6.565372e+10         5.390953e+10   \n",
       "Canada                8.271811e+10         8.667771e+10         8.392560e+10   \n",
       "Denmark               6.421581e+10         7.524445e+10         7.094208e+10   \n",
       "Germany               1.840313e+11         1.999831e+11         1.980271e+11   \n",
       "Liechtenstein         2.453835e+09         2.181187e+09         1.908538e+09   \n",
       "\n",
       "               total_reserves_2019  total_reserves_2020  total_reserves_2021  \\\n",
       "Country                                                                        \n",
       "Australia             5.799469e+10         4.254463e+10         5.787750e+10   \n",
       "Canada                8.529711e+10         9.042814e+10         1.066151e+11   \n",
       "Denmark               6.683555e+10         7.282335e+10         8.223584e+10   \n",
       "Germany               2.240280e+11         2.684086e+11         2.957362e+11   \n",
       "Liechtenstein         1.635890e+09         1.363242e+09         1.090593e+09   \n",
       "\n",
       "               total_reserves_2022  total_reserves_2023  target  \n",
       "Country                                                          \n",
       "Australia             5.670190e+10         6.170335e+10       0  \n",
       "Canada                1.069524e+11         1.175509e+11       0  \n",
       "Denmark               9.607255e+10         1.093708e+11       0  \n",
       "Germany               2.939137e+11         3.227001e+11       0  \n",
       "Liechtenstein         8.179449e+08         5.452966e+08       0  \n",
       "\n",
       "[5 rows x 73 columns]"
      ]
     },
     "execution_count": 296,
     "metadata": {},
     "output_type": "execute_result"
    }
   ],
   "source": [
    "df.head()"
   ]
  },
  {
   "cell_type": "code",
   "execution_count": 297,
   "metadata": {},
   "outputs": [
    {
     "data": {
      "text/plain": [
       "Index(['S&P Rating', 'unemployment_2000', 'unemployment_2014',\n",
       "       'unemployment_2015', 'unemployment_2016', 'unemployment_2017',\n",
       "       'unemployment_2018', 'unemployment_2019', 'unemployment_2020',\n",
       "       'unemployment_2021', 'unemployment_2022', 'unemployment_2023',\n",
       "       'current_account_balance_1990', 'current_account_balance_2000',\n",
       "       'current_account_balance_2014', 'current_account_balance_2015',\n",
       "       'current_account_balance_2016', 'current_account_balance_2017',\n",
       "       'current_account_balance_2018', 'current_account_balance_2019',\n",
       "       'current_account_balance_2020', 'current_account_balance_2021',\n",
       "       'current_account_balance_2022', 'current_account_balance_2023',\n",
       "       'exchange_rate_usd_1990', 'exchange_rate_usd_2000',\n",
       "       'exchange_rate_usd_2014', 'exchange_rate_usd_2015',\n",
       "       'exchange_rate_usd_2016', 'exchange_rate_usd_2017',\n",
       "       'exchange_rate_usd_2018', 'exchange_rate_usd_2019',\n",
       "       'exchange_rate_usd_2020', 'exchange_rate_usd_2021',\n",
       "       'exchange_rate_usd_2022', 'exchange_rate_usd_2023', 'gdp_1990',\n",
       "       'gdp_2000', 'gdp_2014', 'gdp_2015', 'gdp_2016', 'gdp_2017', 'gdp_2018',\n",
       "       'gdp_2019', 'gdp_2020', 'gdp_2021', 'gdp_2022', 'gdp_2023',\n",
       "       'inflation_1990', 'inflation_2000', 'inflation_2014', 'inflation_2015',\n",
       "       'inflation_2016', 'inflation_2017', 'inflation_2018', 'inflation_2019',\n",
       "       'inflation_2020', 'inflation_2021', 'inflation_2022', 'inflation_2023',\n",
       "       'total_reserves_1990', 'total_reserves_2000', 'total_reserves_2014',\n",
       "       'total_reserves_2015', 'total_reserves_2016', 'total_reserves_2017',\n",
       "       'total_reserves_2018', 'total_reserves_2019', 'total_reserves_2020',\n",
       "       'total_reserves_2021', 'total_reserves_2022', 'total_reserves_2023',\n",
       "       'target'],\n",
       "      dtype='object')"
      ]
     },
     "execution_count": 297,
     "metadata": {},
     "output_type": "execute_result"
    }
   ],
   "source": [
    "df.columns"
   ]
  },
  {
   "cell_type": "markdown",
   "metadata": {},
   "source": [
    "#### Current Account Balance to GDP Ratio"
   ]
  },
  {
   "cell_type": "code",
   "execution_count": 298,
   "metadata": {},
   "outputs": [],
   "source": [
    "# years for which we have data\n",
    "years = [1990, 2000, 2014, 2015, 2016, 2017, 2018, 2019, 2020, 2021, 2022, 2023]\n",
    "\n",
    "for year in years:\n",
    "    cab_col = f'current_account_balance_{year}'\n",
    "    gdp_col = f'gdp_{year}'\n",
    "    ratio_col = f'cab_to_gdp_{year}'\n",
    "    \n",
    "    # Ensure the columns exist before creating the ratio\n",
    "    if cab_col in df.columns and gdp_col in df.columns:\n",
    "        df[ratio_col] = df[cab_col] / df[gdp_col]"
   ]
  },
  {
   "cell_type": "markdown",
   "metadata": {},
   "source": [
    "#### Total reserves to GDP Ratio"
   ]
  },
  {
   "cell_type": "code",
   "execution_count": 299,
   "metadata": {},
   "outputs": [],
   "source": [
    "for year in years:\n",
    "    reserves_col = f'total_reserves_{year}'\n",
    "    gdp_col = f'gdp_{year}'\n",
    "    ratio_col = f'reserves_to_gdp_{year}'\n",
    "    \n",
    "    if reserves_col in df.columns and gdp_col in df.columns:\n",
    "        df[ratio_col] = df[reserves_col] / df[gdp_col]"
   ]
  },
  {
   "cell_type": "markdown",
   "metadata": {},
   "source": [
    "#### GDP Growth Rate "
   ]
  },
  {
   "cell_type": "code",
   "execution_count": 300,
   "metadata": {},
   "outputs": [],
   "source": [
    "#only the years for which we can calculate a contiguous change\n",
    "growth_years = [2014, 2015, 2016, 2017, 2018, 2019, 2020, 2021, 2022, 2023]\n",
    "\n",
    "for i in range(1, len(growth_years)):\n",
    "    previous = growth_years[i - 1]\n",
    "    current = growth_years[i]\n",
    "    gdp_prev = f'gdp_{previous}'\n",
    "    gdp_curr = f'gdp_{current}'\n",
    "    growth_col = f'gdp_growth_{previous}_{current}'\n",
    "    \n",
    "    if gdp_prev in df.columns and gdp_curr in df.columns:\n",
    "        df[growth_col] = (df[gdp_curr] - df[gdp_prev]) / df[gdp_prev]"
   ]
  },
  {
   "cell_type": "code",
   "execution_count": 301,
   "metadata": {},
   "outputs": [
    {
     "data": {
      "text/html": [
       "<div>\n",
       "<style scoped>\n",
       "    .dataframe tbody tr th:only-of-type {\n",
       "        vertical-align: middle;\n",
       "    }\n",
       "\n",
       "    .dataframe tbody tr th {\n",
       "        vertical-align: top;\n",
       "    }\n",
       "\n",
       "    .dataframe thead th {\n",
       "        text-align: right;\n",
       "    }\n",
       "</style>\n",
       "<table border=\"1\" class=\"dataframe\">\n",
       "  <thead>\n",
       "    <tr style=\"text-align: right;\">\n",
       "      <th></th>\n",
       "      <th>S&amp;P Rating</th>\n",
       "      <th>unemployment_2000</th>\n",
       "      <th>unemployment_2014</th>\n",
       "      <th>unemployment_2015</th>\n",
       "      <th>unemployment_2016</th>\n",
       "      <th>unemployment_2017</th>\n",
       "      <th>unemployment_2018</th>\n",
       "      <th>unemployment_2019</th>\n",
       "      <th>unemployment_2020</th>\n",
       "      <th>unemployment_2021</th>\n",
       "      <th>...</th>\n",
       "      <th>reserves_to_gdp_2023</th>\n",
       "      <th>gdp_growth_2014_2015</th>\n",
       "      <th>gdp_growth_2015_2016</th>\n",
       "      <th>gdp_growth_2016_2017</th>\n",
       "      <th>gdp_growth_2017_2018</th>\n",
       "      <th>gdp_growth_2018_2019</th>\n",
       "      <th>gdp_growth_2019_2020</th>\n",
       "      <th>gdp_growth_2020_2021</th>\n",
       "      <th>gdp_growth_2021_2022</th>\n",
       "      <th>gdp_growth_2022_2023</th>\n",
       "    </tr>\n",
       "    <tr>\n",
       "      <th>Country</th>\n",
       "      <th></th>\n",
       "      <th></th>\n",
       "      <th></th>\n",
       "      <th></th>\n",
       "      <th></th>\n",
       "      <th></th>\n",
       "      <th></th>\n",
       "      <th></th>\n",
       "      <th></th>\n",
       "      <th></th>\n",
       "      <th></th>\n",
       "      <th></th>\n",
       "      <th></th>\n",
       "      <th></th>\n",
       "      <th></th>\n",
       "      <th></th>\n",
       "      <th></th>\n",
       "      <th></th>\n",
       "      <th></th>\n",
       "      <th></th>\n",
       "      <th></th>\n",
       "    </tr>\n",
       "  </thead>\n",
       "  <tbody>\n",
       "    <tr>\n",
       "      <th>Australia</th>\n",
       "      <td>AAA</td>\n",
       "      <td>6.288000</td>\n",
       "      <td>6.078000</td>\n",
       "      <td>6.055000</td>\n",
       "      <td>5.711000</td>\n",
       "      <td>5.592000</td>\n",
       "      <td>5.300000</td>\n",
       "      <td>5.159000</td>\n",
       "      <td>6.456000</td>\n",
       "      <td>5.116000</td>\n",
       "      <td>...</td>\n",
       "      <td>0.035707</td>\n",
       "      <td>-0.079665</td>\n",
       "      <td>-0.106904</td>\n",
       "      <td>0.098394</td>\n",
       "      <td>0.077118</td>\n",
       "      <td>-0.024573</td>\n",
       "      <td>-0.046176</td>\n",
       "      <td>0.171875</td>\n",
       "      <td>0.086156</td>\n",
       "      <td>0.022000</td>\n",
       "    </tr>\n",
       "    <tr>\n",
       "      <th>Canada</th>\n",
       "      <td>AAA</td>\n",
       "      <td>6.829000</td>\n",
       "      <td>7.023000</td>\n",
       "      <td>6.945000</td>\n",
       "      <td>7.038000</td>\n",
       "      <td>6.426000</td>\n",
       "      <td>5.837000</td>\n",
       "      <td>5.690000</td>\n",
       "      <td>9.657000</td>\n",
       "      <td>7.527000</td>\n",
       "      <td>...</td>\n",
       "      <td>0.054867</td>\n",
       "      <td>-0.138026</td>\n",
       "      <td>-0.018319</td>\n",
       "      <td>0.079366</td>\n",
       "      <td>0.046120</td>\n",
       "      <td>0.010662</td>\n",
       "      <td>-0.050490</td>\n",
       "      <td>0.212472</td>\n",
       "      <td>0.076719</td>\n",
       "      <td>-0.008796</td>\n",
       "    </tr>\n",
       "    <tr>\n",
       "      <th>Denmark</th>\n",
       "      <td>AAA</td>\n",
       "      <td>4.476000</td>\n",
       "      <td>6.925000</td>\n",
       "      <td>6.278000</td>\n",
       "      <td>5.989000</td>\n",
       "      <td>5.833000</td>\n",
       "      <td>5.131000</td>\n",
       "      <td>5.018000</td>\n",
       "      <td>5.637000</td>\n",
       "      <td>5.043000</td>\n",
       "      <td>...</td>\n",
       "      <td>0.268664</td>\n",
       "      <td>-0.144753</td>\n",
       "      <td>0.034541</td>\n",
       "      <td>0.062235</td>\n",
       "      <td>0.071417</td>\n",
       "      <td>-0.027842</td>\n",
       "      <td>0.029616</td>\n",
       "      <td>0.148320</td>\n",
       "      <td>-0.015752</td>\n",
       "      <td>0.012804</td>\n",
       "    </tr>\n",
       "    <tr>\n",
       "      <th>Germany</th>\n",
       "      <td>AAA</td>\n",
       "      <td>7.917000</td>\n",
       "      <td>4.981000</td>\n",
       "      <td>4.624000</td>\n",
       "      <td>4.122000</td>\n",
       "      <td>3.746000</td>\n",
       "      <td>3.384000</td>\n",
       "      <td>3.136000</td>\n",
       "      <td>3.856000</td>\n",
       "      <td>3.638000</td>\n",
       "      <td>...</td>\n",
       "      <td>0.071304</td>\n",
       "      <td>-0.136727</td>\n",
       "      <td>0.033362</td>\n",
       "      <td>0.063686</td>\n",
       "      <td>0.076776</td>\n",
       "      <td>-0.023396</td>\n",
       "      <td>-0.004313</td>\n",
       "      <td>0.103589</td>\n",
       "      <td>-0.042477</td>\n",
       "      <td>0.086970</td>\n",
       "    </tr>\n",
       "    <tr>\n",
       "      <th>Liechtenstein</th>\n",
       "      <td>AAA</td>\n",
       "      <td>9.640537</td>\n",
       "      <td>9.136085</td>\n",
       "      <td>9.052059</td>\n",
       "      <td>8.903803</td>\n",
       "      <td>8.664479</td>\n",
       "      <td>8.383856</td>\n",
       "      <td>8.244777</td>\n",
       "      <td>9.305229</td>\n",
       "      <td>9.015766</td>\n",
       "      <td>...</td>\n",
       "      <td>0.076923</td>\n",
       "      <td>-0.058432</td>\n",
       "      <td>-0.004979</td>\n",
       "      <td>0.037998</td>\n",
       "      <td>0.033720</td>\n",
       "      <td>-0.038274</td>\n",
       "      <td>-0.004754</td>\n",
       "      <td>0.203643</td>\n",
       "      <td>-0.045248</td>\n",
       "      <td>-0.037037</td>\n",
       "    </tr>\n",
       "    <tr>\n",
       "      <th>...</th>\n",
       "      <td>...</td>\n",
       "      <td>...</td>\n",
       "      <td>...</td>\n",
       "      <td>...</td>\n",
       "      <td>...</td>\n",
       "      <td>...</td>\n",
       "      <td>...</td>\n",
       "      <td>...</td>\n",
       "      <td>...</td>\n",
       "      <td>...</td>\n",
       "      <td>...</td>\n",
       "      <td>...</td>\n",
       "      <td>...</td>\n",
       "      <td>...</td>\n",
       "      <td>...</td>\n",
       "      <td>...</td>\n",
       "      <td>...</td>\n",
       "      <td>...</td>\n",
       "      <td>...</td>\n",
       "      <td>...</td>\n",
       "      <td>...</td>\n",
       "    </tr>\n",
       "    <tr>\n",
       "      <th>Sri Lanka</th>\n",
       "      <td>SD</td>\n",
       "      <td>7.740000</td>\n",
       "      <td>4.157000</td>\n",
       "      <td>4.519000</td>\n",
       "      <td>4.243000</td>\n",
       "      <td>4.046000</td>\n",
       "      <td>4.318000</td>\n",
       "      <td>4.670000</td>\n",
       "      <td>5.365000</td>\n",
       "      <td>5.258000</td>\n",
       "      <td>...</td>\n",
       "      <td>0.018594</td>\n",
       "      <td>0.031655</td>\n",
       "      <td>0.033724</td>\n",
       "      <td>0.072308</td>\n",
       "      <td>0.001246</td>\n",
       "      <td>-0.057981</td>\n",
       "      <td>-0.052920</td>\n",
       "      <td>0.051065</td>\n",
       "      <td>-0.163239</td>\n",
       "      <td>0.137730</td>\n",
       "    </tr>\n",
       "    <tr>\n",
       "      <th>Ukraine</th>\n",
       "      <td>SD</td>\n",
       "      <td>11.707000</td>\n",
       "      <td>9.270000</td>\n",
       "      <td>9.140000</td>\n",
       "      <td>9.350000</td>\n",
       "      <td>9.500000</td>\n",
       "      <td>8.799000</td>\n",
       "      <td>8.194000</td>\n",
       "      <td>9.475000</td>\n",
       "      <td>9.834000</td>\n",
       "      <td>...</td>\n",
       "      <td>0.226621</td>\n",
       "      <td>-0.318140</td>\n",
       "      <td>0.025540</td>\n",
       "      <td>0.200680</td>\n",
       "      <td>0.167727</td>\n",
       "      <td>0.175657</td>\n",
       "      <td>0.017771</td>\n",
       "      <td>0.275500</td>\n",
       "      <td>-0.189103</td>\n",
       "      <td>0.103510</td>\n",
       "    </tr>\n",
       "    <tr>\n",
       "      <th>Lebanon</th>\n",
       "      <td>D</td>\n",
       "      <td>8.594000</td>\n",
       "      <td>8.796000</td>\n",
       "      <td>9.270000</td>\n",
       "      <td>9.760000</td>\n",
       "      <td>10.236000</td>\n",
       "      <td>10.741000</td>\n",
       "      <td>11.301000</td>\n",
       "      <td>13.235000</td>\n",
       "      <td>12.621000</td>\n",
       "      <td>...</td>\n",
       "      <td>1.376703</td>\n",
       "      <td>0.038135</td>\n",
       "      <td>0.024394</td>\n",
       "      <td>0.036764</td>\n",
       "      <td>0.035337</td>\n",
       "      <td>-0.060027</td>\n",
       "      <td>-0.385495</td>\n",
       "      <td>-0.270565</td>\n",
       "      <td>-0.092492</td>\n",
       "      <td>-0.250000</td>\n",
       "    </tr>\n",
       "    <tr>\n",
       "      <th>Puerto Rico</th>\n",
       "      <td>D</td>\n",
       "      <td>10.080000</td>\n",
       "      <td>13.900000</td>\n",
       "      <td>12.000000</td>\n",
       "      <td>11.800000</td>\n",
       "      <td>10.800000</td>\n",
       "      <td>9.200000</td>\n",
       "      <td>8.300000</td>\n",
       "      <td>8.890000</td>\n",
       "      <td>7.900000</td>\n",
       "      <td>...</td>\n",
       "      <td>0.076923</td>\n",
       "      <td>0.009804</td>\n",
       "      <td>0.009709</td>\n",
       "      <td>-0.009615</td>\n",
       "      <td>-0.019417</td>\n",
       "      <td>0.039604</td>\n",
       "      <td>-0.019048</td>\n",
       "      <td>0.029126</td>\n",
       "      <td>0.075472</td>\n",
       "      <td>0.035088</td>\n",
       "    </tr>\n",
       "    <tr>\n",
       "      <th>Grenada</th>\n",
       "      <td>SD</td>\n",
       "      <td>9.640537</td>\n",
       "      <td>9.136085</td>\n",
       "      <td>9.052059</td>\n",
       "      <td>8.903803</td>\n",
       "      <td>8.664479</td>\n",
       "      <td>8.383856</td>\n",
       "      <td>8.244777</td>\n",
       "      <td>9.305229</td>\n",
       "      <td>9.015766</td>\n",
       "      <td>...</td>\n",
       "      <td>0.306919</td>\n",
       "      <td>0.093814</td>\n",
       "      <td>0.064827</td>\n",
       "      <td>0.060326</td>\n",
       "      <td>0.036271</td>\n",
       "      <td>0.040266</td>\n",
       "      <td>-0.140153</td>\n",
       "      <td>0.076086</td>\n",
       "      <td>0.090646</td>\n",
       "      <td>0.075255</td>\n",
       "    </tr>\n",
       "  </tbody>\n",
       "</table>\n",
       "<p>127 rows × 106 columns</p>\n",
       "</div>"
      ],
      "text/plain": [
       "              S&P Rating  unemployment_2000  unemployment_2014  \\\n",
       "Country                                                          \n",
       "Australia            AAA           6.288000           6.078000   \n",
       "Canada               AAA           6.829000           7.023000   \n",
       "Denmark              AAA           4.476000           6.925000   \n",
       "Germany              AAA           7.917000           4.981000   \n",
       "Liechtenstein        AAA           9.640537           9.136085   \n",
       "...                  ...                ...                ...   \n",
       "Sri Lanka             SD           7.740000           4.157000   \n",
       "Ukraine               SD          11.707000           9.270000   \n",
       "Lebanon                D           8.594000           8.796000   \n",
       "Puerto Rico           D           10.080000          13.900000   \n",
       "Grenada              SD            9.640537           9.136085   \n",
       "\n",
       "               unemployment_2015  unemployment_2016  unemployment_2017  \\\n",
       "Country                                                                  \n",
       "Australia               6.055000           5.711000           5.592000   \n",
       "Canada                  6.945000           7.038000           6.426000   \n",
       "Denmark                 6.278000           5.989000           5.833000   \n",
       "Germany                 4.624000           4.122000           3.746000   \n",
       "Liechtenstein           9.052059           8.903803           8.664479   \n",
       "...                          ...                ...                ...   \n",
       "Sri Lanka               4.519000           4.243000           4.046000   \n",
       "Ukraine                 9.140000           9.350000           9.500000   \n",
       "Lebanon                 9.270000           9.760000          10.236000   \n",
       "Puerto Rico            12.000000          11.800000          10.800000   \n",
       "Grenada                 9.052059           8.903803           8.664479   \n",
       "\n",
       "               unemployment_2018  unemployment_2019  unemployment_2020  \\\n",
       "Country                                                                  \n",
       "Australia               5.300000           5.159000           6.456000   \n",
       "Canada                  5.837000           5.690000           9.657000   \n",
       "Denmark                 5.131000           5.018000           5.637000   \n",
       "Germany                 3.384000           3.136000           3.856000   \n",
       "Liechtenstein           8.383856           8.244777           9.305229   \n",
       "...                          ...                ...                ...   \n",
       "Sri Lanka               4.318000           4.670000           5.365000   \n",
       "Ukraine                 8.799000           8.194000           9.475000   \n",
       "Lebanon                10.741000          11.301000          13.235000   \n",
       "Puerto Rico             9.200000           8.300000           8.890000   \n",
       "Grenada                 8.383856           8.244777           9.305229   \n",
       "\n",
       "               unemployment_2021  ...  reserves_to_gdp_2023  \\\n",
       "Country                           ...                         \n",
       "Australia               5.116000  ...              0.035707   \n",
       "Canada                  7.527000  ...              0.054867   \n",
       "Denmark                 5.043000  ...              0.268664   \n",
       "Germany                 3.638000  ...              0.071304   \n",
       "Liechtenstein           9.015766  ...              0.076923   \n",
       "...                          ...  ...                   ...   \n",
       "Sri Lanka               5.258000  ...              0.018594   \n",
       "Ukraine                 9.834000  ...              0.226621   \n",
       "Lebanon                12.621000  ...              1.376703   \n",
       "Puerto Rico             7.900000  ...              0.076923   \n",
       "Grenada                 9.015766  ...              0.306919   \n",
       "\n",
       "               gdp_growth_2014_2015  gdp_growth_2015_2016  \\\n",
       "Country                                                     \n",
       "Australia                 -0.079665             -0.106904   \n",
       "Canada                    -0.138026             -0.018319   \n",
       "Denmark                   -0.144753              0.034541   \n",
       "Germany                   -0.136727              0.033362   \n",
       "Liechtenstein             -0.058432             -0.004979   \n",
       "...                             ...                   ...   \n",
       "Sri Lanka                  0.031655              0.033724   \n",
       "Ukraine                   -0.318140              0.025540   \n",
       "Lebanon                    0.038135              0.024394   \n",
       "Puerto Rico                0.009804              0.009709   \n",
       "Grenada                    0.093814              0.064827   \n",
       "\n",
       "               gdp_growth_2016_2017  gdp_growth_2017_2018  \\\n",
       "Country                                                     \n",
       "Australia                  0.098394              0.077118   \n",
       "Canada                     0.079366              0.046120   \n",
       "Denmark                    0.062235              0.071417   \n",
       "Germany                    0.063686              0.076776   \n",
       "Liechtenstein              0.037998              0.033720   \n",
       "...                             ...                   ...   \n",
       "Sri Lanka                  0.072308              0.001246   \n",
       "Ukraine                    0.200680              0.167727   \n",
       "Lebanon                    0.036764              0.035337   \n",
       "Puerto Rico               -0.009615             -0.019417   \n",
       "Grenada                    0.060326              0.036271   \n",
       "\n",
       "               gdp_growth_2018_2019  gdp_growth_2019_2020  \\\n",
       "Country                                                     \n",
       "Australia                 -0.024573             -0.046176   \n",
       "Canada                     0.010662             -0.050490   \n",
       "Denmark                   -0.027842              0.029616   \n",
       "Germany                   -0.023396             -0.004313   \n",
       "Liechtenstein             -0.038274             -0.004754   \n",
       "...                             ...                   ...   \n",
       "Sri Lanka                 -0.057981             -0.052920   \n",
       "Ukraine                    0.175657              0.017771   \n",
       "Lebanon                   -0.060027             -0.385495   \n",
       "Puerto Rico                0.039604             -0.019048   \n",
       "Grenada                    0.040266             -0.140153   \n",
       "\n",
       "               gdp_growth_2020_2021  gdp_growth_2021_2022  \\\n",
       "Country                                                     \n",
       "Australia                  0.171875              0.086156   \n",
       "Canada                     0.212472              0.076719   \n",
       "Denmark                    0.148320             -0.015752   \n",
       "Germany                    0.103589             -0.042477   \n",
       "Liechtenstein              0.203643             -0.045248   \n",
       "...                             ...                   ...   \n",
       "Sri Lanka                  0.051065             -0.163239   \n",
       "Ukraine                    0.275500             -0.189103   \n",
       "Lebanon                   -0.270565             -0.092492   \n",
       "Puerto Rico                0.029126              0.075472   \n",
       "Grenada                    0.076086              0.090646   \n",
       "\n",
       "               gdp_growth_2022_2023  \n",
       "Country                              \n",
       "Australia                  0.022000  \n",
       "Canada                    -0.008796  \n",
       "Denmark                    0.012804  \n",
       "Germany                    0.086970  \n",
       "Liechtenstein             -0.037037  \n",
       "...                             ...  \n",
       "Sri Lanka                  0.137730  \n",
       "Ukraine                    0.103510  \n",
       "Lebanon                   -0.250000  \n",
       "Puerto Rico                0.035088  \n",
       "Grenada                    0.075255  \n",
       "\n",
       "[127 rows x 106 columns]"
      ]
     },
     "execution_count": 301,
     "metadata": {},
     "output_type": "execute_result"
    }
   ],
   "source": [
    "df"
   ]
  },
  {
   "cell_type": "markdown",
   "metadata": {},
   "source": [
    "## Correlations"
   ]
  },
  {
   "cell_type": "code",
   "execution_count": 303,
   "metadata": {},
   "outputs": [],
   "source": [
    "df = df.drop('S&P Rating', axis = 1)"
   ]
  },
  {
   "cell_type": "code",
   "execution_count": 312,
   "metadata": {},
   "outputs": [
    {
     "data": {
      "application/vnd.plotly.v1+json": {
       "config": {
        "plotlyServerURL": "https://plot.ly"
       },
       "data": [
        {
         "coloraxis": "coloraxis",
         "hovertemplate": "x: %{x}<br>y: %{y}<br>color: %{z}<extra></extra>",
         "name": "0",
         "type": "heatmap",
         "x": [
          "target",
          "unemployment_2000",
          "unemployment_2014",
          "unemployment_2015",
          "unemployment_2016",
          "unemployment_2017",
          "unemployment_2018",
          "unemployment_2019",
          "unemployment_2020",
          "unemployment_2021",
          "unemployment_2022",
          "unemployment_2023"
         ],
         "xaxis": "x",
         "y": [
          "target",
          "unemployment_2000",
          "unemployment_2014",
          "unemployment_2015",
          "unemployment_2016",
          "unemployment_2017",
          "unemployment_2018",
          "unemployment_2019",
          "unemployment_2020",
          "unemployment_2021",
          "unemployment_2022",
          "unemployment_2023"
         ],
         "yaxis": "y",
         "z": [
          [
           1,
           0.13562479751525952,
           0.006735729725906136,
           0.038356123243829705,
           0.08264214463514463,
           0.12843923688164793,
           0.17111726028842184,
           0.20510165311417994,
           0.2007613887390651,
           0.18887699864652233,
           0.20614107663415082,
           0.18786885510108994
          ],
          [
           0.13562479751525952,
           1,
           0.7089500120339044,
           0.7240721663089018,
           0.7308963839610727,
           0.7235413774487626,
           0.7077447985527645,
           0.6800418683722572,
           0.658966649639498,
           0.6600870296851923,
           0.6566341521426748,
           0.6553980368056868
          ],
          [
           0.006735729725906136,
           0.7089500120339044,
           1,
           0.9907016424794509,
           0.9669187234131189,
           0.9225089916176897,
           0.8755426476607773,
           0.816728195951191,
           0.7482780534232532,
           0.7627398718040955,
           0.7538399581443979,
           0.7410450475154121
          ],
          [
           0.038356123243829705,
           0.7240721663089018,
           0.9907016424794509,
           1,
           0.9856773810829307,
           0.9505174707442293,
           0.9105944451032849,
           0.8562277595501239,
           0.7851257373950465,
           0.8016853453166612,
           0.794106461620896,
           0.781298696935168
          ],
          [
           0.08264214463514463,
           0.7308963839610727,
           0.9669187234131189,
           0.9856773810829307,
           1,
           0.9825729854346573,
           0.9535165984374607,
           0.9124194826920542,
           0.8451145804040293,
           0.8602073455066276,
           0.8507078151840667,
           0.8374471363302972
          ],
          [
           0.12843923688164793,
           0.7235413774487626,
           0.9225089916176897,
           0.9505174707442293,
           0.9825729854346573,
           1,
           0.9860429894223657,
           0.9558712067575493,
           0.8944226191708369,
           0.9123022559862186,
           0.906149088523802,
           0.8949276151643346
          ],
          [
           0.17111726028842184,
           0.7077447985527645,
           0.8755426476607773,
           0.9105944451032849,
           0.9535165984374607,
           0.9860429894223657,
           1,
           0.9839654825606963,
           0.9321148373982087,
           0.9486238625882293,
           0.9404884096964333,
           0.9285628870162997
          ],
          [
           0.20510165311417994,
           0.6800418683722572,
           0.816728195951191,
           0.8562277595501239,
           0.9124194826920542,
           0.9558712067575493,
           0.9839654825606963,
           1,
           0.9550438304638029,
           0.9733632605738215,
           0.964255101909301,
           0.9517092223672831
          ],
          [
           0.2007613887390651,
           0.658966649639498,
           0.7482780534232532,
           0.7851257373950465,
           0.8451145804040293,
           0.8944226191708369,
           0.9321148373982087,
           0.9550438304638029,
           1,
           0.9739447002182733,
           0.9449179254864382,
           0.9251857323341877
          ],
          [
           0.18887699864652233,
           0.6600870296851923,
           0.7627398718040955,
           0.8016853453166612,
           0.8602073455066276,
           0.9123022559862186,
           0.9486238625882293,
           0.9733632605738215,
           0.9739447002182733,
           1,
           0.9864359831982451,
           0.9720515415283469
          ],
          [
           0.20614107663415082,
           0.6566341521426748,
           0.7538399581443979,
           0.794106461620896,
           0.8507078151840667,
           0.906149088523802,
           0.9404884096964333,
           0.964255101909301,
           0.9449179254864382,
           0.9864359831982451,
           1,
           0.9932961215366156
          ],
          [
           0.18786885510108994,
           0.6553980368056868,
           0.7410450475154121,
           0.781298696935168,
           0.8374471363302972,
           0.8949276151643346,
           0.9285628870162997,
           0.9517092223672831,
           0.9251857323341877,
           0.9720515415283469,
           0.9932961215366156,
           1
          ]
         ]
        }
       ],
       "layout": {
        "coloraxis": {
         "colorscale": [
          [
           0,
           "rgb(5,48,97)"
          ],
          [
           0.1,
           "rgb(33,102,172)"
          ],
          [
           0.2,
           "rgb(67,147,195)"
          ],
          [
           0.3,
           "rgb(146,197,222)"
          ],
          [
           0.4,
           "rgb(209,229,240)"
          ],
          [
           0.5,
           "rgb(247,247,247)"
          ],
          [
           0.6,
           "rgb(253,219,199)"
          ],
          [
           0.7,
           "rgb(244,165,130)"
          ],
          [
           0.8,
           "rgb(214,96,77)"
          ],
          [
           0.9,
           "rgb(178,24,43)"
          ],
          [
           1,
           "rgb(103,0,31)"
          ]
         ]
        },
        "height": 600,
        "template": {
         "data": {
          "bar": [
           {
            "error_x": {
             "color": "#f2f5fa"
            },
            "error_y": {
             "color": "#f2f5fa"
            },
            "marker": {
             "line": {
              "color": "rgb(17,17,17)",
              "width": 0.5
             },
             "pattern": {
              "fillmode": "overlay",
              "size": 10,
              "solidity": 0.2
             }
            },
            "type": "bar"
           }
          ],
          "barpolar": [
           {
            "marker": {
             "line": {
              "color": "rgb(17,17,17)",
              "width": 0.5
             },
             "pattern": {
              "fillmode": "overlay",
              "size": 10,
              "solidity": 0.2
             }
            },
            "type": "barpolar"
           }
          ],
          "carpet": [
           {
            "aaxis": {
             "endlinecolor": "#A2B1C6",
             "gridcolor": "#506784",
             "linecolor": "#506784",
             "minorgridcolor": "#506784",
             "startlinecolor": "#A2B1C6"
            },
            "baxis": {
             "endlinecolor": "#A2B1C6",
             "gridcolor": "#506784",
             "linecolor": "#506784",
             "minorgridcolor": "#506784",
             "startlinecolor": "#A2B1C6"
            },
            "type": "carpet"
           }
          ],
          "choropleth": [
           {
            "colorbar": {
             "outlinewidth": 0,
             "ticks": ""
            },
            "type": "choropleth"
           }
          ],
          "contour": [
           {
            "colorbar": {
             "outlinewidth": 0,
             "ticks": ""
            },
            "colorscale": [
             [
              0,
              "#0d0887"
             ],
             [
              0.1111111111111111,
              "#46039f"
             ],
             [
              0.2222222222222222,
              "#7201a8"
             ],
             [
              0.3333333333333333,
              "#9c179e"
             ],
             [
              0.4444444444444444,
              "#bd3786"
             ],
             [
              0.5555555555555556,
              "#d8576b"
             ],
             [
              0.6666666666666666,
              "#ed7953"
             ],
             [
              0.7777777777777778,
              "#fb9f3a"
             ],
             [
              0.8888888888888888,
              "#fdca26"
             ],
             [
              1,
              "#f0f921"
             ]
            ],
            "type": "contour"
           }
          ],
          "contourcarpet": [
           {
            "colorbar": {
             "outlinewidth": 0,
             "ticks": ""
            },
            "type": "contourcarpet"
           }
          ],
          "heatmap": [
           {
            "colorbar": {
             "outlinewidth": 0,
             "ticks": ""
            },
            "colorscale": [
             [
              0,
              "#0d0887"
             ],
             [
              0.1111111111111111,
              "#46039f"
             ],
             [
              0.2222222222222222,
              "#7201a8"
             ],
             [
              0.3333333333333333,
              "#9c179e"
             ],
             [
              0.4444444444444444,
              "#bd3786"
             ],
             [
              0.5555555555555556,
              "#d8576b"
             ],
             [
              0.6666666666666666,
              "#ed7953"
             ],
             [
              0.7777777777777778,
              "#fb9f3a"
             ],
             [
              0.8888888888888888,
              "#fdca26"
             ],
             [
              1,
              "#f0f921"
             ]
            ],
            "type": "heatmap"
           }
          ],
          "heatmapgl": [
           {
            "colorbar": {
             "outlinewidth": 0,
             "ticks": ""
            },
            "colorscale": [
             [
              0,
              "#0d0887"
             ],
             [
              0.1111111111111111,
              "#46039f"
             ],
             [
              0.2222222222222222,
              "#7201a8"
             ],
             [
              0.3333333333333333,
              "#9c179e"
             ],
             [
              0.4444444444444444,
              "#bd3786"
             ],
             [
              0.5555555555555556,
              "#d8576b"
             ],
             [
              0.6666666666666666,
              "#ed7953"
             ],
             [
              0.7777777777777778,
              "#fb9f3a"
             ],
             [
              0.8888888888888888,
              "#fdca26"
             ],
             [
              1,
              "#f0f921"
             ]
            ],
            "type": "heatmapgl"
           }
          ],
          "histogram": [
           {
            "marker": {
             "pattern": {
              "fillmode": "overlay",
              "size": 10,
              "solidity": 0.2
             }
            },
            "type": "histogram"
           }
          ],
          "histogram2d": [
           {
            "colorbar": {
             "outlinewidth": 0,
             "ticks": ""
            },
            "colorscale": [
             [
              0,
              "#0d0887"
             ],
             [
              0.1111111111111111,
              "#46039f"
             ],
             [
              0.2222222222222222,
              "#7201a8"
             ],
             [
              0.3333333333333333,
              "#9c179e"
             ],
             [
              0.4444444444444444,
              "#bd3786"
             ],
             [
              0.5555555555555556,
              "#d8576b"
             ],
             [
              0.6666666666666666,
              "#ed7953"
             ],
             [
              0.7777777777777778,
              "#fb9f3a"
             ],
             [
              0.8888888888888888,
              "#fdca26"
             ],
             [
              1,
              "#f0f921"
             ]
            ],
            "type": "histogram2d"
           }
          ],
          "histogram2dcontour": [
           {
            "colorbar": {
             "outlinewidth": 0,
             "ticks": ""
            },
            "colorscale": [
             [
              0,
              "#0d0887"
             ],
             [
              0.1111111111111111,
              "#46039f"
             ],
             [
              0.2222222222222222,
              "#7201a8"
             ],
             [
              0.3333333333333333,
              "#9c179e"
             ],
             [
              0.4444444444444444,
              "#bd3786"
             ],
             [
              0.5555555555555556,
              "#d8576b"
             ],
             [
              0.6666666666666666,
              "#ed7953"
             ],
             [
              0.7777777777777778,
              "#fb9f3a"
             ],
             [
              0.8888888888888888,
              "#fdca26"
             ],
             [
              1,
              "#f0f921"
             ]
            ],
            "type": "histogram2dcontour"
           }
          ],
          "mesh3d": [
           {
            "colorbar": {
             "outlinewidth": 0,
             "ticks": ""
            },
            "type": "mesh3d"
           }
          ],
          "parcoords": [
           {
            "line": {
             "colorbar": {
              "outlinewidth": 0,
              "ticks": ""
             }
            },
            "type": "parcoords"
           }
          ],
          "pie": [
           {
            "automargin": true,
            "type": "pie"
           }
          ],
          "scatter": [
           {
            "marker": {
             "line": {
              "color": "#283442"
             }
            },
            "type": "scatter"
           }
          ],
          "scatter3d": [
           {
            "line": {
             "colorbar": {
              "outlinewidth": 0,
              "ticks": ""
             }
            },
            "marker": {
             "colorbar": {
              "outlinewidth": 0,
              "ticks": ""
             }
            },
            "type": "scatter3d"
           }
          ],
          "scattercarpet": [
           {
            "marker": {
             "colorbar": {
              "outlinewidth": 0,
              "ticks": ""
             }
            },
            "type": "scattercarpet"
           }
          ],
          "scattergeo": [
           {
            "marker": {
             "colorbar": {
              "outlinewidth": 0,
              "ticks": ""
             }
            },
            "type": "scattergeo"
           }
          ],
          "scattergl": [
           {
            "marker": {
             "line": {
              "color": "#283442"
             }
            },
            "type": "scattergl"
           }
          ],
          "scattermapbox": [
           {
            "marker": {
             "colorbar": {
              "outlinewidth": 0,
              "ticks": ""
             }
            },
            "type": "scattermapbox"
           }
          ],
          "scatterpolar": [
           {
            "marker": {
             "colorbar": {
              "outlinewidth": 0,
              "ticks": ""
             }
            },
            "type": "scatterpolar"
           }
          ],
          "scatterpolargl": [
           {
            "marker": {
             "colorbar": {
              "outlinewidth": 0,
              "ticks": ""
             }
            },
            "type": "scatterpolargl"
           }
          ],
          "scatterternary": [
           {
            "marker": {
             "colorbar": {
              "outlinewidth": 0,
              "ticks": ""
             }
            },
            "type": "scatterternary"
           }
          ],
          "surface": [
           {
            "colorbar": {
             "outlinewidth": 0,
             "ticks": ""
            },
            "colorscale": [
             [
              0,
              "#0d0887"
             ],
             [
              0.1111111111111111,
              "#46039f"
             ],
             [
              0.2222222222222222,
              "#7201a8"
             ],
             [
              0.3333333333333333,
              "#9c179e"
             ],
             [
              0.4444444444444444,
              "#bd3786"
             ],
             [
              0.5555555555555556,
              "#d8576b"
             ],
             [
              0.6666666666666666,
              "#ed7953"
             ],
             [
              0.7777777777777778,
              "#fb9f3a"
             ],
             [
              0.8888888888888888,
              "#fdca26"
             ],
             [
              1,
              "#f0f921"
             ]
            ],
            "type": "surface"
           }
          ],
          "table": [
           {
            "cells": {
             "fill": {
              "color": "#506784"
             },
             "line": {
              "color": "rgb(17,17,17)"
             }
            },
            "header": {
             "fill": {
              "color": "#2a3f5f"
             },
             "line": {
              "color": "rgb(17,17,17)"
             }
            },
            "type": "table"
           }
          ]
         },
         "layout": {
          "annotationdefaults": {
           "arrowcolor": "#f2f5fa",
           "arrowhead": 0,
           "arrowwidth": 1
          },
          "autotypenumbers": "strict",
          "coloraxis": {
           "colorbar": {
            "outlinewidth": 0,
            "ticks": ""
           }
          },
          "colorscale": {
           "diverging": [
            [
             0,
             "#8e0152"
            ],
            [
             0.1,
             "#c51b7d"
            ],
            [
             0.2,
             "#de77ae"
            ],
            [
             0.3,
             "#f1b6da"
            ],
            [
             0.4,
             "#fde0ef"
            ],
            [
             0.5,
             "#f7f7f7"
            ],
            [
             0.6,
             "#e6f5d0"
            ],
            [
             0.7,
             "#b8e186"
            ],
            [
             0.8,
             "#7fbc41"
            ],
            [
             0.9,
             "#4d9221"
            ],
            [
             1,
             "#276419"
            ]
           ],
           "sequential": [
            [
             0,
             "#0d0887"
            ],
            [
             0.1111111111111111,
             "#46039f"
            ],
            [
             0.2222222222222222,
             "#7201a8"
            ],
            [
             0.3333333333333333,
             "#9c179e"
            ],
            [
             0.4444444444444444,
             "#bd3786"
            ],
            [
             0.5555555555555556,
             "#d8576b"
            ],
            [
             0.6666666666666666,
             "#ed7953"
            ],
            [
             0.7777777777777778,
             "#fb9f3a"
            ],
            [
             0.8888888888888888,
             "#fdca26"
            ],
            [
             1,
             "#f0f921"
            ]
           ],
           "sequentialminus": [
            [
             0,
             "#0d0887"
            ],
            [
             0.1111111111111111,
             "#46039f"
            ],
            [
             0.2222222222222222,
             "#7201a8"
            ],
            [
             0.3333333333333333,
             "#9c179e"
            ],
            [
             0.4444444444444444,
             "#bd3786"
            ],
            [
             0.5555555555555556,
             "#d8576b"
            ],
            [
             0.6666666666666666,
             "#ed7953"
            ],
            [
             0.7777777777777778,
             "#fb9f3a"
            ],
            [
             0.8888888888888888,
             "#fdca26"
            ],
            [
             1,
             "#f0f921"
            ]
           ]
          },
          "colorway": [
           "#636efa",
           "#EF553B",
           "#00cc96",
           "#ab63fa",
           "#FFA15A",
           "#19d3f3",
           "#FF6692",
           "#B6E880",
           "#FF97FF",
           "#FECB52"
          ],
          "font": {
           "color": "#f2f5fa"
          },
          "geo": {
           "bgcolor": "rgb(17,17,17)",
           "lakecolor": "rgb(17,17,17)",
           "landcolor": "rgb(17,17,17)",
           "showlakes": true,
           "showland": true,
           "subunitcolor": "#506784"
          },
          "hoverlabel": {
           "align": "left"
          },
          "hovermode": "closest",
          "mapbox": {
           "style": "dark"
          },
          "paper_bgcolor": "rgb(17,17,17)",
          "plot_bgcolor": "rgb(17,17,17)",
          "polar": {
           "angularaxis": {
            "gridcolor": "#506784",
            "linecolor": "#506784",
            "ticks": ""
           },
           "bgcolor": "rgb(17,17,17)",
           "radialaxis": {
            "gridcolor": "#506784",
            "linecolor": "#506784",
            "ticks": ""
           }
          },
          "scene": {
           "xaxis": {
            "backgroundcolor": "rgb(17,17,17)",
            "gridcolor": "#506784",
            "gridwidth": 2,
            "linecolor": "#506784",
            "showbackground": true,
            "ticks": "",
            "zerolinecolor": "#C8D4E3"
           },
           "yaxis": {
            "backgroundcolor": "rgb(17,17,17)",
            "gridcolor": "#506784",
            "gridwidth": 2,
            "linecolor": "#506784",
            "showbackground": true,
            "ticks": "",
            "zerolinecolor": "#C8D4E3"
           },
           "zaxis": {
            "backgroundcolor": "rgb(17,17,17)",
            "gridcolor": "#506784",
            "gridwidth": 2,
            "linecolor": "#506784",
            "showbackground": true,
            "ticks": "",
            "zerolinecolor": "#C8D4E3"
           }
          },
          "shapedefaults": {
           "line": {
            "color": "#f2f5fa"
           }
          },
          "sliderdefaults": {
           "bgcolor": "#C8D4E3",
           "bordercolor": "rgb(17,17,17)",
           "borderwidth": 1,
           "tickwidth": 0
          },
          "ternary": {
           "aaxis": {
            "gridcolor": "#506784",
            "linecolor": "#506784",
            "ticks": ""
           },
           "baxis": {
            "gridcolor": "#506784",
            "linecolor": "#506784",
            "ticks": ""
           },
           "bgcolor": "rgb(17,17,17)",
           "caxis": {
            "gridcolor": "#506784",
            "linecolor": "#506784",
            "ticks": ""
           }
          },
          "title": {
           "x": 0.05
          },
          "updatemenudefaults": {
           "bgcolor": "#506784",
           "borderwidth": 0
          },
          "xaxis": {
           "automargin": true,
           "gridcolor": "#283442",
           "linecolor": "#506784",
           "ticks": "",
           "title": {
            "standoff": 15
           },
           "zerolinecolor": "#283442",
           "zerolinewidth": 2
          },
          "yaxis": {
           "automargin": true,
           "gridcolor": "#283442",
           "linecolor": "#506784",
           "ticks": "",
           "title": {
            "standoff": 15
           },
           "zerolinecolor": "#283442",
           "zerolinewidth": 2
          }
         }
        },
        "title": {
         "text": "Correlation Heatmap: Target vs Unemployment Variables"
        },
        "width": 1000,
        "xaxis": {
         "anchor": "y",
         "constrain": "domain",
         "domain": [
          0,
          1
         ],
         "scaleanchor": "y"
        },
        "yaxis": {
         "anchor": "x",
         "autorange": "reversed",
         "constrain": "domain",
         "domain": [
          0,
          1
         ]
        }
       }
      }
     },
     "metadata": {},
     "output_type": "display_data"
    }
   ],
   "source": [
    "# Variables to compare\n",
    "variables_to_compare = [\n",
    "    'unemployment_2000', 'unemployment_2014', 'unemployment_2015', 'unemployment_2016',\n",
    "    'unemployment_2017', 'unemployment_2018', 'unemployment_2019', 'unemployment_2020',\n",
    "    'unemployment_2021', 'unemployment_2022', 'unemployment_2023'\n",
    "]\n",
    "\n",
    "# Compute the correlation matrix for 'target' and the selected variables\n",
    "columns_to_use = ['target'] + variables_to_compare\n",
    "df_corr_matrix = df[columns_to_use].corr()\n",
    "\n",
    "# Take the absolute values of the correlation matrix\n",
    "df_corr_matrix_abs = df_corr_matrix.abs()\n",
    "\n",
    "# Using Plotly Express to generate the heatmap with adjusted grid size\n",
    "fig = px.imshow(df_corr_matrix_abs, \n",
    "                color_continuous_scale='RdBu_r', \n",
    "                title=\"Correlation Heatmap: Target vs Unemployment Variables\", \n",
    "                template='plotly_dark', \n",
    "                width=1000,  # Set the width of the grid\n",
    "                height=600)  # Set the height of the grid\n",
    "\n",
    "# Show the plot\n",
    "fig.show()\n"
   ]
  },
  {
   "cell_type": "code",
   "execution_count": 314,
   "metadata": {},
   "outputs": [
    {
     "data": {
      "application/vnd.plotly.v1+json": {
       "config": {
        "plotlyServerURL": "https://plot.ly"
       },
       "data": [
        {
         "coloraxis": "coloraxis",
         "hovertemplate": "x: %{x}<br>y: %{y}<br>color: %{z}<extra></extra>",
         "name": "0",
         "type": "heatmap",
         "x": [
          "target",
          "current_account_balance_1990",
          "current_account_balance_2000",
          "current_account_balance_2014",
          "current_account_balance_2015",
          "current_account_balance_2016",
          "current_account_balance_2017",
          "current_account_balance_2018",
          "current_account_balance_2019",
          "current_account_balance_2020",
          "current_account_balance_2021",
          "current_account_balance_2022",
          "current_account_balance_2023"
         ],
         "xaxis": "x",
         "y": [
          "target",
          "current_account_balance_1990",
          "current_account_balance_2000",
          "current_account_balance_2014",
          "current_account_balance_2015",
          "current_account_balance_2016",
          "current_account_balance_2017",
          "current_account_balance_2018",
          "current_account_balance_2019",
          "current_account_balance_2020",
          "current_account_balance_2021",
          "current_account_balance_2022",
          "current_account_balance_2023"
         ],
         "yaxis": "y",
         "z": [
          [
           1,
           0.16655905940480747,
           0.16657791265033348,
           0.16802662164473814,
           0.1680266242182003,
           0.1680373062777461,
           0.16768622872406808,
           0.1676862292729666,
           0.16894843903095502,
           0.1689466928425791,
           0.1689452950441703,
           0.16894394968768225,
           0.16894280875068304
          ],
          [
           0.16655905940480747,
           1,
           0.9999999921979452,
           0.9999227879931594,
           0.9999227879872263,
           0.9999226892138331,
           0.9998474105854164,
           0.9998474105787387,
           0.9997732969608193,
           0.9997733050668217,
           0.9997733113658342,
           0.9997733172865991,
           0.9997733226687676
          ],
          [
           0.16657791265033348,
           0.9999999921979452,
           1,
           0.9999236672538484,
           0.9999236672479489,
           0.9999235789643564,
           0.9998490274771382,
           0.9998490274704884,
           0.9997756327306225,
           0.999775639850375,
           0.9997756453603984,
           0.9997756505208735,
           0.9997756552534165
          ],
          [
           0.16802662164473814,
           0.9999227879931594,
           0.9999236672538484,
           1,
           0.9999999999999999,
           0.9999999952610227,
           0.9999312294106049,
           0.9999312294085404,
           0.9998635545792403,
           0.9998635538453381,
           0.999863553074258,
           0.999863552186653,
           0.9998635517569144
          ],
          [
           0.1680266242182003,
           0.9999227879872263,
           0.9999236672479489,
           0.9999999999999999,
           1,
           0.999999995261026,
           0.999931229410825,
           0.9999312294087609,
           0.9998635545796754,
           0.9998635538457729,
           0.9998635530746925,
           0.9998635521870873,
           0.9998635517573486
          ],
          [
           0.1680373062777461,
           0.9999226892138331,
           0.9999235789643564,
           0.9999999952610227,
           0.999999995261026,
           1,
           0.9999318912092531,
           0.9999318912071932,
           0.9998648659705711,
           0.9998648643455474,
           0.9998648628615722,
           0.9998648612869813,
           0.9998648602702245
          ],
          [
           0.16768622872406808,
           0.9998474105854164,
           0.9998490274771382,
           0.9999312294106049,
           0.999931229410825,
           0.9999318912092531,
           1,
           1,
           0.9999325434532764,
           0.999932542412795,
           0.9999325413960902,
           0.9999325402658874,
           0.9999325391712992
          ],
          [
           0.1676862292729666,
           0.9998474105787387,
           0.9998490274704884,
           0.9999312294085404,
           0.9999312294087609,
           0.9999318912071932,
           1,
           1,
           0.9999325434527088,
           0.999932542412228,
           0.9999325413955238,
           0.9999325402653216,
           0.9999325391707341
          ],
          [
           0.16894843903095502,
           0.9997732969608193,
           0.9997756327306225,
           0.9998635545792403,
           0.9998635545796754,
           0.9998648659705711,
           0.9999325434532764,
           0.9999325434527088,
           1,
           0.9999999998723107,
           0.9999999995862868,
           0.9999999991560543,
           0.9999999986701792
          ],
          [
           0.1689466928425791,
           0.9997733050668217,
           0.999775639850375,
           0.9998635538453381,
           0.9998635538457729,
           0.9998648643455474,
           0.999932542412795,
           0.999932542412228,
           0.9999999998723107,
           1,
           0.9999999999182793,
           0.9999999996849102,
           0.9999999993666354
          ],
          [
           0.1689452950441703,
           0.9997733113658342,
           0.9997756453603984,
           0.999863553074258,
           0.9998635530746925,
           0.9998648628615722,
           0.9999325413960902,
           0.9999325413955238,
           0.9999999995862868,
           0.9999999999182793,
           1,
           0.999999999924122,
           0.9999999997399269
          ],
          [
           0.16894394968768225,
           0.9997733172865991,
           0.9997756505208735,
           0.999863552186653,
           0.9998635521870873,
           0.9998648612869813,
           0.9999325402658874,
           0.9999325402653216,
           0.9999999991560543,
           0.9999999996849102,
           0.999999999924122,
           1,
           0.9999999999450027
          ],
          [
           0.16894280875068304,
           0.9997733226687676,
           0.9997756552534165,
           0.9998635517569144,
           0.9998635517573486,
           0.9998648602702245,
           0.9999325391712992,
           0.9999325391707341,
           0.9999999986701792,
           0.9999999993666354,
           0.9999999997399269,
           0.9999999999450027,
           1
          ]
         ]
        }
       ],
       "layout": {
        "coloraxis": {
         "colorscale": [
          [
           0,
           "rgb(5,48,97)"
          ],
          [
           0.1,
           "rgb(33,102,172)"
          ],
          [
           0.2,
           "rgb(67,147,195)"
          ],
          [
           0.3,
           "rgb(146,197,222)"
          ],
          [
           0.4,
           "rgb(209,229,240)"
          ],
          [
           0.5,
           "rgb(247,247,247)"
          ],
          [
           0.6,
           "rgb(253,219,199)"
          ],
          [
           0.7,
           "rgb(244,165,130)"
          ],
          [
           0.8,
           "rgb(214,96,77)"
          ],
          [
           0.9,
           "rgb(178,24,43)"
          ],
          [
           1,
           "rgb(103,0,31)"
          ]
         ]
        },
        "height": 600,
        "template": {
         "data": {
          "bar": [
           {
            "error_x": {
             "color": "#f2f5fa"
            },
            "error_y": {
             "color": "#f2f5fa"
            },
            "marker": {
             "line": {
              "color": "rgb(17,17,17)",
              "width": 0.5
             },
             "pattern": {
              "fillmode": "overlay",
              "size": 10,
              "solidity": 0.2
             }
            },
            "type": "bar"
           }
          ],
          "barpolar": [
           {
            "marker": {
             "line": {
              "color": "rgb(17,17,17)",
              "width": 0.5
             },
             "pattern": {
              "fillmode": "overlay",
              "size": 10,
              "solidity": 0.2
             }
            },
            "type": "barpolar"
           }
          ],
          "carpet": [
           {
            "aaxis": {
             "endlinecolor": "#A2B1C6",
             "gridcolor": "#506784",
             "linecolor": "#506784",
             "minorgridcolor": "#506784",
             "startlinecolor": "#A2B1C6"
            },
            "baxis": {
             "endlinecolor": "#A2B1C6",
             "gridcolor": "#506784",
             "linecolor": "#506784",
             "minorgridcolor": "#506784",
             "startlinecolor": "#A2B1C6"
            },
            "type": "carpet"
           }
          ],
          "choropleth": [
           {
            "colorbar": {
             "outlinewidth": 0,
             "ticks": ""
            },
            "type": "choropleth"
           }
          ],
          "contour": [
           {
            "colorbar": {
             "outlinewidth": 0,
             "ticks": ""
            },
            "colorscale": [
             [
              0,
              "#0d0887"
             ],
             [
              0.1111111111111111,
              "#46039f"
             ],
             [
              0.2222222222222222,
              "#7201a8"
             ],
             [
              0.3333333333333333,
              "#9c179e"
             ],
             [
              0.4444444444444444,
              "#bd3786"
             ],
             [
              0.5555555555555556,
              "#d8576b"
             ],
             [
              0.6666666666666666,
              "#ed7953"
             ],
             [
              0.7777777777777778,
              "#fb9f3a"
             ],
             [
              0.8888888888888888,
              "#fdca26"
             ],
             [
              1,
              "#f0f921"
             ]
            ],
            "type": "contour"
           }
          ],
          "contourcarpet": [
           {
            "colorbar": {
             "outlinewidth": 0,
             "ticks": ""
            },
            "type": "contourcarpet"
           }
          ],
          "heatmap": [
           {
            "colorbar": {
             "outlinewidth": 0,
             "ticks": ""
            },
            "colorscale": [
             [
              0,
              "#0d0887"
             ],
             [
              0.1111111111111111,
              "#46039f"
             ],
             [
              0.2222222222222222,
              "#7201a8"
             ],
             [
              0.3333333333333333,
              "#9c179e"
             ],
             [
              0.4444444444444444,
              "#bd3786"
             ],
             [
              0.5555555555555556,
              "#d8576b"
             ],
             [
              0.6666666666666666,
              "#ed7953"
             ],
             [
              0.7777777777777778,
              "#fb9f3a"
             ],
             [
              0.8888888888888888,
              "#fdca26"
             ],
             [
              1,
              "#f0f921"
             ]
            ],
            "type": "heatmap"
           }
          ],
          "heatmapgl": [
           {
            "colorbar": {
             "outlinewidth": 0,
             "ticks": ""
            },
            "colorscale": [
             [
              0,
              "#0d0887"
             ],
             [
              0.1111111111111111,
              "#46039f"
             ],
             [
              0.2222222222222222,
              "#7201a8"
             ],
             [
              0.3333333333333333,
              "#9c179e"
             ],
             [
              0.4444444444444444,
              "#bd3786"
             ],
             [
              0.5555555555555556,
              "#d8576b"
             ],
             [
              0.6666666666666666,
              "#ed7953"
             ],
             [
              0.7777777777777778,
              "#fb9f3a"
             ],
             [
              0.8888888888888888,
              "#fdca26"
             ],
             [
              1,
              "#f0f921"
             ]
            ],
            "type": "heatmapgl"
           }
          ],
          "histogram": [
           {
            "marker": {
             "pattern": {
              "fillmode": "overlay",
              "size": 10,
              "solidity": 0.2
             }
            },
            "type": "histogram"
           }
          ],
          "histogram2d": [
           {
            "colorbar": {
             "outlinewidth": 0,
             "ticks": ""
            },
            "colorscale": [
             [
              0,
              "#0d0887"
             ],
             [
              0.1111111111111111,
              "#46039f"
             ],
             [
              0.2222222222222222,
              "#7201a8"
             ],
             [
              0.3333333333333333,
              "#9c179e"
             ],
             [
              0.4444444444444444,
              "#bd3786"
             ],
             [
              0.5555555555555556,
              "#d8576b"
             ],
             [
              0.6666666666666666,
              "#ed7953"
             ],
             [
              0.7777777777777778,
              "#fb9f3a"
             ],
             [
              0.8888888888888888,
              "#fdca26"
             ],
             [
              1,
              "#f0f921"
             ]
            ],
            "type": "histogram2d"
           }
          ],
          "histogram2dcontour": [
           {
            "colorbar": {
             "outlinewidth": 0,
             "ticks": ""
            },
            "colorscale": [
             [
              0,
              "#0d0887"
             ],
             [
              0.1111111111111111,
              "#46039f"
             ],
             [
              0.2222222222222222,
              "#7201a8"
             ],
             [
              0.3333333333333333,
              "#9c179e"
             ],
             [
              0.4444444444444444,
              "#bd3786"
             ],
             [
              0.5555555555555556,
              "#d8576b"
             ],
             [
              0.6666666666666666,
              "#ed7953"
             ],
             [
              0.7777777777777778,
              "#fb9f3a"
             ],
             [
              0.8888888888888888,
              "#fdca26"
             ],
             [
              1,
              "#f0f921"
             ]
            ],
            "type": "histogram2dcontour"
           }
          ],
          "mesh3d": [
           {
            "colorbar": {
             "outlinewidth": 0,
             "ticks": ""
            },
            "type": "mesh3d"
           }
          ],
          "parcoords": [
           {
            "line": {
             "colorbar": {
              "outlinewidth": 0,
              "ticks": ""
             }
            },
            "type": "parcoords"
           }
          ],
          "pie": [
           {
            "automargin": true,
            "type": "pie"
           }
          ],
          "scatter": [
           {
            "marker": {
             "line": {
              "color": "#283442"
             }
            },
            "type": "scatter"
           }
          ],
          "scatter3d": [
           {
            "line": {
             "colorbar": {
              "outlinewidth": 0,
              "ticks": ""
             }
            },
            "marker": {
             "colorbar": {
              "outlinewidth": 0,
              "ticks": ""
             }
            },
            "type": "scatter3d"
           }
          ],
          "scattercarpet": [
           {
            "marker": {
             "colorbar": {
              "outlinewidth": 0,
              "ticks": ""
             }
            },
            "type": "scattercarpet"
           }
          ],
          "scattergeo": [
           {
            "marker": {
             "colorbar": {
              "outlinewidth": 0,
              "ticks": ""
             }
            },
            "type": "scattergeo"
           }
          ],
          "scattergl": [
           {
            "marker": {
             "line": {
              "color": "#283442"
             }
            },
            "type": "scattergl"
           }
          ],
          "scattermapbox": [
           {
            "marker": {
             "colorbar": {
              "outlinewidth": 0,
              "ticks": ""
             }
            },
            "type": "scattermapbox"
           }
          ],
          "scatterpolar": [
           {
            "marker": {
             "colorbar": {
              "outlinewidth": 0,
              "ticks": ""
             }
            },
            "type": "scatterpolar"
           }
          ],
          "scatterpolargl": [
           {
            "marker": {
             "colorbar": {
              "outlinewidth": 0,
              "ticks": ""
             }
            },
            "type": "scatterpolargl"
           }
          ],
          "scatterternary": [
           {
            "marker": {
             "colorbar": {
              "outlinewidth": 0,
              "ticks": ""
             }
            },
            "type": "scatterternary"
           }
          ],
          "surface": [
           {
            "colorbar": {
             "outlinewidth": 0,
             "ticks": ""
            },
            "colorscale": [
             [
              0,
              "#0d0887"
             ],
             [
              0.1111111111111111,
              "#46039f"
             ],
             [
              0.2222222222222222,
              "#7201a8"
             ],
             [
              0.3333333333333333,
              "#9c179e"
             ],
             [
              0.4444444444444444,
              "#bd3786"
             ],
             [
              0.5555555555555556,
              "#d8576b"
             ],
             [
              0.6666666666666666,
              "#ed7953"
             ],
             [
              0.7777777777777778,
              "#fb9f3a"
             ],
             [
              0.8888888888888888,
              "#fdca26"
             ],
             [
              1,
              "#f0f921"
             ]
            ],
            "type": "surface"
           }
          ],
          "table": [
           {
            "cells": {
             "fill": {
              "color": "#506784"
             },
             "line": {
              "color": "rgb(17,17,17)"
             }
            },
            "header": {
             "fill": {
              "color": "#2a3f5f"
             },
             "line": {
              "color": "rgb(17,17,17)"
             }
            },
            "type": "table"
           }
          ]
         },
         "layout": {
          "annotationdefaults": {
           "arrowcolor": "#f2f5fa",
           "arrowhead": 0,
           "arrowwidth": 1
          },
          "autotypenumbers": "strict",
          "coloraxis": {
           "colorbar": {
            "outlinewidth": 0,
            "ticks": ""
           }
          },
          "colorscale": {
           "diverging": [
            [
             0,
             "#8e0152"
            ],
            [
             0.1,
             "#c51b7d"
            ],
            [
             0.2,
             "#de77ae"
            ],
            [
             0.3,
             "#f1b6da"
            ],
            [
             0.4,
             "#fde0ef"
            ],
            [
             0.5,
             "#f7f7f7"
            ],
            [
             0.6,
             "#e6f5d0"
            ],
            [
             0.7,
             "#b8e186"
            ],
            [
             0.8,
             "#7fbc41"
            ],
            [
             0.9,
             "#4d9221"
            ],
            [
             1,
             "#276419"
            ]
           ],
           "sequential": [
            [
             0,
             "#0d0887"
            ],
            [
             0.1111111111111111,
             "#46039f"
            ],
            [
             0.2222222222222222,
             "#7201a8"
            ],
            [
             0.3333333333333333,
             "#9c179e"
            ],
            [
             0.4444444444444444,
             "#bd3786"
            ],
            [
             0.5555555555555556,
             "#d8576b"
            ],
            [
             0.6666666666666666,
             "#ed7953"
            ],
            [
             0.7777777777777778,
             "#fb9f3a"
            ],
            [
             0.8888888888888888,
             "#fdca26"
            ],
            [
             1,
             "#f0f921"
            ]
           ],
           "sequentialminus": [
            [
             0,
             "#0d0887"
            ],
            [
             0.1111111111111111,
             "#46039f"
            ],
            [
             0.2222222222222222,
             "#7201a8"
            ],
            [
             0.3333333333333333,
             "#9c179e"
            ],
            [
             0.4444444444444444,
             "#bd3786"
            ],
            [
             0.5555555555555556,
             "#d8576b"
            ],
            [
             0.6666666666666666,
             "#ed7953"
            ],
            [
             0.7777777777777778,
             "#fb9f3a"
            ],
            [
             0.8888888888888888,
             "#fdca26"
            ],
            [
             1,
             "#f0f921"
            ]
           ]
          },
          "colorway": [
           "#636efa",
           "#EF553B",
           "#00cc96",
           "#ab63fa",
           "#FFA15A",
           "#19d3f3",
           "#FF6692",
           "#B6E880",
           "#FF97FF",
           "#FECB52"
          ],
          "font": {
           "color": "#f2f5fa"
          },
          "geo": {
           "bgcolor": "rgb(17,17,17)",
           "lakecolor": "rgb(17,17,17)",
           "landcolor": "rgb(17,17,17)",
           "showlakes": true,
           "showland": true,
           "subunitcolor": "#506784"
          },
          "hoverlabel": {
           "align": "left"
          },
          "hovermode": "closest",
          "mapbox": {
           "style": "dark"
          },
          "paper_bgcolor": "rgb(17,17,17)",
          "plot_bgcolor": "rgb(17,17,17)",
          "polar": {
           "angularaxis": {
            "gridcolor": "#506784",
            "linecolor": "#506784",
            "ticks": ""
           },
           "bgcolor": "rgb(17,17,17)",
           "radialaxis": {
            "gridcolor": "#506784",
            "linecolor": "#506784",
            "ticks": ""
           }
          },
          "scene": {
           "xaxis": {
            "backgroundcolor": "rgb(17,17,17)",
            "gridcolor": "#506784",
            "gridwidth": 2,
            "linecolor": "#506784",
            "showbackground": true,
            "ticks": "",
            "zerolinecolor": "#C8D4E3"
           },
           "yaxis": {
            "backgroundcolor": "rgb(17,17,17)",
            "gridcolor": "#506784",
            "gridwidth": 2,
            "linecolor": "#506784",
            "showbackground": true,
            "ticks": "",
            "zerolinecolor": "#C8D4E3"
           },
           "zaxis": {
            "backgroundcolor": "rgb(17,17,17)",
            "gridcolor": "#506784",
            "gridwidth": 2,
            "linecolor": "#506784",
            "showbackground": true,
            "ticks": "",
            "zerolinecolor": "#C8D4E3"
           }
          },
          "shapedefaults": {
           "line": {
            "color": "#f2f5fa"
           }
          },
          "sliderdefaults": {
           "bgcolor": "#C8D4E3",
           "bordercolor": "rgb(17,17,17)",
           "borderwidth": 1,
           "tickwidth": 0
          },
          "ternary": {
           "aaxis": {
            "gridcolor": "#506784",
            "linecolor": "#506784",
            "ticks": ""
           },
           "baxis": {
            "gridcolor": "#506784",
            "linecolor": "#506784",
            "ticks": ""
           },
           "bgcolor": "rgb(17,17,17)",
           "caxis": {
            "gridcolor": "#506784",
            "linecolor": "#506784",
            "ticks": ""
           }
          },
          "title": {
           "x": 0.05
          },
          "updatemenudefaults": {
           "bgcolor": "#506784",
           "borderwidth": 0
          },
          "xaxis": {
           "automargin": true,
           "gridcolor": "#283442",
           "linecolor": "#506784",
           "ticks": "",
           "title": {
            "standoff": 15
           },
           "zerolinecolor": "#283442",
           "zerolinewidth": 2
          },
          "yaxis": {
           "automargin": true,
           "gridcolor": "#283442",
           "linecolor": "#506784",
           "ticks": "",
           "title": {
            "standoff": 15
           },
           "zerolinecolor": "#283442",
           "zerolinewidth": 2
          }
         }
        },
        "title": {
         "text": "Correlation Heatmap: Target vs Current Account Balance Variables"
        },
        "width": 1000,
        "xaxis": {
         "anchor": "y",
         "constrain": "domain",
         "domain": [
          0,
          1
         ],
         "scaleanchor": "y"
        },
        "yaxis": {
         "anchor": "x",
         "autorange": "reversed",
         "constrain": "domain",
         "domain": [
          0,
          1
         ]
        }
       }
      }
     },
     "metadata": {},
     "output_type": "display_data"
    }
   ],
   "source": [
    "# Variables to compare\n",
    "variables_to_compare = ['current_account_balance_1990', 'current_account_balance_2000',\n",
    "       'current_account_balance_2014', 'current_account_balance_2015',\n",
    "       'current_account_balance_2016', 'current_account_balance_2017',\n",
    "       'current_account_balance_2018', 'current_account_balance_2019',\n",
    "       'current_account_balance_2020', 'current_account_balance_2021',\n",
    "       'current_account_balance_2022', 'current_account_balance_2023'\n",
    "]\n",
    "\n",
    "# Compute the correlation matrix for 'target' and the selected variables\n",
    "columns_to_use = ['target'] + variables_to_compare\n",
    "df_corr_matrix = df[columns_to_use].corr()\n",
    "\n",
    "# Take the absolute values of the correlation matrix\n",
    "df_corr_matrix_abs = df_corr_matrix.abs()\n",
    "\n",
    "# Using Plotly Express to generate the heatmap with adjusted grid size\n",
    "fig = px.imshow(df_corr_matrix_abs, \n",
    "                color_continuous_scale='RdBu_r', \n",
    "                title=\"Correlation Heatmap: Target vs Current Account Balance Variables\", \n",
    "                template='plotly_dark', \n",
    "                width=1000,  # Set the width of the grid\n",
    "                height=600)  # Set the height of the grid\n",
    "\n",
    "# Show the plot\n",
    "fig.show()\n"
   ]
  },
  {
   "cell_type": "code",
   "execution_count": 315,
   "metadata": {},
   "outputs": [
    {
     "data": {
      "application/vnd.plotly.v1+json": {
       "config": {
        "plotlyServerURL": "https://plot.ly"
       },
       "data": [
        {
         "coloraxis": "coloraxis",
         "hovertemplate": "x: %{x}<br>y: %{y}<br>color: %{z}<extra></extra>",
         "name": "0",
         "type": "heatmap",
         "x": [
          "target",
          "exchange_rate_usd_1990",
          "exchange_rate_usd_2000",
          "exchange_rate_usd_2014",
          "exchange_rate_usd_2015",
          "exchange_rate_usd_2016",
          "exchange_rate_usd_2017",
          "exchange_rate_usd_2018",
          "exchange_rate_usd_2019",
          "exchange_rate_usd_2020",
          "exchange_rate_usd_2021",
          "exchange_rate_usd_2022",
          "exchange_rate_usd_2023"
         ],
         "xaxis": "x",
         "y": [
          "target",
          "exchange_rate_usd_1990",
          "exchange_rate_usd_2000",
          "exchange_rate_usd_2014",
          "exchange_rate_usd_2015",
          "exchange_rate_usd_2016",
          "exchange_rate_usd_2017",
          "exchange_rate_usd_2018",
          "exchange_rate_usd_2019",
          "exchange_rate_usd_2020",
          "exchange_rate_usd_2021",
          "exchange_rate_usd_2022",
          "exchange_rate_usd_2023"
         ],
         "yaxis": "y",
         "z": [
          [
           1,
           0.16894989811635386,
           0.1676970890242263,
           0.17490119994839334,
           0.1774207206961722,
           0.17866669523532258,
           0.17940987233132327,
           0.17990631577886862,
           0.1802599726655109,
           0.18052469503241142,
           0.180730738503931,
           0.18089588430975334,
           0.1812289287830236
          ],
          [
           0.16894989811635386,
           1,
           0.06292246937117113,
           0.0251187065100314,
           0.012465529283471275,
           0.0061358094944462226,
           0.0023375633475689545,
           0.00019454400156301876,
           0.0020031692615430567,
           0.00335960941835206,
           0.004414579223109853,
           0.005258519844628023,
           0.006092708175758575
          ],
          [
           0.1676970890242263,
           0.06292246937117113,
           1,
           0.9990557291229033,
           0.9983183714183552,
           0.9978696072313824,
           0.9975747471947208,
           0.9973675255474517,
           0.9972142933285131,
           0.9970965177577364,
           0.9970032269276209,
           0.9969275320030373,
           0.9967812451941658
          ],
          [
           0.17490119994839334,
           0.0251187065100314,
           0.9990557291229033,
           1,
           0.9998932522408742,
           0.9997597731786496,
           0.9996540485055487,
           0.9995728896168559,
           0.9995096895998985,
           0.9994594304648534,
           0.9994186465543945,
           0.9993849528562258,
           0.9992739193217871
          ],
          [
           0.1774207206961722,
           0.012465529283471275,
           0.9983183714183552,
           0.9998932522408742,
           1,
           0.9999732961329436,
           0.9999316354151551,
           0.9998931809594392,
           0.9998604820650153,
           0.9998330973792571,
           0.9998101034256013,
           0.9997906406681247,
           0.9996913384908725
          ],
          [
           0.17866669523532258,
           0.0061358094944462226,
           0.9978696072313824,
           0.9997597731786496,
           0.9999732961329436,
           1,
           0.9999903853951169,
           0.999973293434045,
           0.9999558528610953,
           0.9999399114490145,
           0.9999258173140944,
           0.9999134739845691,
           0.9998200474180644
          ],
          [
           0.17940987233132327,
           0.0023375633475689545,
           0.9975747471947208,
           0.9996540485055487,
           0.9999316354151551,
           0.9999903853951169,
           1,
           0.9999957268667427,
           0.9999874423715276,
           0.9999783678106234,
           0.9999696143048502,
           0.9999615432548804,
           0.9998716446886858
          ],
          [
           0.17990631577886862,
           0.00019454400156301876,
           0.9973675255474517,
           0.9995728896168559,
           0.9998931809594392,
           0.999973293434045,
           0.9999957268667427,
           1,
           0.9999978198848586,
           0.9999933235014877,
           0.9999881307584185,
           0.999982908302487,
           0.9998953626271836
          ],
          [
           0.1802599726655109,
           0.0020031692615430567,
           0.9972142933285131,
           0.9995096895998985,
           0.9998604820650153,
           0.9999558528610953,
           0.9999874423715276,
           0.9999978198848586,
           1,
           0.9999987737275112,
           0.999996124382858,
           0.9999929366397304,
           0.9999070720387222
          ],
          [
           0.18052469503241142,
           0.00335960941835206,
           0.9970965177577364,
           0.9994594304648534,
           0.9998330973792571,
           0.9999399114490145,
           0.9999783678106234,
           0.9999933235014877,
           0.9999987737275112,
           1,
           0.9999992581793112,
           0.9999975964539676,
           0.9999129928832309
          ],
          [
           0.180730738503931,
           0.004414579223109853,
           0.9970032269276209,
           0.9994186465543945,
           0.9998101034256013,
           0.9999258173140944,
           0.9999696143048502,
           0.9999881307584185,
           0.999996124382858,
           0.9999992581793112,
           1,
           0.9999995252076584,
           0.9999159025518425
          ],
          [
           0.18089588430975334,
           0.005258519844628023,
           0.9969275320030373,
           0.9993849528562258,
           0.9997906406681247,
           0.9999134739845691,
           0.9999615432548804,
           0.999982908302487,
           0.9999929366397304,
           0.9999975964539676,
           0.9999995252076584,
           1,
           0.9999171621379954
          ],
          [
           0.1812289287830236,
           0.006092708175758575,
           0.9967812451941658,
           0.9992739193217871,
           0.9996913384908725,
           0.9998200474180644,
           0.9998716446886858,
           0.9998953626271836,
           0.9999070720387222,
           0.9999129928832309,
           0.9999159025518425,
           0.9999171621379954,
           1
          ]
         ]
        }
       ],
       "layout": {
        "coloraxis": {
         "colorscale": [
          [
           0,
           "rgb(5,48,97)"
          ],
          [
           0.1,
           "rgb(33,102,172)"
          ],
          [
           0.2,
           "rgb(67,147,195)"
          ],
          [
           0.3,
           "rgb(146,197,222)"
          ],
          [
           0.4,
           "rgb(209,229,240)"
          ],
          [
           0.5,
           "rgb(247,247,247)"
          ],
          [
           0.6,
           "rgb(253,219,199)"
          ],
          [
           0.7,
           "rgb(244,165,130)"
          ],
          [
           0.8,
           "rgb(214,96,77)"
          ],
          [
           0.9,
           "rgb(178,24,43)"
          ],
          [
           1,
           "rgb(103,0,31)"
          ]
         ]
        },
        "height": 600,
        "template": {
         "data": {
          "bar": [
           {
            "error_x": {
             "color": "#f2f5fa"
            },
            "error_y": {
             "color": "#f2f5fa"
            },
            "marker": {
             "line": {
              "color": "rgb(17,17,17)",
              "width": 0.5
             },
             "pattern": {
              "fillmode": "overlay",
              "size": 10,
              "solidity": 0.2
             }
            },
            "type": "bar"
           }
          ],
          "barpolar": [
           {
            "marker": {
             "line": {
              "color": "rgb(17,17,17)",
              "width": 0.5
             },
             "pattern": {
              "fillmode": "overlay",
              "size": 10,
              "solidity": 0.2
             }
            },
            "type": "barpolar"
           }
          ],
          "carpet": [
           {
            "aaxis": {
             "endlinecolor": "#A2B1C6",
             "gridcolor": "#506784",
             "linecolor": "#506784",
             "minorgridcolor": "#506784",
             "startlinecolor": "#A2B1C6"
            },
            "baxis": {
             "endlinecolor": "#A2B1C6",
             "gridcolor": "#506784",
             "linecolor": "#506784",
             "minorgridcolor": "#506784",
             "startlinecolor": "#A2B1C6"
            },
            "type": "carpet"
           }
          ],
          "choropleth": [
           {
            "colorbar": {
             "outlinewidth": 0,
             "ticks": ""
            },
            "type": "choropleth"
           }
          ],
          "contour": [
           {
            "colorbar": {
             "outlinewidth": 0,
             "ticks": ""
            },
            "colorscale": [
             [
              0,
              "#0d0887"
             ],
             [
              0.1111111111111111,
              "#46039f"
             ],
             [
              0.2222222222222222,
              "#7201a8"
             ],
             [
              0.3333333333333333,
              "#9c179e"
             ],
             [
              0.4444444444444444,
              "#bd3786"
             ],
             [
              0.5555555555555556,
              "#d8576b"
             ],
             [
              0.6666666666666666,
              "#ed7953"
             ],
             [
              0.7777777777777778,
              "#fb9f3a"
             ],
             [
              0.8888888888888888,
              "#fdca26"
             ],
             [
              1,
              "#f0f921"
             ]
            ],
            "type": "contour"
           }
          ],
          "contourcarpet": [
           {
            "colorbar": {
             "outlinewidth": 0,
             "ticks": ""
            },
            "type": "contourcarpet"
           }
          ],
          "heatmap": [
           {
            "colorbar": {
             "outlinewidth": 0,
             "ticks": ""
            },
            "colorscale": [
             [
              0,
              "#0d0887"
             ],
             [
              0.1111111111111111,
              "#46039f"
             ],
             [
              0.2222222222222222,
              "#7201a8"
             ],
             [
              0.3333333333333333,
              "#9c179e"
             ],
             [
              0.4444444444444444,
              "#bd3786"
             ],
             [
              0.5555555555555556,
              "#d8576b"
             ],
             [
              0.6666666666666666,
              "#ed7953"
             ],
             [
              0.7777777777777778,
              "#fb9f3a"
             ],
             [
              0.8888888888888888,
              "#fdca26"
             ],
             [
              1,
              "#f0f921"
             ]
            ],
            "type": "heatmap"
           }
          ],
          "heatmapgl": [
           {
            "colorbar": {
             "outlinewidth": 0,
             "ticks": ""
            },
            "colorscale": [
             [
              0,
              "#0d0887"
             ],
             [
              0.1111111111111111,
              "#46039f"
             ],
             [
              0.2222222222222222,
              "#7201a8"
             ],
             [
              0.3333333333333333,
              "#9c179e"
             ],
             [
              0.4444444444444444,
              "#bd3786"
             ],
             [
              0.5555555555555556,
              "#d8576b"
             ],
             [
              0.6666666666666666,
              "#ed7953"
             ],
             [
              0.7777777777777778,
              "#fb9f3a"
             ],
             [
              0.8888888888888888,
              "#fdca26"
             ],
             [
              1,
              "#f0f921"
             ]
            ],
            "type": "heatmapgl"
           }
          ],
          "histogram": [
           {
            "marker": {
             "pattern": {
              "fillmode": "overlay",
              "size": 10,
              "solidity": 0.2
             }
            },
            "type": "histogram"
           }
          ],
          "histogram2d": [
           {
            "colorbar": {
             "outlinewidth": 0,
             "ticks": ""
            },
            "colorscale": [
             [
              0,
              "#0d0887"
             ],
             [
              0.1111111111111111,
              "#46039f"
             ],
             [
              0.2222222222222222,
              "#7201a8"
             ],
             [
              0.3333333333333333,
              "#9c179e"
             ],
             [
              0.4444444444444444,
              "#bd3786"
             ],
             [
              0.5555555555555556,
              "#d8576b"
             ],
             [
              0.6666666666666666,
              "#ed7953"
             ],
             [
              0.7777777777777778,
              "#fb9f3a"
             ],
             [
              0.8888888888888888,
              "#fdca26"
             ],
             [
              1,
              "#f0f921"
             ]
            ],
            "type": "histogram2d"
           }
          ],
          "histogram2dcontour": [
           {
            "colorbar": {
             "outlinewidth": 0,
             "ticks": ""
            },
            "colorscale": [
             [
              0,
              "#0d0887"
             ],
             [
              0.1111111111111111,
              "#46039f"
             ],
             [
              0.2222222222222222,
              "#7201a8"
             ],
             [
              0.3333333333333333,
              "#9c179e"
             ],
             [
              0.4444444444444444,
              "#bd3786"
             ],
             [
              0.5555555555555556,
              "#d8576b"
             ],
             [
              0.6666666666666666,
              "#ed7953"
             ],
             [
              0.7777777777777778,
              "#fb9f3a"
             ],
             [
              0.8888888888888888,
              "#fdca26"
             ],
             [
              1,
              "#f0f921"
             ]
            ],
            "type": "histogram2dcontour"
           }
          ],
          "mesh3d": [
           {
            "colorbar": {
             "outlinewidth": 0,
             "ticks": ""
            },
            "type": "mesh3d"
           }
          ],
          "parcoords": [
           {
            "line": {
             "colorbar": {
              "outlinewidth": 0,
              "ticks": ""
             }
            },
            "type": "parcoords"
           }
          ],
          "pie": [
           {
            "automargin": true,
            "type": "pie"
           }
          ],
          "scatter": [
           {
            "marker": {
             "line": {
              "color": "#283442"
             }
            },
            "type": "scatter"
           }
          ],
          "scatter3d": [
           {
            "line": {
             "colorbar": {
              "outlinewidth": 0,
              "ticks": ""
             }
            },
            "marker": {
             "colorbar": {
              "outlinewidth": 0,
              "ticks": ""
             }
            },
            "type": "scatter3d"
           }
          ],
          "scattercarpet": [
           {
            "marker": {
             "colorbar": {
              "outlinewidth": 0,
              "ticks": ""
             }
            },
            "type": "scattercarpet"
           }
          ],
          "scattergeo": [
           {
            "marker": {
             "colorbar": {
              "outlinewidth": 0,
              "ticks": ""
             }
            },
            "type": "scattergeo"
           }
          ],
          "scattergl": [
           {
            "marker": {
             "line": {
              "color": "#283442"
             }
            },
            "type": "scattergl"
           }
          ],
          "scattermapbox": [
           {
            "marker": {
             "colorbar": {
              "outlinewidth": 0,
              "ticks": ""
             }
            },
            "type": "scattermapbox"
           }
          ],
          "scatterpolar": [
           {
            "marker": {
             "colorbar": {
              "outlinewidth": 0,
              "ticks": ""
             }
            },
            "type": "scatterpolar"
           }
          ],
          "scatterpolargl": [
           {
            "marker": {
             "colorbar": {
              "outlinewidth": 0,
              "ticks": ""
             }
            },
            "type": "scatterpolargl"
           }
          ],
          "scatterternary": [
           {
            "marker": {
             "colorbar": {
              "outlinewidth": 0,
              "ticks": ""
             }
            },
            "type": "scatterternary"
           }
          ],
          "surface": [
           {
            "colorbar": {
             "outlinewidth": 0,
             "ticks": ""
            },
            "colorscale": [
             [
              0,
              "#0d0887"
             ],
             [
              0.1111111111111111,
              "#46039f"
             ],
             [
              0.2222222222222222,
              "#7201a8"
             ],
             [
              0.3333333333333333,
              "#9c179e"
             ],
             [
              0.4444444444444444,
              "#bd3786"
             ],
             [
              0.5555555555555556,
              "#d8576b"
             ],
             [
              0.6666666666666666,
              "#ed7953"
             ],
             [
              0.7777777777777778,
              "#fb9f3a"
             ],
             [
              0.8888888888888888,
              "#fdca26"
             ],
             [
              1,
              "#f0f921"
             ]
            ],
            "type": "surface"
           }
          ],
          "table": [
           {
            "cells": {
             "fill": {
              "color": "#506784"
             },
             "line": {
              "color": "rgb(17,17,17)"
             }
            },
            "header": {
             "fill": {
              "color": "#2a3f5f"
             },
             "line": {
              "color": "rgb(17,17,17)"
             }
            },
            "type": "table"
           }
          ]
         },
         "layout": {
          "annotationdefaults": {
           "arrowcolor": "#f2f5fa",
           "arrowhead": 0,
           "arrowwidth": 1
          },
          "autotypenumbers": "strict",
          "coloraxis": {
           "colorbar": {
            "outlinewidth": 0,
            "ticks": ""
           }
          },
          "colorscale": {
           "diverging": [
            [
             0,
             "#8e0152"
            ],
            [
             0.1,
             "#c51b7d"
            ],
            [
             0.2,
             "#de77ae"
            ],
            [
             0.3,
             "#f1b6da"
            ],
            [
             0.4,
             "#fde0ef"
            ],
            [
             0.5,
             "#f7f7f7"
            ],
            [
             0.6,
             "#e6f5d0"
            ],
            [
             0.7,
             "#b8e186"
            ],
            [
             0.8,
             "#7fbc41"
            ],
            [
             0.9,
             "#4d9221"
            ],
            [
             1,
             "#276419"
            ]
           ],
           "sequential": [
            [
             0,
             "#0d0887"
            ],
            [
             0.1111111111111111,
             "#46039f"
            ],
            [
             0.2222222222222222,
             "#7201a8"
            ],
            [
             0.3333333333333333,
             "#9c179e"
            ],
            [
             0.4444444444444444,
             "#bd3786"
            ],
            [
             0.5555555555555556,
             "#d8576b"
            ],
            [
             0.6666666666666666,
             "#ed7953"
            ],
            [
             0.7777777777777778,
             "#fb9f3a"
            ],
            [
             0.8888888888888888,
             "#fdca26"
            ],
            [
             1,
             "#f0f921"
            ]
           ],
           "sequentialminus": [
            [
             0,
             "#0d0887"
            ],
            [
             0.1111111111111111,
             "#46039f"
            ],
            [
             0.2222222222222222,
             "#7201a8"
            ],
            [
             0.3333333333333333,
             "#9c179e"
            ],
            [
             0.4444444444444444,
             "#bd3786"
            ],
            [
             0.5555555555555556,
             "#d8576b"
            ],
            [
             0.6666666666666666,
             "#ed7953"
            ],
            [
             0.7777777777777778,
             "#fb9f3a"
            ],
            [
             0.8888888888888888,
             "#fdca26"
            ],
            [
             1,
             "#f0f921"
            ]
           ]
          },
          "colorway": [
           "#636efa",
           "#EF553B",
           "#00cc96",
           "#ab63fa",
           "#FFA15A",
           "#19d3f3",
           "#FF6692",
           "#B6E880",
           "#FF97FF",
           "#FECB52"
          ],
          "font": {
           "color": "#f2f5fa"
          },
          "geo": {
           "bgcolor": "rgb(17,17,17)",
           "lakecolor": "rgb(17,17,17)",
           "landcolor": "rgb(17,17,17)",
           "showlakes": true,
           "showland": true,
           "subunitcolor": "#506784"
          },
          "hoverlabel": {
           "align": "left"
          },
          "hovermode": "closest",
          "mapbox": {
           "style": "dark"
          },
          "paper_bgcolor": "rgb(17,17,17)",
          "plot_bgcolor": "rgb(17,17,17)",
          "polar": {
           "angularaxis": {
            "gridcolor": "#506784",
            "linecolor": "#506784",
            "ticks": ""
           },
           "bgcolor": "rgb(17,17,17)",
           "radialaxis": {
            "gridcolor": "#506784",
            "linecolor": "#506784",
            "ticks": ""
           }
          },
          "scene": {
           "xaxis": {
            "backgroundcolor": "rgb(17,17,17)",
            "gridcolor": "#506784",
            "gridwidth": 2,
            "linecolor": "#506784",
            "showbackground": true,
            "ticks": "",
            "zerolinecolor": "#C8D4E3"
           },
           "yaxis": {
            "backgroundcolor": "rgb(17,17,17)",
            "gridcolor": "#506784",
            "gridwidth": 2,
            "linecolor": "#506784",
            "showbackground": true,
            "ticks": "",
            "zerolinecolor": "#C8D4E3"
           },
           "zaxis": {
            "backgroundcolor": "rgb(17,17,17)",
            "gridcolor": "#506784",
            "gridwidth": 2,
            "linecolor": "#506784",
            "showbackground": true,
            "ticks": "",
            "zerolinecolor": "#C8D4E3"
           }
          },
          "shapedefaults": {
           "line": {
            "color": "#f2f5fa"
           }
          },
          "sliderdefaults": {
           "bgcolor": "#C8D4E3",
           "bordercolor": "rgb(17,17,17)",
           "borderwidth": 1,
           "tickwidth": 0
          },
          "ternary": {
           "aaxis": {
            "gridcolor": "#506784",
            "linecolor": "#506784",
            "ticks": ""
           },
           "baxis": {
            "gridcolor": "#506784",
            "linecolor": "#506784",
            "ticks": ""
           },
           "bgcolor": "rgb(17,17,17)",
           "caxis": {
            "gridcolor": "#506784",
            "linecolor": "#506784",
            "ticks": ""
           }
          },
          "title": {
           "x": 0.05
          },
          "updatemenudefaults": {
           "bgcolor": "#506784",
           "borderwidth": 0
          },
          "xaxis": {
           "automargin": true,
           "gridcolor": "#283442",
           "linecolor": "#506784",
           "ticks": "",
           "title": {
            "standoff": 15
           },
           "zerolinecolor": "#283442",
           "zerolinewidth": 2
          },
          "yaxis": {
           "automargin": true,
           "gridcolor": "#283442",
           "linecolor": "#506784",
           "ticks": "",
           "title": {
            "standoff": 15
           },
           "zerolinecolor": "#283442",
           "zerolinewidth": 2
          }
         }
        },
        "title": {
         "text": "Correlation Heatmap: Target vs Exchange Rate Variables"
        },
        "width": 1000,
        "xaxis": {
         "anchor": "y",
         "constrain": "domain",
         "domain": [
          0,
          1
         ],
         "scaleanchor": "y"
        },
        "yaxis": {
         "anchor": "x",
         "autorange": "reversed",
         "constrain": "domain",
         "domain": [
          0,
          1
         ]
        }
       }
      }
     },
     "metadata": {},
     "output_type": "display_data"
    }
   ],
   "source": [
    "# Variables to compare\n",
    "variables_to_compare = ['exchange_rate_usd_1990', 'exchange_rate_usd_2000',\n",
    "       'exchange_rate_usd_2014', 'exchange_rate_usd_2015',\n",
    "       'exchange_rate_usd_2016', 'exchange_rate_usd_2017',\n",
    "       'exchange_rate_usd_2018', 'exchange_rate_usd_2019',\n",
    "       'exchange_rate_usd_2020', 'exchange_rate_usd_2021',\n",
    "       'exchange_rate_usd_2022', 'exchange_rate_usd_2023',\n",
    "]\n",
    "\n",
    "# Compute the correlation matrix for 'target' and the selected variables\n",
    "columns_to_use = ['target'] + variables_to_compare\n",
    "df_corr_matrix = df[columns_to_use].corr()\n",
    "\n",
    "# Take the absolute values of the correlation matrix\n",
    "df_corr_matrix_abs = df_corr_matrix.abs()\n",
    "\n",
    "# Using Plotly Express to generate the heatmap with adjusted grid size\n",
    "fig = px.imshow(df_corr_matrix_abs, \n",
    "                color_continuous_scale='RdBu_r', \n",
    "                title=\"Correlation Heatmap: Target vs Exchange Rate Variables\", \n",
    "                template='plotly_dark', \n",
    "                width=1000,  # Set the width of the grid\n",
    "                height=600)  # Set the height of the grid\n",
    "\n",
    "# Show the plot\n",
    "fig.show()\n"
   ]
  },
  {
   "cell_type": "code",
   "execution_count": 323,
   "metadata": {},
   "outputs": [
    {
     "data": {
      "application/vnd.plotly.v1+json": {
       "config": {
        "plotlyServerURL": "https://plot.ly"
       },
       "data": [
        {
         "coloraxis": "coloraxis",
         "hovertemplate": "x: %{x}<br>y: %{y}<br>color: %{z}<extra></extra>",
         "name": "0",
         "type": "heatmap",
         "x": [
          "target",
          "inflation_1990",
          "inflation_2000",
          "inflation_2014",
          "inflation_2015",
          "inflation_2016",
          "inflation_2017",
          "inflation_2018",
          "inflation_2019",
          "inflation_2020",
          "inflation_2021",
          "inflation_2022",
          "inflation_2023"
         ],
         "xaxis": "x",
         "y": [
          "target",
          "inflation_1990",
          "inflation_2000",
          "inflation_2014",
          "inflation_2015",
          "inflation_2016",
          "inflation_2017",
          "inflation_2018",
          "inflation_2019",
          "inflation_2020",
          "inflation_2021",
          "inflation_2022",
          "inflation_2023"
         ],
         "yaxis": "y",
         "z": [
          [
           1,
           0.1280890516803111,
           0.16465274184117243,
           0.19822575970111733,
           0.19963629390581306,
           0.20134127144233488,
           0.20344308339669467,
           0.20608463224301066,
           0.20947788601101514,
           0.21393349963668956,
           0.219799780073664,
           0.2267715832097727,
           0.2296491499984343
          ],
          [
           0.1280890516803111,
           1,
           0.8503651573420611,
           0.7530100680966023,
           0.7525638222990869,
           0.7518517380343025,
           0.7506912782705996,
           0.7487383683700907,
           0.7452821479808692,
           0.7386904567934807,
           0.7246719448681491,
           0.6895727816142566,
           0.5824033650703472
          ],
          [
           0.16465274184117243,
           0.8503651573420611,
           1,
           0.9521164363907392,
           0.9518809161278236,
           0.9513876643338253,
           0.9504394334888807,
           0.948651157077609,
           0.9452097032775733,
           0.9382125403374317,
           0.9225519617823662,
           0.881674537031912,
           0.7503627583758277
          ],
          [
           0.19822575970111733,
           0.7530100680966023,
           0.9521164363907392,
           1,
           0.9999236613106758,
           0.9996174184802344,
           0.9988906968719887,
           0.9973653038869608,
           0.994231882662421,
           0.9875749451962155,
           0.9721951745503873,
           0.9310743535079887,
           0.7923744963131151
          ],
          [
           0.19963629390581306,
           0.7525638222990869,
           0.9518809161278236,
           0.9999236613106758,
           1,
           0.9998828637065681,
           0.9993962751665578,
           0.998185502658375,
           0.9954811824263159,
           0.989441271889851,
           0.9750143626659559,
           0.9355110614515066,
           0.7997991641696585
          ],
          [
           0.20134127144233488,
           0.7518517380343025,
           0.9513876643338253,
           0.9996174184802344,
           0.9998828637065681,
           1,
           0.999810969233932,
           0.9989901759602732,
           0.9968179590793663,
           0.9915436434016313,
           0.9783001054327018,
           0.9408088018032064,
           0.8088268444022729
          ],
          [
           0.20344308339669467,
           0.7506912782705996,
           0.9504394334888807,
           0.9988906968719887,
           0.9993962751665578,
           0.999810969233932,
           1,
           0.999674887733896,
           0.9981793534535783,
           0.9938793803490191,
           0.9821435925361884,
           0.9472208624720838,
           0.8200216892211242
          ],
          [
           0.20608463224301066,
           0.7487383683700907,
           0.948651157077609,
           0.9973653038869608,
           0.998185502658375,
           0.9989901759602732,
           0.999674887733896,
           1,
           0.9993927271935004,
           0.9963729750632052,
           0.9866211820119499,
           0.9550869014091041,
           0.8342327458456681
          ],
          [
           0.20947788601101514,
           0.7452821479808692,
           0.9452097032775733,
           0.994231882662421,
           0.9954811824263159,
           0.9968179590793663,
           0.9981793534535783,
           0.9993927271935004,
           1,
           0.9987329861606933,
           0.9917027949444385,
           0.964832363933957,
           0.8527764601917124
          ],
          [
           0.21393349963668956,
           0.7386904567934807,
           0.9382125403374317,
           0.9875749451962155,
           0.989441271889851,
           0.9915436434016313,
           0.9938793803490191,
           0.9963729750632052,
           0.9987329861606933,
           1,
           0.9969154292715922,
           0.9768381584326591,
           0.8777288997797995
          ],
          [
           0.219799780073664,
           0.7246719448681491,
           0.9225519617823662,
           0.9721951745503873,
           0.9750143626659559,
           0.9783001054327018,
           0.9821435925361884,
           0.9866211820119499,
           0.9917027949444385,
           0.9969154292715922,
           1,
           0.9906188446897604,
           0.9122025344376461
          ],
          [
           0.2267715832097727,
           0.6895727816142566,
           0.881674537031912,
           0.9310743535079887,
           0.9355110614515066,
           0.9408088018032064,
           0.9472208624720838,
           0.9550869014091041,
           0.964832363933957,
           0.9768381584326591,
           0.9906188446897604,
           1,
           0.9587707439431975
          ],
          [
           0.2296491499984343,
           0.5824033650703472,
           0.7503627583758277,
           0.7923744963131151,
           0.7997991641696585,
           0.8088268444022729,
           0.8200216892211242,
           0.8342327458456681,
           0.8527764601917124,
           0.8777288997797995,
           0.9122025344376461,
           0.9587707439431975,
           1
          ]
         ]
        }
       ],
       "layout": {
        "coloraxis": {
         "colorscale": [
          [
           0,
           "rgb(5,48,97)"
          ],
          [
           0.1,
           "rgb(33,102,172)"
          ],
          [
           0.2,
           "rgb(67,147,195)"
          ],
          [
           0.3,
           "rgb(146,197,222)"
          ],
          [
           0.4,
           "rgb(209,229,240)"
          ],
          [
           0.5,
           "rgb(247,247,247)"
          ],
          [
           0.6,
           "rgb(253,219,199)"
          ],
          [
           0.7,
           "rgb(244,165,130)"
          ],
          [
           0.8,
           "rgb(214,96,77)"
          ],
          [
           0.9,
           "rgb(178,24,43)"
          ],
          [
           1,
           "rgb(103,0,31)"
          ]
         ]
        },
        "height": 600,
        "template": {
         "data": {
          "bar": [
           {
            "error_x": {
             "color": "#f2f5fa"
            },
            "error_y": {
             "color": "#f2f5fa"
            },
            "marker": {
             "line": {
              "color": "rgb(17,17,17)",
              "width": 0.5
             },
             "pattern": {
              "fillmode": "overlay",
              "size": 10,
              "solidity": 0.2
             }
            },
            "type": "bar"
           }
          ],
          "barpolar": [
           {
            "marker": {
             "line": {
              "color": "rgb(17,17,17)",
              "width": 0.5
             },
             "pattern": {
              "fillmode": "overlay",
              "size": 10,
              "solidity": 0.2
             }
            },
            "type": "barpolar"
           }
          ],
          "carpet": [
           {
            "aaxis": {
             "endlinecolor": "#A2B1C6",
             "gridcolor": "#506784",
             "linecolor": "#506784",
             "minorgridcolor": "#506784",
             "startlinecolor": "#A2B1C6"
            },
            "baxis": {
             "endlinecolor": "#A2B1C6",
             "gridcolor": "#506784",
             "linecolor": "#506784",
             "minorgridcolor": "#506784",
             "startlinecolor": "#A2B1C6"
            },
            "type": "carpet"
           }
          ],
          "choropleth": [
           {
            "colorbar": {
             "outlinewidth": 0,
             "ticks": ""
            },
            "type": "choropleth"
           }
          ],
          "contour": [
           {
            "colorbar": {
             "outlinewidth": 0,
             "ticks": ""
            },
            "colorscale": [
             [
              0,
              "#0d0887"
             ],
             [
              0.1111111111111111,
              "#46039f"
             ],
             [
              0.2222222222222222,
              "#7201a8"
             ],
             [
              0.3333333333333333,
              "#9c179e"
             ],
             [
              0.4444444444444444,
              "#bd3786"
             ],
             [
              0.5555555555555556,
              "#d8576b"
             ],
             [
              0.6666666666666666,
              "#ed7953"
             ],
             [
              0.7777777777777778,
              "#fb9f3a"
             ],
             [
              0.8888888888888888,
              "#fdca26"
             ],
             [
              1,
              "#f0f921"
             ]
            ],
            "type": "contour"
           }
          ],
          "contourcarpet": [
           {
            "colorbar": {
             "outlinewidth": 0,
             "ticks": ""
            },
            "type": "contourcarpet"
           }
          ],
          "heatmap": [
           {
            "colorbar": {
             "outlinewidth": 0,
             "ticks": ""
            },
            "colorscale": [
             [
              0,
              "#0d0887"
             ],
             [
              0.1111111111111111,
              "#46039f"
             ],
             [
              0.2222222222222222,
              "#7201a8"
             ],
             [
              0.3333333333333333,
              "#9c179e"
             ],
             [
              0.4444444444444444,
              "#bd3786"
             ],
             [
              0.5555555555555556,
              "#d8576b"
             ],
             [
              0.6666666666666666,
              "#ed7953"
             ],
             [
              0.7777777777777778,
              "#fb9f3a"
             ],
             [
              0.8888888888888888,
              "#fdca26"
             ],
             [
              1,
              "#f0f921"
             ]
            ],
            "type": "heatmap"
           }
          ],
          "heatmapgl": [
           {
            "colorbar": {
             "outlinewidth": 0,
             "ticks": ""
            },
            "colorscale": [
             [
              0,
              "#0d0887"
             ],
             [
              0.1111111111111111,
              "#46039f"
             ],
             [
              0.2222222222222222,
              "#7201a8"
             ],
             [
              0.3333333333333333,
              "#9c179e"
             ],
             [
              0.4444444444444444,
              "#bd3786"
             ],
             [
              0.5555555555555556,
              "#d8576b"
             ],
             [
              0.6666666666666666,
              "#ed7953"
             ],
             [
              0.7777777777777778,
              "#fb9f3a"
             ],
             [
              0.8888888888888888,
              "#fdca26"
             ],
             [
              1,
              "#f0f921"
             ]
            ],
            "type": "heatmapgl"
           }
          ],
          "histogram": [
           {
            "marker": {
             "pattern": {
              "fillmode": "overlay",
              "size": 10,
              "solidity": 0.2
             }
            },
            "type": "histogram"
           }
          ],
          "histogram2d": [
           {
            "colorbar": {
             "outlinewidth": 0,
             "ticks": ""
            },
            "colorscale": [
             [
              0,
              "#0d0887"
             ],
             [
              0.1111111111111111,
              "#46039f"
             ],
             [
              0.2222222222222222,
              "#7201a8"
             ],
             [
              0.3333333333333333,
              "#9c179e"
             ],
             [
              0.4444444444444444,
              "#bd3786"
             ],
             [
              0.5555555555555556,
              "#d8576b"
             ],
             [
              0.6666666666666666,
              "#ed7953"
             ],
             [
              0.7777777777777778,
              "#fb9f3a"
             ],
             [
              0.8888888888888888,
              "#fdca26"
             ],
             [
              1,
              "#f0f921"
             ]
            ],
            "type": "histogram2d"
           }
          ],
          "histogram2dcontour": [
           {
            "colorbar": {
             "outlinewidth": 0,
             "ticks": ""
            },
            "colorscale": [
             [
              0,
              "#0d0887"
             ],
             [
              0.1111111111111111,
              "#46039f"
             ],
             [
              0.2222222222222222,
              "#7201a8"
             ],
             [
              0.3333333333333333,
              "#9c179e"
             ],
             [
              0.4444444444444444,
              "#bd3786"
             ],
             [
              0.5555555555555556,
              "#d8576b"
             ],
             [
              0.6666666666666666,
              "#ed7953"
             ],
             [
              0.7777777777777778,
              "#fb9f3a"
             ],
             [
              0.8888888888888888,
              "#fdca26"
             ],
             [
              1,
              "#f0f921"
             ]
            ],
            "type": "histogram2dcontour"
           }
          ],
          "mesh3d": [
           {
            "colorbar": {
             "outlinewidth": 0,
             "ticks": ""
            },
            "type": "mesh3d"
           }
          ],
          "parcoords": [
           {
            "line": {
             "colorbar": {
              "outlinewidth": 0,
              "ticks": ""
             }
            },
            "type": "parcoords"
           }
          ],
          "pie": [
           {
            "automargin": true,
            "type": "pie"
           }
          ],
          "scatter": [
           {
            "marker": {
             "line": {
              "color": "#283442"
             }
            },
            "type": "scatter"
           }
          ],
          "scatter3d": [
           {
            "line": {
             "colorbar": {
              "outlinewidth": 0,
              "ticks": ""
             }
            },
            "marker": {
             "colorbar": {
              "outlinewidth": 0,
              "ticks": ""
             }
            },
            "type": "scatter3d"
           }
          ],
          "scattercarpet": [
           {
            "marker": {
             "colorbar": {
              "outlinewidth": 0,
              "ticks": ""
             }
            },
            "type": "scattercarpet"
           }
          ],
          "scattergeo": [
           {
            "marker": {
             "colorbar": {
              "outlinewidth": 0,
              "ticks": ""
             }
            },
            "type": "scattergeo"
           }
          ],
          "scattergl": [
           {
            "marker": {
             "line": {
              "color": "#283442"
             }
            },
            "type": "scattergl"
           }
          ],
          "scattermapbox": [
           {
            "marker": {
             "colorbar": {
              "outlinewidth": 0,
              "ticks": ""
             }
            },
            "type": "scattermapbox"
           }
          ],
          "scatterpolar": [
           {
            "marker": {
             "colorbar": {
              "outlinewidth": 0,
              "ticks": ""
             }
            },
            "type": "scatterpolar"
           }
          ],
          "scatterpolargl": [
           {
            "marker": {
             "colorbar": {
              "outlinewidth": 0,
              "ticks": ""
             }
            },
            "type": "scatterpolargl"
           }
          ],
          "scatterternary": [
           {
            "marker": {
             "colorbar": {
              "outlinewidth": 0,
              "ticks": ""
             }
            },
            "type": "scatterternary"
           }
          ],
          "surface": [
           {
            "colorbar": {
             "outlinewidth": 0,
             "ticks": ""
            },
            "colorscale": [
             [
              0,
              "#0d0887"
             ],
             [
              0.1111111111111111,
              "#46039f"
             ],
             [
              0.2222222222222222,
              "#7201a8"
             ],
             [
              0.3333333333333333,
              "#9c179e"
             ],
             [
              0.4444444444444444,
              "#bd3786"
             ],
             [
              0.5555555555555556,
              "#d8576b"
             ],
             [
              0.6666666666666666,
              "#ed7953"
             ],
             [
              0.7777777777777778,
              "#fb9f3a"
             ],
             [
              0.8888888888888888,
              "#fdca26"
             ],
             [
              1,
              "#f0f921"
             ]
            ],
            "type": "surface"
           }
          ],
          "table": [
           {
            "cells": {
             "fill": {
              "color": "#506784"
             },
             "line": {
              "color": "rgb(17,17,17)"
             }
            },
            "header": {
             "fill": {
              "color": "#2a3f5f"
             },
             "line": {
              "color": "rgb(17,17,17)"
             }
            },
            "type": "table"
           }
          ]
         },
         "layout": {
          "annotationdefaults": {
           "arrowcolor": "#f2f5fa",
           "arrowhead": 0,
           "arrowwidth": 1
          },
          "autotypenumbers": "strict",
          "coloraxis": {
           "colorbar": {
            "outlinewidth": 0,
            "ticks": ""
           }
          },
          "colorscale": {
           "diverging": [
            [
             0,
             "#8e0152"
            ],
            [
             0.1,
             "#c51b7d"
            ],
            [
             0.2,
             "#de77ae"
            ],
            [
             0.3,
             "#f1b6da"
            ],
            [
             0.4,
             "#fde0ef"
            ],
            [
             0.5,
             "#f7f7f7"
            ],
            [
             0.6,
             "#e6f5d0"
            ],
            [
             0.7,
             "#b8e186"
            ],
            [
             0.8,
             "#7fbc41"
            ],
            [
             0.9,
             "#4d9221"
            ],
            [
             1,
             "#276419"
            ]
           ],
           "sequential": [
            [
             0,
             "#0d0887"
            ],
            [
             0.1111111111111111,
             "#46039f"
            ],
            [
             0.2222222222222222,
             "#7201a8"
            ],
            [
             0.3333333333333333,
             "#9c179e"
            ],
            [
             0.4444444444444444,
             "#bd3786"
            ],
            [
             0.5555555555555556,
             "#d8576b"
            ],
            [
             0.6666666666666666,
             "#ed7953"
            ],
            [
             0.7777777777777778,
             "#fb9f3a"
            ],
            [
             0.8888888888888888,
             "#fdca26"
            ],
            [
             1,
             "#f0f921"
            ]
           ],
           "sequentialminus": [
            [
             0,
             "#0d0887"
            ],
            [
             0.1111111111111111,
             "#46039f"
            ],
            [
             0.2222222222222222,
             "#7201a8"
            ],
            [
             0.3333333333333333,
             "#9c179e"
            ],
            [
             0.4444444444444444,
             "#bd3786"
            ],
            [
             0.5555555555555556,
             "#d8576b"
            ],
            [
             0.6666666666666666,
             "#ed7953"
            ],
            [
             0.7777777777777778,
             "#fb9f3a"
            ],
            [
             0.8888888888888888,
             "#fdca26"
            ],
            [
             1,
             "#f0f921"
            ]
           ]
          },
          "colorway": [
           "#636efa",
           "#EF553B",
           "#00cc96",
           "#ab63fa",
           "#FFA15A",
           "#19d3f3",
           "#FF6692",
           "#B6E880",
           "#FF97FF",
           "#FECB52"
          ],
          "font": {
           "color": "#f2f5fa"
          },
          "geo": {
           "bgcolor": "rgb(17,17,17)",
           "lakecolor": "rgb(17,17,17)",
           "landcolor": "rgb(17,17,17)",
           "showlakes": true,
           "showland": true,
           "subunitcolor": "#506784"
          },
          "hoverlabel": {
           "align": "left"
          },
          "hovermode": "closest",
          "mapbox": {
           "style": "dark"
          },
          "paper_bgcolor": "rgb(17,17,17)",
          "plot_bgcolor": "rgb(17,17,17)",
          "polar": {
           "angularaxis": {
            "gridcolor": "#506784",
            "linecolor": "#506784",
            "ticks": ""
           },
           "bgcolor": "rgb(17,17,17)",
           "radialaxis": {
            "gridcolor": "#506784",
            "linecolor": "#506784",
            "ticks": ""
           }
          },
          "scene": {
           "xaxis": {
            "backgroundcolor": "rgb(17,17,17)",
            "gridcolor": "#506784",
            "gridwidth": 2,
            "linecolor": "#506784",
            "showbackground": true,
            "ticks": "",
            "zerolinecolor": "#C8D4E3"
           },
           "yaxis": {
            "backgroundcolor": "rgb(17,17,17)",
            "gridcolor": "#506784",
            "gridwidth": 2,
            "linecolor": "#506784",
            "showbackground": true,
            "ticks": "",
            "zerolinecolor": "#C8D4E3"
           },
           "zaxis": {
            "backgroundcolor": "rgb(17,17,17)",
            "gridcolor": "#506784",
            "gridwidth": 2,
            "linecolor": "#506784",
            "showbackground": true,
            "ticks": "",
            "zerolinecolor": "#C8D4E3"
           }
          },
          "shapedefaults": {
           "line": {
            "color": "#f2f5fa"
           }
          },
          "sliderdefaults": {
           "bgcolor": "#C8D4E3",
           "bordercolor": "rgb(17,17,17)",
           "borderwidth": 1,
           "tickwidth": 0
          },
          "ternary": {
           "aaxis": {
            "gridcolor": "#506784",
            "linecolor": "#506784",
            "ticks": ""
           },
           "baxis": {
            "gridcolor": "#506784",
            "linecolor": "#506784",
            "ticks": ""
           },
           "bgcolor": "rgb(17,17,17)",
           "caxis": {
            "gridcolor": "#506784",
            "linecolor": "#506784",
            "ticks": ""
           }
          },
          "title": {
           "x": 0.05
          },
          "updatemenudefaults": {
           "bgcolor": "#506784",
           "borderwidth": 0
          },
          "xaxis": {
           "automargin": true,
           "gridcolor": "#283442",
           "linecolor": "#506784",
           "ticks": "",
           "title": {
            "standoff": 15
           },
           "zerolinecolor": "#283442",
           "zerolinewidth": 2
          },
          "yaxis": {
           "automargin": true,
           "gridcolor": "#283442",
           "linecolor": "#506784",
           "ticks": "",
           "title": {
            "standoff": 15
           },
           "zerolinecolor": "#283442",
           "zerolinewidth": 2
          }
         }
        },
        "title": {
         "text": "Correlation Heatmap: Target vs Inflation Variables"
        },
        "width": 1000,
        "xaxis": {
         "anchor": "y",
         "constrain": "domain",
         "domain": [
          0,
          1
         ],
         "scaleanchor": "y"
        },
        "yaxis": {
         "anchor": "x",
         "autorange": "reversed",
         "constrain": "domain",
         "domain": [
          0,
          1
         ]
        }
       }
      }
     },
     "metadata": {},
     "output_type": "display_data"
    }
   ],
   "source": [
    "# Variables to compare\n",
    "variables_to_compare = ['inflation_1990', 'inflation_2000', 'inflation_2014', 'inflation_2015',\n",
    "       'inflation_2016', 'inflation_2017', 'inflation_2018', 'inflation_2019',\n",
    "       'inflation_2020', 'inflation_2021', 'inflation_2022', 'inflation_2023'\n",
    "]\n",
    "\n",
    "# Compute the correlation matrix for 'target' and the selected variables\n",
    "columns_to_use = ['target'] + variables_to_compare\n",
    "df_corr_matrix = df[columns_to_use].corr()\n",
    "\n",
    "# Take the absolute values of the correlation matrix\n",
    "df_corr_matrix_abs = df_corr_matrix.abs()\n",
    "\n",
    "# Using Plotly Express to generate the heatmap with adjusted grid size\n",
    "fig = px.imshow(df_corr_matrix_abs, \n",
    "                color_continuous_scale='RdBu_r', \n",
    "                title=\"Correlation Heatmap: Target vs Inflation Variables\", \n",
    "                template='plotly_dark', \n",
    "                width=1000,  # Set the width of the grid\n",
    "                height=600)  # Set the height of the grid\n",
    "\n",
    "# Show the plot\n",
    "fig.show()\n"
   ]
  },
  {
   "cell_type": "code",
   "execution_count": null,
   "metadata": {},
   "outputs": [
    {
     "data": {
      "application/vnd.plotly.v1+json": {
       "config": {
        "plotlyServerURL": "https://plot.ly"
       },
       "data": [
        {
         "coloraxis": "coloraxis",
         "hovertemplate": "x: %{x}<br>y: %{y}<br>color: %{z}<extra></extra>",
         "name": "0",
         "type": "heatmap",
         "x": [
          "target",
          "gdp_1990",
          "gdp_2000",
          "gdp_2014",
          "gdp_2015",
          "gdp_2016",
          "gdp_2017",
          "gdp_2018",
          "gdp_2019",
          "gdp_2020",
          "gdp_2021",
          "gdp_2022",
          "gdp_2023"
         ],
         "xaxis": "x",
         "y": [
          "target",
          "gdp_1990",
          "gdp_2000",
          "gdp_2014",
          "gdp_2015",
          "gdp_2016",
          "gdp_2017",
          "gdp_2018",
          "gdp_2019",
          "gdp_2020",
          "gdp_2021",
          "gdp_2022",
          "gdp_2023"
         ],
         "yaxis": "y",
         "z": [
          [
           1,
           0.2448150991435443,
           0.22929495644649875,
           0.25762606490047096,
           0.2442317434266826,
           0.24319645172448237,
           0.24229547853530478,
           0.24525315130950792,
           0.24144414380189314,
           0.24069036291555262,
           0.24054250335663158,
           0.23205141843618246,
           0.23062364823850612
          ],
          [
           0.2448150991435443,
           1,
           0.9885559742879798,
           0.8715934128510981,
           0.8551582910259024,
           0.8615815124223315,
           0.8483258812084618,
           0.8335770166152916,
           0.8319785026280097,
           0.8233299191793263,
           0.7966997142835087,
           0.7998200479523072,
           0.8121496958267332
          ],
          [
           0.22929495644649875,
           0.9885559742879798,
           1,
           0.9014651602603,
           0.8922659655817189,
           0.8981208686109661,
           0.8857322426159602,
           0.8720223942544169,
           0.8720859455821135,
           0.8646451133730125,
           0.8398019562703373,
           0.8456147695156484,
           0.8567119667116558
          ],
          [
           0.25762606490047096,
           0.8715934128510981,
           0.9014651602603,
           1,
           0.997978233547497,
           0.9977834996754613,
           0.997234654333931,
           0.9954813854250507,
           0.9946145421373235,
           0.9921896906088528,
           0.9874618811074006,
           0.9870086259709832,
           0.9887361883409291
          ],
          [
           0.2442317434266826,
           0.8551582910259024,
           0.8922659655817189,
           0.997978233547497,
           1,
           0.999598974195599,
           0.9994121916096571,
           0.9984773330864671,
           0.9983715811442819,
           0.9969762670821832,
           0.9932048288521036,
           0.9940199453475668,
           0.9952594399532297
          ],
          [
           0.24319645172448237,
           0.8615815124223315,
           0.8981208686109661,
           0.9977834996754613,
           0.999598974195599,
           1,
           0.9995404254228193,
           0.9982767589216209,
           0.9982377303074896,
           0.9968745996938964,
           0.9923868064934152,
           0.9927609138188825,
           0.9939533421000141
          ],
          [
           0.24229547853530478,
           0.8483258812084618,
           0.8857322426159602,
           0.997234654333931,
           0.9994121916096571,
           0.9995404254228193,
           1,
           0.9993838178310777,
           0.9992856820102367,
           0.9981446441716785,
           0.9949403304198617,
           0.9950267960199097,
           0.9956848661820248
          ],
          [
           0.24525315130950792,
           0.8335770166152916,
           0.8720223942544169,
           0.9954813854250507,
           0.9984773330864671,
           0.9982767589216209,
           0.9993838178310777,
           1,
           0.999861548933592,
           0.9994251776890554,
           0.9976593845246038,
           0.996798489456634,
           0.9965279691894015
          ],
          [
           0.24144414380189314,
           0.8319785026280097,
           0.8720859455821135,
           0.9946145421373235,
           0.9983715811442819,
           0.9982377303074896,
           0.9992856820102367,
           0.999861548933592,
           1,
           0.9996511558690244,
           0.9977890229123573,
           0.9974711828849855,
           0.9972542659369085
          ],
          [
           0.24069036291555262,
           0.8233299191793263,
           0.8646451133730125,
           0.9921896906088528,
           0.9969762670821832,
           0.9968745996938964,
           0.9981446441716785,
           0.9994251776890554,
           0.9996511558690244,
           1,
           0.9987849339219658,
           0.9978856465855217,
           0.9970552157885689
          ],
          [
           0.24054250335663158,
           0.7966997142835087,
           0.8398019562703373,
           0.9874618811074006,
           0.9932048288521036,
           0.9923868064934152,
           0.9949403304198617,
           0.9976593845246038,
           0.9977890229123573,
           0.9987849339219658,
           1,
           0.9982776077389002,
           0.9962880862728907
          ],
          [
           0.23205141843618246,
           0.7998200479523072,
           0.8456147695156484,
           0.9870086259709832,
           0.9940199453475668,
           0.9927609138188825,
           0.9950267960199097,
           0.996798489456634,
           0.9974711828849855,
           0.9978856465855217,
           0.9982776077389002,
           1,
           0.999356020914365
          ],
          [
           0.23062364823850612,
           0.8121496958267332,
           0.8567119667116558,
           0.9887361883409291,
           0.9952594399532297,
           0.9939533421000141,
           0.9956848661820248,
           0.9965279691894015,
           0.9972542659369085,
           0.9970552157885689,
           0.9962880862728907,
           0.999356020914365,
           1
          ]
         ]
        }
       ],
       "layout": {
        "coloraxis": {
         "colorscale": [
          [
           0,
           "rgb(5,48,97)"
          ],
          [
           0.1,
           "rgb(33,102,172)"
          ],
          [
           0.2,
           "rgb(67,147,195)"
          ],
          [
           0.3,
           "rgb(146,197,222)"
          ],
          [
           0.4,
           "rgb(209,229,240)"
          ],
          [
           0.5,
           "rgb(247,247,247)"
          ],
          [
           0.6,
           "rgb(253,219,199)"
          ],
          [
           0.7,
           "rgb(244,165,130)"
          ],
          [
           0.8,
           "rgb(214,96,77)"
          ],
          [
           0.9,
           "rgb(178,24,43)"
          ],
          [
           1,
           "rgb(103,0,31)"
          ]
         ]
        },
        "height": 600,
        "template": {
         "data": {
          "bar": [
           {
            "error_x": {
             "color": "#f2f5fa"
            },
            "error_y": {
             "color": "#f2f5fa"
            },
            "marker": {
             "line": {
              "color": "rgb(17,17,17)",
              "width": 0.5
             },
             "pattern": {
              "fillmode": "overlay",
              "size": 10,
              "solidity": 0.2
             }
            },
            "type": "bar"
           }
          ],
          "barpolar": [
           {
            "marker": {
             "line": {
              "color": "rgb(17,17,17)",
              "width": 0.5
             },
             "pattern": {
              "fillmode": "overlay",
              "size": 10,
              "solidity": 0.2
             }
            },
            "type": "barpolar"
           }
          ],
          "carpet": [
           {
            "aaxis": {
             "endlinecolor": "#A2B1C6",
             "gridcolor": "#506784",
             "linecolor": "#506784",
             "minorgridcolor": "#506784",
             "startlinecolor": "#A2B1C6"
            },
            "baxis": {
             "endlinecolor": "#A2B1C6",
             "gridcolor": "#506784",
             "linecolor": "#506784",
             "minorgridcolor": "#506784",
             "startlinecolor": "#A2B1C6"
            },
            "type": "carpet"
           }
          ],
          "choropleth": [
           {
            "colorbar": {
             "outlinewidth": 0,
             "ticks": ""
            },
            "type": "choropleth"
           }
          ],
          "contour": [
           {
            "colorbar": {
             "outlinewidth": 0,
             "ticks": ""
            },
            "colorscale": [
             [
              0,
              "#0d0887"
             ],
             [
              0.1111111111111111,
              "#46039f"
             ],
             [
              0.2222222222222222,
              "#7201a8"
             ],
             [
              0.3333333333333333,
              "#9c179e"
             ],
             [
              0.4444444444444444,
              "#bd3786"
             ],
             [
              0.5555555555555556,
              "#d8576b"
             ],
             [
              0.6666666666666666,
              "#ed7953"
             ],
             [
              0.7777777777777778,
              "#fb9f3a"
             ],
             [
              0.8888888888888888,
              "#fdca26"
             ],
             [
              1,
              "#f0f921"
             ]
            ],
            "type": "contour"
           }
          ],
          "contourcarpet": [
           {
            "colorbar": {
             "outlinewidth": 0,
             "ticks": ""
            },
            "type": "contourcarpet"
           }
          ],
          "heatmap": [
           {
            "colorbar": {
             "outlinewidth": 0,
             "ticks": ""
            },
            "colorscale": [
             [
              0,
              "#0d0887"
             ],
             [
              0.1111111111111111,
              "#46039f"
             ],
             [
              0.2222222222222222,
              "#7201a8"
             ],
             [
              0.3333333333333333,
              "#9c179e"
             ],
             [
              0.4444444444444444,
              "#bd3786"
             ],
             [
              0.5555555555555556,
              "#d8576b"
             ],
             [
              0.6666666666666666,
              "#ed7953"
             ],
             [
              0.7777777777777778,
              "#fb9f3a"
             ],
             [
              0.8888888888888888,
              "#fdca26"
             ],
             [
              1,
              "#f0f921"
             ]
            ],
            "type": "heatmap"
           }
          ],
          "heatmapgl": [
           {
            "colorbar": {
             "outlinewidth": 0,
             "ticks": ""
            },
            "colorscale": [
             [
              0,
              "#0d0887"
             ],
             [
              0.1111111111111111,
              "#46039f"
             ],
             [
              0.2222222222222222,
              "#7201a8"
             ],
             [
              0.3333333333333333,
              "#9c179e"
             ],
             [
              0.4444444444444444,
              "#bd3786"
             ],
             [
              0.5555555555555556,
              "#d8576b"
             ],
             [
              0.6666666666666666,
              "#ed7953"
             ],
             [
              0.7777777777777778,
              "#fb9f3a"
             ],
             [
              0.8888888888888888,
              "#fdca26"
             ],
             [
              1,
              "#f0f921"
             ]
            ],
            "type": "heatmapgl"
           }
          ],
          "histogram": [
           {
            "marker": {
             "pattern": {
              "fillmode": "overlay",
              "size": 10,
              "solidity": 0.2
             }
            },
            "type": "histogram"
           }
          ],
          "histogram2d": [
           {
            "colorbar": {
             "outlinewidth": 0,
             "ticks": ""
            },
            "colorscale": [
             [
              0,
              "#0d0887"
             ],
             [
              0.1111111111111111,
              "#46039f"
             ],
             [
              0.2222222222222222,
              "#7201a8"
             ],
             [
              0.3333333333333333,
              "#9c179e"
             ],
             [
              0.4444444444444444,
              "#bd3786"
             ],
             [
              0.5555555555555556,
              "#d8576b"
             ],
             [
              0.6666666666666666,
              "#ed7953"
             ],
             [
              0.7777777777777778,
              "#fb9f3a"
             ],
             [
              0.8888888888888888,
              "#fdca26"
             ],
             [
              1,
              "#f0f921"
             ]
            ],
            "type": "histogram2d"
           }
          ],
          "histogram2dcontour": [
           {
            "colorbar": {
             "outlinewidth": 0,
             "ticks": ""
            },
            "colorscale": [
             [
              0,
              "#0d0887"
             ],
             [
              0.1111111111111111,
              "#46039f"
             ],
             [
              0.2222222222222222,
              "#7201a8"
             ],
             [
              0.3333333333333333,
              "#9c179e"
             ],
             [
              0.4444444444444444,
              "#bd3786"
             ],
             [
              0.5555555555555556,
              "#d8576b"
             ],
             [
              0.6666666666666666,
              "#ed7953"
             ],
             [
              0.7777777777777778,
              "#fb9f3a"
             ],
             [
              0.8888888888888888,
              "#fdca26"
             ],
             [
              1,
              "#f0f921"
             ]
            ],
            "type": "histogram2dcontour"
           }
          ],
          "mesh3d": [
           {
            "colorbar": {
             "outlinewidth": 0,
             "ticks": ""
            },
            "type": "mesh3d"
           }
          ],
          "parcoords": [
           {
            "line": {
             "colorbar": {
              "outlinewidth": 0,
              "ticks": ""
             }
            },
            "type": "parcoords"
           }
          ],
          "pie": [
           {
            "automargin": true,
            "type": "pie"
           }
          ],
          "scatter": [
           {
            "marker": {
             "line": {
              "color": "#283442"
             }
            },
            "type": "scatter"
           }
          ],
          "scatter3d": [
           {
            "line": {
             "colorbar": {
              "outlinewidth": 0,
              "ticks": ""
             }
            },
            "marker": {
             "colorbar": {
              "outlinewidth": 0,
              "ticks": ""
             }
            },
            "type": "scatter3d"
           }
          ],
          "scattercarpet": [
           {
            "marker": {
             "colorbar": {
              "outlinewidth": 0,
              "ticks": ""
             }
            },
            "type": "scattercarpet"
           }
          ],
          "scattergeo": [
           {
            "marker": {
             "colorbar": {
              "outlinewidth": 0,
              "ticks": ""
             }
            },
            "type": "scattergeo"
           }
          ],
          "scattergl": [
           {
            "marker": {
             "line": {
              "color": "#283442"
             }
            },
            "type": "scattergl"
           }
          ],
          "scattermapbox": [
           {
            "marker": {
             "colorbar": {
              "outlinewidth": 0,
              "ticks": ""
             }
            },
            "type": "scattermapbox"
           }
          ],
          "scatterpolar": [
           {
            "marker": {
             "colorbar": {
              "outlinewidth": 0,
              "ticks": ""
             }
            },
            "type": "scatterpolar"
           }
          ],
          "scatterpolargl": [
           {
            "marker": {
             "colorbar": {
              "outlinewidth": 0,
              "ticks": ""
             }
            },
            "type": "scatterpolargl"
           }
          ],
          "scatterternary": [
           {
            "marker": {
             "colorbar": {
              "outlinewidth": 0,
              "ticks": ""
             }
            },
            "type": "scatterternary"
           }
          ],
          "surface": [
           {
            "colorbar": {
             "outlinewidth": 0,
             "ticks": ""
            },
            "colorscale": [
             [
              0,
              "#0d0887"
             ],
             [
              0.1111111111111111,
              "#46039f"
             ],
             [
              0.2222222222222222,
              "#7201a8"
             ],
             [
              0.3333333333333333,
              "#9c179e"
             ],
             [
              0.4444444444444444,
              "#bd3786"
             ],
             [
              0.5555555555555556,
              "#d8576b"
             ],
             [
              0.6666666666666666,
              "#ed7953"
             ],
             [
              0.7777777777777778,
              "#fb9f3a"
             ],
             [
              0.8888888888888888,
              "#fdca26"
             ],
             [
              1,
              "#f0f921"
             ]
            ],
            "type": "surface"
           }
          ],
          "table": [
           {
            "cells": {
             "fill": {
              "color": "#506784"
             },
             "line": {
              "color": "rgb(17,17,17)"
             }
            },
            "header": {
             "fill": {
              "color": "#2a3f5f"
             },
             "line": {
              "color": "rgb(17,17,17)"
             }
            },
            "type": "table"
           }
          ]
         },
         "layout": {
          "annotationdefaults": {
           "arrowcolor": "#f2f5fa",
           "arrowhead": 0,
           "arrowwidth": 1
          },
          "autotypenumbers": "strict",
          "coloraxis": {
           "colorbar": {
            "outlinewidth": 0,
            "ticks": ""
           }
          },
          "colorscale": {
           "diverging": [
            [
             0,
             "#8e0152"
            ],
            [
             0.1,
             "#c51b7d"
            ],
            [
             0.2,
             "#de77ae"
            ],
            [
             0.3,
             "#f1b6da"
            ],
            [
             0.4,
             "#fde0ef"
            ],
            [
             0.5,
             "#f7f7f7"
            ],
            [
             0.6,
             "#e6f5d0"
            ],
            [
             0.7,
             "#b8e186"
            ],
            [
             0.8,
             "#7fbc41"
            ],
            [
             0.9,
             "#4d9221"
            ],
            [
             1,
             "#276419"
            ]
           ],
           "sequential": [
            [
             0,
             "#0d0887"
            ],
            [
             0.1111111111111111,
             "#46039f"
            ],
            [
             0.2222222222222222,
             "#7201a8"
            ],
            [
             0.3333333333333333,
             "#9c179e"
            ],
            [
             0.4444444444444444,
             "#bd3786"
            ],
            [
             0.5555555555555556,
             "#d8576b"
            ],
            [
             0.6666666666666666,
             "#ed7953"
            ],
            [
             0.7777777777777778,
             "#fb9f3a"
            ],
            [
             0.8888888888888888,
             "#fdca26"
            ],
            [
             1,
             "#f0f921"
            ]
           ],
           "sequentialminus": [
            [
             0,
             "#0d0887"
            ],
            [
             0.1111111111111111,
             "#46039f"
            ],
            [
             0.2222222222222222,
             "#7201a8"
            ],
            [
             0.3333333333333333,
             "#9c179e"
            ],
            [
             0.4444444444444444,
             "#bd3786"
            ],
            [
             0.5555555555555556,
             "#d8576b"
            ],
            [
             0.6666666666666666,
             "#ed7953"
            ],
            [
             0.7777777777777778,
             "#fb9f3a"
            ],
            [
             0.8888888888888888,
             "#fdca26"
            ],
            [
             1,
             "#f0f921"
            ]
           ]
          },
          "colorway": [
           "#636efa",
           "#EF553B",
           "#00cc96",
           "#ab63fa",
           "#FFA15A",
           "#19d3f3",
           "#FF6692",
           "#B6E880",
           "#FF97FF",
           "#FECB52"
          ],
          "font": {
           "color": "#f2f5fa"
          },
          "geo": {
           "bgcolor": "rgb(17,17,17)",
           "lakecolor": "rgb(17,17,17)",
           "landcolor": "rgb(17,17,17)",
           "showlakes": true,
           "showland": true,
           "subunitcolor": "#506784"
          },
          "hoverlabel": {
           "align": "left"
          },
          "hovermode": "closest",
          "mapbox": {
           "style": "dark"
          },
          "paper_bgcolor": "rgb(17,17,17)",
          "plot_bgcolor": "rgb(17,17,17)",
          "polar": {
           "angularaxis": {
            "gridcolor": "#506784",
            "linecolor": "#506784",
            "ticks": ""
           },
           "bgcolor": "rgb(17,17,17)",
           "radialaxis": {
            "gridcolor": "#506784",
            "linecolor": "#506784",
            "ticks": ""
           }
          },
          "scene": {
           "xaxis": {
            "backgroundcolor": "rgb(17,17,17)",
            "gridcolor": "#506784",
            "gridwidth": 2,
            "linecolor": "#506784",
            "showbackground": true,
            "ticks": "",
            "zerolinecolor": "#C8D4E3"
           },
           "yaxis": {
            "backgroundcolor": "rgb(17,17,17)",
            "gridcolor": "#506784",
            "gridwidth": 2,
            "linecolor": "#506784",
            "showbackground": true,
            "ticks": "",
            "zerolinecolor": "#C8D4E3"
           },
           "zaxis": {
            "backgroundcolor": "rgb(17,17,17)",
            "gridcolor": "#506784",
            "gridwidth": 2,
            "linecolor": "#506784",
            "showbackground": true,
            "ticks": "",
            "zerolinecolor": "#C8D4E3"
           }
          },
          "shapedefaults": {
           "line": {
            "color": "#f2f5fa"
           }
          },
          "sliderdefaults": {
           "bgcolor": "#C8D4E3",
           "bordercolor": "rgb(17,17,17)",
           "borderwidth": 1,
           "tickwidth": 0
          },
          "ternary": {
           "aaxis": {
            "gridcolor": "#506784",
            "linecolor": "#506784",
            "ticks": ""
           },
           "baxis": {
            "gridcolor": "#506784",
            "linecolor": "#506784",
            "ticks": ""
           },
           "bgcolor": "rgb(17,17,17)",
           "caxis": {
            "gridcolor": "#506784",
            "linecolor": "#506784",
            "ticks": ""
           }
          },
          "title": {
           "x": 0.05
          },
          "updatemenudefaults": {
           "bgcolor": "#506784",
           "borderwidth": 0
          },
          "xaxis": {
           "automargin": true,
           "gridcolor": "#283442",
           "linecolor": "#506784",
           "ticks": "",
           "title": {
            "standoff": 15
           },
           "zerolinecolor": "#283442",
           "zerolinewidth": 2
          },
          "yaxis": {
           "automargin": true,
           "gridcolor": "#283442",
           "linecolor": "#506784",
           "ticks": "",
           "title": {
            "standoff": 15
           },
           "zerolinecolor": "#283442",
           "zerolinewidth": 2
          }
         }
        },
        "title": {
         "text": "Correlation Heatmap: Target vs GDP Variables"
        },
        "width": 1000,
        "xaxis": {
         "anchor": "y",
         "constrain": "domain",
         "domain": [
          0,
          1
         ],
         "scaleanchor": "y"
        },
        "yaxis": {
         "anchor": "x",
         "autorange": "reversed",
         "constrain": "domain",
         "domain": [
          0,
          1
         ]
        }
       }
      }
     },
     "metadata": {},
     "output_type": "display_data"
    }
   ],
   "source": [
    "# Variables to compare\n",
    "variables_to_compare = ['gdp_1990',\n",
    "       'gdp_2000', 'gdp_2014', 'gdp_2015', 'gdp_2016', 'gdp_2017', 'gdp_2018',\n",
    "       'gdp_2019', 'gdp_2020', 'gdp_2021', 'gdp_2022', 'gdp_2023'\n",
    "]\n",
    "\n",
    "# Compute the correlation matrix for 'target' and the selected variables\n",
    "columns_to_use = ['target'] + variables_to_compare\n",
    "df_corr_matrix = df[columns_to_use].corr()\n",
    "\n",
    "# Take the absolute values of the correlation matrix\n",
    "df_corr_matrix_abs = df_corr_matrix.abs()\n",
    "\n",
    "# Using Plotly Express to generate the heatmap with adjusted grid size\n",
    "fig = px.imshow(df_corr_matrix_abs, \n",
    "                color_continuous_scale='RdBu_r', \n",
    "                title=\"Correlation Heatmap: Target vs GDP Variables\", \n",
    "                template='plotly_dark', \n",
    "                width=1000,  # Set the width of the grid\n",
    "                height=600)  # Set the height of the grid\n",
    "\n",
    "# Show the plot\n",
    "fig.show()\n"
   ]
  },
  {
   "cell_type": "code",
   "execution_count": 325,
   "metadata": {},
   "outputs": [
    {
     "data": {
      "application/vnd.plotly.v1+json": {
       "config": {
        "plotlyServerURL": "https://plot.ly"
       },
       "data": [
        {
         "coloraxis": "coloraxis",
         "hovertemplate": "x: %{x}<br>y: %{y}<br>color: %{z}<extra></extra>",
         "name": "0",
         "type": "heatmap",
         "x": [
          "target",
          "total_reserves_1990",
          "total_reserves_2000",
          "total_reserves_2014",
          "total_reserves_2015",
          "total_reserves_2016",
          "total_reserves_2017",
          "total_reserves_2018",
          "total_reserves_2019",
          "total_reserves_2020",
          "total_reserves_2021",
          "total_reserves_2022",
          "total_reserves_2023"
         ],
         "xaxis": "x",
         "y": [
          "target",
          "total_reserves_1990",
          "total_reserves_2000",
          "total_reserves_2014",
          "total_reserves_2015",
          "total_reserves_2016",
          "total_reserves_2017",
          "total_reserves_2018",
          "total_reserves_2019",
          "total_reserves_2020",
          "total_reserves_2021",
          "total_reserves_2022",
          "total_reserves_2023"
         ],
         "yaxis": "y",
         "z": [
          [
           1,
           0.321260993372172,
           0.29730650930069064,
           0.21081212759821183,
           0.2182896806969374,
           0.22734047606147784,
           0.23100053747581642,
           0.23425438318037656,
           0.23832433247975657,
           0.24635285955911426,
           0.2543310357391181,
           0.25120876693396826,
           0.2522180407892386
          ],
          [
           0.321260993372172,
           1,
           0.6775010778345223,
           0.3120079724587434,
           0.32809051192477234,
           0.35383693434411895,
           0.36382186536322725,
           0.3682378495321627,
           0.38431403733590863,
           0.4091461535407075,
           0.42317505253161763,
           0.41756258277377445,
           0.42195939472885924
          ],
          [
           0.29730650930069064,
           0.6775010778345223,
           1,
           0.6479974636437738,
           0.6741251119188479,
           0.6972447284343194,
           0.6992043554163496,
           0.7064032014184498,
           0.7136586112430279,
           0.7200839190796476,
           0.7235725200390587,
           0.7057083919000906,
           0.7114946906952068
          ],
          [
           0.21081212759821183,
           0.3120079724587434,
           0.6479974636437738,
           1,
           0.9985238289685663,
           0.9946778806031866,
           0.9911417048543801,
           0.9906335615525851,
           0.9876087151532232,
           0.9767861290365408,
           0.9740597584838778,
           0.9817557981418725,
           0.9812912694200574
          ],
          [
           0.2182896806969374,
           0.32809051192477234,
           0.6741251119188479,
           0.9985238289685663,
           1,
           0.998620319071803,
           0.996304193911884,
           0.9960942896087926,
           0.993922119570308,
           0.985353545691442,
           0.982766189126435,
           0.9878335203210279,
           0.9870301139575487
          ],
          [
           0.22734047606147784,
           0.35383693434411895,
           0.6972447284343194,
           0.9946778806031866,
           0.998620319071803,
           1,
           0.9991559967567192,
           0.9991239245990724,
           0.9979888365243644,
           0.9920824692068392,
           0.9898833108927242,
           0.992686297711542,
           0.9914912871191983
          ],
          [
           0.23100053747581642,
           0.36382186536322725,
           0.6992043554163496,
           0.9911417048543801,
           0.996304193911884,
           0.9991559967567192,
           1,
           0.9998481421964378,
           0.9993669526009902,
           0.9956559171675359,
           0.9938330338644219,
           0.9953247303963558,
           0.9938160761275925
          ],
          [
           0.23425438318037656,
           0.3682378495321627,
           0.7064032014184498,
           0.9906335615525851,
           0.9960942896087926,
           0.9991239245990724,
           0.9998481421964378,
           1,
           0.9995095179215496,
           0.9957332724799038,
           0.9939566476946401,
           0.9952513369619855,
           0.9938254883844407
          ],
          [
           0.23832433247975657,
           0.38431403733590863,
           0.7136586112430279,
           0.9876087151532232,
           0.993922119570308,
           0.9979888365243644,
           0.9993669526009902,
           0.9995095179215496,
           1,
           0.9977547816796088,
           0.9963996394166489,
           0.9971410103185664,
           0.9957454244703101
          ],
          [
           0.24635285955911426,
           0.4091461535407075,
           0.7200839190796476,
           0.9767861290365408,
           0.985353545691442,
           0.9920824692068392,
           0.9956559171675359,
           0.9957332724799038,
           0.9977547816796088,
           1,
           0.9995962707532086,
           0.9979006849452168,
           0.9961841315844595
          ],
          [
           0.2543310357391181,
           0.42317505253161763,
           0.7235725200390587,
           0.9740597584838778,
           0.982766189126435,
           0.9898833108927242,
           0.9938330338644219,
           0.9939566476946401,
           0.9963996394166489,
           0.9995962707532086,
           1,
           0.9982316216029987,
           0.9970347971898662
          ],
          [
           0.25120876693396826,
           0.41756258277377445,
           0.7057083919000906,
           0.9817557981418725,
           0.9878335203210279,
           0.992686297711542,
           0.9953247303963558,
           0.9952513369619855,
           0.9971410103185664,
           0.9979006849452168,
           0.9982316216029987,
           1,
           0.9992227918594467
          ],
          [
           0.2522180407892386,
           0.42195939472885924,
           0.7114946906952068,
           0.9812912694200574,
           0.9870301139575487,
           0.9914912871191983,
           0.9938160761275925,
           0.9938254883844407,
           0.9957454244703101,
           0.9961841315844595,
           0.9970347971898662,
           0.9992227918594467,
           1
          ]
         ]
        }
       ],
       "layout": {
        "coloraxis": {
         "colorscale": [
          [
           0,
           "rgb(5,48,97)"
          ],
          [
           0.1,
           "rgb(33,102,172)"
          ],
          [
           0.2,
           "rgb(67,147,195)"
          ],
          [
           0.3,
           "rgb(146,197,222)"
          ],
          [
           0.4,
           "rgb(209,229,240)"
          ],
          [
           0.5,
           "rgb(247,247,247)"
          ],
          [
           0.6,
           "rgb(253,219,199)"
          ],
          [
           0.7,
           "rgb(244,165,130)"
          ],
          [
           0.8,
           "rgb(214,96,77)"
          ],
          [
           0.9,
           "rgb(178,24,43)"
          ],
          [
           1,
           "rgb(103,0,31)"
          ]
         ]
        },
        "height": 600,
        "template": {
         "data": {
          "bar": [
           {
            "error_x": {
             "color": "#f2f5fa"
            },
            "error_y": {
             "color": "#f2f5fa"
            },
            "marker": {
             "line": {
              "color": "rgb(17,17,17)",
              "width": 0.5
             },
             "pattern": {
              "fillmode": "overlay",
              "size": 10,
              "solidity": 0.2
             }
            },
            "type": "bar"
           }
          ],
          "barpolar": [
           {
            "marker": {
             "line": {
              "color": "rgb(17,17,17)",
              "width": 0.5
             },
             "pattern": {
              "fillmode": "overlay",
              "size": 10,
              "solidity": 0.2
             }
            },
            "type": "barpolar"
           }
          ],
          "carpet": [
           {
            "aaxis": {
             "endlinecolor": "#A2B1C6",
             "gridcolor": "#506784",
             "linecolor": "#506784",
             "minorgridcolor": "#506784",
             "startlinecolor": "#A2B1C6"
            },
            "baxis": {
             "endlinecolor": "#A2B1C6",
             "gridcolor": "#506784",
             "linecolor": "#506784",
             "minorgridcolor": "#506784",
             "startlinecolor": "#A2B1C6"
            },
            "type": "carpet"
           }
          ],
          "choropleth": [
           {
            "colorbar": {
             "outlinewidth": 0,
             "ticks": ""
            },
            "type": "choropleth"
           }
          ],
          "contour": [
           {
            "colorbar": {
             "outlinewidth": 0,
             "ticks": ""
            },
            "colorscale": [
             [
              0,
              "#0d0887"
             ],
             [
              0.1111111111111111,
              "#46039f"
             ],
             [
              0.2222222222222222,
              "#7201a8"
             ],
             [
              0.3333333333333333,
              "#9c179e"
             ],
             [
              0.4444444444444444,
              "#bd3786"
             ],
             [
              0.5555555555555556,
              "#d8576b"
             ],
             [
              0.6666666666666666,
              "#ed7953"
             ],
             [
              0.7777777777777778,
              "#fb9f3a"
             ],
             [
              0.8888888888888888,
              "#fdca26"
             ],
             [
              1,
              "#f0f921"
             ]
            ],
            "type": "contour"
           }
          ],
          "contourcarpet": [
           {
            "colorbar": {
             "outlinewidth": 0,
             "ticks": ""
            },
            "type": "contourcarpet"
           }
          ],
          "heatmap": [
           {
            "colorbar": {
             "outlinewidth": 0,
             "ticks": ""
            },
            "colorscale": [
             [
              0,
              "#0d0887"
             ],
             [
              0.1111111111111111,
              "#46039f"
             ],
             [
              0.2222222222222222,
              "#7201a8"
             ],
             [
              0.3333333333333333,
              "#9c179e"
             ],
             [
              0.4444444444444444,
              "#bd3786"
             ],
             [
              0.5555555555555556,
              "#d8576b"
             ],
             [
              0.6666666666666666,
              "#ed7953"
             ],
             [
              0.7777777777777778,
              "#fb9f3a"
             ],
             [
              0.8888888888888888,
              "#fdca26"
             ],
             [
              1,
              "#f0f921"
             ]
            ],
            "type": "heatmap"
           }
          ],
          "heatmapgl": [
           {
            "colorbar": {
             "outlinewidth": 0,
             "ticks": ""
            },
            "colorscale": [
             [
              0,
              "#0d0887"
             ],
             [
              0.1111111111111111,
              "#46039f"
             ],
             [
              0.2222222222222222,
              "#7201a8"
             ],
             [
              0.3333333333333333,
              "#9c179e"
             ],
             [
              0.4444444444444444,
              "#bd3786"
             ],
             [
              0.5555555555555556,
              "#d8576b"
             ],
             [
              0.6666666666666666,
              "#ed7953"
             ],
             [
              0.7777777777777778,
              "#fb9f3a"
             ],
             [
              0.8888888888888888,
              "#fdca26"
             ],
             [
              1,
              "#f0f921"
             ]
            ],
            "type": "heatmapgl"
           }
          ],
          "histogram": [
           {
            "marker": {
             "pattern": {
              "fillmode": "overlay",
              "size": 10,
              "solidity": 0.2
             }
            },
            "type": "histogram"
           }
          ],
          "histogram2d": [
           {
            "colorbar": {
             "outlinewidth": 0,
             "ticks": ""
            },
            "colorscale": [
             [
              0,
              "#0d0887"
             ],
             [
              0.1111111111111111,
              "#46039f"
             ],
             [
              0.2222222222222222,
              "#7201a8"
             ],
             [
              0.3333333333333333,
              "#9c179e"
             ],
             [
              0.4444444444444444,
              "#bd3786"
             ],
             [
              0.5555555555555556,
              "#d8576b"
             ],
             [
              0.6666666666666666,
              "#ed7953"
             ],
             [
              0.7777777777777778,
              "#fb9f3a"
             ],
             [
              0.8888888888888888,
              "#fdca26"
             ],
             [
              1,
              "#f0f921"
             ]
            ],
            "type": "histogram2d"
           }
          ],
          "histogram2dcontour": [
           {
            "colorbar": {
             "outlinewidth": 0,
             "ticks": ""
            },
            "colorscale": [
             [
              0,
              "#0d0887"
             ],
             [
              0.1111111111111111,
              "#46039f"
             ],
             [
              0.2222222222222222,
              "#7201a8"
             ],
             [
              0.3333333333333333,
              "#9c179e"
             ],
             [
              0.4444444444444444,
              "#bd3786"
             ],
             [
              0.5555555555555556,
              "#d8576b"
             ],
             [
              0.6666666666666666,
              "#ed7953"
             ],
             [
              0.7777777777777778,
              "#fb9f3a"
             ],
             [
              0.8888888888888888,
              "#fdca26"
             ],
             [
              1,
              "#f0f921"
             ]
            ],
            "type": "histogram2dcontour"
           }
          ],
          "mesh3d": [
           {
            "colorbar": {
             "outlinewidth": 0,
             "ticks": ""
            },
            "type": "mesh3d"
           }
          ],
          "parcoords": [
           {
            "line": {
             "colorbar": {
              "outlinewidth": 0,
              "ticks": ""
             }
            },
            "type": "parcoords"
           }
          ],
          "pie": [
           {
            "automargin": true,
            "type": "pie"
           }
          ],
          "scatter": [
           {
            "marker": {
             "line": {
              "color": "#283442"
             }
            },
            "type": "scatter"
           }
          ],
          "scatter3d": [
           {
            "line": {
             "colorbar": {
              "outlinewidth": 0,
              "ticks": ""
             }
            },
            "marker": {
             "colorbar": {
              "outlinewidth": 0,
              "ticks": ""
             }
            },
            "type": "scatter3d"
           }
          ],
          "scattercarpet": [
           {
            "marker": {
             "colorbar": {
              "outlinewidth": 0,
              "ticks": ""
             }
            },
            "type": "scattercarpet"
           }
          ],
          "scattergeo": [
           {
            "marker": {
             "colorbar": {
              "outlinewidth": 0,
              "ticks": ""
             }
            },
            "type": "scattergeo"
           }
          ],
          "scattergl": [
           {
            "marker": {
             "line": {
              "color": "#283442"
             }
            },
            "type": "scattergl"
           }
          ],
          "scattermapbox": [
           {
            "marker": {
             "colorbar": {
              "outlinewidth": 0,
              "ticks": ""
             }
            },
            "type": "scattermapbox"
           }
          ],
          "scatterpolar": [
           {
            "marker": {
             "colorbar": {
              "outlinewidth": 0,
              "ticks": ""
             }
            },
            "type": "scatterpolar"
           }
          ],
          "scatterpolargl": [
           {
            "marker": {
             "colorbar": {
              "outlinewidth": 0,
              "ticks": ""
             }
            },
            "type": "scatterpolargl"
           }
          ],
          "scatterternary": [
           {
            "marker": {
             "colorbar": {
              "outlinewidth": 0,
              "ticks": ""
             }
            },
            "type": "scatterternary"
           }
          ],
          "surface": [
           {
            "colorbar": {
             "outlinewidth": 0,
             "ticks": ""
            },
            "colorscale": [
             [
              0,
              "#0d0887"
             ],
             [
              0.1111111111111111,
              "#46039f"
             ],
             [
              0.2222222222222222,
              "#7201a8"
             ],
             [
              0.3333333333333333,
              "#9c179e"
             ],
             [
              0.4444444444444444,
              "#bd3786"
             ],
             [
              0.5555555555555556,
              "#d8576b"
             ],
             [
              0.6666666666666666,
              "#ed7953"
             ],
             [
              0.7777777777777778,
              "#fb9f3a"
             ],
             [
              0.8888888888888888,
              "#fdca26"
             ],
             [
              1,
              "#f0f921"
             ]
            ],
            "type": "surface"
           }
          ],
          "table": [
           {
            "cells": {
             "fill": {
              "color": "#506784"
             },
             "line": {
              "color": "rgb(17,17,17)"
             }
            },
            "header": {
             "fill": {
              "color": "#2a3f5f"
             },
             "line": {
              "color": "rgb(17,17,17)"
             }
            },
            "type": "table"
           }
          ]
         },
         "layout": {
          "annotationdefaults": {
           "arrowcolor": "#f2f5fa",
           "arrowhead": 0,
           "arrowwidth": 1
          },
          "autotypenumbers": "strict",
          "coloraxis": {
           "colorbar": {
            "outlinewidth": 0,
            "ticks": ""
           }
          },
          "colorscale": {
           "diverging": [
            [
             0,
             "#8e0152"
            ],
            [
             0.1,
             "#c51b7d"
            ],
            [
             0.2,
             "#de77ae"
            ],
            [
             0.3,
             "#f1b6da"
            ],
            [
             0.4,
             "#fde0ef"
            ],
            [
             0.5,
             "#f7f7f7"
            ],
            [
             0.6,
             "#e6f5d0"
            ],
            [
             0.7,
             "#b8e186"
            ],
            [
             0.8,
             "#7fbc41"
            ],
            [
             0.9,
             "#4d9221"
            ],
            [
             1,
             "#276419"
            ]
           ],
           "sequential": [
            [
             0,
             "#0d0887"
            ],
            [
             0.1111111111111111,
             "#46039f"
            ],
            [
             0.2222222222222222,
             "#7201a8"
            ],
            [
             0.3333333333333333,
             "#9c179e"
            ],
            [
             0.4444444444444444,
             "#bd3786"
            ],
            [
             0.5555555555555556,
             "#d8576b"
            ],
            [
             0.6666666666666666,
             "#ed7953"
            ],
            [
             0.7777777777777778,
             "#fb9f3a"
            ],
            [
             0.8888888888888888,
             "#fdca26"
            ],
            [
             1,
             "#f0f921"
            ]
           ],
           "sequentialminus": [
            [
             0,
             "#0d0887"
            ],
            [
             0.1111111111111111,
             "#46039f"
            ],
            [
             0.2222222222222222,
             "#7201a8"
            ],
            [
             0.3333333333333333,
             "#9c179e"
            ],
            [
             0.4444444444444444,
             "#bd3786"
            ],
            [
             0.5555555555555556,
             "#d8576b"
            ],
            [
             0.6666666666666666,
             "#ed7953"
            ],
            [
             0.7777777777777778,
             "#fb9f3a"
            ],
            [
             0.8888888888888888,
             "#fdca26"
            ],
            [
             1,
             "#f0f921"
            ]
           ]
          },
          "colorway": [
           "#636efa",
           "#EF553B",
           "#00cc96",
           "#ab63fa",
           "#FFA15A",
           "#19d3f3",
           "#FF6692",
           "#B6E880",
           "#FF97FF",
           "#FECB52"
          ],
          "font": {
           "color": "#f2f5fa"
          },
          "geo": {
           "bgcolor": "rgb(17,17,17)",
           "lakecolor": "rgb(17,17,17)",
           "landcolor": "rgb(17,17,17)",
           "showlakes": true,
           "showland": true,
           "subunitcolor": "#506784"
          },
          "hoverlabel": {
           "align": "left"
          },
          "hovermode": "closest",
          "mapbox": {
           "style": "dark"
          },
          "paper_bgcolor": "rgb(17,17,17)",
          "plot_bgcolor": "rgb(17,17,17)",
          "polar": {
           "angularaxis": {
            "gridcolor": "#506784",
            "linecolor": "#506784",
            "ticks": ""
           },
           "bgcolor": "rgb(17,17,17)",
           "radialaxis": {
            "gridcolor": "#506784",
            "linecolor": "#506784",
            "ticks": ""
           }
          },
          "scene": {
           "xaxis": {
            "backgroundcolor": "rgb(17,17,17)",
            "gridcolor": "#506784",
            "gridwidth": 2,
            "linecolor": "#506784",
            "showbackground": true,
            "ticks": "",
            "zerolinecolor": "#C8D4E3"
           },
           "yaxis": {
            "backgroundcolor": "rgb(17,17,17)",
            "gridcolor": "#506784",
            "gridwidth": 2,
            "linecolor": "#506784",
            "showbackground": true,
            "ticks": "",
            "zerolinecolor": "#C8D4E3"
           },
           "zaxis": {
            "backgroundcolor": "rgb(17,17,17)",
            "gridcolor": "#506784",
            "gridwidth": 2,
            "linecolor": "#506784",
            "showbackground": true,
            "ticks": "",
            "zerolinecolor": "#C8D4E3"
           }
          },
          "shapedefaults": {
           "line": {
            "color": "#f2f5fa"
           }
          },
          "sliderdefaults": {
           "bgcolor": "#C8D4E3",
           "bordercolor": "rgb(17,17,17)",
           "borderwidth": 1,
           "tickwidth": 0
          },
          "ternary": {
           "aaxis": {
            "gridcolor": "#506784",
            "linecolor": "#506784",
            "ticks": ""
           },
           "baxis": {
            "gridcolor": "#506784",
            "linecolor": "#506784",
            "ticks": ""
           },
           "bgcolor": "rgb(17,17,17)",
           "caxis": {
            "gridcolor": "#506784",
            "linecolor": "#506784",
            "ticks": ""
           }
          },
          "title": {
           "x": 0.05
          },
          "updatemenudefaults": {
           "bgcolor": "#506784",
           "borderwidth": 0
          },
          "xaxis": {
           "automargin": true,
           "gridcolor": "#283442",
           "linecolor": "#506784",
           "ticks": "",
           "title": {
            "standoff": 15
           },
           "zerolinecolor": "#283442",
           "zerolinewidth": 2
          },
          "yaxis": {
           "automargin": true,
           "gridcolor": "#283442",
           "linecolor": "#506784",
           "ticks": "",
           "title": {
            "standoff": 15
           },
           "zerolinecolor": "#283442",
           "zerolinewidth": 2
          }
         }
        },
        "title": {
         "text": "Correlation Heatmap: Target vs Total Reserves Variables"
        },
        "width": 1000,
        "xaxis": {
         "anchor": "y",
         "constrain": "domain",
         "domain": [
          0,
          1
         ],
         "scaleanchor": "y"
        },
        "yaxis": {
         "anchor": "x",
         "autorange": "reversed",
         "constrain": "domain",
         "domain": [
          0,
          1
         ]
        }
       }
      }
     },
     "metadata": {},
     "output_type": "display_data"
    }
   ],
   "source": [
    "# Variables to compare\n",
    "variables_to_compare = ['total_reserves_1990', 'total_reserves_2000', 'total_reserves_2014',\n",
    "       'total_reserves_2015', 'total_reserves_2016', 'total_reserves_2017',\n",
    "       'total_reserves_2018', 'total_reserves_2019', 'total_reserves_2020',\n",
    "       'total_reserves_2021', 'total_reserves_2022', 'total_reserves_2023'\n",
    "]\n",
    "\n",
    "# Compute the correlation matrix for 'target' and the selected variables\n",
    "columns_to_use = ['target'] + variables_to_compare\n",
    "df_corr_matrix = df[columns_to_use].corr()\n",
    "\n",
    "# Take the absolute values of the correlation matrix\n",
    "df_corr_matrix_abs = df_corr_matrix.abs()\n",
    "\n",
    "# Using Plotly Express to generate the heatmap with adjusted grid size\n",
    "fig = px.imshow(df_corr_matrix_abs, \n",
    "                color_continuous_scale='RdBu_r', \n",
    "                title=\"Correlation Heatmap: Target vs Total Reserves Variables\", \n",
    "                template='plotly_dark', \n",
    "                width=1000,  # Set the width of the grid\n",
    "                height=600)  # Set the height of the grid\n",
    "\n",
    "# Show the plot\n",
    "fig.show()\n"
   ]
  },
  {
   "cell_type": "code",
   "execution_count": 328,
   "metadata": {},
   "outputs": [
    {
     "data": {
      "application/vnd.plotly.v1+json": {
       "config": {
        "plotlyServerURL": "https://plot.ly"
       },
       "data": [
        {
         "coloraxis": "coloraxis",
         "hovertemplate": "x: %{x}<br>y: %{y}<br>color: %{z}<extra></extra>",
         "name": "0",
         "type": "heatmap",
         "x": [
          "target",
          "inflation_2023",
          "gdp_1990",
          "gdp_2023",
          "unemployment_2023",
          "current_account_balance_2023",
          "total_reserves_1990",
          "total_reserves_2023"
         ],
         "xaxis": "x",
         "y": [
          "target",
          "inflation_2023",
          "gdp_1990",
          "gdp_2023",
          "unemployment_2023",
          "current_account_balance_2023",
          "total_reserves_1990",
          "total_reserves_2023"
         ],
         "yaxis": "y",
         "z": [
          [
           1,
           0.2296491499984343,
           0.2448150991435443,
           0.23062364823850612,
           0.18786885510108994,
           0.16894280875068304,
           0.321260993372172,
           0.2522180407892386
          ],
          [
           0.2296491499984343,
           1,
           0.02225591107323926,
           0.02273405182348022,
           0.0024849796023325784,
           0.7478599295874475,
           0.12972696640904466,
           0.03740737832921267
          ],
          [
           0.2448150991435443,
           0.02225591107323926,
           1,
           0.8121496958267332,
           0.09015468352813827,
           0.019969088018148822,
           0.8816481463703058,
           0.36852145413905096
          ],
          [
           0.23062364823850612,
           0.02273405182348022,
           0.8121496958267332,
           1,
           0.09866788704806806,
           0.020550166344618617,
           0.7214245202952836,
           0.6804266241782169
          ],
          [
           0.18786885510108994,
           0.0024849796023325784,
           0.09015468352813827,
           0.09866788704806806,
           1,
           0.004699183704043873,
           0.09639896369757349,
           0.11577375273102954
          ],
          [
           0.16894280875068304,
           0.7478599295874475,
           0.019969088018148822,
           0.020550166344618617,
           0.004699183704043873,
           1,
           0.18730498750276053,
           0.02508445549127504
          ],
          [
           0.321260993372172,
           0.12972696640904466,
           0.8816481463703058,
           0.7214245202952836,
           0.09639896369757349,
           0.18730498750276053,
           1,
           0.42195939472885924
          ],
          [
           0.2522180407892386,
           0.03740737832921267,
           0.36852145413905096,
           0.6804266241782169,
           0.11577375273102954,
           0.02508445549127504,
           0.42195939472885924,
           1
          ]
         ]
        }
       ],
       "layout": {
        "coloraxis": {
         "colorscale": [
          [
           0,
           "rgb(5,48,97)"
          ],
          [
           0.1,
           "rgb(33,102,172)"
          ],
          [
           0.2,
           "rgb(67,147,195)"
          ],
          [
           0.3,
           "rgb(146,197,222)"
          ],
          [
           0.4,
           "rgb(209,229,240)"
          ],
          [
           0.5,
           "rgb(247,247,247)"
          ],
          [
           0.6,
           "rgb(253,219,199)"
          ],
          [
           0.7,
           "rgb(244,165,130)"
          ],
          [
           0.8,
           "rgb(214,96,77)"
          ],
          [
           0.9,
           "rgb(178,24,43)"
          ],
          [
           1,
           "rgb(103,0,31)"
          ]
         ]
        },
        "height": 600,
        "template": {
         "data": {
          "bar": [
           {
            "error_x": {
             "color": "#f2f5fa"
            },
            "error_y": {
             "color": "#f2f5fa"
            },
            "marker": {
             "line": {
              "color": "rgb(17,17,17)",
              "width": 0.5
             },
             "pattern": {
              "fillmode": "overlay",
              "size": 10,
              "solidity": 0.2
             }
            },
            "type": "bar"
           }
          ],
          "barpolar": [
           {
            "marker": {
             "line": {
              "color": "rgb(17,17,17)",
              "width": 0.5
             },
             "pattern": {
              "fillmode": "overlay",
              "size": 10,
              "solidity": 0.2
             }
            },
            "type": "barpolar"
           }
          ],
          "carpet": [
           {
            "aaxis": {
             "endlinecolor": "#A2B1C6",
             "gridcolor": "#506784",
             "linecolor": "#506784",
             "minorgridcolor": "#506784",
             "startlinecolor": "#A2B1C6"
            },
            "baxis": {
             "endlinecolor": "#A2B1C6",
             "gridcolor": "#506784",
             "linecolor": "#506784",
             "minorgridcolor": "#506784",
             "startlinecolor": "#A2B1C6"
            },
            "type": "carpet"
           }
          ],
          "choropleth": [
           {
            "colorbar": {
             "outlinewidth": 0,
             "ticks": ""
            },
            "type": "choropleth"
           }
          ],
          "contour": [
           {
            "colorbar": {
             "outlinewidth": 0,
             "ticks": ""
            },
            "colorscale": [
             [
              0,
              "#0d0887"
             ],
             [
              0.1111111111111111,
              "#46039f"
             ],
             [
              0.2222222222222222,
              "#7201a8"
             ],
             [
              0.3333333333333333,
              "#9c179e"
             ],
             [
              0.4444444444444444,
              "#bd3786"
             ],
             [
              0.5555555555555556,
              "#d8576b"
             ],
             [
              0.6666666666666666,
              "#ed7953"
             ],
             [
              0.7777777777777778,
              "#fb9f3a"
             ],
             [
              0.8888888888888888,
              "#fdca26"
             ],
             [
              1,
              "#f0f921"
             ]
            ],
            "type": "contour"
           }
          ],
          "contourcarpet": [
           {
            "colorbar": {
             "outlinewidth": 0,
             "ticks": ""
            },
            "type": "contourcarpet"
           }
          ],
          "heatmap": [
           {
            "colorbar": {
             "outlinewidth": 0,
             "ticks": ""
            },
            "colorscale": [
             [
              0,
              "#0d0887"
             ],
             [
              0.1111111111111111,
              "#46039f"
             ],
             [
              0.2222222222222222,
              "#7201a8"
             ],
             [
              0.3333333333333333,
              "#9c179e"
             ],
             [
              0.4444444444444444,
              "#bd3786"
             ],
             [
              0.5555555555555556,
              "#d8576b"
             ],
             [
              0.6666666666666666,
              "#ed7953"
             ],
             [
              0.7777777777777778,
              "#fb9f3a"
             ],
             [
              0.8888888888888888,
              "#fdca26"
             ],
             [
              1,
              "#f0f921"
             ]
            ],
            "type": "heatmap"
           }
          ],
          "heatmapgl": [
           {
            "colorbar": {
             "outlinewidth": 0,
             "ticks": ""
            },
            "colorscale": [
             [
              0,
              "#0d0887"
             ],
             [
              0.1111111111111111,
              "#46039f"
             ],
             [
              0.2222222222222222,
              "#7201a8"
             ],
             [
              0.3333333333333333,
              "#9c179e"
             ],
             [
              0.4444444444444444,
              "#bd3786"
             ],
             [
              0.5555555555555556,
              "#d8576b"
             ],
             [
              0.6666666666666666,
              "#ed7953"
             ],
             [
              0.7777777777777778,
              "#fb9f3a"
             ],
             [
              0.8888888888888888,
              "#fdca26"
             ],
             [
              1,
              "#f0f921"
             ]
            ],
            "type": "heatmapgl"
           }
          ],
          "histogram": [
           {
            "marker": {
             "pattern": {
              "fillmode": "overlay",
              "size": 10,
              "solidity": 0.2
             }
            },
            "type": "histogram"
           }
          ],
          "histogram2d": [
           {
            "colorbar": {
             "outlinewidth": 0,
             "ticks": ""
            },
            "colorscale": [
             [
              0,
              "#0d0887"
             ],
             [
              0.1111111111111111,
              "#46039f"
             ],
             [
              0.2222222222222222,
              "#7201a8"
             ],
             [
              0.3333333333333333,
              "#9c179e"
             ],
             [
              0.4444444444444444,
              "#bd3786"
             ],
             [
              0.5555555555555556,
              "#d8576b"
             ],
             [
              0.6666666666666666,
              "#ed7953"
             ],
             [
              0.7777777777777778,
              "#fb9f3a"
             ],
             [
              0.8888888888888888,
              "#fdca26"
             ],
             [
              1,
              "#f0f921"
             ]
            ],
            "type": "histogram2d"
           }
          ],
          "histogram2dcontour": [
           {
            "colorbar": {
             "outlinewidth": 0,
             "ticks": ""
            },
            "colorscale": [
             [
              0,
              "#0d0887"
             ],
             [
              0.1111111111111111,
              "#46039f"
             ],
             [
              0.2222222222222222,
              "#7201a8"
             ],
             [
              0.3333333333333333,
              "#9c179e"
             ],
             [
              0.4444444444444444,
              "#bd3786"
             ],
             [
              0.5555555555555556,
              "#d8576b"
             ],
             [
              0.6666666666666666,
              "#ed7953"
             ],
             [
              0.7777777777777778,
              "#fb9f3a"
             ],
             [
              0.8888888888888888,
              "#fdca26"
             ],
             [
              1,
              "#f0f921"
             ]
            ],
            "type": "histogram2dcontour"
           }
          ],
          "mesh3d": [
           {
            "colorbar": {
             "outlinewidth": 0,
             "ticks": ""
            },
            "type": "mesh3d"
           }
          ],
          "parcoords": [
           {
            "line": {
             "colorbar": {
              "outlinewidth": 0,
              "ticks": ""
             }
            },
            "type": "parcoords"
           }
          ],
          "pie": [
           {
            "automargin": true,
            "type": "pie"
           }
          ],
          "scatter": [
           {
            "marker": {
             "line": {
              "color": "#283442"
             }
            },
            "type": "scatter"
           }
          ],
          "scatter3d": [
           {
            "line": {
             "colorbar": {
              "outlinewidth": 0,
              "ticks": ""
             }
            },
            "marker": {
             "colorbar": {
              "outlinewidth": 0,
              "ticks": ""
             }
            },
            "type": "scatter3d"
           }
          ],
          "scattercarpet": [
           {
            "marker": {
             "colorbar": {
              "outlinewidth": 0,
              "ticks": ""
             }
            },
            "type": "scattercarpet"
           }
          ],
          "scattergeo": [
           {
            "marker": {
             "colorbar": {
              "outlinewidth": 0,
              "ticks": ""
             }
            },
            "type": "scattergeo"
           }
          ],
          "scattergl": [
           {
            "marker": {
             "line": {
              "color": "#283442"
             }
            },
            "type": "scattergl"
           }
          ],
          "scattermapbox": [
           {
            "marker": {
             "colorbar": {
              "outlinewidth": 0,
              "ticks": ""
             }
            },
            "type": "scattermapbox"
           }
          ],
          "scatterpolar": [
           {
            "marker": {
             "colorbar": {
              "outlinewidth": 0,
              "ticks": ""
             }
            },
            "type": "scatterpolar"
           }
          ],
          "scatterpolargl": [
           {
            "marker": {
             "colorbar": {
              "outlinewidth": 0,
              "ticks": ""
             }
            },
            "type": "scatterpolargl"
           }
          ],
          "scatterternary": [
           {
            "marker": {
             "colorbar": {
              "outlinewidth": 0,
              "ticks": ""
             }
            },
            "type": "scatterternary"
           }
          ],
          "surface": [
           {
            "colorbar": {
             "outlinewidth": 0,
             "ticks": ""
            },
            "colorscale": [
             [
              0,
              "#0d0887"
             ],
             [
              0.1111111111111111,
              "#46039f"
             ],
             [
              0.2222222222222222,
              "#7201a8"
             ],
             [
              0.3333333333333333,
              "#9c179e"
             ],
             [
              0.4444444444444444,
              "#bd3786"
             ],
             [
              0.5555555555555556,
              "#d8576b"
             ],
             [
              0.6666666666666666,
              "#ed7953"
             ],
             [
              0.7777777777777778,
              "#fb9f3a"
             ],
             [
              0.8888888888888888,
              "#fdca26"
             ],
             [
              1,
              "#f0f921"
             ]
            ],
            "type": "surface"
           }
          ],
          "table": [
           {
            "cells": {
             "fill": {
              "color": "#506784"
             },
             "line": {
              "color": "rgb(17,17,17)"
             }
            },
            "header": {
             "fill": {
              "color": "#2a3f5f"
             },
             "line": {
              "color": "rgb(17,17,17)"
             }
            },
            "type": "table"
           }
          ]
         },
         "layout": {
          "annotationdefaults": {
           "arrowcolor": "#f2f5fa",
           "arrowhead": 0,
           "arrowwidth": 1
          },
          "autotypenumbers": "strict",
          "coloraxis": {
           "colorbar": {
            "outlinewidth": 0,
            "ticks": ""
           }
          },
          "colorscale": {
           "diverging": [
            [
             0,
             "#8e0152"
            ],
            [
             0.1,
             "#c51b7d"
            ],
            [
             0.2,
             "#de77ae"
            ],
            [
             0.3,
             "#f1b6da"
            ],
            [
             0.4,
             "#fde0ef"
            ],
            [
             0.5,
             "#f7f7f7"
            ],
            [
             0.6,
             "#e6f5d0"
            ],
            [
             0.7,
             "#b8e186"
            ],
            [
             0.8,
             "#7fbc41"
            ],
            [
             0.9,
             "#4d9221"
            ],
            [
             1,
             "#276419"
            ]
           ],
           "sequential": [
            [
             0,
             "#0d0887"
            ],
            [
             0.1111111111111111,
             "#46039f"
            ],
            [
             0.2222222222222222,
             "#7201a8"
            ],
            [
             0.3333333333333333,
             "#9c179e"
            ],
            [
             0.4444444444444444,
             "#bd3786"
            ],
            [
             0.5555555555555556,
             "#d8576b"
            ],
            [
             0.6666666666666666,
             "#ed7953"
            ],
            [
             0.7777777777777778,
             "#fb9f3a"
            ],
            [
             0.8888888888888888,
             "#fdca26"
            ],
            [
             1,
             "#f0f921"
            ]
           ],
           "sequentialminus": [
            [
             0,
             "#0d0887"
            ],
            [
             0.1111111111111111,
             "#46039f"
            ],
            [
             0.2222222222222222,
             "#7201a8"
            ],
            [
             0.3333333333333333,
             "#9c179e"
            ],
            [
             0.4444444444444444,
             "#bd3786"
            ],
            [
             0.5555555555555556,
             "#d8576b"
            ],
            [
             0.6666666666666666,
             "#ed7953"
            ],
            [
             0.7777777777777778,
             "#fb9f3a"
            ],
            [
             0.8888888888888888,
             "#fdca26"
            ],
            [
             1,
             "#f0f921"
            ]
           ]
          },
          "colorway": [
           "#636efa",
           "#EF553B",
           "#00cc96",
           "#ab63fa",
           "#FFA15A",
           "#19d3f3",
           "#FF6692",
           "#B6E880",
           "#FF97FF",
           "#FECB52"
          ],
          "font": {
           "color": "#f2f5fa"
          },
          "geo": {
           "bgcolor": "rgb(17,17,17)",
           "lakecolor": "rgb(17,17,17)",
           "landcolor": "rgb(17,17,17)",
           "showlakes": true,
           "showland": true,
           "subunitcolor": "#506784"
          },
          "hoverlabel": {
           "align": "left"
          },
          "hovermode": "closest",
          "mapbox": {
           "style": "dark"
          },
          "paper_bgcolor": "rgb(17,17,17)",
          "plot_bgcolor": "rgb(17,17,17)",
          "polar": {
           "angularaxis": {
            "gridcolor": "#506784",
            "linecolor": "#506784",
            "ticks": ""
           },
           "bgcolor": "rgb(17,17,17)",
           "radialaxis": {
            "gridcolor": "#506784",
            "linecolor": "#506784",
            "ticks": ""
           }
          },
          "scene": {
           "xaxis": {
            "backgroundcolor": "rgb(17,17,17)",
            "gridcolor": "#506784",
            "gridwidth": 2,
            "linecolor": "#506784",
            "showbackground": true,
            "ticks": "",
            "zerolinecolor": "#C8D4E3"
           },
           "yaxis": {
            "backgroundcolor": "rgb(17,17,17)",
            "gridcolor": "#506784",
            "gridwidth": 2,
            "linecolor": "#506784",
            "showbackground": true,
            "ticks": "",
            "zerolinecolor": "#C8D4E3"
           },
           "zaxis": {
            "backgroundcolor": "rgb(17,17,17)",
            "gridcolor": "#506784",
            "gridwidth": 2,
            "linecolor": "#506784",
            "showbackground": true,
            "ticks": "",
            "zerolinecolor": "#C8D4E3"
           }
          },
          "shapedefaults": {
           "line": {
            "color": "#f2f5fa"
           }
          },
          "sliderdefaults": {
           "bgcolor": "#C8D4E3",
           "bordercolor": "rgb(17,17,17)",
           "borderwidth": 1,
           "tickwidth": 0
          },
          "ternary": {
           "aaxis": {
            "gridcolor": "#506784",
            "linecolor": "#506784",
            "ticks": ""
           },
           "baxis": {
            "gridcolor": "#506784",
            "linecolor": "#506784",
            "ticks": ""
           },
           "bgcolor": "rgb(17,17,17)",
           "caxis": {
            "gridcolor": "#506784",
            "linecolor": "#506784",
            "ticks": ""
           }
          },
          "title": {
           "x": 0.05
          },
          "updatemenudefaults": {
           "bgcolor": "#506784",
           "borderwidth": 0
          },
          "xaxis": {
           "automargin": true,
           "gridcolor": "#283442",
           "linecolor": "#506784",
           "ticks": "",
           "title": {
            "standoff": 15
           },
           "zerolinecolor": "#283442",
           "zerolinewidth": 2
          },
          "yaxis": {
           "automargin": true,
           "gridcolor": "#283442",
           "linecolor": "#506784",
           "ticks": "",
           "title": {
            "standoff": 15
           },
           "zerolinecolor": "#283442",
           "zerolinewidth": 2
          }
         }
        },
        "title": {
         "text": "Correlation Heatmap: Target vs 2023 (and 1990) Variables"
        },
        "width": 1000,
        "xaxis": {
         "anchor": "y",
         "constrain": "domain",
         "domain": [
          0,
          1
         ],
         "scaleanchor": "y"
        },
        "yaxis": {
         "anchor": "x",
         "autorange": "reversed",
         "constrain": "domain",
         "domain": [
          0,
          1
         ]
        }
       }
      }
     },
     "metadata": {},
     "output_type": "display_data"
    }
   ],
   "source": [
    "# Variables to compare\n",
    "variables_to_compare = [ 'inflation_2023', 'gdp_1990', 'gdp_2023', 'unemployment_2023', 'current_account_balance_2023',\n",
    "                        'total_reserves_1990', 'total_reserves_2023']\n",
    "\n",
    "# Compute the correlation matrix for 'target' and the selected variables\n",
    "columns_to_use = ['target'] + variables_to_compare\n",
    "df_corr_matrix = df[columns_to_use].corr()\n",
    "\n",
    "# Take the absolute values of the correlation matrix\n",
    "df_corr_matrix_abs = df_corr_matrix.abs()\n",
    "\n",
    "# Using Plotly Express to generate the heatmap with adjusted grid size\n",
    "fig = px.imshow(df_corr_matrix_abs, \n",
    "                color_continuous_scale='RdBu_r', \n",
    "                title=\"Correlation Heatmap: Target vs 2023 (and 1990) Variables\", \n",
    "                template='plotly_dark', \n",
    "                width=1000,  # Set the width of the grid\n",
    "                height=600)  # Set the height of the grid\n",
    "\n",
    "# Show the plot\n",
    "fig.show()\n"
   ]
  },
  {
   "cell_type": "code",
   "execution_count": null,
   "metadata": {},
   "outputs": [],
   "source": []
  },
  {
   "cell_type": "code",
   "execution_count": 320,
   "metadata": {},
   "outputs": [
    {
     "name": "stdout",
     "output_type": "stream",
     "text": [
      "Index(['unemployment_2000', 'unemployment_2014', 'unemployment_2015',\n",
      "       'unemployment_2016', 'unemployment_2017', 'unemployment_2018',\n",
      "       'unemployment_2019', 'unemployment_2020', 'unemployment_2021',\n",
      "       'unemployment_2022', 'unemployment_2023',\n",
      "       'current_account_balance_1990', 'current_account_balance_2000',\n",
      "       'current_account_balance_2014', 'current_account_balance_2015',\n",
      "       'current_account_balance_2016', 'current_account_balance_2017',\n",
      "       'current_account_balance_2018', 'current_account_balance_2019',\n",
      "       'current_account_balance_2020'],\n",
      "      dtype='object')\n",
      "Index(['current_account_balance_2021', 'current_account_balance_2022',\n",
      "       'current_account_balance_2023', 'exchange_rate_usd_1990',\n",
      "       'exchange_rate_usd_2000', 'exchange_rate_usd_2014',\n",
      "       'exchange_rate_usd_2015', 'exchange_rate_usd_2016',\n",
      "       'exchange_rate_usd_2017', 'exchange_rate_usd_2018',\n",
      "       'exchange_rate_usd_2019', 'exchange_rate_usd_2020',\n",
      "       'exchange_rate_usd_2021', 'exchange_rate_usd_2022',\n",
      "       'exchange_rate_usd_2023', 'gdp_1990', 'gdp_2000', 'gdp_2014',\n",
      "       'gdp_2015', 'gdp_2016'],\n",
      "      dtype='object')\n",
      "Index(['gdp_2017', 'gdp_2018', 'gdp_2019', 'gdp_2020', 'gdp_2021', 'gdp_2022',\n",
      "       'gdp_2023', 'inflation_1990', 'inflation_2000', 'inflation_2014',\n",
      "       'inflation_2015', 'inflation_2016', 'inflation_2017', 'inflation_2018',\n",
      "       'inflation_2019', 'inflation_2020', 'inflation_2021', 'inflation_2022',\n",
      "       'inflation_2023', 'total_reserves_1990'],\n",
      "      dtype='object')\n",
      "Index(['total_reserves_2000', 'total_reserves_2014', 'total_reserves_2015',\n",
      "       'total_reserves_2016', 'total_reserves_2017', 'total_reserves_2018',\n",
      "       'total_reserves_2019', 'total_reserves_2020', 'total_reserves_2021',\n",
      "       'total_reserves_2022', 'total_reserves_2023', 'target',\n",
      "       'cab_to_gdp_1990', 'cab_to_gdp_2000', 'cab_to_gdp_2014',\n",
      "       'cab_to_gdp_2015', 'cab_to_gdp_2016', 'cab_to_gdp_2017',\n",
      "       'cab_to_gdp_2018', 'cab_to_gdp_2019'],\n",
      "      dtype='object')\n",
      "Index(['cab_to_gdp_2020', 'cab_to_gdp_2021', 'cab_to_gdp_2022',\n",
      "       'cab_to_gdp_2023', 'reserves_to_gdp_1990', 'reserves_to_gdp_2000',\n",
      "       'reserves_to_gdp_2014', 'reserves_to_gdp_2015', 'reserves_to_gdp_2016',\n",
      "       'reserves_to_gdp_2017', 'reserves_to_gdp_2018', 'reserves_to_gdp_2019',\n",
      "       'reserves_to_gdp_2020', 'reserves_to_gdp_2021', 'reserves_to_gdp_2022',\n",
      "       'reserves_to_gdp_2023', 'gdp_growth_2014_2015', 'gdp_growth_2015_2016',\n",
      "       'gdp_growth_2016_2017', 'gdp_growth_2017_2018'],\n",
      "      dtype='object')\n",
      "Index(['gdp_growth_2018_2019', 'gdp_growth_2019_2020', 'gdp_growth_2020_2021',\n",
      "       'gdp_growth_2021_2022', 'gdp_growth_2022_2023'],\n",
      "      dtype='object')\n"
     ]
    }
   ],
   "source": [
    "# Print column names in chunks (e.g., every 20 columns)\n",
    "columns = df.columns\n",
    "chunk_size = 20\n",
    "\n",
    "for i in range(0, len(columns), chunk_size):\n",
    "    print(columns[i:i+chunk_size])\n"
   ]
  }
 ],
 "metadata": {
  "kernelspec": {
   "display_name": "base",
   "language": "python",
   "name": "python3"
  },
  "language_info": {
   "codemirror_mode": {
    "name": "ipython",
    "version": 3
   },
   "file_extension": ".py",
   "mimetype": "text/x-python",
   "name": "python",
   "nbconvert_exporter": "python",
   "pygments_lexer": "ipython3",
   "version": "3.11.7"
  }
 },
 "nbformat": 4,
 "nbformat_minor": 2
}
