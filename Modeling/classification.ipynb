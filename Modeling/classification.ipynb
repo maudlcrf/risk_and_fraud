{
 "cells": [
  {
   "cell_type": "markdown",
   "metadata": {},
   "source": [
    "# Imports and Cleaning"
   ]
  },
  {
   "cell_type": "code",
   "execution_count": 1,
   "metadata": {},
   "outputs": [],
   "source": [
    "import pandas as pd\n",
    "import numpy as np\n",
    "import plotly.express as px\n",
    "import re\n",
    "import matplotlib.pyplot as plt\n",
    "import seaborn as sns"
   ]
  },
  {
   "cell_type": "code",
   "execution_count": 2,
   "metadata": {},
   "outputs": [],
   "source": [
    "import warnings\n",
    "from sklearn.exceptions import DataConversionWarning, ConvergenceWarning, UndefinedMetricWarning\n",
    "\n",
    "# Suppress specific warnings\n",
    "warnings.filterwarnings(\"ignore\", category=DataConversionWarning)\n",
    "warnings.filterwarnings(\"ignore\", category=FutureWarning)\n",
    "warnings.filterwarnings(\"ignore\", category=ConvergenceWarning)\n",
    "warnings.filterwarnings(\"ignore\", category=UndefinedMetricWarning)"
   ]
  },
  {
   "cell_type": "code",
   "execution_count": 3,
   "metadata": {},
   "outputs": [],
   "source": [
    "from sklearn.model_selection import train_test_split\n",
    "from sklearn.linear_model import LogisticRegression  \n",
    "from sklearn.linear_model import RidgeClassifier  \n",
    "from sklearn.linear_model import LassoLars \n",
    "from sklearn.naive_bayes import GaussianNB  \n",
    "from sklearn.svm import SVC  \n",
    "from sklearn.metrics import classification_report"
   ]
  },
  {
   "cell_type": "code",
   "execution_count": 4,
   "metadata": {},
   "outputs": [],
   "source": [
    "from termcolor import colored as cl  # text customization\n",
    "from sklearn.metrics import roc_auc_score  # AUC metric\n",
    "from sklearn.linear_model import LogisticRegression  # Logistic Regression for classification\n",
    "from sklearn.linear_model import RidgeClassifier  # Ridge Classifier for classification\n",
    "from sklearn.naive_bayes import GaussianNB  # Naive Bayes for classification\n",
    "from sklearn.svm import SVC  # Support Vector Classifier"
   ]
  },
  {
   "cell_type": "code",
   "execution_count": 5,
   "metadata": {},
   "outputs": [],
   "source": [
    "from sklearn.preprocessing import scale\n",
    "from sklearn.preprocessing import MinMaxScaler"
   ]
  },
  {
   "cell_type": "code",
   "execution_count": 6,
   "metadata": {},
   "outputs": [],
   "source": [
    "#for random state (to have it consistent throughout the model)\n",
    "seed = 9"
   ]
  },
  {
   "cell_type": "code",
   "execution_count": 7,
   "metadata": {},
   "outputs": [],
   "source": [
    "data = pd.read_csv(\"../World_Datasets/final_dataset_world.csv\")"
   ]
  },
  {
   "cell_type": "code",
   "execution_count": 8,
   "metadata": {},
   "outputs": [
    {
     "data": {
      "text/html": [
       "<div>\n",
       "<style scoped>\n",
       "    .dataframe tbody tr th:only-of-type {\n",
       "        vertical-align: middle;\n",
       "    }\n",
       "\n",
       "    .dataframe tbody tr th {\n",
       "        vertical-align: top;\n",
       "    }\n",
       "\n",
       "    .dataframe thead th {\n",
       "        text-align: right;\n",
       "    }\n",
       "</style>\n",
       "<table border=\"1\" class=\"dataframe\">\n",
       "  <thead>\n",
       "    <tr style=\"text-align: right;\">\n",
       "      <th></th>\n",
       "      <th>Country</th>\n",
       "      <th>S&amp;P Rating</th>\n",
       "      <th>Country Name</th>\n",
       "      <th>country_code</th>\n",
       "      <th>unemployment_2000</th>\n",
       "      <th>unemployment_2014</th>\n",
       "      <th>unemployment_2015</th>\n",
       "      <th>unemployment_2016</th>\n",
       "      <th>unemployment_2017</th>\n",
       "      <th>unemployment_2018</th>\n",
       "      <th>...</th>\n",
       "      <th>total_reserves_2016</th>\n",
       "      <th>total_reserves_2017</th>\n",
       "      <th>total_reserves_2018</th>\n",
       "      <th>total_reserves_2019</th>\n",
       "      <th>total_reserves_2020</th>\n",
       "      <th>total_reserves_2021</th>\n",
       "      <th>total_reserves_2022</th>\n",
       "      <th>total_reserves_2023</th>\n",
       "      <th>Unnamed: 73</th>\n",
       "      <th>value_counts</th>\n",
       "    </tr>\n",
       "  </thead>\n",
       "  <tbody>\n",
       "    <tr>\n",
       "      <th>0</th>\n",
       "      <td>Australia</td>\n",
       "      <td>AAA</td>\n",
       "      <td>Australia</td>\n",
       "      <td>AUS</td>\n",
       "      <td>6.288000</td>\n",
       "      <td>6.078000</td>\n",
       "      <td>6.055000</td>\n",
       "      <td>5.711000</td>\n",
       "      <td>5.592000</td>\n",
       "      <td>5.300000</td>\n",
       "      <td>...</td>\n",
       "      <td>5.248079e+10</td>\n",
       "      <td>6.565372e+10</td>\n",
       "      <td>5.390953e+10</td>\n",
       "      <td>5.799469e+10</td>\n",
       "      <td>4.254463e+10</td>\n",
       "      <td>5.787750e+10</td>\n",
       "      <td>5.670190e+10</td>\n",
       "      <td>6.170335e+10</td>\n",
       "      <td>3.085167e+10</td>\n",
       "      <td>73.0</td>\n",
       "    </tr>\n",
       "    <tr>\n",
       "      <th>1</th>\n",
       "      <td>Canada</td>\n",
       "      <td>AAA</td>\n",
       "      <td>Canada</td>\n",
       "      <td>CAN</td>\n",
       "      <td>6.829000</td>\n",
       "      <td>7.023000</td>\n",
       "      <td>6.945000</td>\n",
       "      <td>7.038000</td>\n",
       "      <td>6.426000</td>\n",
       "      <td>5.837000</td>\n",
       "      <td>...</td>\n",
       "      <td>8.271811e+10</td>\n",
       "      <td>8.667771e+10</td>\n",
       "      <td>8.392560e+10</td>\n",
       "      <td>8.529711e+10</td>\n",
       "      <td>9.042814e+10</td>\n",
       "      <td>1.066151e+11</td>\n",
       "      <td>1.069524e+11</td>\n",
       "      <td>1.175509e+11</td>\n",
       "      <td>5.877545e+10</td>\n",
       "      <td>73.0</td>\n",
       "    </tr>\n",
       "    <tr>\n",
       "      <th>2</th>\n",
       "      <td>Denmark</td>\n",
       "      <td>AAA</td>\n",
       "      <td>Denmark</td>\n",
       "      <td>DNK</td>\n",
       "      <td>4.476000</td>\n",
       "      <td>6.925000</td>\n",
       "      <td>6.278000</td>\n",
       "      <td>5.989000</td>\n",
       "      <td>5.833000</td>\n",
       "      <td>5.131000</td>\n",
       "      <td>...</td>\n",
       "      <td>6.421581e+10</td>\n",
       "      <td>7.524445e+10</td>\n",
       "      <td>7.094208e+10</td>\n",
       "      <td>6.683555e+10</td>\n",
       "      <td>7.282335e+10</td>\n",
       "      <td>8.223584e+10</td>\n",
       "      <td>9.607255e+10</td>\n",
       "      <td>1.093708e+11</td>\n",
       "      <td>5.468542e+10</td>\n",
       "      <td>73.0</td>\n",
       "    </tr>\n",
       "    <tr>\n",
       "      <th>3</th>\n",
       "      <td>Germany</td>\n",
       "      <td>AAA</td>\n",
       "      <td>Germany</td>\n",
       "      <td>DEU</td>\n",
       "      <td>7.917000</td>\n",
       "      <td>4.981000</td>\n",
       "      <td>4.624000</td>\n",
       "      <td>4.122000</td>\n",
       "      <td>3.746000</td>\n",
       "      <td>3.384000</td>\n",
       "      <td>...</td>\n",
       "      <td>1.840313e+11</td>\n",
       "      <td>1.999831e+11</td>\n",
       "      <td>1.980271e+11</td>\n",
       "      <td>2.240280e+11</td>\n",
       "      <td>2.684086e+11</td>\n",
       "      <td>2.957362e+11</td>\n",
       "      <td>2.939137e+11</td>\n",
       "      <td>3.227001e+11</td>\n",
       "      <td>1.613500e+11</td>\n",
       "      <td>62.0</td>\n",
       "    </tr>\n",
       "    <tr>\n",
       "      <th>4</th>\n",
       "      <td>Liechtenstein</td>\n",
       "      <td>AAA</td>\n",
       "      <td>Liechtenstein</td>\n",
       "      <td>LIE</td>\n",
       "      <td>9.640537</td>\n",
       "      <td>9.136085</td>\n",
       "      <td>9.052059</td>\n",
       "      <td>8.903803</td>\n",
       "      <td>8.664479</td>\n",
       "      <td>8.383856</td>\n",
       "      <td>...</td>\n",
       "      <td>2.453835e+09</td>\n",
       "      <td>2.181187e+09</td>\n",
       "      <td>1.908538e+09</td>\n",
       "      <td>1.635890e+09</td>\n",
       "      <td>1.363242e+09</td>\n",
       "      <td>1.090593e+09</td>\n",
       "      <td>8.179449e+08</td>\n",
       "      <td>5.452966e+08</td>\n",
       "      <td>2.726483e+08</td>\n",
       "      <td>13.0</td>\n",
       "    </tr>\n",
       "    <tr>\n",
       "      <th>...</th>\n",
       "      <td>...</td>\n",
       "      <td>...</td>\n",
       "      <td>...</td>\n",
       "      <td>...</td>\n",
       "      <td>...</td>\n",
       "      <td>...</td>\n",
       "      <td>...</td>\n",
       "      <td>...</td>\n",
       "      <td>...</td>\n",
       "      <td>...</td>\n",
       "      <td>...</td>\n",
       "      <td>...</td>\n",
       "      <td>...</td>\n",
       "      <td>...</td>\n",
       "      <td>...</td>\n",
       "      <td>...</td>\n",
       "      <td>...</td>\n",
       "      <td>...</td>\n",
       "      <td>...</td>\n",
       "      <td>...</td>\n",
       "      <td>...</td>\n",
       "    </tr>\n",
       "    <tr>\n",
       "      <th>126</th>\n",
       "      <td>Sri Lanka</td>\n",
       "      <td>SD</td>\n",
       "      <td>Sri Lanka</td>\n",
       "      <td>LKA</td>\n",
       "      <td>7.740000</td>\n",
       "      <td>4.157000</td>\n",
       "      <td>4.519000</td>\n",
       "      <td>4.243000</td>\n",
       "      <td>4.046000</td>\n",
       "      <td>4.318000</td>\n",
       "      <td>...</td>\n",
       "      <td>6.008199e+09</td>\n",
       "      <td>7.959048e+09</td>\n",
       "      <td>6.920826e+09</td>\n",
       "      <td>7.648305e+09</td>\n",
       "      <td>5.663994e+09</td>\n",
       "      <td>3.136992e+09</td>\n",
       "      <td>2.352744e+09</td>\n",
       "      <td>1.568496e+09</td>\n",
       "      <td>7.842479e+08</td>\n",
       "      <td>71.0</td>\n",
       "    </tr>\n",
       "    <tr>\n",
       "      <th>127</th>\n",
       "      <td>Ukraine</td>\n",
       "      <td>SD</td>\n",
       "      <td>Ukraine</td>\n",
       "      <td>UKR</td>\n",
       "      <td>11.707000</td>\n",
       "      <td>9.270000</td>\n",
       "      <td>9.140000</td>\n",
       "      <td>9.350000</td>\n",
       "      <td>9.500000</td>\n",
       "      <td>8.799000</td>\n",
       "      <td>...</td>\n",
       "      <td>1.553726e+10</td>\n",
       "      <td>1.881093e+10</td>\n",
       "      <td>2.081790e+10</td>\n",
       "      <td>2.531700e+10</td>\n",
       "      <td>2.913754e+10</td>\n",
       "      <td>3.096667e+10</td>\n",
       "      <td>2.850593e+10</td>\n",
       "      <td>4.051011e+10</td>\n",
       "      <td>2.025505e+10</td>\n",
       "      <td>67.0</td>\n",
       "    </tr>\n",
       "    <tr>\n",
       "      <th>128</th>\n",
       "      <td>Lebanon</td>\n",
       "      <td>D</td>\n",
       "      <td>Lebanon</td>\n",
       "      <td>LBN</td>\n",
       "      <td>8.594000</td>\n",
       "      <td>8.796000</td>\n",
       "      <td>9.270000</td>\n",
       "      <td>9.760000</td>\n",
       "      <td>10.236000</td>\n",
       "      <td>10.741000</td>\n",
       "      <td>...</td>\n",
       "      <td>5.390551e+10</td>\n",
       "      <td>5.541153e+10</td>\n",
       "      <td>5.238061e+10</td>\n",
       "      <td>5.221348e+10</td>\n",
       "      <td>4.244040e+10</td>\n",
       "      <td>3.523922e+10</td>\n",
       "      <td>3.251288e+10</td>\n",
       "      <td>2.167525e+10</td>\n",
       "      <td>1.083763e+10</td>\n",
       "      <td>66.0</td>\n",
       "    </tr>\n",
       "    <tr>\n",
       "      <th>129</th>\n",
       "      <td>Puerto Rico</td>\n",
       "      <td>D</td>\n",
       "      <td>Puerto Rico</td>\n",
       "      <td>PRI</td>\n",
       "      <td>10.080000</td>\n",
       "      <td>13.900000</td>\n",
       "      <td>12.000000</td>\n",
       "      <td>11.800000</td>\n",
       "      <td>10.800000</td>\n",
       "      <td>9.200000</td>\n",
       "      <td>...</td>\n",
       "      <td>4.084615e+10</td>\n",
       "      <td>3.630769e+10</td>\n",
       "      <td>3.176923e+10</td>\n",
       "      <td>2.723077e+10</td>\n",
       "      <td>2.269231e+10</td>\n",
       "      <td>1.815385e+10</td>\n",
       "      <td>1.361538e+10</td>\n",
       "      <td>9.076923e+09</td>\n",
       "      <td>4.538462e+09</td>\n",
       "      <td>39.0</td>\n",
       "    </tr>\n",
       "    <tr>\n",
       "      <th>130</th>\n",
       "      <td>Grenada</td>\n",
       "      <td>SD</td>\n",
       "      <td>Grenada</td>\n",
       "      <td>GRD</td>\n",
       "      <td>9.640537</td>\n",
       "      <td>9.136085</td>\n",
       "      <td>9.052059</td>\n",
       "      <td>8.903803</td>\n",
       "      <td>8.664479</td>\n",
       "      <td>8.383856</td>\n",
       "      <td>...</td>\n",
       "      <td>2.076893e+08</td>\n",
       "      <td>1.991259e+08</td>\n",
       "      <td>2.338159e+08</td>\n",
       "      <td>2.363253e+08</td>\n",
       "      <td>2.933204e+08</td>\n",
       "      <td>3.482592e+08</td>\n",
       "      <td>3.717673e+08</td>\n",
       "      <td>4.041299e+08</td>\n",
       "      <td>2.020650e+08</td>\n",
       "      <td>64.0</td>\n",
       "    </tr>\n",
       "  </tbody>\n",
       "</table>\n",
       "<p>131 rows × 77 columns</p>\n",
       "</div>"
      ],
      "text/plain": [
       "           Country S&P Rating   Country Name country_code  unemployment_2000  \\\n",
       "0        Australia        AAA      Australia          AUS           6.288000   \n",
       "1           Canada        AAA         Canada          CAN           6.829000   \n",
       "2          Denmark        AAA        Denmark          DNK           4.476000   \n",
       "3          Germany        AAA        Germany          DEU           7.917000   \n",
       "4    Liechtenstein        AAA  Liechtenstein          LIE           9.640537   \n",
       "..             ...        ...            ...          ...                ...   \n",
       "126      Sri Lanka         SD      Sri Lanka          LKA           7.740000   \n",
       "127        Ukraine         SD        Ukraine          UKR          11.707000   \n",
       "128        Lebanon          D        Lebanon          LBN           8.594000   \n",
       "129    Puerto Rico         D     Puerto Rico          PRI          10.080000   \n",
       "130        Grenada        SD         Grenada          GRD           9.640537   \n",
       "\n",
       "     unemployment_2014  unemployment_2015  unemployment_2016  \\\n",
       "0             6.078000           6.055000           5.711000   \n",
       "1             7.023000           6.945000           7.038000   \n",
       "2             6.925000           6.278000           5.989000   \n",
       "3             4.981000           4.624000           4.122000   \n",
       "4             9.136085           9.052059           8.903803   \n",
       "..                 ...                ...                ...   \n",
       "126           4.157000           4.519000           4.243000   \n",
       "127           9.270000           9.140000           9.350000   \n",
       "128           8.796000           9.270000           9.760000   \n",
       "129          13.900000          12.000000          11.800000   \n",
       "130           9.136085           9.052059           8.903803   \n",
       "\n",
       "     unemployment_2017  unemployment_2018  ...  total_reserves_2016  \\\n",
       "0             5.592000           5.300000  ...         5.248079e+10   \n",
       "1             6.426000           5.837000  ...         8.271811e+10   \n",
       "2             5.833000           5.131000  ...         6.421581e+10   \n",
       "3             3.746000           3.384000  ...         1.840313e+11   \n",
       "4             8.664479           8.383856  ...         2.453835e+09   \n",
       "..                 ...                ...  ...                  ...   \n",
       "126           4.046000           4.318000  ...         6.008199e+09   \n",
       "127           9.500000           8.799000  ...         1.553726e+10   \n",
       "128          10.236000          10.741000  ...         5.390551e+10   \n",
       "129          10.800000           9.200000  ...         4.084615e+10   \n",
       "130           8.664479           8.383856  ...         2.076893e+08   \n",
       "\n",
       "     total_reserves_2017  total_reserves_2018  total_reserves_2019  \\\n",
       "0           6.565372e+10         5.390953e+10         5.799469e+10   \n",
       "1           8.667771e+10         8.392560e+10         8.529711e+10   \n",
       "2           7.524445e+10         7.094208e+10         6.683555e+10   \n",
       "3           1.999831e+11         1.980271e+11         2.240280e+11   \n",
       "4           2.181187e+09         1.908538e+09         1.635890e+09   \n",
       "..                   ...                  ...                  ...   \n",
       "126         7.959048e+09         6.920826e+09         7.648305e+09   \n",
       "127         1.881093e+10         2.081790e+10         2.531700e+10   \n",
       "128         5.541153e+10         5.238061e+10         5.221348e+10   \n",
       "129         3.630769e+10         3.176923e+10         2.723077e+10   \n",
       "130         1.991259e+08         2.338159e+08         2.363253e+08   \n",
       "\n",
       "     total_reserves_2020  total_reserves_2021  total_reserves_2022  \\\n",
       "0           4.254463e+10         5.787750e+10         5.670190e+10   \n",
       "1           9.042814e+10         1.066151e+11         1.069524e+11   \n",
       "2           7.282335e+10         8.223584e+10         9.607255e+10   \n",
       "3           2.684086e+11         2.957362e+11         2.939137e+11   \n",
       "4           1.363242e+09         1.090593e+09         8.179449e+08   \n",
       "..                   ...                  ...                  ...   \n",
       "126         5.663994e+09         3.136992e+09         2.352744e+09   \n",
       "127         2.913754e+10         3.096667e+10         2.850593e+10   \n",
       "128         4.244040e+10         3.523922e+10         3.251288e+10   \n",
       "129         2.269231e+10         1.815385e+10         1.361538e+10   \n",
       "130         2.933204e+08         3.482592e+08         3.717673e+08   \n",
       "\n",
       "     total_reserves_2023   Unnamed: 73  value_counts  \n",
       "0           6.170335e+10  3.085167e+10          73.0  \n",
       "1           1.175509e+11  5.877545e+10          73.0  \n",
       "2           1.093708e+11  5.468542e+10          73.0  \n",
       "3           3.227001e+11  1.613500e+11          62.0  \n",
       "4           5.452966e+08  2.726483e+08          13.0  \n",
       "..                   ...           ...           ...  \n",
       "126         1.568496e+09  7.842479e+08          71.0  \n",
       "127         4.051011e+10  2.025505e+10          67.0  \n",
       "128         2.167525e+10  1.083763e+10          66.0  \n",
       "129         9.076923e+09  4.538462e+09          39.0  \n",
       "130         4.041299e+08  2.020650e+08          64.0  \n",
       "\n",
       "[131 rows x 77 columns]"
      ]
     },
     "execution_count": 8,
     "metadata": {},
     "output_type": "execute_result"
    }
   ],
   "source": [
    "data"
   ]
  },
  {
   "cell_type": "code",
   "execution_count": 9,
   "metadata": {},
   "outputs": [],
   "source": [
    "#dropping non-relevant columns\n",
    "data = data.drop(['Unnamed: 73', 'value_counts', 'Country Name', 'country_code'], axis = 1)"
   ]
  },
  {
   "cell_type": "code",
   "execution_count": 10,
   "metadata": {},
   "outputs": [
    {
     "name": "stdout",
     "output_type": "stream",
     "text": [
      "Number of unique values:  38\n",
      "['AAA' 'AA+' 'AA+\\xa0' 'AA-' 'AA' 'AA\\xa0' 'A+' 'NR' 'A\\xa0' 'A' 'AA-\\xa0'\n",
      " 'A-' 'A-\\xa0' 'BBB+' 'BBB' 'BBB\\xa0' 'BBB+\\xa0' 'BBB-' 'BBB-\\xa0'\n",
      " 'BB+\\xa0' 'BB+' 'BB\\xa0' 'BB' 'BB-\\xa0' 'BB-' 'B+' 'B+\\xa0' 'SD' 'B\\xa0'\n",
      " 'B-' 'B' 'B-\\xa0' 'CCC+\\xa0' 'CCC+' 'CCC' 'D' 'D\\xa0' 'SD\\xa0']\n"
     ]
    }
   ],
   "source": [
    "print('Number of unique values: ', data['S&P Rating'].nunique())\n",
    "print(data['S&P Rating'].unique())"
   ]
  },
  {
   "cell_type": "markdown",
   "metadata": {},
   "source": [
    "As 38 is too many values for a classification, we will classify between 'Investment Grade' (from AAA to BBB-) and High Yield (from BB+ to D). As the non-rated values belong to none of these categories, we will remove the NR values."
   ]
  },
  {
   "cell_type": "code",
   "execution_count": 11,
   "metadata": {},
   "outputs": [],
   "source": [
    "data = data[data['S&P Rating'] != 'NR'] #dropping non-rated"
   ]
  },
  {
   "cell_type": "code",
   "execution_count": 12,
   "metadata": {},
   "outputs": [],
   "source": [
    "data['target'] = np.where(\n",
    "    data['S&P Rating'].isin([\n",
    "        'AAA', 'AA+', 'AA+\\xa0', 'AA-', 'AA', 'AA\\xa0', 'A+', 'NR', 'A\\xa0', \n",
    "        'A', 'AA-\\xa0', 'A-', 'A-\\xa0', 'BBB+', 'BBB', 'BBB\\xa0', 'BBB+\\xa0', \n",
    "        'BBB-', 'BBB-\\xa0']),\n",
    "    0,  # Investment Grade\n",
    "    1   # High Yield\n",
    ")\n"
   ]
  },
  {
   "cell_type": "markdown",
   "metadata": {},
   "source": [
    "We now have 3 classification possibilities. "
   ]
  },
  {
   "cell_type": "markdown",
   "metadata": {},
   "source": [
    "# Base Model"
   ]
  },
  {
   "cell_type": "code",
   "execution_count": 13,
   "metadata": {},
   "outputs": [
    {
     "data": {
      "text/html": [
       "<div>\n",
       "<style scoped>\n",
       "    .dataframe tbody tr th:only-of-type {\n",
       "        vertical-align: middle;\n",
       "    }\n",
       "\n",
       "    .dataframe tbody tr th {\n",
       "        vertical-align: top;\n",
       "    }\n",
       "\n",
       "    .dataframe thead th {\n",
       "        text-align: right;\n",
       "    }\n",
       "</style>\n",
       "<table border=\"1\" class=\"dataframe\">\n",
       "  <thead>\n",
       "    <tr style=\"text-align: right;\">\n",
       "      <th></th>\n",
       "      <th>Country</th>\n",
       "      <th>S&amp;P Rating</th>\n",
       "      <th>unemployment_2000</th>\n",
       "      <th>unemployment_2014</th>\n",
       "      <th>unemployment_2015</th>\n",
       "      <th>unemployment_2016</th>\n",
       "      <th>unemployment_2017</th>\n",
       "      <th>unemployment_2018</th>\n",
       "      <th>unemployment_2019</th>\n",
       "      <th>unemployment_2020</th>\n",
       "      <th>...</th>\n",
       "      <th>total_reserves_2015</th>\n",
       "      <th>total_reserves_2016</th>\n",
       "      <th>total_reserves_2017</th>\n",
       "      <th>total_reserves_2018</th>\n",
       "      <th>total_reserves_2019</th>\n",
       "      <th>total_reserves_2020</th>\n",
       "      <th>total_reserves_2021</th>\n",
       "      <th>total_reserves_2022</th>\n",
       "      <th>total_reserves_2023</th>\n",
       "      <th>target</th>\n",
       "    </tr>\n",
       "  </thead>\n",
       "  <tbody>\n",
       "    <tr>\n",
       "      <th>0</th>\n",
       "      <td>Australia</td>\n",
       "      <td>AAA</td>\n",
       "      <td>6.288000</td>\n",
       "      <td>6.078000</td>\n",
       "      <td>6.055000</td>\n",
       "      <td>5.711000</td>\n",
       "      <td>5.592000</td>\n",
       "      <td>5.300000</td>\n",
       "      <td>5.159000</td>\n",
       "      <td>6.456000</td>\n",
       "      <td>...</td>\n",
       "      <td>4.540604e+10</td>\n",
       "      <td>5.248079e+10</td>\n",
       "      <td>6.565372e+10</td>\n",
       "      <td>5.390953e+10</td>\n",
       "      <td>5.799469e+10</td>\n",
       "      <td>4.254463e+10</td>\n",
       "      <td>5.787750e+10</td>\n",
       "      <td>5.670190e+10</td>\n",
       "      <td>6.170335e+10</td>\n",
       "      <td>0</td>\n",
       "    </tr>\n",
       "    <tr>\n",
       "      <th>1</th>\n",
       "      <td>Canada</td>\n",
       "      <td>AAA</td>\n",
       "      <td>6.829000</td>\n",
       "      <td>7.023000</td>\n",
       "      <td>6.945000</td>\n",
       "      <td>7.038000</td>\n",
       "      <td>6.426000</td>\n",
       "      <td>5.837000</td>\n",
       "      <td>5.690000</td>\n",
       "      <td>9.657000</td>\n",
       "      <td>...</td>\n",
       "      <td>7.975352e+10</td>\n",
       "      <td>8.271811e+10</td>\n",
       "      <td>8.667771e+10</td>\n",
       "      <td>8.392560e+10</td>\n",
       "      <td>8.529711e+10</td>\n",
       "      <td>9.042814e+10</td>\n",
       "      <td>1.066151e+11</td>\n",
       "      <td>1.069524e+11</td>\n",
       "      <td>1.175509e+11</td>\n",
       "      <td>0</td>\n",
       "    </tr>\n",
       "    <tr>\n",
       "      <th>2</th>\n",
       "      <td>Denmark</td>\n",
       "      <td>AAA</td>\n",
       "      <td>4.476000</td>\n",
       "      <td>6.925000</td>\n",
       "      <td>6.278000</td>\n",
       "      <td>5.989000</td>\n",
       "      <td>5.833000</td>\n",
       "      <td>5.131000</td>\n",
       "      <td>5.018000</td>\n",
       "      <td>5.637000</td>\n",
       "      <td>...</td>\n",
       "      <td>6.518509e+10</td>\n",
       "      <td>6.421581e+10</td>\n",
       "      <td>7.524445e+10</td>\n",
       "      <td>7.094208e+10</td>\n",
       "      <td>6.683555e+10</td>\n",
       "      <td>7.282335e+10</td>\n",
       "      <td>8.223584e+10</td>\n",
       "      <td>9.607255e+10</td>\n",
       "      <td>1.093708e+11</td>\n",
       "      <td>0</td>\n",
       "    </tr>\n",
       "    <tr>\n",
       "      <th>3</th>\n",
       "      <td>Germany</td>\n",
       "      <td>AAA</td>\n",
       "      <td>7.917000</td>\n",
       "      <td>4.981000</td>\n",
       "      <td>4.624000</td>\n",
       "      <td>4.122000</td>\n",
       "      <td>3.746000</td>\n",
       "      <td>3.384000</td>\n",
       "      <td>3.136000</td>\n",
       "      <td>3.856000</td>\n",
       "      <td>...</td>\n",
       "      <td>1.737309e+11</td>\n",
       "      <td>1.840313e+11</td>\n",
       "      <td>1.999831e+11</td>\n",
       "      <td>1.980271e+11</td>\n",
       "      <td>2.240280e+11</td>\n",
       "      <td>2.684086e+11</td>\n",
       "      <td>2.957362e+11</td>\n",
       "      <td>2.939137e+11</td>\n",
       "      <td>3.227001e+11</td>\n",
       "      <td>0</td>\n",
       "    </tr>\n",
       "    <tr>\n",
       "      <th>4</th>\n",
       "      <td>Liechtenstein</td>\n",
       "      <td>AAA</td>\n",
       "      <td>9.640537</td>\n",
       "      <td>9.136085</td>\n",
       "      <td>9.052059</td>\n",
       "      <td>8.903803</td>\n",
       "      <td>8.664479</td>\n",
       "      <td>8.383856</td>\n",
       "      <td>8.244777</td>\n",
       "      <td>9.305229</td>\n",
       "      <td>...</td>\n",
       "      <td>2.726483e+09</td>\n",
       "      <td>2.453835e+09</td>\n",
       "      <td>2.181187e+09</td>\n",
       "      <td>1.908538e+09</td>\n",
       "      <td>1.635890e+09</td>\n",
       "      <td>1.363242e+09</td>\n",
       "      <td>1.090593e+09</td>\n",
       "      <td>8.179449e+08</td>\n",
       "      <td>5.452966e+08</td>\n",
       "      <td>0</td>\n",
       "    </tr>\n",
       "    <tr>\n",
       "      <th>...</th>\n",
       "      <td>...</td>\n",
       "      <td>...</td>\n",
       "      <td>...</td>\n",
       "      <td>...</td>\n",
       "      <td>...</td>\n",
       "      <td>...</td>\n",
       "      <td>...</td>\n",
       "      <td>...</td>\n",
       "      <td>...</td>\n",
       "      <td>...</td>\n",
       "      <td>...</td>\n",
       "      <td>...</td>\n",
       "      <td>...</td>\n",
       "      <td>...</td>\n",
       "      <td>...</td>\n",
       "      <td>...</td>\n",
       "      <td>...</td>\n",
       "      <td>...</td>\n",
       "      <td>...</td>\n",
       "      <td>...</td>\n",
       "      <td>...</td>\n",
       "    </tr>\n",
       "    <tr>\n",
       "      <th>126</th>\n",
       "      <td>Sri Lanka</td>\n",
       "      <td>SD</td>\n",
       "      <td>7.740000</td>\n",
       "      <td>4.157000</td>\n",
       "      <td>4.519000</td>\n",
       "      <td>4.243000</td>\n",
       "      <td>4.046000</td>\n",
       "      <td>4.318000</td>\n",
       "      <td>4.670000</td>\n",
       "      <td>5.365000</td>\n",
       "      <td>...</td>\n",
       "      <td>7.302097e+09</td>\n",
       "      <td>6.008199e+09</td>\n",
       "      <td>7.959048e+09</td>\n",
       "      <td>6.920826e+09</td>\n",
       "      <td>7.648305e+09</td>\n",
       "      <td>5.663994e+09</td>\n",
       "      <td>3.136992e+09</td>\n",
       "      <td>2.352744e+09</td>\n",
       "      <td>1.568496e+09</td>\n",
       "      <td>1</td>\n",
       "    </tr>\n",
       "    <tr>\n",
       "      <th>127</th>\n",
       "      <td>Ukraine</td>\n",
       "      <td>SD</td>\n",
       "      <td>11.707000</td>\n",
       "      <td>9.270000</td>\n",
       "      <td>9.140000</td>\n",
       "      <td>9.350000</td>\n",
       "      <td>9.500000</td>\n",
       "      <td>8.799000</td>\n",
       "      <td>8.194000</td>\n",
       "      <td>9.475000</td>\n",
       "      <td>...</td>\n",
       "      <td>1.330088e+10</td>\n",
       "      <td>1.553726e+10</td>\n",
       "      <td>1.881093e+10</td>\n",
       "      <td>2.081790e+10</td>\n",
       "      <td>2.531700e+10</td>\n",
       "      <td>2.913754e+10</td>\n",
       "      <td>3.096667e+10</td>\n",
       "      <td>2.850593e+10</td>\n",
       "      <td>4.051011e+10</td>\n",
       "      <td>1</td>\n",
       "    </tr>\n",
       "    <tr>\n",
       "      <th>128</th>\n",
       "      <td>Lebanon</td>\n",
       "      <td>D</td>\n",
       "      <td>8.594000</td>\n",
       "      <td>8.796000</td>\n",
       "      <td>9.270000</td>\n",
       "      <td>9.760000</td>\n",
       "      <td>10.236000</td>\n",
       "      <td>10.741000</td>\n",
       "      <td>11.301000</td>\n",
       "      <td>13.235000</td>\n",
       "      <td>...</td>\n",
       "      <td>4.853139e+10</td>\n",
       "      <td>5.390551e+10</td>\n",
       "      <td>5.541153e+10</td>\n",
       "      <td>5.238061e+10</td>\n",
       "      <td>5.221348e+10</td>\n",
       "      <td>4.244040e+10</td>\n",
       "      <td>3.523922e+10</td>\n",
       "      <td>3.251288e+10</td>\n",
       "      <td>2.167525e+10</td>\n",
       "      <td>1</td>\n",
       "    </tr>\n",
       "    <tr>\n",
       "      <th>129</th>\n",
       "      <td>Puerto Rico</td>\n",
       "      <td>D</td>\n",
       "      <td>10.080000</td>\n",
       "      <td>13.900000</td>\n",
       "      <td>12.000000</td>\n",
       "      <td>11.800000</td>\n",
       "      <td>10.800000</td>\n",
       "      <td>9.200000</td>\n",
       "      <td>8.300000</td>\n",
       "      <td>8.890000</td>\n",
       "      <td>...</td>\n",
       "      <td>4.538462e+10</td>\n",
       "      <td>4.084615e+10</td>\n",
       "      <td>3.630769e+10</td>\n",
       "      <td>3.176923e+10</td>\n",
       "      <td>2.723077e+10</td>\n",
       "      <td>2.269231e+10</td>\n",
       "      <td>1.815385e+10</td>\n",
       "      <td>1.361538e+10</td>\n",
       "      <td>9.076923e+09</td>\n",
       "      <td>1</td>\n",
       "    </tr>\n",
       "    <tr>\n",
       "      <th>130</th>\n",
       "      <td>Grenada</td>\n",
       "      <td>SD</td>\n",
       "      <td>9.640537</td>\n",
       "      <td>9.136085</td>\n",
       "      <td>9.052059</td>\n",
       "      <td>8.903803</td>\n",
       "      <td>8.664479</td>\n",
       "      <td>8.383856</td>\n",
       "      <td>8.244777</td>\n",
       "      <td>9.305229</td>\n",
       "      <td>...</td>\n",
       "      <td>1.979735e+08</td>\n",
       "      <td>2.076893e+08</td>\n",
       "      <td>1.991259e+08</td>\n",
       "      <td>2.338159e+08</td>\n",
       "      <td>2.363253e+08</td>\n",
       "      <td>2.933204e+08</td>\n",
       "      <td>3.482592e+08</td>\n",
       "      <td>3.717673e+08</td>\n",
       "      <td>4.041299e+08</td>\n",
       "      <td>1</td>\n",
       "    </tr>\n",
       "  </tbody>\n",
       "</table>\n",
       "<p>127 rows × 74 columns</p>\n",
       "</div>"
      ],
      "text/plain": [
       "           Country S&P Rating  unemployment_2000  unemployment_2014  \\\n",
       "0        Australia        AAA           6.288000           6.078000   \n",
       "1           Canada        AAA           6.829000           7.023000   \n",
       "2          Denmark        AAA           4.476000           6.925000   \n",
       "3          Germany        AAA           7.917000           4.981000   \n",
       "4    Liechtenstein        AAA           9.640537           9.136085   \n",
       "..             ...        ...                ...                ...   \n",
       "126      Sri Lanka         SD           7.740000           4.157000   \n",
       "127        Ukraine         SD          11.707000           9.270000   \n",
       "128        Lebanon          D           8.594000           8.796000   \n",
       "129    Puerto Rico         D           10.080000          13.900000   \n",
       "130        Grenada        SD            9.640537           9.136085   \n",
       "\n",
       "     unemployment_2015  unemployment_2016  unemployment_2017  \\\n",
       "0             6.055000           5.711000           5.592000   \n",
       "1             6.945000           7.038000           6.426000   \n",
       "2             6.278000           5.989000           5.833000   \n",
       "3             4.624000           4.122000           3.746000   \n",
       "4             9.052059           8.903803           8.664479   \n",
       "..                 ...                ...                ...   \n",
       "126           4.519000           4.243000           4.046000   \n",
       "127           9.140000           9.350000           9.500000   \n",
       "128           9.270000           9.760000          10.236000   \n",
       "129          12.000000          11.800000          10.800000   \n",
       "130           9.052059           8.903803           8.664479   \n",
       "\n",
       "     unemployment_2018  unemployment_2019  unemployment_2020  ...  \\\n",
       "0             5.300000           5.159000           6.456000  ...   \n",
       "1             5.837000           5.690000           9.657000  ...   \n",
       "2             5.131000           5.018000           5.637000  ...   \n",
       "3             3.384000           3.136000           3.856000  ...   \n",
       "4             8.383856           8.244777           9.305229  ...   \n",
       "..                 ...                ...                ...  ...   \n",
       "126           4.318000           4.670000           5.365000  ...   \n",
       "127           8.799000           8.194000           9.475000  ...   \n",
       "128          10.741000          11.301000          13.235000  ...   \n",
       "129           9.200000           8.300000           8.890000  ...   \n",
       "130           8.383856           8.244777           9.305229  ...   \n",
       "\n",
       "     total_reserves_2015  total_reserves_2016  total_reserves_2017  \\\n",
       "0           4.540604e+10         5.248079e+10         6.565372e+10   \n",
       "1           7.975352e+10         8.271811e+10         8.667771e+10   \n",
       "2           6.518509e+10         6.421581e+10         7.524445e+10   \n",
       "3           1.737309e+11         1.840313e+11         1.999831e+11   \n",
       "4           2.726483e+09         2.453835e+09         2.181187e+09   \n",
       "..                   ...                  ...                  ...   \n",
       "126         7.302097e+09         6.008199e+09         7.959048e+09   \n",
       "127         1.330088e+10         1.553726e+10         1.881093e+10   \n",
       "128         4.853139e+10         5.390551e+10         5.541153e+10   \n",
       "129         4.538462e+10         4.084615e+10         3.630769e+10   \n",
       "130         1.979735e+08         2.076893e+08         1.991259e+08   \n",
       "\n",
       "     total_reserves_2018  total_reserves_2019  total_reserves_2020  \\\n",
       "0           5.390953e+10         5.799469e+10         4.254463e+10   \n",
       "1           8.392560e+10         8.529711e+10         9.042814e+10   \n",
       "2           7.094208e+10         6.683555e+10         7.282335e+10   \n",
       "3           1.980271e+11         2.240280e+11         2.684086e+11   \n",
       "4           1.908538e+09         1.635890e+09         1.363242e+09   \n",
       "..                   ...                  ...                  ...   \n",
       "126         6.920826e+09         7.648305e+09         5.663994e+09   \n",
       "127         2.081790e+10         2.531700e+10         2.913754e+10   \n",
       "128         5.238061e+10         5.221348e+10         4.244040e+10   \n",
       "129         3.176923e+10         2.723077e+10         2.269231e+10   \n",
       "130         2.338159e+08         2.363253e+08         2.933204e+08   \n",
       "\n",
       "     total_reserves_2021  total_reserves_2022  total_reserves_2023  target  \n",
       "0           5.787750e+10         5.670190e+10         6.170335e+10       0  \n",
       "1           1.066151e+11         1.069524e+11         1.175509e+11       0  \n",
       "2           8.223584e+10         9.607255e+10         1.093708e+11       0  \n",
       "3           2.957362e+11         2.939137e+11         3.227001e+11       0  \n",
       "4           1.090593e+09         8.179449e+08         5.452966e+08       0  \n",
       "..                   ...                  ...                  ...     ...  \n",
       "126         3.136992e+09         2.352744e+09         1.568496e+09       1  \n",
       "127         3.096667e+10         2.850593e+10         4.051011e+10       1  \n",
       "128         3.523922e+10         3.251288e+10         2.167525e+10       1  \n",
       "129         1.815385e+10         1.361538e+10         9.076923e+09       1  \n",
       "130         3.482592e+08         3.717673e+08         4.041299e+08       1  \n",
       "\n",
       "[127 rows x 74 columns]"
      ]
     },
     "execution_count": 13,
     "metadata": {},
     "output_type": "execute_result"
    }
   ],
   "source": [
    "data"
   ]
  },
  {
   "cell_type": "code",
   "execution_count": 14,
   "metadata": {},
   "outputs": [],
   "source": [
    "data = data.set_index(data['Country'])\n",
    "data = data.drop('Country', axis = 1)"
   ]
  },
  {
   "cell_type": "code",
   "execution_count": 15,
   "metadata": {},
   "outputs": [
    {
     "data": {
      "text/html": [
       "<div>\n",
       "<style scoped>\n",
       "    .dataframe tbody tr th:only-of-type {\n",
       "        vertical-align: middle;\n",
       "    }\n",
       "\n",
       "    .dataframe tbody tr th {\n",
       "        vertical-align: top;\n",
       "    }\n",
       "\n",
       "    .dataframe thead th {\n",
       "        text-align: right;\n",
       "    }\n",
       "</style>\n",
       "<table border=\"1\" class=\"dataframe\">\n",
       "  <thead>\n",
       "    <tr style=\"text-align: right;\">\n",
       "      <th></th>\n",
       "      <th>S&amp;P Rating</th>\n",
       "      <th>unemployment_2000</th>\n",
       "      <th>unemployment_2014</th>\n",
       "      <th>unemployment_2015</th>\n",
       "      <th>unemployment_2016</th>\n",
       "      <th>unemployment_2017</th>\n",
       "      <th>unemployment_2018</th>\n",
       "      <th>unemployment_2019</th>\n",
       "      <th>unemployment_2020</th>\n",
       "      <th>unemployment_2021</th>\n",
       "      <th>...</th>\n",
       "      <th>total_reserves_2015</th>\n",
       "      <th>total_reserves_2016</th>\n",
       "      <th>total_reserves_2017</th>\n",
       "      <th>total_reserves_2018</th>\n",
       "      <th>total_reserves_2019</th>\n",
       "      <th>total_reserves_2020</th>\n",
       "      <th>total_reserves_2021</th>\n",
       "      <th>total_reserves_2022</th>\n",
       "      <th>total_reserves_2023</th>\n",
       "      <th>target</th>\n",
       "    </tr>\n",
       "    <tr>\n",
       "      <th>Country</th>\n",
       "      <th></th>\n",
       "      <th></th>\n",
       "      <th></th>\n",
       "      <th></th>\n",
       "      <th></th>\n",
       "      <th></th>\n",
       "      <th></th>\n",
       "      <th></th>\n",
       "      <th></th>\n",
       "      <th></th>\n",
       "      <th></th>\n",
       "      <th></th>\n",
       "      <th></th>\n",
       "      <th></th>\n",
       "      <th></th>\n",
       "      <th></th>\n",
       "      <th></th>\n",
       "      <th></th>\n",
       "      <th></th>\n",
       "      <th></th>\n",
       "      <th></th>\n",
       "    </tr>\n",
       "  </thead>\n",
       "  <tbody>\n",
       "    <tr>\n",
       "      <th>Australia</th>\n",
       "      <td>AAA</td>\n",
       "      <td>6.288000</td>\n",
       "      <td>6.078000</td>\n",
       "      <td>6.055000</td>\n",
       "      <td>5.711000</td>\n",
       "      <td>5.592000</td>\n",
       "      <td>5.300000</td>\n",
       "      <td>5.159000</td>\n",
       "      <td>6.456000</td>\n",
       "      <td>5.116000</td>\n",
       "      <td>...</td>\n",
       "      <td>4.540604e+10</td>\n",
       "      <td>5.248079e+10</td>\n",
       "      <td>6.565372e+10</td>\n",
       "      <td>5.390953e+10</td>\n",
       "      <td>5.799469e+10</td>\n",
       "      <td>4.254463e+10</td>\n",
       "      <td>5.787750e+10</td>\n",
       "      <td>5.670190e+10</td>\n",
       "      <td>6.170335e+10</td>\n",
       "      <td>0</td>\n",
       "    </tr>\n",
       "    <tr>\n",
       "      <th>Canada</th>\n",
       "      <td>AAA</td>\n",
       "      <td>6.829000</td>\n",
       "      <td>7.023000</td>\n",
       "      <td>6.945000</td>\n",
       "      <td>7.038000</td>\n",
       "      <td>6.426000</td>\n",
       "      <td>5.837000</td>\n",
       "      <td>5.690000</td>\n",
       "      <td>9.657000</td>\n",
       "      <td>7.527000</td>\n",
       "      <td>...</td>\n",
       "      <td>7.975352e+10</td>\n",
       "      <td>8.271811e+10</td>\n",
       "      <td>8.667771e+10</td>\n",
       "      <td>8.392560e+10</td>\n",
       "      <td>8.529711e+10</td>\n",
       "      <td>9.042814e+10</td>\n",
       "      <td>1.066151e+11</td>\n",
       "      <td>1.069524e+11</td>\n",
       "      <td>1.175509e+11</td>\n",
       "      <td>0</td>\n",
       "    </tr>\n",
       "    <tr>\n",
       "      <th>Denmark</th>\n",
       "      <td>AAA</td>\n",
       "      <td>4.476000</td>\n",
       "      <td>6.925000</td>\n",
       "      <td>6.278000</td>\n",
       "      <td>5.989000</td>\n",
       "      <td>5.833000</td>\n",
       "      <td>5.131000</td>\n",
       "      <td>5.018000</td>\n",
       "      <td>5.637000</td>\n",
       "      <td>5.043000</td>\n",
       "      <td>...</td>\n",
       "      <td>6.518509e+10</td>\n",
       "      <td>6.421581e+10</td>\n",
       "      <td>7.524445e+10</td>\n",
       "      <td>7.094208e+10</td>\n",
       "      <td>6.683555e+10</td>\n",
       "      <td>7.282335e+10</td>\n",
       "      <td>8.223584e+10</td>\n",
       "      <td>9.607255e+10</td>\n",
       "      <td>1.093708e+11</td>\n",
       "      <td>0</td>\n",
       "    </tr>\n",
       "    <tr>\n",
       "      <th>Germany</th>\n",
       "      <td>AAA</td>\n",
       "      <td>7.917000</td>\n",
       "      <td>4.981000</td>\n",
       "      <td>4.624000</td>\n",
       "      <td>4.122000</td>\n",
       "      <td>3.746000</td>\n",
       "      <td>3.384000</td>\n",
       "      <td>3.136000</td>\n",
       "      <td>3.856000</td>\n",
       "      <td>3.638000</td>\n",
       "      <td>...</td>\n",
       "      <td>1.737309e+11</td>\n",
       "      <td>1.840313e+11</td>\n",
       "      <td>1.999831e+11</td>\n",
       "      <td>1.980271e+11</td>\n",
       "      <td>2.240280e+11</td>\n",
       "      <td>2.684086e+11</td>\n",
       "      <td>2.957362e+11</td>\n",
       "      <td>2.939137e+11</td>\n",
       "      <td>3.227001e+11</td>\n",
       "      <td>0</td>\n",
       "    </tr>\n",
       "    <tr>\n",
       "      <th>Liechtenstein</th>\n",
       "      <td>AAA</td>\n",
       "      <td>9.640537</td>\n",
       "      <td>9.136085</td>\n",
       "      <td>9.052059</td>\n",
       "      <td>8.903803</td>\n",
       "      <td>8.664479</td>\n",
       "      <td>8.383856</td>\n",
       "      <td>8.244777</td>\n",
       "      <td>9.305229</td>\n",
       "      <td>9.015766</td>\n",
       "      <td>...</td>\n",
       "      <td>2.726483e+09</td>\n",
       "      <td>2.453835e+09</td>\n",
       "      <td>2.181187e+09</td>\n",
       "      <td>1.908538e+09</td>\n",
       "      <td>1.635890e+09</td>\n",
       "      <td>1.363242e+09</td>\n",
       "      <td>1.090593e+09</td>\n",
       "      <td>8.179449e+08</td>\n",
       "      <td>5.452966e+08</td>\n",
       "      <td>0</td>\n",
       "    </tr>\n",
       "  </tbody>\n",
       "</table>\n",
       "<p>5 rows × 73 columns</p>\n",
       "</div>"
      ],
      "text/plain": [
       "              S&P Rating  unemployment_2000  unemployment_2014  \\\n",
       "Country                                                          \n",
       "Australia            AAA           6.288000           6.078000   \n",
       "Canada               AAA           6.829000           7.023000   \n",
       "Denmark              AAA           4.476000           6.925000   \n",
       "Germany              AAA           7.917000           4.981000   \n",
       "Liechtenstein        AAA           9.640537           9.136085   \n",
       "\n",
       "               unemployment_2015  unemployment_2016  unemployment_2017  \\\n",
       "Country                                                                  \n",
       "Australia               6.055000           5.711000           5.592000   \n",
       "Canada                  6.945000           7.038000           6.426000   \n",
       "Denmark                 6.278000           5.989000           5.833000   \n",
       "Germany                 4.624000           4.122000           3.746000   \n",
       "Liechtenstein           9.052059           8.903803           8.664479   \n",
       "\n",
       "               unemployment_2018  unemployment_2019  unemployment_2020  \\\n",
       "Country                                                                  \n",
       "Australia               5.300000           5.159000           6.456000   \n",
       "Canada                  5.837000           5.690000           9.657000   \n",
       "Denmark                 5.131000           5.018000           5.637000   \n",
       "Germany                 3.384000           3.136000           3.856000   \n",
       "Liechtenstein           8.383856           8.244777           9.305229   \n",
       "\n",
       "               unemployment_2021  ...  total_reserves_2015  \\\n",
       "Country                           ...                        \n",
       "Australia               5.116000  ...         4.540604e+10   \n",
       "Canada                  7.527000  ...         7.975352e+10   \n",
       "Denmark                 5.043000  ...         6.518509e+10   \n",
       "Germany                 3.638000  ...         1.737309e+11   \n",
       "Liechtenstein           9.015766  ...         2.726483e+09   \n",
       "\n",
       "               total_reserves_2016  total_reserves_2017  total_reserves_2018  \\\n",
       "Country                                                                        \n",
       "Australia             5.248079e+10         6.565372e+10         5.390953e+10   \n",
       "Canada                8.271811e+10         8.667771e+10         8.392560e+10   \n",
       "Denmark               6.421581e+10         7.524445e+10         7.094208e+10   \n",
       "Germany               1.840313e+11         1.999831e+11         1.980271e+11   \n",
       "Liechtenstein         2.453835e+09         2.181187e+09         1.908538e+09   \n",
       "\n",
       "               total_reserves_2019  total_reserves_2020  total_reserves_2021  \\\n",
       "Country                                                                        \n",
       "Australia             5.799469e+10         4.254463e+10         5.787750e+10   \n",
       "Canada                8.529711e+10         9.042814e+10         1.066151e+11   \n",
       "Denmark               6.683555e+10         7.282335e+10         8.223584e+10   \n",
       "Germany               2.240280e+11         2.684086e+11         2.957362e+11   \n",
       "Liechtenstein         1.635890e+09         1.363242e+09         1.090593e+09   \n",
       "\n",
       "               total_reserves_2022  total_reserves_2023  target  \n",
       "Country                                                          \n",
       "Australia             5.670190e+10         6.170335e+10       0  \n",
       "Canada                1.069524e+11         1.175509e+11       0  \n",
       "Denmark               9.607255e+10         1.093708e+11       0  \n",
       "Germany               2.939137e+11         3.227001e+11       0  \n",
       "Liechtenstein         8.179449e+08         5.452966e+08       0  \n",
       "\n",
       "[5 rows x 73 columns]"
      ]
     },
     "execution_count": 15,
     "metadata": {},
     "output_type": "execute_result"
    }
   ],
   "source": [
    "data.head()"
   ]
  },
  {
   "cell_type": "markdown",
   "metadata": {},
   "source": [
    "## Train Test Split "
   ]
  },
  {
   "cell_type": "code",
   "execution_count": 16,
   "metadata": {},
   "outputs": [],
   "source": [
    "X = data.drop(['target', 'S&P Rating'], axis = 1)\n",
    "y = data[['target']]"
   ]
  },
  {
   "cell_type": "code",
   "execution_count": 17,
   "metadata": {},
   "outputs": [],
   "source": [
    "X_train,X_test,y_train,y_test = train_test_split(X,y,test_size=0.4,random_state=seed)"
   ]
  },
  {
   "cell_type": "markdown",
   "metadata": {},
   "source": [
    "## Intial Modeling and Results "
   ]
  },
  {
   "cell_type": "code",
   "execution_count": 18,
   "metadata": {},
   "outputs": [],
   "source": [
    "# 1. Logistic Regression\n",
    "logistic = LogisticRegression()\n",
    "logistic.fit(X_train, y_train)\n",
    "logistic_test_yhat = logistic.predict(X_test)\n",
    "logistic_train_yhat = logistic.predict(X_train)\n",
    "\n",
    "# 2. Ridge Classifier\n",
    "ridge_classifier = RidgeClassifier(alpha=0.5)\n",
    "ridge_classifier.fit(X_train, y_train)\n",
    "ridge_classifier_test_yhat = ridge_classifier.predict(X_test)\n",
    "ridge_classifier_train_yhat = ridge_classifier.predict(X_train)\n",
    "\n",
    "# 3. LassoLars (for classification)\n",
    "lasso_lars = LassoLars(alpha=0.01)\n",
    "lasso_lars.fit(X_train, y_train)\n",
    "lasso_lars_test_yhat = lasso_lars.predict(X_test)\n",
    "lasso_lars_train_yhat = lasso_lars.predict(X_train)\n",
    "\n",
    "# 4. Gaussian Naive Bayes\n",
    "naive_bayes = GaussianNB()\n",
    "naive_bayes.fit(X_train, y_train)\n",
    "naive_bayes_test_yhat = naive_bayes.predict(X_test)\n",
    "naive_bayes_train_yhat = naive_bayes.predict(X_train)\n",
    "\n",
    "# 5. Support Vector Classifier\n",
    "svc = SVC()\n",
    "svc.fit(X_train, y_train)\n",
    "svc_test_yhat = svc.predict(X_test)\n",
    "svc_train_yhat = svc.predict(X_train)"
   ]
  },
  {
   "cell_type": "code",
   "execution_count": 19,
   "metadata": {},
   "outputs": [
    {
     "name": "stdout",
     "output_type": "stream",
     "text": [
      "\u001b[1mAUC SCORE:\u001b[0m\n",
      "-------------------------------------------------------------------------------\n",
      "\u001b[1mLogistic model:\u001b[0m\n",
      "\u001b[1mTrain - AUC score is 0.9422\u001b[0m\n",
      "\u001b[1mTest - AUC score is 0.8339\u001b[0m\n",
      "-------------------------------------------------------------------------------\n",
      "\u001b[1mRidge model:\u001b[0m\n",
      "\u001b[1mTrain - AUC score is 1.0000\u001b[0m\n",
      "\u001b[1mTest - AUC score is 0.5878\u001b[0m\n",
      "-------------------------------------------------------------------------------\n",
      "\u001b[1mLassoLars model:\u001b[0m\n",
      "\u001b[1mTrain - AUC score is 0.9380\u001b[0m\n",
      "\u001b[1mTest - AUC score is 0.7179\u001b[0m\n",
      "-------------------------------------------------------------------------------\n",
      "\u001b[1mNaive Bayes model:\u001b[0m\n",
      "\u001b[1mTrain - AUC score is 0.7854\u001b[0m\n",
      "\u001b[1mTest - AUC score is 0.6779\u001b[0m\n",
      "-------------------------------------------------------------------------------\n",
      "\u001b[1mSVC model:\u001b[0m\n",
      "\u001b[1mTrain - AUC score is 0.8084\u001b[0m\n",
      "\u001b[1mTest - AUC score is 0.6850\u001b[0m\n",
      "-------------------------------------------------------------------------------\n"
     ]
    }
   ],
   "source": [
    "# Initialize models\n",
    "logistic = LogisticRegression()\n",
    "ridge_classifier = RidgeClassifier()\n",
    "naive_bayes = GaussianNB()\n",
    "svc = SVC(probability=True)  # Enable probability estimates for AUC calculation\n",
    "lasso_lars = LassoLars(alpha=0.01)  # Lasso Lars for classification\n",
    "\n",
    "print(cl('AUC SCORE:', attrs=['bold']))\n",
    "print('-------------------------------------------------------------------------------')\n",
    "\n",
    "# 1. Logistic Regression\n",
    "logistic.fit(X_train, y_train)  # Ensure the model is fitted\n",
    "logistic_train_auc = roc_auc_score(y_train, logistic.predict_proba(X_train)[:, 1])\n",
    "logistic_test_auc = roc_auc_score(y_test, logistic.predict_proba(X_test)[:, 1])\n",
    "print(cl('Logistic model:', attrs=['bold']))\n",
    "print(cl('Train - AUC score is {:.4f}'.format(logistic_train_auc), attrs=['bold']))\n",
    "print(cl('Test - AUC score is {:.4f}'.format(logistic_test_auc), attrs=['bold']))\n",
    "\n",
    "print('-------------------------------------------------------------------------------')\n",
    "\n",
    "# 2. Ridge Classifier\n",
    "ridge_classifier.fit(X_train, y_train)  # Ensure the model is fitted\n",
    "ridge_classifier_train_auc = roc_auc_score(y_train, ridge_classifier.decision_function(X_train))\n",
    "ridge_classifier_test_auc = roc_auc_score(y_test, ridge_classifier.decision_function(X_test))\n",
    "print(cl('Ridge model:', attrs=['bold']))\n",
    "print(cl('Train - AUC score is {:.4f}'.format(ridge_classifier_train_auc), attrs=['bold']))\n",
    "print(cl('Test - AUC score is {:.4f}'.format(ridge_classifier_test_auc), attrs=['bold']))\n",
    "\n",
    "print('-------------------------------------------------------------------------------')\n",
    "\n",
    "# 3. LassoLars (for classification)\n",
    "lasso_lars.fit(X_train, y_train)  # Ensure the model is fitted\n",
    "# Calculate AUC scores for Lasso Lars\n",
    "lasso_lars_train_predictions = lasso_lars.predict(X_train)\n",
    "lasso_lars_test_predictions = lasso_lars.predict(X_test)\n",
    "lasso_lars_train_auc = roc_auc_score(y_train, lasso_lars_train_predictions)\n",
    "lasso_lars_test_auc = roc_auc_score(y_test, lasso_lars_test_predictions)\n",
    "print(cl('LassoLars model:', attrs=['bold']))\n",
    "print(cl('Train - AUC score is {:.4f}'.format(lasso_lars_train_auc), attrs=['bold']))\n",
    "print(cl('Test - AUC score is {:.4f}'.format(lasso_lars_test_auc), attrs=['bold']))\n",
    "\n",
    "print('-------------------------------------------------------------------------------')\n",
    "\n",
    "# 4. Gaussian Naive Bayes\n",
    "naive_bayes.fit(X_train, y_train)  # Ensure the model is fitted\n",
    "naive_bayes_train_auc = roc_auc_score(y_train, naive_bayes.predict_proba(X_train)[:, 1])\n",
    "naive_bayes_test_auc = roc_auc_score(y_test, naive_bayes.predict_proba(X_test)[:, 1])\n",
    "print(cl('Naive Bayes model:', attrs=['bold']))\n",
    "print(cl('Train - AUC score is {:.4f}'.format(naive_bayes_train_auc), attrs=['bold']))\n",
    "print(cl('Test - AUC score is {:.4f}'.format(naive_bayes_test_auc), attrs=['bold']))\n",
    "\n",
    "print('-------------------------------------------------------------------------------')\n",
    "\n",
    "# 5. Support Vector Classifier\n",
    "svc.fit(X_train, y_train)  # Ensure the model is fitted\n",
    "svc_train_auc = roc_auc_score(y_train, svc.predict_proba(X_train)[:, 1])  # Use predict_proba for AUC\n",
    "svc_test_auc = roc_auc_score(y_test, svc.predict_proba(X_test)[:, 1])\n",
    "print(cl('SVC model:', attrs=['bold']))\n",
    "print(cl('Train - AUC score is {:.4f}'.format(svc_train_auc), attrs=['bold']))\n",
    "print(cl('Test - AUC score is {:.4f}'.format(svc_test_auc), attrs=['bold']))\n",
    "\n",
    "print('-------------------------------------------------------------------------------')\n"
   ]
  },
  {
   "cell_type": "code",
   "execution_count": 20,
   "metadata": {},
   "outputs": [
    {
     "name": "stdout",
     "output_type": "stream",
     "text": [
      "\u001b[1mLogistic Model: Other Metrics:\u001b[0m\n",
      "     \n",
      "Classification Report (Test):\u001b[0m\n",
      "              precision    recall  f1-score   support\n",
      "\n",
      "           0       0.68      0.93      0.78        29\n",
      "           1       0.82      0.41      0.55        22\n",
      "\n",
      "    accuracy                           0.71        51\n",
      "   macro avg       0.75      0.67      0.66        51\n",
      "weighted avg       0.74      0.71      0.68        51\n",
      "\n"
     ]
    }
   ],
   "source": [
    "print(cl('Logistic Model: Other Metrics:', attrs=['bold']))\n",
    "# 1. Logistic Regression\n",
    "logistic.fit(X_train, y_train)\n",
    "print('     ')\n",
    "print(cl('Classification Report (Test):'))\n",
    "print(classification_report(y_test, logistic_test_yhat))"
   ]
  },
  {
   "cell_type": "code",
   "execution_count": 21,
   "metadata": {},
   "outputs": [
    {
     "name": "stdout",
     "output_type": "stream",
     "text": [
      "\u001b[1mLasso Lars Classifier: Other Metrics:\u001b[0m\n",
      "     \n",
      "Classification Report (Test):\u001b[0m\n",
      "              precision    recall  f1-score   support\n",
      "\n",
      "           0       0.72      0.62      0.67        29\n",
      "           1       0.58      0.68      0.62        22\n",
      "\n",
      "    accuracy                           0.65        51\n",
      "   macro avg       0.65      0.65      0.65        51\n",
      "weighted avg       0.66      0.65      0.65        51\n",
      "\n"
     ]
    }
   ],
   "source": [
    "print(cl('Lasso Lars Classifier: Other Metrics:', attrs=['bold']))\n",
    "# 2. Ridge Classifier\n",
    "ridge_classifier.fit(X_train, y_train)\n",
    "print('     ')\n",
    "print(cl('Classification Report (Test):'))\n",
    "print(classification_report(y_test, ridge_classifier_test_yhat))"
   ]
  },
  {
   "cell_type": "code",
   "execution_count": 22,
   "metadata": {},
   "outputs": [
    {
     "name": "stdout",
     "output_type": "stream",
     "text": [
      "\u001b[1mLasso Lars Classifier:\u001b[0m\n",
      "     \n",
      "Classification Report (Test):\u001b[0m\n",
      "              precision    recall  f1-score   support\n",
      "\n",
      "           0       0.76      0.66      0.70        29\n",
      "           1       0.62      0.73      0.67        22\n",
      "\n",
      "    accuracy                           0.69        51\n",
      "   macro avg       0.69      0.69      0.69        51\n",
      "weighted avg       0.70      0.69      0.69        51\n",
      "\n"
     ]
    }
   ],
   "source": [
    "# 3. Lasso Lars Classifier (as this is originally designed for regressions, we have a few changes to make to adapt it to binary classification)\n",
    "lasso_lars.fit(X_train, y_train)\n",
    "lasso_lars_test_yhat = lasso_lars.predict(X_test) # Get continuous predictions\n",
    "lasso_lars_test_labels = (lasso_lars_test_yhat >= 0.5).astype(int) # Convert continuous predictions to class labels using a threshold (0.5)\n",
    "\n",
    "# Print the classification report\n",
    "print(cl('Lasso Lars Classifier:', attrs=['bold']))\n",
    "print('     ')\n",
    "print(cl('Classification Report (Test):'))\n",
    "print(classification_report(y_test, lasso_lars_test_labels))\n"
   ]
  },
  {
   "cell_type": "code",
   "execution_count": 23,
   "metadata": {},
   "outputs": [
    {
     "name": "stdout",
     "output_type": "stream",
     "text": [
      "\u001b[1mGaussian Naive Bayes: Other Metrics:\u001b[0m\n",
      "     \n",
      "Classification Report (Test):\u001b[0m\n",
      "              precision    recall  f1-score   support\n",
      "\n",
      "           0       0.79      0.52      0.62        29\n",
      "           1       0.56      0.82      0.67        22\n",
      "\n",
      "    accuracy                           0.65        51\n",
      "   macro avg       0.68      0.67      0.65        51\n",
      "weighted avg       0.69      0.65      0.64        51\n",
      "\n"
     ]
    }
   ],
   "source": [
    "print(cl('Gaussian Naive Bayes: Other Metrics:', attrs=['bold']))\n",
    "# 4. Gaussian Naive Bayes\n",
    "naive_bayes.fit(X_train, y_train)\n",
    "print('     ')\n",
    "print(cl('Classification Report (Test):'))\n",
    "print(classification_report(y_test, naive_bayes_test_yhat))"
   ]
  },
  {
   "cell_type": "code",
   "execution_count": 24,
   "metadata": {},
   "outputs": [
    {
     "name": "stdout",
     "output_type": "stream",
     "text": [
      "\u001b[1mSupport Vector Classifier: Other Metrics:\u001b[0m\n",
      "     \n",
      "Classification Report (Test):\u001b[0m\n",
      "              precision    recall  f1-score   support\n",
      "\n",
      "           0       0.80      0.28      0.41        29\n",
      "           1       0.49      0.91      0.63        22\n",
      "\n",
      "    accuracy                           0.55        51\n",
      "   macro avg       0.64      0.59      0.52        51\n",
      "weighted avg       0.67      0.55      0.51        51\n",
      "\n"
     ]
    }
   ],
   "source": [
    "print(cl('Support Vector Classifier: Other Metrics:', attrs=['bold']))\n",
    "# 5. Support Vector Classifier\n",
    "svc.fit(X_train, y_train)\n",
    "print('     ')\n",
    "print(cl('Classification Report (Test):'))\n",
    "print(classification_report(y_test,svc_test_yhat))"
   ]
  },
  {
   "cell_type": "code",
   "execution_count": 25,
   "metadata": {},
   "outputs": [
    {
     "data": {
      "application/vnd.plotly.v1+json": {
       "config": {
        "plotlyServerURL": "https://plot.ly"
       },
       "data": [
        {
         "alignmentgroup": "True",
         "hovertemplate": "Dataset=Train<br>Classification Model=%{x}<br>AUC Score=%{y}<extra></extra>",
         "legendgroup": "Train",
         "marker": {
          "color": "#636efa",
          "pattern": {
           "shape": ""
          }
         },
         "name": "Train",
         "offsetgroup": "Train",
         "orientation": "v",
         "showlegend": true,
         "textposition": "auto",
         "type": "bar",
         "x": [
          "Logistic Regression",
          "Ridge Classifier",
          "Lasso Lars",
          "Naive Bayes",
          "SVC"
         ],
         "xaxis": "x",
         "y": [
          0.9421602787456446,
          1,
          0.937979094076655,
          0.7853658536585366,
          0.8083623693379791
         ],
         "yaxis": "y"
        },
        {
         "alignmentgroup": "True",
         "hovertemplate": "Dataset=Test<br>Classification Model=%{x}<br>AUC Score=%{y}<extra></extra>",
         "legendgroup": "Test",
         "marker": {
          "color": "#EF553B",
          "pattern": {
           "shape": ""
          }
         },
         "name": "Test",
         "offsetgroup": "Test",
         "orientation": "v",
         "showlegend": true,
         "textposition": "auto",
         "type": "bar",
         "x": [
          "Logistic Regression",
          "Ridge Classifier",
          "Lasso Lars",
          "Naive Bayes",
          "SVC"
         ],
         "xaxis": "x",
         "y": [
          0.8338557993730408,
          0.5877742946708464,
          0.7178683385579937,
          0.6778996865203761,
          0.6849529780564263
         ],
         "yaxis": "y"
        }
       ],
       "layout": {
        "barmode": "group",
        "legend": {
         "title": {
          "text": "Dataset"
         },
         "tracegroupgap": 0
        },
        "template": {
         "data": {
          "bar": [
           {
            "error_x": {
             "color": "#f2f5fa"
            },
            "error_y": {
             "color": "#f2f5fa"
            },
            "marker": {
             "line": {
              "color": "rgb(17,17,17)",
              "width": 0.5
             },
             "pattern": {
              "fillmode": "overlay",
              "size": 10,
              "solidity": 0.2
             }
            },
            "type": "bar"
           }
          ],
          "barpolar": [
           {
            "marker": {
             "line": {
              "color": "rgb(17,17,17)",
              "width": 0.5
             },
             "pattern": {
              "fillmode": "overlay",
              "size": 10,
              "solidity": 0.2
             }
            },
            "type": "barpolar"
           }
          ],
          "carpet": [
           {
            "aaxis": {
             "endlinecolor": "#A2B1C6",
             "gridcolor": "#506784",
             "linecolor": "#506784",
             "minorgridcolor": "#506784",
             "startlinecolor": "#A2B1C6"
            },
            "baxis": {
             "endlinecolor": "#A2B1C6",
             "gridcolor": "#506784",
             "linecolor": "#506784",
             "minorgridcolor": "#506784",
             "startlinecolor": "#A2B1C6"
            },
            "type": "carpet"
           }
          ],
          "choropleth": [
           {
            "colorbar": {
             "outlinewidth": 0,
             "ticks": ""
            },
            "type": "choropleth"
           }
          ],
          "contour": [
           {
            "colorbar": {
             "outlinewidth": 0,
             "ticks": ""
            },
            "colorscale": [
             [
              0,
              "#0d0887"
             ],
             [
              0.1111111111111111,
              "#46039f"
             ],
             [
              0.2222222222222222,
              "#7201a8"
             ],
             [
              0.3333333333333333,
              "#9c179e"
             ],
             [
              0.4444444444444444,
              "#bd3786"
             ],
             [
              0.5555555555555556,
              "#d8576b"
             ],
             [
              0.6666666666666666,
              "#ed7953"
             ],
             [
              0.7777777777777778,
              "#fb9f3a"
             ],
             [
              0.8888888888888888,
              "#fdca26"
             ],
             [
              1,
              "#f0f921"
             ]
            ],
            "type": "contour"
           }
          ],
          "contourcarpet": [
           {
            "colorbar": {
             "outlinewidth": 0,
             "ticks": ""
            },
            "type": "contourcarpet"
           }
          ],
          "heatmap": [
           {
            "colorbar": {
             "outlinewidth": 0,
             "ticks": ""
            },
            "colorscale": [
             [
              0,
              "#0d0887"
             ],
             [
              0.1111111111111111,
              "#46039f"
             ],
             [
              0.2222222222222222,
              "#7201a8"
             ],
             [
              0.3333333333333333,
              "#9c179e"
             ],
             [
              0.4444444444444444,
              "#bd3786"
             ],
             [
              0.5555555555555556,
              "#d8576b"
             ],
             [
              0.6666666666666666,
              "#ed7953"
             ],
             [
              0.7777777777777778,
              "#fb9f3a"
             ],
             [
              0.8888888888888888,
              "#fdca26"
             ],
             [
              1,
              "#f0f921"
             ]
            ],
            "type": "heatmap"
           }
          ],
          "heatmapgl": [
           {
            "colorbar": {
             "outlinewidth": 0,
             "ticks": ""
            },
            "colorscale": [
             [
              0,
              "#0d0887"
             ],
             [
              0.1111111111111111,
              "#46039f"
             ],
             [
              0.2222222222222222,
              "#7201a8"
             ],
             [
              0.3333333333333333,
              "#9c179e"
             ],
             [
              0.4444444444444444,
              "#bd3786"
             ],
             [
              0.5555555555555556,
              "#d8576b"
             ],
             [
              0.6666666666666666,
              "#ed7953"
             ],
             [
              0.7777777777777778,
              "#fb9f3a"
             ],
             [
              0.8888888888888888,
              "#fdca26"
             ],
             [
              1,
              "#f0f921"
             ]
            ],
            "type": "heatmapgl"
           }
          ],
          "histogram": [
           {
            "marker": {
             "pattern": {
              "fillmode": "overlay",
              "size": 10,
              "solidity": 0.2
             }
            },
            "type": "histogram"
           }
          ],
          "histogram2d": [
           {
            "colorbar": {
             "outlinewidth": 0,
             "ticks": ""
            },
            "colorscale": [
             [
              0,
              "#0d0887"
             ],
             [
              0.1111111111111111,
              "#46039f"
             ],
             [
              0.2222222222222222,
              "#7201a8"
             ],
             [
              0.3333333333333333,
              "#9c179e"
             ],
             [
              0.4444444444444444,
              "#bd3786"
             ],
             [
              0.5555555555555556,
              "#d8576b"
             ],
             [
              0.6666666666666666,
              "#ed7953"
             ],
             [
              0.7777777777777778,
              "#fb9f3a"
             ],
             [
              0.8888888888888888,
              "#fdca26"
             ],
             [
              1,
              "#f0f921"
             ]
            ],
            "type": "histogram2d"
           }
          ],
          "histogram2dcontour": [
           {
            "colorbar": {
             "outlinewidth": 0,
             "ticks": ""
            },
            "colorscale": [
             [
              0,
              "#0d0887"
             ],
             [
              0.1111111111111111,
              "#46039f"
             ],
             [
              0.2222222222222222,
              "#7201a8"
             ],
             [
              0.3333333333333333,
              "#9c179e"
             ],
             [
              0.4444444444444444,
              "#bd3786"
             ],
             [
              0.5555555555555556,
              "#d8576b"
             ],
             [
              0.6666666666666666,
              "#ed7953"
             ],
             [
              0.7777777777777778,
              "#fb9f3a"
             ],
             [
              0.8888888888888888,
              "#fdca26"
             ],
             [
              1,
              "#f0f921"
             ]
            ],
            "type": "histogram2dcontour"
           }
          ],
          "mesh3d": [
           {
            "colorbar": {
             "outlinewidth": 0,
             "ticks": ""
            },
            "type": "mesh3d"
           }
          ],
          "parcoords": [
           {
            "line": {
             "colorbar": {
              "outlinewidth": 0,
              "ticks": ""
             }
            },
            "type": "parcoords"
           }
          ],
          "pie": [
           {
            "automargin": true,
            "type": "pie"
           }
          ],
          "scatter": [
           {
            "marker": {
             "line": {
              "color": "#283442"
             }
            },
            "type": "scatter"
           }
          ],
          "scatter3d": [
           {
            "line": {
             "colorbar": {
              "outlinewidth": 0,
              "ticks": ""
             }
            },
            "marker": {
             "colorbar": {
              "outlinewidth": 0,
              "ticks": ""
             }
            },
            "type": "scatter3d"
           }
          ],
          "scattercarpet": [
           {
            "marker": {
             "colorbar": {
              "outlinewidth": 0,
              "ticks": ""
             }
            },
            "type": "scattercarpet"
           }
          ],
          "scattergeo": [
           {
            "marker": {
             "colorbar": {
              "outlinewidth": 0,
              "ticks": ""
             }
            },
            "type": "scattergeo"
           }
          ],
          "scattergl": [
           {
            "marker": {
             "line": {
              "color": "#283442"
             }
            },
            "type": "scattergl"
           }
          ],
          "scattermapbox": [
           {
            "marker": {
             "colorbar": {
              "outlinewidth": 0,
              "ticks": ""
             }
            },
            "type": "scattermapbox"
           }
          ],
          "scatterpolar": [
           {
            "marker": {
             "colorbar": {
              "outlinewidth": 0,
              "ticks": ""
             }
            },
            "type": "scatterpolar"
           }
          ],
          "scatterpolargl": [
           {
            "marker": {
             "colorbar": {
              "outlinewidth": 0,
              "ticks": ""
             }
            },
            "type": "scatterpolargl"
           }
          ],
          "scatterternary": [
           {
            "marker": {
             "colorbar": {
              "outlinewidth": 0,
              "ticks": ""
             }
            },
            "type": "scatterternary"
           }
          ],
          "surface": [
           {
            "colorbar": {
             "outlinewidth": 0,
             "ticks": ""
            },
            "colorscale": [
             [
              0,
              "#0d0887"
             ],
             [
              0.1111111111111111,
              "#46039f"
             ],
             [
              0.2222222222222222,
              "#7201a8"
             ],
             [
              0.3333333333333333,
              "#9c179e"
             ],
             [
              0.4444444444444444,
              "#bd3786"
             ],
             [
              0.5555555555555556,
              "#d8576b"
             ],
             [
              0.6666666666666666,
              "#ed7953"
             ],
             [
              0.7777777777777778,
              "#fb9f3a"
             ],
             [
              0.8888888888888888,
              "#fdca26"
             ],
             [
              1,
              "#f0f921"
             ]
            ],
            "type": "surface"
           }
          ],
          "table": [
           {
            "cells": {
             "fill": {
              "color": "#506784"
             },
             "line": {
              "color": "rgb(17,17,17)"
             }
            },
            "header": {
             "fill": {
              "color": "#2a3f5f"
             },
             "line": {
              "color": "rgb(17,17,17)"
             }
            },
            "type": "table"
           }
          ]
         },
         "layout": {
          "annotationdefaults": {
           "arrowcolor": "#f2f5fa",
           "arrowhead": 0,
           "arrowwidth": 1
          },
          "autotypenumbers": "strict",
          "coloraxis": {
           "colorbar": {
            "outlinewidth": 0,
            "ticks": ""
           }
          },
          "colorscale": {
           "diverging": [
            [
             0,
             "#8e0152"
            ],
            [
             0.1,
             "#c51b7d"
            ],
            [
             0.2,
             "#de77ae"
            ],
            [
             0.3,
             "#f1b6da"
            ],
            [
             0.4,
             "#fde0ef"
            ],
            [
             0.5,
             "#f7f7f7"
            ],
            [
             0.6,
             "#e6f5d0"
            ],
            [
             0.7,
             "#b8e186"
            ],
            [
             0.8,
             "#7fbc41"
            ],
            [
             0.9,
             "#4d9221"
            ],
            [
             1,
             "#276419"
            ]
           ],
           "sequential": [
            [
             0,
             "#0d0887"
            ],
            [
             0.1111111111111111,
             "#46039f"
            ],
            [
             0.2222222222222222,
             "#7201a8"
            ],
            [
             0.3333333333333333,
             "#9c179e"
            ],
            [
             0.4444444444444444,
             "#bd3786"
            ],
            [
             0.5555555555555556,
             "#d8576b"
            ],
            [
             0.6666666666666666,
             "#ed7953"
            ],
            [
             0.7777777777777778,
             "#fb9f3a"
            ],
            [
             0.8888888888888888,
             "#fdca26"
            ],
            [
             1,
             "#f0f921"
            ]
           ],
           "sequentialminus": [
            [
             0,
             "#0d0887"
            ],
            [
             0.1111111111111111,
             "#46039f"
            ],
            [
             0.2222222222222222,
             "#7201a8"
            ],
            [
             0.3333333333333333,
             "#9c179e"
            ],
            [
             0.4444444444444444,
             "#bd3786"
            ],
            [
             0.5555555555555556,
             "#d8576b"
            ],
            [
             0.6666666666666666,
             "#ed7953"
            ],
            [
             0.7777777777777778,
             "#fb9f3a"
            ],
            [
             0.8888888888888888,
             "#fdca26"
            ],
            [
             1,
             "#f0f921"
            ]
           ]
          },
          "colorway": [
           "#636efa",
           "#EF553B",
           "#00cc96",
           "#ab63fa",
           "#FFA15A",
           "#19d3f3",
           "#FF6692",
           "#B6E880",
           "#FF97FF",
           "#FECB52"
          ],
          "font": {
           "color": "#f2f5fa"
          },
          "geo": {
           "bgcolor": "rgb(17,17,17)",
           "lakecolor": "rgb(17,17,17)",
           "landcolor": "rgb(17,17,17)",
           "showlakes": true,
           "showland": true,
           "subunitcolor": "#506784"
          },
          "hoverlabel": {
           "align": "left"
          },
          "hovermode": "closest",
          "mapbox": {
           "style": "dark"
          },
          "paper_bgcolor": "rgb(17,17,17)",
          "plot_bgcolor": "rgb(17,17,17)",
          "polar": {
           "angularaxis": {
            "gridcolor": "#506784",
            "linecolor": "#506784",
            "ticks": ""
           },
           "bgcolor": "rgb(17,17,17)",
           "radialaxis": {
            "gridcolor": "#506784",
            "linecolor": "#506784",
            "ticks": ""
           }
          },
          "scene": {
           "xaxis": {
            "backgroundcolor": "rgb(17,17,17)",
            "gridcolor": "#506784",
            "gridwidth": 2,
            "linecolor": "#506784",
            "showbackground": true,
            "ticks": "",
            "zerolinecolor": "#C8D4E3"
           },
           "yaxis": {
            "backgroundcolor": "rgb(17,17,17)",
            "gridcolor": "#506784",
            "gridwidth": 2,
            "linecolor": "#506784",
            "showbackground": true,
            "ticks": "",
            "zerolinecolor": "#C8D4E3"
           },
           "zaxis": {
            "backgroundcolor": "rgb(17,17,17)",
            "gridcolor": "#506784",
            "gridwidth": 2,
            "linecolor": "#506784",
            "showbackground": true,
            "ticks": "",
            "zerolinecolor": "#C8D4E3"
           }
          },
          "shapedefaults": {
           "line": {
            "color": "#f2f5fa"
           }
          },
          "sliderdefaults": {
           "bgcolor": "#C8D4E3",
           "bordercolor": "rgb(17,17,17)",
           "borderwidth": 1,
           "tickwidth": 0
          },
          "ternary": {
           "aaxis": {
            "gridcolor": "#506784",
            "linecolor": "#506784",
            "ticks": ""
           },
           "baxis": {
            "gridcolor": "#506784",
            "linecolor": "#506784",
            "ticks": ""
           },
           "bgcolor": "rgb(17,17,17)",
           "caxis": {
            "gridcolor": "#506784",
            "linecolor": "#506784",
            "ticks": ""
           }
          },
          "title": {
           "x": 0.05
          },
          "updatemenudefaults": {
           "bgcolor": "#506784",
           "borderwidth": 0
          },
          "xaxis": {
           "automargin": true,
           "gridcolor": "#283442",
           "linecolor": "#506784",
           "ticks": "",
           "title": {
            "standoff": 15
           },
           "zerolinecolor": "#283442",
           "zerolinewidth": 2
          },
          "yaxis": {
           "automargin": true,
           "gridcolor": "#283442",
           "linecolor": "#506784",
           "ticks": "",
           "title": {
            "standoff": 15
           },
           "zerolinecolor": "#283442",
           "zerolinewidth": 2
          }
         }
        },
        "title": {
         "font": {
          "size": 20
         },
         "text": "Comparison of AUC Scores Across Models"
        },
        "xaxis": {
         "anchor": "y",
         "domain": [
          0,
          1
         ],
         "title": {
          "text": "Model"
         }
        },
        "yaxis": {
         "anchor": "x",
         "domain": [
          0,
          1
         ],
         "title": {
          "text": "AUC Score"
         }
        }
       }
      }
     },
     "metadata": {},
     "output_type": "display_data"
    }
   ],
   "source": [
    "# AUC scores from all models\n",
    "model_names = ['Logistic Regression', 'Ridge Classifier', 'Lasso Lars', 'Naive Bayes', 'SVC']\n",
    "train_auc_scores = [logistic_train_auc, ridge_classifier_train_auc, lasso_lars_train_auc, naive_bayes_train_auc, svc_train_auc]\n",
    "test_auc_scores = [logistic_test_auc, ridge_classifier_test_auc, lasso_lars_test_auc, naive_bayes_test_auc, svc_test_auc]\n",
    "\n",
    "# Create a DataFrame for visualization\n",
    "auc_data = pd.DataFrame({\n",
    "    'Model': model_names * 2,\n",
    "    'Dataset': ['Train'] * len(model_names) + ['Test'] * len(model_names),\n",
    "    'AUC Score': train_auc_scores + test_auc_scores})\n",
    "\n",
    "# Create the bar plot with the plotly_dark template\n",
    "fig = px.bar(\n",
    "    auc_data, \n",
    "    x='Model', \n",
    "    y='AUC Score', \n",
    "    color='Dataset', \n",
    "    barmode='group',\n",
    "    title='Comparison of AUC Scores Across Models',\n",
    "    labels={'AUC Score': 'AUC Score', 'Model': 'Classification Model'},\n",
    "    template='plotly_dark'\n",
    ")\n",
    "\n",
    "# Customize layout\n",
    "fig.update_layout(\n",
    "    title_font_size=20,\n",
    "    xaxis_title='Model',\n",
    "    yaxis_title='AUC Score',\n",
    "    legend_title='Dataset',\n",
    ")\n",
    "\n",
    "# Display the plot\n",
    "fig.show()\n"
   ]
  },
  {
   "cell_type": "markdown",
   "metadata": {},
   "source": [
    "# Improved Modeling"
   ]
  },
  {
   "cell_type": "markdown",
   "metadata": {},
   "source": [
    "## Feature Engineering "
   ]
  },
  {
   "cell_type": "markdown",
   "metadata": {},
   "source": [
    "Creation of relevant ratios recarding country ratings. "
   ]
  },
  {
   "cell_type": "code",
   "execution_count": 26,
   "metadata": {},
   "outputs": [],
   "source": [
    "df = data.copy()"
   ]
  },
  {
   "cell_type": "code",
   "execution_count": 27,
   "metadata": {},
   "outputs": [
    {
     "data": {
      "text/html": [
       "<div>\n",
       "<style scoped>\n",
       "    .dataframe tbody tr th:only-of-type {\n",
       "        vertical-align: middle;\n",
       "    }\n",
       "\n",
       "    .dataframe tbody tr th {\n",
       "        vertical-align: top;\n",
       "    }\n",
       "\n",
       "    .dataframe thead th {\n",
       "        text-align: right;\n",
       "    }\n",
       "</style>\n",
       "<table border=\"1\" class=\"dataframe\">\n",
       "  <thead>\n",
       "    <tr style=\"text-align: right;\">\n",
       "      <th></th>\n",
       "      <th>S&amp;P Rating</th>\n",
       "      <th>unemployment_2000</th>\n",
       "      <th>unemployment_2014</th>\n",
       "      <th>unemployment_2015</th>\n",
       "      <th>unemployment_2016</th>\n",
       "      <th>unemployment_2017</th>\n",
       "      <th>unemployment_2018</th>\n",
       "      <th>unemployment_2019</th>\n",
       "      <th>unemployment_2020</th>\n",
       "      <th>unemployment_2021</th>\n",
       "      <th>...</th>\n",
       "      <th>total_reserves_2015</th>\n",
       "      <th>total_reserves_2016</th>\n",
       "      <th>total_reserves_2017</th>\n",
       "      <th>total_reserves_2018</th>\n",
       "      <th>total_reserves_2019</th>\n",
       "      <th>total_reserves_2020</th>\n",
       "      <th>total_reserves_2021</th>\n",
       "      <th>total_reserves_2022</th>\n",
       "      <th>total_reserves_2023</th>\n",
       "      <th>target</th>\n",
       "    </tr>\n",
       "    <tr>\n",
       "      <th>Country</th>\n",
       "      <th></th>\n",
       "      <th></th>\n",
       "      <th></th>\n",
       "      <th></th>\n",
       "      <th></th>\n",
       "      <th></th>\n",
       "      <th></th>\n",
       "      <th></th>\n",
       "      <th></th>\n",
       "      <th></th>\n",
       "      <th></th>\n",
       "      <th></th>\n",
       "      <th></th>\n",
       "      <th></th>\n",
       "      <th></th>\n",
       "      <th></th>\n",
       "      <th></th>\n",
       "      <th></th>\n",
       "      <th></th>\n",
       "      <th></th>\n",
       "      <th></th>\n",
       "    </tr>\n",
       "  </thead>\n",
       "  <tbody>\n",
       "    <tr>\n",
       "      <th>Australia</th>\n",
       "      <td>AAA</td>\n",
       "      <td>6.288000</td>\n",
       "      <td>6.078000</td>\n",
       "      <td>6.055000</td>\n",
       "      <td>5.711000</td>\n",
       "      <td>5.592000</td>\n",
       "      <td>5.300000</td>\n",
       "      <td>5.159000</td>\n",
       "      <td>6.456000</td>\n",
       "      <td>5.116000</td>\n",
       "      <td>...</td>\n",
       "      <td>4.540604e+10</td>\n",
       "      <td>5.248079e+10</td>\n",
       "      <td>6.565372e+10</td>\n",
       "      <td>5.390953e+10</td>\n",
       "      <td>5.799469e+10</td>\n",
       "      <td>4.254463e+10</td>\n",
       "      <td>5.787750e+10</td>\n",
       "      <td>5.670190e+10</td>\n",
       "      <td>6.170335e+10</td>\n",
       "      <td>0</td>\n",
       "    </tr>\n",
       "    <tr>\n",
       "      <th>Canada</th>\n",
       "      <td>AAA</td>\n",
       "      <td>6.829000</td>\n",
       "      <td>7.023000</td>\n",
       "      <td>6.945000</td>\n",
       "      <td>7.038000</td>\n",
       "      <td>6.426000</td>\n",
       "      <td>5.837000</td>\n",
       "      <td>5.690000</td>\n",
       "      <td>9.657000</td>\n",
       "      <td>7.527000</td>\n",
       "      <td>...</td>\n",
       "      <td>7.975352e+10</td>\n",
       "      <td>8.271811e+10</td>\n",
       "      <td>8.667771e+10</td>\n",
       "      <td>8.392560e+10</td>\n",
       "      <td>8.529711e+10</td>\n",
       "      <td>9.042814e+10</td>\n",
       "      <td>1.066151e+11</td>\n",
       "      <td>1.069524e+11</td>\n",
       "      <td>1.175509e+11</td>\n",
       "      <td>0</td>\n",
       "    </tr>\n",
       "    <tr>\n",
       "      <th>Denmark</th>\n",
       "      <td>AAA</td>\n",
       "      <td>4.476000</td>\n",
       "      <td>6.925000</td>\n",
       "      <td>6.278000</td>\n",
       "      <td>5.989000</td>\n",
       "      <td>5.833000</td>\n",
       "      <td>5.131000</td>\n",
       "      <td>5.018000</td>\n",
       "      <td>5.637000</td>\n",
       "      <td>5.043000</td>\n",
       "      <td>...</td>\n",
       "      <td>6.518509e+10</td>\n",
       "      <td>6.421581e+10</td>\n",
       "      <td>7.524445e+10</td>\n",
       "      <td>7.094208e+10</td>\n",
       "      <td>6.683555e+10</td>\n",
       "      <td>7.282335e+10</td>\n",
       "      <td>8.223584e+10</td>\n",
       "      <td>9.607255e+10</td>\n",
       "      <td>1.093708e+11</td>\n",
       "      <td>0</td>\n",
       "    </tr>\n",
       "    <tr>\n",
       "      <th>Germany</th>\n",
       "      <td>AAA</td>\n",
       "      <td>7.917000</td>\n",
       "      <td>4.981000</td>\n",
       "      <td>4.624000</td>\n",
       "      <td>4.122000</td>\n",
       "      <td>3.746000</td>\n",
       "      <td>3.384000</td>\n",
       "      <td>3.136000</td>\n",
       "      <td>3.856000</td>\n",
       "      <td>3.638000</td>\n",
       "      <td>...</td>\n",
       "      <td>1.737309e+11</td>\n",
       "      <td>1.840313e+11</td>\n",
       "      <td>1.999831e+11</td>\n",
       "      <td>1.980271e+11</td>\n",
       "      <td>2.240280e+11</td>\n",
       "      <td>2.684086e+11</td>\n",
       "      <td>2.957362e+11</td>\n",
       "      <td>2.939137e+11</td>\n",
       "      <td>3.227001e+11</td>\n",
       "      <td>0</td>\n",
       "    </tr>\n",
       "    <tr>\n",
       "      <th>Liechtenstein</th>\n",
       "      <td>AAA</td>\n",
       "      <td>9.640537</td>\n",
       "      <td>9.136085</td>\n",
       "      <td>9.052059</td>\n",
       "      <td>8.903803</td>\n",
       "      <td>8.664479</td>\n",
       "      <td>8.383856</td>\n",
       "      <td>8.244777</td>\n",
       "      <td>9.305229</td>\n",
       "      <td>9.015766</td>\n",
       "      <td>...</td>\n",
       "      <td>2.726483e+09</td>\n",
       "      <td>2.453835e+09</td>\n",
       "      <td>2.181187e+09</td>\n",
       "      <td>1.908538e+09</td>\n",
       "      <td>1.635890e+09</td>\n",
       "      <td>1.363242e+09</td>\n",
       "      <td>1.090593e+09</td>\n",
       "      <td>8.179449e+08</td>\n",
       "      <td>5.452966e+08</td>\n",
       "      <td>0</td>\n",
       "    </tr>\n",
       "  </tbody>\n",
       "</table>\n",
       "<p>5 rows × 73 columns</p>\n",
       "</div>"
      ],
      "text/plain": [
       "              S&P Rating  unemployment_2000  unemployment_2014  \\\n",
       "Country                                                          \n",
       "Australia            AAA           6.288000           6.078000   \n",
       "Canada               AAA           6.829000           7.023000   \n",
       "Denmark              AAA           4.476000           6.925000   \n",
       "Germany              AAA           7.917000           4.981000   \n",
       "Liechtenstein        AAA           9.640537           9.136085   \n",
       "\n",
       "               unemployment_2015  unemployment_2016  unemployment_2017  \\\n",
       "Country                                                                  \n",
       "Australia               6.055000           5.711000           5.592000   \n",
       "Canada                  6.945000           7.038000           6.426000   \n",
       "Denmark                 6.278000           5.989000           5.833000   \n",
       "Germany                 4.624000           4.122000           3.746000   \n",
       "Liechtenstein           9.052059           8.903803           8.664479   \n",
       "\n",
       "               unemployment_2018  unemployment_2019  unemployment_2020  \\\n",
       "Country                                                                  \n",
       "Australia               5.300000           5.159000           6.456000   \n",
       "Canada                  5.837000           5.690000           9.657000   \n",
       "Denmark                 5.131000           5.018000           5.637000   \n",
       "Germany                 3.384000           3.136000           3.856000   \n",
       "Liechtenstein           8.383856           8.244777           9.305229   \n",
       "\n",
       "               unemployment_2021  ...  total_reserves_2015  \\\n",
       "Country                           ...                        \n",
       "Australia               5.116000  ...         4.540604e+10   \n",
       "Canada                  7.527000  ...         7.975352e+10   \n",
       "Denmark                 5.043000  ...         6.518509e+10   \n",
       "Germany                 3.638000  ...         1.737309e+11   \n",
       "Liechtenstein           9.015766  ...         2.726483e+09   \n",
       "\n",
       "               total_reserves_2016  total_reserves_2017  total_reserves_2018  \\\n",
       "Country                                                                        \n",
       "Australia             5.248079e+10         6.565372e+10         5.390953e+10   \n",
       "Canada                8.271811e+10         8.667771e+10         8.392560e+10   \n",
       "Denmark               6.421581e+10         7.524445e+10         7.094208e+10   \n",
       "Germany               1.840313e+11         1.999831e+11         1.980271e+11   \n",
       "Liechtenstein         2.453835e+09         2.181187e+09         1.908538e+09   \n",
       "\n",
       "               total_reserves_2019  total_reserves_2020  total_reserves_2021  \\\n",
       "Country                                                                        \n",
       "Australia             5.799469e+10         4.254463e+10         5.787750e+10   \n",
       "Canada                8.529711e+10         9.042814e+10         1.066151e+11   \n",
       "Denmark               6.683555e+10         7.282335e+10         8.223584e+10   \n",
       "Germany               2.240280e+11         2.684086e+11         2.957362e+11   \n",
       "Liechtenstein         1.635890e+09         1.363242e+09         1.090593e+09   \n",
       "\n",
       "               total_reserves_2022  total_reserves_2023  target  \n",
       "Country                                                          \n",
       "Australia             5.670190e+10         6.170335e+10       0  \n",
       "Canada                1.069524e+11         1.175509e+11       0  \n",
       "Denmark               9.607255e+10         1.093708e+11       0  \n",
       "Germany               2.939137e+11         3.227001e+11       0  \n",
       "Liechtenstein         8.179449e+08         5.452966e+08       0  \n",
       "\n",
       "[5 rows x 73 columns]"
      ]
     },
     "execution_count": 27,
     "metadata": {},
     "output_type": "execute_result"
    }
   ],
   "source": [
    "df.head()"
   ]
  },
  {
   "cell_type": "code",
   "execution_count": 28,
   "metadata": {},
   "outputs": [
    {
     "data": {
      "text/plain": [
       "Index(['S&P Rating', 'unemployment_2000', 'unemployment_2014',\n",
       "       'unemployment_2015', 'unemployment_2016', 'unemployment_2017',\n",
       "       'unemployment_2018', 'unemployment_2019', 'unemployment_2020',\n",
       "       'unemployment_2021', 'unemployment_2022', 'unemployment_2023',\n",
       "       'current_account_balance_1990', 'current_account_balance_2000',\n",
       "       'current_account_balance_2014', 'current_account_balance_2015',\n",
       "       'current_account_balance_2016', 'current_account_balance_2017',\n",
       "       'current_account_balance_2018', 'current_account_balance_2019',\n",
       "       'current_account_balance_2020', 'current_account_balance_2021',\n",
       "       'current_account_balance_2022', 'current_account_balance_2023',\n",
       "       'exchange_rate_usd_1990', 'exchange_rate_usd_2000',\n",
       "       'exchange_rate_usd_2014', 'exchange_rate_usd_2015',\n",
       "       'exchange_rate_usd_2016', 'exchange_rate_usd_2017',\n",
       "       'exchange_rate_usd_2018', 'exchange_rate_usd_2019',\n",
       "       'exchange_rate_usd_2020', 'exchange_rate_usd_2021',\n",
       "       'exchange_rate_usd_2022', 'exchange_rate_usd_2023', 'gdp_1990',\n",
       "       'gdp_2000', 'gdp_2014', 'gdp_2015', 'gdp_2016', 'gdp_2017', 'gdp_2018',\n",
       "       'gdp_2019', 'gdp_2020', 'gdp_2021', 'gdp_2022', 'gdp_2023',\n",
       "       'inflation_1990', 'inflation_2000', 'inflation_2014', 'inflation_2015',\n",
       "       'inflation_2016', 'inflation_2017', 'inflation_2018', 'inflation_2019',\n",
       "       'inflation_2020', 'inflation_2021', 'inflation_2022', 'inflation_2023',\n",
       "       'total_reserves_1990', 'total_reserves_2000', 'total_reserves_2014',\n",
       "       'total_reserves_2015', 'total_reserves_2016', 'total_reserves_2017',\n",
       "       'total_reserves_2018', 'total_reserves_2019', 'total_reserves_2020',\n",
       "       'total_reserves_2021', 'total_reserves_2022', 'total_reserves_2023',\n",
       "       'target'],\n",
       "      dtype='object')"
      ]
     },
     "execution_count": 28,
     "metadata": {},
     "output_type": "execute_result"
    }
   ],
   "source": [
    "df.columns"
   ]
  },
  {
   "cell_type": "markdown",
   "metadata": {},
   "source": [
    "#### Current Account Balance to GDP Ratio"
   ]
  },
  {
   "cell_type": "code",
   "execution_count": 29,
   "metadata": {},
   "outputs": [],
   "source": [
    "# years for which we have data\n",
    "years = [1990, 2000, 2014, 2015, 2016, 2017, 2018, 2019, 2020, 2021, 2022, 2023]\n",
    "\n",
    "for year in years:\n",
    "    cab_col = f'current_account_balance_{year}'\n",
    "    gdp_col = f'gdp_{year}'\n",
    "    ratio_col = f'cab_to_gdp_{year}'\n",
    "    \n",
    "    # Ensure the columns exist before creating the ratio\n",
    "    if cab_col in df.columns and gdp_col in df.columns:\n",
    "        df[ratio_col] = df[cab_col] / df[gdp_col]"
   ]
  },
  {
   "cell_type": "markdown",
   "metadata": {},
   "source": [
    "#### Total reserves to GDP Ratio"
   ]
  },
  {
   "cell_type": "code",
   "execution_count": 30,
   "metadata": {},
   "outputs": [],
   "source": [
    "for year in years:\n",
    "    reserves_col = f'total_reserves_{year}'\n",
    "    gdp_col = f'gdp_{year}'\n",
    "    ratio_col = f'reserves_to_gdp_{year}'\n",
    "    \n",
    "    if reserves_col in df.columns and gdp_col in df.columns:\n",
    "        df[ratio_col] = df[reserves_col] / df[gdp_col]"
   ]
  },
  {
   "cell_type": "markdown",
   "metadata": {},
   "source": [
    "#### GDP Growth Rate "
   ]
  },
  {
   "cell_type": "code",
   "execution_count": 31,
   "metadata": {},
   "outputs": [],
   "source": [
    "#only the years for which we can calculate a contiguous change\n",
    "growth_years = [2014, 2015, 2016, 2017, 2018, 2019, 2020, 2021, 2022, 2023]\n",
    "\n",
    "for i in range(1, len(growth_years)):\n",
    "    previous = growth_years[i - 1]\n",
    "    current = growth_years[i]\n",
    "    gdp_prev = f'gdp_{previous}'\n",
    "    gdp_curr = f'gdp_{current}'\n",
    "    growth_col = f'gdp_growth_{previous}_{current}'\n",
    "    \n",
    "    if gdp_prev in df.columns and gdp_curr in df.columns:\n",
    "        df[growth_col] = (df[gdp_curr] - df[gdp_prev]) / df[gdp_prev]"
   ]
  },
  {
   "cell_type": "markdown",
   "metadata": {},
   "source": [
    "### Inflation to Unemployment Ratio"
   ]
  },
  {
   "cell_type": "code",
   "execution_count": 32,
   "metadata": {},
   "outputs": [],
   "source": [
    "for year in years:\n",
    "    inflation_col = f'inflation_{year}'\n",
    "    unemployment_col = f'unemployment_{year}'\n",
    "    ratio_col = f'inflation_to_unemployment_{year}'\n",
    "    \n",
    "    if inflation_col in df.columns and unemployment_col in df.columns:\n",
    "        df[ratio_col] = df[inflation_col] / df[unemployment_col]"
   ]
  },
  {
   "cell_type": "code",
   "execution_count": 33,
   "metadata": {},
   "outputs": [
    {
     "data": {
      "text/html": [
       "<div>\n",
       "<style scoped>\n",
       "    .dataframe tbody tr th:only-of-type {\n",
       "        vertical-align: middle;\n",
       "    }\n",
       "\n",
       "    .dataframe tbody tr th {\n",
       "        vertical-align: top;\n",
       "    }\n",
       "\n",
       "    .dataframe thead th {\n",
       "        text-align: right;\n",
       "    }\n",
       "</style>\n",
       "<table border=\"1\" class=\"dataframe\">\n",
       "  <thead>\n",
       "    <tr style=\"text-align: right;\">\n",
       "      <th></th>\n",
       "      <th>S&amp;P Rating</th>\n",
       "      <th>unemployment_2000</th>\n",
       "      <th>unemployment_2014</th>\n",
       "      <th>unemployment_2015</th>\n",
       "      <th>unemployment_2016</th>\n",
       "      <th>unemployment_2017</th>\n",
       "      <th>unemployment_2018</th>\n",
       "      <th>unemployment_2019</th>\n",
       "      <th>unemployment_2020</th>\n",
       "      <th>unemployment_2021</th>\n",
       "      <th>...</th>\n",
       "      <th>inflation_to_unemployment_2014</th>\n",
       "      <th>inflation_to_unemployment_2015</th>\n",
       "      <th>inflation_to_unemployment_2016</th>\n",
       "      <th>inflation_to_unemployment_2017</th>\n",
       "      <th>inflation_to_unemployment_2018</th>\n",
       "      <th>inflation_to_unemployment_2019</th>\n",
       "      <th>inflation_to_unemployment_2020</th>\n",
       "      <th>inflation_to_unemployment_2021</th>\n",
       "      <th>inflation_to_unemployment_2022</th>\n",
       "      <th>inflation_to_unemployment_2023</th>\n",
       "    </tr>\n",
       "    <tr>\n",
       "      <th>Country</th>\n",
       "      <th></th>\n",
       "      <th></th>\n",
       "      <th></th>\n",
       "      <th></th>\n",
       "      <th></th>\n",
       "      <th></th>\n",
       "      <th></th>\n",
       "      <th></th>\n",
       "      <th></th>\n",
       "      <th></th>\n",
       "      <th></th>\n",
       "      <th></th>\n",
       "      <th></th>\n",
       "      <th></th>\n",
       "      <th></th>\n",
       "      <th></th>\n",
       "      <th></th>\n",
       "      <th></th>\n",
       "      <th></th>\n",
       "      <th></th>\n",
       "      <th></th>\n",
       "    </tr>\n",
       "  </thead>\n",
       "  <tbody>\n",
       "    <tr>\n",
       "      <th>Australia</th>\n",
       "      <td>AAA</td>\n",
       "      <td>6.288000</td>\n",
       "      <td>6.078000</td>\n",
       "      <td>6.055000</td>\n",
       "      <td>5.711000</td>\n",
       "      <td>5.592000</td>\n",
       "      <td>5.300000</td>\n",
       "      <td>5.159000</td>\n",
       "      <td>6.456000</td>\n",
       "      <td>5.116000</td>\n",
       "      <td>...</td>\n",
       "      <td>4.093325e-01</td>\n",
       "      <td>2.491109e-01</td>\n",
       "      <td>2.236020e-01</td>\n",
       "      <td>3.484706e-01</td>\n",
       "      <td>3.606417e-01</td>\n",
       "      <td>3.122248e-01</td>\n",
       "      <td>1.311812e-01</td>\n",
       "      <td>5.597948e-01</td>\n",
       "      <td>1.781707e+00</td>\n",
       "      <td>1.526320e+00</td>\n",
       "    </tr>\n",
       "    <tr>\n",
       "      <th>Canada</th>\n",
       "      <td>AAA</td>\n",
       "      <td>6.829000</td>\n",
       "      <td>7.023000</td>\n",
       "      <td>6.945000</td>\n",
       "      <td>7.038000</td>\n",
       "      <td>6.426000</td>\n",
       "      <td>5.837000</td>\n",
       "      <td>5.690000</td>\n",
       "      <td>9.657000</td>\n",
       "      <td>7.527000</td>\n",
       "      <td>...</td>\n",
       "      <td>2.714845e-01</td>\n",
       "      <td>1.620218e-01</td>\n",
       "      <td>2.030065e-01</td>\n",
       "      <td>2.485036e-01</td>\n",
       "      <td>3.885944e-01</td>\n",
       "      <td>3.425780e-01</td>\n",
       "      <td>7.424662e-02</td>\n",
       "      <td>4.510686e-01</td>\n",
       "      <td>1.288409e+00</td>\n",
       "      <td>7.228851e-01</td>\n",
       "    </tr>\n",
       "    <tr>\n",
       "      <th>Denmark</th>\n",
       "      <td>AAA</td>\n",
       "      <td>4.476000</td>\n",
       "      <td>6.925000</td>\n",
       "      <td>6.278000</td>\n",
       "      <td>5.989000</td>\n",
       "      <td>5.833000</td>\n",
       "      <td>5.131000</td>\n",
       "      <td>5.018000</td>\n",
       "      <td>5.637000</td>\n",
       "      <td>5.043000</td>\n",
       "      <td>...</td>\n",
       "      <td>8.144701e-02</td>\n",
       "      <td>7.200289e-02</td>\n",
       "      <td>4.174320e-02</td>\n",
       "      <td>1.966625e-01</td>\n",
       "      <td>1.585674e-01</td>\n",
       "      <td>1.510824e-01</td>\n",
       "      <td>7.463402e-02</td>\n",
       "      <td>3.674490e-01</td>\n",
       "      <td>1.735807e+00</td>\n",
       "      <td>6.427807e-01</td>\n",
       "    </tr>\n",
       "    <tr>\n",
       "      <th>Germany</th>\n",
       "      <td>AAA</td>\n",
       "      <td>7.917000</td>\n",
       "      <td>4.981000</td>\n",
       "      <td>4.624000</td>\n",
       "      <td>4.122000</td>\n",
       "      <td>3.746000</td>\n",
       "      <td>3.384000</td>\n",
       "      <td>3.136000</td>\n",
       "      <td>3.856000</td>\n",
       "      <td>3.638000</td>\n",
       "      <td>...</td>\n",
       "      <td>1.820506e-01</td>\n",
       "      <td>1.112513e-01</td>\n",
       "      <td>1.192982e-01</td>\n",
       "      <td>4.029618e-01</td>\n",
       "      <td>5.118702e-01</td>\n",
       "      <td>4.609884e-01</td>\n",
       "      <td>3.757208e-02</td>\n",
       "      <td>8.429540e-01</td>\n",
       "      <td>2.192209e+00</td>\n",
       "      <td>1.952853e+00</td>\n",
       "    </tr>\n",
       "    <tr>\n",
       "      <th>Liechtenstein</th>\n",
       "      <td>AAA</td>\n",
       "      <td>9.640537</td>\n",
       "      <td>9.136085</td>\n",
       "      <td>9.052059</td>\n",
       "      <td>8.903803</td>\n",
       "      <td>8.664479</td>\n",
       "      <td>8.383856</td>\n",
       "      <td>8.244777</td>\n",
       "      <td>9.305229</td>\n",
       "      <td>9.015766</td>\n",
       "      <td>...</td>\n",
       "      <td>6.863893e+08</td>\n",
       "      <td>6.626408e+08</td>\n",
       "      <td>6.430527e+08</td>\n",
       "      <td>6.293473e+08</td>\n",
       "      <td>6.178920e+08</td>\n",
       "      <td>5.952459e+08</td>\n",
       "      <td>4.981093e+08</td>\n",
       "      <td>4.838605e+08</td>\n",
       "      <td>4.968830e+08</td>\n",
       "      <td>4.791054e+08</td>\n",
       "    </tr>\n",
       "    <tr>\n",
       "      <th>...</th>\n",
       "      <td>...</td>\n",
       "      <td>...</td>\n",
       "      <td>...</td>\n",
       "      <td>...</td>\n",
       "      <td>...</td>\n",
       "      <td>...</td>\n",
       "      <td>...</td>\n",
       "      <td>...</td>\n",
       "      <td>...</td>\n",
       "      <td>...</td>\n",
       "      <td>...</td>\n",
       "      <td>...</td>\n",
       "      <td>...</td>\n",
       "      <td>...</td>\n",
       "      <td>...</td>\n",
       "      <td>...</td>\n",
       "      <td>...</td>\n",
       "      <td>...</td>\n",
       "      <td>...</td>\n",
       "      <td>...</td>\n",
       "      <td>...</td>\n",
       "    </tr>\n",
       "    <tr>\n",
       "      <th>Sri Lanka</th>\n",
       "      <td>SD</td>\n",
       "      <td>7.740000</td>\n",
       "      <td>4.157000</td>\n",
       "      <td>4.519000</td>\n",
       "      <td>4.243000</td>\n",
       "      <td>4.046000</td>\n",
       "      <td>4.318000</td>\n",
       "      <td>4.670000</td>\n",
       "      <td>5.365000</td>\n",
       "      <td>5.258000</td>\n",
       "      <td>...</td>\n",
       "      <td>7.647347e-01</td>\n",
       "      <td>8.338942e-01</td>\n",
       "      <td>9.330399e-01</td>\n",
       "      <td>1.904137e+00</td>\n",
       "      <td>4.944506e-01</td>\n",
       "      <td>7.555447e-01</td>\n",
       "      <td>1.147054e+00</td>\n",
       "      <td>1.334116e+00</td>\n",
       "      <td>7.854834e+00</td>\n",
       "      <td>2.600814e+00</td>\n",
       "    </tr>\n",
       "    <tr>\n",
       "      <th>Ukraine</th>\n",
       "      <td>SD</td>\n",
       "      <td>11.707000</td>\n",
       "      <td>9.270000</td>\n",
       "      <td>9.140000</td>\n",
       "      <td>9.350000</td>\n",
       "      <td>9.500000</td>\n",
       "      <td>8.799000</td>\n",
       "      <td>8.194000</td>\n",
       "      <td>9.475000</td>\n",
       "      <td>9.834000</td>\n",
       "      <td>...</td>\n",
       "      <td>1.302250e+00</td>\n",
       "      <td>5.328213e+00</td>\n",
       "      <td>1.487990e+00</td>\n",
       "      <td>1.519823e+00</td>\n",
       "      <td>1.244671e+00</td>\n",
       "      <td>9.624991e-01</td>\n",
       "      <td>2.883897e-01</td>\n",
       "      <td>9.521191e-01</td>\n",
       "      <td>2.399446e+00</td>\n",
       "      <td>1.838311e+00</td>\n",
       "    </tr>\n",
       "    <tr>\n",
       "      <th>Lebanon</th>\n",
       "      <td>D</td>\n",
       "      <td>8.594000</td>\n",
       "      <td>8.796000</td>\n",
       "      <td>9.270000</td>\n",
       "      <td>9.760000</td>\n",
       "      <td>10.236000</td>\n",
       "      <td>10.741000</td>\n",
       "      <td>11.301000</td>\n",
       "      <td>13.235000</td>\n",
       "      <td>12.621000</td>\n",
       "      <td>...</td>\n",
       "      <td>2.108463e-01</td>\n",
       "      <td>-4.044385e-01</td>\n",
       "      <td>-8.026226e-02</td>\n",
       "      <td>4.221720e-01</td>\n",
       "      <td>5.657750e-01</td>\n",
       "      <td>2.659401e-01</td>\n",
       "      <td>6.412114e+00</td>\n",
       "      <td>1.226179e+01</td>\n",
       "      <td>1.476037e+01</td>\n",
       "      <td>1.913892e+01</td>\n",
       "    </tr>\n",
       "    <tr>\n",
       "      <th>Puerto Rico</th>\n",
       "      <td>D</td>\n",
       "      <td>10.080000</td>\n",
       "      <td>13.900000</td>\n",
       "      <td>12.000000</td>\n",
       "      <td>11.800000</td>\n",
       "      <td>10.800000</td>\n",
       "      <td>9.200000</td>\n",
       "      <td>8.300000</td>\n",
       "      <td>8.890000</td>\n",
       "      <td>7.900000</td>\n",
       "      <td>...</td>\n",
       "      <td>7.509685e+09</td>\n",
       "      <td>8.320513e+09</td>\n",
       "      <td>8.076923e+09</td>\n",
       "      <td>8.404558e+09</td>\n",
       "      <td>9.372910e+09</td>\n",
       "      <td>9.842447e+09</td>\n",
       "      <td>8.678723e+09</td>\n",
       "      <td>9.191821e+09</td>\n",
       "      <td>1.134615e+10</td>\n",
       "      <td>1.065724e+10</td>\n",
       "    </tr>\n",
       "    <tr>\n",
       "      <th>Grenada</th>\n",
       "      <td>SD</td>\n",
       "      <td>9.640537</td>\n",
       "      <td>9.136085</td>\n",
       "      <td>9.052059</td>\n",
       "      <td>8.903803</td>\n",
       "      <td>8.664479</td>\n",
       "      <td>8.383856</td>\n",
       "      <td>8.244777</td>\n",
       "      <td>9.305229</td>\n",
       "      <td>9.015766</td>\n",
       "      <td>...</td>\n",
       "      <td>-1.076613e-01</td>\n",
       "      <td>-5.694263e-02</td>\n",
       "      <td>1.853579e-01</td>\n",
       "      <td>1.048486e-01</td>\n",
       "      <td>9.591079e-02</td>\n",
       "      <td>7.254894e-02</td>\n",
       "      <td>-7.960391e-02</td>\n",
       "      <td>1.352644e-01</td>\n",
       "      <td>3.135238e-01</td>\n",
       "      <td>3.384074e-01</td>\n",
       "    </tr>\n",
       "  </tbody>\n",
       "</table>\n",
       "<p>127 rows × 117 columns</p>\n",
       "</div>"
      ],
      "text/plain": [
       "              S&P Rating  unemployment_2000  unemployment_2014  \\\n",
       "Country                                                          \n",
       "Australia            AAA           6.288000           6.078000   \n",
       "Canada               AAA           6.829000           7.023000   \n",
       "Denmark              AAA           4.476000           6.925000   \n",
       "Germany              AAA           7.917000           4.981000   \n",
       "Liechtenstein        AAA           9.640537           9.136085   \n",
       "...                  ...                ...                ...   \n",
       "Sri Lanka             SD           7.740000           4.157000   \n",
       "Ukraine               SD          11.707000           9.270000   \n",
       "Lebanon                D           8.594000           8.796000   \n",
       "Puerto Rico           D           10.080000          13.900000   \n",
       "Grenada              SD            9.640537           9.136085   \n",
       "\n",
       "               unemployment_2015  unemployment_2016  unemployment_2017  \\\n",
       "Country                                                                  \n",
       "Australia               6.055000           5.711000           5.592000   \n",
       "Canada                  6.945000           7.038000           6.426000   \n",
       "Denmark                 6.278000           5.989000           5.833000   \n",
       "Germany                 4.624000           4.122000           3.746000   \n",
       "Liechtenstein           9.052059           8.903803           8.664479   \n",
       "...                          ...                ...                ...   \n",
       "Sri Lanka               4.519000           4.243000           4.046000   \n",
       "Ukraine                 9.140000           9.350000           9.500000   \n",
       "Lebanon                 9.270000           9.760000          10.236000   \n",
       "Puerto Rico            12.000000          11.800000          10.800000   \n",
       "Grenada                 9.052059           8.903803           8.664479   \n",
       "\n",
       "               unemployment_2018  unemployment_2019  unemployment_2020  \\\n",
       "Country                                                                  \n",
       "Australia               5.300000           5.159000           6.456000   \n",
       "Canada                  5.837000           5.690000           9.657000   \n",
       "Denmark                 5.131000           5.018000           5.637000   \n",
       "Germany                 3.384000           3.136000           3.856000   \n",
       "Liechtenstein           8.383856           8.244777           9.305229   \n",
       "...                          ...                ...                ...   \n",
       "Sri Lanka               4.318000           4.670000           5.365000   \n",
       "Ukraine                 8.799000           8.194000           9.475000   \n",
       "Lebanon                10.741000          11.301000          13.235000   \n",
       "Puerto Rico             9.200000           8.300000           8.890000   \n",
       "Grenada                 8.383856           8.244777           9.305229   \n",
       "\n",
       "               unemployment_2021  ...  inflation_to_unemployment_2014  \\\n",
       "Country                           ...                                   \n",
       "Australia               5.116000  ...                    4.093325e-01   \n",
       "Canada                  7.527000  ...                    2.714845e-01   \n",
       "Denmark                 5.043000  ...                    8.144701e-02   \n",
       "Germany                 3.638000  ...                    1.820506e-01   \n",
       "Liechtenstein           9.015766  ...                    6.863893e+08   \n",
       "...                          ...  ...                             ...   \n",
       "Sri Lanka               5.258000  ...                    7.647347e-01   \n",
       "Ukraine                 9.834000  ...                    1.302250e+00   \n",
       "Lebanon                12.621000  ...                    2.108463e-01   \n",
       "Puerto Rico             7.900000  ...                    7.509685e+09   \n",
       "Grenada                 9.015766  ...                   -1.076613e-01   \n",
       "\n",
       "               inflation_to_unemployment_2015  inflation_to_unemployment_2016  \\\n",
       "Country                                                                         \n",
       "Australia                        2.491109e-01                    2.236020e-01   \n",
       "Canada                           1.620218e-01                    2.030065e-01   \n",
       "Denmark                          7.200289e-02                    4.174320e-02   \n",
       "Germany                          1.112513e-01                    1.192982e-01   \n",
       "Liechtenstein                    6.626408e+08                    6.430527e+08   \n",
       "...                                       ...                             ...   \n",
       "Sri Lanka                        8.338942e-01                    9.330399e-01   \n",
       "Ukraine                          5.328213e+00                    1.487990e+00   \n",
       "Lebanon                         -4.044385e-01                   -8.026226e-02   \n",
       "Puerto Rico                      8.320513e+09                    8.076923e+09   \n",
       "Grenada                         -5.694263e-02                    1.853579e-01   \n",
       "\n",
       "               inflation_to_unemployment_2017  inflation_to_unemployment_2018  \\\n",
       "Country                                                                         \n",
       "Australia                        3.484706e-01                    3.606417e-01   \n",
       "Canada                           2.485036e-01                    3.885944e-01   \n",
       "Denmark                          1.966625e-01                    1.585674e-01   \n",
       "Germany                          4.029618e-01                    5.118702e-01   \n",
       "Liechtenstein                    6.293473e+08                    6.178920e+08   \n",
       "...                                       ...                             ...   \n",
       "Sri Lanka                        1.904137e+00                    4.944506e-01   \n",
       "Ukraine                          1.519823e+00                    1.244671e+00   \n",
       "Lebanon                          4.221720e-01                    5.657750e-01   \n",
       "Puerto Rico                      8.404558e+09                    9.372910e+09   \n",
       "Grenada                          1.048486e-01                    9.591079e-02   \n",
       "\n",
       "               inflation_to_unemployment_2019  inflation_to_unemployment_2020  \\\n",
       "Country                                                                         \n",
       "Australia                        3.122248e-01                    1.311812e-01   \n",
       "Canada                           3.425780e-01                    7.424662e-02   \n",
       "Denmark                          1.510824e-01                    7.463402e-02   \n",
       "Germany                          4.609884e-01                    3.757208e-02   \n",
       "Liechtenstein                    5.952459e+08                    4.981093e+08   \n",
       "...                                       ...                             ...   \n",
       "Sri Lanka                        7.555447e-01                    1.147054e+00   \n",
       "Ukraine                          9.624991e-01                    2.883897e-01   \n",
       "Lebanon                          2.659401e-01                    6.412114e+00   \n",
       "Puerto Rico                      9.842447e+09                    8.678723e+09   \n",
       "Grenada                          7.254894e-02                   -7.960391e-02   \n",
       "\n",
       "               inflation_to_unemployment_2021  inflation_to_unemployment_2022  \\\n",
       "Country                                                                         \n",
       "Australia                        5.597948e-01                    1.781707e+00   \n",
       "Canada                           4.510686e-01                    1.288409e+00   \n",
       "Denmark                          3.674490e-01                    1.735807e+00   \n",
       "Germany                          8.429540e-01                    2.192209e+00   \n",
       "Liechtenstein                    4.838605e+08                    4.968830e+08   \n",
       "...                                       ...                             ...   \n",
       "Sri Lanka                        1.334116e+00                    7.854834e+00   \n",
       "Ukraine                          9.521191e-01                    2.399446e+00   \n",
       "Lebanon                          1.226179e+01                    1.476037e+01   \n",
       "Puerto Rico                      9.191821e+09                    1.134615e+10   \n",
       "Grenada                          1.352644e-01                    3.135238e-01   \n",
       "\n",
       "               inflation_to_unemployment_2023  \n",
       "Country                                        \n",
       "Australia                        1.526320e+00  \n",
       "Canada                           7.228851e-01  \n",
       "Denmark                          6.427807e-01  \n",
       "Germany                          1.952853e+00  \n",
       "Liechtenstein                    4.791054e+08  \n",
       "...                                       ...  \n",
       "Sri Lanka                        2.600814e+00  \n",
       "Ukraine                          1.838311e+00  \n",
       "Lebanon                          1.913892e+01  \n",
       "Puerto Rico                      1.065724e+10  \n",
       "Grenada                          3.384074e-01  \n",
       "\n",
       "[127 rows x 117 columns]"
      ]
     },
     "execution_count": 33,
     "metadata": {},
     "output_type": "execute_result"
    }
   ],
   "source": [
    "df"
   ]
  },
  {
   "cell_type": "markdown",
   "metadata": {},
   "source": [
    "## Correlations maps"
   ]
  },
  {
   "cell_type": "code",
   "execution_count": 34,
   "metadata": {},
   "outputs": [],
   "source": [
    "df = df.drop('S&P Rating', axis = 1)"
   ]
  },
  {
   "cell_type": "code",
   "execution_count": 35,
   "metadata": {},
   "outputs": [
    {
     "data": {
      "application/vnd.plotly.v1+json": {
       "config": {
        "plotlyServerURL": "https://plot.ly"
       },
       "data": [
        {
         "coloraxis": "coloraxis",
         "hovertemplate": "x: %{x}<br>y: %{y}<br>color: %{z}<extra></extra>",
         "name": "0",
         "type": "heatmap",
         "x": [
          "target",
          "unemployment_2000",
          "unemployment_2014",
          "unemployment_2015",
          "unemployment_2016",
          "unemployment_2017",
          "unemployment_2018",
          "unemployment_2019",
          "unemployment_2020",
          "unemployment_2021",
          "unemployment_2022",
          "unemployment_2023"
         ],
         "xaxis": "x",
         "y": [
          "target",
          "unemployment_2000",
          "unemployment_2014",
          "unemployment_2015",
          "unemployment_2016",
          "unemployment_2017",
          "unemployment_2018",
          "unemployment_2019",
          "unemployment_2020",
          "unemployment_2021",
          "unemployment_2022",
          "unemployment_2023"
         ],
         "yaxis": "y",
         "z": [
          [
           1,
           0.10690193720440207,
           0.01002942092851311,
           0.03257716587720521,
           0.08922205409532925,
           0.13663126431829722,
           0.1805948227039097,
           0.22824426795162275,
           0.21714653610573495,
           0.21576284997771797,
           0.22593610421004534,
           0.20391782182140494
          ],
          [
           0.10690193720440207,
           1,
           0.7089500120339044,
           0.7240721663089018,
           0.7308963839610727,
           0.7235413774487626,
           0.7077447985527645,
           0.6800418683722572,
           0.658966649639498,
           0.6600870296851923,
           0.6566341521426748,
           0.6553980368056868
          ],
          [
           0.01002942092851311,
           0.7089500120339044,
           1,
           0.9907016424794509,
           0.9669187234131189,
           0.9225089916176897,
           0.8755426476607773,
           0.816728195951191,
           0.7482780534232532,
           0.7627398718040955,
           0.7538399581443979,
           0.7410450475154121
          ],
          [
           0.03257716587720521,
           0.7240721663089018,
           0.9907016424794509,
           1,
           0.9856773810829307,
           0.9505174707442293,
           0.9105944451032849,
           0.8562277595501239,
           0.7851257373950465,
           0.8016853453166612,
           0.794106461620896,
           0.781298696935168
          ],
          [
           0.08922205409532925,
           0.7308963839610727,
           0.9669187234131189,
           0.9856773810829307,
           1,
           0.9825729854346573,
           0.9535165984374607,
           0.9124194826920542,
           0.8451145804040293,
           0.8602073455066276,
           0.8507078151840667,
           0.8374471363302972
          ],
          [
           0.13663126431829722,
           0.7235413774487626,
           0.9225089916176897,
           0.9505174707442293,
           0.9825729854346573,
           1,
           0.9860429894223657,
           0.9558712067575493,
           0.8944226191708369,
           0.9123022559862186,
           0.906149088523802,
           0.8949276151643346
          ],
          [
           0.1805948227039097,
           0.7077447985527645,
           0.8755426476607773,
           0.9105944451032849,
           0.9535165984374607,
           0.9860429894223657,
           1,
           0.9839654825606963,
           0.9321148373982087,
           0.9486238625882293,
           0.9404884096964333,
           0.9285628870162997
          ],
          [
           0.22824426795162275,
           0.6800418683722572,
           0.816728195951191,
           0.8562277595501239,
           0.9124194826920542,
           0.9558712067575493,
           0.9839654825606963,
           1,
           0.9550438304638029,
           0.9733632605738215,
           0.964255101909301,
           0.9517092223672831
          ],
          [
           0.21714653610573495,
           0.658966649639498,
           0.7482780534232532,
           0.7851257373950465,
           0.8451145804040293,
           0.8944226191708369,
           0.9321148373982087,
           0.9550438304638029,
           1,
           0.9739447002182733,
           0.9449179254864382,
           0.9251857323341877
          ],
          [
           0.21576284997771797,
           0.6600870296851923,
           0.7627398718040955,
           0.8016853453166612,
           0.8602073455066276,
           0.9123022559862186,
           0.9486238625882293,
           0.9733632605738215,
           0.9739447002182733,
           1,
           0.9864359831982451,
           0.9720515415283469
          ],
          [
           0.22593610421004534,
           0.6566341521426748,
           0.7538399581443979,
           0.794106461620896,
           0.8507078151840667,
           0.906149088523802,
           0.9404884096964333,
           0.964255101909301,
           0.9449179254864382,
           0.9864359831982451,
           1,
           0.9932961215366156
          ],
          [
           0.20391782182140494,
           0.6553980368056868,
           0.7410450475154121,
           0.781298696935168,
           0.8374471363302972,
           0.8949276151643346,
           0.9285628870162997,
           0.9517092223672831,
           0.9251857323341877,
           0.9720515415283469,
           0.9932961215366156,
           1
          ]
         ]
        }
       ],
       "layout": {
        "coloraxis": {
         "colorscale": [
          [
           0,
           "rgb(5,48,97)"
          ],
          [
           0.1,
           "rgb(33,102,172)"
          ],
          [
           0.2,
           "rgb(67,147,195)"
          ],
          [
           0.3,
           "rgb(146,197,222)"
          ],
          [
           0.4,
           "rgb(209,229,240)"
          ],
          [
           0.5,
           "rgb(247,247,247)"
          ],
          [
           0.6,
           "rgb(253,219,199)"
          ],
          [
           0.7,
           "rgb(244,165,130)"
          ],
          [
           0.8,
           "rgb(214,96,77)"
          ],
          [
           0.9,
           "rgb(178,24,43)"
          ],
          [
           1,
           "rgb(103,0,31)"
          ]
         ]
        },
        "height": 600,
        "template": {
         "data": {
          "bar": [
           {
            "error_x": {
             "color": "#f2f5fa"
            },
            "error_y": {
             "color": "#f2f5fa"
            },
            "marker": {
             "line": {
              "color": "rgb(17,17,17)",
              "width": 0.5
             },
             "pattern": {
              "fillmode": "overlay",
              "size": 10,
              "solidity": 0.2
             }
            },
            "type": "bar"
           }
          ],
          "barpolar": [
           {
            "marker": {
             "line": {
              "color": "rgb(17,17,17)",
              "width": 0.5
             },
             "pattern": {
              "fillmode": "overlay",
              "size": 10,
              "solidity": 0.2
             }
            },
            "type": "barpolar"
           }
          ],
          "carpet": [
           {
            "aaxis": {
             "endlinecolor": "#A2B1C6",
             "gridcolor": "#506784",
             "linecolor": "#506784",
             "minorgridcolor": "#506784",
             "startlinecolor": "#A2B1C6"
            },
            "baxis": {
             "endlinecolor": "#A2B1C6",
             "gridcolor": "#506784",
             "linecolor": "#506784",
             "minorgridcolor": "#506784",
             "startlinecolor": "#A2B1C6"
            },
            "type": "carpet"
           }
          ],
          "choropleth": [
           {
            "colorbar": {
             "outlinewidth": 0,
             "ticks": ""
            },
            "type": "choropleth"
           }
          ],
          "contour": [
           {
            "colorbar": {
             "outlinewidth": 0,
             "ticks": ""
            },
            "colorscale": [
             [
              0,
              "#0d0887"
             ],
             [
              0.1111111111111111,
              "#46039f"
             ],
             [
              0.2222222222222222,
              "#7201a8"
             ],
             [
              0.3333333333333333,
              "#9c179e"
             ],
             [
              0.4444444444444444,
              "#bd3786"
             ],
             [
              0.5555555555555556,
              "#d8576b"
             ],
             [
              0.6666666666666666,
              "#ed7953"
             ],
             [
              0.7777777777777778,
              "#fb9f3a"
             ],
             [
              0.8888888888888888,
              "#fdca26"
             ],
             [
              1,
              "#f0f921"
             ]
            ],
            "type": "contour"
           }
          ],
          "contourcarpet": [
           {
            "colorbar": {
             "outlinewidth": 0,
             "ticks": ""
            },
            "type": "contourcarpet"
           }
          ],
          "heatmap": [
           {
            "colorbar": {
             "outlinewidth": 0,
             "ticks": ""
            },
            "colorscale": [
             [
              0,
              "#0d0887"
             ],
             [
              0.1111111111111111,
              "#46039f"
             ],
             [
              0.2222222222222222,
              "#7201a8"
             ],
             [
              0.3333333333333333,
              "#9c179e"
             ],
             [
              0.4444444444444444,
              "#bd3786"
             ],
             [
              0.5555555555555556,
              "#d8576b"
             ],
             [
              0.6666666666666666,
              "#ed7953"
             ],
             [
              0.7777777777777778,
              "#fb9f3a"
             ],
             [
              0.8888888888888888,
              "#fdca26"
             ],
             [
              1,
              "#f0f921"
             ]
            ],
            "type": "heatmap"
           }
          ],
          "heatmapgl": [
           {
            "colorbar": {
             "outlinewidth": 0,
             "ticks": ""
            },
            "colorscale": [
             [
              0,
              "#0d0887"
             ],
             [
              0.1111111111111111,
              "#46039f"
             ],
             [
              0.2222222222222222,
              "#7201a8"
             ],
             [
              0.3333333333333333,
              "#9c179e"
             ],
             [
              0.4444444444444444,
              "#bd3786"
             ],
             [
              0.5555555555555556,
              "#d8576b"
             ],
             [
              0.6666666666666666,
              "#ed7953"
             ],
             [
              0.7777777777777778,
              "#fb9f3a"
             ],
             [
              0.8888888888888888,
              "#fdca26"
             ],
             [
              1,
              "#f0f921"
             ]
            ],
            "type": "heatmapgl"
           }
          ],
          "histogram": [
           {
            "marker": {
             "pattern": {
              "fillmode": "overlay",
              "size": 10,
              "solidity": 0.2
             }
            },
            "type": "histogram"
           }
          ],
          "histogram2d": [
           {
            "colorbar": {
             "outlinewidth": 0,
             "ticks": ""
            },
            "colorscale": [
             [
              0,
              "#0d0887"
             ],
             [
              0.1111111111111111,
              "#46039f"
             ],
             [
              0.2222222222222222,
              "#7201a8"
             ],
             [
              0.3333333333333333,
              "#9c179e"
             ],
             [
              0.4444444444444444,
              "#bd3786"
             ],
             [
              0.5555555555555556,
              "#d8576b"
             ],
             [
              0.6666666666666666,
              "#ed7953"
             ],
             [
              0.7777777777777778,
              "#fb9f3a"
             ],
             [
              0.8888888888888888,
              "#fdca26"
             ],
             [
              1,
              "#f0f921"
             ]
            ],
            "type": "histogram2d"
           }
          ],
          "histogram2dcontour": [
           {
            "colorbar": {
             "outlinewidth": 0,
             "ticks": ""
            },
            "colorscale": [
             [
              0,
              "#0d0887"
             ],
             [
              0.1111111111111111,
              "#46039f"
             ],
             [
              0.2222222222222222,
              "#7201a8"
             ],
             [
              0.3333333333333333,
              "#9c179e"
             ],
             [
              0.4444444444444444,
              "#bd3786"
             ],
             [
              0.5555555555555556,
              "#d8576b"
             ],
             [
              0.6666666666666666,
              "#ed7953"
             ],
             [
              0.7777777777777778,
              "#fb9f3a"
             ],
             [
              0.8888888888888888,
              "#fdca26"
             ],
             [
              1,
              "#f0f921"
             ]
            ],
            "type": "histogram2dcontour"
           }
          ],
          "mesh3d": [
           {
            "colorbar": {
             "outlinewidth": 0,
             "ticks": ""
            },
            "type": "mesh3d"
           }
          ],
          "parcoords": [
           {
            "line": {
             "colorbar": {
              "outlinewidth": 0,
              "ticks": ""
             }
            },
            "type": "parcoords"
           }
          ],
          "pie": [
           {
            "automargin": true,
            "type": "pie"
           }
          ],
          "scatter": [
           {
            "marker": {
             "line": {
              "color": "#283442"
             }
            },
            "type": "scatter"
           }
          ],
          "scatter3d": [
           {
            "line": {
             "colorbar": {
              "outlinewidth": 0,
              "ticks": ""
             }
            },
            "marker": {
             "colorbar": {
              "outlinewidth": 0,
              "ticks": ""
             }
            },
            "type": "scatter3d"
           }
          ],
          "scattercarpet": [
           {
            "marker": {
             "colorbar": {
              "outlinewidth": 0,
              "ticks": ""
             }
            },
            "type": "scattercarpet"
           }
          ],
          "scattergeo": [
           {
            "marker": {
             "colorbar": {
              "outlinewidth": 0,
              "ticks": ""
             }
            },
            "type": "scattergeo"
           }
          ],
          "scattergl": [
           {
            "marker": {
             "line": {
              "color": "#283442"
             }
            },
            "type": "scattergl"
           }
          ],
          "scattermapbox": [
           {
            "marker": {
             "colorbar": {
              "outlinewidth": 0,
              "ticks": ""
             }
            },
            "type": "scattermapbox"
           }
          ],
          "scatterpolar": [
           {
            "marker": {
             "colorbar": {
              "outlinewidth": 0,
              "ticks": ""
             }
            },
            "type": "scatterpolar"
           }
          ],
          "scatterpolargl": [
           {
            "marker": {
             "colorbar": {
              "outlinewidth": 0,
              "ticks": ""
             }
            },
            "type": "scatterpolargl"
           }
          ],
          "scatterternary": [
           {
            "marker": {
             "colorbar": {
              "outlinewidth": 0,
              "ticks": ""
             }
            },
            "type": "scatterternary"
           }
          ],
          "surface": [
           {
            "colorbar": {
             "outlinewidth": 0,
             "ticks": ""
            },
            "colorscale": [
             [
              0,
              "#0d0887"
             ],
             [
              0.1111111111111111,
              "#46039f"
             ],
             [
              0.2222222222222222,
              "#7201a8"
             ],
             [
              0.3333333333333333,
              "#9c179e"
             ],
             [
              0.4444444444444444,
              "#bd3786"
             ],
             [
              0.5555555555555556,
              "#d8576b"
             ],
             [
              0.6666666666666666,
              "#ed7953"
             ],
             [
              0.7777777777777778,
              "#fb9f3a"
             ],
             [
              0.8888888888888888,
              "#fdca26"
             ],
             [
              1,
              "#f0f921"
             ]
            ],
            "type": "surface"
           }
          ],
          "table": [
           {
            "cells": {
             "fill": {
              "color": "#506784"
             },
             "line": {
              "color": "rgb(17,17,17)"
             }
            },
            "header": {
             "fill": {
              "color": "#2a3f5f"
             },
             "line": {
              "color": "rgb(17,17,17)"
             }
            },
            "type": "table"
           }
          ]
         },
         "layout": {
          "annotationdefaults": {
           "arrowcolor": "#f2f5fa",
           "arrowhead": 0,
           "arrowwidth": 1
          },
          "autotypenumbers": "strict",
          "coloraxis": {
           "colorbar": {
            "outlinewidth": 0,
            "ticks": ""
           }
          },
          "colorscale": {
           "diverging": [
            [
             0,
             "#8e0152"
            ],
            [
             0.1,
             "#c51b7d"
            ],
            [
             0.2,
             "#de77ae"
            ],
            [
             0.3,
             "#f1b6da"
            ],
            [
             0.4,
             "#fde0ef"
            ],
            [
             0.5,
             "#f7f7f7"
            ],
            [
             0.6,
             "#e6f5d0"
            ],
            [
             0.7,
             "#b8e186"
            ],
            [
             0.8,
             "#7fbc41"
            ],
            [
             0.9,
             "#4d9221"
            ],
            [
             1,
             "#276419"
            ]
           ],
           "sequential": [
            [
             0,
             "#0d0887"
            ],
            [
             0.1111111111111111,
             "#46039f"
            ],
            [
             0.2222222222222222,
             "#7201a8"
            ],
            [
             0.3333333333333333,
             "#9c179e"
            ],
            [
             0.4444444444444444,
             "#bd3786"
            ],
            [
             0.5555555555555556,
             "#d8576b"
            ],
            [
             0.6666666666666666,
             "#ed7953"
            ],
            [
             0.7777777777777778,
             "#fb9f3a"
            ],
            [
             0.8888888888888888,
             "#fdca26"
            ],
            [
             1,
             "#f0f921"
            ]
           ],
           "sequentialminus": [
            [
             0,
             "#0d0887"
            ],
            [
             0.1111111111111111,
             "#46039f"
            ],
            [
             0.2222222222222222,
             "#7201a8"
            ],
            [
             0.3333333333333333,
             "#9c179e"
            ],
            [
             0.4444444444444444,
             "#bd3786"
            ],
            [
             0.5555555555555556,
             "#d8576b"
            ],
            [
             0.6666666666666666,
             "#ed7953"
            ],
            [
             0.7777777777777778,
             "#fb9f3a"
            ],
            [
             0.8888888888888888,
             "#fdca26"
            ],
            [
             1,
             "#f0f921"
            ]
           ]
          },
          "colorway": [
           "#636efa",
           "#EF553B",
           "#00cc96",
           "#ab63fa",
           "#FFA15A",
           "#19d3f3",
           "#FF6692",
           "#B6E880",
           "#FF97FF",
           "#FECB52"
          ],
          "font": {
           "color": "#f2f5fa"
          },
          "geo": {
           "bgcolor": "rgb(17,17,17)",
           "lakecolor": "rgb(17,17,17)",
           "landcolor": "rgb(17,17,17)",
           "showlakes": true,
           "showland": true,
           "subunitcolor": "#506784"
          },
          "hoverlabel": {
           "align": "left"
          },
          "hovermode": "closest",
          "mapbox": {
           "style": "dark"
          },
          "paper_bgcolor": "rgb(17,17,17)",
          "plot_bgcolor": "rgb(17,17,17)",
          "polar": {
           "angularaxis": {
            "gridcolor": "#506784",
            "linecolor": "#506784",
            "ticks": ""
           },
           "bgcolor": "rgb(17,17,17)",
           "radialaxis": {
            "gridcolor": "#506784",
            "linecolor": "#506784",
            "ticks": ""
           }
          },
          "scene": {
           "xaxis": {
            "backgroundcolor": "rgb(17,17,17)",
            "gridcolor": "#506784",
            "gridwidth": 2,
            "linecolor": "#506784",
            "showbackground": true,
            "ticks": "",
            "zerolinecolor": "#C8D4E3"
           },
           "yaxis": {
            "backgroundcolor": "rgb(17,17,17)",
            "gridcolor": "#506784",
            "gridwidth": 2,
            "linecolor": "#506784",
            "showbackground": true,
            "ticks": "",
            "zerolinecolor": "#C8D4E3"
           },
           "zaxis": {
            "backgroundcolor": "rgb(17,17,17)",
            "gridcolor": "#506784",
            "gridwidth": 2,
            "linecolor": "#506784",
            "showbackground": true,
            "ticks": "",
            "zerolinecolor": "#C8D4E3"
           }
          },
          "shapedefaults": {
           "line": {
            "color": "#f2f5fa"
           }
          },
          "sliderdefaults": {
           "bgcolor": "#C8D4E3",
           "bordercolor": "rgb(17,17,17)",
           "borderwidth": 1,
           "tickwidth": 0
          },
          "ternary": {
           "aaxis": {
            "gridcolor": "#506784",
            "linecolor": "#506784",
            "ticks": ""
           },
           "baxis": {
            "gridcolor": "#506784",
            "linecolor": "#506784",
            "ticks": ""
           },
           "bgcolor": "rgb(17,17,17)",
           "caxis": {
            "gridcolor": "#506784",
            "linecolor": "#506784",
            "ticks": ""
           }
          },
          "title": {
           "x": 0.05
          },
          "updatemenudefaults": {
           "bgcolor": "#506784",
           "borderwidth": 0
          },
          "xaxis": {
           "automargin": true,
           "gridcolor": "#283442",
           "linecolor": "#506784",
           "ticks": "",
           "title": {
            "standoff": 15
           },
           "zerolinecolor": "#283442",
           "zerolinewidth": 2
          },
          "yaxis": {
           "automargin": true,
           "gridcolor": "#283442",
           "linecolor": "#506784",
           "ticks": "",
           "title": {
            "standoff": 15
           },
           "zerolinecolor": "#283442",
           "zerolinewidth": 2
          }
         }
        },
        "title": {
         "text": "Correlation Heatmap: Target vs Unemployment Variables"
        },
        "width": 1000,
        "xaxis": {
         "anchor": "y",
         "constrain": "domain",
         "domain": [
          0,
          1
         ],
         "scaleanchor": "y"
        },
        "yaxis": {
         "anchor": "x",
         "autorange": "reversed",
         "constrain": "domain",
         "domain": [
          0,
          1
         ]
        }
       }
      }
     },
     "metadata": {},
     "output_type": "display_data"
    }
   ],
   "source": [
    "# Variables to compare\n",
    "variables_to_compare = [\n",
    "    'unemployment_2000', 'unemployment_2014', 'unemployment_2015', 'unemployment_2016',\n",
    "    'unemployment_2017', 'unemployment_2018', 'unemployment_2019', 'unemployment_2020',\n",
    "    'unemployment_2021', 'unemployment_2022', 'unemployment_2023'\n",
    "]\n",
    "\n",
    "# Compute the correlation matrix for 'target' and the selected variables\n",
    "columns_to_use = ['target'] + variables_to_compare\n",
    "df_corr_matrix = df[columns_to_use].corr()\n",
    "\n",
    "# Take the absolute values of the correlation matrix\n",
    "df_corr_matrix_abs = df_corr_matrix.abs()\n",
    "\n",
    "fig = px.imshow(df_corr_matrix_abs, \n",
    "                color_continuous_scale='RdBu_r', \n",
    "                title=\"Correlation Heatmap: Target vs Unemployment Variables\", \n",
    "                template='plotly_dark', \n",
    "                width=1000, \n",
    "                height=600)  \n",
    "\n",
    "fig.show()\n"
   ]
  },
  {
   "cell_type": "code",
   "execution_count": 36,
   "metadata": {},
   "outputs": [
    {
     "data": {
      "application/vnd.plotly.v1+json": {
       "config": {
        "plotlyServerURL": "https://plot.ly"
       },
       "data": [
        {
         "coloraxis": "coloraxis",
         "hovertemplate": "x: %{x}<br>y: %{y}<br>color: %{z}<extra></extra>",
         "name": "0",
         "type": "heatmap",
         "x": [
          "target",
          "current_account_balance_1990",
          "current_account_balance_2000",
          "current_account_balance_2014",
          "current_account_balance_2015",
          "current_account_balance_2016",
          "current_account_balance_2017",
          "current_account_balance_2018",
          "current_account_balance_2019",
          "current_account_balance_2020",
          "current_account_balance_2021",
          "current_account_balance_2022",
          "current_account_balance_2023"
         ],
         "xaxis": "x",
         "y": [
          "target",
          "current_account_balance_1990",
          "current_account_balance_2000",
          "current_account_balance_2014",
          "current_account_balance_2015",
          "current_account_balance_2016",
          "current_account_balance_2017",
          "current_account_balance_2018",
          "current_account_balance_2019",
          "current_account_balance_2020",
          "current_account_balance_2021",
          "current_account_balance_2022",
          "current_account_balance_2023"
         ],
         "yaxis": "y",
         "z": [
          [
           1,
           0.08541902387422566,
           0.08544146493144705,
           0.08668813127429054,
           0.08668813492270705,
           0.08670321470385843,
           0.08774250166786147,
           0.08774250235456664,
           0.08877000557933563,
           0.08876858851391166,
           0.08876745472358427,
           0.0887663637788431,
           0.08876543572852932
          ],
          [
           0.08541902387422566,
           1,
           0.9999999921979452,
           0.9999227879931594,
           0.9999227879872263,
           0.9999226892138331,
           0.9998474105854164,
           0.9998474105787387,
           0.9997732969608193,
           0.9997733050668217,
           0.9997733113658342,
           0.9997733172865991,
           0.9997733226687676
          ],
          [
           0.08544146493144705,
           0.9999999921979452,
           1,
           0.9999236672538484,
           0.9999236672479489,
           0.9999235789643564,
           0.9998490274771382,
           0.9998490274704884,
           0.9997756327306225,
           0.999775639850375,
           0.9997756453603984,
           0.9997756505208735,
           0.9997756552534165
          ],
          [
           0.08668813127429054,
           0.9999227879931594,
           0.9999236672538484,
           1,
           0.9999999999999999,
           0.9999999952610227,
           0.9999312294106049,
           0.9999312294085404,
           0.9998635545792403,
           0.9998635538453381,
           0.999863553074258,
           0.999863552186653,
           0.9998635517569144
          ],
          [
           0.08668813492270705,
           0.9999227879872263,
           0.9999236672479489,
           0.9999999999999999,
           1,
           0.999999995261026,
           0.999931229410825,
           0.9999312294087609,
           0.9998635545796754,
           0.9998635538457729,
           0.9998635530746925,
           0.9998635521870873,
           0.9998635517573486
          ],
          [
           0.08670321470385843,
           0.9999226892138331,
           0.9999235789643564,
           0.9999999952610227,
           0.999999995261026,
           1,
           0.9999318912092531,
           0.9999318912071932,
           0.9998648659705711,
           0.9998648643455474,
           0.9998648628615722,
           0.9998648612869813,
           0.9998648602702245
          ],
          [
           0.08774250166786147,
           0.9998474105854164,
           0.9998490274771382,
           0.9999312294106049,
           0.999931229410825,
           0.9999318912092531,
           1,
           1,
           0.9999325434532764,
           0.999932542412795,
           0.9999325413960902,
           0.9999325402658874,
           0.9999325391712992
          ],
          [
           0.08774250235456664,
           0.9998474105787387,
           0.9998490274704884,
           0.9999312294085404,
           0.9999312294087609,
           0.9999318912071932,
           1,
           1,
           0.9999325434527088,
           0.999932542412228,
           0.9999325413955238,
           0.9999325402653216,
           0.9999325391707341
          ],
          [
           0.08877000557933563,
           0.9997732969608193,
           0.9997756327306225,
           0.9998635545792403,
           0.9998635545796754,
           0.9998648659705711,
           0.9999325434532764,
           0.9999325434527088,
           1,
           0.9999999998723107,
           0.9999999995862868,
           0.9999999991560543,
           0.9999999986701792
          ],
          [
           0.08876858851391166,
           0.9997733050668217,
           0.999775639850375,
           0.9998635538453381,
           0.9998635538457729,
           0.9998648643455474,
           0.999932542412795,
           0.999932542412228,
           0.9999999998723107,
           1,
           0.9999999999182793,
           0.9999999996849102,
           0.9999999993666354
          ],
          [
           0.08876745472358427,
           0.9997733113658342,
           0.9997756453603984,
           0.999863553074258,
           0.9998635530746925,
           0.9998648628615722,
           0.9999325413960902,
           0.9999325413955238,
           0.9999999995862868,
           0.9999999999182793,
           1,
           0.999999999924122,
           0.9999999997399269
          ],
          [
           0.0887663637788431,
           0.9997733172865991,
           0.9997756505208735,
           0.999863552186653,
           0.9998635521870873,
           0.9998648612869813,
           0.9999325402658874,
           0.9999325402653216,
           0.9999999991560543,
           0.9999999996849102,
           0.999999999924122,
           1,
           0.9999999999450027
          ],
          [
           0.08876543572852932,
           0.9997733226687676,
           0.9997756552534165,
           0.9998635517569144,
           0.9998635517573486,
           0.9998648602702245,
           0.9999325391712992,
           0.9999325391707341,
           0.9999999986701792,
           0.9999999993666354,
           0.9999999997399269,
           0.9999999999450027,
           1
          ]
         ]
        }
       ],
       "layout": {
        "coloraxis": {
         "colorscale": [
          [
           0,
           "rgb(5,48,97)"
          ],
          [
           0.1,
           "rgb(33,102,172)"
          ],
          [
           0.2,
           "rgb(67,147,195)"
          ],
          [
           0.3,
           "rgb(146,197,222)"
          ],
          [
           0.4,
           "rgb(209,229,240)"
          ],
          [
           0.5,
           "rgb(247,247,247)"
          ],
          [
           0.6,
           "rgb(253,219,199)"
          ],
          [
           0.7,
           "rgb(244,165,130)"
          ],
          [
           0.8,
           "rgb(214,96,77)"
          ],
          [
           0.9,
           "rgb(178,24,43)"
          ],
          [
           1,
           "rgb(103,0,31)"
          ]
         ]
        },
        "height": 600,
        "template": {
         "data": {
          "bar": [
           {
            "error_x": {
             "color": "#f2f5fa"
            },
            "error_y": {
             "color": "#f2f5fa"
            },
            "marker": {
             "line": {
              "color": "rgb(17,17,17)",
              "width": 0.5
             },
             "pattern": {
              "fillmode": "overlay",
              "size": 10,
              "solidity": 0.2
             }
            },
            "type": "bar"
           }
          ],
          "barpolar": [
           {
            "marker": {
             "line": {
              "color": "rgb(17,17,17)",
              "width": 0.5
             },
             "pattern": {
              "fillmode": "overlay",
              "size": 10,
              "solidity": 0.2
             }
            },
            "type": "barpolar"
           }
          ],
          "carpet": [
           {
            "aaxis": {
             "endlinecolor": "#A2B1C6",
             "gridcolor": "#506784",
             "linecolor": "#506784",
             "minorgridcolor": "#506784",
             "startlinecolor": "#A2B1C6"
            },
            "baxis": {
             "endlinecolor": "#A2B1C6",
             "gridcolor": "#506784",
             "linecolor": "#506784",
             "minorgridcolor": "#506784",
             "startlinecolor": "#A2B1C6"
            },
            "type": "carpet"
           }
          ],
          "choropleth": [
           {
            "colorbar": {
             "outlinewidth": 0,
             "ticks": ""
            },
            "type": "choropleth"
           }
          ],
          "contour": [
           {
            "colorbar": {
             "outlinewidth": 0,
             "ticks": ""
            },
            "colorscale": [
             [
              0,
              "#0d0887"
             ],
             [
              0.1111111111111111,
              "#46039f"
             ],
             [
              0.2222222222222222,
              "#7201a8"
             ],
             [
              0.3333333333333333,
              "#9c179e"
             ],
             [
              0.4444444444444444,
              "#bd3786"
             ],
             [
              0.5555555555555556,
              "#d8576b"
             ],
             [
              0.6666666666666666,
              "#ed7953"
             ],
             [
              0.7777777777777778,
              "#fb9f3a"
             ],
             [
              0.8888888888888888,
              "#fdca26"
             ],
             [
              1,
              "#f0f921"
             ]
            ],
            "type": "contour"
           }
          ],
          "contourcarpet": [
           {
            "colorbar": {
             "outlinewidth": 0,
             "ticks": ""
            },
            "type": "contourcarpet"
           }
          ],
          "heatmap": [
           {
            "colorbar": {
             "outlinewidth": 0,
             "ticks": ""
            },
            "colorscale": [
             [
              0,
              "#0d0887"
             ],
             [
              0.1111111111111111,
              "#46039f"
             ],
             [
              0.2222222222222222,
              "#7201a8"
             ],
             [
              0.3333333333333333,
              "#9c179e"
             ],
             [
              0.4444444444444444,
              "#bd3786"
             ],
             [
              0.5555555555555556,
              "#d8576b"
             ],
             [
              0.6666666666666666,
              "#ed7953"
             ],
             [
              0.7777777777777778,
              "#fb9f3a"
             ],
             [
              0.8888888888888888,
              "#fdca26"
             ],
             [
              1,
              "#f0f921"
             ]
            ],
            "type": "heatmap"
           }
          ],
          "heatmapgl": [
           {
            "colorbar": {
             "outlinewidth": 0,
             "ticks": ""
            },
            "colorscale": [
             [
              0,
              "#0d0887"
             ],
             [
              0.1111111111111111,
              "#46039f"
             ],
             [
              0.2222222222222222,
              "#7201a8"
             ],
             [
              0.3333333333333333,
              "#9c179e"
             ],
             [
              0.4444444444444444,
              "#bd3786"
             ],
             [
              0.5555555555555556,
              "#d8576b"
             ],
             [
              0.6666666666666666,
              "#ed7953"
             ],
             [
              0.7777777777777778,
              "#fb9f3a"
             ],
             [
              0.8888888888888888,
              "#fdca26"
             ],
             [
              1,
              "#f0f921"
             ]
            ],
            "type": "heatmapgl"
           }
          ],
          "histogram": [
           {
            "marker": {
             "pattern": {
              "fillmode": "overlay",
              "size": 10,
              "solidity": 0.2
             }
            },
            "type": "histogram"
           }
          ],
          "histogram2d": [
           {
            "colorbar": {
             "outlinewidth": 0,
             "ticks": ""
            },
            "colorscale": [
             [
              0,
              "#0d0887"
             ],
             [
              0.1111111111111111,
              "#46039f"
             ],
             [
              0.2222222222222222,
              "#7201a8"
             ],
             [
              0.3333333333333333,
              "#9c179e"
             ],
             [
              0.4444444444444444,
              "#bd3786"
             ],
             [
              0.5555555555555556,
              "#d8576b"
             ],
             [
              0.6666666666666666,
              "#ed7953"
             ],
             [
              0.7777777777777778,
              "#fb9f3a"
             ],
             [
              0.8888888888888888,
              "#fdca26"
             ],
             [
              1,
              "#f0f921"
             ]
            ],
            "type": "histogram2d"
           }
          ],
          "histogram2dcontour": [
           {
            "colorbar": {
             "outlinewidth": 0,
             "ticks": ""
            },
            "colorscale": [
             [
              0,
              "#0d0887"
             ],
             [
              0.1111111111111111,
              "#46039f"
             ],
             [
              0.2222222222222222,
              "#7201a8"
             ],
             [
              0.3333333333333333,
              "#9c179e"
             ],
             [
              0.4444444444444444,
              "#bd3786"
             ],
             [
              0.5555555555555556,
              "#d8576b"
             ],
             [
              0.6666666666666666,
              "#ed7953"
             ],
             [
              0.7777777777777778,
              "#fb9f3a"
             ],
             [
              0.8888888888888888,
              "#fdca26"
             ],
             [
              1,
              "#f0f921"
             ]
            ],
            "type": "histogram2dcontour"
           }
          ],
          "mesh3d": [
           {
            "colorbar": {
             "outlinewidth": 0,
             "ticks": ""
            },
            "type": "mesh3d"
           }
          ],
          "parcoords": [
           {
            "line": {
             "colorbar": {
              "outlinewidth": 0,
              "ticks": ""
             }
            },
            "type": "parcoords"
           }
          ],
          "pie": [
           {
            "automargin": true,
            "type": "pie"
           }
          ],
          "scatter": [
           {
            "marker": {
             "line": {
              "color": "#283442"
             }
            },
            "type": "scatter"
           }
          ],
          "scatter3d": [
           {
            "line": {
             "colorbar": {
              "outlinewidth": 0,
              "ticks": ""
             }
            },
            "marker": {
             "colorbar": {
              "outlinewidth": 0,
              "ticks": ""
             }
            },
            "type": "scatter3d"
           }
          ],
          "scattercarpet": [
           {
            "marker": {
             "colorbar": {
              "outlinewidth": 0,
              "ticks": ""
             }
            },
            "type": "scattercarpet"
           }
          ],
          "scattergeo": [
           {
            "marker": {
             "colorbar": {
              "outlinewidth": 0,
              "ticks": ""
             }
            },
            "type": "scattergeo"
           }
          ],
          "scattergl": [
           {
            "marker": {
             "line": {
              "color": "#283442"
             }
            },
            "type": "scattergl"
           }
          ],
          "scattermapbox": [
           {
            "marker": {
             "colorbar": {
              "outlinewidth": 0,
              "ticks": ""
             }
            },
            "type": "scattermapbox"
           }
          ],
          "scatterpolar": [
           {
            "marker": {
             "colorbar": {
              "outlinewidth": 0,
              "ticks": ""
             }
            },
            "type": "scatterpolar"
           }
          ],
          "scatterpolargl": [
           {
            "marker": {
             "colorbar": {
              "outlinewidth": 0,
              "ticks": ""
             }
            },
            "type": "scatterpolargl"
           }
          ],
          "scatterternary": [
           {
            "marker": {
             "colorbar": {
              "outlinewidth": 0,
              "ticks": ""
             }
            },
            "type": "scatterternary"
           }
          ],
          "surface": [
           {
            "colorbar": {
             "outlinewidth": 0,
             "ticks": ""
            },
            "colorscale": [
             [
              0,
              "#0d0887"
             ],
             [
              0.1111111111111111,
              "#46039f"
             ],
             [
              0.2222222222222222,
              "#7201a8"
             ],
             [
              0.3333333333333333,
              "#9c179e"
             ],
             [
              0.4444444444444444,
              "#bd3786"
             ],
             [
              0.5555555555555556,
              "#d8576b"
             ],
             [
              0.6666666666666666,
              "#ed7953"
             ],
             [
              0.7777777777777778,
              "#fb9f3a"
             ],
             [
              0.8888888888888888,
              "#fdca26"
             ],
             [
              1,
              "#f0f921"
             ]
            ],
            "type": "surface"
           }
          ],
          "table": [
           {
            "cells": {
             "fill": {
              "color": "#506784"
             },
             "line": {
              "color": "rgb(17,17,17)"
             }
            },
            "header": {
             "fill": {
              "color": "#2a3f5f"
             },
             "line": {
              "color": "rgb(17,17,17)"
             }
            },
            "type": "table"
           }
          ]
         },
         "layout": {
          "annotationdefaults": {
           "arrowcolor": "#f2f5fa",
           "arrowhead": 0,
           "arrowwidth": 1
          },
          "autotypenumbers": "strict",
          "coloraxis": {
           "colorbar": {
            "outlinewidth": 0,
            "ticks": ""
           }
          },
          "colorscale": {
           "diverging": [
            [
             0,
             "#8e0152"
            ],
            [
             0.1,
             "#c51b7d"
            ],
            [
             0.2,
             "#de77ae"
            ],
            [
             0.3,
             "#f1b6da"
            ],
            [
             0.4,
             "#fde0ef"
            ],
            [
             0.5,
             "#f7f7f7"
            ],
            [
             0.6,
             "#e6f5d0"
            ],
            [
             0.7,
             "#b8e186"
            ],
            [
             0.8,
             "#7fbc41"
            ],
            [
             0.9,
             "#4d9221"
            ],
            [
             1,
             "#276419"
            ]
           ],
           "sequential": [
            [
             0,
             "#0d0887"
            ],
            [
             0.1111111111111111,
             "#46039f"
            ],
            [
             0.2222222222222222,
             "#7201a8"
            ],
            [
             0.3333333333333333,
             "#9c179e"
            ],
            [
             0.4444444444444444,
             "#bd3786"
            ],
            [
             0.5555555555555556,
             "#d8576b"
            ],
            [
             0.6666666666666666,
             "#ed7953"
            ],
            [
             0.7777777777777778,
             "#fb9f3a"
            ],
            [
             0.8888888888888888,
             "#fdca26"
            ],
            [
             1,
             "#f0f921"
            ]
           ],
           "sequentialminus": [
            [
             0,
             "#0d0887"
            ],
            [
             0.1111111111111111,
             "#46039f"
            ],
            [
             0.2222222222222222,
             "#7201a8"
            ],
            [
             0.3333333333333333,
             "#9c179e"
            ],
            [
             0.4444444444444444,
             "#bd3786"
            ],
            [
             0.5555555555555556,
             "#d8576b"
            ],
            [
             0.6666666666666666,
             "#ed7953"
            ],
            [
             0.7777777777777778,
             "#fb9f3a"
            ],
            [
             0.8888888888888888,
             "#fdca26"
            ],
            [
             1,
             "#f0f921"
            ]
           ]
          },
          "colorway": [
           "#636efa",
           "#EF553B",
           "#00cc96",
           "#ab63fa",
           "#FFA15A",
           "#19d3f3",
           "#FF6692",
           "#B6E880",
           "#FF97FF",
           "#FECB52"
          ],
          "font": {
           "color": "#f2f5fa"
          },
          "geo": {
           "bgcolor": "rgb(17,17,17)",
           "lakecolor": "rgb(17,17,17)",
           "landcolor": "rgb(17,17,17)",
           "showlakes": true,
           "showland": true,
           "subunitcolor": "#506784"
          },
          "hoverlabel": {
           "align": "left"
          },
          "hovermode": "closest",
          "mapbox": {
           "style": "dark"
          },
          "paper_bgcolor": "rgb(17,17,17)",
          "plot_bgcolor": "rgb(17,17,17)",
          "polar": {
           "angularaxis": {
            "gridcolor": "#506784",
            "linecolor": "#506784",
            "ticks": ""
           },
           "bgcolor": "rgb(17,17,17)",
           "radialaxis": {
            "gridcolor": "#506784",
            "linecolor": "#506784",
            "ticks": ""
           }
          },
          "scene": {
           "xaxis": {
            "backgroundcolor": "rgb(17,17,17)",
            "gridcolor": "#506784",
            "gridwidth": 2,
            "linecolor": "#506784",
            "showbackground": true,
            "ticks": "",
            "zerolinecolor": "#C8D4E3"
           },
           "yaxis": {
            "backgroundcolor": "rgb(17,17,17)",
            "gridcolor": "#506784",
            "gridwidth": 2,
            "linecolor": "#506784",
            "showbackground": true,
            "ticks": "",
            "zerolinecolor": "#C8D4E3"
           },
           "zaxis": {
            "backgroundcolor": "rgb(17,17,17)",
            "gridcolor": "#506784",
            "gridwidth": 2,
            "linecolor": "#506784",
            "showbackground": true,
            "ticks": "",
            "zerolinecolor": "#C8D4E3"
           }
          },
          "shapedefaults": {
           "line": {
            "color": "#f2f5fa"
           }
          },
          "sliderdefaults": {
           "bgcolor": "#C8D4E3",
           "bordercolor": "rgb(17,17,17)",
           "borderwidth": 1,
           "tickwidth": 0
          },
          "ternary": {
           "aaxis": {
            "gridcolor": "#506784",
            "linecolor": "#506784",
            "ticks": ""
           },
           "baxis": {
            "gridcolor": "#506784",
            "linecolor": "#506784",
            "ticks": ""
           },
           "bgcolor": "rgb(17,17,17)",
           "caxis": {
            "gridcolor": "#506784",
            "linecolor": "#506784",
            "ticks": ""
           }
          },
          "title": {
           "x": 0.05
          },
          "updatemenudefaults": {
           "bgcolor": "#506784",
           "borderwidth": 0
          },
          "xaxis": {
           "automargin": true,
           "gridcolor": "#283442",
           "linecolor": "#506784",
           "ticks": "",
           "title": {
            "standoff": 15
           },
           "zerolinecolor": "#283442",
           "zerolinewidth": 2
          },
          "yaxis": {
           "automargin": true,
           "gridcolor": "#283442",
           "linecolor": "#506784",
           "ticks": "",
           "title": {
            "standoff": 15
           },
           "zerolinecolor": "#283442",
           "zerolinewidth": 2
          }
         }
        },
        "title": {
         "text": "Correlation Heatmap: Target vs Current Account Balance Variables"
        },
        "width": 1000,
        "xaxis": {
         "anchor": "y",
         "constrain": "domain",
         "domain": [
          0,
          1
         ],
         "scaleanchor": "y"
        },
        "yaxis": {
         "anchor": "x",
         "autorange": "reversed",
         "constrain": "domain",
         "domain": [
          0,
          1
         ]
        }
       }
      }
     },
     "metadata": {},
     "output_type": "display_data"
    }
   ],
   "source": [
    "# Variables to compare\n",
    "variables_to_compare = ['current_account_balance_1990', 'current_account_balance_2000',\n",
    "       'current_account_balance_2014', 'current_account_balance_2015',\n",
    "       'current_account_balance_2016', 'current_account_balance_2017',\n",
    "       'current_account_balance_2018', 'current_account_balance_2019',\n",
    "       'current_account_balance_2020', 'current_account_balance_2021',\n",
    "       'current_account_balance_2022', 'current_account_balance_2023'\n",
    "]\n",
    "\n",
    "# Compute the correlation matrix for 'target' and the selected variables\n",
    "columns_to_use = ['target'] + variables_to_compare\n",
    "df_corr_matrix = df[columns_to_use].corr()\n",
    "\n",
    "# Take the absolute values of the correlation matrix\n",
    "df_corr_matrix_abs = df_corr_matrix.abs()\n",
    "\n",
    "fig = px.imshow(df_corr_matrix_abs, \n",
    "                color_continuous_scale='RdBu_r', \n",
    "                title=\"Correlation Heatmap: Target vs Current Account Balance Variables\", \n",
    "                template='plotly_dark', \n",
    "                width=1000, \n",
    "                height=600) \n",
    "\n",
    "fig.show()\n"
   ]
  },
  {
   "cell_type": "code",
   "execution_count": 37,
   "metadata": {},
   "outputs": [
    {
     "data": {
      "application/vnd.plotly.v1+json": {
       "config": {
        "plotlyServerURL": "https://plot.ly"
       },
       "data": [
        {
         "coloraxis": "coloraxis",
         "hovertemplate": "x: %{x}<br>y: %{y}<br>color: %{z}<extra></extra>",
         "name": "0",
         "type": "heatmap",
         "x": [
          "target",
          "exchange_rate_usd_1990",
          "exchange_rate_usd_2000",
          "exchange_rate_usd_2014",
          "exchange_rate_usd_2015",
          "exchange_rate_usd_2016",
          "exchange_rate_usd_2017",
          "exchange_rate_usd_2018",
          "exchange_rate_usd_2019",
          "exchange_rate_usd_2020",
          "exchange_rate_usd_2021",
          "exchange_rate_usd_2022",
          "exchange_rate_usd_2023"
         ],
         "xaxis": "x",
         "y": [
          "target",
          "exchange_rate_usd_1990",
          "exchange_rate_usd_2000",
          "exchange_rate_usd_2014",
          "exchange_rate_usd_2015",
          "exchange_rate_usd_2016",
          "exchange_rate_usd_2017",
          "exchange_rate_usd_2018",
          "exchange_rate_usd_2019",
          "exchange_rate_usd_2020",
          "exchange_rate_usd_2021",
          "exchange_rate_usd_2022",
          "exchange_rate_usd_2023"
         ],
         "yaxis": "y",
         "z": [
          [
           1,
           0.08877121111441649,
           0.193156129364069,
           0.19965248918418627,
           0.2018920152029204,
           0.20299598504300473,
           0.20365330736657838,
           0.20409172304805107,
           0.20440380545466008,
           0.20463727843187376,
           0.20481889253742439,
           0.20496437667018436,
           0.20453437780807154
          ],
          [
           0.08877121111441649,
           1,
           0.06292246937117113,
           0.0251187065100314,
           0.012465529283471275,
           0.0061358094944462226,
           0.0023375633475689545,
           0.00019454400156301876,
           0.0020031692615430567,
           0.00335960941835206,
           0.004414579223109853,
           0.005258519844628023,
           0.006092708175758575
          ],
          [
           0.193156129364069,
           0.06292246937117113,
           1,
           0.9990557291229033,
           0.9983183714183552,
           0.9978696072313824,
           0.9975747471947208,
           0.9973675255474517,
           0.9972142933285131,
           0.9970965177577364,
           0.9970032269276209,
           0.9969275320030373,
           0.9967812451941658
          ],
          [
           0.19965248918418627,
           0.0251187065100314,
           0.9990557291229033,
           1,
           0.9998932522408742,
           0.9997597731786496,
           0.9996540485055487,
           0.9995728896168559,
           0.9995096895998985,
           0.9994594304648534,
           0.9994186465543945,
           0.9993849528562258,
           0.9992739193217871
          ],
          [
           0.2018920152029204,
           0.012465529283471275,
           0.9983183714183552,
           0.9998932522408742,
           1,
           0.9999732961329436,
           0.9999316354151551,
           0.9998931809594392,
           0.9998604820650153,
           0.9998330973792571,
           0.9998101034256013,
           0.9997906406681247,
           0.9996913384908725
          ],
          [
           0.20299598504300473,
           0.0061358094944462226,
           0.9978696072313824,
           0.9997597731786496,
           0.9999732961329436,
           1,
           0.9999903853951169,
           0.999973293434045,
           0.9999558528610953,
           0.9999399114490145,
           0.9999258173140944,
           0.9999134739845691,
           0.9998200474180644
          ],
          [
           0.20365330736657838,
           0.0023375633475689545,
           0.9975747471947208,
           0.9996540485055487,
           0.9999316354151551,
           0.9999903853951169,
           1,
           0.9999957268667427,
           0.9999874423715276,
           0.9999783678106234,
           0.9999696143048502,
           0.9999615432548804,
           0.9998716446886858
          ],
          [
           0.20409172304805107,
           0.00019454400156301876,
           0.9973675255474517,
           0.9995728896168559,
           0.9998931809594392,
           0.999973293434045,
           0.9999957268667427,
           1,
           0.9999978198848586,
           0.9999933235014877,
           0.9999881307584185,
           0.999982908302487,
           0.9998953626271836
          ],
          [
           0.20440380545466008,
           0.0020031692615430567,
           0.9972142933285131,
           0.9995096895998985,
           0.9998604820650153,
           0.9999558528610953,
           0.9999874423715276,
           0.9999978198848586,
           1,
           0.9999987737275112,
           0.999996124382858,
           0.9999929366397304,
           0.9999070720387222
          ],
          [
           0.20463727843187376,
           0.00335960941835206,
           0.9970965177577364,
           0.9994594304648534,
           0.9998330973792571,
           0.9999399114490145,
           0.9999783678106234,
           0.9999933235014877,
           0.9999987737275112,
           1,
           0.9999992581793112,
           0.9999975964539676,
           0.9999129928832309
          ],
          [
           0.20481889253742439,
           0.004414579223109853,
           0.9970032269276209,
           0.9994186465543945,
           0.9998101034256013,
           0.9999258173140944,
           0.9999696143048502,
           0.9999881307584185,
           0.999996124382858,
           0.9999992581793112,
           1,
           0.9999995252076584,
           0.9999159025518425
          ],
          [
           0.20496437667018436,
           0.005258519844628023,
           0.9969275320030373,
           0.9993849528562258,
           0.9997906406681247,
           0.9999134739845691,
           0.9999615432548804,
           0.999982908302487,
           0.9999929366397304,
           0.9999975964539676,
           0.9999995252076584,
           1,
           0.9999171621379954
          ],
          [
           0.20453437780807154,
           0.006092708175758575,
           0.9967812451941658,
           0.9992739193217871,
           0.9996913384908725,
           0.9998200474180644,
           0.9998716446886858,
           0.9998953626271836,
           0.9999070720387222,
           0.9999129928832309,
           0.9999159025518425,
           0.9999171621379954,
           1
          ]
         ]
        }
       ],
       "layout": {
        "coloraxis": {
         "colorscale": [
          [
           0,
           "rgb(5,48,97)"
          ],
          [
           0.1,
           "rgb(33,102,172)"
          ],
          [
           0.2,
           "rgb(67,147,195)"
          ],
          [
           0.3,
           "rgb(146,197,222)"
          ],
          [
           0.4,
           "rgb(209,229,240)"
          ],
          [
           0.5,
           "rgb(247,247,247)"
          ],
          [
           0.6,
           "rgb(253,219,199)"
          ],
          [
           0.7,
           "rgb(244,165,130)"
          ],
          [
           0.8,
           "rgb(214,96,77)"
          ],
          [
           0.9,
           "rgb(178,24,43)"
          ],
          [
           1,
           "rgb(103,0,31)"
          ]
         ]
        },
        "height": 600,
        "template": {
         "data": {
          "bar": [
           {
            "error_x": {
             "color": "#f2f5fa"
            },
            "error_y": {
             "color": "#f2f5fa"
            },
            "marker": {
             "line": {
              "color": "rgb(17,17,17)",
              "width": 0.5
             },
             "pattern": {
              "fillmode": "overlay",
              "size": 10,
              "solidity": 0.2
             }
            },
            "type": "bar"
           }
          ],
          "barpolar": [
           {
            "marker": {
             "line": {
              "color": "rgb(17,17,17)",
              "width": 0.5
             },
             "pattern": {
              "fillmode": "overlay",
              "size": 10,
              "solidity": 0.2
             }
            },
            "type": "barpolar"
           }
          ],
          "carpet": [
           {
            "aaxis": {
             "endlinecolor": "#A2B1C6",
             "gridcolor": "#506784",
             "linecolor": "#506784",
             "minorgridcolor": "#506784",
             "startlinecolor": "#A2B1C6"
            },
            "baxis": {
             "endlinecolor": "#A2B1C6",
             "gridcolor": "#506784",
             "linecolor": "#506784",
             "minorgridcolor": "#506784",
             "startlinecolor": "#A2B1C6"
            },
            "type": "carpet"
           }
          ],
          "choropleth": [
           {
            "colorbar": {
             "outlinewidth": 0,
             "ticks": ""
            },
            "type": "choropleth"
           }
          ],
          "contour": [
           {
            "colorbar": {
             "outlinewidth": 0,
             "ticks": ""
            },
            "colorscale": [
             [
              0,
              "#0d0887"
             ],
             [
              0.1111111111111111,
              "#46039f"
             ],
             [
              0.2222222222222222,
              "#7201a8"
             ],
             [
              0.3333333333333333,
              "#9c179e"
             ],
             [
              0.4444444444444444,
              "#bd3786"
             ],
             [
              0.5555555555555556,
              "#d8576b"
             ],
             [
              0.6666666666666666,
              "#ed7953"
             ],
             [
              0.7777777777777778,
              "#fb9f3a"
             ],
             [
              0.8888888888888888,
              "#fdca26"
             ],
             [
              1,
              "#f0f921"
             ]
            ],
            "type": "contour"
           }
          ],
          "contourcarpet": [
           {
            "colorbar": {
             "outlinewidth": 0,
             "ticks": ""
            },
            "type": "contourcarpet"
           }
          ],
          "heatmap": [
           {
            "colorbar": {
             "outlinewidth": 0,
             "ticks": ""
            },
            "colorscale": [
             [
              0,
              "#0d0887"
             ],
             [
              0.1111111111111111,
              "#46039f"
             ],
             [
              0.2222222222222222,
              "#7201a8"
             ],
             [
              0.3333333333333333,
              "#9c179e"
             ],
             [
              0.4444444444444444,
              "#bd3786"
             ],
             [
              0.5555555555555556,
              "#d8576b"
             ],
             [
              0.6666666666666666,
              "#ed7953"
             ],
             [
              0.7777777777777778,
              "#fb9f3a"
             ],
             [
              0.8888888888888888,
              "#fdca26"
             ],
             [
              1,
              "#f0f921"
             ]
            ],
            "type": "heatmap"
           }
          ],
          "heatmapgl": [
           {
            "colorbar": {
             "outlinewidth": 0,
             "ticks": ""
            },
            "colorscale": [
             [
              0,
              "#0d0887"
             ],
             [
              0.1111111111111111,
              "#46039f"
             ],
             [
              0.2222222222222222,
              "#7201a8"
             ],
             [
              0.3333333333333333,
              "#9c179e"
             ],
             [
              0.4444444444444444,
              "#bd3786"
             ],
             [
              0.5555555555555556,
              "#d8576b"
             ],
             [
              0.6666666666666666,
              "#ed7953"
             ],
             [
              0.7777777777777778,
              "#fb9f3a"
             ],
             [
              0.8888888888888888,
              "#fdca26"
             ],
             [
              1,
              "#f0f921"
             ]
            ],
            "type": "heatmapgl"
           }
          ],
          "histogram": [
           {
            "marker": {
             "pattern": {
              "fillmode": "overlay",
              "size": 10,
              "solidity": 0.2
             }
            },
            "type": "histogram"
           }
          ],
          "histogram2d": [
           {
            "colorbar": {
             "outlinewidth": 0,
             "ticks": ""
            },
            "colorscale": [
             [
              0,
              "#0d0887"
             ],
             [
              0.1111111111111111,
              "#46039f"
             ],
             [
              0.2222222222222222,
              "#7201a8"
             ],
             [
              0.3333333333333333,
              "#9c179e"
             ],
             [
              0.4444444444444444,
              "#bd3786"
             ],
             [
              0.5555555555555556,
              "#d8576b"
             ],
             [
              0.6666666666666666,
              "#ed7953"
             ],
             [
              0.7777777777777778,
              "#fb9f3a"
             ],
             [
              0.8888888888888888,
              "#fdca26"
             ],
             [
              1,
              "#f0f921"
             ]
            ],
            "type": "histogram2d"
           }
          ],
          "histogram2dcontour": [
           {
            "colorbar": {
             "outlinewidth": 0,
             "ticks": ""
            },
            "colorscale": [
             [
              0,
              "#0d0887"
             ],
             [
              0.1111111111111111,
              "#46039f"
             ],
             [
              0.2222222222222222,
              "#7201a8"
             ],
             [
              0.3333333333333333,
              "#9c179e"
             ],
             [
              0.4444444444444444,
              "#bd3786"
             ],
             [
              0.5555555555555556,
              "#d8576b"
             ],
             [
              0.6666666666666666,
              "#ed7953"
             ],
             [
              0.7777777777777778,
              "#fb9f3a"
             ],
             [
              0.8888888888888888,
              "#fdca26"
             ],
             [
              1,
              "#f0f921"
             ]
            ],
            "type": "histogram2dcontour"
           }
          ],
          "mesh3d": [
           {
            "colorbar": {
             "outlinewidth": 0,
             "ticks": ""
            },
            "type": "mesh3d"
           }
          ],
          "parcoords": [
           {
            "line": {
             "colorbar": {
              "outlinewidth": 0,
              "ticks": ""
             }
            },
            "type": "parcoords"
           }
          ],
          "pie": [
           {
            "automargin": true,
            "type": "pie"
           }
          ],
          "scatter": [
           {
            "marker": {
             "line": {
              "color": "#283442"
             }
            },
            "type": "scatter"
           }
          ],
          "scatter3d": [
           {
            "line": {
             "colorbar": {
              "outlinewidth": 0,
              "ticks": ""
             }
            },
            "marker": {
             "colorbar": {
              "outlinewidth": 0,
              "ticks": ""
             }
            },
            "type": "scatter3d"
           }
          ],
          "scattercarpet": [
           {
            "marker": {
             "colorbar": {
              "outlinewidth": 0,
              "ticks": ""
             }
            },
            "type": "scattercarpet"
           }
          ],
          "scattergeo": [
           {
            "marker": {
             "colorbar": {
              "outlinewidth": 0,
              "ticks": ""
             }
            },
            "type": "scattergeo"
           }
          ],
          "scattergl": [
           {
            "marker": {
             "line": {
              "color": "#283442"
             }
            },
            "type": "scattergl"
           }
          ],
          "scattermapbox": [
           {
            "marker": {
             "colorbar": {
              "outlinewidth": 0,
              "ticks": ""
             }
            },
            "type": "scattermapbox"
           }
          ],
          "scatterpolar": [
           {
            "marker": {
             "colorbar": {
              "outlinewidth": 0,
              "ticks": ""
             }
            },
            "type": "scatterpolar"
           }
          ],
          "scatterpolargl": [
           {
            "marker": {
             "colorbar": {
              "outlinewidth": 0,
              "ticks": ""
             }
            },
            "type": "scatterpolargl"
           }
          ],
          "scatterternary": [
           {
            "marker": {
             "colorbar": {
              "outlinewidth": 0,
              "ticks": ""
             }
            },
            "type": "scatterternary"
           }
          ],
          "surface": [
           {
            "colorbar": {
             "outlinewidth": 0,
             "ticks": ""
            },
            "colorscale": [
             [
              0,
              "#0d0887"
             ],
             [
              0.1111111111111111,
              "#46039f"
             ],
             [
              0.2222222222222222,
              "#7201a8"
             ],
             [
              0.3333333333333333,
              "#9c179e"
             ],
             [
              0.4444444444444444,
              "#bd3786"
             ],
             [
              0.5555555555555556,
              "#d8576b"
             ],
             [
              0.6666666666666666,
              "#ed7953"
             ],
             [
              0.7777777777777778,
              "#fb9f3a"
             ],
             [
              0.8888888888888888,
              "#fdca26"
             ],
             [
              1,
              "#f0f921"
             ]
            ],
            "type": "surface"
           }
          ],
          "table": [
           {
            "cells": {
             "fill": {
              "color": "#506784"
             },
             "line": {
              "color": "rgb(17,17,17)"
             }
            },
            "header": {
             "fill": {
              "color": "#2a3f5f"
             },
             "line": {
              "color": "rgb(17,17,17)"
             }
            },
            "type": "table"
           }
          ]
         },
         "layout": {
          "annotationdefaults": {
           "arrowcolor": "#f2f5fa",
           "arrowhead": 0,
           "arrowwidth": 1
          },
          "autotypenumbers": "strict",
          "coloraxis": {
           "colorbar": {
            "outlinewidth": 0,
            "ticks": ""
           }
          },
          "colorscale": {
           "diverging": [
            [
             0,
             "#8e0152"
            ],
            [
             0.1,
             "#c51b7d"
            ],
            [
             0.2,
             "#de77ae"
            ],
            [
             0.3,
             "#f1b6da"
            ],
            [
             0.4,
             "#fde0ef"
            ],
            [
             0.5,
             "#f7f7f7"
            ],
            [
             0.6,
             "#e6f5d0"
            ],
            [
             0.7,
             "#b8e186"
            ],
            [
             0.8,
             "#7fbc41"
            ],
            [
             0.9,
             "#4d9221"
            ],
            [
             1,
             "#276419"
            ]
           ],
           "sequential": [
            [
             0,
             "#0d0887"
            ],
            [
             0.1111111111111111,
             "#46039f"
            ],
            [
             0.2222222222222222,
             "#7201a8"
            ],
            [
             0.3333333333333333,
             "#9c179e"
            ],
            [
             0.4444444444444444,
             "#bd3786"
            ],
            [
             0.5555555555555556,
             "#d8576b"
            ],
            [
             0.6666666666666666,
             "#ed7953"
            ],
            [
             0.7777777777777778,
             "#fb9f3a"
            ],
            [
             0.8888888888888888,
             "#fdca26"
            ],
            [
             1,
             "#f0f921"
            ]
           ],
           "sequentialminus": [
            [
             0,
             "#0d0887"
            ],
            [
             0.1111111111111111,
             "#46039f"
            ],
            [
             0.2222222222222222,
             "#7201a8"
            ],
            [
             0.3333333333333333,
             "#9c179e"
            ],
            [
             0.4444444444444444,
             "#bd3786"
            ],
            [
             0.5555555555555556,
             "#d8576b"
            ],
            [
             0.6666666666666666,
             "#ed7953"
            ],
            [
             0.7777777777777778,
             "#fb9f3a"
            ],
            [
             0.8888888888888888,
             "#fdca26"
            ],
            [
             1,
             "#f0f921"
            ]
           ]
          },
          "colorway": [
           "#636efa",
           "#EF553B",
           "#00cc96",
           "#ab63fa",
           "#FFA15A",
           "#19d3f3",
           "#FF6692",
           "#B6E880",
           "#FF97FF",
           "#FECB52"
          ],
          "font": {
           "color": "#f2f5fa"
          },
          "geo": {
           "bgcolor": "rgb(17,17,17)",
           "lakecolor": "rgb(17,17,17)",
           "landcolor": "rgb(17,17,17)",
           "showlakes": true,
           "showland": true,
           "subunitcolor": "#506784"
          },
          "hoverlabel": {
           "align": "left"
          },
          "hovermode": "closest",
          "mapbox": {
           "style": "dark"
          },
          "paper_bgcolor": "rgb(17,17,17)",
          "plot_bgcolor": "rgb(17,17,17)",
          "polar": {
           "angularaxis": {
            "gridcolor": "#506784",
            "linecolor": "#506784",
            "ticks": ""
           },
           "bgcolor": "rgb(17,17,17)",
           "radialaxis": {
            "gridcolor": "#506784",
            "linecolor": "#506784",
            "ticks": ""
           }
          },
          "scene": {
           "xaxis": {
            "backgroundcolor": "rgb(17,17,17)",
            "gridcolor": "#506784",
            "gridwidth": 2,
            "linecolor": "#506784",
            "showbackground": true,
            "ticks": "",
            "zerolinecolor": "#C8D4E3"
           },
           "yaxis": {
            "backgroundcolor": "rgb(17,17,17)",
            "gridcolor": "#506784",
            "gridwidth": 2,
            "linecolor": "#506784",
            "showbackground": true,
            "ticks": "",
            "zerolinecolor": "#C8D4E3"
           },
           "zaxis": {
            "backgroundcolor": "rgb(17,17,17)",
            "gridcolor": "#506784",
            "gridwidth": 2,
            "linecolor": "#506784",
            "showbackground": true,
            "ticks": "",
            "zerolinecolor": "#C8D4E3"
           }
          },
          "shapedefaults": {
           "line": {
            "color": "#f2f5fa"
           }
          },
          "sliderdefaults": {
           "bgcolor": "#C8D4E3",
           "bordercolor": "rgb(17,17,17)",
           "borderwidth": 1,
           "tickwidth": 0
          },
          "ternary": {
           "aaxis": {
            "gridcolor": "#506784",
            "linecolor": "#506784",
            "ticks": ""
           },
           "baxis": {
            "gridcolor": "#506784",
            "linecolor": "#506784",
            "ticks": ""
           },
           "bgcolor": "rgb(17,17,17)",
           "caxis": {
            "gridcolor": "#506784",
            "linecolor": "#506784",
            "ticks": ""
           }
          },
          "title": {
           "x": 0.05
          },
          "updatemenudefaults": {
           "bgcolor": "#506784",
           "borderwidth": 0
          },
          "xaxis": {
           "automargin": true,
           "gridcolor": "#283442",
           "linecolor": "#506784",
           "ticks": "",
           "title": {
            "standoff": 15
           },
           "zerolinecolor": "#283442",
           "zerolinewidth": 2
          },
          "yaxis": {
           "automargin": true,
           "gridcolor": "#283442",
           "linecolor": "#506784",
           "ticks": "",
           "title": {
            "standoff": 15
           },
           "zerolinecolor": "#283442",
           "zerolinewidth": 2
          }
         }
        },
        "title": {
         "text": "Correlation Heatmap: Target vs Exchange Rate Variables"
        },
        "width": 1000,
        "xaxis": {
         "anchor": "y",
         "constrain": "domain",
         "domain": [
          0,
          1
         ],
         "scaleanchor": "y"
        },
        "yaxis": {
         "anchor": "x",
         "autorange": "reversed",
         "constrain": "domain",
         "domain": [
          0,
          1
         ]
        }
       }
      }
     },
     "metadata": {},
     "output_type": "display_data"
    }
   ],
   "source": [
    "# Variables to compare\n",
    "variables_to_compare = ['exchange_rate_usd_1990', 'exchange_rate_usd_2000',\n",
    "       'exchange_rate_usd_2014', 'exchange_rate_usd_2015',\n",
    "       'exchange_rate_usd_2016', 'exchange_rate_usd_2017',\n",
    "       'exchange_rate_usd_2018', 'exchange_rate_usd_2019',\n",
    "       'exchange_rate_usd_2020', 'exchange_rate_usd_2021',\n",
    "       'exchange_rate_usd_2022', 'exchange_rate_usd_2023',\n",
    "]\n",
    "\n",
    "# Compute the correlation matrix for 'target' and the selected variables\n",
    "columns_to_use = ['target'] + variables_to_compare\n",
    "df_corr_matrix = df[columns_to_use].corr()\n",
    "\n",
    "# Take the absolute values of the correlation matrix\n",
    "df_corr_matrix_abs = df_corr_matrix.abs()\n",
    "\n",
    "fig = px.imshow(df_corr_matrix_abs, \n",
    "                color_continuous_scale='RdBu_r', \n",
    "                title=\"Correlation Heatmap: Target vs Exchange Rate Variables\", \n",
    "                template='plotly_dark', \n",
    "                width=1000,  \n",
    "                height=600)  \n",
    "\n",
    "fig.show()\n"
   ]
  },
  {
   "cell_type": "code",
   "execution_count": 38,
   "metadata": {},
   "outputs": [
    {
     "data": {
      "application/vnd.plotly.v1+json": {
       "config": {
        "plotlyServerURL": "https://plot.ly"
       },
       "data": [
        {
         "coloraxis": "coloraxis",
         "hovertemplate": "x: %{x}<br>y: %{y}<br>color: %{z}<extra></extra>",
         "name": "0",
         "type": "heatmap",
         "x": [
          "target",
          "inflation_1990",
          "inflation_2000",
          "inflation_2014",
          "inflation_2015",
          "inflation_2016",
          "inflation_2017",
          "inflation_2018",
          "inflation_2019",
          "inflation_2020",
          "inflation_2021",
          "inflation_2022",
          "inflation_2023"
         ],
         "xaxis": "x",
         "y": [
          "target",
          "inflation_1990",
          "inflation_2000",
          "inflation_2014",
          "inflation_2015",
          "inflation_2016",
          "inflation_2017",
          "inflation_2018",
          "inflation_2019",
          "inflation_2020",
          "inflation_2021",
          "inflation_2022",
          "inflation_2023"
         ],
         "yaxis": "y",
         "z": [
          [
           1,
           0.04252948576599389,
           0.07646454255140073,
           0.10354776802878998,
           0.10423170314001427,
           0.10505683345902682,
           0.10608036946686338,
           0.10735715317478338,
           0.10898912454492873,
           0.11110138154864586,
           0.11383338830915746,
           0.11691105242070648,
           0.12282247575153453
          ],
          [
           0.04252948576599389,
           1,
           0.8503651573420611,
           0.7530100680966023,
           0.7525638222990869,
           0.7518517380343025,
           0.7506912782705996,
           0.7487383683700907,
           0.7452821479808692,
           0.7386904567934807,
           0.7246719448681491,
           0.6895727816142566,
           0.5824033650703472
          ],
          [
           0.07646454255140073,
           0.8503651573420611,
           1,
           0.9521164363907392,
           0.9518809161278236,
           0.9513876643338253,
           0.9504394334888807,
           0.948651157077609,
           0.9452097032775733,
           0.9382125403374317,
           0.9225519617823662,
           0.881674537031912,
           0.7503627583758277
          ],
          [
           0.10354776802878998,
           0.7530100680966023,
           0.9521164363907392,
           1,
           0.9999236613106758,
           0.9996174184802344,
           0.9988906968719887,
           0.9973653038869608,
           0.994231882662421,
           0.9875749451962155,
           0.9721951745503873,
           0.9310743535079887,
           0.7923744963131151
          ],
          [
           0.10423170314001427,
           0.7525638222990869,
           0.9518809161278236,
           0.9999236613106758,
           1,
           0.9998828637065681,
           0.9993962751665578,
           0.998185502658375,
           0.9954811824263159,
           0.989441271889851,
           0.9750143626659559,
           0.9355110614515066,
           0.7997991641696585
          ],
          [
           0.10505683345902682,
           0.7518517380343025,
           0.9513876643338253,
           0.9996174184802344,
           0.9998828637065681,
           1,
           0.999810969233932,
           0.9989901759602732,
           0.9968179590793663,
           0.9915436434016313,
           0.9783001054327018,
           0.9408088018032064,
           0.8088268444022729
          ],
          [
           0.10608036946686338,
           0.7506912782705996,
           0.9504394334888807,
           0.9988906968719887,
           0.9993962751665578,
           0.999810969233932,
           1,
           0.999674887733896,
           0.9981793534535783,
           0.9938793803490191,
           0.9821435925361884,
           0.9472208624720838,
           0.8200216892211242
          ],
          [
           0.10735715317478338,
           0.7487383683700907,
           0.948651157077609,
           0.9973653038869608,
           0.998185502658375,
           0.9989901759602732,
           0.999674887733896,
           1,
           0.9993927271935004,
           0.9963729750632052,
           0.9866211820119499,
           0.9550869014091041,
           0.8342327458456681
          ],
          [
           0.10898912454492873,
           0.7452821479808692,
           0.9452097032775733,
           0.994231882662421,
           0.9954811824263159,
           0.9968179590793663,
           0.9981793534535783,
           0.9993927271935004,
           1,
           0.9987329861606933,
           0.9917027949444385,
           0.964832363933957,
           0.8527764601917124
          ],
          [
           0.11110138154864586,
           0.7386904567934807,
           0.9382125403374317,
           0.9875749451962155,
           0.989441271889851,
           0.9915436434016313,
           0.9938793803490191,
           0.9963729750632052,
           0.9987329861606933,
           1,
           0.9969154292715922,
           0.9768381584326591,
           0.8777288997797995
          ],
          [
           0.11383338830915746,
           0.7246719448681491,
           0.9225519617823662,
           0.9721951745503873,
           0.9750143626659559,
           0.9783001054327018,
           0.9821435925361884,
           0.9866211820119499,
           0.9917027949444385,
           0.9969154292715922,
           1,
           0.9906188446897604,
           0.9122025344376461
          ],
          [
           0.11691105242070648,
           0.6895727816142566,
           0.881674537031912,
           0.9310743535079887,
           0.9355110614515066,
           0.9408088018032064,
           0.9472208624720838,
           0.9550869014091041,
           0.964832363933957,
           0.9768381584326591,
           0.9906188446897604,
           1,
           0.9587707439431975
          ],
          [
           0.12282247575153453,
           0.5824033650703472,
           0.7503627583758277,
           0.7923744963131151,
           0.7997991641696585,
           0.8088268444022729,
           0.8200216892211242,
           0.8342327458456681,
           0.8527764601917124,
           0.8777288997797995,
           0.9122025344376461,
           0.9587707439431975,
           1
          ]
         ]
        }
       ],
       "layout": {
        "coloraxis": {
         "colorscale": [
          [
           0,
           "rgb(5,48,97)"
          ],
          [
           0.1,
           "rgb(33,102,172)"
          ],
          [
           0.2,
           "rgb(67,147,195)"
          ],
          [
           0.3,
           "rgb(146,197,222)"
          ],
          [
           0.4,
           "rgb(209,229,240)"
          ],
          [
           0.5,
           "rgb(247,247,247)"
          ],
          [
           0.6,
           "rgb(253,219,199)"
          ],
          [
           0.7,
           "rgb(244,165,130)"
          ],
          [
           0.8,
           "rgb(214,96,77)"
          ],
          [
           0.9,
           "rgb(178,24,43)"
          ],
          [
           1,
           "rgb(103,0,31)"
          ]
         ]
        },
        "height": 600,
        "template": {
         "data": {
          "bar": [
           {
            "error_x": {
             "color": "#f2f5fa"
            },
            "error_y": {
             "color": "#f2f5fa"
            },
            "marker": {
             "line": {
              "color": "rgb(17,17,17)",
              "width": 0.5
             },
             "pattern": {
              "fillmode": "overlay",
              "size": 10,
              "solidity": 0.2
             }
            },
            "type": "bar"
           }
          ],
          "barpolar": [
           {
            "marker": {
             "line": {
              "color": "rgb(17,17,17)",
              "width": 0.5
             },
             "pattern": {
              "fillmode": "overlay",
              "size": 10,
              "solidity": 0.2
             }
            },
            "type": "barpolar"
           }
          ],
          "carpet": [
           {
            "aaxis": {
             "endlinecolor": "#A2B1C6",
             "gridcolor": "#506784",
             "linecolor": "#506784",
             "minorgridcolor": "#506784",
             "startlinecolor": "#A2B1C6"
            },
            "baxis": {
             "endlinecolor": "#A2B1C6",
             "gridcolor": "#506784",
             "linecolor": "#506784",
             "minorgridcolor": "#506784",
             "startlinecolor": "#A2B1C6"
            },
            "type": "carpet"
           }
          ],
          "choropleth": [
           {
            "colorbar": {
             "outlinewidth": 0,
             "ticks": ""
            },
            "type": "choropleth"
           }
          ],
          "contour": [
           {
            "colorbar": {
             "outlinewidth": 0,
             "ticks": ""
            },
            "colorscale": [
             [
              0,
              "#0d0887"
             ],
             [
              0.1111111111111111,
              "#46039f"
             ],
             [
              0.2222222222222222,
              "#7201a8"
             ],
             [
              0.3333333333333333,
              "#9c179e"
             ],
             [
              0.4444444444444444,
              "#bd3786"
             ],
             [
              0.5555555555555556,
              "#d8576b"
             ],
             [
              0.6666666666666666,
              "#ed7953"
             ],
             [
              0.7777777777777778,
              "#fb9f3a"
             ],
             [
              0.8888888888888888,
              "#fdca26"
             ],
             [
              1,
              "#f0f921"
             ]
            ],
            "type": "contour"
           }
          ],
          "contourcarpet": [
           {
            "colorbar": {
             "outlinewidth": 0,
             "ticks": ""
            },
            "type": "contourcarpet"
           }
          ],
          "heatmap": [
           {
            "colorbar": {
             "outlinewidth": 0,
             "ticks": ""
            },
            "colorscale": [
             [
              0,
              "#0d0887"
             ],
             [
              0.1111111111111111,
              "#46039f"
             ],
             [
              0.2222222222222222,
              "#7201a8"
             ],
             [
              0.3333333333333333,
              "#9c179e"
             ],
             [
              0.4444444444444444,
              "#bd3786"
             ],
             [
              0.5555555555555556,
              "#d8576b"
             ],
             [
              0.6666666666666666,
              "#ed7953"
             ],
             [
              0.7777777777777778,
              "#fb9f3a"
             ],
             [
              0.8888888888888888,
              "#fdca26"
             ],
             [
              1,
              "#f0f921"
             ]
            ],
            "type": "heatmap"
           }
          ],
          "heatmapgl": [
           {
            "colorbar": {
             "outlinewidth": 0,
             "ticks": ""
            },
            "colorscale": [
             [
              0,
              "#0d0887"
             ],
             [
              0.1111111111111111,
              "#46039f"
             ],
             [
              0.2222222222222222,
              "#7201a8"
             ],
             [
              0.3333333333333333,
              "#9c179e"
             ],
             [
              0.4444444444444444,
              "#bd3786"
             ],
             [
              0.5555555555555556,
              "#d8576b"
             ],
             [
              0.6666666666666666,
              "#ed7953"
             ],
             [
              0.7777777777777778,
              "#fb9f3a"
             ],
             [
              0.8888888888888888,
              "#fdca26"
             ],
             [
              1,
              "#f0f921"
             ]
            ],
            "type": "heatmapgl"
           }
          ],
          "histogram": [
           {
            "marker": {
             "pattern": {
              "fillmode": "overlay",
              "size": 10,
              "solidity": 0.2
             }
            },
            "type": "histogram"
           }
          ],
          "histogram2d": [
           {
            "colorbar": {
             "outlinewidth": 0,
             "ticks": ""
            },
            "colorscale": [
             [
              0,
              "#0d0887"
             ],
             [
              0.1111111111111111,
              "#46039f"
             ],
             [
              0.2222222222222222,
              "#7201a8"
             ],
             [
              0.3333333333333333,
              "#9c179e"
             ],
             [
              0.4444444444444444,
              "#bd3786"
             ],
             [
              0.5555555555555556,
              "#d8576b"
             ],
             [
              0.6666666666666666,
              "#ed7953"
             ],
             [
              0.7777777777777778,
              "#fb9f3a"
             ],
             [
              0.8888888888888888,
              "#fdca26"
             ],
             [
              1,
              "#f0f921"
             ]
            ],
            "type": "histogram2d"
           }
          ],
          "histogram2dcontour": [
           {
            "colorbar": {
             "outlinewidth": 0,
             "ticks": ""
            },
            "colorscale": [
             [
              0,
              "#0d0887"
             ],
             [
              0.1111111111111111,
              "#46039f"
             ],
             [
              0.2222222222222222,
              "#7201a8"
             ],
             [
              0.3333333333333333,
              "#9c179e"
             ],
             [
              0.4444444444444444,
              "#bd3786"
             ],
             [
              0.5555555555555556,
              "#d8576b"
             ],
             [
              0.6666666666666666,
              "#ed7953"
             ],
             [
              0.7777777777777778,
              "#fb9f3a"
             ],
             [
              0.8888888888888888,
              "#fdca26"
             ],
             [
              1,
              "#f0f921"
             ]
            ],
            "type": "histogram2dcontour"
           }
          ],
          "mesh3d": [
           {
            "colorbar": {
             "outlinewidth": 0,
             "ticks": ""
            },
            "type": "mesh3d"
           }
          ],
          "parcoords": [
           {
            "line": {
             "colorbar": {
              "outlinewidth": 0,
              "ticks": ""
             }
            },
            "type": "parcoords"
           }
          ],
          "pie": [
           {
            "automargin": true,
            "type": "pie"
           }
          ],
          "scatter": [
           {
            "marker": {
             "line": {
              "color": "#283442"
             }
            },
            "type": "scatter"
           }
          ],
          "scatter3d": [
           {
            "line": {
             "colorbar": {
              "outlinewidth": 0,
              "ticks": ""
             }
            },
            "marker": {
             "colorbar": {
              "outlinewidth": 0,
              "ticks": ""
             }
            },
            "type": "scatter3d"
           }
          ],
          "scattercarpet": [
           {
            "marker": {
             "colorbar": {
              "outlinewidth": 0,
              "ticks": ""
             }
            },
            "type": "scattercarpet"
           }
          ],
          "scattergeo": [
           {
            "marker": {
             "colorbar": {
              "outlinewidth": 0,
              "ticks": ""
             }
            },
            "type": "scattergeo"
           }
          ],
          "scattergl": [
           {
            "marker": {
             "line": {
              "color": "#283442"
             }
            },
            "type": "scattergl"
           }
          ],
          "scattermapbox": [
           {
            "marker": {
             "colorbar": {
              "outlinewidth": 0,
              "ticks": ""
             }
            },
            "type": "scattermapbox"
           }
          ],
          "scatterpolar": [
           {
            "marker": {
             "colorbar": {
              "outlinewidth": 0,
              "ticks": ""
             }
            },
            "type": "scatterpolar"
           }
          ],
          "scatterpolargl": [
           {
            "marker": {
             "colorbar": {
              "outlinewidth": 0,
              "ticks": ""
             }
            },
            "type": "scatterpolargl"
           }
          ],
          "scatterternary": [
           {
            "marker": {
             "colorbar": {
              "outlinewidth": 0,
              "ticks": ""
             }
            },
            "type": "scatterternary"
           }
          ],
          "surface": [
           {
            "colorbar": {
             "outlinewidth": 0,
             "ticks": ""
            },
            "colorscale": [
             [
              0,
              "#0d0887"
             ],
             [
              0.1111111111111111,
              "#46039f"
             ],
             [
              0.2222222222222222,
              "#7201a8"
             ],
             [
              0.3333333333333333,
              "#9c179e"
             ],
             [
              0.4444444444444444,
              "#bd3786"
             ],
             [
              0.5555555555555556,
              "#d8576b"
             ],
             [
              0.6666666666666666,
              "#ed7953"
             ],
             [
              0.7777777777777778,
              "#fb9f3a"
             ],
             [
              0.8888888888888888,
              "#fdca26"
             ],
             [
              1,
              "#f0f921"
             ]
            ],
            "type": "surface"
           }
          ],
          "table": [
           {
            "cells": {
             "fill": {
              "color": "#506784"
             },
             "line": {
              "color": "rgb(17,17,17)"
             }
            },
            "header": {
             "fill": {
              "color": "#2a3f5f"
             },
             "line": {
              "color": "rgb(17,17,17)"
             }
            },
            "type": "table"
           }
          ]
         },
         "layout": {
          "annotationdefaults": {
           "arrowcolor": "#f2f5fa",
           "arrowhead": 0,
           "arrowwidth": 1
          },
          "autotypenumbers": "strict",
          "coloraxis": {
           "colorbar": {
            "outlinewidth": 0,
            "ticks": ""
           }
          },
          "colorscale": {
           "diverging": [
            [
             0,
             "#8e0152"
            ],
            [
             0.1,
             "#c51b7d"
            ],
            [
             0.2,
             "#de77ae"
            ],
            [
             0.3,
             "#f1b6da"
            ],
            [
             0.4,
             "#fde0ef"
            ],
            [
             0.5,
             "#f7f7f7"
            ],
            [
             0.6,
             "#e6f5d0"
            ],
            [
             0.7,
             "#b8e186"
            ],
            [
             0.8,
             "#7fbc41"
            ],
            [
             0.9,
             "#4d9221"
            ],
            [
             1,
             "#276419"
            ]
           ],
           "sequential": [
            [
             0,
             "#0d0887"
            ],
            [
             0.1111111111111111,
             "#46039f"
            ],
            [
             0.2222222222222222,
             "#7201a8"
            ],
            [
             0.3333333333333333,
             "#9c179e"
            ],
            [
             0.4444444444444444,
             "#bd3786"
            ],
            [
             0.5555555555555556,
             "#d8576b"
            ],
            [
             0.6666666666666666,
             "#ed7953"
            ],
            [
             0.7777777777777778,
             "#fb9f3a"
            ],
            [
             0.8888888888888888,
             "#fdca26"
            ],
            [
             1,
             "#f0f921"
            ]
           ],
           "sequentialminus": [
            [
             0,
             "#0d0887"
            ],
            [
             0.1111111111111111,
             "#46039f"
            ],
            [
             0.2222222222222222,
             "#7201a8"
            ],
            [
             0.3333333333333333,
             "#9c179e"
            ],
            [
             0.4444444444444444,
             "#bd3786"
            ],
            [
             0.5555555555555556,
             "#d8576b"
            ],
            [
             0.6666666666666666,
             "#ed7953"
            ],
            [
             0.7777777777777778,
             "#fb9f3a"
            ],
            [
             0.8888888888888888,
             "#fdca26"
            ],
            [
             1,
             "#f0f921"
            ]
           ]
          },
          "colorway": [
           "#636efa",
           "#EF553B",
           "#00cc96",
           "#ab63fa",
           "#FFA15A",
           "#19d3f3",
           "#FF6692",
           "#B6E880",
           "#FF97FF",
           "#FECB52"
          ],
          "font": {
           "color": "#f2f5fa"
          },
          "geo": {
           "bgcolor": "rgb(17,17,17)",
           "lakecolor": "rgb(17,17,17)",
           "landcolor": "rgb(17,17,17)",
           "showlakes": true,
           "showland": true,
           "subunitcolor": "#506784"
          },
          "hoverlabel": {
           "align": "left"
          },
          "hovermode": "closest",
          "mapbox": {
           "style": "dark"
          },
          "paper_bgcolor": "rgb(17,17,17)",
          "plot_bgcolor": "rgb(17,17,17)",
          "polar": {
           "angularaxis": {
            "gridcolor": "#506784",
            "linecolor": "#506784",
            "ticks": ""
           },
           "bgcolor": "rgb(17,17,17)",
           "radialaxis": {
            "gridcolor": "#506784",
            "linecolor": "#506784",
            "ticks": ""
           }
          },
          "scene": {
           "xaxis": {
            "backgroundcolor": "rgb(17,17,17)",
            "gridcolor": "#506784",
            "gridwidth": 2,
            "linecolor": "#506784",
            "showbackground": true,
            "ticks": "",
            "zerolinecolor": "#C8D4E3"
           },
           "yaxis": {
            "backgroundcolor": "rgb(17,17,17)",
            "gridcolor": "#506784",
            "gridwidth": 2,
            "linecolor": "#506784",
            "showbackground": true,
            "ticks": "",
            "zerolinecolor": "#C8D4E3"
           },
           "zaxis": {
            "backgroundcolor": "rgb(17,17,17)",
            "gridcolor": "#506784",
            "gridwidth": 2,
            "linecolor": "#506784",
            "showbackground": true,
            "ticks": "",
            "zerolinecolor": "#C8D4E3"
           }
          },
          "shapedefaults": {
           "line": {
            "color": "#f2f5fa"
           }
          },
          "sliderdefaults": {
           "bgcolor": "#C8D4E3",
           "bordercolor": "rgb(17,17,17)",
           "borderwidth": 1,
           "tickwidth": 0
          },
          "ternary": {
           "aaxis": {
            "gridcolor": "#506784",
            "linecolor": "#506784",
            "ticks": ""
           },
           "baxis": {
            "gridcolor": "#506784",
            "linecolor": "#506784",
            "ticks": ""
           },
           "bgcolor": "rgb(17,17,17)",
           "caxis": {
            "gridcolor": "#506784",
            "linecolor": "#506784",
            "ticks": ""
           }
          },
          "title": {
           "x": 0.05
          },
          "updatemenudefaults": {
           "bgcolor": "#506784",
           "borderwidth": 0
          },
          "xaxis": {
           "automargin": true,
           "gridcolor": "#283442",
           "linecolor": "#506784",
           "ticks": "",
           "title": {
            "standoff": 15
           },
           "zerolinecolor": "#283442",
           "zerolinewidth": 2
          },
          "yaxis": {
           "automargin": true,
           "gridcolor": "#283442",
           "linecolor": "#506784",
           "ticks": "",
           "title": {
            "standoff": 15
           },
           "zerolinecolor": "#283442",
           "zerolinewidth": 2
          }
         }
        },
        "title": {
         "text": "Correlation Heatmap: Target vs Inflation Variables"
        },
        "width": 1000,
        "xaxis": {
         "anchor": "y",
         "constrain": "domain",
         "domain": [
          0,
          1
         ],
         "scaleanchor": "y"
        },
        "yaxis": {
         "anchor": "x",
         "autorange": "reversed",
         "constrain": "domain",
         "domain": [
          0,
          1
         ]
        }
       }
      }
     },
     "metadata": {},
     "output_type": "display_data"
    }
   ],
   "source": [
    "# Variables to compare\n",
    "variables_to_compare = ['inflation_1990', 'inflation_2000', 'inflation_2014', 'inflation_2015',\n",
    "       'inflation_2016', 'inflation_2017', 'inflation_2018', 'inflation_2019',\n",
    "       'inflation_2020', 'inflation_2021', 'inflation_2022', 'inflation_2023'\n",
    "]\n",
    "\n",
    "# Compute the correlation matrix for 'target' and the selected variables\n",
    "columns_to_use = ['target'] + variables_to_compare\n",
    "df_corr_matrix = df[columns_to_use].corr()\n",
    "\n",
    "# Take the absolute values of the correlation matrix\n",
    "df_corr_matrix_abs = df_corr_matrix.abs()\n",
    "\n",
    "fig = px.imshow(df_corr_matrix_abs, \n",
    "                color_continuous_scale='RdBu_r', \n",
    "                title=\"Correlation Heatmap: Target vs Inflation Variables\", \n",
    "                template='plotly_dark', \n",
    "                width=1000,  \n",
    "                height=600)  \n",
    "\n",
    "fig.show()\n"
   ]
  },
  {
   "cell_type": "code",
   "execution_count": 39,
   "metadata": {},
   "outputs": [
    {
     "data": {
      "application/vnd.plotly.v1+json": {
       "config": {
        "plotlyServerURL": "https://plot.ly"
       },
       "data": [
        {
         "coloraxis": "coloraxis",
         "hovertemplate": "x: %{x}<br>y: %{y}<br>color: %{z}<extra></extra>",
         "name": "0",
         "type": "heatmap",
         "x": [
          "target",
          "gdp_1990",
          "gdp_2000",
          "gdp_2014",
          "gdp_2015",
          "gdp_2016",
          "gdp_2017",
          "gdp_2018",
          "gdp_2019",
          "gdp_2020",
          "gdp_2021",
          "gdp_2022",
          "gdp_2023"
         ],
         "xaxis": "x",
         "y": [
          "target",
          "gdp_1990",
          "gdp_2000",
          "gdp_2014",
          "gdp_2015",
          "gdp_2016",
          "gdp_2017",
          "gdp_2018",
          "gdp_2019",
          "gdp_2020",
          "gdp_2021",
          "gdp_2022",
          "gdp_2023"
         ],
         "yaxis": "y",
         "z": [
          [
           1,
           0.2255588933936942,
           0.20875599409866624,
           0.23640835385154815,
           0.22491839499472255,
           0.22452698118870032,
           0.22539459924988697,
           0.22762169395994858,
           0.22430916051844546,
           0.22207142670112576,
           0.2224605531763174,
           0.21449438028388104,
           0.2152903337281825
          ],
          [
           0.2255588933936942,
           1,
           0.9885559742879798,
           0.8715934128510981,
           0.8551582910259024,
           0.8615815124223315,
           0.8483258812084618,
           0.8335770166152916,
           0.8319785026280097,
           0.8233299191793263,
           0.7966997142835087,
           0.7998200479523072,
           0.8121496958267332
          ],
          [
           0.20875599409866624,
           0.9885559742879798,
           1,
           0.9014651602603,
           0.8922659655817189,
           0.8981208686109661,
           0.8857322426159602,
           0.8720223942544169,
           0.8720859455821135,
           0.8646451133730125,
           0.8398019562703373,
           0.8456147695156484,
           0.8567119667116558
          ],
          [
           0.23640835385154815,
           0.8715934128510981,
           0.9014651602603,
           1,
           0.997978233547497,
           0.9977834996754613,
           0.997234654333931,
           0.9954813854250507,
           0.9946145421373235,
           0.9921896906088528,
           0.9874618811074006,
           0.9870086259709832,
           0.9887361883409291
          ],
          [
           0.22491839499472255,
           0.8551582910259024,
           0.8922659655817189,
           0.997978233547497,
           1,
           0.999598974195599,
           0.9994121916096571,
           0.9984773330864671,
           0.9983715811442819,
           0.9969762670821832,
           0.9932048288521036,
           0.9940199453475668,
           0.9952594399532297
          ],
          [
           0.22452698118870032,
           0.8615815124223315,
           0.8981208686109661,
           0.9977834996754613,
           0.999598974195599,
           1,
           0.9995404254228193,
           0.9982767589216209,
           0.9982377303074896,
           0.9968745996938964,
           0.9923868064934152,
           0.9927609138188825,
           0.9939533421000141
          ],
          [
           0.22539459924988697,
           0.8483258812084618,
           0.8857322426159602,
           0.997234654333931,
           0.9994121916096571,
           0.9995404254228193,
           1,
           0.9993838178310777,
           0.9992856820102367,
           0.9981446441716785,
           0.9949403304198617,
           0.9950267960199097,
           0.9956848661820248
          ],
          [
           0.22762169395994858,
           0.8335770166152916,
           0.8720223942544169,
           0.9954813854250507,
           0.9984773330864671,
           0.9982767589216209,
           0.9993838178310777,
           1,
           0.999861548933592,
           0.9994251776890554,
           0.9976593845246038,
           0.996798489456634,
           0.9965279691894015
          ],
          [
           0.22430916051844546,
           0.8319785026280097,
           0.8720859455821135,
           0.9946145421373235,
           0.9983715811442819,
           0.9982377303074896,
           0.9992856820102367,
           0.999861548933592,
           1,
           0.9996511558690244,
           0.9977890229123573,
           0.9974711828849855,
           0.9972542659369085
          ],
          [
           0.22207142670112576,
           0.8233299191793263,
           0.8646451133730125,
           0.9921896906088528,
           0.9969762670821832,
           0.9968745996938964,
           0.9981446441716785,
           0.9994251776890554,
           0.9996511558690244,
           1,
           0.9987849339219658,
           0.9978856465855217,
           0.9970552157885689
          ],
          [
           0.2224605531763174,
           0.7966997142835087,
           0.8398019562703373,
           0.9874618811074006,
           0.9932048288521036,
           0.9923868064934152,
           0.9949403304198617,
           0.9976593845246038,
           0.9977890229123573,
           0.9987849339219658,
           1,
           0.9982776077389002,
           0.9962880862728907
          ],
          [
           0.21449438028388104,
           0.7998200479523072,
           0.8456147695156484,
           0.9870086259709832,
           0.9940199453475668,
           0.9927609138188825,
           0.9950267960199097,
           0.996798489456634,
           0.9974711828849855,
           0.9978856465855217,
           0.9982776077389002,
           1,
           0.999356020914365
          ],
          [
           0.2152903337281825,
           0.8121496958267332,
           0.8567119667116558,
           0.9887361883409291,
           0.9952594399532297,
           0.9939533421000141,
           0.9956848661820248,
           0.9965279691894015,
           0.9972542659369085,
           0.9970552157885689,
           0.9962880862728907,
           0.999356020914365,
           1
          ]
         ]
        }
       ],
       "layout": {
        "coloraxis": {
         "colorscale": [
          [
           0,
           "rgb(5,48,97)"
          ],
          [
           0.1,
           "rgb(33,102,172)"
          ],
          [
           0.2,
           "rgb(67,147,195)"
          ],
          [
           0.3,
           "rgb(146,197,222)"
          ],
          [
           0.4,
           "rgb(209,229,240)"
          ],
          [
           0.5,
           "rgb(247,247,247)"
          ],
          [
           0.6,
           "rgb(253,219,199)"
          ],
          [
           0.7,
           "rgb(244,165,130)"
          ],
          [
           0.8,
           "rgb(214,96,77)"
          ],
          [
           0.9,
           "rgb(178,24,43)"
          ],
          [
           1,
           "rgb(103,0,31)"
          ]
         ]
        },
        "height": 600,
        "template": {
         "data": {
          "bar": [
           {
            "error_x": {
             "color": "#f2f5fa"
            },
            "error_y": {
             "color": "#f2f5fa"
            },
            "marker": {
             "line": {
              "color": "rgb(17,17,17)",
              "width": 0.5
             },
             "pattern": {
              "fillmode": "overlay",
              "size": 10,
              "solidity": 0.2
             }
            },
            "type": "bar"
           }
          ],
          "barpolar": [
           {
            "marker": {
             "line": {
              "color": "rgb(17,17,17)",
              "width": 0.5
             },
             "pattern": {
              "fillmode": "overlay",
              "size": 10,
              "solidity": 0.2
             }
            },
            "type": "barpolar"
           }
          ],
          "carpet": [
           {
            "aaxis": {
             "endlinecolor": "#A2B1C6",
             "gridcolor": "#506784",
             "linecolor": "#506784",
             "minorgridcolor": "#506784",
             "startlinecolor": "#A2B1C6"
            },
            "baxis": {
             "endlinecolor": "#A2B1C6",
             "gridcolor": "#506784",
             "linecolor": "#506784",
             "minorgridcolor": "#506784",
             "startlinecolor": "#A2B1C6"
            },
            "type": "carpet"
           }
          ],
          "choropleth": [
           {
            "colorbar": {
             "outlinewidth": 0,
             "ticks": ""
            },
            "type": "choropleth"
           }
          ],
          "contour": [
           {
            "colorbar": {
             "outlinewidth": 0,
             "ticks": ""
            },
            "colorscale": [
             [
              0,
              "#0d0887"
             ],
             [
              0.1111111111111111,
              "#46039f"
             ],
             [
              0.2222222222222222,
              "#7201a8"
             ],
             [
              0.3333333333333333,
              "#9c179e"
             ],
             [
              0.4444444444444444,
              "#bd3786"
             ],
             [
              0.5555555555555556,
              "#d8576b"
             ],
             [
              0.6666666666666666,
              "#ed7953"
             ],
             [
              0.7777777777777778,
              "#fb9f3a"
             ],
             [
              0.8888888888888888,
              "#fdca26"
             ],
             [
              1,
              "#f0f921"
             ]
            ],
            "type": "contour"
           }
          ],
          "contourcarpet": [
           {
            "colorbar": {
             "outlinewidth": 0,
             "ticks": ""
            },
            "type": "contourcarpet"
           }
          ],
          "heatmap": [
           {
            "colorbar": {
             "outlinewidth": 0,
             "ticks": ""
            },
            "colorscale": [
             [
              0,
              "#0d0887"
             ],
             [
              0.1111111111111111,
              "#46039f"
             ],
             [
              0.2222222222222222,
              "#7201a8"
             ],
             [
              0.3333333333333333,
              "#9c179e"
             ],
             [
              0.4444444444444444,
              "#bd3786"
             ],
             [
              0.5555555555555556,
              "#d8576b"
             ],
             [
              0.6666666666666666,
              "#ed7953"
             ],
             [
              0.7777777777777778,
              "#fb9f3a"
             ],
             [
              0.8888888888888888,
              "#fdca26"
             ],
             [
              1,
              "#f0f921"
             ]
            ],
            "type": "heatmap"
           }
          ],
          "heatmapgl": [
           {
            "colorbar": {
             "outlinewidth": 0,
             "ticks": ""
            },
            "colorscale": [
             [
              0,
              "#0d0887"
             ],
             [
              0.1111111111111111,
              "#46039f"
             ],
             [
              0.2222222222222222,
              "#7201a8"
             ],
             [
              0.3333333333333333,
              "#9c179e"
             ],
             [
              0.4444444444444444,
              "#bd3786"
             ],
             [
              0.5555555555555556,
              "#d8576b"
             ],
             [
              0.6666666666666666,
              "#ed7953"
             ],
             [
              0.7777777777777778,
              "#fb9f3a"
             ],
             [
              0.8888888888888888,
              "#fdca26"
             ],
             [
              1,
              "#f0f921"
             ]
            ],
            "type": "heatmapgl"
           }
          ],
          "histogram": [
           {
            "marker": {
             "pattern": {
              "fillmode": "overlay",
              "size": 10,
              "solidity": 0.2
             }
            },
            "type": "histogram"
           }
          ],
          "histogram2d": [
           {
            "colorbar": {
             "outlinewidth": 0,
             "ticks": ""
            },
            "colorscale": [
             [
              0,
              "#0d0887"
             ],
             [
              0.1111111111111111,
              "#46039f"
             ],
             [
              0.2222222222222222,
              "#7201a8"
             ],
             [
              0.3333333333333333,
              "#9c179e"
             ],
             [
              0.4444444444444444,
              "#bd3786"
             ],
             [
              0.5555555555555556,
              "#d8576b"
             ],
             [
              0.6666666666666666,
              "#ed7953"
             ],
             [
              0.7777777777777778,
              "#fb9f3a"
             ],
             [
              0.8888888888888888,
              "#fdca26"
             ],
             [
              1,
              "#f0f921"
             ]
            ],
            "type": "histogram2d"
           }
          ],
          "histogram2dcontour": [
           {
            "colorbar": {
             "outlinewidth": 0,
             "ticks": ""
            },
            "colorscale": [
             [
              0,
              "#0d0887"
             ],
             [
              0.1111111111111111,
              "#46039f"
             ],
             [
              0.2222222222222222,
              "#7201a8"
             ],
             [
              0.3333333333333333,
              "#9c179e"
             ],
             [
              0.4444444444444444,
              "#bd3786"
             ],
             [
              0.5555555555555556,
              "#d8576b"
             ],
             [
              0.6666666666666666,
              "#ed7953"
             ],
             [
              0.7777777777777778,
              "#fb9f3a"
             ],
             [
              0.8888888888888888,
              "#fdca26"
             ],
             [
              1,
              "#f0f921"
             ]
            ],
            "type": "histogram2dcontour"
           }
          ],
          "mesh3d": [
           {
            "colorbar": {
             "outlinewidth": 0,
             "ticks": ""
            },
            "type": "mesh3d"
           }
          ],
          "parcoords": [
           {
            "line": {
             "colorbar": {
              "outlinewidth": 0,
              "ticks": ""
             }
            },
            "type": "parcoords"
           }
          ],
          "pie": [
           {
            "automargin": true,
            "type": "pie"
           }
          ],
          "scatter": [
           {
            "marker": {
             "line": {
              "color": "#283442"
             }
            },
            "type": "scatter"
           }
          ],
          "scatter3d": [
           {
            "line": {
             "colorbar": {
              "outlinewidth": 0,
              "ticks": ""
             }
            },
            "marker": {
             "colorbar": {
              "outlinewidth": 0,
              "ticks": ""
             }
            },
            "type": "scatter3d"
           }
          ],
          "scattercarpet": [
           {
            "marker": {
             "colorbar": {
              "outlinewidth": 0,
              "ticks": ""
             }
            },
            "type": "scattercarpet"
           }
          ],
          "scattergeo": [
           {
            "marker": {
             "colorbar": {
              "outlinewidth": 0,
              "ticks": ""
             }
            },
            "type": "scattergeo"
           }
          ],
          "scattergl": [
           {
            "marker": {
             "line": {
              "color": "#283442"
             }
            },
            "type": "scattergl"
           }
          ],
          "scattermapbox": [
           {
            "marker": {
             "colorbar": {
              "outlinewidth": 0,
              "ticks": ""
             }
            },
            "type": "scattermapbox"
           }
          ],
          "scatterpolar": [
           {
            "marker": {
             "colorbar": {
              "outlinewidth": 0,
              "ticks": ""
             }
            },
            "type": "scatterpolar"
           }
          ],
          "scatterpolargl": [
           {
            "marker": {
             "colorbar": {
              "outlinewidth": 0,
              "ticks": ""
             }
            },
            "type": "scatterpolargl"
           }
          ],
          "scatterternary": [
           {
            "marker": {
             "colorbar": {
              "outlinewidth": 0,
              "ticks": ""
             }
            },
            "type": "scatterternary"
           }
          ],
          "surface": [
           {
            "colorbar": {
             "outlinewidth": 0,
             "ticks": ""
            },
            "colorscale": [
             [
              0,
              "#0d0887"
             ],
             [
              0.1111111111111111,
              "#46039f"
             ],
             [
              0.2222222222222222,
              "#7201a8"
             ],
             [
              0.3333333333333333,
              "#9c179e"
             ],
             [
              0.4444444444444444,
              "#bd3786"
             ],
             [
              0.5555555555555556,
              "#d8576b"
             ],
             [
              0.6666666666666666,
              "#ed7953"
             ],
             [
              0.7777777777777778,
              "#fb9f3a"
             ],
             [
              0.8888888888888888,
              "#fdca26"
             ],
             [
              1,
              "#f0f921"
             ]
            ],
            "type": "surface"
           }
          ],
          "table": [
           {
            "cells": {
             "fill": {
              "color": "#506784"
             },
             "line": {
              "color": "rgb(17,17,17)"
             }
            },
            "header": {
             "fill": {
              "color": "#2a3f5f"
             },
             "line": {
              "color": "rgb(17,17,17)"
             }
            },
            "type": "table"
           }
          ]
         },
         "layout": {
          "annotationdefaults": {
           "arrowcolor": "#f2f5fa",
           "arrowhead": 0,
           "arrowwidth": 1
          },
          "autotypenumbers": "strict",
          "coloraxis": {
           "colorbar": {
            "outlinewidth": 0,
            "ticks": ""
           }
          },
          "colorscale": {
           "diverging": [
            [
             0,
             "#8e0152"
            ],
            [
             0.1,
             "#c51b7d"
            ],
            [
             0.2,
             "#de77ae"
            ],
            [
             0.3,
             "#f1b6da"
            ],
            [
             0.4,
             "#fde0ef"
            ],
            [
             0.5,
             "#f7f7f7"
            ],
            [
             0.6,
             "#e6f5d0"
            ],
            [
             0.7,
             "#b8e186"
            ],
            [
             0.8,
             "#7fbc41"
            ],
            [
             0.9,
             "#4d9221"
            ],
            [
             1,
             "#276419"
            ]
           ],
           "sequential": [
            [
             0,
             "#0d0887"
            ],
            [
             0.1111111111111111,
             "#46039f"
            ],
            [
             0.2222222222222222,
             "#7201a8"
            ],
            [
             0.3333333333333333,
             "#9c179e"
            ],
            [
             0.4444444444444444,
             "#bd3786"
            ],
            [
             0.5555555555555556,
             "#d8576b"
            ],
            [
             0.6666666666666666,
             "#ed7953"
            ],
            [
             0.7777777777777778,
             "#fb9f3a"
            ],
            [
             0.8888888888888888,
             "#fdca26"
            ],
            [
             1,
             "#f0f921"
            ]
           ],
           "sequentialminus": [
            [
             0,
             "#0d0887"
            ],
            [
             0.1111111111111111,
             "#46039f"
            ],
            [
             0.2222222222222222,
             "#7201a8"
            ],
            [
             0.3333333333333333,
             "#9c179e"
            ],
            [
             0.4444444444444444,
             "#bd3786"
            ],
            [
             0.5555555555555556,
             "#d8576b"
            ],
            [
             0.6666666666666666,
             "#ed7953"
            ],
            [
             0.7777777777777778,
             "#fb9f3a"
            ],
            [
             0.8888888888888888,
             "#fdca26"
            ],
            [
             1,
             "#f0f921"
            ]
           ]
          },
          "colorway": [
           "#636efa",
           "#EF553B",
           "#00cc96",
           "#ab63fa",
           "#FFA15A",
           "#19d3f3",
           "#FF6692",
           "#B6E880",
           "#FF97FF",
           "#FECB52"
          ],
          "font": {
           "color": "#f2f5fa"
          },
          "geo": {
           "bgcolor": "rgb(17,17,17)",
           "lakecolor": "rgb(17,17,17)",
           "landcolor": "rgb(17,17,17)",
           "showlakes": true,
           "showland": true,
           "subunitcolor": "#506784"
          },
          "hoverlabel": {
           "align": "left"
          },
          "hovermode": "closest",
          "mapbox": {
           "style": "dark"
          },
          "paper_bgcolor": "rgb(17,17,17)",
          "plot_bgcolor": "rgb(17,17,17)",
          "polar": {
           "angularaxis": {
            "gridcolor": "#506784",
            "linecolor": "#506784",
            "ticks": ""
           },
           "bgcolor": "rgb(17,17,17)",
           "radialaxis": {
            "gridcolor": "#506784",
            "linecolor": "#506784",
            "ticks": ""
           }
          },
          "scene": {
           "xaxis": {
            "backgroundcolor": "rgb(17,17,17)",
            "gridcolor": "#506784",
            "gridwidth": 2,
            "linecolor": "#506784",
            "showbackground": true,
            "ticks": "",
            "zerolinecolor": "#C8D4E3"
           },
           "yaxis": {
            "backgroundcolor": "rgb(17,17,17)",
            "gridcolor": "#506784",
            "gridwidth": 2,
            "linecolor": "#506784",
            "showbackground": true,
            "ticks": "",
            "zerolinecolor": "#C8D4E3"
           },
           "zaxis": {
            "backgroundcolor": "rgb(17,17,17)",
            "gridcolor": "#506784",
            "gridwidth": 2,
            "linecolor": "#506784",
            "showbackground": true,
            "ticks": "",
            "zerolinecolor": "#C8D4E3"
           }
          },
          "shapedefaults": {
           "line": {
            "color": "#f2f5fa"
           }
          },
          "sliderdefaults": {
           "bgcolor": "#C8D4E3",
           "bordercolor": "rgb(17,17,17)",
           "borderwidth": 1,
           "tickwidth": 0
          },
          "ternary": {
           "aaxis": {
            "gridcolor": "#506784",
            "linecolor": "#506784",
            "ticks": ""
           },
           "baxis": {
            "gridcolor": "#506784",
            "linecolor": "#506784",
            "ticks": ""
           },
           "bgcolor": "rgb(17,17,17)",
           "caxis": {
            "gridcolor": "#506784",
            "linecolor": "#506784",
            "ticks": ""
           }
          },
          "title": {
           "x": 0.05
          },
          "updatemenudefaults": {
           "bgcolor": "#506784",
           "borderwidth": 0
          },
          "xaxis": {
           "automargin": true,
           "gridcolor": "#283442",
           "linecolor": "#506784",
           "ticks": "",
           "title": {
            "standoff": 15
           },
           "zerolinecolor": "#283442",
           "zerolinewidth": 2
          },
          "yaxis": {
           "automargin": true,
           "gridcolor": "#283442",
           "linecolor": "#506784",
           "ticks": "",
           "title": {
            "standoff": 15
           },
           "zerolinecolor": "#283442",
           "zerolinewidth": 2
          }
         }
        },
        "title": {
         "text": "Correlation Heatmap: Target vs GDP Variables"
        },
        "width": 1000,
        "xaxis": {
         "anchor": "y",
         "constrain": "domain",
         "domain": [
          0,
          1
         ],
         "scaleanchor": "y"
        },
        "yaxis": {
         "anchor": "x",
         "autorange": "reversed",
         "constrain": "domain",
         "domain": [
          0,
          1
         ]
        }
       }
      }
     },
     "metadata": {},
     "output_type": "display_data"
    }
   ],
   "source": [
    "# Variables to compare\n",
    "variables_to_compare = ['gdp_1990',\n",
    "       'gdp_2000', 'gdp_2014', 'gdp_2015', 'gdp_2016', 'gdp_2017', 'gdp_2018',\n",
    "       'gdp_2019', 'gdp_2020', 'gdp_2021', 'gdp_2022', 'gdp_2023'\n",
    "]\n",
    "\n",
    "# Compute the correlation matrix for 'target' and the selected variables\n",
    "columns_to_use = ['target'] + variables_to_compare\n",
    "df_corr_matrix = df[columns_to_use].corr()\n",
    "\n",
    "# Take the absolute values of the correlation matrix\n",
    "df_corr_matrix_abs = df_corr_matrix.abs()\n",
    "\n",
    "fig = px.imshow(df_corr_matrix_abs, \n",
    "                color_continuous_scale='RdBu_r', \n",
    "                title=\"Correlation Heatmap: Target vs GDP Variables\", \n",
    "                template='plotly_dark', \n",
    "                width=1000, \n",
    "                height=600) \n",
    "\n",
    "fig.show()\n"
   ]
  },
  {
   "cell_type": "code",
   "execution_count": 40,
   "metadata": {},
   "outputs": [
    {
     "data": {
      "application/vnd.plotly.v1+json": {
       "config": {
        "plotlyServerURL": "https://plot.ly"
       },
       "data": [
        {
         "coloraxis": "coloraxis",
         "hovertemplate": "x: %{x}<br>y: %{y}<br>color: %{z}<extra></extra>",
         "name": "0",
         "type": "heatmap",
         "x": [
          "target",
          "total_reserves_1990",
          "total_reserves_2000",
          "total_reserves_2014",
          "total_reserves_2015",
          "total_reserves_2016",
          "total_reserves_2017",
          "total_reserves_2018",
          "total_reserves_2019",
          "total_reserves_2020",
          "total_reserves_2021",
          "total_reserves_2022",
          "total_reserves_2023"
         ],
         "xaxis": "x",
         "y": [
          "target",
          "total_reserves_1990",
          "total_reserves_2000",
          "total_reserves_2014",
          "total_reserves_2015",
          "total_reserves_2016",
          "total_reserves_2017",
          "total_reserves_2018",
          "total_reserves_2019",
          "total_reserves_2020",
          "total_reserves_2021",
          "total_reserves_2022",
          "total_reserves_2023"
         ],
         "yaxis": "y",
         "z": [
          [
           1,
           0.32436689028239735,
           0.2971058343796963,
           0.19386934590477628,
           0.2029371103955973,
           0.21333229786661134,
           0.21784535929527293,
           0.2200168906633504,
           0.2258621992302969,
           0.23839627499456584,
           0.24509703007852582,
           0.24096004009448502,
           0.2435849742509754
          ],
          [
           0.32436689028239735,
           1,
           0.6775010778345223,
           0.3120079724587434,
           0.32809051192477234,
           0.35383693434411895,
           0.36382186536322725,
           0.3682378495321627,
           0.38431403733590863,
           0.4091461535407075,
           0.42317505253161763,
           0.41756258277377445,
           0.42195939472885924
          ],
          [
           0.2971058343796963,
           0.6775010778345223,
           1,
           0.6479974636437738,
           0.6741251119188479,
           0.6972447284343194,
           0.6992043554163496,
           0.7064032014184498,
           0.7136586112430279,
           0.7200839190796476,
           0.7235725200390587,
           0.7057083919000906,
           0.7114946906952068
          ],
          [
           0.19386934590477628,
           0.3120079724587434,
           0.6479974636437738,
           1,
           0.9985238289685663,
           0.9946778806031866,
           0.9911417048543801,
           0.9906335615525851,
           0.9876087151532232,
           0.9767861290365408,
           0.9740597584838778,
           0.9817557981418725,
           0.9812912694200574
          ],
          [
           0.2029371103955973,
           0.32809051192477234,
           0.6741251119188479,
           0.9985238289685663,
           1,
           0.998620319071803,
           0.996304193911884,
           0.9960942896087926,
           0.993922119570308,
           0.985353545691442,
           0.982766189126435,
           0.9878335203210279,
           0.9870301139575487
          ],
          [
           0.21333229786661134,
           0.35383693434411895,
           0.6972447284343194,
           0.9946778806031866,
           0.998620319071803,
           1,
           0.9991559967567192,
           0.9991239245990724,
           0.9979888365243644,
           0.9920824692068392,
           0.9898833108927242,
           0.992686297711542,
           0.9914912871191983
          ],
          [
           0.21784535929527293,
           0.36382186536322725,
           0.6992043554163496,
           0.9911417048543801,
           0.996304193911884,
           0.9991559967567192,
           1,
           0.9998481421964378,
           0.9993669526009902,
           0.9956559171675359,
           0.9938330338644219,
           0.9953247303963558,
           0.9938160761275925
          ],
          [
           0.2200168906633504,
           0.3682378495321627,
           0.7064032014184498,
           0.9906335615525851,
           0.9960942896087926,
           0.9991239245990724,
           0.9998481421964378,
           1,
           0.9995095179215496,
           0.9957332724799038,
           0.9939566476946401,
           0.9952513369619855,
           0.9938254883844407
          ],
          [
           0.2258621992302969,
           0.38431403733590863,
           0.7136586112430279,
           0.9876087151532232,
           0.993922119570308,
           0.9979888365243644,
           0.9993669526009902,
           0.9995095179215496,
           1,
           0.9977547816796088,
           0.9963996394166489,
           0.9971410103185664,
           0.9957454244703101
          ],
          [
           0.23839627499456584,
           0.4091461535407075,
           0.7200839190796476,
           0.9767861290365408,
           0.985353545691442,
           0.9920824692068392,
           0.9956559171675359,
           0.9957332724799038,
           0.9977547816796088,
           1,
           0.9995962707532086,
           0.9979006849452168,
           0.9961841315844595
          ],
          [
           0.24509703007852582,
           0.42317505253161763,
           0.7235725200390587,
           0.9740597584838778,
           0.982766189126435,
           0.9898833108927242,
           0.9938330338644219,
           0.9939566476946401,
           0.9963996394166489,
           0.9995962707532086,
           1,
           0.9982316216029987,
           0.9970347971898662
          ],
          [
           0.24096004009448502,
           0.41756258277377445,
           0.7057083919000906,
           0.9817557981418725,
           0.9878335203210279,
           0.992686297711542,
           0.9953247303963558,
           0.9952513369619855,
           0.9971410103185664,
           0.9979006849452168,
           0.9982316216029987,
           1,
           0.9992227918594467
          ],
          [
           0.2435849742509754,
           0.42195939472885924,
           0.7114946906952068,
           0.9812912694200574,
           0.9870301139575487,
           0.9914912871191983,
           0.9938160761275925,
           0.9938254883844407,
           0.9957454244703101,
           0.9961841315844595,
           0.9970347971898662,
           0.9992227918594467,
           1
          ]
         ]
        }
       ],
       "layout": {
        "coloraxis": {
         "colorscale": [
          [
           0,
           "rgb(5,48,97)"
          ],
          [
           0.1,
           "rgb(33,102,172)"
          ],
          [
           0.2,
           "rgb(67,147,195)"
          ],
          [
           0.3,
           "rgb(146,197,222)"
          ],
          [
           0.4,
           "rgb(209,229,240)"
          ],
          [
           0.5,
           "rgb(247,247,247)"
          ],
          [
           0.6,
           "rgb(253,219,199)"
          ],
          [
           0.7,
           "rgb(244,165,130)"
          ],
          [
           0.8,
           "rgb(214,96,77)"
          ],
          [
           0.9,
           "rgb(178,24,43)"
          ],
          [
           1,
           "rgb(103,0,31)"
          ]
         ]
        },
        "height": 600,
        "template": {
         "data": {
          "bar": [
           {
            "error_x": {
             "color": "#f2f5fa"
            },
            "error_y": {
             "color": "#f2f5fa"
            },
            "marker": {
             "line": {
              "color": "rgb(17,17,17)",
              "width": 0.5
             },
             "pattern": {
              "fillmode": "overlay",
              "size": 10,
              "solidity": 0.2
             }
            },
            "type": "bar"
           }
          ],
          "barpolar": [
           {
            "marker": {
             "line": {
              "color": "rgb(17,17,17)",
              "width": 0.5
             },
             "pattern": {
              "fillmode": "overlay",
              "size": 10,
              "solidity": 0.2
             }
            },
            "type": "barpolar"
           }
          ],
          "carpet": [
           {
            "aaxis": {
             "endlinecolor": "#A2B1C6",
             "gridcolor": "#506784",
             "linecolor": "#506784",
             "minorgridcolor": "#506784",
             "startlinecolor": "#A2B1C6"
            },
            "baxis": {
             "endlinecolor": "#A2B1C6",
             "gridcolor": "#506784",
             "linecolor": "#506784",
             "minorgridcolor": "#506784",
             "startlinecolor": "#A2B1C6"
            },
            "type": "carpet"
           }
          ],
          "choropleth": [
           {
            "colorbar": {
             "outlinewidth": 0,
             "ticks": ""
            },
            "type": "choropleth"
           }
          ],
          "contour": [
           {
            "colorbar": {
             "outlinewidth": 0,
             "ticks": ""
            },
            "colorscale": [
             [
              0,
              "#0d0887"
             ],
             [
              0.1111111111111111,
              "#46039f"
             ],
             [
              0.2222222222222222,
              "#7201a8"
             ],
             [
              0.3333333333333333,
              "#9c179e"
             ],
             [
              0.4444444444444444,
              "#bd3786"
             ],
             [
              0.5555555555555556,
              "#d8576b"
             ],
             [
              0.6666666666666666,
              "#ed7953"
             ],
             [
              0.7777777777777778,
              "#fb9f3a"
             ],
             [
              0.8888888888888888,
              "#fdca26"
             ],
             [
              1,
              "#f0f921"
             ]
            ],
            "type": "contour"
           }
          ],
          "contourcarpet": [
           {
            "colorbar": {
             "outlinewidth": 0,
             "ticks": ""
            },
            "type": "contourcarpet"
           }
          ],
          "heatmap": [
           {
            "colorbar": {
             "outlinewidth": 0,
             "ticks": ""
            },
            "colorscale": [
             [
              0,
              "#0d0887"
             ],
             [
              0.1111111111111111,
              "#46039f"
             ],
             [
              0.2222222222222222,
              "#7201a8"
             ],
             [
              0.3333333333333333,
              "#9c179e"
             ],
             [
              0.4444444444444444,
              "#bd3786"
             ],
             [
              0.5555555555555556,
              "#d8576b"
             ],
             [
              0.6666666666666666,
              "#ed7953"
             ],
             [
              0.7777777777777778,
              "#fb9f3a"
             ],
             [
              0.8888888888888888,
              "#fdca26"
             ],
             [
              1,
              "#f0f921"
             ]
            ],
            "type": "heatmap"
           }
          ],
          "heatmapgl": [
           {
            "colorbar": {
             "outlinewidth": 0,
             "ticks": ""
            },
            "colorscale": [
             [
              0,
              "#0d0887"
             ],
             [
              0.1111111111111111,
              "#46039f"
             ],
             [
              0.2222222222222222,
              "#7201a8"
             ],
             [
              0.3333333333333333,
              "#9c179e"
             ],
             [
              0.4444444444444444,
              "#bd3786"
             ],
             [
              0.5555555555555556,
              "#d8576b"
             ],
             [
              0.6666666666666666,
              "#ed7953"
             ],
             [
              0.7777777777777778,
              "#fb9f3a"
             ],
             [
              0.8888888888888888,
              "#fdca26"
             ],
             [
              1,
              "#f0f921"
             ]
            ],
            "type": "heatmapgl"
           }
          ],
          "histogram": [
           {
            "marker": {
             "pattern": {
              "fillmode": "overlay",
              "size": 10,
              "solidity": 0.2
             }
            },
            "type": "histogram"
           }
          ],
          "histogram2d": [
           {
            "colorbar": {
             "outlinewidth": 0,
             "ticks": ""
            },
            "colorscale": [
             [
              0,
              "#0d0887"
             ],
             [
              0.1111111111111111,
              "#46039f"
             ],
             [
              0.2222222222222222,
              "#7201a8"
             ],
             [
              0.3333333333333333,
              "#9c179e"
             ],
             [
              0.4444444444444444,
              "#bd3786"
             ],
             [
              0.5555555555555556,
              "#d8576b"
             ],
             [
              0.6666666666666666,
              "#ed7953"
             ],
             [
              0.7777777777777778,
              "#fb9f3a"
             ],
             [
              0.8888888888888888,
              "#fdca26"
             ],
             [
              1,
              "#f0f921"
             ]
            ],
            "type": "histogram2d"
           }
          ],
          "histogram2dcontour": [
           {
            "colorbar": {
             "outlinewidth": 0,
             "ticks": ""
            },
            "colorscale": [
             [
              0,
              "#0d0887"
             ],
             [
              0.1111111111111111,
              "#46039f"
             ],
             [
              0.2222222222222222,
              "#7201a8"
             ],
             [
              0.3333333333333333,
              "#9c179e"
             ],
             [
              0.4444444444444444,
              "#bd3786"
             ],
             [
              0.5555555555555556,
              "#d8576b"
             ],
             [
              0.6666666666666666,
              "#ed7953"
             ],
             [
              0.7777777777777778,
              "#fb9f3a"
             ],
             [
              0.8888888888888888,
              "#fdca26"
             ],
             [
              1,
              "#f0f921"
             ]
            ],
            "type": "histogram2dcontour"
           }
          ],
          "mesh3d": [
           {
            "colorbar": {
             "outlinewidth": 0,
             "ticks": ""
            },
            "type": "mesh3d"
           }
          ],
          "parcoords": [
           {
            "line": {
             "colorbar": {
              "outlinewidth": 0,
              "ticks": ""
             }
            },
            "type": "parcoords"
           }
          ],
          "pie": [
           {
            "automargin": true,
            "type": "pie"
           }
          ],
          "scatter": [
           {
            "marker": {
             "line": {
              "color": "#283442"
             }
            },
            "type": "scatter"
           }
          ],
          "scatter3d": [
           {
            "line": {
             "colorbar": {
              "outlinewidth": 0,
              "ticks": ""
             }
            },
            "marker": {
             "colorbar": {
              "outlinewidth": 0,
              "ticks": ""
             }
            },
            "type": "scatter3d"
           }
          ],
          "scattercarpet": [
           {
            "marker": {
             "colorbar": {
              "outlinewidth": 0,
              "ticks": ""
             }
            },
            "type": "scattercarpet"
           }
          ],
          "scattergeo": [
           {
            "marker": {
             "colorbar": {
              "outlinewidth": 0,
              "ticks": ""
             }
            },
            "type": "scattergeo"
           }
          ],
          "scattergl": [
           {
            "marker": {
             "line": {
              "color": "#283442"
             }
            },
            "type": "scattergl"
           }
          ],
          "scattermapbox": [
           {
            "marker": {
             "colorbar": {
              "outlinewidth": 0,
              "ticks": ""
             }
            },
            "type": "scattermapbox"
           }
          ],
          "scatterpolar": [
           {
            "marker": {
             "colorbar": {
              "outlinewidth": 0,
              "ticks": ""
             }
            },
            "type": "scatterpolar"
           }
          ],
          "scatterpolargl": [
           {
            "marker": {
             "colorbar": {
              "outlinewidth": 0,
              "ticks": ""
             }
            },
            "type": "scatterpolargl"
           }
          ],
          "scatterternary": [
           {
            "marker": {
             "colorbar": {
              "outlinewidth": 0,
              "ticks": ""
             }
            },
            "type": "scatterternary"
           }
          ],
          "surface": [
           {
            "colorbar": {
             "outlinewidth": 0,
             "ticks": ""
            },
            "colorscale": [
             [
              0,
              "#0d0887"
             ],
             [
              0.1111111111111111,
              "#46039f"
             ],
             [
              0.2222222222222222,
              "#7201a8"
             ],
             [
              0.3333333333333333,
              "#9c179e"
             ],
             [
              0.4444444444444444,
              "#bd3786"
             ],
             [
              0.5555555555555556,
              "#d8576b"
             ],
             [
              0.6666666666666666,
              "#ed7953"
             ],
             [
              0.7777777777777778,
              "#fb9f3a"
             ],
             [
              0.8888888888888888,
              "#fdca26"
             ],
             [
              1,
              "#f0f921"
             ]
            ],
            "type": "surface"
           }
          ],
          "table": [
           {
            "cells": {
             "fill": {
              "color": "#506784"
             },
             "line": {
              "color": "rgb(17,17,17)"
             }
            },
            "header": {
             "fill": {
              "color": "#2a3f5f"
             },
             "line": {
              "color": "rgb(17,17,17)"
             }
            },
            "type": "table"
           }
          ]
         },
         "layout": {
          "annotationdefaults": {
           "arrowcolor": "#f2f5fa",
           "arrowhead": 0,
           "arrowwidth": 1
          },
          "autotypenumbers": "strict",
          "coloraxis": {
           "colorbar": {
            "outlinewidth": 0,
            "ticks": ""
           }
          },
          "colorscale": {
           "diverging": [
            [
             0,
             "#8e0152"
            ],
            [
             0.1,
             "#c51b7d"
            ],
            [
             0.2,
             "#de77ae"
            ],
            [
             0.3,
             "#f1b6da"
            ],
            [
             0.4,
             "#fde0ef"
            ],
            [
             0.5,
             "#f7f7f7"
            ],
            [
             0.6,
             "#e6f5d0"
            ],
            [
             0.7,
             "#b8e186"
            ],
            [
             0.8,
             "#7fbc41"
            ],
            [
             0.9,
             "#4d9221"
            ],
            [
             1,
             "#276419"
            ]
           ],
           "sequential": [
            [
             0,
             "#0d0887"
            ],
            [
             0.1111111111111111,
             "#46039f"
            ],
            [
             0.2222222222222222,
             "#7201a8"
            ],
            [
             0.3333333333333333,
             "#9c179e"
            ],
            [
             0.4444444444444444,
             "#bd3786"
            ],
            [
             0.5555555555555556,
             "#d8576b"
            ],
            [
             0.6666666666666666,
             "#ed7953"
            ],
            [
             0.7777777777777778,
             "#fb9f3a"
            ],
            [
             0.8888888888888888,
             "#fdca26"
            ],
            [
             1,
             "#f0f921"
            ]
           ],
           "sequentialminus": [
            [
             0,
             "#0d0887"
            ],
            [
             0.1111111111111111,
             "#46039f"
            ],
            [
             0.2222222222222222,
             "#7201a8"
            ],
            [
             0.3333333333333333,
             "#9c179e"
            ],
            [
             0.4444444444444444,
             "#bd3786"
            ],
            [
             0.5555555555555556,
             "#d8576b"
            ],
            [
             0.6666666666666666,
             "#ed7953"
            ],
            [
             0.7777777777777778,
             "#fb9f3a"
            ],
            [
             0.8888888888888888,
             "#fdca26"
            ],
            [
             1,
             "#f0f921"
            ]
           ]
          },
          "colorway": [
           "#636efa",
           "#EF553B",
           "#00cc96",
           "#ab63fa",
           "#FFA15A",
           "#19d3f3",
           "#FF6692",
           "#B6E880",
           "#FF97FF",
           "#FECB52"
          ],
          "font": {
           "color": "#f2f5fa"
          },
          "geo": {
           "bgcolor": "rgb(17,17,17)",
           "lakecolor": "rgb(17,17,17)",
           "landcolor": "rgb(17,17,17)",
           "showlakes": true,
           "showland": true,
           "subunitcolor": "#506784"
          },
          "hoverlabel": {
           "align": "left"
          },
          "hovermode": "closest",
          "mapbox": {
           "style": "dark"
          },
          "paper_bgcolor": "rgb(17,17,17)",
          "plot_bgcolor": "rgb(17,17,17)",
          "polar": {
           "angularaxis": {
            "gridcolor": "#506784",
            "linecolor": "#506784",
            "ticks": ""
           },
           "bgcolor": "rgb(17,17,17)",
           "radialaxis": {
            "gridcolor": "#506784",
            "linecolor": "#506784",
            "ticks": ""
           }
          },
          "scene": {
           "xaxis": {
            "backgroundcolor": "rgb(17,17,17)",
            "gridcolor": "#506784",
            "gridwidth": 2,
            "linecolor": "#506784",
            "showbackground": true,
            "ticks": "",
            "zerolinecolor": "#C8D4E3"
           },
           "yaxis": {
            "backgroundcolor": "rgb(17,17,17)",
            "gridcolor": "#506784",
            "gridwidth": 2,
            "linecolor": "#506784",
            "showbackground": true,
            "ticks": "",
            "zerolinecolor": "#C8D4E3"
           },
           "zaxis": {
            "backgroundcolor": "rgb(17,17,17)",
            "gridcolor": "#506784",
            "gridwidth": 2,
            "linecolor": "#506784",
            "showbackground": true,
            "ticks": "",
            "zerolinecolor": "#C8D4E3"
           }
          },
          "shapedefaults": {
           "line": {
            "color": "#f2f5fa"
           }
          },
          "sliderdefaults": {
           "bgcolor": "#C8D4E3",
           "bordercolor": "rgb(17,17,17)",
           "borderwidth": 1,
           "tickwidth": 0
          },
          "ternary": {
           "aaxis": {
            "gridcolor": "#506784",
            "linecolor": "#506784",
            "ticks": ""
           },
           "baxis": {
            "gridcolor": "#506784",
            "linecolor": "#506784",
            "ticks": ""
           },
           "bgcolor": "rgb(17,17,17)",
           "caxis": {
            "gridcolor": "#506784",
            "linecolor": "#506784",
            "ticks": ""
           }
          },
          "title": {
           "x": 0.05
          },
          "updatemenudefaults": {
           "bgcolor": "#506784",
           "borderwidth": 0
          },
          "xaxis": {
           "automargin": true,
           "gridcolor": "#283442",
           "linecolor": "#506784",
           "ticks": "",
           "title": {
            "standoff": 15
           },
           "zerolinecolor": "#283442",
           "zerolinewidth": 2
          },
          "yaxis": {
           "automargin": true,
           "gridcolor": "#283442",
           "linecolor": "#506784",
           "ticks": "",
           "title": {
            "standoff": 15
           },
           "zerolinecolor": "#283442",
           "zerolinewidth": 2
          }
         }
        },
        "title": {
         "text": "Correlation Heatmap: Target vs Total Reserves Variables"
        },
        "width": 1000,
        "xaxis": {
         "anchor": "y",
         "constrain": "domain",
         "domain": [
          0,
          1
         ],
         "scaleanchor": "y"
        },
        "yaxis": {
         "anchor": "x",
         "autorange": "reversed",
         "constrain": "domain",
         "domain": [
          0,
          1
         ]
        }
       }
      }
     },
     "metadata": {},
     "output_type": "display_data"
    }
   ],
   "source": [
    "# Variables to compare\n",
    "variables_to_compare = ['total_reserves_1990', 'total_reserves_2000', 'total_reserves_2014',\n",
    "       'total_reserves_2015', 'total_reserves_2016', 'total_reserves_2017',\n",
    "       'total_reserves_2018', 'total_reserves_2019', 'total_reserves_2020',\n",
    "       'total_reserves_2021', 'total_reserves_2022', 'total_reserves_2023'\n",
    "]\n",
    "\n",
    "# Compute the correlation matrix for 'target' and the selected variables\n",
    "columns_to_use = ['target'] + variables_to_compare\n",
    "df_corr_matrix = df[columns_to_use].corr()\n",
    "\n",
    "# Take the absolute values of the correlation matrix\n",
    "df_corr_matrix_abs = df_corr_matrix.abs()\n",
    "\n",
    "fig = px.imshow(df_corr_matrix_abs, \n",
    "                color_continuous_scale='RdBu_r', \n",
    "                title=\"Correlation Heatmap: Target vs Total Reserves Variables\", \n",
    "                template='plotly_dark', \n",
    "                width=1000,  \n",
    "                height=600)  \n",
    "\n",
    "fig.show()\n"
   ]
  },
  {
   "cell_type": "code",
   "execution_count": 41,
   "metadata": {},
   "outputs": [
    {
     "data": {
      "application/vnd.plotly.v1+json": {
       "config": {
        "plotlyServerURL": "https://plot.ly"
       },
       "data": [
        {
         "coloraxis": "coloraxis",
         "hovertemplate": "x: %{x}<br>y: %{y}<br>color: %{z}<extra></extra>",
         "name": "0",
         "type": "heatmap",
         "x": [
          "target",
          "inflation_2023",
          "gdp_1990",
          "gdp_2023",
          "unemployment_2023",
          "current_account_balance_2023",
          "total_reserves_1990",
          "total_reserves_2023"
         ],
         "xaxis": "x",
         "y": [
          "target",
          "inflation_2023",
          "gdp_1990",
          "gdp_2023",
          "unemployment_2023",
          "current_account_balance_2023",
          "total_reserves_1990",
          "total_reserves_2023"
         ],
         "yaxis": "y",
         "z": [
          [
           1,
           0.12282247575153453,
           0.2255588933936942,
           0.2152903337281825,
           0.20391782182140494,
           0.08876543572852932,
           0.32436689028239735,
           0.2435849742509754
          ],
          [
           0.12282247575153453,
           1,
           0.02225591107323926,
           0.02273405182348022,
           0.0024849796023325784,
           0.7478599295874475,
           0.12972696640904466,
           0.03740737832921267
          ],
          [
           0.2255588933936942,
           0.02225591107323926,
           1,
           0.8121496958267332,
           0.09015468352813827,
           0.019969088018148822,
           0.8816481463703058,
           0.36852145413905096
          ],
          [
           0.2152903337281825,
           0.02273405182348022,
           0.8121496958267332,
           1,
           0.09866788704806806,
           0.020550166344618617,
           0.7214245202952836,
           0.6804266241782169
          ],
          [
           0.20391782182140494,
           0.0024849796023325784,
           0.09015468352813827,
           0.09866788704806806,
           1,
           0.004699183704043873,
           0.09639896369757349,
           0.11577375273102954
          ],
          [
           0.08876543572852932,
           0.7478599295874475,
           0.019969088018148822,
           0.020550166344618617,
           0.004699183704043873,
           1,
           0.18730498750276053,
           0.02508445549127504
          ],
          [
           0.32436689028239735,
           0.12972696640904466,
           0.8816481463703058,
           0.7214245202952836,
           0.09639896369757349,
           0.18730498750276053,
           1,
           0.42195939472885924
          ],
          [
           0.2435849742509754,
           0.03740737832921267,
           0.36852145413905096,
           0.6804266241782169,
           0.11577375273102954,
           0.02508445549127504,
           0.42195939472885924,
           1
          ]
         ]
        }
       ],
       "layout": {
        "coloraxis": {
         "colorscale": [
          [
           0,
           "rgb(5,48,97)"
          ],
          [
           0.1,
           "rgb(33,102,172)"
          ],
          [
           0.2,
           "rgb(67,147,195)"
          ],
          [
           0.3,
           "rgb(146,197,222)"
          ],
          [
           0.4,
           "rgb(209,229,240)"
          ],
          [
           0.5,
           "rgb(247,247,247)"
          ],
          [
           0.6,
           "rgb(253,219,199)"
          ],
          [
           0.7,
           "rgb(244,165,130)"
          ],
          [
           0.8,
           "rgb(214,96,77)"
          ],
          [
           0.9,
           "rgb(178,24,43)"
          ],
          [
           1,
           "rgb(103,0,31)"
          ]
         ]
        },
        "height": 600,
        "template": {
         "data": {
          "bar": [
           {
            "error_x": {
             "color": "#f2f5fa"
            },
            "error_y": {
             "color": "#f2f5fa"
            },
            "marker": {
             "line": {
              "color": "rgb(17,17,17)",
              "width": 0.5
             },
             "pattern": {
              "fillmode": "overlay",
              "size": 10,
              "solidity": 0.2
             }
            },
            "type": "bar"
           }
          ],
          "barpolar": [
           {
            "marker": {
             "line": {
              "color": "rgb(17,17,17)",
              "width": 0.5
             },
             "pattern": {
              "fillmode": "overlay",
              "size": 10,
              "solidity": 0.2
             }
            },
            "type": "barpolar"
           }
          ],
          "carpet": [
           {
            "aaxis": {
             "endlinecolor": "#A2B1C6",
             "gridcolor": "#506784",
             "linecolor": "#506784",
             "minorgridcolor": "#506784",
             "startlinecolor": "#A2B1C6"
            },
            "baxis": {
             "endlinecolor": "#A2B1C6",
             "gridcolor": "#506784",
             "linecolor": "#506784",
             "minorgridcolor": "#506784",
             "startlinecolor": "#A2B1C6"
            },
            "type": "carpet"
           }
          ],
          "choropleth": [
           {
            "colorbar": {
             "outlinewidth": 0,
             "ticks": ""
            },
            "type": "choropleth"
           }
          ],
          "contour": [
           {
            "colorbar": {
             "outlinewidth": 0,
             "ticks": ""
            },
            "colorscale": [
             [
              0,
              "#0d0887"
             ],
             [
              0.1111111111111111,
              "#46039f"
             ],
             [
              0.2222222222222222,
              "#7201a8"
             ],
             [
              0.3333333333333333,
              "#9c179e"
             ],
             [
              0.4444444444444444,
              "#bd3786"
             ],
             [
              0.5555555555555556,
              "#d8576b"
             ],
             [
              0.6666666666666666,
              "#ed7953"
             ],
             [
              0.7777777777777778,
              "#fb9f3a"
             ],
             [
              0.8888888888888888,
              "#fdca26"
             ],
             [
              1,
              "#f0f921"
             ]
            ],
            "type": "contour"
           }
          ],
          "contourcarpet": [
           {
            "colorbar": {
             "outlinewidth": 0,
             "ticks": ""
            },
            "type": "contourcarpet"
           }
          ],
          "heatmap": [
           {
            "colorbar": {
             "outlinewidth": 0,
             "ticks": ""
            },
            "colorscale": [
             [
              0,
              "#0d0887"
             ],
             [
              0.1111111111111111,
              "#46039f"
             ],
             [
              0.2222222222222222,
              "#7201a8"
             ],
             [
              0.3333333333333333,
              "#9c179e"
             ],
             [
              0.4444444444444444,
              "#bd3786"
             ],
             [
              0.5555555555555556,
              "#d8576b"
             ],
             [
              0.6666666666666666,
              "#ed7953"
             ],
             [
              0.7777777777777778,
              "#fb9f3a"
             ],
             [
              0.8888888888888888,
              "#fdca26"
             ],
             [
              1,
              "#f0f921"
             ]
            ],
            "type": "heatmap"
           }
          ],
          "heatmapgl": [
           {
            "colorbar": {
             "outlinewidth": 0,
             "ticks": ""
            },
            "colorscale": [
             [
              0,
              "#0d0887"
             ],
             [
              0.1111111111111111,
              "#46039f"
             ],
             [
              0.2222222222222222,
              "#7201a8"
             ],
             [
              0.3333333333333333,
              "#9c179e"
             ],
             [
              0.4444444444444444,
              "#bd3786"
             ],
             [
              0.5555555555555556,
              "#d8576b"
             ],
             [
              0.6666666666666666,
              "#ed7953"
             ],
             [
              0.7777777777777778,
              "#fb9f3a"
             ],
             [
              0.8888888888888888,
              "#fdca26"
             ],
             [
              1,
              "#f0f921"
             ]
            ],
            "type": "heatmapgl"
           }
          ],
          "histogram": [
           {
            "marker": {
             "pattern": {
              "fillmode": "overlay",
              "size": 10,
              "solidity": 0.2
             }
            },
            "type": "histogram"
           }
          ],
          "histogram2d": [
           {
            "colorbar": {
             "outlinewidth": 0,
             "ticks": ""
            },
            "colorscale": [
             [
              0,
              "#0d0887"
             ],
             [
              0.1111111111111111,
              "#46039f"
             ],
             [
              0.2222222222222222,
              "#7201a8"
             ],
             [
              0.3333333333333333,
              "#9c179e"
             ],
             [
              0.4444444444444444,
              "#bd3786"
             ],
             [
              0.5555555555555556,
              "#d8576b"
             ],
             [
              0.6666666666666666,
              "#ed7953"
             ],
             [
              0.7777777777777778,
              "#fb9f3a"
             ],
             [
              0.8888888888888888,
              "#fdca26"
             ],
             [
              1,
              "#f0f921"
             ]
            ],
            "type": "histogram2d"
           }
          ],
          "histogram2dcontour": [
           {
            "colorbar": {
             "outlinewidth": 0,
             "ticks": ""
            },
            "colorscale": [
             [
              0,
              "#0d0887"
             ],
             [
              0.1111111111111111,
              "#46039f"
             ],
             [
              0.2222222222222222,
              "#7201a8"
             ],
             [
              0.3333333333333333,
              "#9c179e"
             ],
             [
              0.4444444444444444,
              "#bd3786"
             ],
             [
              0.5555555555555556,
              "#d8576b"
             ],
             [
              0.6666666666666666,
              "#ed7953"
             ],
             [
              0.7777777777777778,
              "#fb9f3a"
             ],
             [
              0.8888888888888888,
              "#fdca26"
             ],
             [
              1,
              "#f0f921"
             ]
            ],
            "type": "histogram2dcontour"
           }
          ],
          "mesh3d": [
           {
            "colorbar": {
             "outlinewidth": 0,
             "ticks": ""
            },
            "type": "mesh3d"
           }
          ],
          "parcoords": [
           {
            "line": {
             "colorbar": {
              "outlinewidth": 0,
              "ticks": ""
             }
            },
            "type": "parcoords"
           }
          ],
          "pie": [
           {
            "automargin": true,
            "type": "pie"
           }
          ],
          "scatter": [
           {
            "marker": {
             "line": {
              "color": "#283442"
             }
            },
            "type": "scatter"
           }
          ],
          "scatter3d": [
           {
            "line": {
             "colorbar": {
              "outlinewidth": 0,
              "ticks": ""
             }
            },
            "marker": {
             "colorbar": {
              "outlinewidth": 0,
              "ticks": ""
             }
            },
            "type": "scatter3d"
           }
          ],
          "scattercarpet": [
           {
            "marker": {
             "colorbar": {
              "outlinewidth": 0,
              "ticks": ""
             }
            },
            "type": "scattercarpet"
           }
          ],
          "scattergeo": [
           {
            "marker": {
             "colorbar": {
              "outlinewidth": 0,
              "ticks": ""
             }
            },
            "type": "scattergeo"
           }
          ],
          "scattergl": [
           {
            "marker": {
             "line": {
              "color": "#283442"
             }
            },
            "type": "scattergl"
           }
          ],
          "scattermapbox": [
           {
            "marker": {
             "colorbar": {
              "outlinewidth": 0,
              "ticks": ""
             }
            },
            "type": "scattermapbox"
           }
          ],
          "scatterpolar": [
           {
            "marker": {
             "colorbar": {
              "outlinewidth": 0,
              "ticks": ""
             }
            },
            "type": "scatterpolar"
           }
          ],
          "scatterpolargl": [
           {
            "marker": {
             "colorbar": {
              "outlinewidth": 0,
              "ticks": ""
             }
            },
            "type": "scatterpolargl"
           }
          ],
          "scatterternary": [
           {
            "marker": {
             "colorbar": {
              "outlinewidth": 0,
              "ticks": ""
             }
            },
            "type": "scatterternary"
           }
          ],
          "surface": [
           {
            "colorbar": {
             "outlinewidth": 0,
             "ticks": ""
            },
            "colorscale": [
             [
              0,
              "#0d0887"
             ],
             [
              0.1111111111111111,
              "#46039f"
             ],
             [
              0.2222222222222222,
              "#7201a8"
             ],
             [
              0.3333333333333333,
              "#9c179e"
             ],
             [
              0.4444444444444444,
              "#bd3786"
             ],
             [
              0.5555555555555556,
              "#d8576b"
             ],
             [
              0.6666666666666666,
              "#ed7953"
             ],
             [
              0.7777777777777778,
              "#fb9f3a"
             ],
             [
              0.8888888888888888,
              "#fdca26"
             ],
             [
              1,
              "#f0f921"
             ]
            ],
            "type": "surface"
           }
          ],
          "table": [
           {
            "cells": {
             "fill": {
              "color": "#506784"
             },
             "line": {
              "color": "rgb(17,17,17)"
             }
            },
            "header": {
             "fill": {
              "color": "#2a3f5f"
             },
             "line": {
              "color": "rgb(17,17,17)"
             }
            },
            "type": "table"
           }
          ]
         },
         "layout": {
          "annotationdefaults": {
           "arrowcolor": "#f2f5fa",
           "arrowhead": 0,
           "arrowwidth": 1
          },
          "autotypenumbers": "strict",
          "coloraxis": {
           "colorbar": {
            "outlinewidth": 0,
            "ticks": ""
           }
          },
          "colorscale": {
           "diverging": [
            [
             0,
             "#8e0152"
            ],
            [
             0.1,
             "#c51b7d"
            ],
            [
             0.2,
             "#de77ae"
            ],
            [
             0.3,
             "#f1b6da"
            ],
            [
             0.4,
             "#fde0ef"
            ],
            [
             0.5,
             "#f7f7f7"
            ],
            [
             0.6,
             "#e6f5d0"
            ],
            [
             0.7,
             "#b8e186"
            ],
            [
             0.8,
             "#7fbc41"
            ],
            [
             0.9,
             "#4d9221"
            ],
            [
             1,
             "#276419"
            ]
           ],
           "sequential": [
            [
             0,
             "#0d0887"
            ],
            [
             0.1111111111111111,
             "#46039f"
            ],
            [
             0.2222222222222222,
             "#7201a8"
            ],
            [
             0.3333333333333333,
             "#9c179e"
            ],
            [
             0.4444444444444444,
             "#bd3786"
            ],
            [
             0.5555555555555556,
             "#d8576b"
            ],
            [
             0.6666666666666666,
             "#ed7953"
            ],
            [
             0.7777777777777778,
             "#fb9f3a"
            ],
            [
             0.8888888888888888,
             "#fdca26"
            ],
            [
             1,
             "#f0f921"
            ]
           ],
           "sequentialminus": [
            [
             0,
             "#0d0887"
            ],
            [
             0.1111111111111111,
             "#46039f"
            ],
            [
             0.2222222222222222,
             "#7201a8"
            ],
            [
             0.3333333333333333,
             "#9c179e"
            ],
            [
             0.4444444444444444,
             "#bd3786"
            ],
            [
             0.5555555555555556,
             "#d8576b"
            ],
            [
             0.6666666666666666,
             "#ed7953"
            ],
            [
             0.7777777777777778,
             "#fb9f3a"
            ],
            [
             0.8888888888888888,
             "#fdca26"
            ],
            [
             1,
             "#f0f921"
            ]
           ]
          },
          "colorway": [
           "#636efa",
           "#EF553B",
           "#00cc96",
           "#ab63fa",
           "#FFA15A",
           "#19d3f3",
           "#FF6692",
           "#B6E880",
           "#FF97FF",
           "#FECB52"
          ],
          "font": {
           "color": "#f2f5fa"
          },
          "geo": {
           "bgcolor": "rgb(17,17,17)",
           "lakecolor": "rgb(17,17,17)",
           "landcolor": "rgb(17,17,17)",
           "showlakes": true,
           "showland": true,
           "subunitcolor": "#506784"
          },
          "hoverlabel": {
           "align": "left"
          },
          "hovermode": "closest",
          "mapbox": {
           "style": "dark"
          },
          "paper_bgcolor": "rgb(17,17,17)",
          "plot_bgcolor": "rgb(17,17,17)",
          "polar": {
           "angularaxis": {
            "gridcolor": "#506784",
            "linecolor": "#506784",
            "ticks": ""
           },
           "bgcolor": "rgb(17,17,17)",
           "radialaxis": {
            "gridcolor": "#506784",
            "linecolor": "#506784",
            "ticks": ""
           }
          },
          "scene": {
           "xaxis": {
            "backgroundcolor": "rgb(17,17,17)",
            "gridcolor": "#506784",
            "gridwidth": 2,
            "linecolor": "#506784",
            "showbackground": true,
            "ticks": "",
            "zerolinecolor": "#C8D4E3"
           },
           "yaxis": {
            "backgroundcolor": "rgb(17,17,17)",
            "gridcolor": "#506784",
            "gridwidth": 2,
            "linecolor": "#506784",
            "showbackground": true,
            "ticks": "",
            "zerolinecolor": "#C8D4E3"
           },
           "zaxis": {
            "backgroundcolor": "rgb(17,17,17)",
            "gridcolor": "#506784",
            "gridwidth": 2,
            "linecolor": "#506784",
            "showbackground": true,
            "ticks": "",
            "zerolinecolor": "#C8D4E3"
           }
          },
          "shapedefaults": {
           "line": {
            "color": "#f2f5fa"
           }
          },
          "sliderdefaults": {
           "bgcolor": "#C8D4E3",
           "bordercolor": "rgb(17,17,17)",
           "borderwidth": 1,
           "tickwidth": 0
          },
          "ternary": {
           "aaxis": {
            "gridcolor": "#506784",
            "linecolor": "#506784",
            "ticks": ""
           },
           "baxis": {
            "gridcolor": "#506784",
            "linecolor": "#506784",
            "ticks": ""
           },
           "bgcolor": "rgb(17,17,17)",
           "caxis": {
            "gridcolor": "#506784",
            "linecolor": "#506784",
            "ticks": ""
           }
          },
          "title": {
           "x": 0.05
          },
          "updatemenudefaults": {
           "bgcolor": "#506784",
           "borderwidth": 0
          },
          "xaxis": {
           "automargin": true,
           "gridcolor": "#283442",
           "linecolor": "#506784",
           "ticks": "",
           "title": {
            "standoff": 15
           },
           "zerolinecolor": "#283442",
           "zerolinewidth": 2
          },
          "yaxis": {
           "automargin": true,
           "gridcolor": "#283442",
           "linecolor": "#506784",
           "ticks": "",
           "title": {
            "standoff": 15
           },
           "zerolinecolor": "#283442",
           "zerolinewidth": 2
          }
         }
        },
        "title": {
         "text": "Correlation Heatmap: Target vs 2023 (and 1990) Variables"
        },
        "width": 1000,
        "xaxis": {
         "anchor": "y",
         "constrain": "domain",
         "domain": [
          0,
          1
         ],
         "scaleanchor": "y"
        },
        "yaxis": {
         "anchor": "x",
         "autorange": "reversed",
         "constrain": "domain",
         "domain": [
          0,
          1
         ]
        }
       }
      }
     },
     "metadata": {},
     "output_type": "display_data"
    }
   ],
   "source": [
    "# Variables to compare\n",
    "variables_to_compare = [ 'inflation_2023', 'gdp_1990', 'gdp_2023', 'unemployment_2023', 'current_account_balance_2023',\n",
    "                        'total_reserves_1990', 'total_reserves_2023']\n",
    "\n",
    "# Compute the correlation matrix for 'target' and the selected variables\n",
    "columns_to_use = ['target'] + variables_to_compare\n",
    "df_corr_matrix = df[columns_to_use].corr()\n",
    "\n",
    "# Take the absolute values of the correlation matrix\n",
    "df_corr_matrix_abs = df_corr_matrix.abs()\n",
    "\n",
    "fig = px.imshow(df_corr_matrix_abs, \n",
    "                color_continuous_scale='RdBu_r', \n",
    "                title=\"Correlation Heatmap: Target vs 2023 (and 1990) Variables\", \n",
    "                template='plotly_dark', \n",
    "                width=1000,  \n",
    "                height=600)  \n",
    "\n",
    "fig.show()\n"
   ]
  },
  {
   "cell_type": "code",
   "execution_count": 42,
   "metadata": {},
   "outputs": [
    {
     "data": {
      "application/vnd.plotly.v1+json": {
       "config": {
        "plotlyServerURL": "https://plot.ly"
       },
       "data": [
        {
         "coloraxis": "coloraxis",
         "hovertemplate": "x: %{x}<br>y: %{y}<br>color: %{z}<extra></extra>",
         "name": "0",
         "type": "heatmap",
         "x": [
          "target",
          "cab_to_gdp_1990",
          "cab_to_gdp_2000",
          "cab_to_gdp_2014",
          "cab_to_gdp_2015",
          "cab_to_gdp_2016",
          "cab_to_gdp_2017",
          "cab_to_gdp_2018",
          "cab_to_gdp_2019",
          "cab_to_gdp_2020",
          "cab_to_gdp_2021",
          "cab_to_gdp_2022",
          "cab_to_gdp_2023"
         ],
         "xaxis": "x",
         "y": [
          "target",
          "cab_to_gdp_1990",
          "cab_to_gdp_2000",
          "cab_to_gdp_2014",
          "cab_to_gdp_2015",
          "cab_to_gdp_2016",
          "cab_to_gdp_2017",
          "cab_to_gdp_2018",
          "cab_to_gdp_2019",
          "cab_to_gdp_2020",
          "cab_to_gdp_2021",
          "cab_to_gdp_2022",
          "cab_to_gdp_2023"
         ],
         "yaxis": "y",
         "z": [
          [
           1,
           0.04030274386974196,
           0.05033863844418013,
           0.016797797835157273,
           0.02943026411123422,
           0.027472264001379688,
           0.03513715260116539,
           0.03917212463675289,
           0.07192792721060876,
           0.07217242337744129,
           0.07483175170857886,
           0.07281730997662178,
           0.07145835991741512
          ],
          [
           0.04030274386974196,
           1,
           0.993302455847681,
           0.9818659647439459,
           0.9799309563164023,
           0.9809890705361285,
           0.8060335180565548,
           0.8060054309749167,
           0.7605288035193085,
           0.7604058824516611,
           0.7587718479816694,
           0.7600599480610287,
           0.7607540971459839
          ],
          [
           0.05033863844418013,
           0.993302455847681,
           1,
           0.9780237293451983,
           0.9795122537871942,
           0.9799093047324728,
           0.8193107579211222,
           0.8159054425090968,
           0.7334049447142094,
           0.7332224074807653,
           0.7309435290869241,
           0.7327194971792854,
           0.733744744329231
          ],
          [
           0.016797797835157273,
           0.9818659647439459,
           0.9780237293451983,
           1,
           0.9962954533918166,
           0.9974640828779623,
           0.8304835051412527,
           0.8309245341405777,
           0.7821633714256373,
           0.7821907560078307,
           0.7821999809022057,
           0.7822418745564245,
           0.782100486701859
          ],
          [
           0.02943026411123422,
           0.9799309563164023,
           0.9795122537871942,
           0.9962954533918166,
           1,
           0.9998825717223507,
           0.7884071448189924,
           0.7874389593051507,
           0.7260939781356314,
           0.7260995965723069,
           0.7258905953567287,
           0.7260946651829706,
           0.7260738606412533
          ],
          [
           0.027472264001379688,
           0.9809890705361285,
           0.9799093047324728,
           0.9974640828779623,
           0.9998825717223507,
           1,
           0.7959018182380478,
           0.7951876839625365,
           0.7364757829645272,
           0.736477792197023,
           0.73622526769052,
           0.73646302858427,
           0.7364623801524762
          ],
          [
           0.03513715260116539,
           0.8060335180565548,
           0.8193107579211222,
           0.8304835051412527,
           0.7884071448189924,
           0.7959018182380478,
           1,
           0.9995367935217794,
           0.9303418473483753,
           0.9303536596161365,
           0.9301365827521181,
           0.93035951501595,
           0.9303044988339253
          ],
          [
           0.03917212463675289,
           0.8060054309749167,
           0.8159054425090968,
           0.8309245341405777,
           0.7874389593051507,
           0.7951876839625365,
           0.9995367935217794,
           1,
           0.940568785444253,
           0.9406009657342804,
           0.940603844834284,
           0.9406604261181403,
           0.9404922745604235
          ],
          [
           0.07192792721060876,
           0.7605288035193085,
           0.7334049447142094,
           0.7821633714256373,
           0.7260939781356314,
           0.7364757829645272,
           0.9303418473483753,
           0.940568785444253,
           1,
           0.9999971692517534,
           0.9995932121946378,
           0.999962378622606,
           0.9999896199329458
          ],
          [
           0.07217242337744129,
           0.7604058824516611,
           0.7332224074807653,
           0.7821907560078307,
           0.7260995965723069,
           0.736477792197023,
           0.9303536596161365,
           0.9406009657342804,
           0.9999971692517534,
           1,
           0.999658243574125,
           0.9999801872147345,
           0.999975947969649
          ],
          [
           0.07483175170857886,
           0.7587718479816694,
           0.7309435290869241,
           0.7821999809022057,
           0.7258905953567287,
           0.73622526769052,
           0.9301365827521181,
           0.940603844834284,
           0.9995932121946378,
           0.999658243574125,
           1,
           0.9998029966383474,
           0.9994528886452764
          ],
          [
           0.07281730997662178,
           0.7600599480610287,
           0.7327194971792854,
           0.7822418745564245,
           0.7260946651829706,
           0.73646302858427,
           0.93035951501595,
           0.9406604261181403,
           0.999962378622606,
           0.9999801872147345,
           0.9998029966383474,
           1,
           0.9999124766579017
          ],
          [
           0.07145835991741512,
           0.7607540971459839,
           0.733744744329231,
           0.782100486701859,
           0.7260738606412533,
           0.7364623801524762,
           0.9303044988339253,
           0.9404922745604235,
           0.9999896199329458,
           0.999975947969649,
           0.9994528886452764,
           0.9999124766579017,
           1
          ]
         ]
        }
       ],
       "layout": {
        "coloraxis": {
         "colorscale": [
          [
           0,
           "rgb(5,48,97)"
          ],
          [
           0.1,
           "rgb(33,102,172)"
          ],
          [
           0.2,
           "rgb(67,147,195)"
          ],
          [
           0.3,
           "rgb(146,197,222)"
          ],
          [
           0.4,
           "rgb(209,229,240)"
          ],
          [
           0.5,
           "rgb(247,247,247)"
          ],
          [
           0.6,
           "rgb(253,219,199)"
          ],
          [
           0.7,
           "rgb(244,165,130)"
          ],
          [
           0.8,
           "rgb(214,96,77)"
          ],
          [
           0.9,
           "rgb(178,24,43)"
          ],
          [
           1,
           "rgb(103,0,31)"
          ]
         ]
        },
        "height": 600,
        "template": {
         "data": {
          "bar": [
           {
            "error_x": {
             "color": "#f2f5fa"
            },
            "error_y": {
             "color": "#f2f5fa"
            },
            "marker": {
             "line": {
              "color": "rgb(17,17,17)",
              "width": 0.5
             },
             "pattern": {
              "fillmode": "overlay",
              "size": 10,
              "solidity": 0.2
             }
            },
            "type": "bar"
           }
          ],
          "barpolar": [
           {
            "marker": {
             "line": {
              "color": "rgb(17,17,17)",
              "width": 0.5
             },
             "pattern": {
              "fillmode": "overlay",
              "size": 10,
              "solidity": 0.2
             }
            },
            "type": "barpolar"
           }
          ],
          "carpet": [
           {
            "aaxis": {
             "endlinecolor": "#A2B1C6",
             "gridcolor": "#506784",
             "linecolor": "#506784",
             "minorgridcolor": "#506784",
             "startlinecolor": "#A2B1C6"
            },
            "baxis": {
             "endlinecolor": "#A2B1C6",
             "gridcolor": "#506784",
             "linecolor": "#506784",
             "minorgridcolor": "#506784",
             "startlinecolor": "#A2B1C6"
            },
            "type": "carpet"
           }
          ],
          "choropleth": [
           {
            "colorbar": {
             "outlinewidth": 0,
             "ticks": ""
            },
            "type": "choropleth"
           }
          ],
          "contour": [
           {
            "colorbar": {
             "outlinewidth": 0,
             "ticks": ""
            },
            "colorscale": [
             [
              0,
              "#0d0887"
             ],
             [
              0.1111111111111111,
              "#46039f"
             ],
             [
              0.2222222222222222,
              "#7201a8"
             ],
             [
              0.3333333333333333,
              "#9c179e"
             ],
             [
              0.4444444444444444,
              "#bd3786"
             ],
             [
              0.5555555555555556,
              "#d8576b"
             ],
             [
              0.6666666666666666,
              "#ed7953"
             ],
             [
              0.7777777777777778,
              "#fb9f3a"
             ],
             [
              0.8888888888888888,
              "#fdca26"
             ],
             [
              1,
              "#f0f921"
             ]
            ],
            "type": "contour"
           }
          ],
          "contourcarpet": [
           {
            "colorbar": {
             "outlinewidth": 0,
             "ticks": ""
            },
            "type": "contourcarpet"
           }
          ],
          "heatmap": [
           {
            "colorbar": {
             "outlinewidth": 0,
             "ticks": ""
            },
            "colorscale": [
             [
              0,
              "#0d0887"
             ],
             [
              0.1111111111111111,
              "#46039f"
             ],
             [
              0.2222222222222222,
              "#7201a8"
             ],
             [
              0.3333333333333333,
              "#9c179e"
             ],
             [
              0.4444444444444444,
              "#bd3786"
             ],
             [
              0.5555555555555556,
              "#d8576b"
             ],
             [
              0.6666666666666666,
              "#ed7953"
             ],
             [
              0.7777777777777778,
              "#fb9f3a"
             ],
             [
              0.8888888888888888,
              "#fdca26"
             ],
             [
              1,
              "#f0f921"
             ]
            ],
            "type": "heatmap"
           }
          ],
          "heatmapgl": [
           {
            "colorbar": {
             "outlinewidth": 0,
             "ticks": ""
            },
            "colorscale": [
             [
              0,
              "#0d0887"
             ],
             [
              0.1111111111111111,
              "#46039f"
             ],
             [
              0.2222222222222222,
              "#7201a8"
             ],
             [
              0.3333333333333333,
              "#9c179e"
             ],
             [
              0.4444444444444444,
              "#bd3786"
             ],
             [
              0.5555555555555556,
              "#d8576b"
             ],
             [
              0.6666666666666666,
              "#ed7953"
             ],
             [
              0.7777777777777778,
              "#fb9f3a"
             ],
             [
              0.8888888888888888,
              "#fdca26"
             ],
             [
              1,
              "#f0f921"
             ]
            ],
            "type": "heatmapgl"
           }
          ],
          "histogram": [
           {
            "marker": {
             "pattern": {
              "fillmode": "overlay",
              "size": 10,
              "solidity": 0.2
             }
            },
            "type": "histogram"
           }
          ],
          "histogram2d": [
           {
            "colorbar": {
             "outlinewidth": 0,
             "ticks": ""
            },
            "colorscale": [
             [
              0,
              "#0d0887"
             ],
             [
              0.1111111111111111,
              "#46039f"
             ],
             [
              0.2222222222222222,
              "#7201a8"
             ],
             [
              0.3333333333333333,
              "#9c179e"
             ],
             [
              0.4444444444444444,
              "#bd3786"
             ],
             [
              0.5555555555555556,
              "#d8576b"
             ],
             [
              0.6666666666666666,
              "#ed7953"
             ],
             [
              0.7777777777777778,
              "#fb9f3a"
             ],
             [
              0.8888888888888888,
              "#fdca26"
             ],
             [
              1,
              "#f0f921"
             ]
            ],
            "type": "histogram2d"
           }
          ],
          "histogram2dcontour": [
           {
            "colorbar": {
             "outlinewidth": 0,
             "ticks": ""
            },
            "colorscale": [
             [
              0,
              "#0d0887"
             ],
             [
              0.1111111111111111,
              "#46039f"
             ],
             [
              0.2222222222222222,
              "#7201a8"
             ],
             [
              0.3333333333333333,
              "#9c179e"
             ],
             [
              0.4444444444444444,
              "#bd3786"
             ],
             [
              0.5555555555555556,
              "#d8576b"
             ],
             [
              0.6666666666666666,
              "#ed7953"
             ],
             [
              0.7777777777777778,
              "#fb9f3a"
             ],
             [
              0.8888888888888888,
              "#fdca26"
             ],
             [
              1,
              "#f0f921"
             ]
            ],
            "type": "histogram2dcontour"
           }
          ],
          "mesh3d": [
           {
            "colorbar": {
             "outlinewidth": 0,
             "ticks": ""
            },
            "type": "mesh3d"
           }
          ],
          "parcoords": [
           {
            "line": {
             "colorbar": {
              "outlinewidth": 0,
              "ticks": ""
             }
            },
            "type": "parcoords"
           }
          ],
          "pie": [
           {
            "automargin": true,
            "type": "pie"
           }
          ],
          "scatter": [
           {
            "marker": {
             "line": {
              "color": "#283442"
             }
            },
            "type": "scatter"
           }
          ],
          "scatter3d": [
           {
            "line": {
             "colorbar": {
              "outlinewidth": 0,
              "ticks": ""
             }
            },
            "marker": {
             "colorbar": {
              "outlinewidth": 0,
              "ticks": ""
             }
            },
            "type": "scatter3d"
           }
          ],
          "scattercarpet": [
           {
            "marker": {
             "colorbar": {
              "outlinewidth": 0,
              "ticks": ""
             }
            },
            "type": "scattercarpet"
           }
          ],
          "scattergeo": [
           {
            "marker": {
             "colorbar": {
              "outlinewidth": 0,
              "ticks": ""
             }
            },
            "type": "scattergeo"
           }
          ],
          "scattergl": [
           {
            "marker": {
             "line": {
              "color": "#283442"
             }
            },
            "type": "scattergl"
           }
          ],
          "scattermapbox": [
           {
            "marker": {
             "colorbar": {
              "outlinewidth": 0,
              "ticks": ""
             }
            },
            "type": "scattermapbox"
           }
          ],
          "scatterpolar": [
           {
            "marker": {
             "colorbar": {
              "outlinewidth": 0,
              "ticks": ""
             }
            },
            "type": "scatterpolar"
           }
          ],
          "scatterpolargl": [
           {
            "marker": {
             "colorbar": {
              "outlinewidth": 0,
              "ticks": ""
             }
            },
            "type": "scatterpolargl"
           }
          ],
          "scatterternary": [
           {
            "marker": {
             "colorbar": {
              "outlinewidth": 0,
              "ticks": ""
             }
            },
            "type": "scatterternary"
           }
          ],
          "surface": [
           {
            "colorbar": {
             "outlinewidth": 0,
             "ticks": ""
            },
            "colorscale": [
             [
              0,
              "#0d0887"
             ],
             [
              0.1111111111111111,
              "#46039f"
             ],
             [
              0.2222222222222222,
              "#7201a8"
             ],
             [
              0.3333333333333333,
              "#9c179e"
             ],
             [
              0.4444444444444444,
              "#bd3786"
             ],
             [
              0.5555555555555556,
              "#d8576b"
             ],
             [
              0.6666666666666666,
              "#ed7953"
             ],
             [
              0.7777777777777778,
              "#fb9f3a"
             ],
             [
              0.8888888888888888,
              "#fdca26"
             ],
             [
              1,
              "#f0f921"
             ]
            ],
            "type": "surface"
           }
          ],
          "table": [
           {
            "cells": {
             "fill": {
              "color": "#506784"
             },
             "line": {
              "color": "rgb(17,17,17)"
             }
            },
            "header": {
             "fill": {
              "color": "#2a3f5f"
             },
             "line": {
              "color": "rgb(17,17,17)"
             }
            },
            "type": "table"
           }
          ]
         },
         "layout": {
          "annotationdefaults": {
           "arrowcolor": "#f2f5fa",
           "arrowhead": 0,
           "arrowwidth": 1
          },
          "autotypenumbers": "strict",
          "coloraxis": {
           "colorbar": {
            "outlinewidth": 0,
            "ticks": ""
           }
          },
          "colorscale": {
           "diverging": [
            [
             0,
             "#8e0152"
            ],
            [
             0.1,
             "#c51b7d"
            ],
            [
             0.2,
             "#de77ae"
            ],
            [
             0.3,
             "#f1b6da"
            ],
            [
             0.4,
             "#fde0ef"
            ],
            [
             0.5,
             "#f7f7f7"
            ],
            [
             0.6,
             "#e6f5d0"
            ],
            [
             0.7,
             "#b8e186"
            ],
            [
             0.8,
             "#7fbc41"
            ],
            [
             0.9,
             "#4d9221"
            ],
            [
             1,
             "#276419"
            ]
           ],
           "sequential": [
            [
             0,
             "#0d0887"
            ],
            [
             0.1111111111111111,
             "#46039f"
            ],
            [
             0.2222222222222222,
             "#7201a8"
            ],
            [
             0.3333333333333333,
             "#9c179e"
            ],
            [
             0.4444444444444444,
             "#bd3786"
            ],
            [
             0.5555555555555556,
             "#d8576b"
            ],
            [
             0.6666666666666666,
             "#ed7953"
            ],
            [
             0.7777777777777778,
             "#fb9f3a"
            ],
            [
             0.8888888888888888,
             "#fdca26"
            ],
            [
             1,
             "#f0f921"
            ]
           ],
           "sequentialminus": [
            [
             0,
             "#0d0887"
            ],
            [
             0.1111111111111111,
             "#46039f"
            ],
            [
             0.2222222222222222,
             "#7201a8"
            ],
            [
             0.3333333333333333,
             "#9c179e"
            ],
            [
             0.4444444444444444,
             "#bd3786"
            ],
            [
             0.5555555555555556,
             "#d8576b"
            ],
            [
             0.6666666666666666,
             "#ed7953"
            ],
            [
             0.7777777777777778,
             "#fb9f3a"
            ],
            [
             0.8888888888888888,
             "#fdca26"
            ],
            [
             1,
             "#f0f921"
            ]
           ]
          },
          "colorway": [
           "#636efa",
           "#EF553B",
           "#00cc96",
           "#ab63fa",
           "#FFA15A",
           "#19d3f3",
           "#FF6692",
           "#B6E880",
           "#FF97FF",
           "#FECB52"
          ],
          "font": {
           "color": "#f2f5fa"
          },
          "geo": {
           "bgcolor": "rgb(17,17,17)",
           "lakecolor": "rgb(17,17,17)",
           "landcolor": "rgb(17,17,17)",
           "showlakes": true,
           "showland": true,
           "subunitcolor": "#506784"
          },
          "hoverlabel": {
           "align": "left"
          },
          "hovermode": "closest",
          "mapbox": {
           "style": "dark"
          },
          "paper_bgcolor": "rgb(17,17,17)",
          "plot_bgcolor": "rgb(17,17,17)",
          "polar": {
           "angularaxis": {
            "gridcolor": "#506784",
            "linecolor": "#506784",
            "ticks": ""
           },
           "bgcolor": "rgb(17,17,17)",
           "radialaxis": {
            "gridcolor": "#506784",
            "linecolor": "#506784",
            "ticks": ""
           }
          },
          "scene": {
           "xaxis": {
            "backgroundcolor": "rgb(17,17,17)",
            "gridcolor": "#506784",
            "gridwidth": 2,
            "linecolor": "#506784",
            "showbackground": true,
            "ticks": "",
            "zerolinecolor": "#C8D4E3"
           },
           "yaxis": {
            "backgroundcolor": "rgb(17,17,17)",
            "gridcolor": "#506784",
            "gridwidth": 2,
            "linecolor": "#506784",
            "showbackground": true,
            "ticks": "",
            "zerolinecolor": "#C8D4E3"
           },
           "zaxis": {
            "backgroundcolor": "rgb(17,17,17)",
            "gridcolor": "#506784",
            "gridwidth": 2,
            "linecolor": "#506784",
            "showbackground": true,
            "ticks": "",
            "zerolinecolor": "#C8D4E3"
           }
          },
          "shapedefaults": {
           "line": {
            "color": "#f2f5fa"
           }
          },
          "sliderdefaults": {
           "bgcolor": "#C8D4E3",
           "bordercolor": "rgb(17,17,17)",
           "borderwidth": 1,
           "tickwidth": 0
          },
          "ternary": {
           "aaxis": {
            "gridcolor": "#506784",
            "linecolor": "#506784",
            "ticks": ""
           },
           "baxis": {
            "gridcolor": "#506784",
            "linecolor": "#506784",
            "ticks": ""
           },
           "bgcolor": "rgb(17,17,17)",
           "caxis": {
            "gridcolor": "#506784",
            "linecolor": "#506784",
            "ticks": ""
           }
          },
          "title": {
           "x": 0.05
          },
          "updatemenudefaults": {
           "bgcolor": "#506784",
           "borderwidth": 0
          },
          "xaxis": {
           "automargin": true,
           "gridcolor": "#283442",
           "linecolor": "#506784",
           "ticks": "",
           "title": {
            "standoff": 15
           },
           "zerolinecolor": "#283442",
           "zerolinewidth": 2
          },
          "yaxis": {
           "automargin": true,
           "gridcolor": "#283442",
           "linecolor": "#506784",
           "ticks": "",
           "title": {
            "standoff": 15
           },
           "zerolinecolor": "#283442",
           "zerolinewidth": 2
          }
         }
        },
        "title": {
         "text": "Correlation Heatmap: Target vs Current Account Balance to GDP Ratio"
        },
        "width": 1000,
        "xaxis": {
         "anchor": "y",
         "constrain": "domain",
         "domain": [
          0,
          1
         ],
         "scaleanchor": "y"
        },
        "yaxis": {
         "anchor": "x",
         "autorange": "reversed",
         "constrain": "domain",
         "domain": [
          0,
          1
         ]
        }
       }
      }
     },
     "metadata": {},
     "output_type": "display_data"
    }
   ],
   "source": [
    "# Variables to compare\n",
    "variables_to_compare = [ 'cab_to_gdp_1990', 'cab_to_gdp_2000', 'cab_to_gdp_2014', 'cab_to_gdp_2015', 'cab_to_gdp_2016', \n",
    "                        'cab_to_gdp_2017', 'cab_to_gdp_2018', 'cab_to_gdp_2019', 'cab_to_gdp_2020', 'cab_to_gdp_2021', \n",
    "                        'cab_to_gdp_2022', 'cab_to_gdp_2023']\n",
    "\n",
    "# Compute the correlation matrix for 'target' and the selected variables\n",
    "columns_to_use = ['target'] + variables_to_compare\n",
    "df_corr_matrix = df[columns_to_use].corr()\n",
    "\n",
    "# Take the absolute values of the correlation matrix\n",
    "df_corr_matrix_abs = df_corr_matrix.abs()\n",
    "\n",
    "fig = px.imshow(df_corr_matrix_abs, \n",
    "                color_continuous_scale='RdBu_r', \n",
    "                title=\"Correlation Heatmap: Target vs Current Account Balance to GDP Ratio\", \n",
    "                template='plotly_dark', \n",
    "                width=1000,  \n",
    "                height=600)  \n",
    "\n",
    "fig.show()\n"
   ]
  },
  {
   "cell_type": "code",
   "execution_count": 43,
   "metadata": {},
   "outputs": [
    {
     "data": {
      "application/vnd.plotly.v1+json": {
       "config": {
        "plotlyServerURL": "https://plot.ly"
       },
       "data": [
        {
         "coloraxis": "coloraxis",
         "hovertemplate": "x: %{x}<br>y: %{y}<br>color: %{z}<extra></extra>",
         "name": "0",
         "type": "heatmap",
         "x": [
          "target",
          "reserves_to_gdp_1990",
          "reserves_to_gdp_2000",
          "reserves_to_gdp_2014",
          "reserves_to_gdp_2015",
          "reserves_to_gdp_2016",
          "reserves_to_gdp_2017",
          "reserves_to_gdp_2018",
          "reserves_to_gdp_2019",
          "reserves_to_gdp_2020",
          "reserves_to_gdp_2021",
          "reserves_to_gdp_2022",
          "reserves_to_gdp_2023"
         ],
         "xaxis": "x",
         "y": [
          "target",
          "reserves_to_gdp_1990",
          "reserves_to_gdp_2000",
          "reserves_to_gdp_2014",
          "reserves_to_gdp_2015",
          "reserves_to_gdp_2016",
          "reserves_to_gdp_2017",
          "reserves_to_gdp_2018",
          "reserves_to_gdp_2019",
          "reserves_to_gdp_2020",
          "reserves_to_gdp_2021",
          "reserves_to_gdp_2022",
          "reserves_to_gdp_2023"
         ],
         "yaxis": "y",
         "z": [
          [
           1,
           0.13552902961795532,
           0.15082726517445766,
           0.1629104507775195,
           0.19228778417198097,
           0.18811231540531195,
           0.1652464540779447,
           0.15000811878634845,
           0.1389905601546754,
           0.13029595571609262,
           0.09688931856637532,
           0.07490508737469628,
           0.09416197105888373
          ],
          [
           0.13552902961795532,
           1,
           0.8762063380776608,
           0.5260918984963353,
           0.49176937320930736,
           0.44550065017352525,
           0.3951277228454324,
           0.379368003800171,
           0.32779439058817333,
           0.26281446504323497,
           0.23623437492318886,
           0.22595718825607658,
           0.19243595877414957
          ],
          [
           0.15082726517445766,
           0.8762063380776608,
           1,
           0.5361434643604525,
           0.5191840521678782,
           0.4687963738061281,
           0.4482543943325803,
           0.4459123662714561,
           0.3878776266783528,
           0.3212132783138205,
           0.2673528802660299,
           0.2366152178432943,
           0.21993991914999858
          ],
          [
           0.1629104507775195,
           0.5260918984963353,
           0.5361434643604525,
           1,
           0.9804898144717509,
           0.9422767249879326,
           0.8962757111817662,
           0.8795426370932486,
           0.8475979318052307,
           0.7944943754051056,
           0.7603110278533924,
           0.7242974772068144,
           0.7111875426757314
          ],
          [
           0.19228778417198097,
           0.49176937320930736,
           0.5191840521678782,
           0.9804898144717509,
           1,
           0.9777118234742098,
           0.9368963184904431,
           0.9208645286267625,
           0.8944747301457034,
           0.8441656341044556,
           0.8037113259417503,
           0.7628111788155947,
           0.7500147215854059
          ],
          [
           0.18811231540531195,
           0.44550065017352525,
           0.4687963738061281,
           0.9422767249879326,
           0.9777118234742098,
           1,
           0.9670123363332007,
           0.9544361566064539,
           0.9383368775394256,
           0.8996207222883762,
           0.8641965999449841,
           0.8237298561227175,
           0.8104321174387584
          ],
          [
           0.1652464540779447,
           0.3951277228454324,
           0.4482543943325803,
           0.8962757111817662,
           0.9368963184904431,
           0.9670123363332007,
           1,
           0.9931460857652958,
           0.9804369472532813,
           0.9426627752864283,
           0.9088354158402899,
           0.8677607198353123,
           0.839511503641322
          ],
          [
           0.15000811878634845,
           0.379368003800171,
           0.4459123662714561,
           0.8795426370932486,
           0.9208645286267625,
           0.9544361566064539,
           0.9931460857652958,
           1,
           0.9901529683907958,
           0.9594829634077113,
           0.9287019943867812,
           0.8894041500310814,
           0.8604066011934247
          ],
          [
           0.1389905601546754,
           0.32779439058817333,
           0.3878776266783528,
           0.8475979318052307,
           0.8944747301457034,
           0.9383368775394256,
           0.9804369472532813,
           0.9901529683907958,
           1,
           0.979410980192811,
           0.9547667710041524,
           0.9167584890200006,
           0.8911612865774372
          ],
          [
           0.13029595571609262,
           0.26281446504323497,
           0.3212132783138205,
           0.7944943754051056,
           0.8441656341044556,
           0.8996207222883762,
           0.9426627752864283,
           0.9594829634077113,
           0.979410980192811,
           1,
           0.9823215187184182,
           0.9456841411528656,
           0.9262888715289112
          ],
          [
           0.09688931856637532,
           0.23623437492318886,
           0.2673528802660299,
           0.7603110278533924,
           0.8037113259417503,
           0.8641965999449841,
           0.9088354158402899,
           0.9287019943867812,
           0.9547667710041524,
           0.9823215187184182,
           1,
           0.9780257398517656,
           0.9545560334405035
          ],
          [
           0.07490508737469628,
           0.22595718825607658,
           0.2366152178432943,
           0.7242974772068144,
           0.7628111788155947,
           0.8237298561227175,
           0.8677607198353123,
           0.8894041500310814,
           0.9167584890200006,
           0.9456841411528656,
           0.9780257398517656,
           1,
           0.9590145052971042
          ],
          [
           0.09416197105888373,
           0.19243595877414957,
           0.21993991914999858,
           0.7111875426757314,
           0.7500147215854059,
           0.8104321174387584,
           0.839511503641322,
           0.8604066011934247,
           0.8911612865774372,
           0.9262888715289112,
           0.9545560334405035,
           0.9590145052971042,
           1
          ]
         ]
        }
       ],
       "layout": {
        "coloraxis": {
         "colorscale": [
          [
           0,
           "rgb(5,48,97)"
          ],
          [
           0.1,
           "rgb(33,102,172)"
          ],
          [
           0.2,
           "rgb(67,147,195)"
          ],
          [
           0.3,
           "rgb(146,197,222)"
          ],
          [
           0.4,
           "rgb(209,229,240)"
          ],
          [
           0.5,
           "rgb(247,247,247)"
          ],
          [
           0.6,
           "rgb(253,219,199)"
          ],
          [
           0.7,
           "rgb(244,165,130)"
          ],
          [
           0.8,
           "rgb(214,96,77)"
          ],
          [
           0.9,
           "rgb(178,24,43)"
          ],
          [
           1,
           "rgb(103,0,31)"
          ]
         ]
        },
        "height": 600,
        "template": {
         "data": {
          "bar": [
           {
            "error_x": {
             "color": "#f2f5fa"
            },
            "error_y": {
             "color": "#f2f5fa"
            },
            "marker": {
             "line": {
              "color": "rgb(17,17,17)",
              "width": 0.5
             },
             "pattern": {
              "fillmode": "overlay",
              "size": 10,
              "solidity": 0.2
             }
            },
            "type": "bar"
           }
          ],
          "barpolar": [
           {
            "marker": {
             "line": {
              "color": "rgb(17,17,17)",
              "width": 0.5
             },
             "pattern": {
              "fillmode": "overlay",
              "size": 10,
              "solidity": 0.2
             }
            },
            "type": "barpolar"
           }
          ],
          "carpet": [
           {
            "aaxis": {
             "endlinecolor": "#A2B1C6",
             "gridcolor": "#506784",
             "linecolor": "#506784",
             "minorgridcolor": "#506784",
             "startlinecolor": "#A2B1C6"
            },
            "baxis": {
             "endlinecolor": "#A2B1C6",
             "gridcolor": "#506784",
             "linecolor": "#506784",
             "minorgridcolor": "#506784",
             "startlinecolor": "#A2B1C6"
            },
            "type": "carpet"
           }
          ],
          "choropleth": [
           {
            "colorbar": {
             "outlinewidth": 0,
             "ticks": ""
            },
            "type": "choropleth"
           }
          ],
          "contour": [
           {
            "colorbar": {
             "outlinewidth": 0,
             "ticks": ""
            },
            "colorscale": [
             [
              0,
              "#0d0887"
             ],
             [
              0.1111111111111111,
              "#46039f"
             ],
             [
              0.2222222222222222,
              "#7201a8"
             ],
             [
              0.3333333333333333,
              "#9c179e"
             ],
             [
              0.4444444444444444,
              "#bd3786"
             ],
             [
              0.5555555555555556,
              "#d8576b"
             ],
             [
              0.6666666666666666,
              "#ed7953"
             ],
             [
              0.7777777777777778,
              "#fb9f3a"
             ],
             [
              0.8888888888888888,
              "#fdca26"
             ],
             [
              1,
              "#f0f921"
             ]
            ],
            "type": "contour"
           }
          ],
          "contourcarpet": [
           {
            "colorbar": {
             "outlinewidth": 0,
             "ticks": ""
            },
            "type": "contourcarpet"
           }
          ],
          "heatmap": [
           {
            "colorbar": {
             "outlinewidth": 0,
             "ticks": ""
            },
            "colorscale": [
             [
              0,
              "#0d0887"
             ],
             [
              0.1111111111111111,
              "#46039f"
             ],
             [
              0.2222222222222222,
              "#7201a8"
             ],
             [
              0.3333333333333333,
              "#9c179e"
             ],
             [
              0.4444444444444444,
              "#bd3786"
             ],
             [
              0.5555555555555556,
              "#d8576b"
             ],
             [
              0.6666666666666666,
              "#ed7953"
             ],
             [
              0.7777777777777778,
              "#fb9f3a"
             ],
             [
              0.8888888888888888,
              "#fdca26"
             ],
             [
              1,
              "#f0f921"
             ]
            ],
            "type": "heatmap"
           }
          ],
          "heatmapgl": [
           {
            "colorbar": {
             "outlinewidth": 0,
             "ticks": ""
            },
            "colorscale": [
             [
              0,
              "#0d0887"
             ],
             [
              0.1111111111111111,
              "#46039f"
             ],
             [
              0.2222222222222222,
              "#7201a8"
             ],
             [
              0.3333333333333333,
              "#9c179e"
             ],
             [
              0.4444444444444444,
              "#bd3786"
             ],
             [
              0.5555555555555556,
              "#d8576b"
             ],
             [
              0.6666666666666666,
              "#ed7953"
             ],
             [
              0.7777777777777778,
              "#fb9f3a"
             ],
             [
              0.8888888888888888,
              "#fdca26"
             ],
             [
              1,
              "#f0f921"
             ]
            ],
            "type": "heatmapgl"
           }
          ],
          "histogram": [
           {
            "marker": {
             "pattern": {
              "fillmode": "overlay",
              "size": 10,
              "solidity": 0.2
             }
            },
            "type": "histogram"
           }
          ],
          "histogram2d": [
           {
            "colorbar": {
             "outlinewidth": 0,
             "ticks": ""
            },
            "colorscale": [
             [
              0,
              "#0d0887"
             ],
             [
              0.1111111111111111,
              "#46039f"
             ],
             [
              0.2222222222222222,
              "#7201a8"
             ],
             [
              0.3333333333333333,
              "#9c179e"
             ],
             [
              0.4444444444444444,
              "#bd3786"
             ],
             [
              0.5555555555555556,
              "#d8576b"
             ],
             [
              0.6666666666666666,
              "#ed7953"
             ],
             [
              0.7777777777777778,
              "#fb9f3a"
             ],
             [
              0.8888888888888888,
              "#fdca26"
             ],
             [
              1,
              "#f0f921"
             ]
            ],
            "type": "histogram2d"
           }
          ],
          "histogram2dcontour": [
           {
            "colorbar": {
             "outlinewidth": 0,
             "ticks": ""
            },
            "colorscale": [
             [
              0,
              "#0d0887"
             ],
             [
              0.1111111111111111,
              "#46039f"
             ],
             [
              0.2222222222222222,
              "#7201a8"
             ],
             [
              0.3333333333333333,
              "#9c179e"
             ],
             [
              0.4444444444444444,
              "#bd3786"
             ],
             [
              0.5555555555555556,
              "#d8576b"
             ],
             [
              0.6666666666666666,
              "#ed7953"
             ],
             [
              0.7777777777777778,
              "#fb9f3a"
             ],
             [
              0.8888888888888888,
              "#fdca26"
             ],
             [
              1,
              "#f0f921"
             ]
            ],
            "type": "histogram2dcontour"
           }
          ],
          "mesh3d": [
           {
            "colorbar": {
             "outlinewidth": 0,
             "ticks": ""
            },
            "type": "mesh3d"
           }
          ],
          "parcoords": [
           {
            "line": {
             "colorbar": {
              "outlinewidth": 0,
              "ticks": ""
             }
            },
            "type": "parcoords"
           }
          ],
          "pie": [
           {
            "automargin": true,
            "type": "pie"
           }
          ],
          "scatter": [
           {
            "marker": {
             "line": {
              "color": "#283442"
             }
            },
            "type": "scatter"
           }
          ],
          "scatter3d": [
           {
            "line": {
             "colorbar": {
              "outlinewidth": 0,
              "ticks": ""
             }
            },
            "marker": {
             "colorbar": {
              "outlinewidth": 0,
              "ticks": ""
             }
            },
            "type": "scatter3d"
           }
          ],
          "scattercarpet": [
           {
            "marker": {
             "colorbar": {
              "outlinewidth": 0,
              "ticks": ""
             }
            },
            "type": "scattercarpet"
           }
          ],
          "scattergeo": [
           {
            "marker": {
             "colorbar": {
              "outlinewidth": 0,
              "ticks": ""
             }
            },
            "type": "scattergeo"
           }
          ],
          "scattergl": [
           {
            "marker": {
             "line": {
              "color": "#283442"
             }
            },
            "type": "scattergl"
           }
          ],
          "scattermapbox": [
           {
            "marker": {
             "colorbar": {
              "outlinewidth": 0,
              "ticks": ""
             }
            },
            "type": "scattermapbox"
           }
          ],
          "scatterpolar": [
           {
            "marker": {
             "colorbar": {
              "outlinewidth": 0,
              "ticks": ""
             }
            },
            "type": "scatterpolar"
           }
          ],
          "scatterpolargl": [
           {
            "marker": {
             "colorbar": {
              "outlinewidth": 0,
              "ticks": ""
             }
            },
            "type": "scatterpolargl"
           }
          ],
          "scatterternary": [
           {
            "marker": {
             "colorbar": {
              "outlinewidth": 0,
              "ticks": ""
             }
            },
            "type": "scatterternary"
           }
          ],
          "surface": [
           {
            "colorbar": {
             "outlinewidth": 0,
             "ticks": ""
            },
            "colorscale": [
             [
              0,
              "#0d0887"
             ],
             [
              0.1111111111111111,
              "#46039f"
             ],
             [
              0.2222222222222222,
              "#7201a8"
             ],
             [
              0.3333333333333333,
              "#9c179e"
             ],
             [
              0.4444444444444444,
              "#bd3786"
             ],
             [
              0.5555555555555556,
              "#d8576b"
             ],
             [
              0.6666666666666666,
              "#ed7953"
             ],
             [
              0.7777777777777778,
              "#fb9f3a"
             ],
             [
              0.8888888888888888,
              "#fdca26"
             ],
             [
              1,
              "#f0f921"
             ]
            ],
            "type": "surface"
           }
          ],
          "table": [
           {
            "cells": {
             "fill": {
              "color": "#506784"
             },
             "line": {
              "color": "rgb(17,17,17)"
             }
            },
            "header": {
             "fill": {
              "color": "#2a3f5f"
             },
             "line": {
              "color": "rgb(17,17,17)"
             }
            },
            "type": "table"
           }
          ]
         },
         "layout": {
          "annotationdefaults": {
           "arrowcolor": "#f2f5fa",
           "arrowhead": 0,
           "arrowwidth": 1
          },
          "autotypenumbers": "strict",
          "coloraxis": {
           "colorbar": {
            "outlinewidth": 0,
            "ticks": ""
           }
          },
          "colorscale": {
           "diverging": [
            [
             0,
             "#8e0152"
            ],
            [
             0.1,
             "#c51b7d"
            ],
            [
             0.2,
             "#de77ae"
            ],
            [
             0.3,
             "#f1b6da"
            ],
            [
             0.4,
             "#fde0ef"
            ],
            [
             0.5,
             "#f7f7f7"
            ],
            [
             0.6,
             "#e6f5d0"
            ],
            [
             0.7,
             "#b8e186"
            ],
            [
             0.8,
             "#7fbc41"
            ],
            [
             0.9,
             "#4d9221"
            ],
            [
             1,
             "#276419"
            ]
           ],
           "sequential": [
            [
             0,
             "#0d0887"
            ],
            [
             0.1111111111111111,
             "#46039f"
            ],
            [
             0.2222222222222222,
             "#7201a8"
            ],
            [
             0.3333333333333333,
             "#9c179e"
            ],
            [
             0.4444444444444444,
             "#bd3786"
            ],
            [
             0.5555555555555556,
             "#d8576b"
            ],
            [
             0.6666666666666666,
             "#ed7953"
            ],
            [
             0.7777777777777778,
             "#fb9f3a"
            ],
            [
             0.8888888888888888,
             "#fdca26"
            ],
            [
             1,
             "#f0f921"
            ]
           ],
           "sequentialminus": [
            [
             0,
             "#0d0887"
            ],
            [
             0.1111111111111111,
             "#46039f"
            ],
            [
             0.2222222222222222,
             "#7201a8"
            ],
            [
             0.3333333333333333,
             "#9c179e"
            ],
            [
             0.4444444444444444,
             "#bd3786"
            ],
            [
             0.5555555555555556,
             "#d8576b"
            ],
            [
             0.6666666666666666,
             "#ed7953"
            ],
            [
             0.7777777777777778,
             "#fb9f3a"
            ],
            [
             0.8888888888888888,
             "#fdca26"
            ],
            [
             1,
             "#f0f921"
            ]
           ]
          },
          "colorway": [
           "#636efa",
           "#EF553B",
           "#00cc96",
           "#ab63fa",
           "#FFA15A",
           "#19d3f3",
           "#FF6692",
           "#B6E880",
           "#FF97FF",
           "#FECB52"
          ],
          "font": {
           "color": "#f2f5fa"
          },
          "geo": {
           "bgcolor": "rgb(17,17,17)",
           "lakecolor": "rgb(17,17,17)",
           "landcolor": "rgb(17,17,17)",
           "showlakes": true,
           "showland": true,
           "subunitcolor": "#506784"
          },
          "hoverlabel": {
           "align": "left"
          },
          "hovermode": "closest",
          "mapbox": {
           "style": "dark"
          },
          "paper_bgcolor": "rgb(17,17,17)",
          "plot_bgcolor": "rgb(17,17,17)",
          "polar": {
           "angularaxis": {
            "gridcolor": "#506784",
            "linecolor": "#506784",
            "ticks": ""
           },
           "bgcolor": "rgb(17,17,17)",
           "radialaxis": {
            "gridcolor": "#506784",
            "linecolor": "#506784",
            "ticks": ""
           }
          },
          "scene": {
           "xaxis": {
            "backgroundcolor": "rgb(17,17,17)",
            "gridcolor": "#506784",
            "gridwidth": 2,
            "linecolor": "#506784",
            "showbackground": true,
            "ticks": "",
            "zerolinecolor": "#C8D4E3"
           },
           "yaxis": {
            "backgroundcolor": "rgb(17,17,17)",
            "gridcolor": "#506784",
            "gridwidth": 2,
            "linecolor": "#506784",
            "showbackground": true,
            "ticks": "",
            "zerolinecolor": "#C8D4E3"
           },
           "zaxis": {
            "backgroundcolor": "rgb(17,17,17)",
            "gridcolor": "#506784",
            "gridwidth": 2,
            "linecolor": "#506784",
            "showbackground": true,
            "ticks": "",
            "zerolinecolor": "#C8D4E3"
           }
          },
          "shapedefaults": {
           "line": {
            "color": "#f2f5fa"
           }
          },
          "sliderdefaults": {
           "bgcolor": "#C8D4E3",
           "bordercolor": "rgb(17,17,17)",
           "borderwidth": 1,
           "tickwidth": 0
          },
          "ternary": {
           "aaxis": {
            "gridcolor": "#506784",
            "linecolor": "#506784",
            "ticks": ""
           },
           "baxis": {
            "gridcolor": "#506784",
            "linecolor": "#506784",
            "ticks": ""
           },
           "bgcolor": "rgb(17,17,17)",
           "caxis": {
            "gridcolor": "#506784",
            "linecolor": "#506784",
            "ticks": ""
           }
          },
          "title": {
           "x": 0.05
          },
          "updatemenudefaults": {
           "bgcolor": "#506784",
           "borderwidth": 0
          },
          "xaxis": {
           "automargin": true,
           "gridcolor": "#283442",
           "linecolor": "#506784",
           "ticks": "",
           "title": {
            "standoff": 15
           },
           "zerolinecolor": "#283442",
           "zerolinewidth": 2
          },
          "yaxis": {
           "automargin": true,
           "gridcolor": "#283442",
           "linecolor": "#506784",
           "ticks": "",
           "title": {
            "standoff": 15
           },
           "zerolinecolor": "#283442",
           "zerolinewidth": 2
          }
         }
        },
        "title": {
         "text": "Correlation Heatmap: Target vs Reserves to GDP Ratio"
        },
        "width": 1000,
        "xaxis": {
         "anchor": "y",
         "constrain": "domain",
         "domain": [
          0,
          1
         ],
         "scaleanchor": "y"
        },
        "yaxis": {
         "anchor": "x",
         "autorange": "reversed",
         "constrain": "domain",
         "domain": [
          0,
          1
         ]
        }
       }
      }
     },
     "metadata": {},
     "output_type": "display_data"
    }
   ],
   "source": [
    "# Variables to compare\n",
    "variables_to_compare = [ 'reserves_to_gdp_1990', 'reserves_to_gdp_2000', 'reserves_to_gdp_2014', 'reserves_to_gdp_2015', \n",
    "                        'reserves_to_gdp_2016', 'reserves_to_gdp_2017', 'reserves_to_gdp_2018', 'reserves_to_gdp_2019', \n",
    "                        'reserves_to_gdp_2020', 'reserves_to_gdp_2021', 'reserves_to_gdp_2022', 'reserves_to_gdp_2023']\n",
    "\n",
    "# Compute the correlation matrix for 'target' and the selected variables\n",
    "columns_to_use = ['target'] + variables_to_compare\n",
    "df_corr_matrix = df[columns_to_use].corr()\n",
    "\n",
    "# Take the absolute values of the correlation matrix\n",
    "df_corr_matrix_abs = df_corr_matrix.abs()\n",
    "\n",
    "fig = px.imshow(df_corr_matrix_abs, \n",
    "                color_continuous_scale='RdBu_r', \n",
    "                title=\"Correlation Heatmap: Target vs Reserves to GDP Ratio\", \n",
    "                template='plotly_dark', \n",
    "                width=1000,  \n",
    "                height=600)  \n",
    "\n",
    "fig.show()\n"
   ]
  },
  {
   "cell_type": "code",
   "execution_count": 44,
   "metadata": {},
   "outputs": [
    {
     "data": {
      "application/vnd.plotly.v1+json": {
       "config": {
        "plotlyServerURL": "https://plot.ly"
       },
       "data": [
        {
         "coloraxis": "coloraxis",
         "hovertemplate": "x: %{x}<br>y: %{y}<br>color: %{z}<extra></extra>",
         "name": "0",
         "type": "heatmap",
         "x": [
          "target",
          "gdp_growth_2014_2015",
          "gdp_growth_2015_2016",
          "gdp_growth_2016_2017",
          "gdp_growth_2017_2018",
          "gdp_growth_2018_2019",
          "gdp_growth_2019_2020",
          "gdp_growth_2020_2021",
          "gdp_growth_2021_2022",
          "gdp_growth_2022_2023"
         ],
         "xaxis": "x",
         "y": [
          "target",
          "gdp_growth_2014_2015",
          "gdp_growth_2015_2016",
          "gdp_growth_2016_2017",
          "gdp_growth_2017_2018",
          "gdp_growth_2018_2019",
          "gdp_growth_2019_2020",
          "gdp_growth_2020_2021",
          "gdp_growth_2021_2022",
          "gdp_growth_2022_2023"
         ],
         "yaxis": "y",
         "z": [
          [
           1,
           0.17923123625399137,
           0.10162582626670132,
           0.055021822846762346,
           0.130217768051234,
           0.2068425297286513,
           0.0995975205900806,
           0.198823676300067,
           0.2735701126143555,
           0.01748898075397307
          ],
          [
           0.17923123625399137,
           1,
           0.3620333952491159,
           0.3022342282678974,
           0.4218176016844768,
           0.30761163468744884,
           0.1779415708260215,
           0.4017857371778605,
           0.05939003556005327,
           0.10770561379903507
          ],
          [
           0.10162582626670132,
           0.3620333952491159,
           1,
           0.1372052478075703,
           0.08382227495911711,
           0.16312788594580177,
           0.37737503765810926,
           0.21546386774308549,
           0.4542452693313202,
           0.263649183546157
          ],
          [
           0.055021822846762346,
           0.3022342282678974,
           0.1372052478075703,
           1,
           0.20726705787963987,
           0.38499280629312593,
           0.25877518914815273,
           0.3536217860028705,
           0.18365577726747231,
           0.041069233219281825
          ],
          [
           0.130217768051234,
           0.4218176016844768,
           0.08382227495911711,
           0.20726705787963987,
           1,
           0.13915013106924193,
           0.081411097683362,
           0.19497436362696696,
           0.056826929139198054,
           0.06397684051500158
          ],
          [
           0.2068425297286513,
           0.30761163468744884,
           0.16312788594580177,
           0.38499280629312593,
           0.13915013106924193,
           1,
           0.39618032461635916,
           0.2218795444685827,
           0.017749175305606126,
           0.14810172333647417
          ],
          [
           0.0995975205900806,
           0.1779415708260215,
           0.37737503765810926,
           0.25877518914815273,
           0.081411097683362,
           0.39618032461635916,
           1,
           0.05119794783720707,
           0.4824362148280353,
           0.2842415645002191
          ],
          [
           0.198823676300067,
           0.4017857371778605,
           0.21546386774308549,
           0.3536217860028705,
           0.19497436362696696,
           0.2218795444685827,
           0.05119794783720707,
           1,
           0.266844241426231,
           0.09742186136720173
          ],
          [
           0.2735701126143555,
           0.05939003556005327,
           0.4542452693313202,
           0.18365577726747231,
           0.056826929139198054,
           0.017749175305606126,
           0.4824362148280353,
           0.266844241426231,
           1,
           0.21200385987962664
          ],
          [
           0.01748898075397307,
           0.10770561379903507,
           0.263649183546157,
           0.041069233219281825,
           0.06397684051500158,
           0.14810172333647417,
           0.2842415645002191,
           0.09742186136720173,
           0.21200385987962664,
           1
          ]
         ]
        }
       ],
       "layout": {
        "coloraxis": {
         "colorscale": [
          [
           0,
           "rgb(5,48,97)"
          ],
          [
           0.1,
           "rgb(33,102,172)"
          ],
          [
           0.2,
           "rgb(67,147,195)"
          ],
          [
           0.3,
           "rgb(146,197,222)"
          ],
          [
           0.4,
           "rgb(209,229,240)"
          ],
          [
           0.5,
           "rgb(247,247,247)"
          ],
          [
           0.6,
           "rgb(253,219,199)"
          ],
          [
           0.7,
           "rgb(244,165,130)"
          ],
          [
           0.8,
           "rgb(214,96,77)"
          ],
          [
           0.9,
           "rgb(178,24,43)"
          ],
          [
           1,
           "rgb(103,0,31)"
          ]
         ]
        },
        "height": 600,
        "template": {
         "data": {
          "bar": [
           {
            "error_x": {
             "color": "#f2f5fa"
            },
            "error_y": {
             "color": "#f2f5fa"
            },
            "marker": {
             "line": {
              "color": "rgb(17,17,17)",
              "width": 0.5
             },
             "pattern": {
              "fillmode": "overlay",
              "size": 10,
              "solidity": 0.2
             }
            },
            "type": "bar"
           }
          ],
          "barpolar": [
           {
            "marker": {
             "line": {
              "color": "rgb(17,17,17)",
              "width": 0.5
             },
             "pattern": {
              "fillmode": "overlay",
              "size": 10,
              "solidity": 0.2
             }
            },
            "type": "barpolar"
           }
          ],
          "carpet": [
           {
            "aaxis": {
             "endlinecolor": "#A2B1C6",
             "gridcolor": "#506784",
             "linecolor": "#506784",
             "minorgridcolor": "#506784",
             "startlinecolor": "#A2B1C6"
            },
            "baxis": {
             "endlinecolor": "#A2B1C6",
             "gridcolor": "#506784",
             "linecolor": "#506784",
             "minorgridcolor": "#506784",
             "startlinecolor": "#A2B1C6"
            },
            "type": "carpet"
           }
          ],
          "choropleth": [
           {
            "colorbar": {
             "outlinewidth": 0,
             "ticks": ""
            },
            "type": "choropleth"
           }
          ],
          "contour": [
           {
            "colorbar": {
             "outlinewidth": 0,
             "ticks": ""
            },
            "colorscale": [
             [
              0,
              "#0d0887"
             ],
             [
              0.1111111111111111,
              "#46039f"
             ],
             [
              0.2222222222222222,
              "#7201a8"
             ],
             [
              0.3333333333333333,
              "#9c179e"
             ],
             [
              0.4444444444444444,
              "#bd3786"
             ],
             [
              0.5555555555555556,
              "#d8576b"
             ],
             [
              0.6666666666666666,
              "#ed7953"
             ],
             [
              0.7777777777777778,
              "#fb9f3a"
             ],
             [
              0.8888888888888888,
              "#fdca26"
             ],
             [
              1,
              "#f0f921"
             ]
            ],
            "type": "contour"
           }
          ],
          "contourcarpet": [
           {
            "colorbar": {
             "outlinewidth": 0,
             "ticks": ""
            },
            "type": "contourcarpet"
           }
          ],
          "heatmap": [
           {
            "colorbar": {
             "outlinewidth": 0,
             "ticks": ""
            },
            "colorscale": [
             [
              0,
              "#0d0887"
             ],
             [
              0.1111111111111111,
              "#46039f"
             ],
             [
              0.2222222222222222,
              "#7201a8"
             ],
             [
              0.3333333333333333,
              "#9c179e"
             ],
             [
              0.4444444444444444,
              "#bd3786"
             ],
             [
              0.5555555555555556,
              "#d8576b"
             ],
             [
              0.6666666666666666,
              "#ed7953"
             ],
             [
              0.7777777777777778,
              "#fb9f3a"
             ],
             [
              0.8888888888888888,
              "#fdca26"
             ],
             [
              1,
              "#f0f921"
             ]
            ],
            "type": "heatmap"
           }
          ],
          "heatmapgl": [
           {
            "colorbar": {
             "outlinewidth": 0,
             "ticks": ""
            },
            "colorscale": [
             [
              0,
              "#0d0887"
             ],
             [
              0.1111111111111111,
              "#46039f"
             ],
             [
              0.2222222222222222,
              "#7201a8"
             ],
             [
              0.3333333333333333,
              "#9c179e"
             ],
             [
              0.4444444444444444,
              "#bd3786"
             ],
             [
              0.5555555555555556,
              "#d8576b"
             ],
             [
              0.6666666666666666,
              "#ed7953"
             ],
             [
              0.7777777777777778,
              "#fb9f3a"
             ],
             [
              0.8888888888888888,
              "#fdca26"
             ],
             [
              1,
              "#f0f921"
             ]
            ],
            "type": "heatmapgl"
           }
          ],
          "histogram": [
           {
            "marker": {
             "pattern": {
              "fillmode": "overlay",
              "size": 10,
              "solidity": 0.2
             }
            },
            "type": "histogram"
           }
          ],
          "histogram2d": [
           {
            "colorbar": {
             "outlinewidth": 0,
             "ticks": ""
            },
            "colorscale": [
             [
              0,
              "#0d0887"
             ],
             [
              0.1111111111111111,
              "#46039f"
             ],
             [
              0.2222222222222222,
              "#7201a8"
             ],
             [
              0.3333333333333333,
              "#9c179e"
             ],
             [
              0.4444444444444444,
              "#bd3786"
             ],
             [
              0.5555555555555556,
              "#d8576b"
             ],
             [
              0.6666666666666666,
              "#ed7953"
             ],
             [
              0.7777777777777778,
              "#fb9f3a"
             ],
             [
              0.8888888888888888,
              "#fdca26"
             ],
             [
              1,
              "#f0f921"
             ]
            ],
            "type": "histogram2d"
           }
          ],
          "histogram2dcontour": [
           {
            "colorbar": {
             "outlinewidth": 0,
             "ticks": ""
            },
            "colorscale": [
             [
              0,
              "#0d0887"
             ],
             [
              0.1111111111111111,
              "#46039f"
             ],
             [
              0.2222222222222222,
              "#7201a8"
             ],
             [
              0.3333333333333333,
              "#9c179e"
             ],
             [
              0.4444444444444444,
              "#bd3786"
             ],
             [
              0.5555555555555556,
              "#d8576b"
             ],
             [
              0.6666666666666666,
              "#ed7953"
             ],
             [
              0.7777777777777778,
              "#fb9f3a"
             ],
             [
              0.8888888888888888,
              "#fdca26"
             ],
             [
              1,
              "#f0f921"
             ]
            ],
            "type": "histogram2dcontour"
           }
          ],
          "mesh3d": [
           {
            "colorbar": {
             "outlinewidth": 0,
             "ticks": ""
            },
            "type": "mesh3d"
           }
          ],
          "parcoords": [
           {
            "line": {
             "colorbar": {
              "outlinewidth": 0,
              "ticks": ""
             }
            },
            "type": "parcoords"
           }
          ],
          "pie": [
           {
            "automargin": true,
            "type": "pie"
           }
          ],
          "scatter": [
           {
            "marker": {
             "line": {
              "color": "#283442"
             }
            },
            "type": "scatter"
           }
          ],
          "scatter3d": [
           {
            "line": {
             "colorbar": {
              "outlinewidth": 0,
              "ticks": ""
             }
            },
            "marker": {
             "colorbar": {
              "outlinewidth": 0,
              "ticks": ""
             }
            },
            "type": "scatter3d"
           }
          ],
          "scattercarpet": [
           {
            "marker": {
             "colorbar": {
              "outlinewidth": 0,
              "ticks": ""
             }
            },
            "type": "scattercarpet"
           }
          ],
          "scattergeo": [
           {
            "marker": {
             "colorbar": {
              "outlinewidth": 0,
              "ticks": ""
             }
            },
            "type": "scattergeo"
           }
          ],
          "scattergl": [
           {
            "marker": {
             "line": {
              "color": "#283442"
             }
            },
            "type": "scattergl"
           }
          ],
          "scattermapbox": [
           {
            "marker": {
             "colorbar": {
              "outlinewidth": 0,
              "ticks": ""
             }
            },
            "type": "scattermapbox"
           }
          ],
          "scatterpolar": [
           {
            "marker": {
             "colorbar": {
              "outlinewidth": 0,
              "ticks": ""
             }
            },
            "type": "scatterpolar"
           }
          ],
          "scatterpolargl": [
           {
            "marker": {
             "colorbar": {
              "outlinewidth": 0,
              "ticks": ""
             }
            },
            "type": "scatterpolargl"
           }
          ],
          "scatterternary": [
           {
            "marker": {
             "colorbar": {
              "outlinewidth": 0,
              "ticks": ""
             }
            },
            "type": "scatterternary"
           }
          ],
          "surface": [
           {
            "colorbar": {
             "outlinewidth": 0,
             "ticks": ""
            },
            "colorscale": [
             [
              0,
              "#0d0887"
             ],
             [
              0.1111111111111111,
              "#46039f"
             ],
             [
              0.2222222222222222,
              "#7201a8"
             ],
             [
              0.3333333333333333,
              "#9c179e"
             ],
             [
              0.4444444444444444,
              "#bd3786"
             ],
             [
              0.5555555555555556,
              "#d8576b"
             ],
             [
              0.6666666666666666,
              "#ed7953"
             ],
             [
              0.7777777777777778,
              "#fb9f3a"
             ],
             [
              0.8888888888888888,
              "#fdca26"
             ],
             [
              1,
              "#f0f921"
             ]
            ],
            "type": "surface"
           }
          ],
          "table": [
           {
            "cells": {
             "fill": {
              "color": "#506784"
             },
             "line": {
              "color": "rgb(17,17,17)"
             }
            },
            "header": {
             "fill": {
              "color": "#2a3f5f"
             },
             "line": {
              "color": "rgb(17,17,17)"
             }
            },
            "type": "table"
           }
          ]
         },
         "layout": {
          "annotationdefaults": {
           "arrowcolor": "#f2f5fa",
           "arrowhead": 0,
           "arrowwidth": 1
          },
          "autotypenumbers": "strict",
          "coloraxis": {
           "colorbar": {
            "outlinewidth": 0,
            "ticks": ""
           }
          },
          "colorscale": {
           "diverging": [
            [
             0,
             "#8e0152"
            ],
            [
             0.1,
             "#c51b7d"
            ],
            [
             0.2,
             "#de77ae"
            ],
            [
             0.3,
             "#f1b6da"
            ],
            [
             0.4,
             "#fde0ef"
            ],
            [
             0.5,
             "#f7f7f7"
            ],
            [
             0.6,
             "#e6f5d0"
            ],
            [
             0.7,
             "#b8e186"
            ],
            [
             0.8,
             "#7fbc41"
            ],
            [
             0.9,
             "#4d9221"
            ],
            [
             1,
             "#276419"
            ]
           ],
           "sequential": [
            [
             0,
             "#0d0887"
            ],
            [
             0.1111111111111111,
             "#46039f"
            ],
            [
             0.2222222222222222,
             "#7201a8"
            ],
            [
             0.3333333333333333,
             "#9c179e"
            ],
            [
             0.4444444444444444,
             "#bd3786"
            ],
            [
             0.5555555555555556,
             "#d8576b"
            ],
            [
             0.6666666666666666,
             "#ed7953"
            ],
            [
             0.7777777777777778,
             "#fb9f3a"
            ],
            [
             0.8888888888888888,
             "#fdca26"
            ],
            [
             1,
             "#f0f921"
            ]
           ],
           "sequentialminus": [
            [
             0,
             "#0d0887"
            ],
            [
             0.1111111111111111,
             "#46039f"
            ],
            [
             0.2222222222222222,
             "#7201a8"
            ],
            [
             0.3333333333333333,
             "#9c179e"
            ],
            [
             0.4444444444444444,
             "#bd3786"
            ],
            [
             0.5555555555555556,
             "#d8576b"
            ],
            [
             0.6666666666666666,
             "#ed7953"
            ],
            [
             0.7777777777777778,
             "#fb9f3a"
            ],
            [
             0.8888888888888888,
             "#fdca26"
            ],
            [
             1,
             "#f0f921"
            ]
           ]
          },
          "colorway": [
           "#636efa",
           "#EF553B",
           "#00cc96",
           "#ab63fa",
           "#FFA15A",
           "#19d3f3",
           "#FF6692",
           "#B6E880",
           "#FF97FF",
           "#FECB52"
          ],
          "font": {
           "color": "#f2f5fa"
          },
          "geo": {
           "bgcolor": "rgb(17,17,17)",
           "lakecolor": "rgb(17,17,17)",
           "landcolor": "rgb(17,17,17)",
           "showlakes": true,
           "showland": true,
           "subunitcolor": "#506784"
          },
          "hoverlabel": {
           "align": "left"
          },
          "hovermode": "closest",
          "mapbox": {
           "style": "dark"
          },
          "paper_bgcolor": "rgb(17,17,17)",
          "plot_bgcolor": "rgb(17,17,17)",
          "polar": {
           "angularaxis": {
            "gridcolor": "#506784",
            "linecolor": "#506784",
            "ticks": ""
           },
           "bgcolor": "rgb(17,17,17)",
           "radialaxis": {
            "gridcolor": "#506784",
            "linecolor": "#506784",
            "ticks": ""
           }
          },
          "scene": {
           "xaxis": {
            "backgroundcolor": "rgb(17,17,17)",
            "gridcolor": "#506784",
            "gridwidth": 2,
            "linecolor": "#506784",
            "showbackground": true,
            "ticks": "",
            "zerolinecolor": "#C8D4E3"
           },
           "yaxis": {
            "backgroundcolor": "rgb(17,17,17)",
            "gridcolor": "#506784",
            "gridwidth": 2,
            "linecolor": "#506784",
            "showbackground": true,
            "ticks": "",
            "zerolinecolor": "#C8D4E3"
           },
           "zaxis": {
            "backgroundcolor": "rgb(17,17,17)",
            "gridcolor": "#506784",
            "gridwidth": 2,
            "linecolor": "#506784",
            "showbackground": true,
            "ticks": "",
            "zerolinecolor": "#C8D4E3"
           }
          },
          "shapedefaults": {
           "line": {
            "color": "#f2f5fa"
           }
          },
          "sliderdefaults": {
           "bgcolor": "#C8D4E3",
           "bordercolor": "rgb(17,17,17)",
           "borderwidth": 1,
           "tickwidth": 0
          },
          "ternary": {
           "aaxis": {
            "gridcolor": "#506784",
            "linecolor": "#506784",
            "ticks": ""
           },
           "baxis": {
            "gridcolor": "#506784",
            "linecolor": "#506784",
            "ticks": ""
           },
           "bgcolor": "rgb(17,17,17)",
           "caxis": {
            "gridcolor": "#506784",
            "linecolor": "#506784",
            "ticks": ""
           }
          },
          "title": {
           "x": 0.05
          },
          "updatemenudefaults": {
           "bgcolor": "#506784",
           "borderwidth": 0
          },
          "xaxis": {
           "automargin": true,
           "gridcolor": "#283442",
           "linecolor": "#506784",
           "ticks": "",
           "title": {
            "standoff": 15
           },
           "zerolinecolor": "#283442",
           "zerolinewidth": 2
          },
          "yaxis": {
           "automargin": true,
           "gridcolor": "#283442",
           "linecolor": "#506784",
           "ticks": "",
           "title": {
            "standoff": 15
           },
           "zerolinecolor": "#283442",
           "zerolinewidth": 2
          }
         }
        },
        "title": {
         "text": "Correlation Heatmap: Target vs GDP Growth"
        },
        "width": 1000,
        "xaxis": {
         "anchor": "y",
         "constrain": "domain",
         "domain": [
          0,
          1
         ],
         "scaleanchor": "y"
        },
        "yaxis": {
         "anchor": "x",
         "autorange": "reversed",
         "constrain": "domain",
         "domain": [
          0,
          1
         ]
        }
       }
      }
     },
     "metadata": {},
     "output_type": "display_data"
    }
   ],
   "source": [
    "# Variables to compare\n",
    "variables_to_compare = [ 'gdp_growth_2014_2015', 'gdp_growth_2015_2016', 'gdp_growth_2016_2017', 'gdp_growth_2017_2018', \n",
    "                        'gdp_growth_2018_2019', 'gdp_growth_2019_2020', 'gdp_growth_2020_2021', 'gdp_growth_2021_2022', \n",
    "                        'gdp_growth_2022_2023']\n",
    "\n",
    "# Compute the correlation matrix for 'target' and the selected variables\n",
    "columns_to_use = ['target'] + variables_to_compare\n",
    "df_corr_matrix = df[columns_to_use].corr()\n",
    "\n",
    "# Take the absolute values of the correlation matrix\n",
    "df_corr_matrix_abs = df_corr_matrix.abs()\n",
    "\n",
    "\n",
    "fig = px.imshow(df_corr_matrix_abs, \n",
    "                color_continuous_scale='RdBu_r', \n",
    "                title=\"Correlation Heatmap: Target vs GDP Growth\", \n",
    "                template='plotly_dark', \n",
    "                width=1000,  \n",
    "                height=600)  \n",
    "\n",
    "fig.show()\n"
   ]
  },
  {
   "cell_type": "code",
   "execution_count": 45,
   "metadata": {},
   "outputs": [
    {
     "data": {
      "application/vnd.plotly.v1+json": {
       "config": {
        "plotlyServerURL": "https://plot.ly"
       },
       "data": [
        {
         "coloraxis": "coloraxis",
         "hovertemplate": "x: %{x}<br>y: %{y}<br>color: %{z}<extra></extra>",
         "name": "0",
         "type": "heatmap",
         "x": [
          "target",
          "inflation_to_unemployment_2000",
          "inflation_to_unemployment_2014",
          "inflation_to_unemployment_2015",
          "inflation_to_unemployment_2016",
          "inflation_to_unemployment_2017",
          "inflation_to_unemployment_2018",
          "inflation_to_unemployment_2019",
          "inflation_to_unemployment_2020",
          "inflation_to_unemployment_2021",
          "inflation_to_unemployment_2022",
          "inflation_to_unemployment_2023"
         ],
         "xaxis": "x",
         "y": [
          "target",
          "inflation_to_unemployment_2000",
          "inflation_to_unemployment_2014",
          "inflation_to_unemployment_2015",
          "inflation_to_unemployment_2016",
          "inflation_to_unemployment_2017",
          "inflation_to_unemployment_2018",
          "inflation_to_unemployment_2019",
          "inflation_to_unemployment_2020",
          "inflation_to_unemployment_2021",
          "inflation_to_unemployment_2022",
          "inflation_to_unemployment_2023"
         ],
         "yaxis": "y",
         "z": [
          [
           1,
           0.03280201686040593,
           0.0967665673277733,
           0.09889731613094774,
           0.10017908816055221,
           0.10235921102273736,
           0.10702055794163019,
           0.11123694818991488,
           0.11459786765560312,
           0.1158565206958304,
           0.11999648346018592,
           0.12764562346221067
          ],
          [
           0.03280201686040593,
           1,
           0.42978797390574736,
           0.43176413612648734,
           0.43294195852777073,
           0.4343850177407032,
           0.43560813877673815,
           0.4336582835471567,
           0.42822919107374063,
           0.426081463872607,
           0.40692692790031526,
           0.359416410420503
          ],
          [
           0.0967665673277733,
           0.42978797390574736,
           1,
           0.9995344717345178,
           0.9985964271599423,
           0.996061269408604,
           0.9854228533488942,
           0.9666561066274733,
           0.9399107838570371,
           0.9308679873092237,
           0.8629673692496744,
           0.7165314917419464
          ],
          [
           0.09889731613094774,
           0.43176413612648734,
           0.9995344717345178,
           1,
           0.9997468165867285,
           0.9983017926653789,
           0.990153494231831,
           0.9740178817433588,
           0.9498885308428765,
           0.9415811371929244,
           0.8779806381156477,
           0.7372774420114254
          ],
          [
           0.10017908816055221,
           0.43294195852777073,
           0.9985964271599423,
           0.9997468165867285,
           1,
           0.9993593973524911,
           0.9930497429438944,
           0.9788611869074665,
           0.9566728645520993,
           0.9489075076779003,
           0.8885023558975165,
           0.7521063047182533
          ],
          [
           0.10235921102273736,
           0.4343850177407032,
           0.996061269408604,
           0.9983017926653789,
           0.9993593973524911,
           1,
           0.9966254944706368,
           0.9855531852979221,
           0.9664794956461503,
           0.9595900437036738,
           0.9043465389889908,
           0.7749513952519942
          ],
          [
           0.10702055794163019,
           0.43560813877673815,
           0.9854228533488942,
           0.990153494231831,
           0.9930497429438944,
           0.9966254944706368,
           1,
           0.9961295178896576,
           0.9842923948065091,
           0.9794488729599097,
           0.9363197794803977,
           0.8236086728836125
          ],
          [
           0.11123694818991488,
           0.4336582835471567,
           0.9666561066274733,
           0.9740178817433588,
           0.9788611869074665,
           0.9855531852979221,
           0.9961295178896576,
           1,
           0.9960006450118216,
           0.9933846057442657,
           0.9635515804545469,
           0.8695496837729931
          ],
          [
           0.11459786765560312,
           0.42822919107374063,
           0.9399107838570371,
           0.9498885308428765,
           0.9566728645520993,
           0.9664794956461503,
           0.9842923948065091,
           0.9960006450118216,
           1,
           0.9996681620486142,
           0.9835853831068333,
           0.9093469110577974
          ],
          [
           0.1158565206958304,
           0.426081463872607,
           0.9308679873092237,
           0.9415811371929244,
           0.9489075076779003,
           0.9595900437036738,
           0.9794488729599097,
           0.9933846057442657,
           0.9996681620486142,
           1,
           0.9878969905634774,
           0.9194236082592347
          ],
          [
           0.11999648346018592,
           0.40692692790031526,
           0.8629673692496744,
           0.8779806381156477,
           0.8885023558975165,
           0.9043465389889908,
           0.9363197794803977,
           0.9635515804545469,
           0.9835853831068333,
           0.9878969905634774,
           1,
           0.9674306207301114
          ],
          [
           0.12764562346221067,
           0.359416410420503,
           0.7165314917419464,
           0.7372774420114254,
           0.7521063047182533,
           0.7749513952519942,
           0.8236086728836125,
           0.8695496837729931,
           0.9093469110577974,
           0.9194236082592347,
           0.9674306207301114,
           1
          ]
         ]
        }
       ],
       "layout": {
        "coloraxis": {
         "colorscale": [
          [
           0,
           "rgb(5,48,97)"
          ],
          [
           0.1,
           "rgb(33,102,172)"
          ],
          [
           0.2,
           "rgb(67,147,195)"
          ],
          [
           0.3,
           "rgb(146,197,222)"
          ],
          [
           0.4,
           "rgb(209,229,240)"
          ],
          [
           0.5,
           "rgb(247,247,247)"
          ],
          [
           0.6,
           "rgb(253,219,199)"
          ],
          [
           0.7,
           "rgb(244,165,130)"
          ],
          [
           0.8,
           "rgb(214,96,77)"
          ],
          [
           0.9,
           "rgb(178,24,43)"
          ],
          [
           1,
           "rgb(103,0,31)"
          ]
         ]
        },
        "height": 600,
        "template": {
         "data": {
          "bar": [
           {
            "error_x": {
             "color": "#f2f5fa"
            },
            "error_y": {
             "color": "#f2f5fa"
            },
            "marker": {
             "line": {
              "color": "rgb(17,17,17)",
              "width": 0.5
             },
             "pattern": {
              "fillmode": "overlay",
              "size": 10,
              "solidity": 0.2
             }
            },
            "type": "bar"
           }
          ],
          "barpolar": [
           {
            "marker": {
             "line": {
              "color": "rgb(17,17,17)",
              "width": 0.5
             },
             "pattern": {
              "fillmode": "overlay",
              "size": 10,
              "solidity": 0.2
             }
            },
            "type": "barpolar"
           }
          ],
          "carpet": [
           {
            "aaxis": {
             "endlinecolor": "#A2B1C6",
             "gridcolor": "#506784",
             "linecolor": "#506784",
             "minorgridcolor": "#506784",
             "startlinecolor": "#A2B1C6"
            },
            "baxis": {
             "endlinecolor": "#A2B1C6",
             "gridcolor": "#506784",
             "linecolor": "#506784",
             "minorgridcolor": "#506784",
             "startlinecolor": "#A2B1C6"
            },
            "type": "carpet"
           }
          ],
          "choropleth": [
           {
            "colorbar": {
             "outlinewidth": 0,
             "ticks": ""
            },
            "type": "choropleth"
           }
          ],
          "contour": [
           {
            "colorbar": {
             "outlinewidth": 0,
             "ticks": ""
            },
            "colorscale": [
             [
              0,
              "#0d0887"
             ],
             [
              0.1111111111111111,
              "#46039f"
             ],
             [
              0.2222222222222222,
              "#7201a8"
             ],
             [
              0.3333333333333333,
              "#9c179e"
             ],
             [
              0.4444444444444444,
              "#bd3786"
             ],
             [
              0.5555555555555556,
              "#d8576b"
             ],
             [
              0.6666666666666666,
              "#ed7953"
             ],
             [
              0.7777777777777778,
              "#fb9f3a"
             ],
             [
              0.8888888888888888,
              "#fdca26"
             ],
             [
              1,
              "#f0f921"
             ]
            ],
            "type": "contour"
           }
          ],
          "contourcarpet": [
           {
            "colorbar": {
             "outlinewidth": 0,
             "ticks": ""
            },
            "type": "contourcarpet"
           }
          ],
          "heatmap": [
           {
            "colorbar": {
             "outlinewidth": 0,
             "ticks": ""
            },
            "colorscale": [
             [
              0,
              "#0d0887"
             ],
             [
              0.1111111111111111,
              "#46039f"
             ],
             [
              0.2222222222222222,
              "#7201a8"
             ],
             [
              0.3333333333333333,
              "#9c179e"
             ],
             [
              0.4444444444444444,
              "#bd3786"
             ],
             [
              0.5555555555555556,
              "#d8576b"
             ],
             [
              0.6666666666666666,
              "#ed7953"
             ],
             [
              0.7777777777777778,
              "#fb9f3a"
             ],
             [
              0.8888888888888888,
              "#fdca26"
             ],
             [
              1,
              "#f0f921"
             ]
            ],
            "type": "heatmap"
           }
          ],
          "heatmapgl": [
           {
            "colorbar": {
             "outlinewidth": 0,
             "ticks": ""
            },
            "colorscale": [
             [
              0,
              "#0d0887"
             ],
             [
              0.1111111111111111,
              "#46039f"
             ],
             [
              0.2222222222222222,
              "#7201a8"
             ],
             [
              0.3333333333333333,
              "#9c179e"
             ],
             [
              0.4444444444444444,
              "#bd3786"
             ],
             [
              0.5555555555555556,
              "#d8576b"
             ],
             [
              0.6666666666666666,
              "#ed7953"
             ],
             [
              0.7777777777777778,
              "#fb9f3a"
             ],
             [
              0.8888888888888888,
              "#fdca26"
             ],
             [
              1,
              "#f0f921"
             ]
            ],
            "type": "heatmapgl"
           }
          ],
          "histogram": [
           {
            "marker": {
             "pattern": {
              "fillmode": "overlay",
              "size": 10,
              "solidity": 0.2
             }
            },
            "type": "histogram"
           }
          ],
          "histogram2d": [
           {
            "colorbar": {
             "outlinewidth": 0,
             "ticks": ""
            },
            "colorscale": [
             [
              0,
              "#0d0887"
             ],
             [
              0.1111111111111111,
              "#46039f"
             ],
             [
              0.2222222222222222,
              "#7201a8"
             ],
             [
              0.3333333333333333,
              "#9c179e"
             ],
             [
              0.4444444444444444,
              "#bd3786"
             ],
             [
              0.5555555555555556,
              "#d8576b"
             ],
             [
              0.6666666666666666,
              "#ed7953"
             ],
             [
              0.7777777777777778,
              "#fb9f3a"
             ],
             [
              0.8888888888888888,
              "#fdca26"
             ],
             [
              1,
              "#f0f921"
             ]
            ],
            "type": "histogram2d"
           }
          ],
          "histogram2dcontour": [
           {
            "colorbar": {
             "outlinewidth": 0,
             "ticks": ""
            },
            "colorscale": [
             [
              0,
              "#0d0887"
             ],
             [
              0.1111111111111111,
              "#46039f"
             ],
             [
              0.2222222222222222,
              "#7201a8"
             ],
             [
              0.3333333333333333,
              "#9c179e"
             ],
             [
              0.4444444444444444,
              "#bd3786"
             ],
             [
              0.5555555555555556,
              "#d8576b"
             ],
             [
              0.6666666666666666,
              "#ed7953"
             ],
             [
              0.7777777777777778,
              "#fb9f3a"
             ],
             [
              0.8888888888888888,
              "#fdca26"
             ],
             [
              1,
              "#f0f921"
             ]
            ],
            "type": "histogram2dcontour"
           }
          ],
          "mesh3d": [
           {
            "colorbar": {
             "outlinewidth": 0,
             "ticks": ""
            },
            "type": "mesh3d"
           }
          ],
          "parcoords": [
           {
            "line": {
             "colorbar": {
              "outlinewidth": 0,
              "ticks": ""
             }
            },
            "type": "parcoords"
           }
          ],
          "pie": [
           {
            "automargin": true,
            "type": "pie"
           }
          ],
          "scatter": [
           {
            "marker": {
             "line": {
              "color": "#283442"
             }
            },
            "type": "scatter"
           }
          ],
          "scatter3d": [
           {
            "line": {
             "colorbar": {
              "outlinewidth": 0,
              "ticks": ""
             }
            },
            "marker": {
             "colorbar": {
              "outlinewidth": 0,
              "ticks": ""
             }
            },
            "type": "scatter3d"
           }
          ],
          "scattercarpet": [
           {
            "marker": {
             "colorbar": {
              "outlinewidth": 0,
              "ticks": ""
             }
            },
            "type": "scattercarpet"
           }
          ],
          "scattergeo": [
           {
            "marker": {
             "colorbar": {
              "outlinewidth": 0,
              "ticks": ""
             }
            },
            "type": "scattergeo"
           }
          ],
          "scattergl": [
           {
            "marker": {
             "line": {
              "color": "#283442"
             }
            },
            "type": "scattergl"
           }
          ],
          "scattermapbox": [
           {
            "marker": {
             "colorbar": {
              "outlinewidth": 0,
              "ticks": ""
             }
            },
            "type": "scattermapbox"
           }
          ],
          "scatterpolar": [
           {
            "marker": {
             "colorbar": {
              "outlinewidth": 0,
              "ticks": ""
             }
            },
            "type": "scatterpolar"
           }
          ],
          "scatterpolargl": [
           {
            "marker": {
             "colorbar": {
              "outlinewidth": 0,
              "ticks": ""
             }
            },
            "type": "scatterpolargl"
           }
          ],
          "scatterternary": [
           {
            "marker": {
             "colorbar": {
              "outlinewidth": 0,
              "ticks": ""
             }
            },
            "type": "scatterternary"
           }
          ],
          "surface": [
           {
            "colorbar": {
             "outlinewidth": 0,
             "ticks": ""
            },
            "colorscale": [
             [
              0,
              "#0d0887"
             ],
             [
              0.1111111111111111,
              "#46039f"
             ],
             [
              0.2222222222222222,
              "#7201a8"
             ],
             [
              0.3333333333333333,
              "#9c179e"
             ],
             [
              0.4444444444444444,
              "#bd3786"
             ],
             [
              0.5555555555555556,
              "#d8576b"
             ],
             [
              0.6666666666666666,
              "#ed7953"
             ],
             [
              0.7777777777777778,
              "#fb9f3a"
             ],
             [
              0.8888888888888888,
              "#fdca26"
             ],
             [
              1,
              "#f0f921"
             ]
            ],
            "type": "surface"
           }
          ],
          "table": [
           {
            "cells": {
             "fill": {
              "color": "#506784"
             },
             "line": {
              "color": "rgb(17,17,17)"
             }
            },
            "header": {
             "fill": {
              "color": "#2a3f5f"
             },
             "line": {
              "color": "rgb(17,17,17)"
             }
            },
            "type": "table"
           }
          ]
         },
         "layout": {
          "annotationdefaults": {
           "arrowcolor": "#f2f5fa",
           "arrowhead": 0,
           "arrowwidth": 1
          },
          "autotypenumbers": "strict",
          "coloraxis": {
           "colorbar": {
            "outlinewidth": 0,
            "ticks": ""
           }
          },
          "colorscale": {
           "diverging": [
            [
             0,
             "#8e0152"
            ],
            [
             0.1,
             "#c51b7d"
            ],
            [
             0.2,
             "#de77ae"
            ],
            [
             0.3,
             "#f1b6da"
            ],
            [
             0.4,
             "#fde0ef"
            ],
            [
             0.5,
             "#f7f7f7"
            ],
            [
             0.6,
             "#e6f5d0"
            ],
            [
             0.7,
             "#b8e186"
            ],
            [
             0.8,
             "#7fbc41"
            ],
            [
             0.9,
             "#4d9221"
            ],
            [
             1,
             "#276419"
            ]
           ],
           "sequential": [
            [
             0,
             "#0d0887"
            ],
            [
             0.1111111111111111,
             "#46039f"
            ],
            [
             0.2222222222222222,
             "#7201a8"
            ],
            [
             0.3333333333333333,
             "#9c179e"
            ],
            [
             0.4444444444444444,
             "#bd3786"
            ],
            [
             0.5555555555555556,
             "#d8576b"
            ],
            [
             0.6666666666666666,
             "#ed7953"
            ],
            [
             0.7777777777777778,
             "#fb9f3a"
            ],
            [
             0.8888888888888888,
             "#fdca26"
            ],
            [
             1,
             "#f0f921"
            ]
           ],
           "sequentialminus": [
            [
             0,
             "#0d0887"
            ],
            [
             0.1111111111111111,
             "#46039f"
            ],
            [
             0.2222222222222222,
             "#7201a8"
            ],
            [
             0.3333333333333333,
             "#9c179e"
            ],
            [
             0.4444444444444444,
             "#bd3786"
            ],
            [
             0.5555555555555556,
             "#d8576b"
            ],
            [
             0.6666666666666666,
             "#ed7953"
            ],
            [
             0.7777777777777778,
             "#fb9f3a"
            ],
            [
             0.8888888888888888,
             "#fdca26"
            ],
            [
             1,
             "#f0f921"
            ]
           ]
          },
          "colorway": [
           "#636efa",
           "#EF553B",
           "#00cc96",
           "#ab63fa",
           "#FFA15A",
           "#19d3f3",
           "#FF6692",
           "#B6E880",
           "#FF97FF",
           "#FECB52"
          ],
          "font": {
           "color": "#f2f5fa"
          },
          "geo": {
           "bgcolor": "rgb(17,17,17)",
           "lakecolor": "rgb(17,17,17)",
           "landcolor": "rgb(17,17,17)",
           "showlakes": true,
           "showland": true,
           "subunitcolor": "#506784"
          },
          "hoverlabel": {
           "align": "left"
          },
          "hovermode": "closest",
          "mapbox": {
           "style": "dark"
          },
          "paper_bgcolor": "rgb(17,17,17)",
          "plot_bgcolor": "rgb(17,17,17)",
          "polar": {
           "angularaxis": {
            "gridcolor": "#506784",
            "linecolor": "#506784",
            "ticks": ""
           },
           "bgcolor": "rgb(17,17,17)",
           "radialaxis": {
            "gridcolor": "#506784",
            "linecolor": "#506784",
            "ticks": ""
           }
          },
          "scene": {
           "xaxis": {
            "backgroundcolor": "rgb(17,17,17)",
            "gridcolor": "#506784",
            "gridwidth": 2,
            "linecolor": "#506784",
            "showbackground": true,
            "ticks": "",
            "zerolinecolor": "#C8D4E3"
           },
           "yaxis": {
            "backgroundcolor": "rgb(17,17,17)",
            "gridcolor": "#506784",
            "gridwidth": 2,
            "linecolor": "#506784",
            "showbackground": true,
            "ticks": "",
            "zerolinecolor": "#C8D4E3"
           },
           "zaxis": {
            "backgroundcolor": "rgb(17,17,17)",
            "gridcolor": "#506784",
            "gridwidth": 2,
            "linecolor": "#506784",
            "showbackground": true,
            "ticks": "",
            "zerolinecolor": "#C8D4E3"
           }
          },
          "shapedefaults": {
           "line": {
            "color": "#f2f5fa"
           }
          },
          "sliderdefaults": {
           "bgcolor": "#C8D4E3",
           "bordercolor": "rgb(17,17,17)",
           "borderwidth": 1,
           "tickwidth": 0
          },
          "ternary": {
           "aaxis": {
            "gridcolor": "#506784",
            "linecolor": "#506784",
            "ticks": ""
           },
           "baxis": {
            "gridcolor": "#506784",
            "linecolor": "#506784",
            "ticks": ""
           },
           "bgcolor": "rgb(17,17,17)",
           "caxis": {
            "gridcolor": "#506784",
            "linecolor": "#506784",
            "ticks": ""
           }
          },
          "title": {
           "x": 0.05
          },
          "updatemenudefaults": {
           "bgcolor": "#506784",
           "borderwidth": 0
          },
          "xaxis": {
           "automargin": true,
           "gridcolor": "#283442",
           "linecolor": "#506784",
           "ticks": "",
           "title": {
            "standoff": 15
           },
           "zerolinecolor": "#283442",
           "zerolinewidth": 2
          },
          "yaxis": {
           "automargin": true,
           "gridcolor": "#283442",
           "linecolor": "#506784",
           "ticks": "",
           "title": {
            "standoff": 15
           },
           "zerolinecolor": "#283442",
           "zerolinewidth": 2
          }
         }
        },
        "title": {
         "text": "Correlation Heatmap: Target vs Inflation to Unemployment Ratio"
        },
        "width": 1000,
        "xaxis": {
         "anchor": "y",
         "constrain": "domain",
         "domain": [
          0,
          1
         ],
         "scaleanchor": "y"
        },
        "yaxis": {
         "anchor": "x",
         "autorange": "reversed",
         "constrain": "domain",
         "domain": [
          0,
          1
         ]
        }
       }
      }
     },
     "metadata": {},
     "output_type": "display_data"
    }
   ],
   "source": [
    "# Variables to compare\n",
    "variables_to_compare = [ 'inflation_to_unemployment_2000', 'inflation_to_unemployment_2014', 'inflation_to_unemployment_2015', \n",
    "                        'inflation_to_unemployment_2016', 'inflation_to_unemployment_2017', 'inflation_to_unemployment_2018', \n",
    "                        'inflation_to_unemployment_2019', 'inflation_to_unemployment_2020', 'inflation_to_unemployment_2021', \n",
    "                        'inflation_to_unemployment_2022', 'inflation_to_unemployment_2023']\n",
    "\n",
    "# Compute the correlation matrix for 'target' and the selected variables\n",
    "columns_to_use = ['target'] + variables_to_compare\n",
    "df_corr_matrix = df[columns_to_use].corr()\n",
    "\n",
    "# Take the absolute values of the correlation matrix\n",
    "df_corr_matrix_abs = df_corr_matrix.abs()\n",
    "\n",
    "fig = px.imshow(df_corr_matrix_abs, \n",
    "                color_continuous_scale='RdBu_r', \n",
    "                title=\"Correlation Heatmap: Target vs Inflation to Unemployment Ratio\", \n",
    "                template='plotly_dark', \n",
    "                width=1000, \n",
    "                height=600)  \n",
    "\n",
    "fig.show()\n"
   ]
  },
  {
   "cell_type": "code",
   "execution_count": 46,
   "metadata": {},
   "outputs": [
    {
     "name": "stdout",
     "output_type": "stream",
     "text": [
      "['unemployment_2000', 'unemployment_2014', 'unemployment_2015', 'unemployment_2016', 'unemployment_2017', 'unemployment_2018', 'unemployment_2019', 'unemployment_2020', 'unemployment_2021', 'unemployment_2022', 'unemployment_2023', 'current_account_balance_1990', 'current_account_balance_2000', 'current_account_balance_2014', 'current_account_balance_2015', 'current_account_balance_2016', 'current_account_balance_2017', 'current_account_balance_2018', 'current_account_balance_2019', 'current_account_balance_2020', 'current_account_balance_2021', 'current_account_balance_2022', 'current_account_balance_2023', 'exchange_rate_usd_1990', 'exchange_rate_usd_2000', 'exchange_rate_usd_2014', 'exchange_rate_usd_2015', 'exchange_rate_usd_2016', 'exchange_rate_usd_2017', 'exchange_rate_usd_2018', 'exchange_rate_usd_2019', 'exchange_rate_usd_2020', 'exchange_rate_usd_2021', 'exchange_rate_usd_2022', 'exchange_rate_usd_2023', 'gdp_1990', 'gdp_2000', 'gdp_2014', 'gdp_2015', 'gdp_2016', 'gdp_2017', 'gdp_2018', 'gdp_2019', 'gdp_2020', 'gdp_2021', 'gdp_2022', 'gdp_2023', 'inflation_1990', 'inflation_2000', 'inflation_2014', 'inflation_2015', 'inflation_2016', 'inflation_2017', 'inflation_2018', 'inflation_2019', 'inflation_2020', 'inflation_2021', 'inflation_2022', 'inflation_2023', 'total_reserves_1990', 'total_reserves_2000', 'total_reserves_2014', 'total_reserves_2015', 'total_reserves_2016', 'total_reserves_2017', 'total_reserves_2018', 'total_reserves_2019', 'total_reserves_2020', 'total_reserves_2021', 'total_reserves_2022', 'total_reserves_2023', 'target', 'cab_to_gdp_1990', 'cab_to_gdp_2000', 'cab_to_gdp_2014', 'cab_to_gdp_2015', 'cab_to_gdp_2016', 'cab_to_gdp_2017', 'cab_to_gdp_2018', 'cab_to_gdp_2019', 'cab_to_gdp_2020', 'cab_to_gdp_2021', 'cab_to_gdp_2022', 'cab_to_gdp_2023', 'reserves_to_gdp_1990', 'reserves_to_gdp_2000', 'reserves_to_gdp_2014', 'reserves_to_gdp_2015', 'reserves_to_gdp_2016', 'reserves_to_gdp_2017', 'reserves_to_gdp_2018', 'reserves_to_gdp_2019', 'reserves_to_gdp_2020', 'reserves_to_gdp_2021', 'reserves_to_gdp_2022', 'reserves_to_gdp_2023', 'gdp_growth_2014_2015', 'gdp_growth_2015_2016', 'gdp_growth_2016_2017', 'gdp_growth_2017_2018', 'gdp_growth_2018_2019', 'gdp_growth_2019_2020', 'gdp_growth_2020_2021', 'gdp_growth_2021_2022', 'gdp_growth_2022_2023', 'inflation_to_unemployment_2000', 'inflation_to_unemployment_2014', 'inflation_to_unemployment_2015', 'inflation_to_unemployment_2016', 'inflation_to_unemployment_2017', 'inflation_to_unemployment_2018', 'inflation_to_unemployment_2019', 'inflation_to_unemployment_2020', 'inflation_to_unemployment_2021', 'inflation_to_unemployment_2022', 'inflation_to_unemployment_2023']\n"
     ]
    }
   ],
   "source": [
    "column_list = df.columns.tolist()\n",
    "print(column_list)"
   ]
  },
  {
   "cell_type": "markdown",
   "metadata": {},
   "source": [
    "## Feature Selection "
   ]
  },
  {
   "cell_type": "markdown",
   "metadata": {},
   "source": [
    "Our goal is to remove redundant and irrelevant variables from our dataframe to avoid having too much noise and use too much computational power for nothing. \n",
    "As we have many values with a correlation with the target below 0.3, we will put a low threshold for irrelevance. "
   ]
  },
  {
   "cell_type": "code",
   "execution_count": 47,
   "metadata": {},
   "outputs": [],
   "source": [
    "irrelevance_threshold = 0.05\n",
    "redundancy_threshold = 0.95"
   ]
  },
  {
   "cell_type": "code",
   "execution_count": 48,
   "metadata": {},
   "outputs": [],
   "source": [
    "# Remove irrelevant variables\n",
    "correlations_with_target = df.corr()['target'].abs()  # Absolute correlations with the target\n",
    "relevant_vars = correlations_with_target[correlations_with_target >= irrelevance_threshold].index.tolist()\n",
    "\n",
    "# Filter the dataframe to include only relevant variables\n",
    "filtered_df = df[relevant_vars]"
   ]
  },
  {
   "cell_type": "code",
   "execution_count": 49,
   "metadata": {},
   "outputs": [],
   "source": [
    "# Remove redundant variables (highly correlated with each other, but not with the target)\n",
    "correlation_matrix = filtered_df.corr().abs()  # Compute absolute correlation matrix\n",
    "np.fill_diagonal(correlation_matrix.values, 0)  # Fill diagonal with 0 to ignore self-correlation\n",
    "\n",
    "# Keep track of variables to drop\n",
    "variables_to_drop = set()\n",
    "\n",
    "# Iterate through variables to find redundancies\n",
    "for col in correlation_matrix.columns:\n",
    "    if col not in variables_to_drop:\n",
    "        # Find variables highly correlated with the current variable\n",
    "        redundant_vars = correlation_matrix[col][correlation_matrix[col] > redundancy_threshold].index.tolist()\n",
    "        # For redundant variables, keep the one most correlated with the target\n",
    "        for redundant_var in redundant_vars:\n",
    "            if redundant_var != col:\n",
    "                # Compare correlation with target\n",
    "                if correlations_with_target[col] >= correlations_with_target[redundant_var]:\n",
    "                    variables_to_drop.add(redundant_var)  # Drop the redundant variable\n",
    "                else:\n",
    "                    variables_to_drop.add(col)\n",
    "\n",
    "# Final list of variables after removing irrelevant and redundant variables\n",
    "final_vars = [var for var in filtered_df.columns if var not in variables_to_drop]\n",
    "\n",
    "# Create the final dataframe\n",
    "feature_selection_df = df[final_vars].copy()\n",
    "feature_selection_df['target'] = df['target']\n"
   ]
  },
  {
   "cell_type": "code",
   "execution_count": 50,
   "metadata": {},
   "outputs": [
    {
     "data": {
      "text/html": [
       "<div>\n",
       "<style scoped>\n",
       "    .dataframe tbody tr th:only-of-type {\n",
       "        vertical-align: middle;\n",
       "    }\n",
       "\n",
       "    .dataframe tbody tr th {\n",
       "        vertical-align: top;\n",
       "    }\n",
       "\n",
       "    .dataframe thead th {\n",
       "        text-align: right;\n",
       "    }\n",
       "</style>\n",
       "<table border=\"1\" class=\"dataframe\">\n",
       "  <thead>\n",
       "    <tr style=\"text-align: right;\">\n",
       "      <th></th>\n",
       "      <th>unemployment_2000</th>\n",
       "      <th>unemployment_2019</th>\n",
       "      <th>exchange_rate_usd_1990</th>\n",
       "      <th>exchange_rate_usd_2022</th>\n",
       "      <th>gdp_1990</th>\n",
       "      <th>gdp_2014</th>\n",
       "      <th>total_reserves_1990</th>\n",
       "      <th>total_reserves_2000</th>\n",
       "      <th>total_reserves_2021</th>\n",
       "      <th>target</th>\n",
       "      <th>...</th>\n",
       "      <th>reserves_to_gdp_2015</th>\n",
       "      <th>gdp_growth_2014_2015</th>\n",
       "      <th>gdp_growth_2015_2016</th>\n",
       "      <th>gdp_growth_2016_2017</th>\n",
       "      <th>gdp_growth_2017_2018</th>\n",
       "      <th>gdp_growth_2018_2019</th>\n",
       "      <th>gdp_growth_2019_2020</th>\n",
       "      <th>gdp_growth_2020_2021</th>\n",
       "      <th>gdp_growth_2021_2022</th>\n",
       "      <th>inflation_to_unemployment_2023</th>\n",
       "    </tr>\n",
       "    <tr>\n",
       "      <th>Country</th>\n",
       "      <th></th>\n",
       "      <th></th>\n",
       "      <th></th>\n",
       "      <th></th>\n",
       "      <th></th>\n",
       "      <th></th>\n",
       "      <th></th>\n",
       "      <th></th>\n",
       "      <th></th>\n",
       "      <th></th>\n",
       "      <th></th>\n",
       "      <th></th>\n",
       "      <th></th>\n",
       "      <th></th>\n",
       "      <th></th>\n",
       "      <th></th>\n",
       "      <th></th>\n",
       "      <th></th>\n",
       "      <th></th>\n",
       "      <th></th>\n",
       "      <th></th>\n",
       "    </tr>\n",
       "  </thead>\n",
       "  <tbody>\n",
       "    <tr>\n",
       "      <th>Australia</th>\n",
       "      <td>6.288000</td>\n",
       "      <td>5.159000</td>\n",
       "      <td>1.281057e+00</td>\n",
       "      <td>1.441664e+00</td>\n",
       "      <td>3.114267e+11</td>\n",
       "      <td>1.468265e+12</td>\n",
       "      <td>1.931874e+10</td>\n",
       "      <td>1.882155e+10</td>\n",
       "      <td>5.787750e+10</td>\n",
       "      <td>0</td>\n",
       "      <td>...</td>\n",
       "      <td>0.033602</td>\n",
       "      <td>-0.079665</td>\n",
       "      <td>-0.106904</td>\n",
       "      <td>0.098394</td>\n",
       "      <td>0.077118</td>\n",
       "      <td>-0.024573</td>\n",
       "      <td>-0.046176</td>\n",
       "      <td>0.171875</td>\n",
       "      <td>0.086156</td>\n",
       "      <td>1.526320e+00</td>\n",
       "    </tr>\n",
       "    <tr>\n",
       "      <th>Canada</th>\n",
       "      <td>6.829000</td>\n",
       "      <td>5.690000</td>\n",
       "      <td>1.166774e+00</td>\n",
       "      <td>1.301555e+00</td>\n",
       "      <td>5.960756e+11</td>\n",
       "      <td>1.805750e+12</td>\n",
       "      <td>2.352952e+10</td>\n",
       "      <td>3.242727e+10</td>\n",
       "      <td>1.066151e+11</td>\n",
       "      <td>0</td>\n",
       "      <td>...</td>\n",
       "      <td>0.051239</td>\n",
       "      <td>-0.138026</td>\n",
       "      <td>-0.018319</td>\n",
       "      <td>0.079366</td>\n",
       "      <td>0.046120</td>\n",
       "      <td>0.010662</td>\n",
       "      <td>-0.050490</td>\n",
       "      <td>0.212472</td>\n",
       "      <td>0.076719</td>\n",
       "      <td>7.228851e-01</td>\n",
       "    </tr>\n",
       "    <tr>\n",
       "      <th>Denmark</th>\n",
       "      <td>4.476000</td>\n",
       "      <td>5.018000</td>\n",
       "      <td>6.188558e+00</td>\n",
       "      <td>7.076152e+00</td>\n",
       "      <td>1.382177e+11</td>\n",
       "      <td>3.528326e+11</td>\n",
       "      <td>1.122584e+10</td>\n",
       "      <td>1.569595e+10</td>\n",
       "      <td>8.223584e+10</td>\n",
       "      <td>0</td>\n",
       "      <td>...</td>\n",
       "      <td>0.216017</td>\n",
       "      <td>-0.144753</td>\n",
       "      <td>0.034541</td>\n",
       "      <td>0.062235</td>\n",
       "      <td>0.071417</td>\n",
       "      <td>-0.027842</td>\n",
       "      <td>0.029616</td>\n",
       "      <td>0.148320</td>\n",
       "      <td>-0.015752</td>\n",
       "      <td>6.427807e-01</td>\n",
       "    </tr>\n",
       "    <tr>\n",
       "      <th>Germany</th>\n",
       "      <td>7.917000</td>\n",
       "      <td>3.136000</td>\n",
       "      <td>1.615733e+00</td>\n",
       "      <td>1.481802e+12</td>\n",
       "      <td>1.778162e+12</td>\n",
       "      <td>3.965801e+12</td>\n",
       "      <td>1.045473e+11</td>\n",
       "      <td>8.749687e+10</td>\n",
       "      <td>2.957362e+11</td>\n",
       "      <td>0</td>\n",
       "      <td>...</td>\n",
       "      <td>0.050746</td>\n",
       "      <td>-0.136727</td>\n",
       "      <td>0.033362</td>\n",
       "      <td>0.063686</td>\n",
       "      <td>0.076776</td>\n",
       "      <td>-0.023396</td>\n",
       "      <td>-0.004313</td>\n",
       "      <td>0.103589</td>\n",
       "      <td>-0.042477</td>\n",
       "      <td>1.952853e+00</td>\n",
       "    </tr>\n",
       "    <tr>\n",
       "      <th>Liechtenstein</th>\n",
       "      <td>9.640537</td>\n",
       "      <td>8.244777</td>\n",
       "      <td>1.840786e+08</td>\n",
       "      <td>2.368620e+10</td>\n",
       "      <td>1.421509e+09</td>\n",
       "      <td>6.657527e+09</td>\n",
       "      <td>3.544428e+09</td>\n",
       "      <td>3.271780e+09</td>\n",
       "      <td>1.090593e+09</td>\n",
       "      <td>0</td>\n",
       "      <td>...</td>\n",
       "      <td>0.434949</td>\n",
       "      <td>-0.058432</td>\n",
       "      <td>-0.004979</td>\n",
       "      <td>0.037998</td>\n",
       "      <td>0.033720</td>\n",
       "      <td>-0.038274</td>\n",
       "      <td>-0.004754</td>\n",
       "      <td>0.203643</td>\n",
       "      <td>-0.045248</td>\n",
       "      <td>4.791054e+08</td>\n",
       "    </tr>\n",
       "    <tr>\n",
       "      <th>...</th>\n",
       "      <td>...</td>\n",
       "      <td>...</td>\n",
       "      <td>...</td>\n",
       "      <td>...</td>\n",
       "      <td>...</td>\n",
       "      <td>...</td>\n",
       "      <td>...</td>\n",
       "      <td>...</td>\n",
       "      <td>...</td>\n",
       "      <td>...</td>\n",
       "      <td>...</td>\n",
       "      <td>...</td>\n",
       "      <td>...</td>\n",
       "      <td>...</td>\n",
       "      <td>...</td>\n",
       "      <td>...</td>\n",
       "      <td>...</td>\n",
       "      <td>...</td>\n",
       "      <td>...</td>\n",
       "      <td>...</td>\n",
       "      <td>...</td>\n",
       "    </tr>\n",
       "    <tr>\n",
       "      <th>Sri Lanka</th>\n",
       "      <td>7.740000</td>\n",
       "      <td>4.670000</td>\n",
       "      <td>4.006292e+01</td>\n",
       "      <td>3.226327e+02</td>\n",
       "      <td>8.032551e+09</td>\n",
       "      <td>8.252854e+10</td>\n",
       "      <td>4.470305e+08</td>\n",
       "      <td>1.131355e+09</td>\n",
       "      <td>3.136992e+09</td>\n",
       "      <td>1</td>\n",
       "      <td>...</td>\n",
       "      <td>0.085765</td>\n",
       "      <td>0.031655</td>\n",
       "      <td>0.033724</td>\n",
       "      <td>0.072308</td>\n",
       "      <td>0.001246</td>\n",
       "      <td>-0.057981</td>\n",
       "      <td>-0.052920</td>\n",
       "      <td>0.051065</td>\n",
       "      <td>-0.163239</td>\n",
       "      <td>2.600814e+00</td>\n",
       "    </tr>\n",
       "    <tr>\n",
       "      <th>Ukraine</th>\n",
       "      <td>11.707000</td>\n",
       "      <td>8.194000</td>\n",
       "      <td>1.952346e-02</td>\n",
       "      <td>3.234230e+01</td>\n",
       "      <td>8.139356e+10</td>\n",
       "      <td>1.335039e+11</td>\n",
       "      <td>7.386012e+08</td>\n",
       "      <td>1.477202e+09</td>\n",
       "      <td>3.096667e+10</td>\n",
       "      <td>1</td>\n",
       "      <td>...</td>\n",
       "      <td>0.146114</td>\n",
       "      <td>-0.318140</td>\n",
       "      <td>0.025540</td>\n",
       "      <td>0.200680</td>\n",
       "      <td>0.167727</td>\n",
       "      <td>0.175657</td>\n",
       "      <td>0.017771</td>\n",
       "      <td>0.275500</td>\n",
       "      <td>-0.189103</td>\n",
       "      <td>1.838311e+00</td>\n",
       "    </tr>\n",
       "    <tr>\n",
       "      <th>Lebanon</th>\n",
       "      <td>8.594000</td>\n",
       "      <td>11.301000</td>\n",
       "      <td>6.950892e+02</td>\n",
       "      <td>1.507500e+03</td>\n",
       "      <td>2.838485e+09</td>\n",
       "      <td>4.809521e+10</td>\n",
       "      <td>4.210389e+09</td>\n",
       "      <td>8.474638e+09</td>\n",
       "      <td>3.523922e+10</td>\n",
       "      <td>1</td>\n",
       "      <td>...</td>\n",
       "      <td>0.972001</td>\n",
       "      <td>0.038135</td>\n",
       "      <td>0.024394</td>\n",
       "      <td>0.036764</td>\n",
       "      <td>0.035337</td>\n",
       "      <td>-0.060027</td>\n",
       "      <td>-0.385495</td>\n",
       "      <td>-0.270565</td>\n",
       "      <td>-0.092492</td>\n",
       "      <td>1.913892e+01</td>\n",
       "    </tr>\n",
       "    <tr>\n",
       "      <th>Puerto Rico</th>\n",
       "      <td>10.080000</td>\n",
       "      <td>8.300000</td>\n",
       "      <td>1.591404e+10</td>\n",
       "      <td>2.815561e+10</td>\n",
       "      <td>3.060392e+10</td>\n",
       "      <td>1.020000e+11</td>\n",
       "      <td>5.900000e+10</td>\n",
       "      <td>5.446154e+10</td>\n",
       "      <td>1.815385e+10</td>\n",
       "      <td>1</td>\n",
       "      <td>...</td>\n",
       "      <td>0.440627</td>\n",
       "      <td>0.009804</td>\n",
       "      <td>0.009709</td>\n",
       "      <td>-0.009615</td>\n",
       "      <td>-0.019417</td>\n",
       "      <td>0.039604</td>\n",
       "      <td>-0.019048</td>\n",
       "      <td>0.029126</td>\n",
       "      <td>0.075472</td>\n",
       "      <td>1.065724e+10</td>\n",
       "    </tr>\n",
       "    <tr>\n",
       "      <th>Grenada</th>\n",
       "      <td>9.640537</td>\n",
       "      <td>8.244777</td>\n",
       "      <td>2.700000e+00</td>\n",
       "      <td>2.700000e+00</td>\n",
       "      <td>2.780988e+08</td>\n",
       "      <td>9.114963e+08</td>\n",
       "      <td>1.757889e+07</td>\n",
       "      <td>5.766000e+07</td>\n",
       "      <td>3.482592e+08</td>\n",
       "      <td>1</td>\n",
       "      <td>...</td>\n",
       "      <td>0.198568</td>\n",
       "      <td>0.093814</td>\n",
       "      <td>0.064827</td>\n",
       "      <td>0.060326</td>\n",
       "      <td>0.036271</td>\n",
       "      <td>0.040266</td>\n",
       "      <td>-0.140153</td>\n",
       "      <td>0.076086</td>\n",
       "      <td>0.090646</td>\n",
       "      <td>3.384074e-01</td>\n",
       "    </tr>\n",
       "  </tbody>\n",
       "</table>\n",
       "<p>127 rows × 23 columns</p>\n",
       "</div>"
      ],
      "text/plain": [
       "               unemployment_2000  unemployment_2019  exchange_rate_usd_1990  \\\n",
       "Country                                                                       \n",
       "Australia               6.288000           5.159000            1.281057e+00   \n",
       "Canada                  6.829000           5.690000            1.166774e+00   \n",
       "Denmark                 4.476000           5.018000            6.188558e+00   \n",
       "Germany                 7.917000           3.136000            1.615733e+00   \n",
       "Liechtenstein           9.640537           8.244777            1.840786e+08   \n",
       "...                          ...                ...                     ...   \n",
       "Sri Lanka               7.740000           4.670000            4.006292e+01   \n",
       "Ukraine                11.707000           8.194000            1.952346e-02   \n",
       "Lebanon                 8.594000          11.301000            6.950892e+02   \n",
       "Puerto Rico            10.080000           8.300000            1.591404e+10   \n",
       "Grenada                 9.640537           8.244777            2.700000e+00   \n",
       "\n",
       "               exchange_rate_usd_2022      gdp_1990      gdp_2014  \\\n",
       "Country                                                             \n",
       "Australia                1.441664e+00  3.114267e+11  1.468265e+12   \n",
       "Canada                   1.301555e+00  5.960756e+11  1.805750e+12   \n",
       "Denmark                  7.076152e+00  1.382177e+11  3.528326e+11   \n",
       "Germany                  1.481802e+12  1.778162e+12  3.965801e+12   \n",
       "Liechtenstein            2.368620e+10  1.421509e+09  6.657527e+09   \n",
       "...                               ...           ...           ...   \n",
       "Sri Lanka                3.226327e+02  8.032551e+09  8.252854e+10   \n",
       "Ukraine                  3.234230e+01  8.139356e+10  1.335039e+11   \n",
       "Lebanon                  1.507500e+03  2.838485e+09  4.809521e+10   \n",
       "Puerto Rico              2.815561e+10  3.060392e+10  1.020000e+11   \n",
       "Grenada                  2.700000e+00  2.780988e+08  9.114963e+08   \n",
       "\n",
       "               total_reserves_1990  total_reserves_2000  total_reserves_2021  \\\n",
       "Country                                                                        \n",
       "Australia             1.931874e+10         1.882155e+10         5.787750e+10   \n",
       "Canada                2.352952e+10         3.242727e+10         1.066151e+11   \n",
       "Denmark               1.122584e+10         1.569595e+10         8.223584e+10   \n",
       "Germany               1.045473e+11         8.749687e+10         2.957362e+11   \n",
       "Liechtenstein         3.544428e+09         3.271780e+09         1.090593e+09   \n",
       "...                            ...                  ...                  ...   \n",
       "Sri Lanka             4.470305e+08         1.131355e+09         3.136992e+09   \n",
       "Ukraine               7.386012e+08         1.477202e+09         3.096667e+10   \n",
       "Lebanon               4.210389e+09         8.474638e+09         3.523922e+10   \n",
       "Puerto Rico           5.900000e+10         5.446154e+10         1.815385e+10   \n",
       "Grenada               1.757889e+07         5.766000e+07         3.482592e+08   \n",
       "\n",
       "               target  ...  reserves_to_gdp_2015  gdp_growth_2014_2015  \\\n",
       "Country                ...                                               \n",
       "Australia           0  ...              0.033602             -0.079665   \n",
       "Canada              0  ...              0.051239             -0.138026   \n",
       "Denmark             0  ...              0.216017             -0.144753   \n",
       "Germany             0  ...              0.050746             -0.136727   \n",
       "Liechtenstein       0  ...              0.434949             -0.058432   \n",
       "...               ...  ...                   ...                   ...   \n",
       "Sri Lanka           1  ...              0.085765              0.031655   \n",
       "Ukraine             1  ...              0.146114             -0.318140   \n",
       "Lebanon             1  ...              0.972001              0.038135   \n",
       "Puerto Rico         1  ...              0.440627              0.009804   \n",
       "Grenada             1  ...              0.198568              0.093814   \n",
       "\n",
       "               gdp_growth_2015_2016  gdp_growth_2016_2017  \\\n",
       "Country                                                     \n",
       "Australia                 -0.106904              0.098394   \n",
       "Canada                    -0.018319              0.079366   \n",
       "Denmark                    0.034541              0.062235   \n",
       "Germany                    0.033362              0.063686   \n",
       "Liechtenstein             -0.004979              0.037998   \n",
       "...                             ...                   ...   \n",
       "Sri Lanka                  0.033724              0.072308   \n",
       "Ukraine                    0.025540              0.200680   \n",
       "Lebanon                    0.024394              0.036764   \n",
       "Puerto Rico                0.009709             -0.009615   \n",
       "Grenada                    0.064827              0.060326   \n",
       "\n",
       "               gdp_growth_2017_2018  gdp_growth_2018_2019  \\\n",
       "Country                                                     \n",
       "Australia                  0.077118             -0.024573   \n",
       "Canada                     0.046120              0.010662   \n",
       "Denmark                    0.071417             -0.027842   \n",
       "Germany                    0.076776             -0.023396   \n",
       "Liechtenstein              0.033720             -0.038274   \n",
       "...                             ...                   ...   \n",
       "Sri Lanka                  0.001246             -0.057981   \n",
       "Ukraine                    0.167727              0.175657   \n",
       "Lebanon                    0.035337             -0.060027   \n",
       "Puerto Rico               -0.019417              0.039604   \n",
       "Grenada                    0.036271              0.040266   \n",
       "\n",
       "               gdp_growth_2019_2020  gdp_growth_2020_2021  \\\n",
       "Country                                                     \n",
       "Australia                 -0.046176              0.171875   \n",
       "Canada                    -0.050490              0.212472   \n",
       "Denmark                    0.029616              0.148320   \n",
       "Germany                   -0.004313              0.103589   \n",
       "Liechtenstein             -0.004754              0.203643   \n",
       "...                             ...                   ...   \n",
       "Sri Lanka                 -0.052920              0.051065   \n",
       "Ukraine                    0.017771              0.275500   \n",
       "Lebanon                   -0.385495             -0.270565   \n",
       "Puerto Rico               -0.019048              0.029126   \n",
       "Grenada                   -0.140153              0.076086   \n",
       "\n",
       "               gdp_growth_2021_2022  inflation_to_unemployment_2023  \n",
       "Country                                                              \n",
       "Australia                  0.086156                    1.526320e+00  \n",
       "Canada                     0.076719                    7.228851e-01  \n",
       "Denmark                   -0.015752                    6.427807e-01  \n",
       "Germany                   -0.042477                    1.952853e+00  \n",
       "Liechtenstein             -0.045248                    4.791054e+08  \n",
       "...                             ...                             ...  \n",
       "Sri Lanka                 -0.163239                    2.600814e+00  \n",
       "Ukraine                   -0.189103                    1.838311e+00  \n",
       "Lebanon                   -0.092492                    1.913892e+01  \n",
       "Puerto Rico                0.075472                    1.065724e+10  \n",
       "Grenada                    0.090646                    3.384074e-01  \n",
       "\n",
       "[127 rows x 23 columns]"
      ]
     },
     "execution_count": 50,
     "metadata": {},
     "output_type": "execute_result"
    }
   ],
   "source": [
    "feature_selection_df"
   ]
  },
  {
   "cell_type": "code",
   "execution_count": 51,
   "metadata": {},
   "outputs": [
    {
     "data": {
      "application/vnd.plotly.v1+json": {
       "config": {
        "plotlyServerURL": "https://plot.ly"
       },
       "data": [
        {
         "coloraxis": "coloraxis",
         "hovertemplate": "x: %{x}<br>y: %{y}<br>Correlation: %{z}<extra></extra>",
         "name": "0",
         "type": "heatmap",
         "x": [
          "target",
          "unemployment_2000",
          "unemployment_2019",
          "exchange_rate_usd_1990",
          "exchange_rate_usd_2022",
          "gdp_1990",
          "gdp_2014",
          "total_reserves_1990",
          "total_reserves_2000",
          "total_reserves_2021",
          "cab_to_gdp_2000",
          "reserves_to_gdp_1990",
          "reserves_to_gdp_2000",
          "reserves_to_gdp_2015",
          "gdp_growth_2014_2015",
          "gdp_growth_2015_2016",
          "gdp_growth_2016_2017",
          "gdp_growth_2017_2018",
          "gdp_growth_2018_2019",
          "gdp_growth_2019_2020",
          "gdp_growth_2020_2021",
          "gdp_growth_2021_2022",
          "inflation_to_unemployment_2023"
         ],
         "xaxis": "x",
         "y": [
          "target",
          "unemployment_2000",
          "unemployment_2019",
          "exchange_rate_usd_1990",
          "exchange_rate_usd_2022",
          "gdp_1990",
          "gdp_2014",
          "total_reserves_1990",
          "total_reserves_2000",
          "total_reserves_2021",
          "cab_to_gdp_2000",
          "reserves_to_gdp_1990",
          "reserves_to_gdp_2000",
          "reserves_to_gdp_2015",
          "gdp_growth_2014_2015",
          "gdp_growth_2015_2016",
          "gdp_growth_2016_2017",
          "gdp_growth_2017_2018",
          "gdp_growth_2018_2019",
          "gdp_growth_2019_2020",
          "gdp_growth_2020_2021",
          "gdp_growth_2021_2022",
          "inflation_to_unemployment_2023"
         ],
         "yaxis": "y",
         "z": [
          [
           1,
           0.10690193720440207,
           0.22824426795162275,
           0.08877121111441649,
           0.20496437667018436,
           0.2255588933936942,
           0.23640835385154815,
           0.32436689028239735,
           0.2971058343796963,
           0.24509703007852582,
           0.05033863844418013,
           0.13552902961795532,
           0.15082726517445766,
           0.19228778417198097,
           0.17923123625399137,
           0.10162582626670132,
           0.055021822846762346,
           0.130217768051234,
           0.2068425297286513,
           0.0995975205900806,
           0.198823676300067,
           0.2735701126143555,
           0.12764562346221067
          ],
          [
           0.10690193720440207,
           1,
           0.6800418683722572,
           0.03244181401647321,
           0.04088136934934137,
           0.08923108311363001,
           0.12402086575285431,
           0.09990636376065073,
           0.13511927317128553,
           0.15643626584694562,
           0.05531144963975426,
           0.10570436199723691,
           0.18702169221011108,
           0.07630724654785503,
           0.24869956595980305,
           0.16522442409646335,
           0.15185556556070423,
           0.014401119585489229,
           0.1508637006978971,
           0.178026156165352,
           0.21508098067027331,
           0.03598735396543359,
           0.10618514116957803
          ],
          [
           0.22824426795162275,
           0.6800418683722572,
           1,
           0.03650979114663259,
           0.031063585693309605,
           0.08122199079617419,
           0.0899990078180462,
           0.07284650068483618,
           0.1325293874054573,
           0.117421546659986,
           0.07127291065796974,
           0.13735497157806403,
           0.16945776778127494,
           0.12186064826009504,
           0.16444229453650586,
           0.12710143873200946,
           0.09227735130844372,
           0.055364056955327506,
           0.18641617783222983,
           0.315622200824355,
           0.1599493856453422,
           0.09217983708476582,
           0.07077418808383248
          ],
          [
           0.08877121111441649,
           0.03244181401647321,
           0.03650979114663259,
           1,
           0.005258519844628023,
           0.01996756336310062,
           0.02297213131670285,
           0.18730658383798274,
           0.08622798625605356,
           0.023001744819405718,
           0.7089156476630908,
           0.37178892515399764,
           0.24781767589961706,
           0.12765973814400028,
           0.07376936774518038,
           0.0017614408027817512,
           0.11639479131162944,
           0.13781740169615878,
           0.048048527265598794,
           0.041079663056564256,
           0.129851312838268,
           0.004965132949835015,
           0.7585735444961249
          ],
          [
           0.20496437667018436,
           0.04088136934934137,
           0.031063585693309605,
           0.005258519844628023,
           1,
           0.3117487447698771,
           0.2023390208114159,
           0.562752599794132,
           0.20676782551260411,
           0.055193117216690055,
           0.025386564972848878,
           0.049249622380054744,
           0.0944997056264976,
           0.15308268385276036,
           0.13033291474659606,
           0.03894843034754893,
           0.061181336549913645,
           0.0014079746420829937,
           0.1345575914314745,
           0.07620002206654186,
           0.05736853223395253,
           0.2010040745886384,
           0.019271215172305078
          ],
          [
           0.2255588933936942,
           0.08923108311363001,
           0.08122199079617419,
           0.01996756336310062,
           0.3117487447698771,
           1,
           0.8715934128510981,
           0.8816481463703058,
           0.6758526461243248,
           0.36047581721519606,
           0.04507089317544142,
           0.08894106352424723,
           0.12379951945747238,
           0.10251042342754689,
           0.022239076014396005,
           0.05993341485946547,
           0.11353670155444227,
           0.08307070986441197,
           0.01810713030479578,
           0.0917383304152591,
           0.1023116859533396,
           0.15096040636269878,
           0.02230923161107991
          ],
          [
           0.23640835385154815,
           0.12402086575285431,
           0.0899990078180462,
           0.02297213131670285,
           0.2023390208114159,
           0.8715934128510981,
           1,
           0.7854940172766255,
           0.644677250456036,
           0.655845396470153,
           0.051582265574481825,
           0.09240148631350023,
           0.11628878685717646,
           0.06668156619491135,
           0.0860442475863168,
           0.029477873124945597,
           0.05960150551156472,
           0.05140619691170688,
           0.0064543548276372225,
           0.10398501136962891,
           0.02250740890233634,
           0.11154543111659514,
           0.024281352884843982
          ],
          [
           0.32436689028239735,
           0.09990636376065073,
           0.07284650068483618,
           0.18730658383798274,
           0.562752599794132,
           0.8816481463703058,
           0.7854940172766255,
           1,
           0.6775010778345223,
           0.42317505253161763,
           0.09409066989425535,
           0.023283818999973734,
           0.029938527413651807,
           0.013813423645439388,
           0.0052298441430733865,
           0.056239502019803565,
           0.17768615164441262,
           0.09726029789203121,
           0.07013439730621997,
           0.1339469374186971,
           0.10851017956779156,
           0.21502579464694063,
           0.1327513796056229
          ],
          [
           0.2971058343796963,
           0.13511927317128553,
           0.1325293874054573,
           0.08622798625605356,
           0.20676782551260411,
           0.6758526461243248,
           0.644677250456036,
           0.6775010778345223,
           1,
           0.7235725200390587,
           0.020363760517515622,
           0.014588872597859116,
           0.0032190884769955483,
           0.1259698387949139,
           0.045353722978422294,
           0.10360129379653293,
           0.1496714592468027,
           0.1145997660110934,
           0.024264008845688554,
           0.1185062766780921,
           0.11447039073174713,
           0.24017613816250644,
           0.07708386241991966
          ],
          [
           0.24509703007852582,
           0.15643626584694562,
           0.117421546659986,
           0.023001744819405718,
           0.055193117216690055,
           0.36047581721519606,
           0.655845396470153,
           0.42317505253161763,
           0.7235725200390587,
           1,
           0.05136503544736345,
           0.056110616511093996,
           0.03721440173852189,
           0.21979497647565355,
           0.10378041987909833,
           0.06171878344226985,
           0.027780728843953054,
           0.006723842143107738,
           0.01840684834488406,
           0.11845607030869638,
           0.0057826458763782325,
           0.13880220659262488,
           0.032994760288187666
          ],
          [
           0.05033863844418013,
           0.05531144963975426,
           0.07127291065796974,
           0.7089156476630908,
           0.025386564972848878,
           0.04507089317544142,
           0.051582265574481825,
           0.09409066989425535,
           0.020363760517515622,
           0.05136503544736345,
           1,
           0.583836989642972,
           0.43805785852726714,
           0.22436680656372313,
           0.010343184225146457,
           0.028768694864192524,
           0.14827692825288108,
           0.12260428320502298,
           0.030646328921700217,
           0.038794722662821184,
           0.055129618775515324,
           0.07968090410444999,
           0.5483889022624697
          ],
          [
           0.13552902961795532,
           0.10570436199723691,
           0.13735497157806403,
           0.37178892515399764,
           0.049249622380054744,
           0.08894106352424723,
           0.09240148631350023,
           0.023283818999973734,
           0.014588872597859116,
           0.056110616511093996,
           0.583836989642972,
           1,
           0.8762063380776608,
           0.49176937320930736,
           0.09154345069723784,
           0.06572738556711447,
           0.1860880834371894,
           0.16588246909097623,
           0.048003067773027826,
           0.07456410767839938,
           0.14699386182289642,
           0.10545214819881907,
           0.316179682262349
          ],
          [
           0.15082726517445766,
           0.18702169221011108,
           0.16945776778127494,
           0.24781767589961706,
           0.0944997056264976,
           0.12379951945747238,
           0.11628878685717646,
           0.029938527413651807,
           0.0032190884769955483,
           0.03721440173852189,
           0.43805785852726714,
           0.8762063380776608,
           1,
           0.5191840521678782,
           0.06958703283095118,
           0.04521707161816554,
           0.23338914932355562,
           0.17816377132365388,
           0.0568591320808058,
           0.02792586777062299,
           0.0009263939324989117,
           0.03077619686756817,
           0.23593648785947632
          ],
          [
           0.19228778417198097,
           0.07630724654785503,
           0.12186064826009504,
           0.12765973814400028,
           0.15308268385276036,
           0.10251042342754689,
           0.06668156619491135,
           0.013813423645439388,
           0.1259698387949139,
           0.21979497647565355,
           0.22436680656372313,
           0.49176937320930736,
           0.5191840521678782,
           1,
           0.020908566642898953,
           0.04968389223736156,
           0.03477600537492114,
           0.00869089891595287,
           0.10569417026808536,
           0.3005668013491051,
           0.12035768555999901,
           0.07702716099804229,
           0.06616794761042852
          ],
          [
           0.17923123625399137,
           0.24869956595980305,
           0.16444229453650586,
           0.07376936774518038,
           0.13033291474659606,
           0.022239076014396005,
           0.0860442475863168,
           0.0052298441430733865,
           0.045353722978422294,
           0.10378041987909833,
           0.010343184225146457,
           0.09154345069723784,
           0.06958703283095118,
           0.020908566642898953,
           1,
           0.3620333952491159,
           0.3022342282678974,
           0.4218176016844768,
           0.30761163468744884,
           0.1779415708260215,
           0.4017857371778605,
           0.05939003556005327,
           0.18737900043194022
          ],
          [
           0.10162582626670132,
           0.16522442409646335,
           0.12710143873200946,
           0.0017614408027817512,
           0.03894843034754893,
           0.05993341485946547,
           0.029477873124945597,
           0.056239502019803565,
           0.10360129379653293,
           0.06171878344226985,
           0.028768694864192524,
           0.06572738556711447,
           0.04521707161816554,
           0.04968389223736156,
           0.3620333952491159,
           1,
           0.1372052478075703,
           0.08382227495911711,
           0.16312788594580177,
           0.37737503765810926,
           0.21546386774308549,
           0.4542452693313202,
           0.04268347972286352
          ],
          [
           0.055021822846762346,
           0.15185556556070423,
           0.09227735130844372,
           0.11639479131162944,
           0.061181336549913645,
           0.11353670155444227,
           0.05960150551156472,
           0.17768615164441262,
           0.1496714592468027,
           0.027780728843953054,
           0.14827692825288108,
           0.1860880834371894,
           0.23338914932355562,
           0.03477600537492114,
           0.3022342282678974,
           0.1372052478075703,
           1,
           0.20726705787963987,
           0.38499280629312593,
           0.25877518914815273,
           0.3536217860028705,
           0.18365577726747231,
           0.05866321551365672
          ],
          [
           0.130217768051234,
           0.014401119585489229,
           0.055364056955327506,
           0.13781740169615878,
           0.0014079746420829937,
           0.08307070986441197,
           0.05140619691170688,
           0.09726029789203121,
           0.1145997660110934,
           0.006723842143107738,
           0.12260428320502298,
           0.16588246909097623,
           0.17816377132365388,
           0.00869089891595287,
           0.4218176016844768,
           0.08382227495911711,
           0.20726705787963987,
           1,
           0.13915013106924193,
           0.081411097683362,
           0.19497436362696696,
           0.056826929139198054,
           0.3835820527000974
          ],
          [
           0.2068425297286513,
           0.1508637006978971,
           0.18641617783222983,
           0.048048527265598794,
           0.1345575914314745,
           0.01810713030479578,
           0.0064543548276372225,
           0.07013439730621997,
           0.024264008845688554,
           0.01840684834488406,
           0.030646328921700217,
           0.048003067773027826,
           0.0568591320808058,
           0.10569417026808536,
           0.30761163468744884,
           0.16312788594580177,
           0.38499280629312593,
           0.13915013106924193,
           1,
           0.39618032461635916,
           0.2218795444685827,
           0.017749175305606126,
           0.11564405470376507
          ],
          [
           0.0995975205900806,
           0.178026156165352,
           0.315622200824355,
           0.041079663056564256,
           0.07620002206654186,
           0.0917383304152591,
           0.10398501136962891,
           0.1339469374186971,
           0.1185062766780921,
           0.11845607030869638,
           0.038794722662821184,
           0.07456410767839938,
           0.02792586777062299,
           0.3005668013491051,
           0.1779415708260215,
           0.37737503765810926,
           0.25877518914815273,
           0.081411097683362,
           0.39618032461635916,
           1,
           0.05119794783720707,
           0.4824362148280353,
           0.01298618863815231
          ],
          [
           0.198823676300067,
           0.21508098067027331,
           0.1599493856453422,
           0.129851312838268,
           0.05736853223395253,
           0.1023116859533396,
           0.02250740890233634,
           0.10851017956779156,
           0.11447039073174713,
           0.0057826458763782325,
           0.055129618775515324,
           0.14699386182289642,
           0.0009263939324989117,
           0.12035768555999901,
           0.4017857371778605,
           0.21546386774308549,
           0.3536217860028705,
           0.19497436362696696,
           0.2218795444685827,
           0.05119794783720707,
           1,
           0.266844241426231,
           0.012169230167844141
          ],
          [
           0.2735701126143555,
           0.03598735396543359,
           0.09217983708476582,
           0.004965132949835015,
           0.2010040745886384,
           0.15096040636269878,
           0.11154543111659514,
           0.21502579464694063,
           0.24017613816250644,
           0.13880220659262488,
           0.07968090410444999,
           0.10545214819881907,
           0.03077619686756817,
           0.07702716099804229,
           0.05939003556005327,
           0.4542452693313202,
           0.18365577726747231,
           0.056826929139198054,
           0.017749175305606126,
           0.4824362148280353,
           0.266844241426231,
           1,
           0.10435661373183487
          ],
          [
           0.12764562346221067,
           0.10618514116957803,
           0.07077418808383248,
           0.7585735444961249,
           0.019271215172305078,
           0.02230923161107991,
           0.024281352884843982,
           0.1327513796056229,
           0.07708386241991966,
           0.032994760288187666,
           0.5483889022624697,
           0.316179682262349,
           0.23593648785947632,
           0.06616794761042852,
           0.18737900043194022,
           0.04268347972286352,
           0.05866321551365672,
           0.3835820527000974,
           0.11564405470376507,
           0.01298618863815231,
           0.012169230167844141,
           0.10435661373183487,
           1
          ]
         ]
        }
       ],
       "layout": {
        "coloraxis": {
         "colorbar": {
          "title": {
           "text": "Correlation"
          }
         },
         "colorscale": [
          [
           0,
           "rgb(5,48,97)"
          ],
          [
           0.1,
           "rgb(33,102,172)"
          ],
          [
           0.2,
           "rgb(67,147,195)"
          ],
          [
           0.3,
           "rgb(146,197,222)"
          ],
          [
           0.4,
           "rgb(209,229,240)"
          ],
          [
           0.5,
           "rgb(247,247,247)"
          ],
          [
           0.6,
           "rgb(253,219,199)"
          ],
          [
           0.7,
           "rgb(244,165,130)"
          ],
          [
           0.8,
           "rgb(214,96,77)"
          ],
          [
           0.9,
           "rgb(178,24,43)"
          ],
          [
           1,
           "rgb(103,0,31)"
          ]
         ]
        },
        "height": 800,
        "template": {
         "data": {
          "bar": [
           {
            "error_x": {
             "color": "#f2f5fa"
            },
            "error_y": {
             "color": "#f2f5fa"
            },
            "marker": {
             "line": {
              "color": "rgb(17,17,17)",
              "width": 0.5
             },
             "pattern": {
              "fillmode": "overlay",
              "size": 10,
              "solidity": 0.2
             }
            },
            "type": "bar"
           }
          ],
          "barpolar": [
           {
            "marker": {
             "line": {
              "color": "rgb(17,17,17)",
              "width": 0.5
             },
             "pattern": {
              "fillmode": "overlay",
              "size": 10,
              "solidity": 0.2
             }
            },
            "type": "barpolar"
           }
          ],
          "carpet": [
           {
            "aaxis": {
             "endlinecolor": "#A2B1C6",
             "gridcolor": "#506784",
             "linecolor": "#506784",
             "minorgridcolor": "#506784",
             "startlinecolor": "#A2B1C6"
            },
            "baxis": {
             "endlinecolor": "#A2B1C6",
             "gridcolor": "#506784",
             "linecolor": "#506784",
             "minorgridcolor": "#506784",
             "startlinecolor": "#A2B1C6"
            },
            "type": "carpet"
           }
          ],
          "choropleth": [
           {
            "colorbar": {
             "outlinewidth": 0,
             "ticks": ""
            },
            "type": "choropleth"
           }
          ],
          "contour": [
           {
            "colorbar": {
             "outlinewidth": 0,
             "ticks": ""
            },
            "colorscale": [
             [
              0,
              "#0d0887"
             ],
             [
              0.1111111111111111,
              "#46039f"
             ],
             [
              0.2222222222222222,
              "#7201a8"
             ],
             [
              0.3333333333333333,
              "#9c179e"
             ],
             [
              0.4444444444444444,
              "#bd3786"
             ],
             [
              0.5555555555555556,
              "#d8576b"
             ],
             [
              0.6666666666666666,
              "#ed7953"
             ],
             [
              0.7777777777777778,
              "#fb9f3a"
             ],
             [
              0.8888888888888888,
              "#fdca26"
             ],
             [
              1,
              "#f0f921"
             ]
            ],
            "type": "contour"
           }
          ],
          "contourcarpet": [
           {
            "colorbar": {
             "outlinewidth": 0,
             "ticks": ""
            },
            "type": "contourcarpet"
           }
          ],
          "heatmap": [
           {
            "colorbar": {
             "outlinewidth": 0,
             "ticks": ""
            },
            "colorscale": [
             [
              0,
              "#0d0887"
             ],
             [
              0.1111111111111111,
              "#46039f"
             ],
             [
              0.2222222222222222,
              "#7201a8"
             ],
             [
              0.3333333333333333,
              "#9c179e"
             ],
             [
              0.4444444444444444,
              "#bd3786"
             ],
             [
              0.5555555555555556,
              "#d8576b"
             ],
             [
              0.6666666666666666,
              "#ed7953"
             ],
             [
              0.7777777777777778,
              "#fb9f3a"
             ],
             [
              0.8888888888888888,
              "#fdca26"
             ],
             [
              1,
              "#f0f921"
             ]
            ],
            "type": "heatmap"
           }
          ],
          "heatmapgl": [
           {
            "colorbar": {
             "outlinewidth": 0,
             "ticks": ""
            },
            "colorscale": [
             [
              0,
              "#0d0887"
             ],
             [
              0.1111111111111111,
              "#46039f"
             ],
             [
              0.2222222222222222,
              "#7201a8"
             ],
             [
              0.3333333333333333,
              "#9c179e"
             ],
             [
              0.4444444444444444,
              "#bd3786"
             ],
             [
              0.5555555555555556,
              "#d8576b"
             ],
             [
              0.6666666666666666,
              "#ed7953"
             ],
             [
              0.7777777777777778,
              "#fb9f3a"
             ],
             [
              0.8888888888888888,
              "#fdca26"
             ],
             [
              1,
              "#f0f921"
             ]
            ],
            "type": "heatmapgl"
           }
          ],
          "histogram": [
           {
            "marker": {
             "pattern": {
              "fillmode": "overlay",
              "size": 10,
              "solidity": 0.2
             }
            },
            "type": "histogram"
           }
          ],
          "histogram2d": [
           {
            "colorbar": {
             "outlinewidth": 0,
             "ticks": ""
            },
            "colorscale": [
             [
              0,
              "#0d0887"
             ],
             [
              0.1111111111111111,
              "#46039f"
             ],
             [
              0.2222222222222222,
              "#7201a8"
             ],
             [
              0.3333333333333333,
              "#9c179e"
             ],
             [
              0.4444444444444444,
              "#bd3786"
             ],
             [
              0.5555555555555556,
              "#d8576b"
             ],
             [
              0.6666666666666666,
              "#ed7953"
             ],
             [
              0.7777777777777778,
              "#fb9f3a"
             ],
             [
              0.8888888888888888,
              "#fdca26"
             ],
             [
              1,
              "#f0f921"
             ]
            ],
            "type": "histogram2d"
           }
          ],
          "histogram2dcontour": [
           {
            "colorbar": {
             "outlinewidth": 0,
             "ticks": ""
            },
            "colorscale": [
             [
              0,
              "#0d0887"
             ],
             [
              0.1111111111111111,
              "#46039f"
             ],
             [
              0.2222222222222222,
              "#7201a8"
             ],
             [
              0.3333333333333333,
              "#9c179e"
             ],
             [
              0.4444444444444444,
              "#bd3786"
             ],
             [
              0.5555555555555556,
              "#d8576b"
             ],
             [
              0.6666666666666666,
              "#ed7953"
             ],
             [
              0.7777777777777778,
              "#fb9f3a"
             ],
             [
              0.8888888888888888,
              "#fdca26"
             ],
             [
              1,
              "#f0f921"
             ]
            ],
            "type": "histogram2dcontour"
           }
          ],
          "mesh3d": [
           {
            "colorbar": {
             "outlinewidth": 0,
             "ticks": ""
            },
            "type": "mesh3d"
           }
          ],
          "parcoords": [
           {
            "line": {
             "colorbar": {
              "outlinewidth": 0,
              "ticks": ""
             }
            },
            "type": "parcoords"
           }
          ],
          "pie": [
           {
            "automargin": true,
            "type": "pie"
           }
          ],
          "scatter": [
           {
            "marker": {
             "line": {
              "color": "#283442"
             }
            },
            "type": "scatter"
           }
          ],
          "scatter3d": [
           {
            "line": {
             "colorbar": {
              "outlinewidth": 0,
              "ticks": ""
             }
            },
            "marker": {
             "colorbar": {
              "outlinewidth": 0,
              "ticks": ""
             }
            },
            "type": "scatter3d"
           }
          ],
          "scattercarpet": [
           {
            "marker": {
             "colorbar": {
              "outlinewidth": 0,
              "ticks": ""
             }
            },
            "type": "scattercarpet"
           }
          ],
          "scattergeo": [
           {
            "marker": {
             "colorbar": {
              "outlinewidth": 0,
              "ticks": ""
             }
            },
            "type": "scattergeo"
           }
          ],
          "scattergl": [
           {
            "marker": {
             "line": {
              "color": "#283442"
             }
            },
            "type": "scattergl"
           }
          ],
          "scattermapbox": [
           {
            "marker": {
             "colorbar": {
              "outlinewidth": 0,
              "ticks": ""
             }
            },
            "type": "scattermapbox"
           }
          ],
          "scatterpolar": [
           {
            "marker": {
             "colorbar": {
              "outlinewidth": 0,
              "ticks": ""
             }
            },
            "type": "scatterpolar"
           }
          ],
          "scatterpolargl": [
           {
            "marker": {
             "colorbar": {
              "outlinewidth": 0,
              "ticks": ""
             }
            },
            "type": "scatterpolargl"
           }
          ],
          "scatterternary": [
           {
            "marker": {
             "colorbar": {
              "outlinewidth": 0,
              "ticks": ""
             }
            },
            "type": "scatterternary"
           }
          ],
          "surface": [
           {
            "colorbar": {
             "outlinewidth": 0,
             "ticks": ""
            },
            "colorscale": [
             [
              0,
              "#0d0887"
             ],
             [
              0.1111111111111111,
              "#46039f"
             ],
             [
              0.2222222222222222,
              "#7201a8"
             ],
             [
              0.3333333333333333,
              "#9c179e"
             ],
             [
              0.4444444444444444,
              "#bd3786"
             ],
             [
              0.5555555555555556,
              "#d8576b"
             ],
             [
              0.6666666666666666,
              "#ed7953"
             ],
             [
              0.7777777777777778,
              "#fb9f3a"
             ],
             [
              0.8888888888888888,
              "#fdca26"
             ],
             [
              1,
              "#f0f921"
             ]
            ],
            "type": "surface"
           }
          ],
          "table": [
           {
            "cells": {
             "fill": {
              "color": "#506784"
             },
             "line": {
              "color": "rgb(17,17,17)"
             }
            },
            "header": {
             "fill": {
              "color": "#2a3f5f"
             },
             "line": {
              "color": "rgb(17,17,17)"
             }
            },
            "type": "table"
           }
          ]
         },
         "layout": {
          "annotationdefaults": {
           "arrowcolor": "#f2f5fa",
           "arrowhead": 0,
           "arrowwidth": 1
          },
          "autotypenumbers": "strict",
          "coloraxis": {
           "colorbar": {
            "outlinewidth": 0,
            "ticks": ""
           }
          },
          "colorscale": {
           "diverging": [
            [
             0,
             "#8e0152"
            ],
            [
             0.1,
             "#c51b7d"
            ],
            [
             0.2,
             "#de77ae"
            ],
            [
             0.3,
             "#f1b6da"
            ],
            [
             0.4,
             "#fde0ef"
            ],
            [
             0.5,
             "#f7f7f7"
            ],
            [
             0.6,
             "#e6f5d0"
            ],
            [
             0.7,
             "#b8e186"
            ],
            [
             0.8,
             "#7fbc41"
            ],
            [
             0.9,
             "#4d9221"
            ],
            [
             1,
             "#276419"
            ]
           ],
           "sequential": [
            [
             0,
             "#0d0887"
            ],
            [
             0.1111111111111111,
             "#46039f"
            ],
            [
             0.2222222222222222,
             "#7201a8"
            ],
            [
             0.3333333333333333,
             "#9c179e"
            ],
            [
             0.4444444444444444,
             "#bd3786"
            ],
            [
             0.5555555555555556,
             "#d8576b"
            ],
            [
             0.6666666666666666,
             "#ed7953"
            ],
            [
             0.7777777777777778,
             "#fb9f3a"
            ],
            [
             0.8888888888888888,
             "#fdca26"
            ],
            [
             1,
             "#f0f921"
            ]
           ],
           "sequentialminus": [
            [
             0,
             "#0d0887"
            ],
            [
             0.1111111111111111,
             "#46039f"
            ],
            [
             0.2222222222222222,
             "#7201a8"
            ],
            [
             0.3333333333333333,
             "#9c179e"
            ],
            [
             0.4444444444444444,
             "#bd3786"
            ],
            [
             0.5555555555555556,
             "#d8576b"
            ],
            [
             0.6666666666666666,
             "#ed7953"
            ],
            [
             0.7777777777777778,
             "#fb9f3a"
            ],
            [
             0.8888888888888888,
             "#fdca26"
            ],
            [
             1,
             "#f0f921"
            ]
           ]
          },
          "colorway": [
           "#636efa",
           "#EF553B",
           "#00cc96",
           "#ab63fa",
           "#FFA15A",
           "#19d3f3",
           "#FF6692",
           "#B6E880",
           "#FF97FF",
           "#FECB52"
          ],
          "font": {
           "color": "#f2f5fa"
          },
          "geo": {
           "bgcolor": "rgb(17,17,17)",
           "lakecolor": "rgb(17,17,17)",
           "landcolor": "rgb(17,17,17)",
           "showlakes": true,
           "showland": true,
           "subunitcolor": "#506784"
          },
          "hoverlabel": {
           "align": "left"
          },
          "hovermode": "closest",
          "mapbox": {
           "style": "dark"
          },
          "paper_bgcolor": "rgb(17,17,17)",
          "plot_bgcolor": "rgb(17,17,17)",
          "polar": {
           "angularaxis": {
            "gridcolor": "#506784",
            "linecolor": "#506784",
            "ticks": ""
           },
           "bgcolor": "rgb(17,17,17)",
           "radialaxis": {
            "gridcolor": "#506784",
            "linecolor": "#506784",
            "ticks": ""
           }
          },
          "scene": {
           "xaxis": {
            "backgroundcolor": "rgb(17,17,17)",
            "gridcolor": "#506784",
            "gridwidth": 2,
            "linecolor": "#506784",
            "showbackground": true,
            "ticks": "",
            "zerolinecolor": "#C8D4E3"
           },
           "yaxis": {
            "backgroundcolor": "rgb(17,17,17)",
            "gridcolor": "#506784",
            "gridwidth": 2,
            "linecolor": "#506784",
            "showbackground": true,
            "ticks": "",
            "zerolinecolor": "#C8D4E3"
           },
           "zaxis": {
            "backgroundcolor": "rgb(17,17,17)",
            "gridcolor": "#506784",
            "gridwidth": 2,
            "linecolor": "#506784",
            "showbackground": true,
            "ticks": "",
            "zerolinecolor": "#C8D4E3"
           }
          },
          "shapedefaults": {
           "line": {
            "color": "#f2f5fa"
           }
          },
          "sliderdefaults": {
           "bgcolor": "#C8D4E3",
           "bordercolor": "rgb(17,17,17)",
           "borderwidth": 1,
           "tickwidth": 0
          },
          "ternary": {
           "aaxis": {
            "gridcolor": "#506784",
            "linecolor": "#506784",
            "ticks": ""
           },
           "baxis": {
            "gridcolor": "#506784",
            "linecolor": "#506784",
            "ticks": ""
           },
           "bgcolor": "rgb(17,17,17)",
           "caxis": {
            "gridcolor": "#506784",
            "linecolor": "#506784",
            "ticks": ""
           }
          },
          "title": {
           "x": 0.05
          },
          "updatemenudefaults": {
           "bgcolor": "#506784",
           "borderwidth": 0
          },
          "xaxis": {
           "automargin": true,
           "gridcolor": "#283442",
           "linecolor": "#506784",
           "ticks": "",
           "title": {
            "standoff": 15
           },
           "zerolinecolor": "#283442",
           "zerolinewidth": 2
          },
          "yaxis": {
           "automargin": true,
           "gridcolor": "#283442",
           "linecolor": "#506784",
           "ticks": "",
           "title": {
            "standoff": 15
           },
           "zerolinecolor": "#283442",
           "zerolinewidth": 2
          }
         }
        },
        "title": {
         "text": "Correlation Heatmap: All Variables (Target at Beginning)"
        },
        "width": 1000,
        "xaxis": {
         "anchor": "y",
         "constrain": "domain",
         "domain": [
          0,
          1
         ],
         "scaleanchor": "y"
        },
        "yaxis": {
         "anchor": "x",
         "autorange": "reversed",
         "constrain": "domain",
         "domain": [
          0,
          1
         ]
        }
       }
      }
     },
     "metadata": {},
     "output_type": "display_data"
    }
   ],
   "source": [
    "# putting the target at the beginning of the dataframe to make it easier to see\n",
    "columns_ordered = ['target'] + [col for col in feature_selection_df.columns if col != 'target']\n",
    "feature_selection_df = feature_selection_df[columns_ordered]\n",
    "\n",
    "# Compute the correlation matrix for all variables in feature_selection_df\n",
    "corr_matrix = feature_selection_df.corr()\n",
    "\n",
    "# Take the absolute values of the correlation matrix (optional, for easier interpretation)\n",
    "corr_matrix_abs = corr_matrix.abs()\n",
    "\n",
    "# Create a heatmap using plotly express\n",
    "fig = px.imshow(\n",
    "    corr_matrix_abs, \n",
    "    color_continuous_scale='RdBu_r', \n",
    "    title=\"Correlation Heatmap: All Variables (Target at Beginning)\", \n",
    "    template='plotly_dark', \n",
    "    labels=dict(color=\"Correlation\"),  # Add a label for the color bar\n",
    "    width=1000, \n",
    "    height=800\n",
    ")\n",
    "\n",
    "# Display the figure\n",
    "fig.show()\n"
   ]
  },
  {
   "cell_type": "markdown",
   "metadata": {},
   "source": [
    "With this new correlation matric we can see that there are no very low correlations with the target, nor is there very high correlations between other variables.  "
   ]
  },
  {
   "cell_type": "markdown",
   "metadata": {},
   "source": [
    "## Oversampling and Subsampling"
   ]
  },
  {
   "cell_type": "code",
   "execution_count": 52,
   "metadata": {},
   "outputs": [
    {
     "data": {
      "text/html": [
       "<div>\n",
       "<style scoped>\n",
       "    .dataframe tbody tr th:only-of-type {\n",
       "        vertical-align: middle;\n",
       "    }\n",
       "\n",
       "    .dataframe tbody tr th {\n",
       "        vertical-align: top;\n",
       "    }\n",
       "\n",
       "    .dataframe thead th {\n",
       "        text-align: right;\n",
       "    }\n",
       "</style>\n",
       "<table border=\"1\" class=\"dataframe\">\n",
       "  <thead>\n",
       "    <tr style=\"text-align: right;\">\n",
       "      <th></th>\n",
       "      <th>count</th>\n",
       "    </tr>\n",
       "    <tr>\n",
       "      <th>target</th>\n",
       "      <th></th>\n",
       "    </tr>\n",
       "  </thead>\n",
       "  <tbody>\n",
       "    <tr>\n",
       "      <th>0</th>\n",
       "      <td>50.393701</td>\n",
       "    </tr>\n",
       "    <tr>\n",
       "      <th>1</th>\n",
       "      <td>49.606299</td>\n",
       "    </tr>\n",
       "  </tbody>\n",
       "</table>\n",
       "</div>"
      ],
      "text/plain": [
       "            count\n",
       "target           \n",
       "0       50.393701\n",
       "1       49.606299"
      ]
     },
     "execution_count": 52,
     "metadata": {},
     "output_type": "execute_result"
    }
   ],
   "source": [
    "#getting the percentage of the values of 0 and 1\n",
    "100*df.groupby(['target'])['target'].agg(['count'])/df.shape[0]"
   ]
  },
  {
   "cell_type": "markdown",
   "metadata": {},
   "source": [
    "The data is has almost exactly the same number of each category, there is therefore no need for oversampling or subsampling. "
   ]
  },
  {
   "cell_type": "markdown",
   "metadata": {},
   "source": [
    "## Train test Split "
   ]
  },
  {
   "cell_type": "markdown",
   "metadata": {},
   "source": [
    "We are doing Train, Test Split within the preprocessing steps to allow to fit the scaler only onto the training data, to avoid leaking from the test set. We have replaced the null values in the dataset using chatGPT, but if we were to use an algorithm, we would also have had to do this step before. "
   ]
  },
  {
   "cell_type": "code",
   "execution_count": 53,
   "metadata": {},
   "outputs": [],
   "source": [
    "## Train Test Split \n",
    "X_improved = feature_selection_df.drop(['target'], axis = 1)\n",
    "y_improved = feature_selection_df[['target']]\n",
    "X_train_new,X_test_new,y_train_new,y_test_new = train_test_split(X_improved,y_improved,test_size=0.4,random_state=seed)"
   ]
  },
  {
   "cell_type": "markdown",
   "metadata": {},
   "source": [
    "## Scaling"
   ]
  },
  {
   "cell_type": "markdown",
   "metadata": {},
   "source": [
    "Scaling is important as we have values from very different magnitudes. Furthermore, we are using min-max scaling as the standard scaler was giving warning due to this important magnitude. "
   ]
  },
  {
   "cell_type": "code",
   "execution_count": 54,
   "metadata": {},
   "outputs": [],
   "source": [
    "# Fit the scaler on X_train\n",
    "scaler = MinMaxScaler()\n",
    "scaler.fit(X_train_new)\n",
    "\n",
    "# Scale X_train and X_test separately\n",
    "X_train_scaled = pd.DataFrame(scaler.transform(X_train_new), columns=X_train_new.columns)\n",
    "X_test_scaled = pd.DataFrame(scaler.transform(X_test_new), columns=X_test_new.columns)\n"
   ]
  },
  {
   "cell_type": "markdown",
   "metadata": {},
   "source": [
    "As we scaled the data on the training dataset, we will not be able to use cross-validation. "
   ]
  },
  {
   "cell_type": "markdown",
   "metadata": {},
   "source": [
    "# Modeling and Results "
   ]
  },
  {
   "cell_type": "code",
   "execution_count": 55,
   "metadata": {},
   "outputs": [
    {
     "name": "stdout",
     "output_type": "stream",
     "text": [
      "\u001b[1mAUC SCORE:\u001b[0m\n",
      "-------------------------------------------------------------------------------\n",
      "\u001b[1mLogistic model:\u001b[0m\n",
      "\u001b[1mTrain - AUC score is 0.9422\u001b[0m\n",
      "\u001b[1mTest - AUC score is 0.8339\u001b[0m\n",
      "-------------------------------------------------------------------------------\n",
      "\u001b[1mRidge model:\u001b[0m\n",
      "\u001b[1mTrain - AUC score is 1.0000\u001b[0m\n",
      "\u001b[1mTest - AUC score is 0.5878\u001b[0m\n",
      "-------------------------------------------------------------------------------\n",
      "\u001b[1mLasso Lars model:\u001b[0m\n",
      "\u001b[1mTrain - AUC score is 0.9380\u001b[0m\n",
      "\u001b[1mTest - AUC score is 0.7179\u001b[0m\n",
      "-------------------------------------------------------------------------------\n",
      "\u001b[1mNaive Bayes model:\u001b[0m\n",
      "\u001b[1mTrain - AUC score is 0.7854\u001b[0m\n",
      "\u001b[1mTest - AUC score is 0.6779\u001b[0m\n",
      "-------------------------------------------------------------------------------\n",
      "\u001b[1mSVC model:\u001b[0m\n",
      "\u001b[1mTrain - AUC score is 0.8084\u001b[0m\n",
      "\u001b[1mTest - AUC score is 0.6850\u001b[0m\n"
     ]
    }
   ],
   "source": [
    "# Initialize models\n",
    "logistic = LogisticRegression()\n",
    "ridge_classifier = RidgeClassifier()\n",
    "lasso_lars = LassoLars(alpha=0.01)\n",
    "naive_bayes = GaussianNB()\n",
    "svc = SVC(probability=True)  # Enable probability estimates for AUC calculation\n",
    "\n",
    "print(cl('AUC SCORE:', attrs=['bold']))\n",
    "print('-------------------------------------------------------------------------------')\n",
    "\n",
    "# 1. Logistic Regression\n",
    "logistic.fit(X_train_scaled, y_train_new)\n",
    "logistic_train_auc_new = roc_auc_score(y_train_new, logistic.predict_proba(X_train_scaled)[:, 1])\n",
    "logistic_test_auc_new = roc_auc_score(y_test_new, logistic.predict_proba(X_test_scaled)[:, 1])\n",
    "print(cl('Logistic model:', attrs=['bold']))\n",
    "print(cl('Train - AUC score is {:.4f}'.format(logistic_train_auc), attrs=['bold']))\n",
    "print(cl('Test - AUC score is {:.4f}'.format(logistic_test_auc), attrs=['bold']))\n",
    "\n",
    "print('-------------------------------------------------------------------------------')\n",
    "\n",
    "# 2. Ridge Classifier\n",
    "ridge_classifier.fit(X_train_scaled, y_train_new)\n",
    "ridge_classifier_train_auc_new = roc_auc_score(y_train_new, ridge_classifier.decision_function(X_train_scaled))\n",
    "ridge_classifier_test_auc_new = roc_auc_score(y_test_new, ridge_classifier.decision_function(X_test_scaled))\n",
    "print(cl('Ridge model:', attrs=['bold']))\n",
    "print(cl('Train - AUC score is {:.4f}'.format(ridge_classifier_train_auc), attrs=['bold']))\n",
    "print(cl('Test - AUC score is {:.4f}'.format(ridge_classifier_test_auc), attrs=['bold']))\n",
    "\n",
    "print('-------------------------------------------------------------------------------')\n",
    "\n",
    "# 3. Lasso Lars Classifier\n",
    "lasso_lars.fit(X_train_scaled, y_train_new)\n",
    "lasso_lars_train_pred_new = (lasso_lars.predict(X_train_scaled) > 0.5).astype(int)  # Threshold at 0.5\n",
    "lasso_lars_test_pred_new = (lasso_lars.predict(X_test_scaled) > 0.5).astype(int)    # Threshold at 0.5\n",
    "\n",
    "lasso_lars_train_auc_new = roc_auc_score(y_train_new, lasso_lars.predict(X_train_scaled))\n",
    "lasso_lars_test_auc_new = roc_auc_score(y_test_new, lasso_lars.predict(X_test_scaled))\n",
    "print(cl('Lasso Lars model:', attrs=['bold']))\n",
    "print(cl('Train - AUC score is {:.4f}'.format(lasso_lars_train_auc), attrs=['bold']))\n",
    "print(cl('Test - AUC score is {:.4f}'.format(lasso_lars_test_auc), attrs=['bold']))\n",
    "\n",
    "print('-------------------------------------------------------------------------------')\n",
    "\n",
    "# 4. Gaussian Naive Bayes\n",
    "naive_bayes.fit(X_train_scaled, y_train_new)\n",
    "naive_bayes_train_auc_new = roc_auc_score(y_train_new, naive_bayes.predict_proba(X_train_scaled)[:, 1])\n",
    "naive_bayes_test_auc_new = roc_auc_score(y_test_new, naive_bayes.predict_proba(X_test_scaled)[:, 1])\n",
    "print(cl('Naive Bayes model:', attrs=['bold']))\n",
    "print(cl('Train - AUC score is {:.4f}'.format(naive_bayes_train_auc), attrs=['bold']))\n",
    "print(cl('Test - AUC score is {:.4f}'.format(naive_bayes_test_auc), attrs=['bold']))\n",
    "\n",
    "print('-------------------------------------------------------------------------------')\n",
    "\n",
    "# 5. Support Vector Classifier\n",
    "svc.fit(X_train_scaled, y_train_new)\n",
    "svc_train_auc_new = roc_auc_score(y_train_new, svc.predict_proba(X_train_scaled)[:, 1])\n",
    "svc_test_auc_new = roc_auc_score(y_test_new, svc.predict_proba(X_test_scaled)[:, 1])\n",
    "print(cl('SVC model:', attrs=['bold']))\n",
    "print(cl('Train - AUC score is {:.4f}'.format(svc_train_auc), attrs=['bold']))\n",
    "print(cl('Test - AUC score is {:.4f}'.format(svc_test_auc), attrs=['bold']))\n"
   ]
  },
  {
   "cell_type": "code",
   "execution_count": 56,
   "metadata": {},
   "outputs": [
    {
     "name": "stdout",
     "output_type": "stream",
     "text": [
      "\u001b[1mLogistic Model: Other Metrics:\u001b[0m\n",
      "     \n",
      "Classification Report (Test):\u001b[0m\n",
      "              precision    recall  f1-score   support\n",
      "\n",
      "           0       0.68      0.93      0.78        29\n",
      "           1       0.82      0.41      0.55        22\n",
      "\n",
      "    accuracy                           0.71        51\n",
      "   macro avg       0.75      0.67      0.66        51\n",
      "weighted avg       0.74      0.71      0.68        51\n",
      "\n"
     ]
    }
   ],
   "source": [
    "print(cl('Logistic Model: Other Metrics:', attrs=['bold']))\n",
    "# 1. Logistic Regression\n",
    "logistic.fit(X_train_scaled, y_train_new)\n",
    "print('     ')\n",
    "print(cl('Classification Report (Test):'))\n",
    "print(classification_report(y_test_new, logistic_test_yhat))"
   ]
  },
  {
   "cell_type": "code",
   "execution_count": 57,
   "metadata": {},
   "outputs": [
    {
     "name": "stdout",
     "output_type": "stream",
     "text": [
      "\u001b[1mLasso Lars Classifier: Other Metrics:\u001b[0m\n",
      "     \n",
      "Classification Report (Test):\u001b[0m\n",
      "              precision    recall  f1-score   support\n",
      "\n",
      "           0       0.72      0.62      0.67        29\n",
      "           1       0.58      0.68      0.62        22\n",
      "\n",
      "    accuracy                           0.65        51\n",
      "   macro avg       0.65      0.65      0.65        51\n",
      "weighted avg       0.66      0.65      0.65        51\n",
      "\n"
     ]
    }
   ],
   "source": [
    "print(cl('Lasso Lars Classifier: Other Metrics:', attrs=['bold']))\n",
    "# 2. Ridge Classifier\n",
    "ridge_classifier.fit(X_train_scaled, y_train_new)\n",
    "print('     ')\n",
    "print(cl('Classification Report (Test):'))\n",
    "print(classification_report(y_test_new, ridge_classifier_test_yhat))"
   ]
  },
  {
   "cell_type": "code",
   "execution_count": 58,
   "metadata": {},
   "outputs": [
    {
     "name": "stdout",
     "output_type": "stream",
     "text": [
      "\u001b[1mLasso Lars Classifier:\u001b[0m\n",
      "     \n",
      "Classification Report (Test):\u001b[0m\n",
      "              precision    recall  f1-score   support\n",
      "\n",
      "           0       0.86      0.62      0.72        29\n",
      "           1       0.63      0.86      0.73        22\n",
      "\n",
      "    accuracy                           0.73        51\n",
      "   macro avg       0.75      0.74      0.73        51\n",
      "weighted avg       0.76      0.73      0.72        51\n",
      "\n"
     ]
    }
   ],
   "source": [
    "# 3. Lasso Lars Classifier (as this is originally designed for regressions, we have a few changes to make to adapt it to binary classification)\n",
    "lasso_lars.fit(X_train_scaled, y_train_new)\n",
    "lasso_lars_test_yhat = lasso_lars.predict(X_test_scaled) # Get continuous predictions\n",
    "lasso_lars_test_labels = (lasso_lars_test_yhat >= 0.5).astype(int) # Convert continuous predictions to class labels using a threshold (0.5)\n",
    "\n",
    "# Print the classification report\n",
    "print(cl('Lasso Lars Classifier:', attrs=['bold']))\n",
    "print('     ')\n",
    "print(cl('Classification Report (Test):'))\n",
    "print(classification_report(y_test_new, lasso_lars_test_labels))\n"
   ]
  },
  {
   "cell_type": "code",
   "execution_count": 59,
   "metadata": {},
   "outputs": [
    {
     "name": "stdout",
     "output_type": "stream",
     "text": [
      "\u001b[1mGaussian Naive Bayes: Other Metrics:\u001b[0m\n",
      "     \n",
      "Classification Report (Test):\u001b[0m\n",
      "              precision    recall  f1-score   support\n",
      "\n",
      "           0       0.79      0.52      0.62        29\n",
      "           1       0.56      0.82      0.67        22\n",
      "\n",
      "    accuracy                           0.65        51\n",
      "   macro avg       0.68      0.67      0.65        51\n",
      "weighted avg       0.69      0.65      0.64        51\n",
      "\n"
     ]
    }
   ],
   "source": [
    "print(cl('Gaussian Naive Bayes: Other Metrics:', attrs=['bold']))\n",
    "# 4. Gaussian Naive Bayes\n",
    "naive_bayes.fit(X_train_scaled, y_train_new)\n",
    "print('     ')\n",
    "print(cl('Classification Report (Test):'))\n",
    "print(classification_report(y_test_new, naive_bayes_test_yhat))"
   ]
  },
  {
   "cell_type": "code",
   "execution_count": 60,
   "metadata": {},
   "outputs": [
    {
     "name": "stdout",
     "output_type": "stream",
     "text": [
      "\u001b[1mSupport Vector Classifier: Other Metrics:\u001b[0m\n",
      "     \n",
      "Classification Report (Test):\u001b[0m\n",
      "              precision    recall  f1-score   support\n",
      "\n",
      "           0       0.80      0.28      0.41        29\n",
      "           1       0.49      0.91      0.63        22\n",
      "\n",
      "    accuracy                           0.55        51\n",
      "   macro avg       0.64      0.59      0.52        51\n",
      "weighted avg       0.67      0.55      0.51        51\n",
      "\n"
     ]
    }
   ],
   "source": [
    "print(cl('Support Vector Classifier: Other Metrics:', attrs=['bold']))\n",
    "# 5. Support Vector Classifier\n",
    "svc.fit(X_train_scaled, y_train_new)\n",
    "print('     ')\n",
    "print(cl('Classification Report (Test):'))\n",
    "print(classification_report(y_test_new,svc_test_yhat))"
   ]
  },
  {
   "cell_type": "code",
   "execution_count": 70,
   "metadata": {},
   "outputs": [
    {
     "data": {
      "application/vnd.plotly.v1+json": {
       "config": {
        "plotlyServerURL": "https://plot.ly"
       },
       "data": [
        {
         "alignmentgroup": "True",
         "hovertemplate": "Dataset=Train<br>Classification Model=%{x}<br>AUC Score=%{y}<extra></extra>",
         "legendgroup": "Train",
         "marker": {
          "color": "#636efa",
          "pattern": {
           "shape": ""
          }
         },
         "name": "Train",
         "offsetgroup": "Train",
         "orientation": "v",
         "showlegend": true,
         "textposition": "auto",
         "type": "bar",
         "x": [
          "Logistic Regression",
          "Ridge Classifier",
          "Lasso Lars",
          "Naive Bayes",
          "SVC"
         ],
         "xaxis": "x",
         "y": [
          0.9421602787456446,
          1,
          0.937979094076655,
          0.7853658536585366,
          0.8083623693379791
         ],
         "yaxis": "y"
        },
        {
         "alignmentgroup": "True",
         "hovertemplate": "Dataset=Test<br>Classification Model=%{x}<br>AUC Score=%{y}<extra></extra>",
         "legendgroup": "Test",
         "marker": {
          "color": "#EF553B",
          "pattern": {
           "shape": ""
          }
         },
         "name": "Test",
         "offsetgroup": "Test",
         "orientation": "v",
         "showlegend": true,
         "textposition": "auto",
         "type": "bar",
         "x": [
          "Logistic Regression",
          "Ridge Classifier",
          "Lasso Lars",
          "Naive Bayes",
          "SVC"
         ],
         "xaxis": "x",
         "y": [
          0.8338557993730408,
          0.5877742946708464,
          0.7178683385579937,
          0.6778996865203761,
          0.6849529780564263
         ],
         "yaxis": "y"
        },
        {
         "alignmentgroup": "True",
         "hovertemplate": "Dataset=Train New<br>Classification Model=%{x}<br>AUC Score=%{y}<extra></extra>",
         "legendgroup": "Train New",
         "marker": {
          "color": "#00cc96",
          "pattern": {
           "shape": ""
          }
         },
         "name": "Train New",
         "offsetgroup": "Train New",
         "orientation": "v",
         "showlegend": true,
         "textposition": "auto",
         "type": "bar",
         "x": [
          "Logistic Regression",
          "Ridge Classifier",
          "Lasso Lars",
          "Naive Bayes",
          "SVC"
         ],
         "xaxis": "x",
         "y": [
          0.8989547038327526,
          0.9087108013937282,
          0.8773519163763066,
          0.8947735191637631,
          0.935191637630662
         ],
         "yaxis": "y"
        },
        {
         "alignmentgroup": "True",
         "hovertemplate": "Dataset=Test New<br>Classification Model=%{x}<br>AUC Score=%{y}<extra></extra>",
         "legendgroup": "Test New",
         "marker": {
          "color": "#ab63fa",
          "pattern": {
           "shape": ""
          }
         },
         "name": "Test New",
         "offsetgroup": "Test New",
         "orientation": "v",
         "showlegend": true,
         "textposition": "auto",
         "type": "bar",
         "x": [
          "Logistic Regression",
          "Ridge Classifier",
          "Lasso Lars",
          "Naive Bayes",
          "SVC"
         ],
         "xaxis": "x",
         "y": [
          0.8934169278996865,
          0.8793103448275862,
          0.8463949843260188,
          0.8244514106583072,
          0.9278996865203762
         ],
         "yaxis": "y"
        }
       ],
       "layout": {
        "barmode": "group",
        "legend": {
         "title": {
          "text": "Dataset"
         },
         "tracegroupgap": 0
        },
        "template": {
         "data": {
          "bar": [
           {
            "error_x": {
             "color": "#f2f5fa"
            },
            "error_y": {
             "color": "#f2f5fa"
            },
            "marker": {
             "line": {
              "color": "rgb(17,17,17)",
              "width": 0.5
             },
             "pattern": {
              "fillmode": "overlay",
              "size": 10,
              "solidity": 0.2
             }
            },
            "type": "bar"
           }
          ],
          "barpolar": [
           {
            "marker": {
             "line": {
              "color": "rgb(17,17,17)",
              "width": 0.5
             },
             "pattern": {
              "fillmode": "overlay",
              "size": 10,
              "solidity": 0.2
             }
            },
            "type": "barpolar"
           }
          ],
          "carpet": [
           {
            "aaxis": {
             "endlinecolor": "#A2B1C6",
             "gridcolor": "#506784",
             "linecolor": "#506784",
             "minorgridcolor": "#506784",
             "startlinecolor": "#A2B1C6"
            },
            "baxis": {
             "endlinecolor": "#A2B1C6",
             "gridcolor": "#506784",
             "linecolor": "#506784",
             "minorgridcolor": "#506784",
             "startlinecolor": "#A2B1C6"
            },
            "type": "carpet"
           }
          ],
          "choropleth": [
           {
            "colorbar": {
             "outlinewidth": 0,
             "ticks": ""
            },
            "type": "choropleth"
           }
          ],
          "contour": [
           {
            "colorbar": {
             "outlinewidth": 0,
             "ticks": ""
            },
            "colorscale": [
             [
              0,
              "#0d0887"
             ],
             [
              0.1111111111111111,
              "#46039f"
             ],
             [
              0.2222222222222222,
              "#7201a8"
             ],
             [
              0.3333333333333333,
              "#9c179e"
             ],
             [
              0.4444444444444444,
              "#bd3786"
             ],
             [
              0.5555555555555556,
              "#d8576b"
             ],
             [
              0.6666666666666666,
              "#ed7953"
             ],
             [
              0.7777777777777778,
              "#fb9f3a"
             ],
             [
              0.8888888888888888,
              "#fdca26"
             ],
             [
              1,
              "#f0f921"
             ]
            ],
            "type": "contour"
           }
          ],
          "contourcarpet": [
           {
            "colorbar": {
             "outlinewidth": 0,
             "ticks": ""
            },
            "type": "contourcarpet"
           }
          ],
          "heatmap": [
           {
            "colorbar": {
             "outlinewidth": 0,
             "ticks": ""
            },
            "colorscale": [
             [
              0,
              "#0d0887"
             ],
             [
              0.1111111111111111,
              "#46039f"
             ],
             [
              0.2222222222222222,
              "#7201a8"
             ],
             [
              0.3333333333333333,
              "#9c179e"
             ],
             [
              0.4444444444444444,
              "#bd3786"
             ],
             [
              0.5555555555555556,
              "#d8576b"
             ],
             [
              0.6666666666666666,
              "#ed7953"
             ],
             [
              0.7777777777777778,
              "#fb9f3a"
             ],
             [
              0.8888888888888888,
              "#fdca26"
             ],
             [
              1,
              "#f0f921"
             ]
            ],
            "type": "heatmap"
           }
          ],
          "heatmapgl": [
           {
            "colorbar": {
             "outlinewidth": 0,
             "ticks": ""
            },
            "colorscale": [
             [
              0,
              "#0d0887"
             ],
             [
              0.1111111111111111,
              "#46039f"
             ],
             [
              0.2222222222222222,
              "#7201a8"
             ],
             [
              0.3333333333333333,
              "#9c179e"
             ],
             [
              0.4444444444444444,
              "#bd3786"
             ],
             [
              0.5555555555555556,
              "#d8576b"
             ],
             [
              0.6666666666666666,
              "#ed7953"
             ],
             [
              0.7777777777777778,
              "#fb9f3a"
             ],
             [
              0.8888888888888888,
              "#fdca26"
             ],
             [
              1,
              "#f0f921"
             ]
            ],
            "type": "heatmapgl"
           }
          ],
          "histogram": [
           {
            "marker": {
             "pattern": {
              "fillmode": "overlay",
              "size": 10,
              "solidity": 0.2
             }
            },
            "type": "histogram"
           }
          ],
          "histogram2d": [
           {
            "colorbar": {
             "outlinewidth": 0,
             "ticks": ""
            },
            "colorscale": [
             [
              0,
              "#0d0887"
             ],
             [
              0.1111111111111111,
              "#46039f"
             ],
             [
              0.2222222222222222,
              "#7201a8"
             ],
             [
              0.3333333333333333,
              "#9c179e"
             ],
             [
              0.4444444444444444,
              "#bd3786"
             ],
             [
              0.5555555555555556,
              "#d8576b"
             ],
             [
              0.6666666666666666,
              "#ed7953"
             ],
             [
              0.7777777777777778,
              "#fb9f3a"
             ],
             [
              0.8888888888888888,
              "#fdca26"
             ],
             [
              1,
              "#f0f921"
             ]
            ],
            "type": "histogram2d"
           }
          ],
          "histogram2dcontour": [
           {
            "colorbar": {
             "outlinewidth": 0,
             "ticks": ""
            },
            "colorscale": [
             [
              0,
              "#0d0887"
             ],
             [
              0.1111111111111111,
              "#46039f"
             ],
             [
              0.2222222222222222,
              "#7201a8"
             ],
             [
              0.3333333333333333,
              "#9c179e"
             ],
             [
              0.4444444444444444,
              "#bd3786"
             ],
             [
              0.5555555555555556,
              "#d8576b"
             ],
             [
              0.6666666666666666,
              "#ed7953"
             ],
             [
              0.7777777777777778,
              "#fb9f3a"
             ],
             [
              0.8888888888888888,
              "#fdca26"
             ],
             [
              1,
              "#f0f921"
             ]
            ],
            "type": "histogram2dcontour"
           }
          ],
          "mesh3d": [
           {
            "colorbar": {
             "outlinewidth": 0,
             "ticks": ""
            },
            "type": "mesh3d"
           }
          ],
          "parcoords": [
           {
            "line": {
             "colorbar": {
              "outlinewidth": 0,
              "ticks": ""
             }
            },
            "type": "parcoords"
           }
          ],
          "pie": [
           {
            "automargin": true,
            "type": "pie"
           }
          ],
          "scatter": [
           {
            "marker": {
             "line": {
              "color": "#283442"
             }
            },
            "type": "scatter"
           }
          ],
          "scatter3d": [
           {
            "line": {
             "colorbar": {
              "outlinewidth": 0,
              "ticks": ""
             }
            },
            "marker": {
             "colorbar": {
              "outlinewidth": 0,
              "ticks": ""
             }
            },
            "type": "scatter3d"
           }
          ],
          "scattercarpet": [
           {
            "marker": {
             "colorbar": {
              "outlinewidth": 0,
              "ticks": ""
             }
            },
            "type": "scattercarpet"
           }
          ],
          "scattergeo": [
           {
            "marker": {
             "colorbar": {
              "outlinewidth": 0,
              "ticks": ""
             }
            },
            "type": "scattergeo"
           }
          ],
          "scattergl": [
           {
            "marker": {
             "line": {
              "color": "#283442"
             }
            },
            "type": "scattergl"
           }
          ],
          "scattermapbox": [
           {
            "marker": {
             "colorbar": {
              "outlinewidth": 0,
              "ticks": ""
             }
            },
            "type": "scattermapbox"
           }
          ],
          "scatterpolar": [
           {
            "marker": {
             "colorbar": {
              "outlinewidth": 0,
              "ticks": ""
             }
            },
            "type": "scatterpolar"
           }
          ],
          "scatterpolargl": [
           {
            "marker": {
             "colorbar": {
              "outlinewidth": 0,
              "ticks": ""
             }
            },
            "type": "scatterpolargl"
           }
          ],
          "scatterternary": [
           {
            "marker": {
             "colorbar": {
              "outlinewidth": 0,
              "ticks": ""
             }
            },
            "type": "scatterternary"
           }
          ],
          "surface": [
           {
            "colorbar": {
             "outlinewidth": 0,
             "ticks": ""
            },
            "colorscale": [
             [
              0,
              "#0d0887"
             ],
             [
              0.1111111111111111,
              "#46039f"
             ],
             [
              0.2222222222222222,
              "#7201a8"
             ],
             [
              0.3333333333333333,
              "#9c179e"
             ],
             [
              0.4444444444444444,
              "#bd3786"
             ],
             [
              0.5555555555555556,
              "#d8576b"
             ],
             [
              0.6666666666666666,
              "#ed7953"
             ],
             [
              0.7777777777777778,
              "#fb9f3a"
             ],
             [
              0.8888888888888888,
              "#fdca26"
             ],
             [
              1,
              "#f0f921"
             ]
            ],
            "type": "surface"
           }
          ],
          "table": [
           {
            "cells": {
             "fill": {
              "color": "#506784"
             },
             "line": {
              "color": "rgb(17,17,17)"
             }
            },
            "header": {
             "fill": {
              "color": "#2a3f5f"
             },
             "line": {
              "color": "rgb(17,17,17)"
             }
            },
            "type": "table"
           }
          ]
         },
         "layout": {
          "annotationdefaults": {
           "arrowcolor": "#f2f5fa",
           "arrowhead": 0,
           "arrowwidth": 1
          },
          "autotypenumbers": "strict",
          "coloraxis": {
           "colorbar": {
            "outlinewidth": 0,
            "ticks": ""
           }
          },
          "colorscale": {
           "diverging": [
            [
             0,
             "#8e0152"
            ],
            [
             0.1,
             "#c51b7d"
            ],
            [
             0.2,
             "#de77ae"
            ],
            [
             0.3,
             "#f1b6da"
            ],
            [
             0.4,
             "#fde0ef"
            ],
            [
             0.5,
             "#f7f7f7"
            ],
            [
             0.6,
             "#e6f5d0"
            ],
            [
             0.7,
             "#b8e186"
            ],
            [
             0.8,
             "#7fbc41"
            ],
            [
             0.9,
             "#4d9221"
            ],
            [
             1,
             "#276419"
            ]
           ],
           "sequential": [
            [
             0,
             "#0d0887"
            ],
            [
             0.1111111111111111,
             "#46039f"
            ],
            [
             0.2222222222222222,
             "#7201a8"
            ],
            [
             0.3333333333333333,
             "#9c179e"
            ],
            [
             0.4444444444444444,
             "#bd3786"
            ],
            [
             0.5555555555555556,
             "#d8576b"
            ],
            [
             0.6666666666666666,
             "#ed7953"
            ],
            [
             0.7777777777777778,
             "#fb9f3a"
            ],
            [
             0.8888888888888888,
             "#fdca26"
            ],
            [
             1,
             "#f0f921"
            ]
           ],
           "sequentialminus": [
            [
             0,
             "#0d0887"
            ],
            [
             0.1111111111111111,
             "#46039f"
            ],
            [
             0.2222222222222222,
             "#7201a8"
            ],
            [
             0.3333333333333333,
             "#9c179e"
            ],
            [
             0.4444444444444444,
             "#bd3786"
            ],
            [
             0.5555555555555556,
             "#d8576b"
            ],
            [
             0.6666666666666666,
             "#ed7953"
            ],
            [
             0.7777777777777778,
             "#fb9f3a"
            ],
            [
             0.8888888888888888,
             "#fdca26"
            ],
            [
             1,
             "#f0f921"
            ]
           ]
          },
          "colorway": [
           "#636efa",
           "#EF553B",
           "#00cc96",
           "#ab63fa",
           "#FFA15A",
           "#19d3f3",
           "#FF6692",
           "#B6E880",
           "#FF97FF",
           "#FECB52"
          ],
          "font": {
           "color": "#f2f5fa"
          },
          "geo": {
           "bgcolor": "rgb(17,17,17)",
           "lakecolor": "rgb(17,17,17)",
           "landcolor": "rgb(17,17,17)",
           "showlakes": true,
           "showland": true,
           "subunitcolor": "#506784"
          },
          "hoverlabel": {
           "align": "left"
          },
          "hovermode": "closest",
          "mapbox": {
           "style": "dark"
          },
          "paper_bgcolor": "rgb(17,17,17)",
          "plot_bgcolor": "rgb(17,17,17)",
          "polar": {
           "angularaxis": {
            "gridcolor": "#506784",
            "linecolor": "#506784",
            "ticks": ""
           },
           "bgcolor": "rgb(17,17,17)",
           "radialaxis": {
            "gridcolor": "#506784",
            "linecolor": "#506784",
            "ticks": ""
           }
          },
          "scene": {
           "xaxis": {
            "backgroundcolor": "rgb(17,17,17)",
            "gridcolor": "#506784",
            "gridwidth": 2,
            "linecolor": "#506784",
            "showbackground": true,
            "ticks": "",
            "zerolinecolor": "#C8D4E3"
           },
           "yaxis": {
            "backgroundcolor": "rgb(17,17,17)",
            "gridcolor": "#506784",
            "gridwidth": 2,
            "linecolor": "#506784",
            "showbackground": true,
            "ticks": "",
            "zerolinecolor": "#C8D4E3"
           },
           "zaxis": {
            "backgroundcolor": "rgb(17,17,17)",
            "gridcolor": "#506784",
            "gridwidth": 2,
            "linecolor": "#506784",
            "showbackground": true,
            "ticks": "",
            "zerolinecolor": "#C8D4E3"
           }
          },
          "shapedefaults": {
           "line": {
            "color": "#f2f5fa"
           }
          },
          "sliderdefaults": {
           "bgcolor": "#C8D4E3",
           "bordercolor": "rgb(17,17,17)",
           "borderwidth": 1,
           "tickwidth": 0
          },
          "ternary": {
           "aaxis": {
            "gridcolor": "#506784",
            "linecolor": "#506784",
            "ticks": ""
           },
           "baxis": {
            "gridcolor": "#506784",
            "linecolor": "#506784",
            "ticks": ""
           },
           "bgcolor": "rgb(17,17,17)",
           "caxis": {
            "gridcolor": "#506784",
            "linecolor": "#506784",
            "ticks": ""
           }
          },
          "title": {
           "x": 0.05
          },
          "updatemenudefaults": {
           "bgcolor": "#506784",
           "borderwidth": 0
          },
          "xaxis": {
           "automargin": true,
           "gridcolor": "#283442",
           "linecolor": "#506784",
           "ticks": "",
           "title": {
            "standoff": 15
           },
           "zerolinecolor": "#283442",
           "zerolinewidth": 2
          },
          "yaxis": {
           "automargin": true,
           "gridcolor": "#283442",
           "linecolor": "#506784",
           "ticks": "",
           "title": {
            "standoff": 15
           },
           "zerolinecolor": "#283442",
           "zerolinewidth": 2
          }
         }
        },
        "title": {
         "font": {
          "size": 20
         },
         "text": "Comparison of AUC Scores Across Models (before and after improvements)"
        },
        "xaxis": {
         "anchor": "y",
         "domain": [
          0,
          1
         ],
         "title": {
          "text": "Model"
         }
        },
        "yaxis": {
         "anchor": "x",
         "domain": [
          0,
          1
         ],
         "title": {
          "text": "AUC Score"
         }
        }
       }
      }
     },
     "metadata": {},
     "output_type": "display_data"
    }
   ],
   "source": [
    "# AUC scores from all models\n",
    "model_names = ['Logistic Regression', 'Ridge Classifier', 'Lasso Lars', 'Naive Bayes', 'SVC']\n",
    "train_auc_scores = [logistic_train_auc, ridge_classifier_train_auc, lasso_lars_train_auc, naive_bayes_train_auc, svc_train_auc]\n",
    "test_auc_scores = [logistic_test_auc, ridge_classifier_test_auc, lasso_lars_test_auc, naive_bayes_test_auc, svc_test_auc]\n",
    "train_auc_scores_new = [logistic_train_auc_new, ridge_classifier_train_auc_new, lasso_lars_train_auc_new, naive_bayes_train_auc_new, svc_train_auc_new]\n",
    "test_auc_scores_new = [logistic_test_auc_new, ridge_classifier_test_auc_new, lasso_lars_test_auc_new, naive_bayes_test_auc_new, svc_test_auc_new]\n",
    "\n",
    "# Create a DataFrame for visualization\n",
    "auc_data = pd.DataFrame({\n",
    "    'Model': model_names * 4,\n",
    "    'Dataset': ['Train'] * len(model_names) + ['Test'] * len(model_names) + ['Train New'] * len(model_names) + ['Test New'] * len(model_names),\n",
    "    'AUC Score': train_auc_scores + test_auc_scores + train_auc_scores_new + test_auc_scores_new})\n",
    "\n",
    "# Create the bar plot with the plotly_dark template\n",
    "fig = px.bar(\n",
    "    auc_data, \n",
    "    x='Model', \n",
    "    y='AUC Score', \n",
    "    color='Dataset', \n",
    "    barmode='group',\n",
    "    title='Comparison of AUC Scores Across Models (before and after improvements)',\n",
    "    labels={'AUC Score': 'AUC Score', 'Model': 'Classification Model'},\n",
    "    template='plotly_dark'\n",
    ")\n",
    "\n",
    "# Customize layout\n",
    "fig.update_layout(\n",
    "    title_font_size=20,\n",
    "    xaxis_title='Model',\n",
    "    yaxis_title='AUC Score',\n",
    "    legend_title='Dataset',\n",
    ")\n",
    "\n",
    "# Display the plot\n",
    "fig.show()\n"
   ]
  },
  {
   "cell_type": "markdown",
   "metadata": {},
   "source": [
    "Although the train value did not always improve, the test AUC waas always better after teh improvements. The changes also allowed to correct the overfitting present in the Ridge Classifier. \n",
    "\n",
    "With these new udpated models, SVC performs best regarding the AUC score. "
   ]
  },
  {
   "cell_type": "code",
   "execution_count": null,
   "metadata": {},
   "outputs": [],
   "source": []
  },
  {
   "cell_type": "code",
   "execution_count": null,
   "metadata": {},
   "outputs": [],
   "source": []
  }
 ],
 "metadata": {
  "kernelspec": {
   "display_name": "base",
   "language": "python",
   "name": "python3"
  },
  "language_info": {
   "codemirror_mode": {
    "name": "ipython",
    "version": 3
   },
   "file_extension": ".py",
   "mimetype": "text/x-python",
   "name": "python",
   "nbconvert_exporter": "python",
   "pygments_lexer": "ipython3",
   "version": "3.11.7"
  }
 },
 "nbformat": 4,
 "nbformat_minor": 2
}
